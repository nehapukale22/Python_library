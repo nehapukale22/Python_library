{
  "metadata": {
    "language_info": {
      "codemirror_mode": {
        "name": "python",
        "version": 3
      },
      "file_extension": ".py",
      "mimetype": "text/x-python",
      "name": "python",
      "nbconvert_exporter": "python",
      "pygments_lexer": "ipython3",
      "version": "3.8"
    },
    "kernelspec": {
      "name": "python",
      "display_name": "Python (Pyodide)",
      "language": "python"
    }
  },
  "nbformat_minor": 4,
  "nbformat": 4,
  "cells": [
    {
      "cell_type": "code",
      "source": "#**************PART 7***********",
      "metadata": {
        "trusted": true
      },
      "execution_count": 1,
      "outputs": []
    },
    {
      "cell_type": "code",
      "source": "import pandas as pd",
      "metadata": {
        "trusted": true
      },
      "execution_count": 2,
      "outputs": []
    },
    {
      "cell_type": "code",
      "source": "df=pd.read_csv(\"Fortune_10.csv\",skiprows=1)\ndf",
      "metadata": {
        "trusted": true
      },
      "execution_count": 7,
      "outputs": [
        {
          "execution_count": 7,
          "output_type": "execute_result",
          "data": {
            "text/plain": "   ID             Name             Industry  Inception       Revenue  \\\n0   1          Lamtone          IT Services       2009  $11,757,018    \n1   2        Stripfind   Financial Services       2010  $12,329,371    \n2   3  Canecorporation               Health       2012  $10,597,009    \n3   4         Mattouch          IT Services       2013  $14,026,934    \n4   5        Techdrill               Health       2009  $10,573,990    \n5   6         Techline               Health       2006  $13,898,119    \n6   7          Cityace               Health       2010   $9,254,614    \n7   8   Kayelectronics               Health       2009   $9,451,943    \n8   9          Ganzlax          IT Services       2011  $14,001,180    \n9  10      Trantraxlax  Government Services       2011  $11,088,336    \n\n            Expenses    Profit Growth  \n0  6,482,465 Dollars   5274553    30%  \n1    916,455 Dollars  11412916    20%  \n2  7,591,189 Dollars   3005820     7%  \n3  7,429,377 Dollars   6597557    26%  \n4  7,435,363 Dollars   3138627     8%  \n5  5,470,303 Dollars   8427816    23%  \n6  6,249,498 Dollars   3005116     6%  \n7  3,878,113 Dollars   5573830     4%  \n8                NaN  11901180    18%  \n9  5,635,276 Dollars   5453060     7%  ",
            "text/html": "<div>\n<style scoped>\n    .dataframe tbody tr th:only-of-type {\n        vertical-align: middle;\n    }\n\n    .dataframe tbody tr th {\n        vertical-align: top;\n    }\n\n    .dataframe thead th {\n        text-align: right;\n    }\n</style>\n<table border=\"1\" class=\"dataframe\">\n  <thead>\n    <tr style=\"text-align: right;\">\n      <th></th>\n      <th>ID</th>\n      <th>Name</th>\n      <th>Industry</th>\n      <th>Inception</th>\n      <th>Revenue</th>\n      <th>Expenses</th>\n      <th>Profit</th>\n      <th>Growth</th>\n    </tr>\n  </thead>\n  <tbody>\n    <tr>\n      <th>0</th>\n      <td>1</td>\n      <td>Lamtone</td>\n      <td>IT Services</td>\n      <td>2009</td>\n      <td>$11,757,018</td>\n      <td>6,482,465 Dollars</td>\n      <td>5274553</td>\n      <td>30%</td>\n    </tr>\n    <tr>\n      <th>1</th>\n      <td>2</td>\n      <td>Stripfind</td>\n      <td>Financial Services</td>\n      <td>2010</td>\n      <td>$12,329,371</td>\n      <td>916,455 Dollars</td>\n      <td>11412916</td>\n      <td>20%</td>\n    </tr>\n    <tr>\n      <th>2</th>\n      <td>3</td>\n      <td>Canecorporation</td>\n      <td>Health</td>\n      <td>2012</td>\n      <td>$10,597,009</td>\n      <td>7,591,189 Dollars</td>\n      <td>3005820</td>\n      <td>7%</td>\n    </tr>\n    <tr>\n      <th>3</th>\n      <td>4</td>\n      <td>Mattouch</td>\n      <td>IT Services</td>\n      <td>2013</td>\n      <td>$14,026,934</td>\n      <td>7,429,377 Dollars</td>\n      <td>6597557</td>\n      <td>26%</td>\n    </tr>\n    <tr>\n      <th>4</th>\n      <td>5</td>\n      <td>Techdrill</td>\n      <td>Health</td>\n      <td>2009</td>\n      <td>$10,573,990</td>\n      <td>7,435,363 Dollars</td>\n      <td>3138627</td>\n      <td>8%</td>\n    </tr>\n    <tr>\n      <th>5</th>\n      <td>6</td>\n      <td>Techline</td>\n      <td>Health</td>\n      <td>2006</td>\n      <td>$13,898,119</td>\n      <td>5,470,303 Dollars</td>\n      <td>8427816</td>\n      <td>23%</td>\n    </tr>\n    <tr>\n      <th>6</th>\n      <td>7</td>\n      <td>Cityace</td>\n      <td>Health</td>\n      <td>2010</td>\n      <td>$9,254,614</td>\n      <td>6,249,498 Dollars</td>\n      <td>3005116</td>\n      <td>6%</td>\n    </tr>\n    <tr>\n      <th>7</th>\n      <td>8</td>\n      <td>Kayelectronics</td>\n      <td>Health</td>\n      <td>2009</td>\n      <td>$9,451,943</td>\n      <td>3,878,113 Dollars</td>\n      <td>5573830</td>\n      <td>4%</td>\n    </tr>\n    <tr>\n      <th>8</th>\n      <td>9</td>\n      <td>Ganzlax</td>\n      <td>IT Services</td>\n      <td>2011</td>\n      <td>$14,001,180</td>\n      <td>NaN</td>\n      <td>11901180</td>\n      <td>18%</td>\n    </tr>\n    <tr>\n      <th>9</th>\n      <td>10</td>\n      <td>Trantraxlax</td>\n      <td>Government Services</td>\n      <td>2011</td>\n      <td>$11,088,336</td>\n      <td>5,635,276 Dollars</td>\n      <td>5453060</td>\n      <td>7%</td>\n    </tr>\n  </tbody>\n</table>\n</div>"
          },
          "metadata": {}
        }
      ]
    },
    {
      "cell_type": "code",
      "source": "#head is for fetching first 5 rows\ndf.head()",
      "metadata": {
        "trusted": true
      },
      "execution_count": 8,
      "outputs": [
        {
          "execution_count": 8,
          "output_type": "execute_result",
          "data": {
            "text/plain": "   ID             Name            Industry  Inception       Revenue  \\\n0   1          Lamtone         IT Services       2009  $11,757,018    \n1   2        Stripfind  Financial Services       2010  $12,329,371    \n2   3  Canecorporation              Health       2012  $10,597,009    \n3   4         Mattouch         IT Services       2013  $14,026,934    \n4   5        Techdrill              Health       2009  $10,573,990    \n\n            Expenses    Profit Growth  \n0  6,482,465 Dollars   5274553    30%  \n1    916,455 Dollars  11412916    20%  \n2  7,591,189 Dollars   3005820     7%  \n3  7,429,377 Dollars   6597557    26%  \n4  7,435,363 Dollars   3138627     8%  ",
            "text/html": "<div>\n<style scoped>\n    .dataframe tbody tr th:only-of-type {\n        vertical-align: middle;\n    }\n\n    .dataframe tbody tr th {\n        vertical-align: top;\n    }\n\n    .dataframe thead th {\n        text-align: right;\n    }\n</style>\n<table border=\"1\" class=\"dataframe\">\n  <thead>\n    <tr style=\"text-align: right;\">\n      <th></th>\n      <th>ID</th>\n      <th>Name</th>\n      <th>Industry</th>\n      <th>Inception</th>\n      <th>Revenue</th>\n      <th>Expenses</th>\n      <th>Profit</th>\n      <th>Growth</th>\n    </tr>\n  </thead>\n  <tbody>\n    <tr>\n      <th>0</th>\n      <td>1</td>\n      <td>Lamtone</td>\n      <td>IT Services</td>\n      <td>2009</td>\n      <td>$11,757,018</td>\n      <td>6,482,465 Dollars</td>\n      <td>5274553</td>\n      <td>30%</td>\n    </tr>\n    <tr>\n      <th>1</th>\n      <td>2</td>\n      <td>Stripfind</td>\n      <td>Financial Services</td>\n      <td>2010</td>\n      <td>$12,329,371</td>\n      <td>916,455 Dollars</td>\n      <td>11412916</td>\n      <td>20%</td>\n    </tr>\n    <tr>\n      <th>2</th>\n      <td>3</td>\n      <td>Canecorporation</td>\n      <td>Health</td>\n      <td>2012</td>\n      <td>$10,597,009</td>\n      <td>7,591,189 Dollars</td>\n      <td>3005820</td>\n      <td>7%</td>\n    </tr>\n    <tr>\n      <th>3</th>\n      <td>4</td>\n      <td>Mattouch</td>\n      <td>IT Services</td>\n      <td>2013</td>\n      <td>$14,026,934</td>\n      <td>7,429,377 Dollars</td>\n      <td>6597557</td>\n      <td>26%</td>\n    </tr>\n    <tr>\n      <th>4</th>\n      <td>5</td>\n      <td>Techdrill</td>\n      <td>Health</td>\n      <td>2009</td>\n      <td>$10,573,990</td>\n      <td>7,435,363 Dollars</td>\n      <td>3138627</td>\n      <td>8%</td>\n    </tr>\n  </tbody>\n</table>\n</div>"
          },
          "metadata": {}
        }
      ]
    },
    {
      "cell_type": "code",
      "source": "#for printing any number of rows from starting",
      "metadata": {
        "trusted": true
      },
      "execution_count": 5,
      "outputs": []
    },
    {
      "cell_type": "code",
      "source": "df.head(1)",
      "metadata": {
        "trusted": true
      },
      "execution_count": 9,
      "outputs": [
        {
          "execution_count": 9,
          "output_type": "execute_result",
          "data": {
            "text/plain": "   ID     Name     Industry  Inception       Revenue           Expenses  \\\n0   1  Lamtone  IT Services       2009  $11,757,018   6,482,465 Dollars   \n\n    Profit Growth  \n0  5274553    30%  ",
            "text/html": "<div>\n<style scoped>\n    .dataframe tbody tr th:only-of-type {\n        vertical-align: middle;\n    }\n\n    .dataframe tbody tr th {\n        vertical-align: top;\n    }\n\n    .dataframe thead th {\n        text-align: right;\n    }\n</style>\n<table border=\"1\" class=\"dataframe\">\n  <thead>\n    <tr style=\"text-align: right;\">\n      <th></th>\n      <th>ID</th>\n      <th>Name</th>\n      <th>Industry</th>\n      <th>Inception</th>\n      <th>Revenue</th>\n      <th>Expenses</th>\n      <th>Profit</th>\n      <th>Growth</th>\n    </tr>\n  </thead>\n  <tbody>\n    <tr>\n      <th>0</th>\n      <td>1</td>\n      <td>Lamtone</td>\n      <td>IT Services</td>\n      <td>2009</td>\n      <td>$11,757,018</td>\n      <td>6,482,465 Dollars</td>\n      <td>5274553</td>\n      <td>30%</td>\n    </tr>\n  </tbody>\n</table>\n</div>"
          },
          "metadata": {}
        }
      ]
    },
    {
      "cell_type": "code",
      "source": "#tail is for fetching last 5 rows",
      "metadata": {
        "trusted": true
      },
      "execution_count": 10,
      "outputs": []
    },
    {
      "cell_type": "code",
      "source": "#default value 5",
      "metadata": {
        "trusted": true
      },
      "execution_count": 11,
      "outputs": []
    },
    {
      "cell_type": "code",
      "source": "df.tail()",
      "metadata": {
        "trusted": true
      },
      "execution_count": 12,
      "outputs": [
        {
          "execution_count": 12,
          "output_type": "execute_result",
          "data": {
            "text/plain": "   ID            Name             Industry  Inception       Revenue  \\\n5   6        Techline               Health       2006  $13,898,119    \n6   7         Cityace               Health       2010   $9,254,614    \n7   8  Kayelectronics               Health       2009   $9,451,943    \n8   9         Ganzlax          IT Services       2011  $14,001,180    \n9  10     Trantraxlax  Government Services       2011  $11,088,336    \n\n            Expenses    Profit Growth  \n5  5,470,303 Dollars   8427816    23%  \n6  6,249,498 Dollars   3005116     6%  \n7  3,878,113 Dollars   5573830     4%  \n8                NaN  11901180    18%  \n9  5,635,276 Dollars   5453060     7%  ",
            "text/html": "<div>\n<style scoped>\n    .dataframe tbody tr th:only-of-type {\n        vertical-align: middle;\n    }\n\n    .dataframe tbody tr th {\n        vertical-align: top;\n    }\n\n    .dataframe thead th {\n        text-align: right;\n    }\n</style>\n<table border=\"1\" class=\"dataframe\">\n  <thead>\n    <tr style=\"text-align: right;\">\n      <th></th>\n      <th>ID</th>\n      <th>Name</th>\n      <th>Industry</th>\n      <th>Inception</th>\n      <th>Revenue</th>\n      <th>Expenses</th>\n      <th>Profit</th>\n      <th>Growth</th>\n    </tr>\n  </thead>\n  <tbody>\n    <tr>\n      <th>5</th>\n      <td>6</td>\n      <td>Techline</td>\n      <td>Health</td>\n      <td>2006</td>\n      <td>$13,898,119</td>\n      <td>5,470,303 Dollars</td>\n      <td>8427816</td>\n      <td>23%</td>\n    </tr>\n    <tr>\n      <th>6</th>\n      <td>7</td>\n      <td>Cityace</td>\n      <td>Health</td>\n      <td>2010</td>\n      <td>$9,254,614</td>\n      <td>6,249,498 Dollars</td>\n      <td>3005116</td>\n      <td>6%</td>\n    </tr>\n    <tr>\n      <th>7</th>\n      <td>8</td>\n      <td>Kayelectronics</td>\n      <td>Health</td>\n      <td>2009</td>\n      <td>$9,451,943</td>\n      <td>3,878,113 Dollars</td>\n      <td>5573830</td>\n      <td>4%</td>\n    </tr>\n    <tr>\n      <th>8</th>\n      <td>9</td>\n      <td>Ganzlax</td>\n      <td>IT Services</td>\n      <td>2011</td>\n      <td>$14,001,180</td>\n      <td>NaN</td>\n      <td>11901180</td>\n      <td>18%</td>\n    </tr>\n    <tr>\n      <th>9</th>\n      <td>10</td>\n      <td>Trantraxlax</td>\n      <td>Government Services</td>\n      <td>2011</td>\n      <td>$11,088,336</td>\n      <td>5,635,276 Dollars</td>\n      <td>5453060</td>\n      <td>7%</td>\n    </tr>\n  </tbody>\n</table>\n</div>"
          },
          "metadata": {}
        }
      ]
    },
    {
      "cell_type": "code",
      "source": "df.tail(2)",
      "metadata": {
        "trusted": true
      },
      "execution_count": 13,
      "outputs": [
        {
          "execution_count": 13,
          "output_type": "execute_result",
          "data": {
            "text/plain": "   ID         Name             Industry  Inception       Revenue  \\\n8   9      Ganzlax          IT Services       2011  $14,001,180    \n9  10  Trantraxlax  Government Services       2011  $11,088,336    \n\n            Expenses    Profit Growth  \n8                NaN  11901180    18%  \n9  5,635,276 Dollars   5453060     7%  ",
            "text/html": "<div>\n<style scoped>\n    .dataframe tbody tr th:only-of-type {\n        vertical-align: middle;\n    }\n\n    .dataframe tbody tr th {\n        vertical-align: top;\n    }\n\n    .dataframe thead th {\n        text-align: right;\n    }\n</style>\n<table border=\"1\" class=\"dataframe\">\n  <thead>\n    <tr style=\"text-align: right;\">\n      <th></th>\n      <th>ID</th>\n      <th>Name</th>\n      <th>Industry</th>\n      <th>Inception</th>\n      <th>Revenue</th>\n      <th>Expenses</th>\n      <th>Profit</th>\n      <th>Growth</th>\n    </tr>\n  </thead>\n  <tbody>\n    <tr>\n      <th>8</th>\n      <td>9</td>\n      <td>Ganzlax</td>\n      <td>IT Services</td>\n      <td>2011</td>\n      <td>$14,001,180</td>\n      <td>NaN</td>\n      <td>11901180</td>\n      <td>18%</td>\n    </tr>\n    <tr>\n      <th>9</th>\n      <td>10</td>\n      <td>Trantraxlax</td>\n      <td>Government Services</td>\n      <td>2011</td>\n      <td>$11,088,336</td>\n      <td>5,635,276 Dollars</td>\n      <td>5453060</td>\n      <td>7%</td>\n    </tr>\n  </tbody>\n</table>\n</div>"
          },
          "metadata": {}
        }
      ]
    },
    {
      "cell_type": "code",
      "source": "df.tail(7)",
      "metadata": {
        "trusted": true
      },
      "execution_count": 14,
      "outputs": [
        {
          "execution_count": 14,
          "output_type": "execute_result",
          "data": {
            "text/plain": "   ID            Name             Industry  Inception       Revenue  \\\n3   4        Mattouch          IT Services       2013  $14,026,934    \n4   5       Techdrill               Health       2009  $10,573,990    \n5   6        Techline               Health       2006  $13,898,119    \n6   7         Cityace               Health       2010   $9,254,614    \n7   8  Kayelectronics               Health       2009   $9,451,943    \n8   9         Ganzlax          IT Services       2011  $14,001,180    \n9  10     Trantraxlax  Government Services       2011  $11,088,336    \n\n            Expenses    Profit Growth  \n3  7,429,377 Dollars   6597557    26%  \n4  7,435,363 Dollars   3138627     8%  \n5  5,470,303 Dollars   8427816    23%  \n6  6,249,498 Dollars   3005116     6%  \n7  3,878,113 Dollars   5573830     4%  \n8                NaN  11901180    18%  \n9  5,635,276 Dollars   5453060     7%  ",
            "text/html": "<div>\n<style scoped>\n    .dataframe tbody tr th:only-of-type {\n        vertical-align: middle;\n    }\n\n    .dataframe tbody tr th {\n        vertical-align: top;\n    }\n\n    .dataframe thead th {\n        text-align: right;\n    }\n</style>\n<table border=\"1\" class=\"dataframe\">\n  <thead>\n    <tr style=\"text-align: right;\">\n      <th></th>\n      <th>ID</th>\n      <th>Name</th>\n      <th>Industry</th>\n      <th>Inception</th>\n      <th>Revenue</th>\n      <th>Expenses</th>\n      <th>Profit</th>\n      <th>Growth</th>\n    </tr>\n  </thead>\n  <tbody>\n    <tr>\n      <th>3</th>\n      <td>4</td>\n      <td>Mattouch</td>\n      <td>IT Services</td>\n      <td>2013</td>\n      <td>$14,026,934</td>\n      <td>7,429,377 Dollars</td>\n      <td>6597557</td>\n      <td>26%</td>\n    </tr>\n    <tr>\n      <th>4</th>\n      <td>5</td>\n      <td>Techdrill</td>\n      <td>Health</td>\n      <td>2009</td>\n      <td>$10,573,990</td>\n      <td>7,435,363 Dollars</td>\n      <td>3138627</td>\n      <td>8%</td>\n    </tr>\n    <tr>\n      <th>5</th>\n      <td>6</td>\n      <td>Techline</td>\n      <td>Health</td>\n      <td>2006</td>\n      <td>$13,898,119</td>\n      <td>5,470,303 Dollars</td>\n      <td>8427816</td>\n      <td>23%</td>\n    </tr>\n    <tr>\n      <th>6</th>\n      <td>7</td>\n      <td>Cityace</td>\n      <td>Health</td>\n      <td>2010</td>\n      <td>$9,254,614</td>\n      <td>6,249,498 Dollars</td>\n      <td>3005116</td>\n      <td>6%</td>\n    </tr>\n    <tr>\n      <th>7</th>\n      <td>8</td>\n      <td>Kayelectronics</td>\n      <td>Health</td>\n      <td>2009</td>\n      <td>$9,451,943</td>\n      <td>3,878,113 Dollars</td>\n      <td>5573830</td>\n      <td>4%</td>\n    </tr>\n    <tr>\n      <th>8</th>\n      <td>9</td>\n      <td>Ganzlax</td>\n      <td>IT Services</td>\n      <td>2011</td>\n      <td>$14,001,180</td>\n      <td>NaN</td>\n      <td>11901180</td>\n      <td>18%</td>\n    </tr>\n    <tr>\n      <th>9</th>\n      <td>10</td>\n      <td>Trantraxlax</td>\n      <td>Government Services</td>\n      <td>2011</td>\n      <td>$11,088,336</td>\n      <td>5,635,276 Dollars</td>\n      <td>5453060</td>\n      <td>7%</td>\n    </tr>\n  </tbody>\n</table>\n</div>"
          },
          "metadata": {}
        }
      ]
    },
    {
      "cell_type": "code",
      "source": "#to change datatype of any column\ndf=pd.read_csv(\"Fortune_10.csv\",skiprows=1,dtype={'ID':'float64'})\ndf",
      "metadata": {
        "trusted": true
      },
      "execution_count": 15,
      "outputs": [
        {
          "execution_count": 15,
          "output_type": "execute_result",
          "data": {
            "text/plain": "     ID             Name             Industry  Inception       Revenue  \\\n0   1.0          Lamtone          IT Services       2009  $11,757,018    \n1   2.0        Stripfind   Financial Services       2010  $12,329,371    \n2   3.0  Canecorporation               Health       2012  $10,597,009    \n3   4.0         Mattouch          IT Services       2013  $14,026,934    \n4   5.0        Techdrill               Health       2009  $10,573,990    \n5   6.0         Techline               Health       2006  $13,898,119    \n6   7.0          Cityace               Health       2010   $9,254,614    \n7   8.0   Kayelectronics               Health       2009   $9,451,943    \n8   9.0          Ganzlax          IT Services       2011  $14,001,180    \n9  10.0      Trantraxlax  Government Services       2011  $11,088,336    \n\n            Expenses    Profit Growth  \n0  6,482,465 Dollars   5274553    30%  \n1    916,455 Dollars  11412916    20%  \n2  7,591,189 Dollars   3005820     7%  \n3  7,429,377 Dollars   6597557    26%  \n4  7,435,363 Dollars   3138627     8%  \n5  5,470,303 Dollars   8427816    23%  \n6  6,249,498 Dollars   3005116     6%  \n7  3,878,113 Dollars   5573830     4%  \n8                NaN  11901180    18%  \n9  5,635,276 Dollars   5453060     7%  ",
            "text/html": "<div>\n<style scoped>\n    .dataframe tbody tr th:only-of-type {\n        vertical-align: middle;\n    }\n\n    .dataframe tbody tr th {\n        vertical-align: top;\n    }\n\n    .dataframe thead th {\n        text-align: right;\n    }\n</style>\n<table border=\"1\" class=\"dataframe\">\n  <thead>\n    <tr style=\"text-align: right;\">\n      <th></th>\n      <th>ID</th>\n      <th>Name</th>\n      <th>Industry</th>\n      <th>Inception</th>\n      <th>Revenue</th>\n      <th>Expenses</th>\n      <th>Profit</th>\n      <th>Growth</th>\n    </tr>\n  </thead>\n  <tbody>\n    <tr>\n      <th>0</th>\n      <td>1.0</td>\n      <td>Lamtone</td>\n      <td>IT Services</td>\n      <td>2009</td>\n      <td>$11,757,018</td>\n      <td>6,482,465 Dollars</td>\n      <td>5274553</td>\n      <td>30%</td>\n    </tr>\n    <tr>\n      <th>1</th>\n      <td>2.0</td>\n      <td>Stripfind</td>\n      <td>Financial Services</td>\n      <td>2010</td>\n      <td>$12,329,371</td>\n      <td>916,455 Dollars</td>\n      <td>11412916</td>\n      <td>20%</td>\n    </tr>\n    <tr>\n      <th>2</th>\n      <td>3.0</td>\n      <td>Canecorporation</td>\n      <td>Health</td>\n      <td>2012</td>\n      <td>$10,597,009</td>\n      <td>7,591,189 Dollars</td>\n      <td>3005820</td>\n      <td>7%</td>\n    </tr>\n    <tr>\n      <th>3</th>\n      <td>4.0</td>\n      <td>Mattouch</td>\n      <td>IT Services</td>\n      <td>2013</td>\n      <td>$14,026,934</td>\n      <td>7,429,377 Dollars</td>\n      <td>6597557</td>\n      <td>26%</td>\n    </tr>\n    <tr>\n      <th>4</th>\n      <td>5.0</td>\n      <td>Techdrill</td>\n      <td>Health</td>\n      <td>2009</td>\n      <td>$10,573,990</td>\n      <td>7,435,363 Dollars</td>\n      <td>3138627</td>\n      <td>8%</td>\n    </tr>\n    <tr>\n      <th>5</th>\n      <td>6.0</td>\n      <td>Techline</td>\n      <td>Health</td>\n      <td>2006</td>\n      <td>$13,898,119</td>\n      <td>5,470,303 Dollars</td>\n      <td>8427816</td>\n      <td>23%</td>\n    </tr>\n    <tr>\n      <th>6</th>\n      <td>7.0</td>\n      <td>Cityace</td>\n      <td>Health</td>\n      <td>2010</td>\n      <td>$9,254,614</td>\n      <td>6,249,498 Dollars</td>\n      <td>3005116</td>\n      <td>6%</td>\n    </tr>\n    <tr>\n      <th>7</th>\n      <td>8.0</td>\n      <td>Kayelectronics</td>\n      <td>Health</td>\n      <td>2009</td>\n      <td>$9,451,943</td>\n      <td>3,878,113 Dollars</td>\n      <td>5573830</td>\n      <td>4%</td>\n    </tr>\n    <tr>\n      <th>8</th>\n      <td>9.0</td>\n      <td>Ganzlax</td>\n      <td>IT Services</td>\n      <td>2011</td>\n      <td>$14,001,180</td>\n      <td>NaN</td>\n      <td>11901180</td>\n      <td>18%</td>\n    </tr>\n    <tr>\n      <th>9</th>\n      <td>10.0</td>\n      <td>Trantraxlax</td>\n      <td>Government Services</td>\n      <td>2011</td>\n      <td>$11,088,336</td>\n      <td>5,635,276 Dollars</td>\n      <td>5453060</td>\n      <td>7%</td>\n    </tr>\n  </tbody>\n</table>\n</div>"
          },
          "metadata": {}
        }
      ]
    },
    {
      "cell_type": "code",
      "source": "#u can change datatype of multiple columns as well by using comma",
      "metadata": {
        "trusted": true
      },
      "execution_count": 16,
      "outputs": []
    },
    {
      "cell_type": "code",
      "source": "df=pd.read_csv(\"Fortune_10.csv\",dtype={'ID':'float','Profit':'float64'})\ndf",
      "metadata": {
        "trusted": true
      },
      "execution_count": 25,
      "outputs": [
        {
          "execution_count": 25,
          "output_type": "execute_result",
          "data": {
            "text/plain": "     ID Date             Name             Industry  Inception       Revenue  \\\n0   1.0  Yes          Lamtone          IT Services       2009  $11,757,018    \n1   2.0  Yes        Stripfind   Financial Services       2010  $12,329,371    \n2   3.0  Yes  Canecorporation               Health       2012  $10,597,009    \n3   4.0  Yes         Mattouch          IT Services       2013  $14,026,934    \n4   5.0  Yes        Techdrill               Health       2009  $10,573,990    \n5   6.0  Yes         Techline               Health       2006  $13,898,119    \n6   7.0  Yes          Cityace               Health       2010   $9,254,614    \n7   8.0  Yes   Kayelectronics               Health       2009   $9,451,943    \n8   9.0  Yes          Ganzlax          IT Services       2011  $14,001,180    \n9  10.0  Yes      Trantraxlax  Government Services       2011  $11,088,336    \n\n            Expenses      Profit Growth  \n0  6,482,465 Dollars   5274553.0    30%  \n1    916,455 Dollars  11412916.0    20%  \n2  7,591,189 Dollars   3005820.0     7%  \n3  7,429,377 Dollars   6597557.0    26%  \n4  7,435,363 Dollars   3138627.0     8%  \n5  5,470,303 Dollars   8427816.0    23%  \n6  6,249,498 Dollars   3005116.0     6%  \n7  3,878,113 Dollars   5573830.0     4%  \n8                NaN  11901180.0    18%  \n9  5,635,276 Dollars   5453060.0     7%  ",
            "text/html": "<div>\n<style scoped>\n    .dataframe tbody tr th:only-of-type {\n        vertical-align: middle;\n    }\n\n    .dataframe tbody tr th {\n        vertical-align: top;\n    }\n\n    .dataframe thead th {\n        text-align: right;\n    }\n</style>\n<table border=\"1\" class=\"dataframe\">\n  <thead>\n    <tr style=\"text-align: right;\">\n      <th></th>\n      <th>ID</th>\n      <th>Date</th>\n      <th>Name</th>\n      <th>Industry</th>\n      <th>Inception</th>\n      <th>Revenue</th>\n      <th>Expenses</th>\n      <th>Profit</th>\n      <th>Growth</th>\n    </tr>\n  </thead>\n  <tbody>\n    <tr>\n      <th>0</th>\n      <td>1.0</td>\n      <td>Yes</td>\n      <td>Lamtone</td>\n      <td>IT Services</td>\n      <td>2009</td>\n      <td>$11,757,018</td>\n      <td>6,482,465 Dollars</td>\n      <td>5274553.0</td>\n      <td>30%</td>\n    </tr>\n    <tr>\n      <th>1</th>\n      <td>2.0</td>\n      <td>Yes</td>\n      <td>Stripfind</td>\n      <td>Financial Services</td>\n      <td>2010</td>\n      <td>$12,329,371</td>\n      <td>916,455 Dollars</td>\n      <td>11412916.0</td>\n      <td>20%</td>\n    </tr>\n    <tr>\n      <th>2</th>\n      <td>3.0</td>\n      <td>Yes</td>\n      <td>Canecorporation</td>\n      <td>Health</td>\n      <td>2012</td>\n      <td>$10,597,009</td>\n      <td>7,591,189 Dollars</td>\n      <td>3005820.0</td>\n      <td>7%</td>\n    </tr>\n    <tr>\n      <th>3</th>\n      <td>4.0</td>\n      <td>Yes</td>\n      <td>Mattouch</td>\n      <td>IT Services</td>\n      <td>2013</td>\n      <td>$14,026,934</td>\n      <td>7,429,377 Dollars</td>\n      <td>6597557.0</td>\n      <td>26%</td>\n    </tr>\n    <tr>\n      <th>4</th>\n      <td>5.0</td>\n      <td>Yes</td>\n      <td>Techdrill</td>\n      <td>Health</td>\n      <td>2009</td>\n      <td>$10,573,990</td>\n      <td>7,435,363 Dollars</td>\n      <td>3138627.0</td>\n      <td>8%</td>\n    </tr>\n    <tr>\n      <th>5</th>\n      <td>6.0</td>\n      <td>Yes</td>\n      <td>Techline</td>\n      <td>Health</td>\n      <td>2006</td>\n      <td>$13,898,119</td>\n      <td>5,470,303 Dollars</td>\n      <td>8427816.0</td>\n      <td>23%</td>\n    </tr>\n    <tr>\n      <th>6</th>\n      <td>7.0</td>\n      <td>Yes</td>\n      <td>Cityace</td>\n      <td>Health</td>\n      <td>2010</td>\n      <td>$9,254,614</td>\n      <td>6,249,498 Dollars</td>\n      <td>3005116.0</td>\n      <td>6%</td>\n    </tr>\n    <tr>\n      <th>7</th>\n      <td>8.0</td>\n      <td>Yes</td>\n      <td>Kayelectronics</td>\n      <td>Health</td>\n      <td>2009</td>\n      <td>$9,451,943</td>\n      <td>3,878,113 Dollars</td>\n      <td>5573830.0</td>\n      <td>4%</td>\n    </tr>\n    <tr>\n      <th>8</th>\n      <td>9.0</td>\n      <td>Yes</td>\n      <td>Ganzlax</td>\n      <td>IT Services</td>\n      <td>2011</td>\n      <td>$14,001,180</td>\n      <td>NaN</td>\n      <td>11901180.0</td>\n      <td>18%</td>\n    </tr>\n    <tr>\n      <th>9</th>\n      <td>10.0</td>\n      <td>Yes</td>\n      <td>Trantraxlax</td>\n      <td>Government Services</td>\n      <td>2011</td>\n      <td>$11,088,336</td>\n      <td>5,635,276 Dollars</td>\n      <td>5453060.0</td>\n      <td>7%</td>\n    </tr>\n  </tbody>\n</table>\n</div>"
          },
          "metadata": {}
        }
      ]
    },
    {
      "cell_type": "code",
      "source": "#If u wanna print True in place of Yes",
      "metadata": {
        "trusted": true
      },
      "execution_count": 23,
      "outputs": []
    },
    {
      "cell_type": "code",
      "source": "df=pd.read_csv(\"Fortune_10.csv\",true_values=['Yes'])\ndf",
      "metadata": {
        "trusted": true
      },
      "execution_count": 26,
      "outputs": [
        {
          "execution_count": 26,
          "output_type": "execute_result",
          "data": {
            "text/plain": "   ID  Date             Name             Industry  Inception       Revenue  \\\n0   1  True          Lamtone          IT Services       2009  $11,757,018    \n1   2  True        Stripfind   Financial Services       2010  $12,329,371    \n2   3  True  Canecorporation               Health       2012  $10,597,009    \n3   4  True         Mattouch          IT Services       2013  $14,026,934    \n4   5  True        Techdrill               Health       2009  $10,573,990    \n5   6  True         Techline               Health       2006  $13,898,119    \n6   7  True          Cityace               Health       2010   $9,254,614    \n7   8  True   Kayelectronics               Health       2009   $9,451,943    \n8   9  True          Ganzlax          IT Services       2011  $14,001,180    \n9  10  True      Trantraxlax  Government Services       2011  $11,088,336    \n\n            Expenses    Profit Growth  \n0  6,482,465 Dollars   5274553    30%  \n1    916,455 Dollars  11412916    20%  \n2  7,591,189 Dollars   3005820     7%  \n3  7,429,377 Dollars   6597557    26%  \n4  7,435,363 Dollars   3138627     8%  \n5  5,470,303 Dollars   8427816    23%  \n6  6,249,498 Dollars   3005116     6%  \n7  3,878,113 Dollars   5573830     4%  \n8                NaN  11901180    18%  \n9  5,635,276 Dollars   5453060     7%  ",
            "text/html": "<div>\n<style scoped>\n    .dataframe tbody tr th:only-of-type {\n        vertical-align: middle;\n    }\n\n    .dataframe tbody tr th {\n        vertical-align: top;\n    }\n\n    .dataframe thead th {\n        text-align: right;\n    }\n</style>\n<table border=\"1\" class=\"dataframe\">\n  <thead>\n    <tr style=\"text-align: right;\">\n      <th></th>\n      <th>ID</th>\n      <th>Date</th>\n      <th>Name</th>\n      <th>Industry</th>\n      <th>Inception</th>\n      <th>Revenue</th>\n      <th>Expenses</th>\n      <th>Profit</th>\n      <th>Growth</th>\n    </tr>\n  </thead>\n  <tbody>\n    <tr>\n      <th>0</th>\n      <td>1</td>\n      <td>True</td>\n      <td>Lamtone</td>\n      <td>IT Services</td>\n      <td>2009</td>\n      <td>$11,757,018</td>\n      <td>6,482,465 Dollars</td>\n      <td>5274553</td>\n      <td>30%</td>\n    </tr>\n    <tr>\n      <th>1</th>\n      <td>2</td>\n      <td>True</td>\n      <td>Stripfind</td>\n      <td>Financial Services</td>\n      <td>2010</td>\n      <td>$12,329,371</td>\n      <td>916,455 Dollars</td>\n      <td>11412916</td>\n      <td>20%</td>\n    </tr>\n    <tr>\n      <th>2</th>\n      <td>3</td>\n      <td>True</td>\n      <td>Canecorporation</td>\n      <td>Health</td>\n      <td>2012</td>\n      <td>$10,597,009</td>\n      <td>7,591,189 Dollars</td>\n      <td>3005820</td>\n      <td>7%</td>\n    </tr>\n    <tr>\n      <th>3</th>\n      <td>4</td>\n      <td>True</td>\n      <td>Mattouch</td>\n      <td>IT Services</td>\n      <td>2013</td>\n      <td>$14,026,934</td>\n      <td>7,429,377 Dollars</td>\n      <td>6597557</td>\n      <td>26%</td>\n    </tr>\n    <tr>\n      <th>4</th>\n      <td>5</td>\n      <td>True</td>\n      <td>Techdrill</td>\n      <td>Health</td>\n      <td>2009</td>\n      <td>$10,573,990</td>\n      <td>7,435,363 Dollars</td>\n      <td>3138627</td>\n      <td>8%</td>\n    </tr>\n    <tr>\n      <th>5</th>\n      <td>6</td>\n      <td>True</td>\n      <td>Techline</td>\n      <td>Health</td>\n      <td>2006</td>\n      <td>$13,898,119</td>\n      <td>5,470,303 Dollars</td>\n      <td>8427816</td>\n      <td>23%</td>\n    </tr>\n    <tr>\n      <th>6</th>\n      <td>7</td>\n      <td>True</td>\n      <td>Cityace</td>\n      <td>Health</td>\n      <td>2010</td>\n      <td>$9,254,614</td>\n      <td>6,249,498 Dollars</td>\n      <td>3005116</td>\n      <td>6%</td>\n    </tr>\n    <tr>\n      <th>7</th>\n      <td>8</td>\n      <td>True</td>\n      <td>Kayelectronics</td>\n      <td>Health</td>\n      <td>2009</td>\n      <td>$9,451,943</td>\n      <td>3,878,113 Dollars</td>\n      <td>5573830</td>\n      <td>4%</td>\n    </tr>\n    <tr>\n      <th>8</th>\n      <td>9</td>\n      <td>True</td>\n      <td>Ganzlax</td>\n      <td>IT Services</td>\n      <td>2011</td>\n      <td>$14,001,180</td>\n      <td>NaN</td>\n      <td>11901180</td>\n      <td>18%</td>\n    </tr>\n    <tr>\n      <th>9</th>\n      <td>10</td>\n      <td>True</td>\n      <td>Trantraxlax</td>\n      <td>Government Services</td>\n      <td>2011</td>\n      <td>$11,088,336</td>\n      <td>5,635,276 Dollars</td>\n      <td>5453060</td>\n      <td>7%</td>\n    </tr>\n  </tbody>\n</table>\n</div>"
          },
          "metadata": {}
        }
      ]
    },
    {
      "cell_type": "code",
      "source": "#if u wanna print False in place of unnecessary value",
      "metadata": {
        "trusted": true
      },
      "execution_count": 28,
      "outputs": []
    },
    {
      "cell_type": "code",
      "source": "#for that we are using false_values",
      "metadata": {
        "trusted": true
      },
      "execution_count": 29,
      "outputs": []
    },
    {
      "cell_type": "code",
      "source": "df=pd.read_csv(\"Fortune_10.csv\",false_values=['No'],true_values=['Yes'])\ndf",
      "metadata": {
        "trusted": true
      },
      "execution_count": 30,
      "outputs": [
        {
          "execution_count": 30,
          "output_type": "execute_result",
          "data": {
            "text/plain": "   ID  Date             Name             Industry  Inception       Revenue  \\\n0   1  True          Lamtone          IT Services       2009  $11,757,018    \n1   2  True        Stripfind   Financial Services       2010  $12,329,371    \n2   3  True  Canecorporation               Health       2012  $10,597,009    \n3   4  True         Mattouch          IT Services       2013  $14,026,934    \n4   5  True        Techdrill               Health       2009  $10,573,990    \n5   6  True         Techline               Health       2006  $13,898,119    \n6   7  True          Cityace               Health       2010   $9,254,614    \n7   8  True   Kayelectronics               Health       2009   $9,451,943    \n8   9  True          Ganzlax          IT Services       2011  $14,001,180    \n9  10  True      Trantraxlax  Government Services       2011  $11,088,336    \n\n            Expenses    Profit Growth  \n0  6,482,465 Dollars   5274553    30%  \n1    916,455 Dollars  11412916    20%  \n2  7,591,189 Dollars   3005820     7%  \n3  7,429,377 Dollars   6597557    26%  \n4  7,435,363 Dollars   3138627     8%  \n5  5,470,303 Dollars   8427816    23%  \n6  6,249,498 Dollars   3005116     6%  \n7  3,878,113 Dollars   5573830     4%  \n8                NaN  11901180    18%  \n9  5,635,276 Dollars   5453060     7%  ",
            "text/html": "<div>\n<style scoped>\n    .dataframe tbody tr th:only-of-type {\n        vertical-align: middle;\n    }\n\n    .dataframe tbody tr th {\n        vertical-align: top;\n    }\n\n    .dataframe thead th {\n        text-align: right;\n    }\n</style>\n<table border=\"1\" class=\"dataframe\">\n  <thead>\n    <tr style=\"text-align: right;\">\n      <th></th>\n      <th>ID</th>\n      <th>Date</th>\n      <th>Name</th>\n      <th>Industry</th>\n      <th>Inception</th>\n      <th>Revenue</th>\n      <th>Expenses</th>\n      <th>Profit</th>\n      <th>Growth</th>\n    </tr>\n  </thead>\n  <tbody>\n    <tr>\n      <th>0</th>\n      <td>1</td>\n      <td>True</td>\n      <td>Lamtone</td>\n      <td>IT Services</td>\n      <td>2009</td>\n      <td>$11,757,018</td>\n      <td>6,482,465 Dollars</td>\n      <td>5274553</td>\n      <td>30%</td>\n    </tr>\n    <tr>\n      <th>1</th>\n      <td>2</td>\n      <td>True</td>\n      <td>Stripfind</td>\n      <td>Financial Services</td>\n      <td>2010</td>\n      <td>$12,329,371</td>\n      <td>916,455 Dollars</td>\n      <td>11412916</td>\n      <td>20%</td>\n    </tr>\n    <tr>\n      <th>2</th>\n      <td>3</td>\n      <td>True</td>\n      <td>Canecorporation</td>\n      <td>Health</td>\n      <td>2012</td>\n      <td>$10,597,009</td>\n      <td>7,591,189 Dollars</td>\n      <td>3005820</td>\n      <td>7%</td>\n    </tr>\n    <tr>\n      <th>3</th>\n      <td>4</td>\n      <td>True</td>\n      <td>Mattouch</td>\n      <td>IT Services</td>\n      <td>2013</td>\n      <td>$14,026,934</td>\n      <td>7,429,377 Dollars</td>\n      <td>6597557</td>\n      <td>26%</td>\n    </tr>\n    <tr>\n      <th>4</th>\n      <td>5</td>\n      <td>True</td>\n      <td>Techdrill</td>\n      <td>Health</td>\n      <td>2009</td>\n      <td>$10,573,990</td>\n      <td>7,435,363 Dollars</td>\n      <td>3138627</td>\n      <td>8%</td>\n    </tr>\n    <tr>\n      <th>5</th>\n      <td>6</td>\n      <td>True</td>\n      <td>Techline</td>\n      <td>Health</td>\n      <td>2006</td>\n      <td>$13,898,119</td>\n      <td>5,470,303 Dollars</td>\n      <td>8427816</td>\n      <td>23%</td>\n    </tr>\n    <tr>\n      <th>6</th>\n      <td>7</td>\n      <td>True</td>\n      <td>Cityace</td>\n      <td>Health</td>\n      <td>2010</td>\n      <td>$9,254,614</td>\n      <td>6,249,498 Dollars</td>\n      <td>3005116</td>\n      <td>6%</td>\n    </tr>\n    <tr>\n      <th>7</th>\n      <td>8</td>\n      <td>True</td>\n      <td>Kayelectronics</td>\n      <td>Health</td>\n      <td>2009</td>\n      <td>$9,451,943</td>\n      <td>3,878,113 Dollars</td>\n      <td>5573830</td>\n      <td>4%</td>\n    </tr>\n    <tr>\n      <th>8</th>\n      <td>9</td>\n      <td>True</td>\n      <td>Ganzlax</td>\n      <td>IT Services</td>\n      <td>2011</td>\n      <td>$14,001,180</td>\n      <td>NaN</td>\n      <td>11901180</td>\n      <td>18%</td>\n    </tr>\n    <tr>\n      <th>9</th>\n      <td>10</td>\n      <td>True</td>\n      <td>Trantraxlax</td>\n      <td>Government Services</td>\n      <td>2011</td>\n      <td>$11,088,336</td>\n      <td>5,635,276 Dollars</td>\n      <td>5453060</td>\n      <td>7%</td>\n    </tr>\n  </tbody>\n</table>\n</div>"
          },
          "metadata": {}
        }
      ]
    },
    {
      "cell_type": "markdown",
      "source": "#**************************PART 8*****************************",
      "metadata": {}
    },
    {
      "cell_type": "code",
      "source": "import pandas as pd",
      "metadata": {
        "trusted": true
      },
      "execution_count": 3,
      "outputs": []
    },
    {
      "cell_type": "code",
      "source": "df=pd.read_csv(\"Fortune_10.csv\")\ndf",
      "metadata": {
        "trusted": true
      },
      "execution_count": 6,
      "outputs": [
        {
          "execution_count": 6,
          "output_type": "execute_result",
          "data": {
            "text/plain": "   ID Date             Name             Industry  Inception       Revenue  \\\n0   1  Yes          Lamtone          IT Services       2009  $11,757,018    \n1   2  Yes        Stripfind   Financial Services       2010  $12,329,371    \n2   3   No  Canecorporation               Health       2012  $10,597,009    \n3   4  Yes         Mattouch          IT Services       2013  $14,026,934    \n4   5   No        Techdrill                  NaN       2009  $10,573,990    \n5   6  Yes         Techline                  NaN       2006  $13,898,119    \n6   7  Yes          Cityace                  NaN       2010   $9,254,614    \n7   8   No   Kayelectronics                  NaN       2009   $9,451,943    \n8   9  Yes          Ganzlax          IT Services       2011  $14,001,180    \n9  10   No      Trantraxlax  Government Services       2011  $11,088,336    \n\n            Expenses    Profit Growth  \n0  6,482,465 Dollars   5274553    30%  \n1    916,455 Dollars  11412916    20%  \n2  7,591,189 Dollars   3005820     7%  \n3  7,429,377 Dollars   6597557    NaN  \n4  7,435,363 Dollars   3138627    NaN  \n5  5,470,303 Dollars   8427816    NaN  \n6  6,249,498 Dollars   3005116     6%  \n7  3,878,113 Dollars   5573830     4%  \n8                NaN  11901180    18%  \n9  5,635,276 Dollars   5453060     7%  ",
            "text/html": "<div>\n<style scoped>\n    .dataframe tbody tr th:only-of-type {\n        vertical-align: middle;\n    }\n\n    .dataframe tbody tr th {\n        vertical-align: top;\n    }\n\n    .dataframe thead th {\n        text-align: right;\n    }\n</style>\n<table border=\"1\" class=\"dataframe\">\n  <thead>\n    <tr style=\"text-align: right;\">\n      <th></th>\n      <th>ID</th>\n      <th>Date</th>\n      <th>Name</th>\n      <th>Industry</th>\n      <th>Inception</th>\n      <th>Revenue</th>\n      <th>Expenses</th>\n      <th>Profit</th>\n      <th>Growth</th>\n    </tr>\n  </thead>\n  <tbody>\n    <tr>\n      <th>0</th>\n      <td>1</td>\n      <td>Yes</td>\n      <td>Lamtone</td>\n      <td>IT Services</td>\n      <td>2009</td>\n      <td>$11,757,018</td>\n      <td>6,482,465 Dollars</td>\n      <td>5274553</td>\n      <td>30%</td>\n    </tr>\n    <tr>\n      <th>1</th>\n      <td>2</td>\n      <td>Yes</td>\n      <td>Stripfind</td>\n      <td>Financial Services</td>\n      <td>2010</td>\n      <td>$12,329,371</td>\n      <td>916,455 Dollars</td>\n      <td>11412916</td>\n      <td>20%</td>\n    </tr>\n    <tr>\n      <th>2</th>\n      <td>3</td>\n      <td>No</td>\n      <td>Canecorporation</td>\n      <td>Health</td>\n      <td>2012</td>\n      <td>$10,597,009</td>\n      <td>7,591,189 Dollars</td>\n      <td>3005820</td>\n      <td>7%</td>\n    </tr>\n    <tr>\n      <th>3</th>\n      <td>4</td>\n      <td>Yes</td>\n      <td>Mattouch</td>\n      <td>IT Services</td>\n      <td>2013</td>\n      <td>$14,026,934</td>\n      <td>7,429,377 Dollars</td>\n      <td>6597557</td>\n      <td>NaN</td>\n    </tr>\n    <tr>\n      <th>4</th>\n      <td>5</td>\n      <td>No</td>\n      <td>Techdrill</td>\n      <td>NaN</td>\n      <td>2009</td>\n      <td>$10,573,990</td>\n      <td>7,435,363 Dollars</td>\n      <td>3138627</td>\n      <td>NaN</td>\n    </tr>\n    <tr>\n      <th>5</th>\n      <td>6</td>\n      <td>Yes</td>\n      <td>Techline</td>\n      <td>NaN</td>\n      <td>2006</td>\n      <td>$13,898,119</td>\n      <td>5,470,303 Dollars</td>\n      <td>8427816</td>\n      <td>NaN</td>\n    </tr>\n    <tr>\n      <th>6</th>\n      <td>7</td>\n      <td>Yes</td>\n      <td>Cityace</td>\n      <td>NaN</td>\n      <td>2010</td>\n      <td>$9,254,614</td>\n      <td>6,249,498 Dollars</td>\n      <td>3005116</td>\n      <td>6%</td>\n    </tr>\n    <tr>\n      <th>7</th>\n      <td>8</td>\n      <td>No</td>\n      <td>Kayelectronics</td>\n      <td>NaN</td>\n      <td>2009</td>\n      <td>$9,451,943</td>\n      <td>3,878,113 Dollars</td>\n      <td>5573830</td>\n      <td>4%</td>\n    </tr>\n    <tr>\n      <th>8</th>\n      <td>9</td>\n      <td>Yes</td>\n      <td>Ganzlax</td>\n      <td>IT Services</td>\n      <td>2011</td>\n      <td>$14,001,180</td>\n      <td>NaN</td>\n      <td>11901180</td>\n      <td>18%</td>\n    </tr>\n    <tr>\n      <th>9</th>\n      <td>10</td>\n      <td>No</td>\n      <td>Trantraxlax</td>\n      <td>Government Services</td>\n      <td>2011</td>\n      <td>$11,088,336</td>\n      <td>5,635,276 Dollars</td>\n      <td>5453060</td>\n      <td>7%</td>\n    </tr>\n  </tbody>\n</table>\n</div>"
          },
          "metadata": {}
        }
      ]
    },
    {
      "cell_type": "code",
      "source": "#in the place of missing value it is printing NaN\n#it's pandas feature to consider it as NaN",
      "metadata": {
        "trusted": true
      },
      "execution_count": 8,
      "outputs": []
    },
    {
      "cell_type": "code",
      "source": "#It is considering the different string as NaN as well like===",
      "metadata": {
        "trusted": true
      },
      "execution_count": 10,
      "outputs": []
    },
    {
      "cell_type": "code",
      "source": "#N/A , -NaN  , null  ,#N/A N/A  , -nan  ,n/a  , #NA    , N/A  , nan , -1.#IND , NA, 1.#IND , -1.#QNAN , NULL,1.#QNAN",
      "metadata": {
        "trusted": true
      },
      "execution_count": 11,
      "outputs": []
    },
    {
      "cell_type": "code",
      "source": "#it is interpreting all above value as NAN ",
      "metadata": {
        "trusted": true
      },
      "execution_count": 12,
      "outputs": []
    },
    {
      "cell_type": "code",
      "source": "# Except all above if u have any other values unusable u can consider it as NaN as well",
      "metadata": {
        "trusted": true
      },
      "execution_count": 13,
      "outputs": []
    },
    {
      "cell_type": "code",
      "source": "df=pd.read_csv(\"Fortune_10.csv\")\ndf",
      "metadata": {
        "trusted": true
      },
      "execution_count": 14,
      "outputs": [
        {
          "execution_count": 14,
          "output_type": "execute_result",
          "data": {
            "text/plain": "   ID Date             Name             Industry  Inception       Revenue  \\\n0   1  Yes          Lamtone          IT Services       2009  $11,757,018    \n1   2  Yes        Stripfind   Financial Services       2010  $12,329,371    \n2   3   No  Canecorporation               Health       2012  $10,597,009    \n3   4  Yes         Mattouch          IT Services       2013  $14,026,934    \n4   5   No        Techdrill                  NaN       2009  $10,573,990    \n5   6  Yes         Techline                  NaN       2006  $13,898,119    \n6   7  Yes          Cityace        not available       2010   $9,254,614    \n7   8   No   Kayelectronics                  NaN       2009   $9,451,943    \n8   9  Yes          Ganzlax          IT Services       2011  $14,001,180    \n9  10   No      Trantraxlax  Government Services       2011  $11,088,336    \n\n            Expenses    Profit Growth  \n0  6,482,465 Dollars   5274553    30%  \n1    916,455 Dollars  11412916    20%  \n2  7,591,189 Dollars   3005820     7%  \n3  7,429,377 Dollars   6597557    NaN  \n4  7,435,363 Dollars   3138627    NaN  \n5  5,470,303 Dollars   8427816    NaN  \n6  6,249,498 Dollars   3005116     6%  \n7  3,878,113 Dollars   5573830     4%  \n8                NaN  11901180    18%  \n9  5,635,276 Dollars   5453060     7%  ",
            "text/html": "<div>\n<style scoped>\n    .dataframe tbody tr th:only-of-type {\n        vertical-align: middle;\n    }\n\n    .dataframe tbody tr th {\n        vertical-align: top;\n    }\n\n    .dataframe thead th {\n        text-align: right;\n    }\n</style>\n<table border=\"1\" class=\"dataframe\">\n  <thead>\n    <tr style=\"text-align: right;\">\n      <th></th>\n      <th>ID</th>\n      <th>Date</th>\n      <th>Name</th>\n      <th>Industry</th>\n      <th>Inception</th>\n      <th>Revenue</th>\n      <th>Expenses</th>\n      <th>Profit</th>\n      <th>Growth</th>\n    </tr>\n  </thead>\n  <tbody>\n    <tr>\n      <th>0</th>\n      <td>1</td>\n      <td>Yes</td>\n      <td>Lamtone</td>\n      <td>IT Services</td>\n      <td>2009</td>\n      <td>$11,757,018</td>\n      <td>6,482,465 Dollars</td>\n      <td>5274553</td>\n      <td>30%</td>\n    </tr>\n    <tr>\n      <th>1</th>\n      <td>2</td>\n      <td>Yes</td>\n      <td>Stripfind</td>\n      <td>Financial Services</td>\n      <td>2010</td>\n      <td>$12,329,371</td>\n      <td>916,455 Dollars</td>\n      <td>11412916</td>\n      <td>20%</td>\n    </tr>\n    <tr>\n      <th>2</th>\n      <td>3</td>\n      <td>No</td>\n      <td>Canecorporation</td>\n      <td>Health</td>\n      <td>2012</td>\n      <td>$10,597,009</td>\n      <td>7,591,189 Dollars</td>\n      <td>3005820</td>\n      <td>7%</td>\n    </tr>\n    <tr>\n      <th>3</th>\n      <td>4</td>\n      <td>Yes</td>\n      <td>Mattouch</td>\n      <td>IT Services</td>\n      <td>2013</td>\n      <td>$14,026,934</td>\n      <td>7,429,377 Dollars</td>\n      <td>6597557</td>\n      <td>NaN</td>\n    </tr>\n    <tr>\n      <th>4</th>\n      <td>5</td>\n      <td>No</td>\n      <td>Techdrill</td>\n      <td>NaN</td>\n      <td>2009</td>\n      <td>$10,573,990</td>\n      <td>7,435,363 Dollars</td>\n      <td>3138627</td>\n      <td>NaN</td>\n    </tr>\n    <tr>\n      <th>5</th>\n      <td>6</td>\n      <td>Yes</td>\n      <td>Techline</td>\n      <td>NaN</td>\n      <td>2006</td>\n      <td>$13,898,119</td>\n      <td>5,470,303 Dollars</td>\n      <td>8427816</td>\n      <td>NaN</td>\n    </tr>\n    <tr>\n      <th>6</th>\n      <td>7</td>\n      <td>Yes</td>\n      <td>Cityace</td>\n      <td>not available</td>\n      <td>2010</td>\n      <td>$9,254,614</td>\n      <td>6,249,498 Dollars</td>\n      <td>3005116</td>\n      <td>6%</td>\n    </tr>\n    <tr>\n      <th>7</th>\n      <td>8</td>\n      <td>No</td>\n      <td>Kayelectronics</td>\n      <td>NaN</td>\n      <td>2009</td>\n      <td>$9,451,943</td>\n      <td>3,878,113 Dollars</td>\n      <td>5573830</td>\n      <td>4%</td>\n    </tr>\n    <tr>\n      <th>8</th>\n      <td>9</td>\n      <td>Yes</td>\n      <td>Ganzlax</td>\n      <td>IT Services</td>\n      <td>2011</td>\n      <td>$14,001,180</td>\n      <td>NaN</td>\n      <td>11901180</td>\n      <td>18%</td>\n    </tr>\n    <tr>\n      <th>9</th>\n      <td>10</td>\n      <td>No</td>\n      <td>Trantraxlax</td>\n      <td>Government Services</td>\n      <td>2011</td>\n      <td>$11,088,336</td>\n      <td>5,635,276 Dollars</td>\n      <td>5453060</td>\n      <td>7%</td>\n    </tr>\n  </tbody>\n</table>\n</div>"
          },
          "metadata": {}
        }
      ]
    },
    {
      "cell_type": "code",
      "source": "#u can convert not available to NaN as well see below",
      "metadata": {
        "trusted": true
      },
      "execution_count": 17,
      "outputs": []
    },
    {
      "cell_type": "code",
      "source": "df=pd.read_csv(\"Fortune_10.csv\",na_values=['not available'])\ndf",
      "metadata": {
        "trusted": true
      },
      "execution_count": 16,
      "outputs": [
        {
          "execution_count": 16,
          "output_type": "execute_result",
          "data": {
            "text/plain": "   ID Date             Name             Industry  Inception       Revenue  \\\n0   1  Yes          Lamtone          IT Services       2009  $11,757,018    \n1   2  Yes        Stripfind   Financial Services       2010  $12,329,371    \n2   3   No  Canecorporation               Health       2012  $10,597,009    \n3   4  Yes         Mattouch          IT Services       2013  $14,026,934    \n4   5   No        Techdrill                  NaN       2009  $10,573,990    \n5   6  Yes         Techline                  NaN       2006  $13,898,119    \n6   7  Yes          Cityace                  NaN       2010   $9,254,614    \n7   8   No   Kayelectronics                  NaN       2009   $9,451,943    \n8   9  Yes          Ganzlax          IT Services       2011  $14,001,180    \n9  10   No      Trantraxlax  Government Services       2011  $11,088,336    \n\n            Expenses    Profit Growth  \n0  6,482,465 Dollars   5274553    30%  \n1    916,455 Dollars  11412916    20%  \n2  7,591,189 Dollars   3005820     7%  \n3  7,429,377 Dollars   6597557    NaN  \n4  7,435,363 Dollars   3138627    NaN  \n5  5,470,303 Dollars   8427816    NaN  \n6  6,249,498 Dollars   3005116     6%  \n7  3,878,113 Dollars   5573830     4%  \n8                NaN  11901180    18%  \n9  5,635,276 Dollars   5453060     7%  ",
            "text/html": "<div>\n<style scoped>\n    .dataframe tbody tr th:only-of-type {\n        vertical-align: middle;\n    }\n\n    .dataframe tbody tr th {\n        vertical-align: top;\n    }\n\n    .dataframe thead th {\n        text-align: right;\n    }\n</style>\n<table border=\"1\" class=\"dataframe\">\n  <thead>\n    <tr style=\"text-align: right;\">\n      <th></th>\n      <th>ID</th>\n      <th>Date</th>\n      <th>Name</th>\n      <th>Industry</th>\n      <th>Inception</th>\n      <th>Revenue</th>\n      <th>Expenses</th>\n      <th>Profit</th>\n      <th>Growth</th>\n    </tr>\n  </thead>\n  <tbody>\n    <tr>\n      <th>0</th>\n      <td>1</td>\n      <td>Yes</td>\n      <td>Lamtone</td>\n      <td>IT Services</td>\n      <td>2009</td>\n      <td>$11,757,018</td>\n      <td>6,482,465 Dollars</td>\n      <td>5274553</td>\n      <td>30%</td>\n    </tr>\n    <tr>\n      <th>1</th>\n      <td>2</td>\n      <td>Yes</td>\n      <td>Stripfind</td>\n      <td>Financial Services</td>\n      <td>2010</td>\n      <td>$12,329,371</td>\n      <td>916,455 Dollars</td>\n      <td>11412916</td>\n      <td>20%</td>\n    </tr>\n    <tr>\n      <th>2</th>\n      <td>3</td>\n      <td>No</td>\n      <td>Canecorporation</td>\n      <td>Health</td>\n      <td>2012</td>\n      <td>$10,597,009</td>\n      <td>7,591,189 Dollars</td>\n      <td>3005820</td>\n      <td>7%</td>\n    </tr>\n    <tr>\n      <th>3</th>\n      <td>4</td>\n      <td>Yes</td>\n      <td>Mattouch</td>\n      <td>IT Services</td>\n      <td>2013</td>\n      <td>$14,026,934</td>\n      <td>7,429,377 Dollars</td>\n      <td>6597557</td>\n      <td>NaN</td>\n    </tr>\n    <tr>\n      <th>4</th>\n      <td>5</td>\n      <td>No</td>\n      <td>Techdrill</td>\n      <td>NaN</td>\n      <td>2009</td>\n      <td>$10,573,990</td>\n      <td>7,435,363 Dollars</td>\n      <td>3138627</td>\n      <td>NaN</td>\n    </tr>\n    <tr>\n      <th>5</th>\n      <td>6</td>\n      <td>Yes</td>\n      <td>Techline</td>\n      <td>NaN</td>\n      <td>2006</td>\n      <td>$13,898,119</td>\n      <td>5,470,303 Dollars</td>\n      <td>8427816</td>\n      <td>NaN</td>\n    </tr>\n    <tr>\n      <th>6</th>\n      <td>7</td>\n      <td>Yes</td>\n      <td>Cityace</td>\n      <td>NaN</td>\n      <td>2010</td>\n      <td>$9,254,614</td>\n      <td>6,249,498 Dollars</td>\n      <td>3005116</td>\n      <td>6%</td>\n    </tr>\n    <tr>\n      <th>7</th>\n      <td>8</td>\n      <td>No</td>\n      <td>Kayelectronics</td>\n      <td>NaN</td>\n      <td>2009</td>\n      <td>$9,451,943</td>\n      <td>3,878,113 Dollars</td>\n      <td>5573830</td>\n      <td>4%</td>\n    </tr>\n    <tr>\n      <th>8</th>\n      <td>9</td>\n      <td>Yes</td>\n      <td>Ganzlax</td>\n      <td>IT Services</td>\n      <td>2011</td>\n      <td>$14,001,180</td>\n      <td>NaN</td>\n      <td>11901180</td>\n      <td>18%</td>\n    </tr>\n    <tr>\n      <th>9</th>\n      <td>10</td>\n      <td>No</td>\n      <td>Trantraxlax</td>\n      <td>Government Services</td>\n      <td>2011</td>\n      <td>$11,088,336</td>\n      <td>5,635,276 Dollars</td>\n      <td>5453060</td>\n      <td>7%</td>\n    </tr>\n  </tbody>\n</table>\n</div>"
          },
          "metadata": {}
        }
      ]
    },
    {
      "cell_type": "code",
      "source": "# u can convert multiple values to NaN by taking it into list",
      "metadata": {
        "trusted": true
      },
      "execution_count": 18,
      "outputs": []
    },
    {
      "cell_type": "code",
      "source": "import pandas as pd\ndf=pd.read_csv(\"Fortune_10.csv\")\ndf",
      "metadata": {
        "trusted": true
      },
      "execution_count": 3,
      "outputs": [
        {
          "execution_count": 3,
          "output_type": "execute_result",
          "data": {
            "text/plain": "   ID Date             Name             Industry  Inception       Revenue  \\\n0   1  Yes          Lamtone          IT Services       2009  $11,757,018    \n1   2  Yes        Stripfind   Financial Services       2010  $12,329,371    \n2   3   No  Canecorporation               Health       2012  $10,597,009    \n3   4  Yes         Mattouch          IT Services       2013  $14,026,934    \n4   5   No        Techdrill                  NaN       2009  $10,573,990    \n5   6  Yes         Techline                  NaN       2006  $13,898,119    \n6   7  Yes          Cityace        not available       2010   $9,254,614    \n7   8   No   Kayelectronics                  NaN       2009   $9,451,943    \n8   9  Yes          Ganzlax          IT Services       2011  $14,001,180    \n9  10   No      Trantraxlax  Government Services       2011  $11,088,336    \n\n            Expenses    Profit Growth  \n0  6,482,465 Dollars   5274553    30%  \n1    916,455 Dollars  11412916    20%  \n2  7,591,189 Dollars   3005820     7%  \n3  7,429,377 Dollars   6597557    NaN  \n4  7,435,363 Dollars   3138627    nnp  \n5  5,470,303 Dollars   8427816    NaN  \n6  6,249,498 Dollars   3005116     6%  \n7  3,878,113 Dollars   5573830     4%  \n8                NaN  11901180    18%  \n9  5,635,276 Dollars   5453060     7%  ",
            "text/html": "<div>\n<style scoped>\n    .dataframe tbody tr th:only-of-type {\n        vertical-align: middle;\n    }\n\n    .dataframe tbody tr th {\n        vertical-align: top;\n    }\n\n    .dataframe thead th {\n        text-align: right;\n    }\n</style>\n<table border=\"1\" class=\"dataframe\">\n  <thead>\n    <tr style=\"text-align: right;\">\n      <th></th>\n      <th>ID</th>\n      <th>Date</th>\n      <th>Name</th>\n      <th>Industry</th>\n      <th>Inception</th>\n      <th>Revenue</th>\n      <th>Expenses</th>\n      <th>Profit</th>\n      <th>Growth</th>\n    </tr>\n  </thead>\n  <tbody>\n    <tr>\n      <th>0</th>\n      <td>1</td>\n      <td>Yes</td>\n      <td>Lamtone</td>\n      <td>IT Services</td>\n      <td>2009</td>\n      <td>$11,757,018</td>\n      <td>6,482,465 Dollars</td>\n      <td>5274553</td>\n      <td>30%</td>\n    </tr>\n    <tr>\n      <th>1</th>\n      <td>2</td>\n      <td>Yes</td>\n      <td>Stripfind</td>\n      <td>Financial Services</td>\n      <td>2010</td>\n      <td>$12,329,371</td>\n      <td>916,455 Dollars</td>\n      <td>11412916</td>\n      <td>20%</td>\n    </tr>\n    <tr>\n      <th>2</th>\n      <td>3</td>\n      <td>No</td>\n      <td>Canecorporation</td>\n      <td>Health</td>\n      <td>2012</td>\n      <td>$10,597,009</td>\n      <td>7,591,189 Dollars</td>\n      <td>3005820</td>\n      <td>7%</td>\n    </tr>\n    <tr>\n      <th>3</th>\n      <td>4</td>\n      <td>Yes</td>\n      <td>Mattouch</td>\n      <td>IT Services</td>\n      <td>2013</td>\n      <td>$14,026,934</td>\n      <td>7,429,377 Dollars</td>\n      <td>6597557</td>\n      <td>NaN</td>\n    </tr>\n    <tr>\n      <th>4</th>\n      <td>5</td>\n      <td>No</td>\n      <td>Techdrill</td>\n      <td>NaN</td>\n      <td>2009</td>\n      <td>$10,573,990</td>\n      <td>7,435,363 Dollars</td>\n      <td>3138627</td>\n      <td>nnp</td>\n    </tr>\n    <tr>\n      <th>5</th>\n      <td>6</td>\n      <td>Yes</td>\n      <td>Techline</td>\n      <td>NaN</td>\n      <td>2006</td>\n      <td>$13,898,119</td>\n      <td>5,470,303 Dollars</td>\n      <td>8427816</td>\n      <td>NaN</td>\n    </tr>\n    <tr>\n      <th>6</th>\n      <td>7</td>\n      <td>Yes</td>\n      <td>Cityace</td>\n      <td>not available</td>\n      <td>2010</td>\n      <td>$9,254,614</td>\n      <td>6,249,498 Dollars</td>\n      <td>3005116</td>\n      <td>6%</td>\n    </tr>\n    <tr>\n      <th>7</th>\n      <td>8</td>\n      <td>No</td>\n      <td>Kayelectronics</td>\n      <td>NaN</td>\n      <td>2009</td>\n      <td>$9,451,943</td>\n      <td>3,878,113 Dollars</td>\n      <td>5573830</td>\n      <td>4%</td>\n    </tr>\n    <tr>\n      <th>8</th>\n      <td>9</td>\n      <td>Yes</td>\n      <td>Ganzlax</td>\n      <td>IT Services</td>\n      <td>2011</td>\n      <td>$14,001,180</td>\n      <td>NaN</td>\n      <td>11901180</td>\n      <td>18%</td>\n    </tr>\n    <tr>\n      <th>9</th>\n      <td>10</td>\n      <td>No</td>\n      <td>Trantraxlax</td>\n      <td>Government Services</td>\n      <td>2011</td>\n      <td>$11,088,336</td>\n      <td>5,635,276 Dollars</td>\n      <td>5453060</td>\n      <td>7%</td>\n    </tr>\n  </tbody>\n</table>\n</div>"
          },
          "metadata": {}
        }
      ]
    },
    {
      "cell_type": "code",
      "source": "#u can see nnp in 4 th row and not available in 6 th row",
      "metadata": {
        "trusted": true
      },
      "execution_count": 20,
      "outputs": []
    },
    {
      "cell_type": "code",
      "source": "#Lets convert it into NaN ",
      "metadata": {
        "trusted": true
      },
      "execution_count": 1,
      "outputs": []
    },
    {
      "cell_type": "code",
      "source": "df=pd.read_csv(\"Fortune_10.csv\",na_values=['not available','nnp'])\ndf",
      "metadata": {
        "trusted": true
      },
      "execution_count": 4,
      "outputs": [
        {
          "execution_count": 4,
          "output_type": "execute_result",
          "data": {
            "text/plain": "   ID Date             Name             Industry  Inception       Revenue  \\\n0   1  Yes          Lamtone          IT Services       2009  $11,757,018    \n1   2  Yes        Stripfind   Financial Services       2010  $12,329,371    \n2   3   No  Canecorporation               Health       2012  $10,597,009    \n3   4  Yes         Mattouch          IT Services       2013  $14,026,934    \n4   5   No        Techdrill                  NaN       2009  $10,573,990    \n5   6  Yes         Techline                  NaN       2006  $13,898,119    \n6   7  Yes          Cityace                  NaN       2010   $9,254,614    \n7   8   No   Kayelectronics                  NaN       2009   $9,451,943    \n8   9  Yes          Ganzlax          IT Services       2011  $14,001,180    \n9  10   No      Trantraxlax  Government Services       2011  $11,088,336    \n\n            Expenses    Profit Growth  \n0  6,482,465 Dollars   5274553    30%  \n1    916,455 Dollars  11412916    20%  \n2  7,591,189 Dollars   3005820     7%  \n3  7,429,377 Dollars   6597557    NaN  \n4  7,435,363 Dollars   3138627    NaN  \n5  5,470,303 Dollars   8427816    NaN  \n6  6,249,498 Dollars   3005116     6%  \n7  3,878,113 Dollars   5573830     4%  \n8                NaN  11901180    18%  \n9  5,635,276 Dollars   5453060     7%  ",
            "text/html": "<div>\n<style scoped>\n    .dataframe tbody tr th:only-of-type {\n        vertical-align: middle;\n    }\n\n    .dataframe tbody tr th {\n        vertical-align: top;\n    }\n\n    .dataframe thead th {\n        text-align: right;\n    }\n</style>\n<table border=\"1\" class=\"dataframe\">\n  <thead>\n    <tr style=\"text-align: right;\">\n      <th></th>\n      <th>ID</th>\n      <th>Date</th>\n      <th>Name</th>\n      <th>Industry</th>\n      <th>Inception</th>\n      <th>Revenue</th>\n      <th>Expenses</th>\n      <th>Profit</th>\n      <th>Growth</th>\n    </tr>\n  </thead>\n  <tbody>\n    <tr>\n      <th>0</th>\n      <td>1</td>\n      <td>Yes</td>\n      <td>Lamtone</td>\n      <td>IT Services</td>\n      <td>2009</td>\n      <td>$11,757,018</td>\n      <td>6,482,465 Dollars</td>\n      <td>5274553</td>\n      <td>30%</td>\n    </tr>\n    <tr>\n      <th>1</th>\n      <td>2</td>\n      <td>Yes</td>\n      <td>Stripfind</td>\n      <td>Financial Services</td>\n      <td>2010</td>\n      <td>$12,329,371</td>\n      <td>916,455 Dollars</td>\n      <td>11412916</td>\n      <td>20%</td>\n    </tr>\n    <tr>\n      <th>2</th>\n      <td>3</td>\n      <td>No</td>\n      <td>Canecorporation</td>\n      <td>Health</td>\n      <td>2012</td>\n      <td>$10,597,009</td>\n      <td>7,591,189 Dollars</td>\n      <td>3005820</td>\n      <td>7%</td>\n    </tr>\n    <tr>\n      <th>3</th>\n      <td>4</td>\n      <td>Yes</td>\n      <td>Mattouch</td>\n      <td>IT Services</td>\n      <td>2013</td>\n      <td>$14,026,934</td>\n      <td>7,429,377 Dollars</td>\n      <td>6597557</td>\n      <td>NaN</td>\n    </tr>\n    <tr>\n      <th>4</th>\n      <td>5</td>\n      <td>No</td>\n      <td>Techdrill</td>\n      <td>NaN</td>\n      <td>2009</td>\n      <td>$10,573,990</td>\n      <td>7,435,363 Dollars</td>\n      <td>3138627</td>\n      <td>NaN</td>\n    </tr>\n    <tr>\n      <th>5</th>\n      <td>6</td>\n      <td>Yes</td>\n      <td>Techline</td>\n      <td>NaN</td>\n      <td>2006</td>\n      <td>$13,898,119</td>\n      <td>5,470,303 Dollars</td>\n      <td>8427816</td>\n      <td>NaN</td>\n    </tr>\n    <tr>\n      <th>6</th>\n      <td>7</td>\n      <td>Yes</td>\n      <td>Cityace</td>\n      <td>NaN</td>\n      <td>2010</td>\n      <td>$9,254,614</td>\n      <td>6,249,498 Dollars</td>\n      <td>3005116</td>\n      <td>6%</td>\n    </tr>\n    <tr>\n      <th>7</th>\n      <td>8</td>\n      <td>No</td>\n      <td>Kayelectronics</td>\n      <td>NaN</td>\n      <td>2009</td>\n      <td>$9,451,943</td>\n      <td>3,878,113 Dollars</td>\n      <td>5573830</td>\n      <td>4%</td>\n    </tr>\n    <tr>\n      <th>8</th>\n      <td>9</td>\n      <td>Yes</td>\n      <td>Ganzlax</td>\n      <td>IT Services</td>\n      <td>2011</td>\n      <td>$14,001,180</td>\n      <td>NaN</td>\n      <td>11901180</td>\n      <td>18%</td>\n    </tr>\n    <tr>\n      <th>9</th>\n      <td>10</td>\n      <td>No</td>\n      <td>Trantraxlax</td>\n      <td>Government Services</td>\n      <td>2011</td>\n      <td>$11,088,336</td>\n      <td>5,635,276 Dollars</td>\n      <td>5453060</td>\n      <td>7%</td>\n    </tr>\n  </tbody>\n</table>\n</div>"
          },
          "metadata": {}
        }
      ]
    },
    {
      "cell_type": "code",
      "source": "#so in this way u can consider multiple elements as NaN ,By using list",
      "metadata": {
        "trusted": true
      },
      "execution_count": 5,
      "outputs": []
    },
    {
      "cell_type": "code",
      "source": "#if u wanna consider specific column , row as a NaN THEN ",
      "metadata": {
        "trusted": true
      },
      "execution_count": 6,
      "outputs": []
    },
    {
      "cell_type": "code",
      "source": "df=pd.read_csv(\"Fortune_10.csv\")\ndf",
      "metadata": {
        "trusted": true
      },
      "execution_count": 7,
      "outputs": [
        {
          "execution_count": 7,
          "output_type": "execute_result",
          "data": {
            "text/plain": "   ID Date             Name             Industry  Inception       Revenue  \\\n0   1  Yes          Lamtone          IT Services       2009  $11,757,018    \n1   2  Yes        Stripfind   Financial Services       2010  $12,329,371    \n2   3   No  Canecorporation               Health       2012  $10,597,009    \n3   4  Yes         Mattouch          IT Services       2013  $14,026,934    \n4   5   No        Techdrill                  NaN       2009  $10,573,990    \n5   6  Yes         Techline                  NaN       2006  $13,898,119    \n6   7  Yes          Cityace        not available       2010   $9,254,614    \n7   8   No   Kayelectronics                  NaN       2009   $9,451,943    \n8   9  Yes          Ganzlax          IT Services       2011  $14,001,180    \n9  10   No      Trantraxlax  Government Services       2011  $11,088,336    \n\n            Expenses    Profit Growth  \n0  6,482,465 Dollars   5274553    30%  \n1    916,455 Dollars  11412916    20%  \n2  7,591,189 Dollars   3005820     7%  \n3  7,429,377 Dollars   6597557    NaN  \n4  7,435,363 Dollars   3138627    nnp  \n5  5,470,303 Dollars   8427816    NaN  \n6  6,249,498 Dollars   3005116     6%  \n7  3,878,113 Dollars   5573830     4%  \n8                NaN  11901180    18%  \n9  5,635,276 Dollars   5453060     7%  ",
            "text/html": "<div>\n<style scoped>\n    .dataframe tbody tr th:only-of-type {\n        vertical-align: middle;\n    }\n\n    .dataframe tbody tr th {\n        vertical-align: top;\n    }\n\n    .dataframe thead th {\n        text-align: right;\n    }\n</style>\n<table border=\"1\" class=\"dataframe\">\n  <thead>\n    <tr style=\"text-align: right;\">\n      <th></th>\n      <th>ID</th>\n      <th>Date</th>\n      <th>Name</th>\n      <th>Industry</th>\n      <th>Inception</th>\n      <th>Revenue</th>\n      <th>Expenses</th>\n      <th>Profit</th>\n      <th>Growth</th>\n    </tr>\n  </thead>\n  <tbody>\n    <tr>\n      <th>0</th>\n      <td>1</td>\n      <td>Yes</td>\n      <td>Lamtone</td>\n      <td>IT Services</td>\n      <td>2009</td>\n      <td>$11,757,018</td>\n      <td>6,482,465 Dollars</td>\n      <td>5274553</td>\n      <td>30%</td>\n    </tr>\n    <tr>\n      <th>1</th>\n      <td>2</td>\n      <td>Yes</td>\n      <td>Stripfind</td>\n      <td>Financial Services</td>\n      <td>2010</td>\n      <td>$12,329,371</td>\n      <td>916,455 Dollars</td>\n      <td>11412916</td>\n      <td>20%</td>\n    </tr>\n    <tr>\n      <th>2</th>\n      <td>3</td>\n      <td>No</td>\n      <td>Canecorporation</td>\n      <td>Health</td>\n      <td>2012</td>\n      <td>$10,597,009</td>\n      <td>7,591,189 Dollars</td>\n      <td>3005820</td>\n      <td>7%</td>\n    </tr>\n    <tr>\n      <th>3</th>\n      <td>4</td>\n      <td>Yes</td>\n      <td>Mattouch</td>\n      <td>IT Services</td>\n      <td>2013</td>\n      <td>$14,026,934</td>\n      <td>7,429,377 Dollars</td>\n      <td>6597557</td>\n      <td>NaN</td>\n    </tr>\n    <tr>\n      <th>4</th>\n      <td>5</td>\n      <td>No</td>\n      <td>Techdrill</td>\n      <td>NaN</td>\n      <td>2009</td>\n      <td>$10,573,990</td>\n      <td>7,435,363 Dollars</td>\n      <td>3138627</td>\n      <td>nnp</td>\n    </tr>\n    <tr>\n      <th>5</th>\n      <td>6</td>\n      <td>Yes</td>\n      <td>Techline</td>\n      <td>NaN</td>\n      <td>2006</td>\n      <td>$13,898,119</td>\n      <td>5,470,303 Dollars</td>\n      <td>8427816</td>\n      <td>NaN</td>\n    </tr>\n    <tr>\n      <th>6</th>\n      <td>7</td>\n      <td>Yes</td>\n      <td>Cityace</td>\n      <td>not available</td>\n      <td>2010</td>\n      <td>$9,254,614</td>\n      <td>6,249,498 Dollars</td>\n      <td>3005116</td>\n      <td>6%</td>\n    </tr>\n    <tr>\n      <th>7</th>\n      <td>8</td>\n      <td>No</td>\n      <td>Kayelectronics</td>\n      <td>NaN</td>\n      <td>2009</td>\n      <td>$9,451,943</td>\n      <td>3,878,113 Dollars</td>\n      <td>5573830</td>\n      <td>4%</td>\n    </tr>\n    <tr>\n      <th>8</th>\n      <td>9</td>\n      <td>Yes</td>\n      <td>Ganzlax</td>\n      <td>IT Services</td>\n      <td>2011</td>\n      <td>$14,001,180</td>\n      <td>NaN</td>\n      <td>11901180</td>\n      <td>18%</td>\n    </tr>\n    <tr>\n      <th>9</th>\n      <td>10</td>\n      <td>No</td>\n      <td>Trantraxlax</td>\n      <td>Government Services</td>\n      <td>2011</td>\n      <td>$11,088,336</td>\n      <td>5,635,276 Dollars</td>\n      <td>5453060</td>\n      <td>7%</td>\n    </tr>\n  </tbody>\n</table>\n</div>"
          },
          "metadata": {}
        }
      ]
    },
    {
      "cell_type": "code",
      "source": "#NOW will only change not available into NaN \n# IT can be done using dictionary\n#Let's do it for 6 th row industry column",
      "metadata": {
        "trusted": true
      },
      "execution_count": 8,
      "outputs": []
    },
    {
      "cell_type": "code",
      "source": "df=pd.read_csv(\"Fortune_10.csv\",na_values={'Industry':'not available'})\ndf",
      "metadata": {
        "trusted": true
      },
      "execution_count": 9,
      "outputs": [
        {
          "execution_count": 9,
          "output_type": "execute_result",
          "data": {
            "text/plain": "   ID Date             Name             Industry  Inception       Revenue  \\\n0   1  Yes          Lamtone          IT Services       2009  $11,757,018    \n1   2  Yes        Stripfind   Financial Services       2010  $12,329,371    \n2   3   No  Canecorporation               Health       2012  $10,597,009    \n3   4  Yes         Mattouch          IT Services       2013  $14,026,934    \n4   5   No        Techdrill                  NaN       2009  $10,573,990    \n5   6  Yes         Techline                  NaN       2006  $13,898,119    \n6   7  Yes          Cityace                  NaN       2010   $9,254,614    \n7   8   No   Kayelectronics                  NaN       2009   $9,451,943    \n8   9  Yes          Ganzlax          IT Services       2011  $14,001,180    \n9  10   No      Trantraxlax  Government Services       2011  $11,088,336    \n\n            Expenses    Profit Growth  \n0  6,482,465 Dollars   5274553    30%  \n1    916,455 Dollars  11412916    20%  \n2  7,591,189 Dollars   3005820     7%  \n3  7,429,377 Dollars   6597557    NaN  \n4  7,435,363 Dollars   3138627    nnp  \n5  5,470,303 Dollars   8427816    NaN  \n6  6,249,498 Dollars   3005116     6%  \n7  3,878,113 Dollars   5573830     4%  \n8                NaN  11901180    18%  \n9  5,635,276 Dollars   5453060     7%  ",
            "text/html": "<div>\n<style scoped>\n    .dataframe tbody tr th:only-of-type {\n        vertical-align: middle;\n    }\n\n    .dataframe tbody tr th {\n        vertical-align: top;\n    }\n\n    .dataframe thead th {\n        text-align: right;\n    }\n</style>\n<table border=\"1\" class=\"dataframe\">\n  <thead>\n    <tr style=\"text-align: right;\">\n      <th></th>\n      <th>ID</th>\n      <th>Date</th>\n      <th>Name</th>\n      <th>Industry</th>\n      <th>Inception</th>\n      <th>Revenue</th>\n      <th>Expenses</th>\n      <th>Profit</th>\n      <th>Growth</th>\n    </tr>\n  </thead>\n  <tbody>\n    <tr>\n      <th>0</th>\n      <td>1</td>\n      <td>Yes</td>\n      <td>Lamtone</td>\n      <td>IT Services</td>\n      <td>2009</td>\n      <td>$11,757,018</td>\n      <td>6,482,465 Dollars</td>\n      <td>5274553</td>\n      <td>30%</td>\n    </tr>\n    <tr>\n      <th>1</th>\n      <td>2</td>\n      <td>Yes</td>\n      <td>Stripfind</td>\n      <td>Financial Services</td>\n      <td>2010</td>\n      <td>$12,329,371</td>\n      <td>916,455 Dollars</td>\n      <td>11412916</td>\n      <td>20%</td>\n    </tr>\n    <tr>\n      <th>2</th>\n      <td>3</td>\n      <td>No</td>\n      <td>Canecorporation</td>\n      <td>Health</td>\n      <td>2012</td>\n      <td>$10,597,009</td>\n      <td>7,591,189 Dollars</td>\n      <td>3005820</td>\n      <td>7%</td>\n    </tr>\n    <tr>\n      <th>3</th>\n      <td>4</td>\n      <td>Yes</td>\n      <td>Mattouch</td>\n      <td>IT Services</td>\n      <td>2013</td>\n      <td>$14,026,934</td>\n      <td>7,429,377 Dollars</td>\n      <td>6597557</td>\n      <td>NaN</td>\n    </tr>\n    <tr>\n      <th>4</th>\n      <td>5</td>\n      <td>No</td>\n      <td>Techdrill</td>\n      <td>NaN</td>\n      <td>2009</td>\n      <td>$10,573,990</td>\n      <td>7,435,363 Dollars</td>\n      <td>3138627</td>\n      <td>nnp</td>\n    </tr>\n    <tr>\n      <th>5</th>\n      <td>6</td>\n      <td>Yes</td>\n      <td>Techline</td>\n      <td>NaN</td>\n      <td>2006</td>\n      <td>$13,898,119</td>\n      <td>5,470,303 Dollars</td>\n      <td>8427816</td>\n      <td>NaN</td>\n    </tr>\n    <tr>\n      <th>6</th>\n      <td>7</td>\n      <td>Yes</td>\n      <td>Cityace</td>\n      <td>NaN</td>\n      <td>2010</td>\n      <td>$9,254,614</td>\n      <td>6,249,498 Dollars</td>\n      <td>3005116</td>\n      <td>6%</td>\n    </tr>\n    <tr>\n      <th>7</th>\n      <td>8</td>\n      <td>No</td>\n      <td>Kayelectronics</td>\n      <td>NaN</td>\n      <td>2009</td>\n      <td>$9,451,943</td>\n      <td>3,878,113 Dollars</td>\n      <td>5573830</td>\n      <td>4%</td>\n    </tr>\n    <tr>\n      <th>8</th>\n      <td>9</td>\n      <td>Yes</td>\n      <td>Ganzlax</td>\n      <td>IT Services</td>\n      <td>2011</td>\n      <td>$14,001,180</td>\n      <td>NaN</td>\n      <td>11901180</td>\n      <td>18%</td>\n    </tr>\n    <tr>\n      <th>9</th>\n      <td>10</td>\n      <td>No</td>\n      <td>Trantraxlax</td>\n      <td>Government Services</td>\n      <td>2011</td>\n      <td>$11,088,336</td>\n      <td>5,635,276 Dollars</td>\n      <td>5453060</td>\n      <td>7%</td>\n    </tr>\n  </tbody>\n</table>\n</div>"
          },
          "metadata": {}
        }
      ]
    },
    {
      "cell_type": "code",
      "source": "#nnp is at is is  (let's do it for it as well)",
      "metadata": {
        "trusted": true
      },
      "execution_count": 11,
      "outputs": []
    },
    {
      "cell_type": "code",
      "source": "df=pd.read_csv(\"Fortune_10.csv\",na_values={'Industry':'not available','Growth':'nnp'})\ndf",
      "metadata": {
        "trusted": true
      },
      "execution_count": 12,
      "outputs": [
        {
          "execution_count": 12,
          "output_type": "execute_result",
          "data": {
            "text/plain": "   ID Date             Name             Industry  Inception       Revenue  \\\n0   1  Yes          Lamtone          IT Services       2009  $11,757,018    \n1   2  Yes        Stripfind   Financial Services       2010  $12,329,371    \n2   3   No  Canecorporation               Health       2012  $10,597,009    \n3   4  Yes         Mattouch          IT Services       2013  $14,026,934    \n4   5   No        Techdrill                  NaN       2009  $10,573,990    \n5   6  Yes         Techline                  NaN       2006  $13,898,119    \n6   7  Yes          Cityace                  NaN       2010   $9,254,614    \n7   8   No   Kayelectronics                  NaN       2009   $9,451,943    \n8   9  Yes          Ganzlax          IT Services       2011  $14,001,180    \n9  10   No      Trantraxlax  Government Services       2011  $11,088,336    \n\n            Expenses    Profit Growth  \n0  6,482,465 Dollars   5274553    30%  \n1    916,455 Dollars  11412916    20%  \n2  7,591,189 Dollars   3005820     7%  \n3  7,429,377 Dollars   6597557    NaN  \n4  7,435,363 Dollars   3138627    NaN  \n5  5,470,303 Dollars   8427816    NaN  \n6  6,249,498 Dollars   3005116     6%  \n7  3,878,113 Dollars   5573830     4%  \n8                NaN  11901180    18%  \n9  5,635,276 Dollars   5453060     7%  ",
            "text/html": "<div>\n<style scoped>\n    .dataframe tbody tr th:only-of-type {\n        vertical-align: middle;\n    }\n\n    .dataframe tbody tr th {\n        vertical-align: top;\n    }\n\n    .dataframe thead th {\n        text-align: right;\n    }\n</style>\n<table border=\"1\" class=\"dataframe\">\n  <thead>\n    <tr style=\"text-align: right;\">\n      <th></th>\n      <th>ID</th>\n      <th>Date</th>\n      <th>Name</th>\n      <th>Industry</th>\n      <th>Inception</th>\n      <th>Revenue</th>\n      <th>Expenses</th>\n      <th>Profit</th>\n      <th>Growth</th>\n    </tr>\n  </thead>\n  <tbody>\n    <tr>\n      <th>0</th>\n      <td>1</td>\n      <td>Yes</td>\n      <td>Lamtone</td>\n      <td>IT Services</td>\n      <td>2009</td>\n      <td>$11,757,018</td>\n      <td>6,482,465 Dollars</td>\n      <td>5274553</td>\n      <td>30%</td>\n    </tr>\n    <tr>\n      <th>1</th>\n      <td>2</td>\n      <td>Yes</td>\n      <td>Stripfind</td>\n      <td>Financial Services</td>\n      <td>2010</td>\n      <td>$12,329,371</td>\n      <td>916,455 Dollars</td>\n      <td>11412916</td>\n      <td>20%</td>\n    </tr>\n    <tr>\n      <th>2</th>\n      <td>3</td>\n      <td>No</td>\n      <td>Canecorporation</td>\n      <td>Health</td>\n      <td>2012</td>\n      <td>$10,597,009</td>\n      <td>7,591,189 Dollars</td>\n      <td>3005820</td>\n      <td>7%</td>\n    </tr>\n    <tr>\n      <th>3</th>\n      <td>4</td>\n      <td>Yes</td>\n      <td>Mattouch</td>\n      <td>IT Services</td>\n      <td>2013</td>\n      <td>$14,026,934</td>\n      <td>7,429,377 Dollars</td>\n      <td>6597557</td>\n      <td>NaN</td>\n    </tr>\n    <tr>\n      <th>4</th>\n      <td>5</td>\n      <td>No</td>\n      <td>Techdrill</td>\n      <td>NaN</td>\n      <td>2009</td>\n      <td>$10,573,990</td>\n      <td>7,435,363 Dollars</td>\n      <td>3138627</td>\n      <td>NaN</td>\n    </tr>\n    <tr>\n      <th>5</th>\n      <td>6</td>\n      <td>Yes</td>\n      <td>Techline</td>\n      <td>NaN</td>\n      <td>2006</td>\n      <td>$13,898,119</td>\n      <td>5,470,303 Dollars</td>\n      <td>8427816</td>\n      <td>NaN</td>\n    </tr>\n    <tr>\n      <th>6</th>\n      <td>7</td>\n      <td>Yes</td>\n      <td>Cityace</td>\n      <td>NaN</td>\n      <td>2010</td>\n      <td>$9,254,614</td>\n      <td>6,249,498 Dollars</td>\n      <td>3005116</td>\n      <td>6%</td>\n    </tr>\n    <tr>\n      <th>7</th>\n      <td>8</td>\n      <td>No</td>\n      <td>Kayelectronics</td>\n      <td>NaN</td>\n      <td>2009</td>\n      <td>$9,451,943</td>\n      <td>3,878,113 Dollars</td>\n      <td>5573830</td>\n      <td>4%</td>\n    </tr>\n    <tr>\n      <th>8</th>\n      <td>9</td>\n      <td>Yes</td>\n      <td>Ganzlax</td>\n      <td>IT Services</td>\n      <td>2011</td>\n      <td>$14,001,180</td>\n      <td>NaN</td>\n      <td>11901180</td>\n      <td>18%</td>\n    </tr>\n    <tr>\n      <th>9</th>\n      <td>10</td>\n      <td>No</td>\n      <td>Trantraxlax</td>\n      <td>Government Services</td>\n      <td>2011</td>\n      <td>$11,088,336</td>\n      <td>5,635,276 Dollars</td>\n      <td>5453060</td>\n      <td>7%</td>\n    </tr>\n  </tbody>\n</table>\n</div>"
          },
          "metadata": {}
        }
      ]
    },
    {
      "cell_type": "code",
      "source": "#The strings which we mentioned above to whom panda directly consider NaN \n#U don't wanna make it default NaN \n",
      "metadata": {
        "trusted": true
      },
      "execution_count": 13,
      "outputs": []
    },
    {
      "cell_type": "code",
      "source": "df=pd.read_csv(\"Fortune_10.csv\",)\ndf",
      "metadata": {
        "trusted": true
      },
      "execution_count": 14,
      "outputs": [
        {
          "execution_count": 14,
          "output_type": "execute_result",
          "data": {
            "text/plain": "   ID Date             Name             Industry  Inception       Revenue  \\\n0   1  Yes          Lamtone          IT Services       2009  $11,757,018    \n1   2  Yes        Stripfind   Financial Services       2010  $12,329,371    \n2   3   No  Canecorporation               Health       2012  $10,597,009    \n3   4  Yes         Mattouch          IT Services       2013  $14,026,934    \n4   5   No        Techdrill                  NaN       2009  $10,573,990    \n5   6  Yes         Techline                  NaN       2006  $13,898,119    \n6   7  Yes          Cityace                  NaN       2010   $9,254,614    \n7   8   No   Kayelectronics                  NaN       2009   $9,451,943    \n8   9  Yes          Ganzlax          IT Services       2011  $14,001,180    \n9  10   No      Trantraxlax  Government Services       2011  $11,088,336    \n\n            Expenses    Profit Growth  \n0  6,482,465 Dollars   5274553    30%  \n1    916,455 Dollars  11412916    20%  \n2  7,591,189 Dollars   3005820     7%  \n3  7,429,377 Dollars   6597557    NaN  \n4  7,435,363 Dollars   3138627    nnp  \n5  5,470,303 Dollars   8427816    NaN  \n6  6,249,498 Dollars   3005116     6%  \n7  3,878,113 Dollars   5573830     4%  \n8                NaN  11901180    18%  \n9  5,635,276 Dollars   5453060     7%  ",
            "text/html": "<div>\n<style scoped>\n    .dataframe tbody tr th:only-of-type {\n        vertical-align: middle;\n    }\n\n    .dataframe tbody tr th {\n        vertical-align: top;\n    }\n\n    .dataframe thead th {\n        text-align: right;\n    }\n</style>\n<table border=\"1\" class=\"dataframe\">\n  <thead>\n    <tr style=\"text-align: right;\">\n      <th></th>\n      <th>ID</th>\n      <th>Date</th>\n      <th>Name</th>\n      <th>Industry</th>\n      <th>Inception</th>\n      <th>Revenue</th>\n      <th>Expenses</th>\n      <th>Profit</th>\n      <th>Growth</th>\n    </tr>\n  </thead>\n  <tbody>\n    <tr>\n      <th>0</th>\n      <td>1</td>\n      <td>Yes</td>\n      <td>Lamtone</td>\n      <td>IT Services</td>\n      <td>2009</td>\n      <td>$11,757,018</td>\n      <td>6,482,465 Dollars</td>\n      <td>5274553</td>\n      <td>30%</td>\n    </tr>\n    <tr>\n      <th>1</th>\n      <td>2</td>\n      <td>Yes</td>\n      <td>Stripfind</td>\n      <td>Financial Services</td>\n      <td>2010</td>\n      <td>$12,329,371</td>\n      <td>916,455 Dollars</td>\n      <td>11412916</td>\n      <td>20%</td>\n    </tr>\n    <tr>\n      <th>2</th>\n      <td>3</td>\n      <td>No</td>\n      <td>Canecorporation</td>\n      <td>Health</td>\n      <td>2012</td>\n      <td>$10,597,009</td>\n      <td>7,591,189 Dollars</td>\n      <td>3005820</td>\n      <td>7%</td>\n    </tr>\n    <tr>\n      <th>3</th>\n      <td>4</td>\n      <td>Yes</td>\n      <td>Mattouch</td>\n      <td>IT Services</td>\n      <td>2013</td>\n      <td>$14,026,934</td>\n      <td>7,429,377 Dollars</td>\n      <td>6597557</td>\n      <td>NaN</td>\n    </tr>\n    <tr>\n      <th>4</th>\n      <td>5</td>\n      <td>No</td>\n      <td>Techdrill</td>\n      <td>NaN</td>\n      <td>2009</td>\n      <td>$10,573,990</td>\n      <td>7,435,363 Dollars</td>\n      <td>3138627</td>\n      <td>nnp</td>\n    </tr>\n    <tr>\n      <th>5</th>\n      <td>6</td>\n      <td>Yes</td>\n      <td>Techline</td>\n      <td>NaN</td>\n      <td>2006</td>\n      <td>$13,898,119</td>\n      <td>5,470,303 Dollars</td>\n      <td>8427816</td>\n      <td>NaN</td>\n    </tr>\n    <tr>\n      <th>6</th>\n      <td>7</td>\n      <td>Yes</td>\n      <td>Cityace</td>\n      <td>NaN</td>\n      <td>2010</td>\n      <td>$9,254,614</td>\n      <td>6,249,498 Dollars</td>\n      <td>3005116</td>\n      <td>6%</td>\n    </tr>\n    <tr>\n      <th>7</th>\n      <td>8</td>\n      <td>No</td>\n      <td>Kayelectronics</td>\n      <td>NaN</td>\n      <td>2009</td>\n      <td>$9,451,943</td>\n      <td>3,878,113 Dollars</td>\n      <td>5573830</td>\n      <td>4%</td>\n    </tr>\n    <tr>\n      <th>8</th>\n      <td>9</td>\n      <td>Yes</td>\n      <td>Ganzlax</td>\n      <td>IT Services</td>\n      <td>2011</td>\n      <td>$14,001,180</td>\n      <td>NaN</td>\n      <td>11901180</td>\n      <td>18%</td>\n    </tr>\n    <tr>\n      <th>9</th>\n      <td>10</td>\n      <td>No</td>\n      <td>Trantraxlax</td>\n      <td>Government Services</td>\n      <td>2011</td>\n      <td>$11,088,336</td>\n      <td>5,635,276 Dollars</td>\n      <td>5453060</td>\n      <td>7%</td>\n    </tr>\n  </tbody>\n</table>\n</div>"
          },
          "metadata": {}
        }
      ]
    },
    {
      "cell_type": "code",
      "source": "#By default it is considering NULL, #N/A as NaN Values",
      "metadata": {
        "trusted": true
      },
      "execution_count": 15,
      "outputs": []
    },
    {
      "cell_type": "code",
      "source": "df=pd.read_csv(\"Fortune_10.csv\",keep_default_na=False)\ndf",
      "metadata": {
        "trusted": true
      },
      "execution_count": 16,
      "outputs": [
        {
          "execution_count": 16,
          "output_type": "execute_result",
          "data": {
            "text/plain": "   ID Date             Name             Industry  Inception       Revenue  \\\n0   1  Yes          Lamtone          IT Services       2009  $11,757,018    \n1   2  Yes        Stripfind   Financial Services       2010  $12,329,371    \n2   3   No  Canecorporation               Health       2012  $10,597,009    \n3   4  Yes         Mattouch          IT Services       2013  $14,026,934    \n4   5   No        Techdrill                 #N/A       2009  $10,573,990    \n5   6  Yes         Techline                 #N/A       2006  $13,898,119    \n6   7  Yes          Cityace                            2010   $9,254,614    \n7   8   No   Kayelectronics                            2009   $9,451,943    \n8   9  Yes          Ganzlax          IT Services       2011  $14,001,180    \n9  10   No      Trantraxlax  Government Services       2011  $11,088,336    \n\n            Expenses    Profit Growth  \n0  6,482,465 Dollars   5274553    30%  \n1    916,455 Dollars  11412916    20%  \n2  7,591,189 Dollars   3005820     7%  \n3  7,429,377 Dollars   6597557   NULL  \n4  7,435,363 Dollars   3138627    nnp  \n5  5,470,303 Dollars   8427816         \n6  6,249,498 Dollars   3005116     6%  \n7  3,878,113 Dollars   5573830     4%  \n8                     11901180    18%  \n9  5,635,276 Dollars   5453060     7%  ",
            "text/html": "<div>\n<style scoped>\n    .dataframe tbody tr th:only-of-type {\n        vertical-align: middle;\n    }\n\n    .dataframe tbody tr th {\n        vertical-align: top;\n    }\n\n    .dataframe thead th {\n        text-align: right;\n    }\n</style>\n<table border=\"1\" class=\"dataframe\">\n  <thead>\n    <tr style=\"text-align: right;\">\n      <th></th>\n      <th>ID</th>\n      <th>Date</th>\n      <th>Name</th>\n      <th>Industry</th>\n      <th>Inception</th>\n      <th>Revenue</th>\n      <th>Expenses</th>\n      <th>Profit</th>\n      <th>Growth</th>\n    </tr>\n  </thead>\n  <tbody>\n    <tr>\n      <th>0</th>\n      <td>1</td>\n      <td>Yes</td>\n      <td>Lamtone</td>\n      <td>IT Services</td>\n      <td>2009</td>\n      <td>$11,757,018</td>\n      <td>6,482,465 Dollars</td>\n      <td>5274553</td>\n      <td>30%</td>\n    </tr>\n    <tr>\n      <th>1</th>\n      <td>2</td>\n      <td>Yes</td>\n      <td>Stripfind</td>\n      <td>Financial Services</td>\n      <td>2010</td>\n      <td>$12,329,371</td>\n      <td>916,455 Dollars</td>\n      <td>11412916</td>\n      <td>20%</td>\n    </tr>\n    <tr>\n      <th>2</th>\n      <td>3</td>\n      <td>No</td>\n      <td>Canecorporation</td>\n      <td>Health</td>\n      <td>2012</td>\n      <td>$10,597,009</td>\n      <td>7,591,189 Dollars</td>\n      <td>3005820</td>\n      <td>7%</td>\n    </tr>\n    <tr>\n      <th>3</th>\n      <td>4</td>\n      <td>Yes</td>\n      <td>Mattouch</td>\n      <td>IT Services</td>\n      <td>2013</td>\n      <td>$14,026,934</td>\n      <td>7,429,377 Dollars</td>\n      <td>6597557</td>\n      <td>NULL</td>\n    </tr>\n    <tr>\n      <th>4</th>\n      <td>5</td>\n      <td>No</td>\n      <td>Techdrill</td>\n      <td>#N/A</td>\n      <td>2009</td>\n      <td>$10,573,990</td>\n      <td>7,435,363 Dollars</td>\n      <td>3138627</td>\n      <td>nnp</td>\n    </tr>\n    <tr>\n      <th>5</th>\n      <td>6</td>\n      <td>Yes</td>\n      <td>Techline</td>\n      <td>#N/A</td>\n      <td>2006</td>\n      <td>$13,898,119</td>\n      <td>5,470,303 Dollars</td>\n      <td>8427816</td>\n      <td></td>\n    </tr>\n    <tr>\n      <th>6</th>\n      <td>7</td>\n      <td>Yes</td>\n      <td>Cityace</td>\n      <td></td>\n      <td>2010</td>\n      <td>$9,254,614</td>\n      <td>6,249,498 Dollars</td>\n      <td>3005116</td>\n      <td>6%</td>\n    </tr>\n    <tr>\n      <th>7</th>\n      <td>8</td>\n      <td>No</td>\n      <td>Kayelectronics</td>\n      <td></td>\n      <td>2009</td>\n      <td>$9,451,943</td>\n      <td>3,878,113 Dollars</td>\n      <td>5573830</td>\n      <td>4%</td>\n    </tr>\n    <tr>\n      <th>8</th>\n      <td>9</td>\n      <td>Yes</td>\n      <td>Ganzlax</td>\n      <td>IT Services</td>\n      <td>2011</td>\n      <td>$14,001,180</td>\n      <td></td>\n      <td>11901180</td>\n      <td>18%</td>\n    </tr>\n    <tr>\n      <th>9</th>\n      <td>10</td>\n      <td>No</td>\n      <td>Trantraxlax</td>\n      <td>Government Services</td>\n      <td>2011</td>\n      <td>$11,088,336</td>\n      <td>5,635,276 Dollars</td>\n      <td>5453060</td>\n      <td>7%</td>\n    </tr>\n  </tbody>\n</table>\n</div>"
          },
          "metadata": {}
        }
      ]
    },
    {
      "cell_type": "code",
      "source": "#U can now see the 3rd ,4th and 5th row",
      "metadata": {
        "trusted": true
      },
      "execution_count": 17,
      "outputs": []
    },
    {
      "cell_type": "code",
      "source": "#if u are sure that there is no missing value or useless value we can FILTER it\n#it can make parsing easy(syntax analysis )the process of analysing the string of symbols",
      "metadata": {
        "trusted": true
      },
      "execution_count": 19,
      "outputs": []
    },
    {
      "cell_type": "code",
      "source": "####Na_filter (for finding missing value)",
      "metadata": {
        "trusted": true
      },
      "execution_count": 20,
      "outputs": []
    },
    {
      "cell_type": "code",
      "source": "df=pd.read_csv(\"Fortune_10.csv\",na_filter=False)\ndf",
      "metadata": {
        "trusted": true
      },
      "execution_count": 22,
      "outputs": [
        {
          "execution_count": 22,
          "output_type": "execute_result",
          "data": {
            "text/plain": "   ID Date             Name             Industry  Inception       Revenue  \\\n0   1  Yes          Lamtone          IT Services       2009  $11,757,018    \n1   2  Yes        Stripfind   Financial Services       2010  $12,329,371    \n2   3   No  Canecorporation               Health       2012  $10,597,009    \n3   4  Yes         Mattouch          IT Services       2013  $14,026,934    \n4   5   No        Techdrill          IT Services       2009  $10,573,990    \n5   6  Yes         Techline          IT Services       2006  $13,898,119    \n6   7  Yes          Cityace          IT Services       2010   $9,254,614    \n7   8   No   Kayelectronics          IT Services       2009   $9,451,943    \n8   9  Yes          Ganzlax          IT Services       2011  $14,001,180    \n9  10   No      Trantraxlax  Government Services       2011  $11,088,336    \n\n            Expenses    Profit Growth  \n0  6,482,465 Dollars   5274553    30%  \n1    916,455 Dollars  11412916    20%  \n2  7,591,189 Dollars   3005820     7%  \n3  7,429,377 Dollars   6597557     7%  \n4  7,435,363 Dollars   3138627     7%  \n5  5,470,303 Dollars   8427816     7%  \n6  6,249,498 Dollars   3005116     6%  \n7  3,878,113 Dollars   5573830     4%  \n8                     11901180    18%  \n9  5,635,276 Dollars   5453060     7%  ",
            "text/html": "<div>\n<style scoped>\n    .dataframe tbody tr th:only-of-type {\n        vertical-align: middle;\n    }\n\n    .dataframe tbody tr th {\n        vertical-align: top;\n    }\n\n    .dataframe thead th {\n        text-align: right;\n    }\n</style>\n<table border=\"1\" class=\"dataframe\">\n  <thead>\n    <tr style=\"text-align: right;\">\n      <th></th>\n      <th>ID</th>\n      <th>Date</th>\n      <th>Name</th>\n      <th>Industry</th>\n      <th>Inception</th>\n      <th>Revenue</th>\n      <th>Expenses</th>\n      <th>Profit</th>\n      <th>Growth</th>\n    </tr>\n  </thead>\n  <tbody>\n    <tr>\n      <th>0</th>\n      <td>1</td>\n      <td>Yes</td>\n      <td>Lamtone</td>\n      <td>IT Services</td>\n      <td>2009</td>\n      <td>$11,757,018</td>\n      <td>6,482,465 Dollars</td>\n      <td>5274553</td>\n      <td>30%</td>\n    </tr>\n    <tr>\n      <th>1</th>\n      <td>2</td>\n      <td>Yes</td>\n      <td>Stripfind</td>\n      <td>Financial Services</td>\n      <td>2010</td>\n      <td>$12,329,371</td>\n      <td>916,455 Dollars</td>\n      <td>11412916</td>\n      <td>20%</td>\n    </tr>\n    <tr>\n      <th>2</th>\n      <td>3</td>\n      <td>No</td>\n      <td>Canecorporation</td>\n      <td>Health</td>\n      <td>2012</td>\n      <td>$10,597,009</td>\n      <td>7,591,189 Dollars</td>\n      <td>3005820</td>\n      <td>7%</td>\n    </tr>\n    <tr>\n      <th>3</th>\n      <td>4</td>\n      <td>Yes</td>\n      <td>Mattouch</td>\n      <td>IT Services</td>\n      <td>2013</td>\n      <td>$14,026,934</td>\n      <td>7,429,377 Dollars</td>\n      <td>6597557</td>\n      <td>7%</td>\n    </tr>\n    <tr>\n      <th>4</th>\n      <td>5</td>\n      <td>No</td>\n      <td>Techdrill</td>\n      <td>IT Services</td>\n      <td>2009</td>\n      <td>$10,573,990</td>\n      <td>7,435,363 Dollars</td>\n      <td>3138627</td>\n      <td>7%</td>\n    </tr>\n    <tr>\n      <th>5</th>\n      <td>6</td>\n      <td>Yes</td>\n      <td>Techline</td>\n      <td>IT Services</td>\n      <td>2006</td>\n      <td>$13,898,119</td>\n      <td>5,470,303 Dollars</td>\n      <td>8427816</td>\n      <td>7%</td>\n    </tr>\n    <tr>\n      <th>6</th>\n      <td>7</td>\n      <td>Yes</td>\n      <td>Cityace</td>\n      <td>IT Services</td>\n      <td>2010</td>\n      <td>$9,254,614</td>\n      <td>6,249,498 Dollars</td>\n      <td>3005116</td>\n      <td>6%</td>\n    </tr>\n    <tr>\n      <th>7</th>\n      <td>8</td>\n      <td>No</td>\n      <td>Kayelectronics</td>\n      <td>IT Services</td>\n      <td>2009</td>\n      <td>$9,451,943</td>\n      <td>3,878,113 Dollars</td>\n      <td>5573830</td>\n      <td>4%</td>\n    </tr>\n    <tr>\n      <th>8</th>\n      <td>9</td>\n      <td>Yes</td>\n      <td>Ganzlax</td>\n      <td>IT Services</td>\n      <td>2011</td>\n      <td>$14,001,180</td>\n      <td></td>\n      <td>11901180</td>\n      <td>18%</td>\n    </tr>\n    <tr>\n      <th>9</th>\n      <td>10</td>\n      <td>No</td>\n      <td>Trantraxlax</td>\n      <td>Government Services</td>\n      <td>2011</td>\n      <td>$11,088,336</td>\n      <td>5,635,276 Dollars</td>\n      <td>5453060</td>\n      <td>7%</td>\n    </tr>\n  </tbody>\n</table>\n</div>"
          },
          "metadata": {}
        }
      ]
    },
    {
      "cell_type": "code",
      "source": "#*************************Part 9************************\n#Handling missing value #2",
      "metadata": {
        "trusted": true
      },
      "execution_count": 30,
      "outputs": []
    },
    {
      "cell_type": "code",
      "source": "import pandas as pd",
      "metadata": {
        "trusted": true
      },
      "execution_count": 3,
      "outputs": []
    },
    {
      "cell_type": "code",
      "source": "df=pd.read_csv(\"Fortune_10.csv\")\ndf",
      "metadata": {
        "trusted": true
      },
      "execution_count": 4,
      "outputs": [
        {
          "execution_count": 4,
          "output_type": "execute_result",
          "data": {
            "text/plain": "   ID Date             Name             Industry  Inception       Revenue  \\\n0   1  Yes          Lamtone          IT Services       2009  $11,757,018    \n1   2  Yes        Stripfind   Financial Services       2010  $12,329,371    \n2   3   No  Canecorporation               Health       2012  $10,597,009    \n3   4  Yes         Mattouch          IT Services       2013  $14,026,934    \n4   5   No        Techdrill          IT Services       2009  $10,573,990    \n5   6  Yes         Techline          IT Services       2006  $13,898,119    \n6   7  Yes          Cityace          IT Services       2010   $9,254,614    \n7   8   No   Kayelectronics          IT Services       2009   $9,451,943    \n8   9  Yes          Ganzlax          IT Services       2011  $14,001,180    \n9  10   No      Trantraxlax  Government Services       2011  $11,088,336    \n\n            Expenses    Profit Growth  \n0  6,482,465 Dollars   5274553    30%  \n1    916,455 Dollars  11412916    20%  \n2  7,591,189 Dollars   3005820     7%  \n3  7,429,377 Dollars   6597557     7%  \n4  7,435,363 Dollars   3138627     7%  \n5  5,470,303 Dollars   8427816     7%  \n6  6,249,498 Dollars   3005116     6%  \n7  3,878,113 Dollars   5573830     4%  \n8                NaN  11901180    18%  \n9  5,635,276 Dollars   5453060     7%  ",
            "text/html": "<div>\n<style scoped>\n    .dataframe tbody tr th:only-of-type {\n        vertical-align: middle;\n    }\n\n    .dataframe tbody tr th {\n        vertical-align: top;\n    }\n\n    .dataframe thead th {\n        text-align: right;\n    }\n</style>\n<table border=\"1\" class=\"dataframe\">\n  <thead>\n    <tr style=\"text-align: right;\">\n      <th></th>\n      <th>ID</th>\n      <th>Date</th>\n      <th>Name</th>\n      <th>Industry</th>\n      <th>Inception</th>\n      <th>Revenue</th>\n      <th>Expenses</th>\n      <th>Profit</th>\n      <th>Growth</th>\n    </tr>\n  </thead>\n  <tbody>\n    <tr>\n      <th>0</th>\n      <td>1</td>\n      <td>Yes</td>\n      <td>Lamtone</td>\n      <td>IT Services</td>\n      <td>2009</td>\n      <td>$11,757,018</td>\n      <td>6,482,465 Dollars</td>\n      <td>5274553</td>\n      <td>30%</td>\n    </tr>\n    <tr>\n      <th>1</th>\n      <td>2</td>\n      <td>Yes</td>\n      <td>Stripfind</td>\n      <td>Financial Services</td>\n      <td>2010</td>\n      <td>$12,329,371</td>\n      <td>916,455 Dollars</td>\n      <td>11412916</td>\n      <td>20%</td>\n    </tr>\n    <tr>\n      <th>2</th>\n      <td>3</td>\n      <td>No</td>\n      <td>Canecorporation</td>\n      <td>Health</td>\n      <td>2012</td>\n      <td>$10,597,009</td>\n      <td>7,591,189 Dollars</td>\n      <td>3005820</td>\n      <td>7%</td>\n    </tr>\n    <tr>\n      <th>3</th>\n      <td>4</td>\n      <td>Yes</td>\n      <td>Mattouch</td>\n      <td>IT Services</td>\n      <td>2013</td>\n      <td>$14,026,934</td>\n      <td>7,429,377 Dollars</td>\n      <td>6597557</td>\n      <td>7%</td>\n    </tr>\n    <tr>\n      <th>4</th>\n      <td>5</td>\n      <td>No</td>\n      <td>Techdrill</td>\n      <td>IT Services</td>\n      <td>2009</td>\n      <td>$10,573,990</td>\n      <td>7,435,363 Dollars</td>\n      <td>3138627</td>\n      <td>7%</td>\n    </tr>\n    <tr>\n      <th>5</th>\n      <td>6</td>\n      <td>Yes</td>\n      <td>Techline</td>\n      <td>IT Services</td>\n      <td>2006</td>\n      <td>$13,898,119</td>\n      <td>5,470,303 Dollars</td>\n      <td>8427816</td>\n      <td>7%</td>\n    </tr>\n    <tr>\n      <th>6</th>\n      <td>7</td>\n      <td>Yes</td>\n      <td>Cityace</td>\n      <td>IT Services</td>\n      <td>2010</td>\n      <td>$9,254,614</td>\n      <td>6,249,498 Dollars</td>\n      <td>3005116</td>\n      <td>6%</td>\n    </tr>\n    <tr>\n      <th>7</th>\n      <td>8</td>\n      <td>No</td>\n      <td>Kayelectronics</td>\n      <td>IT Services</td>\n      <td>2009</td>\n      <td>$9,451,943</td>\n      <td>3,878,113 Dollars</td>\n      <td>5573830</td>\n      <td>4%</td>\n    </tr>\n    <tr>\n      <th>8</th>\n      <td>9</td>\n      <td>Yes</td>\n      <td>Ganzlax</td>\n      <td>IT Services</td>\n      <td>2011</td>\n      <td>$14,001,180</td>\n      <td>NaN</td>\n      <td>11901180</td>\n      <td>18%</td>\n    </tr>\n    <tr>\n      <th>9</th>\n      <td>10</td>\n      <td>No</td>\n      <td>Trantraxlax</td>\n      <td>Government Services</td>\n      <td>2011</td>\n      <td>$11,088,336</td>\n      <td>5,635,276 Dollars</td>\n      <td>5453060</td>\n      <td>7%</td>\n    </tr>\n  </tbody>\n</table>\n</div>"
          },
          "metadata": {}
        }
      ]
    },
    {
      "cell_type": "code",
      "source": "#checking null value in dataset\ndf.isnull()",
      "metadata": {
        "trusted": true
      },
      "execution_count": 6,
      "outputs": [
        {
          "execution_count": 6,
          "output_type": "execute_result",
          "data": {
            "text/plain": "      ID   Date   Name  Industry  Inception  Revenue  Expenses  Profit  Growth\n0  False  False  False     False      False    False     False   False   False\n1  False  False  False     False      False    False     False   False   False\n2  False  False  False     False      False    False     False   False   False\n3  False  False  False     False      False    False     False   False   False\n4  False  False  False     False      False    False     False   False   False\n5  False  False  False     False      False    False     False   False   False\n6  False  False  False     False      False    False     False   False   False\n7  False  False  False     False      False    False     False   False   False\n8  False  False  False     False      False    False      True   False   False\n9  False  False  False     False      False    False     False   False   False",
            "text/html": "<div>\n<style scoped>\n    .dataframe tbody tr th:only-of-type {\n        vertical-align: middle;\n    }\n\n    .dataframe tbody tr th {\n        vertical-align: top;\n    }\n\n    .dataframe thead th {\n        text-align: right;\n    }\n</style>\n<table border=\"1\" class=\"dataframe\">\n  <thead>\n    <tr style=\"text-align: right;\">\n      <th></th>\n      <th>ID</th>\n      <th>Date</th>\n      <th>Name</th>\n      <th>Industry</th>\n      <th>Inception</th>\n      <th>Revenue</th>\n      <th>Expenses</th>\n      <th>Profit</th>\n      <th>Growth</th>\n    </tr>\n  </thead>\n  <tbody>\n    <tr>\n      <th>0</th>\n      <td>False</td>\n      <td>False</td>\n      <td>False</td>\n      <td>False</td>\n      <td>False</td>\n      <td>False</td>\n      <td>False</td>\n      <td>False</td>\n      <td>False</td>\n    </tr>\n    <tr>\n      <th>1</th>\n      <td>False</td>\n      <td>False</td>\n      <td>False</td>\n      <td>False</td>\n      <td>False</td>\n      <td>False</td>\n      <td>False</td>\n      <td>False</td>\n      <td>False</td>\n    </tr>\n    <tr>\n      <th>2</th>\n      <td>False</td>\n      <td>False</td>\n      <td>False</td>\n      <td>False</td>\n      <td>False</td>\n      <td>False</td>\n      <td>False</td>\n      <td>False</td>\n      <td>False</td>\n    </tr>\n    <tr>\n      <th>3</th>\n      <td>False</td>\n      <td>False</td>\n      <td>False</td>\n      <td>False</td>\n      <td>False</td>\n      <td>False</td>\n      <td>False</td>\n      <td>False</td>\n      <td>False</td>\n    </tr>\n    <tr>\n      <th>4</th>\n      <td>False</td>\n      <td>False</td>\n      <td>False</td>\n      <td>False</td>\n      <td>False</td>\n      <td>False</td>\n      <td>False</td>\n      <td>False</td>\n      <td>False</td>\n    </tr>\n    <tr>\n      <th>5</th>\n      <td>False</td>\n      <td>False</td>\n      <td>False</td>\n      <td>False</td>\n      <td>False</td>\n      <td>False</td>\n      <td>False</td>\n      <td>False</td>\n      <td>False</td>\n    </tr>\n    <tr>\n      <th>6</th>\n      <td>False</td>\n      <td>False</td>\n      <td>False</td>\n      <td>False</td>\n      <td>False</td>\n      <td>False</td>\n      <td>False</td>\n      <td>False</td>\n      <td>False</td>\n    </tr>\n    <tr>\n      <th>7</th>\n      <td>False</td>\n      <td>False</td>\n      <td>False</td>\n      <td>False</td>\n      <td>False</td>\n      <td>False</td>\n      <td>False</td>\n      <td>False</td>\n      <td>False</td>\n    </tr>\n    <tr>\n      <th>8</th>\n      <td>False</td>\n      <td>False</td>\n      <td>False</td>\n      <td>False</td>\n      <td>False</td>\n      <td>False</td>\n      <td>True</td>\n      <td>False</td>\n      <td>False</td>\n    </tr>\n    <tr>\n      <th>9</th>\n      <td>False</td>\n      <td>False</td>\n      <td>False</td>\n      <td>False</td>\n      <td>False</td>\n      <td>False</td>\n      <td>False</td>\n      <td>False</td>\n      <td>False</td>\n    </tr>\n  </tbody>\n</table>\n</div>"
          },
          "metadata": {}
        }
      ]
    },
    {
      "cell_type": "code",
      "source": "#let's go towards dataset and delete some value then check isnull()",
      "metadata": {
        "trusted": true
      },
      "execution_count": 7,
      "outputs": []
    },
    {
      "cell_type": "code",
      "source": "df=pd.read_csv(\"Fortune_10.csv\")\ndf",
      "metadata": {
        "trusted": true
      },
      "execution_count": 9,
      "outputs": [
        {
          "execution_count": 9,
          "output_type": "execute_result",
          "data": {
            "text/plain": "   ID Date             Name             Industry  Inception       Revenue  \\\n0   1  Yes          Lamtone          IT Services       2009  $11,757,018    \n1   2  Yes        Stripfind   Financial Services       2010  $12,329,371    \n2   3   No  Canecorporation               Health       2012  $10,597,009    \n3   4  Yes         Mattouch          IT Services       2013  $14,026,934    \n4   5   No        Techdrill                  NaN       2009  $10,573,990    \n5   6  Yes         Techline                  NaN       2006  $13,898,119    \n6   7  Yes          Cityace                  NaN       2010   $9,254,614    \n7   8   No   Kayelectronics          IT Services       2009   $9,451,943    \n8   9  Yes          Ganzlax          IT Services       2011  $14,001,180    \n9  10   No      Trantraxlax  Government Services       2011  $11,088,336    \n\n            Expenses    Profit Growth  \n0  6,482,465 Dollars   5274553    30%  \n1    916,455 Dollars  11412916    20%  \n2  7,591,189 Dollars   3005820     7%  \n3  7,429,377 Dollars   6597557     7%  \n4  7,435,363 Dollars   3138627    NaN  \n5  5,470,303 Dollars   8427816    NaN  \n6  6,249,498 Dollars   3005116    NaN  \n7  3,878,113 Dollars   5573830     4%  \n8                NaN  11901180    18%  \n9  5,635,276 Dollars   5453060     7%  ",
            "text/html": "<div>\n<style scoped>\n    .dataframe tbody tr th:only-of-type {\n        vertical-align: middle;\n    }\n\n    .dataframe tbody tr th {\n        vertical-align: top;\n    }\n\n    .dataframe thead th {\n        text-align: right;\n    }\n</style>\n<table border=\"1\" class=\"dataframe\">\n  <thead>\n    <tr style=\"text-align: right;\">\n      <th></th>\n      <th>ID</th>\n      <th>Date</th>\n      <th>Name</th>\n      <th>Industry</th>\n      <th>Inception</th>\n      <th>Revenue</th>\n      <th>Expenses</th>\n      <th>Profit</th>\n      <th>Growth</th>\n    </tr>\n  </thead>\n  <tbody>\n    <tr>\n      <th>0</th>\n      <td>1</td>\n      <td>Yes</td>\n      <td>Lamtone</td>\n      <td>IT Services</td>\n      <td>2009</td>\n      <td>$11,757,018</td>\n      <td>6,482,465 Dollars</td>\n      <td>5274553</td>\n      <td>30%</td>\n    </tr>\n    <tr>\n      <th>1</th>\n      <td>2</td>\n      <td>Yes</td>\n      <td>Stripfind</td>\n      <td>Financial Services</td>\n      <td>2010</td>\n      <td>$12,329,371</td>\n      <td>916,455 Dollars</td>\n      <td>11412916</td>\n      <td>20%</td>\n    </tr>\n    <tr>\n      <th>2</th>\n      <td>3</td>\n      <td>No</td>\n      <td>Canecorporation</td>\n      <td>Health</td>\n      <td>2012</td>\n      <td>$10,597,009</td>\n      <td>7,591,189 Dollars</td>\n      <td>3005820</td>\n      <td>7%</td>\n    </tr>\n    <tr>\n      <th>3</th>\n      <td>4</td>\n      <td>Yes</td>\n      <td>Mattouch</td>\n      <td>IT Services</td>\n      <td>2013</td>\n      <td>$14,026,934</td>\n      <td>7,429,377 Dollars</td>\n      <td>6597557</td>\n      <td>7%</td>\n    </tr>\n    <tr>\n      <th>4</th>\n      <td>5</td>\n      <td>No</td>\n      <td>Techdrill</td>\n      <td>NaN</td>\n      <td>2009</td>\n      <td>$10,573,990</td>\n      <td>7,435,363 Dollars</td>\n      <td>3138627</td>\n      <td>NaN</td>\n    </tr>\n    <tr>\n      <th>5</th>\n      <td>6</td>\n      <td>Yes</td>\n      <td>Techline</td>\n      <td>NaN</td>\n      <td>2006</td>\n      <td>$13,898,119</td>\n      <td>5,470,303 Dollars</td>\n      <td>8427816</td>\n      <td>NaN</td>\n    </tr>\n    <tr>\n      <th>6</th>\n      <td>7</td>\n      <td>Yes</td>\n      <td>Cityace</td>\n      <td>NaN</td>\n      <td>2010</td>\n      <td>$9,254,614</td>\n      <td>6,249,498 Dollars</td>\n      <td>3005116</td>\n      <td>NaN</td>\n    </tr>\n    <tr>\n      <th>7</th>\n      <td>8</td>\n      <td>No</td>\n      <td>Kayelectronics</td>\n      <td>IT Services</td>\n      <td>2009</td>\n      <td>$9,451,943</td>\n      <td>3,878,113 Dollars</td>\n      <td>5573830</td>\n      <td>4%</td>\n    </tr>\n    <tr>\n      <th>8</th>\n      <td>9</td>\n      <td>Yes</td>\n      <td>Ganzlax</td>\n      <td>IT Services</td>\n      <td>2011</td>\n      <td>$14,001,180</td>\n      <td>NaN</td>\n      <td>11901180</td>\n      <td>18%</td>\n    </tr>\n    <tr>\n      <th>9</th>\n      <td>10</td>\n      <td>No</td>\n      <td>Trantraxlax</td>\n      <td>Government Services</td>\n      <td>2011</td>\n      <td>$11,088,336</td>\n      <td>5,635,276 Dollars</td>\n      <td>5453060</td>\n      <td>7%</td>\n    </tr>\n  </tbody>\n</table>\n</div>"
          },
          "metadata": {}
        }
      ]
    },
    {
      "cell_type": "code",
      "source": "df.isnull()#if it's true  i.e.null then returns True ",
      "metadata": {
        "trusted": true
      },
      "execution_count": 11,
      "outputs": [
        {
          "execution_count": 11,
          "output_type": "execute_result",
          "data": {
            "text/plain": "      ID   Date   Name  Industry  Inception  Revenue  Expenses  Profit  Growth\n0  False  False  False     False      False    False     False   False   False\n1  False  False  False     False      False    False     False   False   False\n2  False  False  False     False      False    False     False   False   False\n3  False  False  False     False      False    False     False   False   False\n4  False  False  False      True      False    False     False   False    True\n5  False  False  False      True      False    False     False   False    True\n6  False  False  False      True      False    False     False   False    True\n7  False  False  False     False      False    False     False   False   False\n8  False  False  False     False      False    False      True   False   False\n9  False  False  False     False      False    False     False   False   False",
            "text/html": "<div>\n<style scoped>\n    .dataframe tbody tr th:only-of-type {\n        vertical-align: middle;\n    }\n\n    .dataframe tbody tr th {\n        vertical-align: top;\n    }\n\n    .dataframe thead th {\n        text-align: right;\n    }\n</style>\n<table border=\"1\" class=\"dataframe\">\n  <thead>\n    <tr style=\"text-align: right;\">\n      <th></th>\n      <th>ID</th>\n      <th>Date</th>\n      <th>Name</th>\n      <th>Industry</th>\n      <th>Inception</th>\n      <th>Revenue</th>\n      <th>Expenses</th>\n      <th>Profit</th>\n      <th>Growth</th>\n    </tr>\n  </thead>\n  <tbody>\n    <tr>\n      <th>0</th>\n      <td>False</td>\n      <td>False</td>\n      <td>False</td>\n      <td>False</td>\n      <td>False</td>\n      <td>False</td>\n      <td>False</td>\n      <td>False</td>\n      <td>False</td>\n    </tr>\n    <tr>\n      <th>1</th>\n      <td>False</td>\n      <td>False</td>\n      <td>False</td>\n      <td>False</td>\n      <td>False</td>\n      <td>False</td>\n      <td>False</td>\n      <td>False</td>\n      <td>False</td>\n    </tr>\n    <tr>\n      <th>2</th>\n      <td>False</td>\n      <td>False</td>\n      <td>False</td>\n      <td>False</td>\n      <td>False</td>\n      <td>False</td>\n      <td>False</td>\n      <td>False</td>\n      <td>False</td>\n    </tr>\n    <tr>\n      <th>3</th>\n      <td>False</td>\n      <td>False</td>\n      <td>False</td>\n      <td>False</td>\n      <td>False</td>\n      <td>False</td>\n      <td>False</td>\n      <td>False</td>\n      <td>False</td>\n    </tr>\n    <tr>\n      <th>4</th>\n      <td>False</td>\n      <td>False</td>\n      <td>False</td>\n      <td>True</td>\n      <td>False</td>\n      <td>False</td>\n      <td>False</td>\n      <td>False</td>\n      <td>True</td>\n    </tr>\n    <tr>\n      <th>5</th>\n      <td>False</td>\n      <td>False</td>\n      <td>False</td>\n      <td>True</td>\n      <td>False</td>\n      <td>False</td>\n      <td>False</td>\n      <td>False</td>\n      <td>True</td>\n    </tr>\n    <tr>\n      <th>6</th>\n      <td>False</td>\n      <td>False</td>\n      <td>False</td>\n      <td>True</td>\n      <td>False</td>\n      <td>False</td>\n      <td>False</td>\n      <td>False</td>\n      <td>True</td>\n    </tr>\n    <tr>\n      <th>7</th>\n      <td>False</td>\n      <td>False</td>\n      <td>False</td>\n      <td>False</td>\n      <td>False</td>\n      <td>False</td>\n      <td>False</td>\n      <td>False</td>\n      <td>False</td>\n    </tr>\n    <tr>\n      <th>8</th>\n      <td>False</td>\n      <td>False</td>\n      <td>False</td>\n      <td>False</td>\n      <td>False</td>\n      <td>False</td>\n      <td>True</td>\n      <td>False</td>\n      <td>False</td>\n    </tr>\n    <tr>\n      <th>9</th>\n      <td>False</td>\n      <td>False</td>\n      <td>False</td>\n      <td>False</td>\n      <td>False</td>\n      <td>False</td>\n      <td>False</td>\n      <td>False</td>\n      <td>False</td>\n    </tr>\n  </tbody>\n</table>\n</div>"
          },
          "metadata": {}
        }
      ]
    },
    {
      "cell_type": "code",
      "source": "#checking how many numbers of null values in column ",
      "metadata": {
        "trusted": true
      },
      "execution_count": 12,
      "outputs": []
    },
    {
      "cell_type": "code",
      "source": "df.isnull().sum()",
      "metadata": {
        "trusted": true
      },
      "execution_count": 13,
      "outputs": [
        {
          "execution_count": 13,
          "output_type": "execute_result",
          "data": {
            "text/plain": "ID           0\nDate         0\nName         0\nIndustry     3\nInception    0\nRevenue      0\nExpenses     1\nProfit       0\nGrowth       3\ndtype: int64"
          },
          "metadata": {}
        }
      ]
    },
    {
      "cell_type": "code",
      "source": "#wanna know total null values",
      "metadata": {
        "trusted": true
      },
      "execution_count": 14,
      "outputs": []
    },
    {
      "cell_type": "code",
      "source": "df.isnull().sum().sum()",
      "metadata": {
        "trusted": true
      },
      "execution_count": 15,
      "outputs": [
        {
          "execution_count": 15,
          "output_type": "execute_result",
          "data": {
            "text/plain": "7"
          },
          "metadata": {}
        }
      ]
    },
    {
      "cell_type": "code",
      "source": "#notnull is opposite to isnull\ndf=pd.read_csv(\"Fortune_10.csv\")\ndf",
      "metadata": {
        "trusted": true
      },
      "execution_count": 16,
      "outputs": [
        {
          "execution_count": 16,
          "output_type": "execute_result",
          "data": {
            "text/plain": "   ID Date             Name             Industry  Inception       Revenue  \\\n0   1  Yes          Lamtone          IT Services       2009  $11,757,018    \n1   2  Yes        Stripfind   Financial Services       2010  $12,329,371    \n2   3   No  Canecorporation               Health       2012  $10,597,009    \n3   4  Yes         Mattouch          IT Services       2013  $14,026,934    \n4   5   No        Techdrill                  NaN       2009  $10,573,990    \n5   6  Yes         Techline                  NaN       2006  $13,898,119    \n6   7  Yes          Cityace                  NaN       2010   $9,254,614    \n7   8   No   Kayelectronics          IT Services       2009   $9,451,943    \n8   9  Yes          Ganzlax          IT Services       2011  $14,001,180    \n9  10   No      Trantraxlax  Government Services       2011  $11,088,336    \n\n            Expenses    Profit Growth  \n0  6,482,465 Dollars   5274553    30%  \n1    916,455 Dollars  11412916    20%  \n2  7,591,189 Dollars   3005820     7%  \n3  7,429,377 Dollars   6597557     7%  \n4  7,435,363 Dollars   3138627    NaN  \n5  5,470,303 Dollars   8427816    NaN  \n6  6,249,498 Dollars   3005116    NaN  \n7  3,878,113 Dollars   5573830     4%  \n8                NaN  11901180    18%  \n9  5,635,276 Dollars   5453060     7%  ",
            "text/html": "<div>\n<style scoped>\n    .dataframe tbody tr th:only-of-type {\n        vertical-align: middle;\n    }\n\n    .dataframe tbody tr th {\n        vertical-align: top;\n    }\n\n    .dataframe thead th {\n        text-align: right;\n    }\n</style>\n<table border=\"1\" class=\"dataframe\">\n  <thead>\n    <tr style=\"text-align: right;\">\n      <th></th>\n      <th>ID</th>\n      <th>Date</th>\n      <th>Name</th>\n      <th>Industry</th>\n      <th>Inception</th>\n      <th>Revenue</th>\n      <th>Expenses</th>\n      <th>Profit</th>\n      <th>Growth</th>\n    </tr>\n  </thead>\n  <tbody>\n    <tr>\n      <th>0</th>\n      <td>1</td>\n      <td>Yes</td>\n      <td>Lamtone</td>\n      <td>IT Services</td>\n      <td>2009</td>\n      <td>$11,757,018</td>\n      <td>6,482,465 Dollars</td>\n      <td>5274553</td>\n      <td>30%</td>\n    </tr>\n    <tr>\n      <th>1</th>\n      <td>2</td>\n      <td>Yes</td>\n      <td>Stripfind</td>\n      <td>Financial Services</td>\n      <td>2010</td>\n      <td>$12,329,371</td>\n      <td>916,455 Dollars</td>\n      <td>11412916</td>\n      <td>20%</td>\n    </tr>\n    <tr>\n      <th>2</th>\n      <td>3</td>\n      <td>No</td>\n      <td>Canecorporation</td>\n      <td>Health</td>\n      <td>2012</td>\n      <td>$10,597,009</td>\n      <td>7,591,189 Dollars</td>\n      <td>3005820</td>\n      <td>7%</td>\n    </tr>\n    <tr>\n      <th>3</th>\n      <td>4</td>\n      <td>Yes</td>\n      <td>Mattouch</td>\n      <td>IT Services</td>\n      <td>2013</td>\n      <td>$14,026,934</td>\n      <td>7,429,377 Dollars</td>\n      <td>6597557</td>\n      <td>7%</td>\n    </tr>\n    <tr>\n      <th>4</th>\n      <td>5</td>\n      <td>No</td>\n      <td>Techdrill</td>\n      <td>NaN</td>\n      <td>2009</td>\n      <td>$10,573,990</td>\n      <td>7,435,363 Dollars</td>\n      <td>3138627</td>\n      <td>NaN</td>\n    </tr>\n    <tr>\n      <th>5</th>\n      <td>6</td>\n      <td>Yes</td>\n      <td>Techline</td>\n      <td>NaN</td>\n      <td>2006</td>\n      <td>$13,898,119</td>\n      <td>5,470,303 Dollars</td>\n      <td>8427816</td>\n      <td>NaN</td>\n    </tr>\n    <tr>\n      <th>6</th>\n      <td>7</td>\n      <td>Yes</td>\n      <td>Cityace</td>\n      <td>NaN</td>\n      <td>2010</td>\n      <td>$9,254,614</td>\n      <td>6,249,498 Dollars</td>\n      <td>3005116</td>\n      <td>NaN</td>\n    </tr>\n    <tr>\n      <th>7</th>\n      <td>8</td>\n      <td>No</td>\n      <td>Kayelectronics</td>\n      <td>IT Services</td>\n      <td>2009</td>\n      <td>$9,451,943</td>\n      <td>3,878,113 Dollars</td>\n      <td>5573830</td>\n      <td>4%</td>\n    </tr>\n    <tr>\n      <th>8</th>\n      <td>9</td>\n      <td>Yes</td>\n      <td>Ganzlax</td>\n      <td>IT Services</td>\n      <td>2011</td>\n      <td>$14,001,180</td>\n      <td>NaN</td>\n      <td>11901180</td>\n      <td>18%</td>\n    </tr>\n    <tr>\n      <th>9</th>\n      <td>10</td>\n      <td>No</td>\n      <td>Trantraxlax</td>\n      <td>Government Services</td>\n      <td>2011</td>\n      <td>$11,088,336</td>\n      <td>5,635,276 Dollars</td>\n      <td>5453060</td>\n      <td>7%</td>\n    </tr>\n  </tbody>\n</table>\n</div>"
          },
          "metadata": {}
        }
      ]
    },
    {
      "cell_type": "code",
      "source": "df.notnull()",
      "metadata": {
        "trusted": true
      },
      "execution_count": 17,
      "outputs": [
        {
          "execution_count": 17,
          "output_type": "execute_result",
          "data": {
            "text/plain": "     ID  Date  Name  Industry  Inception  Revenue  Expenses  Profit  Growth\n0  True  True  True      True       True     True      True    True    True\n1  True  True  True      True       True     True      True    True    True\n2  True  True  True      True       True     True      True    True    True\n3  True  True  True      True       True     True      True    True    True\n4  True  True  True     False       True     True      True    True   False\n5  True  True  True     False       True     True      True    True   False\n6  True  True  True     False       True     True      True    True   False\n7  True  True  True      True       True     True      True    True    True\n8  True  True  True      True       True     True     False    True    True\n9  True  True  True      True       True     True      True    True    True",
            "text/html": "<div>\n<style scoped>\n    .dataframe tbody tr th:only-of-type {\n        vertical-align: middle;\n    }\n\n    .dataframe tbody tr th {\n        vertical-align: top;\n    }\n\n    .dataframe thead th {\n        text-align: right;\n    }\n</style>\n<table border=\"1\" class=\"dataframe\">\n  <thead>\n    <tr style=\"text-align: right;\">\n      <th></th>\n      <th>ID</th>\n      <th>Date</th>\n      <th>Name</th>\n      <th>Industry</th>\n      <th>Inception</th>\n      <th>Revenue</th>\n      <th>Expenses</th>\n      <th>Profit</th>\n      <th>Growth</th>\n    </tr>\n  </thead>\n  <tbody>\n    <tr>\n      <th>0</th>\n      <td>True</td>\n      <td>True</td>\n      <td>True</td>\n      <td>True</td>\n      <td>True</td>\n      <td>True</td>\n      <td>True</td>\n      <td>True</td>\n      <td>True</td>\n    </tr>\n    <tr>\n      <th>1</th>\n      <td>True</td>\n      <td>True</td>\n      <td>True</td>\n      <td>True</td>\n      <td>True</td>\n      <td>True</td>\n      <td>True</td>\n      <td>True</td>\n      <td>True</td>\n    </tr>\n    <tr>\n      <th>2</th>\n      <td>True</td>\n      <td>True</td>\n      <td>True</td>\n      <td>True</td>\n      <td>True</td>\n      <td>True</td>\n      <td>True</td>\n      <td>True</td>\n      <td>True</td>\n    </tr>\n    <tr>\n      <th>3</th>\n      <td>True</td>\n      <td>True</td>\n      <td>True</td>\n      <td>True</td>\n      <td>True</td>\n      <td>True</td>\n      <td>True</td>\n      <td>True</td>\n      <td>True</td>\n    </tr>\n    <tr>\n      <th>4</th>\n      <td>True</td>\n      <td>True</td>\n      <td>True</td>\n      <td>False</td>\n      <td>True</td>\n      <td>True</td>\n      <td>True</td>\n      <td>True</td>\n      <td>False</td>\n    </tr>\n    <tr>\n      <th>5</th>\n      <td>True</td>\n      <td>True</td>\n      <td>True</td>\n      <td>False</td>\n      <td>True</td>\n      <td>True</td>\n      <td>True</td>\n      <td>True</td>\n      <td>False</td>\n    </tr>\n    <tr>\n      <th>6</th>\n      <td>True</td>\n      <td>True</td>\n      <td>True</td>\n      <td>False</td>\n      <td>True</td>\n      <td>True</td>\n      <td>True</td>\n      <td>True</td>\n      <td>False</td>\n    </tr>\n    <tr>\n      <th>7</th>\n      <td>True</td>\n      <td>True</td>\n      <td>True</td>\n      <td>True</td>\n      <td>True</td>\n      <td>True</td>\n      <td>True</td>\n      <td>True</td>\n      <td>True</td>\n    </tr>\n    <tr>\n      <th>8</th>\n      <td>True</td>\n      <td>True</td>\n      <td>True</td>\n      <td>True</td>\n      <td>True</td>\n      <td>True</td>\n      <td>False</td>\n      <td>True</td>\n      <td>True</td>\n    </tr>\n    <tr>\n      <th>9</th>\n      <td>True</td>\n      <td>True</td>\n      <td>True</td>\n      <td>True</td>\n      <td>True</td>\n      <td>True</td>\n      <td>True</td>\n      <td>True</td>\n      <td>True</td>\n    </tr>\n  </tbody>\n</table>\n</div>"
          },
          "metadata": {}
        }
      ]
    },
    {
      "cell_type": "code",
      "source": "#Its consider the values present ",
      "metadata": {
        "trusted": true
      },
      "execution_count": 18,
      "outputs": []
    },
    {
      "cell_type": "code",
      "source": "df.notnull().sum()#returns no of values present",
      "metadata": {
        "trusted": true
      },
      "execution_count": 20,
      "outputs": [
        {
          "execution_count": 20,
          "output_type": "execute_result",
          "data": {
            "text/plain": "ID           10\nDate         10\nName         10\nIndustry      7\nInception    10\nRevenue      10\nExpenses      9\nProfit       10\nGrowth        7\ndtype: int64"
          },
          "metadata": {}
        }
      ]
    },
    {
      "cell_type": "code",
      "source": "df.notnull().sum().sum()#the no of values which are present ",
      "metadata": {
        "trusted": true
      },
      "execution_count": 22,
      "outputs": [
        {
          "execution_count": 22,
          "output_type": "execute_result",
          "data": {
            "text/plain": "83"
          },
          "metadata": {}
        }
      ]
    },
    {
      "cell_type": "code",
      "source": "#let's see it for series",
      "metadata": {
        "trusted": true
      },
      "execution_count": 23,
      "outputs": []
    },
    {
      "cell_type": "code",
      "source": "#Series\nimport numpy as np\nsr=pd.Series([1,2,3,np.nan,4,np.nan])\nsr",
      "metadata": {
        "trusted": true
      },
      "execution_count": 26,
      "outputs": [
        {
          "execution_count": 26,
          "output_type": "execute_result",
          "data": {
            "text/plain": "0    1.0\n1    2.0\n2    3.0\n3    NaN\n4    4.0\n5    NaN\ndtype: float64"
          },
          "metadata": {}
        }
      ]
    },
    {
      "cell_type": "code",
      "source": "sr.isnull()",
      "metadata": {
        "trusted": true
      },
      "execution_count": 27,
      "outputs": [
        {
          "execution_count": 27,
          "output_type": "execute_result",
          "data": {
            "text/plain": "0    False\n1    False\n2    False\n3     True\n4    False\n5     True\ndtype: bool"
          },
          "metadata": {}
        }
      ]
    },
    {
      "cell_type": "code",
      "source": "sr.isnull().sum()",
      "metadata": {
        "trusted": true
      },
      "execution_count": 28,
      "outputs": [
        {
          "execution_count": 28,
          "output_type": "execute_result",
          "data": {
            "text/plain": "2"
          },
          "metadata": {}
        }
      ]
    },
    {
      "cell_type": "code",
      "source": "sr.isnull().sum().sum()",
      "metadata": {
        "trusted": true
      },
      "execution_count": 29,
      "outputs": [
        {
          "execution_count": 29,
          "output_type": "execute_result",
          "data": {
            "text/plain": "2"
          },
          "metadata": {}
        }
      ]
    },
    {
      "cell_type": "code",
      "source": "#**********************PART 10********************************\n#Handling missing value #3",
      "metadata": {
        "trusted": true
      },
      "execution_count": 31,
      "outputs": []
    },
    {
      "cell_type": "code",
      "source": "df=pd.read_csv(\"Fortune_5.csv\")\ndf",
      "metadata": {
        "trusted": true
      },
      "execution_count": 32,
      "outputs": [
        {
          "execution_count": 32,
          "output_type": "execute_result",
          "data": {
            "text/plain": "   ID             Name           Companies        Profit    Growth Unnamed: 5\n0   1          Lamtone         IT Services  $11,757,018    5274553        30%\n1   2        Stripfind  Financial Services  $12,329,371   11412916        20%\n2   3  Canecorporation              Health  $10,597,009    3005820         7%\n3   4              NaN         IT Services  $14,026,934    6597557         7%\n4   5              NaN                 NaN  $10,573,990    3138627        NaN",
            "text/html": "<div>\n<style scoped>\n    .dataframe tbody tr th:only-of-type {\n        vertical-align: middle;\n    }\n\n    .dataframe tbody tr th {\n        vertical-align: top;\n    }\n\n    .dataframe thead th {\n        text-align: right;\n    }\n</style>\n<table border=\"1\" class=\"dataframe\">\n  <thead>\n    <tr style=\"text-align: right;\">\n      <th></th>\n      <th>ID</th>\n      <th>Name</th>\n      <th>Companies</th>\n      <th>Profit</th>\n      <th>Growth</th>\n      <th>Unnamed: 5</th>\n    </tr>\n  </thead>\n  <tbody>\n    <tr>\n      <th>0</th>\n      <td>1</td>\n      <td>Lamtone</td>\n      <td>IT Services</td>\n      <td>$11,757,018</td>\n      <td>5274553</td>\n      <td>30%</td>\n    </tr>\n    <tr>\n      <th>1</th>\n      <td>2</td>\n      <td>Stripfind</td>\n      <td>Financial Services</td>\n      <td>$12,329,371</td>\n      <td>11412916</td>\n      <td>20%</td>\n    </tr>\n    <tr>\n      <th>2</th>\n      <td>3</td>\n      <td>Canecorporation</td>\n      <td>Health</td>\n      <td>$10,597,009</td>\n      <td>3005820</td>\n      <td>7%</td>\n    </tr>\n    <tr>\n      <th>3</th>\n      <td>4</td>\n      <td>NaN</td>\n      <td>IT Services</td>\n      <td>$14,026,934</td>\n      <td>6597557</td>\n      <td>7%</td>\n    </tr>\n    <tr>\n      <th>4</th>\n      <td>5</td>\n      <td>NaN</td>\n      <td>NaN</td>\n      <td>$10,573,990</td>\n      <td>3138627</td>\n      <td>NaN</td>\n    </tr>\n  </tbody>\n</table>\n</div>"
          },
          "metadata": {}
        }
      ]
    },
    {
      "cell_type": "code",
      "source": "#drpna is used for dropping the corresponding row/column which contains missing values and creating new dataframe ",
      "metadata": {
        "trusted": true
      },
      "execution_count": 33,
      "outputs": []
    },
    {
      "cell_type": "code",
      "source": "df.dropna()#dropped 3rd and 4 th row by default",
      "metadata": {
        "trusted": true
      },
      "execution_count": 36,
      "outputs": [
        {
          "execution_count": 36,
          "output_type": "execute_result",
          "data": {
            "text/plain": "   ID             Name           Companies        Profit    Growth Unnamed: 5\n0   1          Lamtone         IT Services  $11,757,018    5274553        30%\n1   2        Stripfind  Financial Services  $12,329,371   11412916        20%\n2   3  Canecorporation              Health  $10,597,009    3005820         7%",
            "text/html": "<div>\n<style scoped>\n    .dataframe tbody tr th:only-of-type {\n        vertical-align: middle;\n    }\n\n    .dataframe tbody tr th {\n        vertical-align: top;\n    }\n\n    .dataframe thead th {\n        text-align: right;\n    }\n</style>\n<table border=\"1\" class=\"dataframe\">\n  <thead>\n    <tr style=\"text-align: right;\">\n      <th></th>\n      <th>ID</th>\n      <th>Name</th>\n      <th>Companies</th>\n      <th>Profit</th>\n      <th>Growth</th>\n      <th>Unnamed: 5</th>\n    </tr>\n  </thead>\n  <tbody>\n    <tr>\n      <th>0</th>\n      <td>1</td>\n      <td>Lamtone</td>\n      <td>IT Services</td>\n      <td>$11,757,018</td>\n      <td>5274553</td>\n      <td>30%</td>\n    </tr>\n    <tr>\n      <th>1</th>\n      <td>2</td>\n      <td>Stripfind</td>\n      <td>Financial Services</td>\n      <td>$12,329,371</td>\n      <td>11412916</td>\n      <td>20%</td>\n    </tr>\n    <tr>\n      <th>2</th>\n      <td>3</td>\n      <td>Canecorporation</td>\n      <td>Health</td>\n      <td>$10,597,009</td>\n      <td>3005820</td>\n      <td>7%</td>\n    </tr>\n  </tbody>\n</table>\n</div>"
          },
          "metadata": {}
        }
      ]
    },
    {
      "cell_type": "code",
      "source": "df.dropna(axis=1)#dropping the column which contains NaN values ",
      "metadata": {
        "trusted": true
      },
      "execution_count": 38,
      "outputs": [
        {
          "execution_count": 38,
          "output_type": "execute_result",
          "data": {
            "text/plain": "   ID        Profit    Growth\n0   1  $11,757,018    5274553\n1   2  $12,329,371   11412916\n2   3  $10,597,009    3005820\n3   4  $14,026,934    6597557\n4   5  $10,573,990    3138627",
            "text/html": "<div>\n<style scoped>\n    .dataframe tbody tr th:only-of-type {\n        vertical-align: middle;\n    }\n\n    .dataframe tbody tr th {\n        vertical-align: top;\n    }\n\n    .dataframe thead th {\n        text-align: right;\n    }\n</style>\n<table border=\"1\" class=\"dataframe\">\n  <thead>\n    <tr style=\"text-align: right;\">\n      <th></th>\n      <th>ID</th>\n      <th>Profit</th>\n      <th>Growth</th>\n    </tr>\n  </thead>\n  <tbody>\n    <tr>\n      <th>0</th>\n      <td>1</td>\n      <td>$11,757,018</td>\n      <td>5274553</td>\n    </tr>\n    <tr>\n      <th>1</th>\n      <td>2</td>\n      <td>$12,329,371</td>\n      <td>11412916</td>\n    </tr>\n    <tr>\n      <th>2</th>\n      <td>3</td>\n      <td>$10,597,009</td>\n      <td>3005820</td>\n    </tr>\n    <tr>\n      <th>3</th>\n      <td>4</td>\n      <td>$14,026,934</td>\n      <td>6597557</td>\n    </tr>\n    <tr>\n      <th>4</th>\n      <td>5</td>\n      <td>$10,573,990</td>\n      <td>3138627</td>\n    </tr>\n  </tbody>\n</table>\n</div>"
          },
          "metadata": {}
        }
      ]
    },
    {
      "cell_type": "code",
      "source": "#lets's understand dropna's different parameters",
      "metadata": {
        "trusted": true
      },
      "execution_count": 39,
      "outputs": []
    },
    {
      "cell_type": "code",
      "source": "#df.dropna(\n#    axis: 'Axis' = 0,\n#    how: 'str' = 'any',\n#    thresh=None,\n #   subset: 'IndexLabel' = None,\n  #  inplace: 'bool' = False,)",
      "metadata": {
        "trusted": true
      },
      "execution_count": 40,
      "outputs": []
    },
    {
      "cell_type": "code",
      "source": "#HOW = if any value is NaN then its drop that row or col or 'all' means it drops all rows and col\n",
      "metadata": {
        "trusted": true
      },
      "execution_count": 43,
      "outputs": []
    },
    {
      "cell_type": "code",
      "source": "df.dropna(how='any')",
      "metadata": {
        "trusted": true
      },
      "execution_count": 42,
      "outputs": [
        {
          "execution_count": 42,
          "output_type": "execute_result",
          "data": {
            "text/plain": "   ID             Name           Companies        Profit    Growth Unnamed: 5\n0   1          Lamtone         IT Services  $11,757,018    5274553        30%\n1   2        Stripfind  Financial Services  $12,329,371   11412916        20%\n2   3  Canecorporation              Health  $10,597,009    3005820         7%",
            "text/html": "<div>\n<style scoped>\n    .dataframe tbody tr th:only-of-type {\n        vertical-align: middle;\n    }\n\n    .dataframe tbody tr th {\n        vertical-align: top;\n    }\n\n    .dataframe thead th {\n        text-align: right;\n    }\n</style>\n<table border=\"1\" class=\"dataframe\">\n  <thead>\n    <tr style=\"text-align: right;\">\n      <th></th>\n      <th>ID</th>\n      <th>Name</th>\n      <th>Companies</th>\n      <th>Profit</th>\n      <th>Growth</th>\n      <th>Unnamed: 5</th>\n    </tr>\n  </thead>\n  <tbody>\n    <tr>\n      <th>0</th>\n      <td>1</td>\n      <td>Lamtone</td>\n      <td>IT Services</td>\n      <td>$11,757,018</td>\n      <td>5274553</td>\n      <td>30%</td>\n    </tr>\n    <tr>\n      <th>1</th>\n      <td>2</td>\n      <td>Stripfind</td>\n      <td>Financial Services</td>\n      <td>$12,329,371</td>\n      <td>11412916</td>\n      <td>20%</td>\n    </tr>\n    <tr>\n      <th>2</th>\n      <td>3</td>\n      <td>Canecorporation</td>\n      <td>Health</td>\n      <td>$10,597,009</td>\n      <td>3005820</td>\n      <td>7%</td>\n    </tr>\n  </tbody>\n</table>\n</div>"
          },
          "metadata": {}
        }
      ]
    },
    {
      "cell_type": "code",
      "source": "df=pd.read_csv(\"Fortune_5.csv\")\ndf",
      "metadata": {
        "trusted": true
      },
      "execution_count": 45,
      "outputs": [
        {
          "execution_count": 45,
          "output_type": "execute_result",
          "data": {
            "text/plain": "   ID             Name           Companies    Profit Growth\n0   1          Lamtone         IT Services   5274553    30%\n1   2        Stripfind  Financial Services  11412916    20%\n2   3  Canecorporation              Health   3005820     7%\n3   4              NaN         IT Services   6597557     7%\n4   5              NaN                 NaN   3138627    NaN",
            "text/html": "<div>\n<style scoped>\n    .dataframe tbody tr th:only-of-type {\n        vertical-align: middle;\n    }\n\n    .dataframe tbody tr th {\n        vertical-align: top;\n    }\n\n    .dataframe thead th {\n        text-align: right;\n    }\n</style>\n<table border=\"1\" class=\"dataframe\">\n  <thead>\n    <tr style=\"text-align: right;\">\n      <th></th>\n      <th>ID</th>\n      <th>Name</th>\n      <th>Companies</th>\n      <th>Profit</th>\n      <th>Growth</th>\n    </tr>\n  </thead>\n  <tbody>\n    <tr>\n      <th>0</th>\n      <td>1</td>\n      <td>Lamtone</td>\n      <td>IT Services</td>\n      <td>5274553</td>\n      <td>30%</td>\n    </tr>\n    <tr>\n      <th>1</th>\n      <td>2</td>\n      <td>Stripfind</td>\n      <td>Financial Services</td>\n      <td>11412916</td>\n      <td>20%</td>\n    </tr>\n    <tr>\n      <th>2</th>\n      <td>3</td>\n      <td>Canecorporation</td>\n      <td>Health</td>\n      <td>3005820</td>\n      <td>7%</td>\n    </tr>\n    <tr>\n      <th>3</th>\n      <td>4</td>\n      <td>NaN</td>\n      <td>IT Services</td>\n      <td>6597557</td>\n      <td>7%</td>\n    </tr>\n    <tr>\n      <th>4</th>\n      <td>5</td>\n      <td>NaN</td>\n      <td>NaN</td>\n      <td>3138627</td>\n      <td>NaN</td>\n    </tr>\n  </tbody>\n</table>\n</div>"
          },
          "metadata": {}
        }
      ]
    },
    {
      "cell_type": "code",
      "source": "df.dropna(how='any', axis=1)",
      "metadata": {
        "trusted": true
      },
      "execution_count": 48,
      "outputs": [
        {
          "execution_count": 48,
          "output_type": "execute_result",
          "data": {
            "text/plain": "   ID    Profit\n0   1   5274553\n1   2  11412916\n2   3   3005820\n3   4   6597557\n4   5   3138627",
            "text/html": "<div>\n<style scoped>\n    .dataframe tbody tr th:only-of-type {\n        vertical-align: middle;\n    }\n\n    .dataframe tbody tr th {\n        vertical-align: top;\n    }\n\n    .dataframe thead th {\n        text-align: right;\n    }\n</style>\n<table border=\"1\" class=\"dataframe\">\n  <thead>\n    <tr style=\"text-align: right;\">\n      <th></th>\n      <th>ID</th>\n      <th>Profit</th>\n    </tr>\n  </thead>\n  <tbody>\n    <tr>\n      <th>0</th>\n      <td>1</td>\n      <td>5274553</td>\n    </tr>\n    <tr>\n      <th>1</th>\n      <td>2</td>\n      <td>11412916</td>\n    </tr>\n    <tr>\n      <th>2</th>\n      <td>3</td>\n      <td>3005820</td>\n    </tr>\n    <tr>\n      <th>3</th>\n      <td>4</td>\n      <td>6597557</td>\n    </tr>\n    <tr>\n      <th>4</th>\n      <td>5</td>\n      <td>3138627</td>\n    </tr>\n  </tbody>\n</table>\n</div>"
          },
          "metadata": {}
        }
      ]
    },
    {
      "cell_type": "code",
      "source": "df.dropna(how='any')",
      "metadata": {
        "trusted": true
      },
      "execution_count": 49,
      "outputs": [
        {
          "execution_count": 49,
          "output_type": "execute_result",
          "data": {
            "text/plain": "   ID             Name           Companies    Profit Growth\n0   1          Lamtone         IT Services   5274553    30%\n1   2        Stripfind  Financial Services  11412916    20%\n2   3  Canecorporation              Health   3005820     7%",
            "text/html": "<div>\n<style scoped>\n    .dataframe tbody tr th:only-of-type {\n        vertical-align: middle;\n    }\n\n    .dataframe tbody tr th {\n        vertical-align: top;\n    }\n\n    .dataframe thead th {\n        text-align: right;\n    }\n</style>\n<table border=\"1\" class=\"dataframe\">\n  <thead>\n    <tr style=\"text-align: right;\">\n      <th></th>\n      <th>ID</th>\n      <th>Name</th>\n      <th>Companies</th>\n      <th>Profit</th>\n      <th>Growth</th>\n    </tr>\n  </thead>\n  <tbody>\n    <tr>\n      <th>0</th>\n      <td>1</td>\n      <td>Lamtone</td>\n      <td>IT Services</td>\n      <td>5274553</td>\n      <td>30%</td>\n    </tr>\n    <tr>\n      <th>1</th>\n      <td>2</td>\n      <td>Stripfind</td>\n      <td>Financial Services</td>\n      <td>11412916</td>\n      <td>20%</td>\n    </tr>\n    <tr>\n      <th>2</th>\n      <td>3</td>\n      <td>Canecorporation</td>\n      <td>Health</td>\n      <td>3005820</td>\n      <td>7%</td>\n    </tr>\n  </tbody>\n</table>\n</div>"
          },
          "metadata": {}
        }
      ]
    },
    {
      "cell_type": "code",
      "source": "df.dropna(how='all')#it looks like same df \n#it works only when having all values nan in row / col",
      "metadata": {
        "trusted": true
      },
      "execution_count": 51,
      "outputs": [
        {
          "execution_count": 51,
          "output_type": "execute_result",
          "data": {
            "text/plain": "   ID             Name           Companies    Profit Growth\n0   1          Lamtone         IT Services   5274553    30%\n1   2        Stripfind  Financial Services  11412916    20%\n2   3  Canecorporation              Health   3005820     7%\n3   4              NaN         IT Services   6597557     7%\n4   5              NaN                 NaN   3138627    NaN",
            "text/html": "<div>\n<style scoped>\n    .dataframe tbody tr th:only-of-type {\n        vertical-align: middle;\n    }\n\n    .dataframe tbody tr th {\n        vertical-align: top;\n    }\n\n    .dataframe thead th {\n        text-align: right;\n    }\n</style>\n<table border=\"1\" class=\"dataframe\">\n  <thead>\n    <tr style=\"text-align: right;\">\n      <th></th>\n      <th>ID</th>\n      <th>Name</th>\n      <th>Companies</th>\n      <th>Profit</th>\n      <th>Growth</th>\n    </tr>\n  </thead>\n  <tbody>\n    <tr>\n      <th>0</th>\n      <td>1</td>\n      <td>Lamtone</td>\n      <td>IT Services</td>\n      <td>5274553</td>\n      <td>30%</td>\n    </tr>\n    <tr>\n      <th>1</th>\n      <td>2</td>\n      <td>Stripfind</td>\n      <td>Financial Services</td>\n      <td>11412916</td>\n      <td>20%</td>\n    </tr>\n    <tr>\n      <th>2</th>\n      <td>3</td>\n      <td>Canecorporation</td>\n      <td>Health</td>\n      <td>3005820</td>\n      <td>7%</td>\n    </tr>\n    <tr>\n      <th>3</th>\n      <td>4</td>\n      <td>NaN</td>\n      <td>IT Services</td>\n      <td>6597557</td>\n      <td>7%</td>\n    </tr>\n    <tr>\n      <th>4</th>\n      <td>5</td>\n      <td>NaN</td>\n      <td>NaN</td>\n      <td>3138627</td>\n      <td>NaN</td>\n    </tr>\n  </tbody>\n</table>\n</div>"
          },
          "metadata": {}
        }
      ]
    },
    {
      "cell_type": "code",
      "source": "#so let's make changes and then see",
      "metadata": {
        "trusted": true
      },
      "execution_count": 52,
      "outputs": []
    },
    {
      "cell_type": "code",
      "source": "df.dropna(how='all')",
      "metadata": {
        "trusted": true
      },
      "execution_count": 53,
      "outputs": [
        {
          "execution_count": 53,
          "output_type": "execute_result",
          "data": {
            "text/plain": "   ID             Name           Companies    Profit Growth\n0   1          Lamtone         IT Services   5274553    30%\n1   2        Stripfind  Financial Services  11412916    20%\n2   3  Canecorporation              Health   3005820     7%\n3   4              NaN         IT Services   6597557     7%\n4   5              NaN                 NaN   3138627    NaN",
            "text/html": "<div>\n<style scoped>\n    .dataframe tbody tr th:only-of-type {\n        vertical-align: middle;\n    }\n\n    .dataframe tbody tr th {\n        vertical-align: top;\n    }\n\n    .dataframe thead th {\n        text-align: right;\n    }\n</style>\n<table border=\"1\" class=\"dataframe\">\n  <thead>\n    <tr style=\"text-align: right;\">\n      <th></th>\n      <th>ID</th>\n      <th>Name</th>\n      <th>Companies</th>\n      <th>Profit</th>\n      <th>Growth</th>\n    </tr>\n  </thead>\n  <tbody>\n    <tr>\n      <th>0</th>\n      <td>1</td>\n      <td>Lamtone</td>\n      <td>IT Services</td>\n      <td>5274553</td>\n      <td>30%</td>\n    </tr>\n    <tr>\n      <th>1</th>\n      <td>2</td>\n      <td>Stripfind</td>\n      <td>Financial Services</td>\n      <td>11412916</td>\n      <td>20%</td>\n    </tr>\n    <tr>\n      <th>2</th>\n      <td>3</td>\n      <td>Canecorporation</td>\n      <td>Health</td>\n      <td>3005820</td>\n      <td>7%</td>\n    </tr>\n    <tr>\n      <th>3</th>\n      <td>4</td>\n      <td>NaN</td>\n      <td>IT Services</td>\n      <td>6597557</td>\n      <td>7%</td>\n    </tr>\n    <tr>\n      <th>4</th>\n      <td>5</td>\n      <td>NaN</td>\n      <td>NaN</td>\n      <td>3138627</td>\n      <td>NaN</td>\n    </tr>\n  </tbody>\n</table>\n</div>"
          },
          "metadata": {}
        }
      ]
    },
    {
      "cell_type": "code",
      "source": "#'THRESH' parameter is used when we want minimum not null values\n#it's printing the row which are having at least one  not null value i.e. only printing minimum not  null values",
      "metadata": {
        "trusted": true
      },
      "execution_count": 56,
      "outputs": []
    },
    {
      "cell_type": "code",
      "source": "df.dropna(thresh=1)",
      "metadata": {
        "trusted": true
      },
      "execution_count": 57,
      "outputs": [
        {
          "execution_count": 57,
          "output_type": "execute_result",
          "data": {
            "text/plain": "   ID             Name           Companies    Profit Growth\n0   1          Lamtone         IT Services   5274553    30%\n1   2        Stripfind  Financial Services  11412916    20%\n2   3  Canecorporation              Health   3005820     7%\n3   4              NaN         IT Services   6597557     7%\n4   5              NaN                 NaN   3138627    NaN",
            "text/html": "<div>\n<style scoped>\n    .dataframe tbody tr th:only-of-type {\n        vertical-align: middle;\n    }\n\n    .dataframe tbody tr th {\n        vertical-align: top;\n    }\n\n    .dataframe thead th {\n        text-align: right;\n    }\n</style>\n<table border=\"1\" class=\"dataframe\">\n  <thead>\n    <tr style=\"text-align: right;\">\n      <th></th>\n      <th>ID</th>\n      <th>Name</th>\n      <th>Companies</th>\n      <th>Profit</th>\n      <th>Growth</th>\n    </tr>\n  </thead>\n  <tbody>\n    <tr>\n      <th>0</th>\n      <td>1</td>\n      <td>Lamtone</td>\n      <td>IT Services</td>\n      <td>5274553</td>\n      <td>30%</td>\n    </tr>\n    <tr>\n      <th>1</th>\n      <td>2</td>\n      <td>Stripfind</td>\n      <td>Financial Services</td>\n      <td>11412916</td>\n      <td>20%</td>\n    </tr>\n    <tr>\n      <th>2</th>\n      <td>3</td>\n      <td>Canecorporation</td>\n      <td>Health</td>\n      <td>3005820</td>\n      <td>7%</td>\n    </tr>\n    <tr>\n      <th>3</th>\n      <td>4</td>\n      <td>NaN</td>\n      <td>IT Services</td>\n      <td>6597557</td>\n      <td>7%</td>\n    </tr>\n    <tr>\n      <th>4</th>\n      <td>5</td>\n      <td>NaN</td>\n      <td>NaN</td>\n      <td>3138627</td>\n      <td>NaN</td>\n    </tr>\n  </tbody>\n</table>\n</div>"
          },
          "metadata": {}
        }
      ]
    },
    {
      "cell_type": "code",
      "source": "df.dropna(thresh=1)",
      "metadata": {
        "trusted": true
      },
      "execution_count": 58,
      "outputs": [
        {
          "execution_count": 58,
          "output_type": "execute_result",
          "data": {
            "text/plain": "   ID             Name           Companies    Profit Growth\n0   1          Lamtone         IT Services   5274553    30%\n1   2        Stripfind  Financial Services  11412916    20%\n2   3  Canecorporation              Health   3005820     7%\n3   4              NaN         IT Services   6597557     7%\n4   5              NaN                 NaN   3138627    NaN",
            "text/html": "<div>\n<style scoped>\n    .dataframe tbody tr th:only-of-type {\n        vertical-align: middle;\n    }\n\n    .dataframe tbody tr th {\n        vertical-align: top;\n    }\n\n    .dataframe thead th {\n        text-align: right;\n    }\n</style>\n<table border=\"1\" class=\"dataframe\">\n  <thead>\n    <tr style=\"text-align: right;\">\n      <th></th>\n      <th>ID</th>\n      <th>Name</th>\n      <th>Companies</th>\n      <th>Profit</th>\n      <th>Growth</th>\n    </tr>\n  </thead>\n  <tbody>\n    <tr>\n      <th>0</th>\n      <td>1</td>\n      <td>Lamtone</td>\n      <td>IT Services</td>\n      <td>5274553</td>\n      <td>30%</td>\n    </tr>\n    <tr>\n      <th>1</th>\n      <td>2</td>\n      <td>Stripfind</td>\n      <td>Financial Services</td>\n      <td>11412916</td>\n      <td>20%</td>\n    </tr>\n    <tr>\n      <th>2</th>\n      <td>3</td>\n      <td>Canecorporation</td>\n      <td>Health</td>\n      <td>3005820</td>\n      <td>7%</td>\n    </tr>\n    <tr>\n      <th>3</th>\n      <td>4</td>\n      <td>NaN</td>\n      <td>IT Services</td>\n      <td>6597557</td>\n      <td>7%</td>\n    </tr>\n    <tr>\n      <th>4</th>\n      <td>5</td>\n      <td>NaN</td>\n      <td>NaN</td>\n      <td>3138627</td>\n      <td>NaN</td>\n    </tr>\n  </tbody>\n</table>\n</div>"
          },
          "metadata": {}
        }
      ]
    },
    {
      "cell_type": "code",
      "source": "df=pd.read_csv(\"Fortune_5.csv\")\ndf",
      "metadata": {
        "trusted": true
      },
      "execution_count": 59,
      "outputs": [
        {
          "execution_count": 59,
          "output_type": "execute_result",
          "data": {
            "text/plain": "   ID             Name           Companies  Profit Growth\n0   1          Lamtone         IT Services     NaN    30%\n1   2        Stripfind  Financial Services     NaN    20%\n2   3  Canecorporation              Health     NaN     7%\n3   4              NaN         IT Services     NaN     7%",
            "text/html": "<div>\n<style scoped>\n    .dataframe tbody tr th:only-of-type {\n        vertical-align: middle;\n    }\n\n    .dataframe tbody tr th {\n        vertical-align: top;\n    }\n\n    .dataframe thead th {\n        text-align: right;\n    }\n</style>\n<table border=\"1\" class=\"dataframe\">\n  <thead>\n    <tr style=\"text-align: right;\">\n      <th></th>\n      <th>ID</th>\n      <th>Name</th>\n      <th>Companies</th>\n      <th>Profit</th>\n      <th>Growth</th>\n    </tr>\n  </thead>\n  <tbody>\n    <tr>\n      <th>0</th>\n      <td>1</td>\n      <td>Lamtone</td>\n      <td>IT Services</td>\n      <td>NaN</td>\n      <td>30%</td>\n    </tr>\n    <tr>\n      <th>1</th>\n      <td>2</td>\n      <td>Stripfind</td>\n      <td>Financial Services</td>\n      <td>NaN</td>\n      <td>20%</td>\n    </tr>\n    <tr>\n      <th>2</th>\n      <td>3</td>\n      <td>Canecorporation</td>\n      <td>Health</td>\n      <td>NaN</td>\n      <td>7%</td>\n    </tr>\n    <tr>\n      <th>3</th>\n      <td>4</td>\n      <td>NaN</td>\n      <td>IT Services</td>\n      <td>NaN</td>\n      <td>7%</td>\n    </tr>\n  </tbody>\n</table>\n</div>"
          },
          "metadata": {}
        }
      ]
    },
    {
      "cell_type": "code",
      "source": "df.dropna(thresh=1,axis=1)#u can see profit column is deleted",
      "metadata": {
        "trusted": true
      },
      "execution_count": 62,
      "outputs": [
        {
          "execution_count": 62,
          "output_type": "execute_result",
          "data": {
            "text/plain": "   ID             Name           Companies Growth\n0   1          Lamtone         IT Services    30%\n1   2        Stripfind  Financial Services    20%\n2   3  Canecorporation              Health     7%\n3   4              NaN         IT Services     7%",
            "text/html": "<div>\n<style scoped>\n    .dataframe tbody tr th:only-of-type {\n        vertical-align: middle;\n    }\n\n    .dataframe tbody tr th {\n        vertical-align: top;\n    }\n\n    .dataframe thead th {\n        text-align: right;\n    }\n</style>\n<table border=\"1\" class=\"dataframe\">\n  <thead>\n    <tr style=\"text-align: right;\">\n      <th></th>\n      <th>ID</th>\n      <th>Name</th>\n      <th>Companies</th>\n      <th>Growth</th>\n    </tr>\n  </thead>\n  <tbody>\n    <tr>\n      <th>0</th>\n      <td>1</td>\n      <td>Lamtone</td>\n      <td>IT Services</td>\n      <td>30%</td>\n    </tr>\n    <tr>\n      <th>1</th>\n      <td>2</td>\n      <td>Stripfind</td>\n      <td>Financial Services</td>\n      <td>20%</td>\n    </tr>\n    <tr>\n      <th>2</th>\n      <td>3</td>\n      <td>Canecorporation</td>\n      <td>Health</td>\n      <td>7%</td>\n    </tr>\n    <tr>\n      <th>3</th>\n      <td>4</td>\n      <td>NaN</td>\n      <td>IT Services</td>\n      <td>7%</td>\n    </tr>\n  </tbody>\n</table>\n</div>"
          },
          "metadata": {}
        }
      ]
    },
    {
      "cell_type": "code",
      "source": "#how many not null values u want u can specify in thersh if its 1 checking for at least one not null value and printing the same",
      "metadata": {
        "trusted": true
      },
      "execution_count": 63,
      "outputs": []
    },
    {
      "cell_type": "code",
      "source": "df.dropna(thresh=4)#4 th row not considered",
      "metadata": {
        "trusted": true
      },
      "execution_count": 65,
      "outputs": [
        {
          "execution_count": 65,
          "output_type": "execute_result",
          "data": {
            "text/plain": "   ID             Name           Companies  Profit Growth\n0   1          Lamtone         IT Services     NaN    30%\n1   2        Stripfind  Financial Services     NaN    20%\n2   3  Canecorporation              Health     NaN     7%",
            "text/html": "<div>\n<style scoped>\n    .dataframe tbody tr th:only-of-type {\n        vertical-align: middle;\n    }\n\n    .dataframe tbody tr th {\n        vertical-align: top;\n    }\n\n    .dataframe thead th {\n        text-align: right;\n    }\n</style>\n<table border=\"1\" class=\"dataframe\">\n  <thead>\n    <tr style=\"text-align: right;\">\n      <th></th>\n      <th>ID</th>\n      <th>Name</th>\n      <th>Companies</th>\n      <th>Profit</th>\n      <th>Growth</th>\n    </tr>\n  </thead>\n  <tbody>\n    <tr>\n      <th>0</th>\n      <td>1</td>\n      <td>Lamtone</td>\n      <td>IT Services</td>\n      <td>NaN</td>\n      <td>30%</td>\n    </tr>\n    <tr>\n      <th>1</th>\n      <td>2</td>\n      <td>Stripfind</td>\n      <td>Financial Services</td>\n      <td>NaN</td>\n      <td>20%</td>\n    </tr>\n    <tr>\n      <th>2</th>\n      <td>3</td>\n      <td>Canecorporation</td>\n      <td>Health</td>\n      <td>NaN</td>\n      <td>7%</td>\n    </tr>\n  </tbody>\n</table>\n</div>"
          },
          "metadata": {}
        }
      ]
    },
    {
      "cell_type": "code",
      "source": "#subset is checking the column and skipping the null values rows and printing all other rows",
      "metadata": {
        "trusted": true
      },
      "execution_count": 66,
      "outputs": []
    },
    {
      "cell_type": "code",
      "source": "df=pd.read_csv(\"Fortune_5.csv\")\ndf",
      "metadata": {
        "trusted": true
      },
      "execution_count": 68,
      "outputs": [
        {
          "execution_count": 68,
          "output_type": "execute_result",
          "data": {
            "text/plain": "   ID             Name           Companies  Profit Growth\n0   1          Lamtone         IT Services     NaN    30%\n1   2        Stripfind  Financial Services     NaN    20%\n2   3  Canecorporation              Health     NaN     7%\n3   4              NaN         IT Services     NaN     7%",
            "text/html": "<div>\n<style scoped>\n    .dataframe tbody tr th:only-of-type {\n        vertical-align: middle;\n    }\n\n    .dataframe tbody tr th {\n        vertical-align: top;\n    }\n\n    .dataframe thead th {\n        text-align: right;\n    }\n</style>\n<table border=\"1\" class=\"dataframe\">\n  <thead>\n    <tr style=\"text-align: right;\">\n      <th></th>\n      <th>ID</th>\n      <th>Name</th>\n      <th>Companies</th>\n      <th>Profit</th>\n      <th>Growth</th>\n    </tr>\n  </thead>\n  <tbody>\n    <tr>\n      <th>0</th>\n      <td>1</td>\n      <td>Lamtone</td>\n      <td>IT Services</td>\n      <td>NaN</td>\n      <td>30%</td>\n    </tr>\n    <tr>\n      <th>1</th>\n      <td>2</td>\n      <td>Stripfind</td>\n      <td>Financial Services</td>\n      <td>NaN</td>\n      <td>20%</td>\n    </tr>\n    <tr>\n      <th>2</th>\n      <td>3</td>\n      <td>Canecorporation</td>\n      <td>Health</td>\n      <td>NaN</td>\n      <td>7%</td>\n    </tr>\n    <tr>\n      <th>3</th>\n      <td>4</td>\n      <td>NaN</td>\n      <td>IT Services</td>\n      <td>NaN</td>\n      <td>7%</td>\n    </tr>\n  </tbody>\n</table>\n</div>"
          },
          "metadata": {}
        }
      ]
    },
    {
      "cell_type": "code",
      "source": "df.dropna(subset=['Name'])#in name col 4 th row skipped",
      "metadata": {
        "trusted": true
      },
      "execution_count": 69,
      "outputs": [
        {
          "execution_count": 69,
          "output_type": "execute_result",
          "data": {
            "text/plain": "   ID             Name           Companies  Profit Growth\n0   1          Lamtone         IT Services     NaN    30%\n1   2        Stripfind  Financial Services     NaN    20%\n2   3  Canecorporation              Health     NaN     7%",
            "text/html": "<div>\n<style scoped>\n    .dataframe tbody tr th:only-of-type {\n        vertical-align: middle;\n    }\n\n    .dataframe tbody tr th {\n        vertical-align: top;\n    }\n\n    .dataframe thead th {\n        text-align: right;\n    }\n</style>\n<table border=\"1\" class=\"dataframe\">\n  <thead>\n    <tr style=\"text-align: right;\">\n      <th></th>\n      <th>ID</th>\n      <th>Name</th>\n      <th>Companies</th>\n      <th>Profit</th>\n      <th>Growth</th>\n    </tr>\n  </thead>\n  <tbody>\n    <tr>\n      <th>0</th>\n      <td>1</td>\n      <td>Lamtone</td>\n      <td>IT Services</td>\n      <td>NaN</td>\n      <td>30%</td>\n    </tr>\n    <tr>\n      <th>1</th>\n      <td>2</td>\n      <td>Stripfind</td>\n      <td>Financial Services</td>\n      <td>NaN</td>\n      <td>20%</td>\n    </tr>\n    <tr>\n      <th>2</th>\n      <td>3</td>\n      <td>Canecorporation</td>\n      <td>Health</td>\n      <td>NaN</td>\n      <td>7%</td>\n    </tr>\n  </tbody>\n</table>\n</div>"
          },
          "metadata": {}
        }
      ]
    },
    {
      "cell_type": "code",
      "source": "#next parameter inplace it is not creating new dataframe only updating previous one so we need to call it",
      "metadata": {
        "trusted": true
      },
      "execution_count": 70,
      "outputs": []
    },
    {
      "cell_type": "code",
      "source": "df.dropna(inplace=True)#in this so all rows having nan values so it is showing non\ndf",
      "metadata": {
        "trusted": true
      },
      "execution_count": 72,
      "outputs": [
        {
          "execution_count": 72,
          "output_type": "execute_result",
          "data": {
            "text/plain": "Empty DataFrame\nColumns: [ID, Name, Companies, Profit, Growth]\nIndex: []",
            "text/html": "<div>\n<style scoped>\n    .dataframe tbody tr th:only-of-type {\n        vertical-align: middle;\n    }\n\n    .dataframe tbody tr th {\n        vertical-align: top;\n    }\n\n    .dataframe thead th {\n        text-align: right;\n    }\n</style>\n<table border=\"1\" class=\"dataframe\">\n  <thead>\n    <tr style=\"text-align: right;\">\n      <th></th>\n      <th>ID</th>\n      <th>Name</th>\n      <th>Companies</th>\n      <th>Profit</th>\n      <th>Growth</th>\n    </tr>\n  </thead>\n  <tbody>\n  </tbody>\n</table>\n</div>"
          },
          "metadata": {}
        }
      ]
    },
    {
      "cell_type": "code",
      "source": "",
      "metadata": {},
      "execution_count": null,
      "outputs": []
    }
  ]
}