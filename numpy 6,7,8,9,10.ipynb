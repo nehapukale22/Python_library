{
  "metadata": {
    "language_info": {
      "codemirror_mode": {
        "name": "python",
        "version": 3
      },
      "file_extension": ".py",
      "mimetype": "text/x-python",
      "name": "python",
      "nbconvert_exporter": "python",
      "pygments_lexer": "ipython3",
      "version": "3.8"
    },
    "kernelspec": {
      "name": "python",
      "display_name": "Python (Pyodide)",
      "language": "python"
    }
  },
  "nbformat_minor": 4,
  "nbformat": 4,
  "cells": [
    {
      "cell_type": "code",
      "source": "import numpy as np",
      "metadata": {
        "trusted": true
      },
      "execution_count": 3,
      "outputs": []
    },
    {
      "cell_type": "code",
      "source": "#SLICING OF ARRAY",
      "metadata": {
        "trusted": true
      },
      "execution_count": 2,
      "outputs": []
    },
    {
      "cell_type": "code",
      "source": "mx=np.arange(1,101).reshape(10,10)\nprint(mx)",
      "metadata": {
        "trusted": true
      },
      "execution_count": 4,
      "outputs": [
        {
          "name": "stdout",
          "text": "[[  1   2   3   4   5   6   7   8   9  10]\n [ 11  12  13  14  15  16  17  18  19  20]\n [ 21  22  23  24  25  26  27  28  29  30]\n [ 31  32  33  34  35  36  37  38  39  40]\n [ 41  42  43  44  45  46  47  48  49  50]\n [ 51  52  53  54  55  56  57  58  59  60]\n [ 61  62  63  64  65  66  67  68  69  70]\n [ 71  72  73  74  75  76  77  78  79  80]\n [ 81  82  83  84  85  86  87  88  89  90]\n [ 91  92  93  94  95  96  97  98  99 100]]\n",
          "output_type": "stream"
        }
      ]
    },
    {
      "cell_type": "code",
      "source": "#we want one element from matrix\nmx[0,0]",
      "metadata": {
        "trusted": true
      },
      "execution_count": 4,
      "outputs": [
        {
          "execution_count": 4,
          "output_type": "execute_result",
          "data": {
            "text/plain": "1"
          },
          "metadata": {}
        }
      ]
    },
    {
      "cell_type": "code",
      "source": "#[row,col]\nmx[0,0].ndim #its doesn't have any dimension ",
      "metadata": {
        "trusted": true
      },
      "execution_count": 5,
      "outputs": [
        {
          "execution_count": 5,
          "output_type": "execute_result",
          "data": {
            "text/plain": "0"
          },
          "metadata": {}
        }
      ]
    },
    {
      "cell_type": "code",
      "source": "mx[0]",
      "metadata": {
        "trusted": true
      },
      "execution_count": 6,
      "outputs": [
        {
          "execution_count": 6,
          "output_type": "execute_result",
          "data": {
            "text/plain": "array([ 1,  2,  3,  4,  5,  6,  7,  8,  9, 10])"
          },
          "metadata": {}
        }
      ]
    },
    {
      "cell_type": "code",
      "source": "#want single column all row :=is a slice operator",
      "metadata": {
        "trusted": true
      },
      "execution_count": 7,
      "outputs": []
    },
    {
      "cell_type": "code",
      "source": "mx[:,0]",
      "metadata": {
        "trusted": true
      },
      "execution_count": 8,
      "outputs": [
        {
          "execution_count": 8,
          "output_type": "execute_result",
          "data": {
            "text/plain": "array([ 1, 11, 21, 31, 41, 51, 61, 71, 81, 91])"
          },
          "metadata": {}
        }
      ]
    },
    {
      "cell_type": "code",
      "source": "#two dimensional format one column",
      "metadata": {
        "trusted": true
      },
      "execution_count": 9,
      "outputs": []
    },
    {
      "cell_type": "code",
      "source": "mx[:,0:1]",
      "metadata": {
        "trusted": true
      },
      "execution_count": 10,
      "outputs": [
        {
          "execution_count": 10,
          "output_type": "execute_result",
          "data": {
            "text/plain": "array([[ 1],\n       [11],\n       [21],\n       [31],\n       [41],\n       [51],\n       [61],\n       [71],\n       [81],\n       [91]])"
          },
          "metadata": {}
        }
      ]
    },
    {
      "cell_type": "code",
      "source": "mx[:,0:2]",
      "metadata": {
        "trusted": true
      },
      "execution_count": 11,
      "outputs": [
        {
          "execution_count": 11,
          "output_type": "execute_result",
          "data": {
            "text/plain": "array([[ 1,  2],\n       [11, 12],\n       [21, 22],\n       [31, 32],\n       [41, 42],\n       [51, 52],\n       [61, 62],\n       [71, 72],\n       [81, 82],\n       [91, 92]])"
          },
          "metadata": {}
        }
      ]
    },
    {
      "cell_type": "code",
      "source": "#we want particular column and row in matrix it's done by slicing",
      "metadata": {
        "trusted": true
      },
      "execution_count": 12,
      "outputs": []
    },
    {
      "cell_type": "code",
      "source": "mx[1:4,1:4]",
      "metadata": {
        "trusted": true
      },
      "execution_count": 13,
      "outputs": [
        {
          "execution_count": 13,
          "output_type": "execute_result",
          "data": {
            "text/plain": "array([[12, 13, 14],\n       [22, 23, 24],\n       [32, 33, 34]])"
          },
          "metadata": {}
        }
      ]
    },
    {
      "cell_type": "code",
      "source": "#all row 2 or 3 column (2nd and 3 rd column)",
      "metadata": {
        "trusted": true
      },
      "execution_count": 14,
      "outputs": []
    },
    {
      "cell_type": "code",
      "source": "mx[:,1:3]",
      "metadata": {
        "trusted": true
      },
      "execution_count": 15,
      "outputs": [
        {
          "execution_count": 15,
          "output_type": "execute_result",
          "data": {
            "text/plain": "array([[ 2,  3],\n       [12, 13],\n       [22, 23],\n       [32, 33],\n       [42, 43],\n       [52, 53],\n       [62, 63],\n       [72, 73],\n       [82, 83],\n       [92, 93]])"
          },
          "metadata": {}
        }
      ]
    },
    {
      "cell_type": "code",
      "source": "#whole matrix access methods\n#method 1\nmx[:]",
      "metadata": {
        "trusted": true
      },
      "execution_count": 16,
      "outputs": [
        {
          "execution_count": 16,
          "output_type": "execute_result",
          "data": {
            "text/plain": "array([[  1,   2,   3,   4,   5,   6,   7,   8,   9,  10],\n       [ 11,  12,  13,  14,  15,  16,  17,  18,  19,  20],\n       [ 21,  22,  23,  24,  25,  26,  27,  28,  29,  30],\n       [ 31,  32,  33,  34,  35,  36,  37,  38,  39,  40],\n       [ 41,  42,  43,  44,  45,  46,  47,  48,  49,  50],\n       [ 51,  52,  53,  54,  55,  56,  57,  58,  59,  60],\n       [ 61,  62,  63,  64,  65,  66,  67,  68,  69,  70],\n       [ 71,  72,  73,  74,  75,  76,  77,  78,  79,  80],\n       [ 81,  82,  83,  84,  85,  86,  87,  88,  89,  90],\n       [ 91,  92,  93,  94,  95,  96,  97,  98,  99, 100]])"
          },
          "metadata": {}
        }
      ]
    },
    {
      "cell_type": "code",
      "source": "mx[::]",
      "metadata": {
        "trusted": true
      },
      "execution_count": 17,
      "outputs": [
        {
          "execution_count": 17,
          "output_type": "execute_result",
          "data": {
            "text/plain": "array([[  1,   2,   3,   4,   5,   6,   7,   8,   9,  10],\n       [ 11,  12,  13,  14,  15,  16,  17,  18,  19,  20],\n       [ 21,  22,  23,  24,  25,  26,  27,  28,  29,  30],\n       [ 31,  32,  33,  34,  35,  36,  37,  38,  39,  40],\n       [ 41,  42,  43,  44,  45,  46,  47,  48,  49,  50],\n       [ 51,  52,  53,  54,  55,  56,  57,  58,  59,  60],\n       [ 61,  62,  63,  64,  65,  66,  67,  68,  69,  70],\n       [ 71,  72,  73,  74,  75,  76,  77,  78,  79,  80],\n       [ 81,  82,  83,  84,  85,  86,  87,  88,  89,  90],\n       [ 91,  92,  93,  94,  95,  96,  97,  98,  99, 100]])"
          },
          "metadata": {}
        }
      ]
    },
    {
      "cell_type": "code",
      "source": "mx[:,:]",
      "metadata": {
        "trusted": true
      },
      "execution_count": 18,
      "outputs": [
        {
          "execution_count": 18,
          "output_type": "execute_result",
          "data": {
            "text/plain": "array([[  1,   2,   3,   4,   5,   6,   7,   8,   9,  10],\n       [ 11,  12,  13,  14,  15,  16,  17,  18,  19,  20],\n       [ 21,  22,  23,  24,  25,  26,  27,  28,  29,  30],\n       [ 31,  32,  33,  34,  35,  36,  37,  38,  39,  40],\n       [ 41,  42,  43,  44,  45,  46,  47,  48,  49,  50],\n       [ 51,  52,  53,  54,  55,  56,  57,  58,  59,  60],\n       [ 61,  62,  63,  64,  65,  66,  67,  68,  69,  70],\n       [ 71,  72,  73,  74,  75,  76,  77,  78,  79,  80],\n       [ 81,  82,  83,  84,  85,  86,  87,  88,  89,  90],\n       [ 91,  92,  93,  94,  95,  96,  97,  98,  99, 100]])"
          },
          "metadata": {}
        }
      ]
    },
    {
      "cell_type": "code",
      "source": "#item size of matrix/array",
      "metadata": {
        "trusted": true
      },
      "execution_count": 19,
      "outputs": []
    },
    {
      "cell_type": "code",
      "source": "mx.itemsize",
      "metadata": {
        "trusted": true
      },
      "execution_count": 5,
      "outputs": [
        {
          "execution_count": 5,
          "output_type": "execute_result",
          "data": {
            "text/plain": "4"
          },
          "metadata": {}
        }
      ]
    },
    {
      "cell_type": "code",
      "source": "mx.dtype",
      "metadata": {
        "trusted": true
      },
      "execution_count": 21,
      "outputs": [
        {
          "execution_count": 21,
          "output_type": "execute_result",
          "data": {
            "text/plain": "dtype('int32')"
          },
          "metadata": {}
        }
      ]
    },
    {
      "cell_type": "code",
      "source": "#*****************PART 7******************",
      "metadata": {
        "trusted": true
      },
      "execution_count": 22,
      "outputs": []
    },
    {
      "cell_type": "code",
      "source": "#CONCATINATION AND SPLIT",
      "metadata": {
        "trusted": true
      },
      "execution_count": 23,
      "outputs": []
    },
    {
      "cell_type": "code",
      "source": "arr1=np.arange(1,17).reshape(4,4)\nprint(arr1)",
      "metadata": {
        "trusted": true
      },
      "execution_count": 24,
      "outputs": [
        {
          "name": "stdout",
          "text": "[[ 1  2  3  4]\n [ 5  6  7  8]\n [ 9 10 11 12]\n [13 14 15 16]]\n",
          "output_type": "stream"
        }
      ]
    },
    {
      "cell_type": "code",
      "source": "arr2=np.arange(17,33).reshape(4,4)\nprint(arr2)",
      "metadata": {
        "trusted": true
      },
      "execution_count": 25,
      "outputs": [
        {
          "name": "stdout",
          "text": "[[17 18 19 20]\n [21 22 23 24]\n [25 26 27 28]\n [29 30 31 32]]\n",
          "output_type": "stream"
        }
      ]
    },
    {
      "cell_type": "code",
      "source": "list1=[2,4,6,7]\nlist2=[1,8,3,5]",
      "metadata": {
        "trusted": true
      },
      "execution_count": 26,
      "outputs": []
    },
    {
      "cell_type": "code",
      "source": "list1+list2",
      "metadata": {
        "trusted": true
      },
      "execution_count": 27,
      "outputs": [
        {
          "execution_count": 27,
          "output_type": "execute_result",
          "data": {
            "text/plain": "[2, 4, 6, 7, 1, 8, 3, 5]"
          },
          "metadata": {}
        }
      ]
    },
    {
      "cell_type": "code",
      "source": "#by using + we can only add element cant do concatenation\n\narr1+arr2",
      "metadata": {
        "trusted": true
      },
      "execution_count": 28,
      "outputs": [
        {
          "execution_count": 28,
          "output_type": "execute_result",
          "data": {
            "text/plain": "array([[18, 20, 22, 24],\n       [26, 28, 30, 32],\n       [34, 36, 38, 40],\n       [42, 44, 46, 48]])"
          },
          "metadata": {}
        }
      ]
    },
    {
      "cell_type": "code",
      "source": "#we have function concatenate",
      "metadata": {
        "trusted": true
      },
      "execution_count": 29,
      "outputs": []
    },
    {
      "cell_type": "code",
      "source": "np.concatenate((arr1,arr2))",
      "metadata": {
        "trusted": true
      },
      "execution_count": 30,
      "outputs": [
        {
          "execution_count": 30,
          "output_type": "execute_result",
          "data": {
            "text/plain": "array([[ 1,  2,  3,  4],\n       [ 5,  6,  7,  8],\n       [ 9, 10, 11, 12],\n       [13, 14, 15, 16],\n       [17, 18, 19, 20],\n       [21, 22, 23, 24],\n       [25, 26, 27, 28],\n       [29, 30, 31, 32]])"
          },
          "metadata": {}
        }
      ]
    },
    {
      "cell_type": "code",
      "source": "#for concatenation its by default taking axis =0 therefore it's doing columnwise concatenation",
      "metadata": {
        "trusted": true
      },
      "execution_count": 31,
      "outputs": []
    },
    {
      "cell_type": "code",
      "source": "#for rowwise concatenation\nnp.concatenate((arr1,arr2),axis=1)",
      "metadata": {
        "trusted": true
      },
      "execution_count": 32,
      "outputs": [
        {
          "execution_count": 32,
          "output_type": "execute_result",
          "data": {
            "text/plain": "array([[ 1,  2,  3,  4, 17, 18, 19, 20],\n       [ 5,  6,  7,  8, 21, 22, 23, 24],\n       [ 9, 10, 11, 12, 25, 26, 27, 28],\n       [13, 14, 15, 16, 29, 30, 31, 32]])"
          },
          "metadata": {}
        }
      ]
    },
    {
      "cell_type": "code",
      "source": "#concatenate array by using simple function\n#vertical concatenation\nnp.vstack((arr1,arr2))",
      "metadata": {
        "trusted": true
      },
      "execution_count": 33,
      "outputs": [
        {
          "execution_count": 33,
          "output_type": "execute_result",
          "data": {
            "text/plain": "array([[ 1,  2,  3,  4],\n       [ 5,  6,  7,  8],\n       [ 9, 10, 11, 12],\n       [13, 14, 15, 16],\n       [17, 18, 19, 20],\n       [21, 22, 23, 24],\n       [25, 26, 27, 28],\n       [29, 30, 31, 32]])"
          },
          "metadata": {}
        }
      ]
    },
    {
      "cell_type": "code",
      "source": "#horizontal concatenate",
      "metadata": {
        "trusted": true
      },
      "execution_count": 34,
      "outputs": []
    },
    {
      "cell_type": "code",
      "source": "np.hstack((arr1,arr2))",
      "metadata": {
        "trusted": true
      },
      "execution_count": 35,
      "outputs": [
        {
          "execution_count": 35,
          "output_type": "execute_result",
          "data": {
            "text/plain": "array([[ 1,  2,  3,  4, 17, 18, 19, 20],\n       [ 5,  6,  7,  8, 21, 22, 23, 24],\n       [ 9, 10, 11, 12, 25, 26, 27, 28],\n       [13, 14, 15, 16, 29, 30, 31, 32]])"
          },
          "metadata": {}
        }
      ]
    },
    {
      "cell_type": "code",
      "source": "#we can concatenate multiple arrays rowwise and columnwise",
      "metadata": {
        "trusted": true
      },
      "execution_count": 36,
      "outputs": []
    },
    {
      "cell_type": "code",
      "source": "np.hstack((arr1,arr2,arr1))",
      "metadata": {
        "trusted": true
      },
      "execution_count": 37,
      "outputs": [
        {
          "execution_count": 37,
          "output_type": "execute_result",
          "data": {
            "text/plain": "array([[ 1,  2,  3,  4, 17, 18, 19, 20,  1,  2,  3,  4],\n       [ 5,  6,  7,  8, 21, 22, 23, 24,  5,  6,  7,  8],\n       [ 9, 10, 11, 12, 25, 26, 27, 28,  9, 10, 11, 12],\n       [13, 14, 15, 16, 29, 30, 31, 32, 13, 14, 15, 16]])"
          },
          "metadata": {}
        }
      ]
    },
    {
      "cell_type": "code",
      "source": "#break the array\n#USING SPLIT FUNCTION",
      "metadata": {
        "trusted": true
      },
      "execution_count": 38,
      "outputs": []
    },
    {
      "cell_type": "code",
      "source": "np.split(arr1,2)# it split array in two parts",
      "metadata": {
        "trusted": true
      },
      "execution_count": 39,
      "outputs": [
        {
          "execution_count": 39,
          "output_type": "execute_result",
          "data": {
            "text/plain": "[array([[1, 2, 3, 4],\n        [5, 6, 7, 8]]),\n array([[ 9, 10, 11, 12],\n        [13, 14, 15, 16]])]"
          },
          "metadata": {}
        }
      ]
    },
    {
      "cell_type": "code",
      "source": "#e get list after split will check it's type \nlist1=np.split(arr1,2)",
      "metadata": {
        "trusted": true
      },
      "execution_count": 40,
      "outputs": []
    },
    {
      "cell_type": "code",
      "source": "type(list1)",
      "metadata": {
        "trusted": true
      },
      "execution_count": 41,
      "outputs": [
        {
          "execution_count": 41,
          "output_type": "execute_result",
          "data": {
            "text/plain": "list"
          },
          "metadata": {}
        }
      ]
    },
    {
      "cell_type": "code",
      "source": "list1[0]#accesing 1st element of list",
      "metadata": {
        "trusted": true
      },
      "execution_count": 42,
      "outputs": [
        {
          "execution_count": 42,
          "output_type": "execute_result",
          "data": {
            "text/plain": "array([[1, 2, 3, 4],\n       [5, 6, 7, 8]])"
          },
          "metadata": {}
        }
      ]
    },
    {
      "cell_type": "code",
      "source": "type(list1[0])",
      "metadata": {
        "trusted": true
      },
      "execution_count": 43,
      "outputs": [
        {
          "execution_count": 43,
          "output_type": "execute_result",
          "data": {
            "text/plain": "numpy.ndarray"
          },
          "metadata": {}
        }
      ]
    },
    {
      "cell_type": "code",
      "source": "#when we use split function its split array and store it in list\n",
      "metadata": {
        "trusted": true
      },
      "execution_count": 44,
      "outputs": []
    },
    {
      "cell_type": "code",
      "source": "#want to split array rowwise\nnp.split(arr1,2,axis=1)",
      "metadata": {
        "trusted": true
      },
      "execution_count": 45,
      "outputs": [
        {
          "execution_count": 45,
          "output_type": "execute_result",
          "data": {
            "text/plain": "[array([[ 1,  2],\n        [ 5,  6],\n        [ 9, 10],\n        [13, 14]]),\n array([[ 3,  4],\n        [ 7,  8],\n        [11, 12],\n        [15, 16]])]"
          },
          "metadata": {}
        }
      ]
    },
    {
      "cell_type": "code",
      "source": "#use split function for 1d array",
      "metadata": {
        "trusted": true
      },
      "execution_count": 46,
      "outputs": []
    },
    {
      "cell_type": "code",
      "source": "d1=np.array([4,7,1,3,9,6,8])\n#split into 3 parts \n#upto 1 then upto index 3 and then upto last",
      "metadata": {
        "trusted": true
      },
      "execution_count": 8,
      "outputs": []
    },
    {
      "cell_type": "code",
      "source": "np.split(d1,[1,3])",
      "metadata": {
        "trusted": true
      },
      "execution_count": 9,
      "outputs": [
        {
          "execution_count": 9,
          "output_type": "execute_result",
          "data": {
            "text/plain": "[array([4]), array([7, 1]), array([3, 9, 6, 8])]"
          },
          "metadata": {}
        }
      ]
    },
    {
      "cell_type": "code",
      "source": "#find trignometry sin(),cos() and tan() ",
      "metadata": {
        "trusted": true
      },
      "execution_count": 49,
      "outputs": []
    },
    {
      "cell_type": "code",
      "source": "#*****************PART 8 *********************",
      "metadata": {
        "trusted": true
      },
      "execution_count": 50,
      "outputs": []
    },
    {
      "cell_type": "code",
      "source": "import matplotlib.pyplot as plt\n",
      "metadata": {
        "trusted": true
      },
      "execution_count": 51,
      "outputs": []
    },
    {
      "cell_type": "code",
      "source": "np.sin(180)",
      "metadata": {
        "trusted": true
      },
      "execution_count": 52,
      "outputs": [
        {
          "execution_count": 52,
          "output_type": "execute_result",
          "data": {
            "text/plain": "-0.8011526357338304"
          },
          "metadata": {}
        }
      ]
    },
    {
      "cell_type": "code",
      "source": "np.sin(90)",
      "metadata": {
        "trusted": true
      },
      "execution_count": 53,
      "outputs": [
        {
          "execution_count": 53,
          "output_type": "execute_result",
          "data": {
            "text/plain": "0.8939966636005579"
          },
          "metadata": {}
        }
      ]
    },
    {
      "cell_type": "code",
      "source": "np.cos(180)",
      "metadata": {
        "trusted": true
      },
      "execution_count": 54,
      "outputs": [
        {
          "execution_count": 54,
          "output_type": "execute_result",
          "data": {
            "text/plain": "-0.5984600690578581"
          },
          "metadata": {}
        }
      ]
    },
    {
      "cell_type": "code",
      "source": "np.tan(180)",
      "metadata": {
        "trusted": true
      },
      "execution_count": 55,
      "outputs": [
        {
          "execution_count": 55,
          "output_type": "execute_result",
          "data": {
            "text/plain": "1.3386902103511544"
          },
          "metadata": {}
        }
      ]
    },
    {
      "cell_type": "code",
      "source": "#visualize sin ,cos tan",
      "metadata": {
        "trusted": true
      },
      "execution_count": 56,
      "outputs": []
    },
    {
      "cell_type": "code",
      "source": "#for plotting graph we need x and y values for sin",
      "metadata": {
        "trusted": true
      },
      "execution_count": 65,
      "outputs": []
    },
    {
      "cell_type": "code",
      "source": "#for x values\nx_sin=np.arange(0,3*np.pi,0.1)\nprint(x_sin)",
      "metadata": {
        "trusted": true
      },
      "execution_count": 59,
      "outputs": [
        {
          "name": "stdout",
          "text": "[0.  0.1 0.2 0.3 0.4 0.5 0.6 0.7 0.8 0.9 1.  1.1 1.2 1.3 1.4 1.5 1.6 1.7\n 1.8 1.9 2.  2.1 2.2 2.3 2.4 2.5 2.6 2.7 2.8 2.9 3.  3.1 3.2 3.3 3.4 3.5\n 3.6 3.7 3.8 3.9 4.  4.1 4.2 4.3 4.4 4.5 4.6 4.7 4.8 4.9 5.  5.1 5.2 5.3\n 5.4 5.5 5.6 5.7 5.8 5.9 6.  6.1 6.2 6.3 6.4 6.5 6.6 6.7 6.8 6.9 7.  7.1\n 7.2 7.3 7.4 7.5 7.6 7.7 7.8 7.9 8.  8.1 8.2 8.3 8.4 8.5 8.6 8.7 8.8 8.9\n 9.  9.1 9.2 9.3 9.4]\n",
          "output_type": "stream"
        }
      ]
    },
    {
      "cell_type": "code",
      "source": "#for getting y values\ny_sin=np.sin(x_sin)\nprint(y_sin)",
      "metadata": {
        "trusted": true
      },
      "execution_count": 62,
      "outputs": [
        {
          "name": "stdout",
          "text": "[ 0.          0.09983342  0.19866933  0.29552021  0.38941834  0.47942554\n  0.56464247  0.64421769  0.71735609  0.78332691  0.84147098  0.89120736\n  0.93203909  0.96355819  0.98544973  0.99749499  0.9995736   0.99166481\n  0.97384763  0.94630009  0.90929743  0.86320937  0.8084964   0.74570521\n  0.67546318  0.59847214  0.51550137  0.42737988  0.33498815  0.23924933\n  0.14112001  0.04158066 -0.05837414 -0.15774569 -0.2555411  -0.35078323\n -0.44252044 -0.52983614 -0.61185789 -0.68776616 -0.7568025  -0.81827711\n -0.87157577 -0.91616594 -0.95160207 -0.97753012 -0.993691   -0.99992326\n -0.99616461 -0.98245261 -0.95892427 -0.92581468 -0.88345466 -0.83226744\n -0.77276449 -0.70554033 -0.63126664 -0.55068554 -0.46460218 -0.37387666\n -0.2794155  -0.1821625  -0.0830894   0.0168139   0.1165492   0.21511999\n  0.31154136  0.40484992  0.49411335  0.57843976  0.6569866   0.72896904\n  0.79366786  0.85043662  0.8987081   0.93799998  0.96791967  0.98816823\n  0.99854335  0.99894134  0.98935825  0.96988981  0.94073056  0.90217183\n  0.85459891  0.79848711  0.7343971   0.66296923  0.58491719  0.50102086\n  0.41211849  0.31909836  0.22288991  0.12445442  0.02477543]\n",
          "output_type": "stream"
        }
      ]
    },
    {
      "cell_type": "code",
      "source": "#by using x and y values will plot graph now ",
      "metadata": {
        "trusted": true
      },
      "execution_count": 63,
      "outputs": []
    },
    {
      "cell_type": "code",
      "source": "plt.plot(x_sin,y_sin)\nplt.show()",
      "metadata": {
        "trusted": true
      },
      "execution_count": 64,
      "outputs": [
        {
          "output_type": "display_data",
          "data": {
            "text/plain": "<pyolite.display.Image at 0x383d598>",
            "image/png": "[encoded data removed]"
          },
          "metadata": {}
        }
      ]
    },
    {
      "cell_type": "code",
      "source": "#for cos plotting\ny_cos=np.cos(x_sin)\nplt.plot(x_sin,y_cos)\nplt.show()",
      "metadata": {
        "trusted": true
      },
      "execution_count": 67,
      "outputs": [
        {
          "output_type": "display_data",
          "data": {
            "text/plain": "<pyolite.display.Image at 0x39d63b0>",
            "image/png": "[encoded data removed]"
          },
          "metadata": {}
        }
      ]
    },
    {
      "cell_type": "code",
      "source": "y_tan=np.tan(x_sin)\nplt.plot(x_sin,y_tan)\nplt.show()",
      "metadata": {
        "trusted": true
      },
      "execution_count": 68,
      "outputs": [
        {
          "output_type": "display_data",
          "data": {
            "text/plain": "<pyolite.display.Image at 0x37b6c58>",
            "image/png": "[encoded data removed]"
          },
          "metadata": {}
        }
      ]
    },
    {
      "cell_type": "code",
      "source": "#ANGLES VALUE IN RADIAN\nnp.sin(180*np.pi/180)",
      "metadata": {
        "trusted": true
      },
      "execution_count": 69,
      "outputs": [
        {
          "execution_count": 69,
          "output_type": "execute_result",
          "data": {
            "text/plain": "1.2246467991473532e-16"
          },
          "metadata": {}
        }
      ]
    },
    {
      "cell_type": "code",
      "source": "#******************PART 9***************",
      "metadata": {
        "trusted": true
      },
      "execution_count": 70,
      "outputs": []
    },
    {
      "cell_type": "code",
      "source": "#Random Sampling with Numpy\n#finding dummy value for data evaluation",
      "metadata": {
        "trusted": true
      },
      "execution_count": 72,
      "outputs": []
    },
    {
      "cell_type": "code",
      "source": "#import random module\n",
      "metadata": {
        "trusted": true
      },
      "execution_count": 73,
      "outputs": []
    },
    {
      "cell_type": "code",
      "source": "import random \n#its generating the value between 0 to 1 only",
      "metadata": {
        "trusted": true
      },
      "execution_count": 80,
      "outputs": []
    },
    {
      "cell_type": "code",
      "source": "#geneartiong random value (want single value)\nnp.random.random(1)",
      "metadata": {
        "trusted": true
      },
      "execution_count": 82,
      "outputs": [
        {
          "execution_count": 82,
          "output_type": "execute_result",
          "data": {
            "text/plain": "array([0.31330662])"
          },
          "metadata": {}
        }
      ]
    },
    {
      "cell_type": "code",
      "source": "#generate 2d array\nnp.random.random((3,3))",
      "metadata": {
        "trusted": true
      },
      "execution_count": 91,
      "outputs": [
        {
          "execution_count": 91,
          "output_type": "execute_result",
          "data": {
            "text/plain": "array([[0.08883415, 0.64400406, 0.86400499],\n       [0.83596831, 0.20085282, 0.34346732],\n       [0.90294905, 0.68029136, 0.14161626]])"
          },
          "metadata": {}
        }
      ]
    },
    {
      "cell_type": "code",
      "source": "#generate single integer value between range (2,4) is limit then 4 is exclusive",
      "metadata": {
        "trusted": true
      },
      "execution_count": 84,
      "outputs": []
    },
    {
      "cell_type": "code",
      "source": "np.random.randint(1,4)",
      "metadata": {
        "trusted": true
      },
      "execution_count": 90,
      "outputs": [
        {
          "execution_count": 90,
          "output_type": "execute_result",
          "data": {
            "text/plain": "2"
          },
          "metadata": {}
        }
      ]
    },
    {
      "cell_type": "code",
      "source": "#generate 2d integer array by giving shape it's done by tuple",
      "metadata": {
        "trusted": true
      },
      "execution_count": 92,
      "outputs": []
    },
    {
      "cell_type": "code",
      "source": "np.random.randint(1,4,(4,4))",
      "metadata": {
        "trusted": true
      },
      "execution_count": 93,
      "outputs": [
        {
          "execution_count": 93,
          "output_type": "execute_result",
          "data": {
            "text/plain": "array([[2, 2, 2, 2],\n       [1, 1, 3, 2],\n       [3, 1, 2, 1],\n       [3, 3, 1, 3]])"
          },
          "metadata": {}
        }
      ]
    },
    {
      "cell_type": "code",
      "source": "#3d array",
      "metadata": {
        "trusted": true
      },
      "execution_count": 94,
      "outputs": []
    },
    {
      "cell_type": "code",
      "source": "np.random.randint(1,4,(2,4,4))",
      "metadata": {
        "trusted": true
      },
      "execution_count": 95,
      "outputs": [
        {
          "execution_count": 95,
          "output_type": "execute_result",
          "data": {
            "text/plain": "array([[[1, 1, 3, 1],\n        [3, 2, 2, 3],\n        [1, 1, 1, 1],\n        [3, 1, 2, 2]],\n\n       [[3, 3, 1, 1],\n        [2, 1, 3, 1],\n        [2, 3, 3, 1],\n        [1, 1, 1, 3]]])"
          },
          "metadata": {}
        }
      ]
    },
    {
      "cell_type": "code",
      "source": "#randint generating different value everytime but u want same value for u r any project ",
      "metadata": {
        "trusted": true
      },
      "execution_count": 96,
      "outputs": []
    },
    {
      "cell_type": "code",
      "source": "#for that we are using seed function",
      "metadata": {
        "trusted": true
      },
      "execution_count": 97,
      "outputs": []
    },
    {
      "cell_type": "code",
      "source": "#first we make seed by giving some number so we can fetch it later",
      "metadata": {
        "trusted": true
      },
      "execution_count": 98,
      "outputs": []
    },
    {
      "cell_type": "code",
      "source": "np.random.seed(10)\nnp.random.randint(1,4,(2,4,4))",
      "metadata": {
        "trusted": true
      },
      "execution_count": 99,
      "outputs": [
        {
          "execution_count": 99,
          "output_type": "execute_result",
          "data": {
            "text/plain": "array([[[2, 2, 1, 1],\n        [2, 1, 2, 2],\n        [1, 2, 2, 3],\n        [1, 2, 1, 3]],\n\n       [[1, 3, 1, 1],\n        [1, 3, 1, 3],\n        [3, 2, 1, 1],\n        [3, 2, 3, 2]]])"
          },
          "metadata": {}
        }
      ]
    },
    {
      "cell_type": "code",
      "source": "np.random.seed(10)\nnp.random.randint(1,4,(2,4,4))",
      "metadata": {
        "trusted": true
      },
      "execution_count": 101,
      "outputs": [
        {
          "execution_count": 101,
          "output_type": "execute_result",
          "data": {
            "text/plain": "array([[[2, 2, 1, 1],\n        [2, 1, 2, 2],\n        [1, 2, 2, 3],\n        [1, 2, 1, 3]],\n\n       [[1, 3, 1, 1],\n        [1, 3, 1, 3],\n        [3, 2, 1, 1],\n        [3, 2, 3, 2]]])"
          },
          "metadata": {}
        }
      ]
    },
    {
      "cell_type": "code",
      "source": "#prints same array",
      "metadata": {
        "trusted": true
      },
      "execution_count": 102,
      "outputs": []
    },
    {
      "cell_type": "code",
      "source": "#how many value seed function can take \n2**32-1",
      "metadata": {
        "trusted": true
      },
      "execution_count": 104,
      "outputs": [
        {
          "execution_count": 104,
          "output_type": "execute_result",
          "data": {
            "text/plain": "4294967295"
          },
          "metadata": {}
        }
      ]
    },
    {
      "cell_type": "code",
      "source": "#we can make n-d array using rand func\n#no of elements are taking as argument\nnp.random.rand(3)",
      "metadata": {
        "trusted": true
      },
      "execution_count": 107,
      "outputs": [
        {
          "execution_count": 107,
          "output_type": "execute_result",
          "data": {
            "text/plain": "array([0.10540183, 0.28357668, 0.06556327])"
          },
          "metadata": {}
        }
      ]
    },
    {
      "cell_type": "code",
      "source": "np.random.rand(3,3)",
      "metadata": {
        "trusted": true
      },
      "execution_count": 109,
      "outputs": [
        {
          "execution_count": 109,
          "output_type": "execute_result",
          "data": {
            "text/plain": "array([[0.61194334, 0.33188226, 0.55964837],\n       [0.33549965, 0.41118255, 0.0768555 ],\n       [0.85304299, 0.43998746, 0.12195415]])"
          },
          "metadata": {}
        }
      ]
    },
    {
      "cell_type": "code",
      "source": "#randn function gives -ve and positive value",
      "metadata": {
        "trusted": true
      },
      "execution_count": 110,
      "outputs": []
    },
    {
      "cell_type": "code",
      "source": "np.random.randn(3,3)",
      "metadata": {
        "trusted": true
      },
      "execution_count": 111,
      "outputs": [
        {
          "execution_count": 111,
          "output_type": "execute_result",
          "data": {
            "text/plain": "array([[-0.6579709 ,  0.42211306,  0.62402334],\n       [ 0.5016401 ,  0.84143473, -1.64024998],\n       [ 1.05800516, -0.09178444, -0.72403459]])"
          },
          "metadata": {}
        }
      ]
    },
    {
      "cell_type": "code",
      "source": "#want any one item from sequence use choice function",
      "metadata": {
        "trusted": true
      },
      "execution_count": 113,
      "outputs": []
    },
    {
      "cell_type": "code",
      "source": "x=[1,2,3,4]\nnp.random.choice(x)",
      "metadata": {
        "trusted": true
      },
      "execution_count": 114,
      "outputs": [
        {
          "execution_count": 114,
          "output_type": "execute_result",
          "data": {
            "text/plain": "3"
          },
          "metadata": {}
        }
      ]
    },
    {
      "cell_type": "code",
      "source": "#we want permutation of x list",
      "metadata": {
        "trusted": true
      },
      "execution_count": 116,
      "outputs": []
    },
    {
      "cell_type": "code",
      "source": "np.random.permutation(x)",
      "metadata": {
        "trusted": true
      },
      "execution_count": 117,
      "outputs": [
        {
          "execution_count": 117,
          "output_type": "execute_result",
          "data": {
            "text/plain": "array([2, 3, 4, 1])"
          },
          "metadata": {}
        }
      ]
    },
    {
      "cell_type": "code",
      "source": "np.random.permutation(x)",
      "metadata": {
        "trusted": true
      },
      "execution_count": 118,
      "outputs": [
        {
          "execution_count": 118,
          "output_type": "execute_result",
          "data": {
            "text/plain": "array([1, 4, 2, 3])"
          },
          "metadata": {}
        }
      ]
    },
    {
      "cell_type": "code",
      "source": "#******************PART 10*******************\n#STRING OPERATIONS,COMPARISON AND INFORMATION",
      "metadata": {
        "trusted": true
      },
      "execution_count": 19,
      "outputs": []
    },
    {
      "cell_type": "code",
      "source": "import numpy as np\nch_name=\"Indian AI Production\"\nstr1=\"Learning Python NumPy\"",
      "metadata": {
        "trusted": true
      },
      "execution_count": 1,
      "outputs": []
    },
    {
      "cell_type": "code",
      "source": "np.char.add(ch_name,str1)",
      "metadata": {
        "trusted": true
      },
      "execution_count": 2,
      "outputs": [
        {
          "execution_count": 2,
          "output_type": "execute_result",
          "data": {
            "text/plain": "array('Indian AI ProductionLearning Python NumPy', dtype='<U41')"
          },
          "metadata": {}
        }
      ]
    },
    {
      "cell_type": "code",
      "source": "np.char.lower(ch_name)",
      "metadata": {
        "trusted": true
      },
      "execution_count": 3,
      "outputs": [
        {
          "execution_count": 3,
          "output_type": "execute_result",
          "data": {
            "text/plain": "array('indian ai production', dtype='<U20')"
          },
          "metadata": {}
        }
      ]
    },
    {
      "cell_type": "code",
      "source": "np.char.upper(str1)",
      "metadata": {
        "trusted": true
      },
      "execution_count": 4,
      "outputs": [
        {
          "execution_count": 4,
          "output_type": "execute_result",
          "data": {
            "text/plain": "array('LEARNING PYTHON NUMPY', dtype='<U21')"
          },
          "metadata": {}
        }
      ]
    },
    {
      "cell_type": "code",
      "source": "#keep string in center \nnp.char.center(str1,60)",
      "metadata": {
        "trusted": true
      },
      "execution_count": 5,
      "outputs": [
        {
          "execution_count": 5,
          "output_type": "execute_result",
          "data": {
            "text/plain": "array('                   Learning Python NumPy                    ',\n      dtype='<U60')"
          },
          "metadata": {}
        }
      ]
    },
    {
      "cell_type": "code",
      "source": "#fill character at whitespace\nnp.char.center(str1,60,fillchar=\"*\")",
      "metadata": {
        "trusted": true
      },
      "execution_count": 6,
      "outputs": [
        {
          "execution_count": 6,
          "output_type": "execute_result",
          "data": {
            "text/plain": "array('*******************Learning Python NumPy********************',\n      dtype='<U60')"
          },
          "metadata": {}
        }
      ]
    },
    {
      "cell_type": "code",
      "source": "np.char.split(ch_name)",
      "metadata": {
        "trusted": true
      },
      "execution_count": 7,
      "outputs": [
        {
          "execution_count": 7,
          "output_type": "execute_result",
          "data": {
            "text/plain": "array(list(['Indian', 'AI', 'Production']), dtype=object)"
          },
          "metadata": {}
        }
      ]
    },
    {
      "cell_type": "code",
      "source": "#split the lines \nnp.char.splitlines(\"hello\\nIndian\")",
      "metadata": {
        "trusted": true
      },
      "execution_count": 8,
      "outputs": [
        {
          "execution_count": 8,
          "output_type": "execute_result",
          "data": {
            "text/plain": "array(list(['hello', 'Indian']), dtype=object)"
          },
          "metadata": {}
        }
      ]
    },
    {
      "cell_type": "code",
      "source": "str4=\"dmy\"\nstr5=\"dmy\"\n",
      "metadata": {
        "trusted": true
      },
      "execution_count": 9,
      "outputs": []
    },
    {
      "cell_type": "code",
      "source": "np.char.join([\":\",\"/\"],[str4,str5])",
      "metadata": {
        "trusted": true
      },
      "execution_count": 10,
      "outputs": [
        {
          "execution_count": 10,
          "output_type": "execute_result",
          "data": {
            "text/plain": "array(['d:m:y', 'd/m/y'], dtype='<U5')"
          },
          "metadata": {}
        }
      ]
    },
    {
      "cell_type": "code",
      "source": "np.char.replace(ch_name,\"AI\",\"Artificial Intelligence\")",
      "metadata": {
        "trusted": true
      },
      "execution_count": 11,
      "outputs": [
        {
          "execution_count": 11,
          "output_type": "execute_result",
          "data": {
            "text/plain": "array('Indian Artificial Intelligence Production', dtype='<U41')"
          },
          "metadata": {}
        }
      ]
    },
    {
      "cell_type": "code",
      "source": "np.char.equal(str4,str5)",
      "metadata": {
        "trusted": true
      },
      "execution_count": 12,
      "outputs": [
        {
          "execution_count": 12,
          "output_type": "execute_result",
          "data": {
            "text/plain": "array(True)"
          },
          "metadata": {}
        }
      ]
    },
    {
      "cell_type": "code",
      "source": "np.char.count(ch_name,\"a\")",
      "metadata": {
        "trusted": true
      },
      "execution_count": 13,
      "outputs": [
        {
          "execution_count": 13,
          "output_type": "execute_result",
          "data": {
            "text/plain": "array(1)"
          },
          "metadata": {}
        }
      ]
    },
    {
      "cell_type": "code",
      "source": "ch_name",
      "metadata": {
        "trusted": true
      },
      "execution_count": 14,
      "outputs": [
        {
          "execution_count": 14,
          "output_type": "execute_result",
          "data": {
            "text/plain": "'Indian AI Production'"
          },
          "metadata": {}
        }
      ]
    },
    {
      "cell_type": "code",
      "source": "#return index number of particular element\nnp.char.find(ch_name,\"AI\")",
      "metadata": {
        "trusted": true
      },
      "execution_count": 18,
      "outputs": [
        {
          "execution_count": 18,
          "output_type": "execute_result",
          "data": {
            "text/plain": "array(7)"
          },
          "metadata": {}
        }
      ]
    },
    {
      "cell_type": "code",
      "source": "",
      "metadata": {},
      "execution_count": null,
      "outputs": []
    }
  ]
}