{
  "metadata": {
    "language_info": {
      "codemirror_mode": {
        "name": "python",
        "version": 3
      },
      "file_extension": ".py",
      "mimetype": "text/x-python",
      "name": "python",
      "nbconvert_exporter": "python",
      "pygments_lexer": "ipython3",
      "version": "3.8"
    },
    "kernelspec": {
      "name": "python",
      "display_name": "Python (Pyodide)",
      "language": "python"
    }
  },
  "nbformat_minor": 4,
  "nbformat": 4,
  "cells": [
    {
      "cell_type": "code",
      "source": "#********part 1*********\n\"\"\"data manupulation can read csv,tsv ,json files\nwe need to process the data before use\"\"\"",
      "metadata": {
        "trusted": true
      },
      "execution_count": 1,
      "outputs": [
        {
          "execution_count": 1,
          "output_type": "execute_result",
          "data": {
            "text/plain": "'data manupulation can read csv,tsv ,json files\\nwe need to process the data before use'"
          },
          "metadata": {}
        }
      ]
    },
    {
      "cell_type": "code",
      "source": "#we can't use excel when large data is use there we are using pandas library\n",
      "metadata": {
        "trusted": true
      },
      "execution_count": 2,
      "outputs": []
    },
    {
      "cell_type": "code",
      "source": "#we can find missing data,arrange in order,data reshaping,slicing ,indexing",
      "metadata": {
        "trusted": true
      },
      "execution_count": 3,
      "outputs": []
    },
    {
      "cell_type": "code",
      "source": "#pandas data structure\n#Series:1d labelled homogenous array\n#DataFrame:2d labelled heterogenous tabular structure\n#Panel:3d labelled array\n#dataframe is more imp",
      "metadata": {
        "trusted": true
      },
      "execution_count": 4,
      "outputs": []
    },
    {
      "cell_type": "code",
      "source": "#NumPy array is used for the implementation of Pandas data objects",
      "metadata": {
        "trusted": true
      },
      "execution_count": 5,
      "outputs": []
    },
    {
      "cell_type": "code",
      "source": "import pandas as pd",
      "metadata": {
        "trusted": true
      },
      "execution_count": 6,
      "outputs": []
    },
    {
      "cell_type": "code",
      "source": "pd.__version__",
      "metadata": {
        "trusted": true
      },
      "execution_count": 7,
      "outputs": [
        {
          "execution_count": 7,
          "output_type": "execute_result",
          "data": {
            "text/plain": "'1.4.2'"
          },
          "metadata": {}
        }
      ]
    },
    {
      "cell_type": "code",
      "source": "#series datastructure",
      "metadata": {
        "trusted": true
      },
      "execution_count": 8,
      "outputs": []
    },
    {
      "cell_type": "code",
      "source": "list_s=[1,2,-3,6.2,'data values']\nprint(list_s)",
      "metadata": {
        "trusted": true
      },
      "execution_count": 9,
      "outputs": [
        {
          "name": "stdout",
          "text": "[1, 2, -3, 6.2, 'data values']\n",
          "output_type": "stream"
        }
      ]
    },
    {
      "cell_type": "code",
      "source": "#by using this list will make series",
      "metadata": {
        "trusted": true
      },
      "execution_count": 10,
      "outputs": []
    },
    {
      "cell_type": "code",
      "source": "series1=pd.Series(list_s)\nprint(series1)",
      "metadata": {
        "trusted": true
      },
      "execution_count": 11,
      "outputs": [
        {
          "name": "stdout",
          "text": "0              1\n1              2\n2             -3\n3            6.2\n4    data values\ndtype: object\n",
          "output_type": "stream"
        }
      ]
    },
    {
      "cell_type": "code",
      "source": "type(series1)",
      "metadata": {
        "trusted": true
      },
      "execution_count": 12,
      "outputs": [
        {
          "execution_count": 12,
          "output_type": "execute_result",
          "data": {
            "text/plain": "pandas.core.series.Series"
          },
          "metadata": {}
        }
      ]
    },
    {
      "cell_type": "code",
      "source": "series2=pd.Series([1,2,3,4])\nprint(series2)",
      "metadata": {
        "trusted": true
      },
      "execution_count": 13,
      "outputs": [
        {
          "name": "stdout",
          "text": "0    1\n1    2\n2    3\n3    4\ndtype: int64\n",
          "output_type": "stream"
        }
      ]
    },
    {
      "cell_type": "code",
      "source": "empty_s=pd.Series([])\nprint(empty_s)",
      "metadata": {
        "trusted": true
      },
      "execution_count": 14,
      "outputs": [
        {
          "name": "stderr",
          "text": "<ipython-input-14-61bfa6afa16b>:1: FutureWarning: The default dtype for empty Series will be 'object' instead of 'float64' in a future version. Specify a dtype explicitly to silence this warning.\n  empty_s=pd.Series([])\n",
          "output_type": "stream"
        },
        {
          "name": "stdout",
          "text": "Series([], dtype: float64)\n",
          "output_type": "stream"
        }
      ]
    },
    {
      "cell_type": "code",
      "source": "empty_s=pd.Series([],dtype=int)\nprint(empty_s)",
      "metadata": {
        "trusted": true
      },
      "execution_count": 15,
      "outputs": [
        {
          "name": "stdout",
          "text": "Series([], dtype: int32)\n",
          "output_type": "stream"
        }
      ]
    },
    {
      "cell_type": "code",
      "source": "#if want to know more about any function press shift+tab",
      "metadata": {
        "trusted": true
      },
      "execution_count": 16,
      "outputs": []
    },
    {
      "cell_type": "code",
      "source": "#for giving different index labels\n#index value should be equal to data values",
      "metadata": {
        "trusted": true
      },
      "execution_count": 17,
      "outputs": []
    },
    {
      "cell_type": "code",
      "source": "series3=pd.Series([1,2,3,4],index=['a','b','c','d'])\nprint(series3)",
      "metadata": {
        "trusted": true
      },
      "execution_count": 18,
      "outputs": [
        {
          "name": "stdout",
          "text": "a    1\nb    2\nc    3\nd    4\ndtype: int64\n",
          "output_type": "stream"
        }
      ]
    },
    {
      "cell_type": "code",
      "source": "#change dtpe to float\nseries3=pd.Series([1,2,3,4],index=['a','b','c','d'],dtype=float)\nprint(series3)",
      "metadata": {
        "trusted": true
      },
      "execution_count": 19,
      "outputs": [
        {
          "name": "stdout",
          "text": "a    1.0\nb    2.0\nc    3.0\nd    4.0\ndtype: float64\n",
          "output_type": "stream"
        }
      ]
    },
    {
      "cell_type": "code",
      "source": "#give name to data values",
      "metadata": {
        "trusted": true
      },
      "execution_count": 20,
      "outputs": []
    },
    {
      "cell_type": "code",
      "source": "series3=pd.Series([1,2,3,4],index=['a','b','c','d'],dtype=float,name='data values')\nprint(series3)",
      "metadata": {
        "trusted": true
      },
      "execution_count": 21,
      "outputs": [
        {
          "name": "stdout",
          "text": "a    1.0\nb    2.0\nc    3.0\nd    4.0\nName: data values, dtype: float64\n",
          "output_type": "stream"
        }
      ]
    },
    {
      "cell_type": "code",
      "source": "#for single scaler value make a series\nscaler_s=pd.Series(0.5)\nprint(scaler_s)",
      "metadata": {
        "trusted": true
      },
      "execution_count": 22,
      "outputs": [
        {
          "name": "stdout",
          "text": "0    0.5\ndtype: float64\n",
          "output_type": "stream"
        }
      ]
    },
    {
      "cell_type": "code",
      "source": "scaler_s=pd.Series(0.5,index=[1,2,3])\nprint(scaler_s)",
      "metadata": {
        "trusted": true
      },
      "execution_count": 23,
      "outputs": [
        {
          "name": "stdout",
          "text": "1    0.5\n2    0.5\n3    0.5\ndtype: float64\n",
          "output_type": "stream"
        }
      ]
    },
    {
      "cell_type": "code",
      "source": " #making a dictionary with panda series\n\nimport pandas as pd",
      "metadata": {
        "trusted": true
      },
      "execution_count": 24,
      "outputs": []
    },
    {
      "cell_type": "code",
      "source": "dict_s=pd.Series({'a':1,'b':2})\nprint(dict_s)",
      "metadata": {
        "trusted": true
      },
      "execution_count": 25,
      "outputs": [
        {
          "name": "stdout",
          "text": "a    1\nb    2\ndtype: int64\n",
          "output_type": "stream"
        }
      ]
    },
    {
      "cell_type": "code",
      "source": "s4=pd.Series([1,2,3,4,5])\nprint(s4)",
      "metadata": {
        "trusted": true
      },
      "execution_count": 26,
      "outputs": [
        {
          "name": "stdout",
          "text": "0    1\n1    2\n2    3\n3    4\n4    5\ndtype: int64\n",
          "output_type": "stream"
        }
      ]
    },
    {
      "cell_type": "code",
      "source": "s4[0]",
      "metadata": {
        "trusted": true
      },
      "execution_count": 27,
      "outputs": [
        {
          "execution_count": 27,
          "output_type": "execute_result",
          "data": {
            "text/plain": "1"
          },
          "metadata": {}
        }
      ]
    },
    {
      "cell_type": "code",
      "source": "s4[3]",
      "metadata": {
        "trusted": true
      },
      "execution_count": 28,
      "outputs": [
        {
          "execution_count": 28,
          "output_type": "execute_result",
          "data": {
            "text/plain": "4"
          },
          "metadata": {}
        }
      ]
    },
    {
      "cell_type": "code",
      "source": "#taking first 3 values",
      "metadata": {
        "trusted": true
      },
      "execution_count": 29,
      "outputs": []
    },
    {
      "cell_type": "code",
      "source": "s4[0:3]",
      "metadata": {
        "trusted": true
      },
      "execution_count": 30,
      "outputs": [
        {
          "execution_count": 30,
          "output_type": "execute_result",
          "data": {
            "text/plain": "0    1\n1    2\n2    3\ndtype: int64"
          },
          "metadata": {}
        }
      ]
    },
    {
      "cell_type": "code",
      "source": "max(s4)",
      "metadata": {
        "trusted": true
      },
      "execution_count": 31,
      "outputs": [
        {
          "execution_count": 31,
          "output_type": "execute_result",
          "data": {
            "text/plain": "5"
          },
          "metadata": {}
        }
      ]
    },
    {
      "cell_type": "code",
      "source": "s4[s4>3]",
      "metadata": {
        "trusted": true
      },
      "execution_count": 32,
      "outputs": [
        {
          "execution_count": 32,
          "output_type": "execute_result",
          "data": {
            "text/plain": "3    4\n4    5\ndtype: int64"
          },
          "metadata": {}
        }
      ]
    },
    {
      "cell_type": "code",
      "source": "s5=pd.Series([1,2,3,4,5])\nprint(s5)",
      "metadata": {
        "trusted": true
      },
      "execution_count": 33,
      "outputs": [
        {
          "name": "stdout",
          "text": "0    1\n1    2\n2    3\n3    4\n4    5\ndtype: int64\n",
          "output_type": "stream"
        }
      ]
    },
    {
      "cell_type": "code",
      "source": "s4+s5",
      "metadata": {
        "trusted": true
      },
      "execution_count": 34,
      "outputs": [
        {
          "execution_count": 34,
          "output_type": "execute_result",
          "data": {
            "text/plain": "0     2\n1     4\n2     6\n3     8\n4    10\ndtype: int64"
          },
          "metadata": {}
        }
      ]
    },
    {
      "cell_type": "code",
      "source": "s6=pd.Series([1,2,3])\nprint(s6)",
      "metadata": {
        "trusted": true
      },
      "execution_count": 35,
      "outputs": [
        {
          "name": "stdout",
          "text": "0    1\n1    2\n2    3\ndtype: int64\n",
          "output_type": "stream"
        }
      ]
    },
    {
      "cell_type": "code",
      "source": "#handle missing values\ns5+s6",
      "metadata": {
        "trusted": true
      },
      "execution_count": 36,
      "outputs": [
        {
          "execution_count": 36,
          "output_type": "execute_result",
          "data": {
            "text/plain": "0    2.0\n1    4.0\n2    6.0\n3    NaN\n4    NaN\ndtype: float64"
          },
          "metadata": {}
        }
      ]
    },
    {
      "cell_type": "code",
      "source": "#*************PART 3*****************\n#how to create Python Pandas Dataframe",
      "metadata": {
        "trusted": true
      },
      "execution_count": 37,
      "outputs": []
    },
    {
      "cell_type": "code",
      "source": "emt_df=pd.DataFrame()\nprint(emt_df)",
      "metadata": {
        "trusted": true
      },
      "execution_count": 38,
      "outputs": [
        {
          "name": "stdout",
          "text": "Empty DataFrame\nColumns: []\nIndex: []\n",
          "output_type": "stream"
        }
      ]
    },
    {
      "cell_type": "code",
      "source": "lst=['a','b','c']\nprint(lst)",
      "metadata": {
        "trusted": true
      },
      "execution_count": 39,
      "outputs": [
        {
          "name": "stdout",
          "text": "['a', 'b', 'c']\n",
          "output_type": "stream"
        }
      ]
    },
    {
      "cell_type": "code",
      "source": "df1=pd.DataFrame(lst)\nprint(df1)",
      "metadata": {
        "trusted": true
      },
      "execution_count": 40,
      "outputs": [
        {
          "name": "stdout",
          "text": "   0\n0  a\n1  b\n2  c\n",
          "output_type": "stream"
        }
      ]
    },
    {
      "cell_type": "code",
      "source": "df1",
      "metadata": {
        "trusted": true
      },
      "execution_count": 41,
      "outputs": [
        {
          "execution_count": 41,
          "output_type": "execute_result",
          "data": {
            "text/plain": "   0\n0  a\n1  b\n2  c",
            "text/html": "<div>\n<style scoped>\n    .dataframe tbody tr th:only-of-type {\n        vertical-align: middle;\n    }\n\n    .dataframe tbody tr th {\n        vertical-align: top;\n    }\n\n    .dataframe thead th {\n        text-align: right;\n    }\n</style>\n<table border=\"1\" class=\"dataframe\">\n  <thead>\n    <tr style=\"text-align: right;\">\n      <th></th>\n      <th>0</th>\n    </tr>\n  </thead>\n  <tbody>\n    <tr>\n      <th>0</th>\n      <td>a</td>\n    </tr>\n    <tr>\n      <th>1</th>\n      <td>b</td>\n    </tr>\n    <tr>\n      <th>2</th>\n      <td>c</td>\n    </tr>\n  </tbody>\n</table>\n</div>"
          },
          "metadata": {}
        }
      ]
    },
    {
      "cell_type": "code",
      "source": "#if we want multiple columns then will use list of list",
      "metadata": {
        "trusted": true
      },
      "execution_count": 42,
      "outputs": []
    },
    {
      "cell_type": "code",
      "source": "ls_of_ls=[[1,2,3],[2,3,4],[4,5,6]]\nprint(ls_of_ls)",
      "metadata": {
        "trusted": true
      },
      "execution_count": 43,
      "outputs": [
        {
          "name": "stdout",
          "text": "[[1, 2, 3], [2, 3, 4], [4, 5, 6]]\n",
          "output_type": "stream"
        }
      ]
    },
    {
      "cell_type": "code",
      "source": "df2=pd.DataFrame(ls_of_ls)\ndf2",
      "metadata": {
        "trusted": true
      },
      "execution_count": 44,
      "outputs": [
        {
          "execution_count": 44,
          "output_type": "execute_result",
          "data": {
            "text/plain": "   0  1  2\n0  1  2  3\n1  2  3  4\n2  4  5  6",
            "text/html": "<div>\n<style scoped>\n    .dataframe tbody tr th:only-of-type {\n        vertical-align: middle;\n    }\n\n    .dataframe tbody tr th {\n        vertical-align: top;\n    }\n\n    .dataframe thead th {\n        text-align: right;\n    }\n</style>\n<table border=\"1\" class=\"dataframe\">\n  <thead>\n    <tr style=\"text-align: right;\">\n      <th></th>\n      <th>0</th>\n      <th>1</th>\n      <th>2</th>\n    </tr>\n  </thead>\n  <tbody>\n    <tr>\n      <th>0</th>\n      <td>1</td>\n      <td>2</td>\n      <td>3</td>\n    </tr>\n    <tr>\n      <th>1</th>\n      <td>2</td>\n      <td>3</td>\n      <td>4</td>\n    </tr>\n    <tr>\n      <th>2</th>\n      <td>4</td>\n      <td>5</td>\n      <td>6</td>\n    </tr>\n  </tbody>\n</table>\n</div>"
          },
          "metadata": {}
        }
      ]
    },
    {
      "cell_type": "code",
      "source": "#By using dictionary we can make DataFrame where key can be column name\ndict1={'ID':[11,22,33,44]}\ndict1",
      "metadata": {
        "trusted": true
      },
      "execution_count": 45,
      "outputs": [
        {
          "execution_count": 45,
          "output_type": "execute_result",
          "data": {
            "text/plain": "{'ID': [11, 22, 33, 44]}"
          },
          "metadata": {}
        }
      ]
    },
    {
      "cell_type": "code",
      "source": "df3=pd.DataFrame(dict1)\ndf3",
      "metadata": {
        "trusted": true
      },
      "execution_count": 46,
      "outputs": [
        {
          "execution_count": 46,
          "output_type": "execute_result",
          "data": {
            "text/plain": "   ID\n0  11\n1  22\n2  33\n3  44",
            "text/html": "<div>\n<style scoped>\n    .dataframe tbody tr th:only-of-type {\n        vertical-align: middle;\n    }\n\n    .dataframe tbody tr th {\n        vertical-align: top;\n    }\n\n    .dataframe thead th {\n        text-align: right;\n    }\n</style>\n<table border=\"1\" class=\"dataframe\">\n  <thead>\n    <tr style=\"text-align: right;\">\n      <th></th>\n      <th>ID</th>\n    </tr>\n  </thead>\n  <tbody>\n    <tr>\n      <th>0</th>\n      <td>11</td>\n    </tr>\n    <tr>\n      <th>1</th>\n      <td>22</td>\n    </tr>\n    <tr>\n      <th>2</th>\n      <td>33</td>\n    </tr>\n    <tr>\n      <th>3</th>\n      <td>44</td>\n    </tr>\n  </tbody>\n</table>\n</div>"
          },
          "metadata": {}
        }
      ]
    },
    {
      "cell_type": "code",
      "source": "dict1={'ID':[11,22,33,44],'SN':[1,2,3]}\ndict1",
      "metadata": {
        "trusted": true
      },
      "execution_count": 47,
      "outputs": [
        {
          "execution_count": 47,
          "output_type": "execute_result",
          "data": {
            "text/plain": "{'ID': [11, 22, 33, 44], 'SN': [1, 2, 3]}"
          },
          "metadata": {}
        }
      ]
    },
    {
      "cell_type": "code",
      "source": "df3=pd.DataFrame(dict1)\ndf3",
      "metadata": {
        "trusted": true
      },
      "execution_count": 48,
      "outputs": [
        {
          "ename": "<class 'ValueError'>",
          "evalue": "All arrays must be of the same length",
          "traceback": [
            "\u001b[0;31m---------------------------------------------------------------------------\u001b[0m",
            "\u001b[0;31mValueError\u001b[0m                                Traceback (most recent call last)",
            "Input \u001b[0;32mIn [48]\u001b[0m, in \u001b[0;36m<cell line: 1>\u001b[0;34m()\u001b[0m\n\u001b[0;32m----> 1\u001b[0m df3\u001b[38;5;241m=\u001b[39m\u001b[43mpd\u001b[49m\u001b[38;5;241;43m.\u001b[39;49m\u001b[43mDataFrame\u001b[49m\u001b[43m(\u001b[49m\u001b[43mdict1\u001b[49m\u001b[43m)\u001b[49m\n\u001b[1;32m      2\u001b[0m df3\n",
            "File \u001b[0;32m/lib/python3.10/site-packages/pandas/core/frame.py:636\u001b[0m, in \u001b[0;36mDataFrame.__init__\u001b[0;34m(self, data, index, columns, dtype, copy)\u001b[0m\n\u001b[1;32m    630\u001b[0m     mgr \u001b[38;5;241m=\u001b[39m \u001b[38;5;28mself\u001b[39m\u001b[38;5;241m.\u001b[39m_init_mgr(\n\u001b[1;32m    631\u001b[0m         data, axes\u001b[38;5;241m=\u001b[39m{\u001b[38;5;124m\"\u001b[39m\u001b[38;5;124mindex\u001b[39m\u001b[38;5;124m\"\u001b[39m: index, \u001b[38;5;124m\"\u001b[39m\u001b[38;5;124mcolumns\u001b[39m\u001b[38;5;124m\"\u001b[39m: columns}, dtype\u001b[38;5;241m=\u001b[39mdtype, copy\u001b[38;5;241m=\u001b[39mcopy\n\u001b[1;32m    632\u001b[0m     )\n\u001b[1;32m    634\u001b[0m \u001b[38;5;28;01melif\u001b[39;00m \u001b[38;5;28misinstance\u001b[39m(data, \u001b[38;5;28mdict\u001b[39m):\n\u001b[1;32m    635\u001b[0m     \u001b[38;5;66;03m# GH#38939 de facto copy defaults to False only in non-dict cases\u001b[39;00m\n\u001b[0;32m--> 636\u001b[0m     mgr \u001b[38;5;241m=\u001b[39m \u001b[43mdict_to_mgr\u001b[49m\u001b[43m(\u001b[49m\u001b[43mdata\u001b[49m\u001b[43m,\u001b[49m\u001b[43m \u001b[49m\u001b[43mindex\u001b[49m\u001b[43m,\u001b[49m\u001b[43m \u001b[49m\u001b[43mcolumns\u001b[49m\u001b[43m,\u001b[49m\u001b[43m \u001b[49m\u001b[43mdtype\u001b[49m\u001b[38;5;241;43m=\u001b[39;49m\u001b[43mdtype\u001b[49m\u001b[43m,\u001b[49m\u001b[43m \u001b[49m\u001b[43mcopy\u001b[49m\u001b[38;5;241;43m=\u001b[39;49m\u001b[43mcopy\u001b[49m\u001b[43m,\u001b[49m\u001b[43m \u001b[49m\u001b[43mtyp\u001b[49m\u001b[38;5;241;43m=\u001b[39;49m\u001b[43mmanager\u001b[49m\u001b[43m)\u001b[49m\n\u001b[1;32m    637\u001b[0m \u001b[38;5;28;01melif\u001b[39;00m \u001b[38;5;28misinstance\u001b[39m(data, ma\u001b[38;5;241m.\u001b[39mMaskedArray):\n\u001b[1;32m    638\u001b[0m     \u001b[38;5;28;01mimport\u001b[39;00m \u001b[38;5;21;01mnumpy\u001b[39;00m\u001b[38;5;21;01m.\u001b[39;00m\u001b[38;5;21;01mma\u001b[39;00m\u001b[38;5;21;01m.\u001b[39;00m\u001b[38;5;21;01mmrecords\u001b[39;00m \u001b[38;5;28;01mas\u001b[39;00m \u001b[38;5;21;01mmrecords\u001b[39;00m\n",
            "File \u001b[0;32m/lib/python3.10/site-packages/pandas/core/internals/construction.py:502\u001b[0m, in \u001b[0;36mdict_to_mgr\u001b[0;34m(data, index, columns, dtype, typ, copy)\u001b[0m\n\u001b[1;32m    494\u001b[0m     arrays \u001b[38;5;241m=\u001b[39m [\n\u001b[1;32m    495\u001b[0m         x\n\u001b[1;32m    496\u001b[0m         \u001b[38;5;28;01mif\u001b[39;00m \u001b[38;5;129;01mnot\u001b[39;00m \u001b[38;5;28mhasattr\u001b[39m(x, \u001b[38;5;124m\"\u001b[39m\u001b[38;5;124mdtype\u001b[39m\u001b[38;5;124m\"\u001b[39m) \u001b[38;5;129;01mor\u001b[39;00m \u001b[38;5;129;01mnot\u001b[39;00m \u001b[38;5;28misinstance\u001b[39m(x\u001b[38;5;241m.\u001b[39mdtype, ExtensionDtype)\n\u001b[1;32m    497\u001b[0m         \u001b[38;5;28;01melse\u001b[39;00m x\u001b[38;5;241m.\u001b[39mcopy()\n\u001b[1;32m    498\u001b[0m         \u001b[38;5;28;01mfor\u001b[39;00m x \u001b[38;5;129;01min\u001b[39;00m arrays\n\u001b[1;32m    499\u001b[0m     ]\n\u001b[1;32m    500\u001b[0m     \u001b[38;5;66;03m# TODO: can we get rid of the dt64tz special case above?\u001b[39;00m\n\u001b[0;32m--> 502\u001b[0m \u001b[38;5;28;01mreturn\u001b[39;00m \u001b[43marrays_to_mgr\u001b[49m\u001b[43m(\u001b[49m\u001b[43marrays\u001b[49m\u001b[43m,\u001b[49m\u001b[43m \u001b[49m\u001b[43mcolumns\u001b[49m\u001b[43m,\u001b[49m\u001b[43m \u001b[49m\u001b[43mindex\u001b[49m\u001b[43m,\u001b[49m\u001b[43m \u001b[49m\u001b[43mdtype\u001b[49m\u001b[38;5;241;43m=\u001b[39;49m\u001b[43mdtype\u001b[49m\u001b[43m,\u001b[49m\u001b[43m \u001b[49m\u001b[43mtyp\u001b[49m\u001b[38;5;241;43m=\u001b[39;49m\u001b[43mtyp\u001b[49m\u001b[43m,\u001b[49m\u001b[43m \u001b[49m\u001b[43mconsolidate\u001b[49m\u001b[38;5;241;43m=\u001b[39;49m\u001b[43mcopy\u001b[49m\u001b[43m)\u001b[49m\n",
            "File \u001b[0;32m/lib/python3.10/site-packages/pandas/core/internals/construction.py:120\u001b[0m, in \u001b[0;36marrays_to_mgr\u001b[0;34m(arrays, columns, index, dtype, verify_integrity, typ, consolidate)\u001b[0m\n\u001b[1;32m    117\u001b[0m \u001b[38;5;28;01mif\u001b[39;00m verify_integrity:\n\u001b[1;32m    118\u001b[0m     \u001b[38;5;66;03m# figure out the index, if necessary\u001b[39;00m\n\u001b[1;32m    119\u001b[0m     \u001b[38;5;28;01mif\u001b[39;00m index \u001b[38;5;129;01mis\u001b[39;00m \u001b[38;5;28;01mNone\u001b[39;00m:\n\u001b[0;32m--> 120\u001b[0m         index \u001b[38;5;241m=\u001b[39m \u001b[43m_extract_index\u001b[49m\u001b[43m(\u001b[49m\u001b[43marrays\u001b[49m\u001b[43m)\u001b[49m\n\u001b[1;32m    121\u001b[0m     \u001b[38;5;28;01melse\u001b[39;00m:\n\u001b[1;32m    122\u001b[0m         index \u001b[38;5;241m=\u001b[39m ensure_index(index)\n",
            "File \u001b[0;32m/lib/python3.10/site-packages/pandas/core/internals/construction.py:674\u001b[0m, in \u001b[0;36m_extract_index\u001b[0;34m(data)\u001b[0m\n\u001b[1;32m    672\u001b[0m lengths \u001b[38;5;241m=\u001b[39m \u001b[38;5;28mlist\u001b[39m(\u001b[38;5;28mset\u001b[39m(raw_lengths))\n\u001b[1;32m    673\u001b[0m \u001b[38;5;28;01mif\u001b[39;00m \u001b[38;5;28mlen\u001b[39m(lengths) \u001b[38;5;241m>\u001b[39m \u001b[38;5;241m1\u001b[39m:\n\u001b[0;32m--> 674\u001b[0m     \u001b[38;5;28;01mraise\u001b[39;00m \u001b[38;5;167;01mValueError\u001b[39;00m(\u001b[38;5;124m\"\u001b[39m\u001b[38;5;124mAll arrays must be of the same length\u001b[39m\u001b[38;5;124m\"\u001b[39m)\n\u001b[1;32m    676\u001b[0m \u001b[38;5;28;01mif\u001b[39;00m have_dicts:\n\u001b[1;32m    677\u001b[0m     \u001b[38;5;28;01mraise\u001b[39;00m \u001b[38;5;167;01mValueError\u001b[39;00m(\n\u001b[1;32m    678\u001b[0m         \u001b[38;5;124m\"\u001b[39m\u001b[38;5;124mMixing dicts with non-Series may lead to ambiguous ordering.\u001b[39m\u001b[38;5;124m\"\u001b[39m\n\u001b[1;32m    679\u001b[0m     )\n",
            "\u001b[0;31mValueError\u001b[0m: All arrays must be of the same length"
          ],
          "output_type": "error"
        }
      ]
    },
    {
      "cell_type": "code",
      "source": "import pandas as pd\ndict1={'ID':[11,22,33,44],'SN':[1,2,3,4]}\ndf3=pd.DataFrame(dict1)\ndf3",
      "metadata": {
        "trusted": true
      },
      "execution_count": 3,
      "outputs": [
        {
          "execution_count": 3,
          "output_type": "execute_result",
          "data": {
            "text/plain": "   ID  SN\n0  11   1\n1  22   2\n2  33   3\n3  44   4",
            "text/html": "<div>\n<style scoped>\n    .dataframe tbody tr th:only-of-type {\n        vertical-align: middle;\n    }\n\n    .dataframe tbody tr th {\n        vertical-align: top;\n    }\n\n    .dataframe thead th {\n        text-align: right;\n    }\n</style>\n<table border=\"1\" class=\"dataframe\">\n  <thead>\n    <tr style=\"text-align: right;\">\n      <th></th>\n      <th>ID</th>\n      <th>SN</th>\n    </tr>\n  </thead>\n  <tbody>\n    <tr>\n      <th>0</th>\n      <td>11</td>\n      <td>1</td>\n    </tr>\n    <tr>\n      <th>1</th>\n      <td>22</td>\n      <td>2</td>\n    </tr>\n    <tr>\n      <th>2</th>\n      <td>33</td>\n      <td>3</td>\n    </tr>\n    <tr>\n      <th>3</th>\n      <td>44</td>\n      <td>4</td>\n    </tr>\n  </tbody>\n</table>\n</div>"
          },
          "metadata": {}
        }
      ]
    },
    {
      "cell_type": "code",
      "source": "ls_dict=[{'a':1,'b':2},{'a':3,'b':4}]\ndf5=pd.DataFrame(ls_dict)\ndf5",
      "metadata": {
        "trusted": true
      },
      "execution_count": 4,
      "outputs": [
        {
          "execution_count": 4,
          "output_type": "execute_result",
          "data": {
            "text/plain": "   a  b\n0  1  2\n1  3  4",
            "text/html": "<div>\n<style scoped>\n    .dataframe tbody tr th:only-of-type {\n        vertical-align: middle;\n    }\n\n    .dataframe tbody tr th {\n        vertical-align: top;\n    }\n\n    .dataframe thead th {\n        text-align: right;\n    }\n</style>\n<table border=\"1\" class=\"dataframe\">\n  <thead>\n    <tr style=\"text-align: right;\">\n      <th></th>\n      <th>a</th>\n      <th>b</th>\n    </tr>\n  </thead>\n  <tbody>\n    <tr>\n      <th>0</th>\n      <td>1</td>\n      <td>2</td>\n    </tr>\n    <tr>\n      <th>1</th>\n      <td>3</td>\n      <td>4</td>\n    </tr>\n  </tbody>\n</table>\n</div>"
          },
          "metadata": {}
        }
      ]
    },
    {
      "cell_type": "code",
      "source": "ls_dict=[{'a':1,'b':2},{'a':3,'b':4,'c':5}]\ndf5=pd.DataFrame(ls_dict)\ndf5",
      "metadata": {
        "trusted": true
      },
      "execution_count": 5,
      "outputs": [
        {
          "execution_count": 5,
          "output_type": "execute_result",
          "data": {
            "text/plain": "   a  b    c\n0  1  2  NaN\n1  3  4  5.0",
            "text/html": "<div>\n<style scoped>\n    .dataframe tbody tr th:only-of-type {\n        vertical-align: middle;\n    }\n\n    .dataframe tbody tr th {\n        vertical-align: top;\n    }\n\n    .dataframe thead th {\n        text-align: right;\n    }\n</style>\n<table border=\"1\" class=\"dataframe\">\n  <thead>\n    <tr style=\"text-align: right;\">\n      <th></th>\n      <th>a</th>\n      <th>b</th>\n      <th>c</th>\n    </tr>\n  </thead>\n  <tbody>\n    <tr>\n      <th>0</th>\n      <td>1</td>\n      <td>2</td>\n      <td>NaN</td>\n    </tr>\n    <tr>\n      <th>1</th>\n      <td>3</td>\n      <td>4</td>\n      <td>5.0</td>\n    </tr>\n  </tbody>\n</table>\n</div>"
          },
          "metadata": {}
        }
      ]
    },
    {
      "cell_type": "code",
      "source": "dict_sr={'Id':pd.Series([1,2,3]),'SN':[111,222,333]}\ndf6=pd.DataFrame(dict_sr)\ndf6",
      "metadata": {
        "trusted": true
      },
      "execution_count": 6,
      "outputs": [
        {
          "execution_count": 6,
          "output_type": "execute_result",
          "data": {
            "text/plain": "   Id   SN\n0   1  111\n1   2  222\n2   3  333",
            "text/html": "<div>\n<style scoped>\n    .dataframe tbody tr th:only-of-type {\n        vertical-align: middle;\n    }\n\n    .dataframe tbody tr th {\n        vertical-align: top;\n    }\n\n    .dataframe thead th {\n        text-align: right;\n    }\n</style>\n<table border=\"1\" class=\"dataframe\">\n  <thead>\n    <tr style=\"text-align: right;\">\n      <th></th>\n      <th>Id</th>\n      <th>SN</th>\n    </tr>\n  </thead>\n  <tbody>\n    <tr>\n      <th>0</th>\n      <td>1</td>\n      <td>111</td>\n    </tr>\n    <tr>\n      <th>1</th>\n      <td>2</td>\n      <td>222</td>\n    </tr>\n    <tr>\n      <th>2</th>\n      <td>3</td>\n      <td>333</td>\n    </tr>\n  </tbody>\n</table>\n</div>"
          },
          "metadata": {}
        }
      ]
    },
    {
      "cell_type": "code",
      "source": "#*************************PART 4*******************",
      "metadata": {
        "trusted": true
      },
      "execution_count": 7,
      "outputs": []
    },
    {
      "cell_type": "code",
      "source": "#pandas read_csv file ",
      "metadata": {
        "trusted": true
      },
      "execution_count": 1,
      "outputs": []
    },
    {
      "cell_type": "code",
      "source": "#csv file = Universal,Easy to Understand ,Quick to Create",
      "metadata": {
        "trusted": true
      },
      "execution_count": 2,
      "outputs": []
    },
    {
      "cell_type": "code",
      "source": "import pandas as pd",
      "metadata": {
        "trusted": true
      },
      "execution_count": null,
      "outputs": []
    },
    {
      "cell_type": "code",
      "source": "pd.read_csv(\"student.csv\")",
      "metadata": {
        "trusted": true
      },
      "execution_count": 3,
      "outputs": [
        {
          "execution_count": 3,
          "output_type": "execute_result",
          "data": {
            "text/plain": "    id         name  class  mark  gender\n0    1     John Deo   Four    75  female\n1    2     Max Ruin  Three    85    male\n2    3       Arnold  Three    55    male\n3    4   Krish Star   Four    60  female\n4    5    John Mike   Four    60  female\n5    6    Alex John   Four    55    male\n6    7  My John Rob  Fifth    78    male\n7    8       Asruid   Five    85    male\n8    9      Tes Qry    Six    78    male\n9   10     Big John   Four    55  female\n10  11       Ronald    Six    89  female\n11  12        Recky    Six    94  female\n12  13          Kty  Seven    88  female\n13  14         Bigy  Seven    88  female\n14  15     Tade Row   Four    88    male\n15  16        Gimmy   Four    88    male\n16  17        Tumyu    Six    54    male\n17  18        Honny   Five    75    male\n18  19        Tinny   Nine    18    male\n19  20       Jackly   Nine    65  female\n20  21   Babby John   Four    69  female\n21  22       Reggid  Seven    55  female\n22  23        Herod  Eight    79    male\n23  24    Tiddy Now  Seven    78    male\n24  25     Giff Tow  Seven    88    male\n25  26       Crelea  Seven    79    male\n26  27     Big Nose  Three    81  female\n27  28    Rojj Base  Seven    86  female\n28  29  Tess Played  Seven    55    male\n29  30    Reppy Red    Six    79  female\n30  31  Marry Toeey   Four    88    male\n31  32    Binn Rott  Seven    90  female\n32  33    Kenn Rein    Six    96  female\n33  34     Gain Toe  Seven    69    male\n34  35   Rows Noump    Six    88  female",
            "text/html": "<div>\n<style scoped>\n    .dataframe tbody tr th:only-of-type {\n        vertical-align: middle;\n    }\n\n    .dataframe tbody tr th {\n        vertical-align: top;\n    }\n\n    .dataframe thead th {\n        text-align: right;\n    }\n</style>\n<table border=\"1\" class=\"dataframe\">\n  <thead>\n    <tr style=\"text-align: right;\">\n      <th></th>\n      <th>id</th>\n      <th>name</th>\n      <th>class</th>\n      <th>mark</th>\n      <th>gender</th>\n    </tr>\n  </thead>\n  <tbody>\n    <tr>\n      <th>0</th>\n      <td>1</td>\n      <td>John Deo</td>\n      <td>Four</td>\n      <td>75</td>\n      <td>female</td>\n    </tr>\n    <tr>\n      <th>1</th>\n      <td>2</td>\n      <td>Max Ruin</td>\n      <td>Three</td>\n      <td>85</td>\n      <td>male</td>\n    </tr>\n    <tr>\n      <th>2</th>\n      <td>3</td>\n      <td>Arnold</td>\n      <td>Three</td>\n      <td>55</td>\n      <td>male</td>\n    </tr>\n    <tr>\n      <th>3</th>\n      <td>4</td>\n      <td>Krish Star</td>\n      <td>Four</td>\n      <td>60</td>\n      <td>female</td>\n    </tr>\n    <tr>\n      <th>4</th>\n      <td>5</td>\n      <td>John Mike</td>\n      <td>Four</td>\n      <td>60</td>\n      <td>female</td>\n    </tr>\n    <tr>\n      <th>5</th>\n      <td>6</td>\n      <td>Alex John</td>\n      <td>Four</td>\n      <td>55</td>\n      <td>male</td>\n    </tr>\n    <tr>\n      <th>6</th>\n      <td>7</td>\n      <td>My John Rob</td>\n      <td>Fifth</td>\n      <td>78</td>\n      <td>male</td>\n    </tr>\n    <tr>\n      <th>7</th>\n      <td>8</td>\n      <td>Asruid</td>\n      <td>Five</td>\n      <td>85</td>\n      <td>male</td>\n    </tr>\n    <tr>\n      <th>8</th>\n      <td>9</td>\n      <td>Tes Qry</td>\n      <td>Six</td>\n      <td>78</td>\n      <td>male</td>\n    </tr>\n    <tr>\n      <th>9</th>\n      <td>10</td>\n      <td>Big John</td>\n      <td>Four</td>\n      <td>55</td>\n      <td>female</td>\n    </tr>\n    <tr>\n      <th>10</th>\n      <td>11</td>\n      <td>Ronald</td>\n      <td>Six</td>\n      <td>89</td>\n      <td>female</td>\n    </tr>\n    <tr>\n      <th>11</th>\n      <td>12</td>\n      <td>Recky</td>\n      <td>Six</td>\n      <td>94</td>\n      <td>female</td>\n    </tr>\n    <tr>\n      <th>12</th>\n      <td>13</td>\n      <td>Kty</td>\n      <td>Seven</td>\n      <td>88</td>\n      <td>female</td>\n    </tr>\n    <tr>\n      <th>13</th>\n      <td>14</td>\n      <td>Bigy</td>\n      <td>Seven</td>\n      <td>88</td>\n      <td>female</td>\n    </tr>\n    <tr>\n      <th>14</th>\n      <td>15</td>\n      <td>Tade Row</td>\n      <td>Four</td>\n      <td>88</td>\n      <td>male</td>\n    </tr>\n    <tr>\n      <th>15</th>\n      <td>16</td>\n      <td>Gimmy</td>\n      <td>Four</td>\n      <td>88</td>\n      <td>male</td>\n    </tr>\n    <tr>\n      <th>16</th>\n      <td>17</td>\n      <td>Tumyu</td>\n      <td>Six</td>\n      <td>54</td>\n      <td>male</td>\n    </tr>\n    <tr>\n      <th>17</th>\n      <td>18</td>\n      <td>Honny</td>\n      <td>Five</td>\n      <td>75</td>\n      <td>male</td>\n    </tr>\n    <tr>\n      <th>18</th>\n      <td>19</td>\n      <td>Tinny</td>\n      <td>Nine</td>\n      <td>18</td>\n      <td>male</td>\n    </tr>\n    <tr>\n      <th>19</th>\n      <td>20</td>\n      <td>Jackly</td>\n      <td>Nine</td>\n      <td>65</td>\n      <td>female</td>\n    </tr>\n    <tr>\n      <th>20</th>\n      <td>21</td>\n      <td>Babby John</td>\n      <td>Four</td>\n      <td>69</td>\n      <td>female</td>\n    </tr>\n    <tr>\n      <th>21</th>\n      <td>22</td>\n      <td>Reggid</td>\n      <td>Seven</td>\n      <td>55</td>\n      <td>female</td>\n    </tr>\n    <tr>\n      <th>22</th>\n      <td>23</td>\n      <td>Herod</td>\n      <td>Eight</td>\n      <td>79</td>\n      <td>male</td>\n    </tr>\n    <tr>\n      <th>23</th>\n      <td>24</td>\n      <td>Tiddy Now</td>\n      <td>Seven</td>\n      <td>78</td>\n      <td>male</td>\n    </tr>\n    <tr>\n      <th>24</th>\n      <td>25</td>\n      <td>Giff Tow</td>\n      <td>Seven</td>\n      <td>88</td>\n      <td>male</td>\n    </tr>\n    <tr>\n      <th>25</th>\n      <td>26</td>\n      <td>Crelea</td>\n      <td>Seven</td>\n      <td>79</td>\n      <td>male</td>\n    </tr>\n    <tr>\n      <th>26</th>\n      <td>27</td>\n      <td>Big Nose</td>\n      <td>Three</td>\n      <td>81</td>\n      <td>female</td>\n    </tr>\n    <tr>\n      <th>27</th>\n      <td>28</td>\n      <td>Rojj Base</td>\n      <td>Seven</td>\n      <td>86</td>\n      <td>female</td>\n    </tr>\n    <tr>\n      <th>28</th>\n      <td>29</td>\n      <td>Tess Played</td>\n      <td>Seven</td>\n      <td>55</td>\n      <td>male</td>\n    </tr>\n    <tr>\n      <th>29</th>\n      <td>30</td>\n      <td>Reppy Red</td>\n      <td>Six</td>\n      <td>79</td>\n      <td>female</td>\n    </tr>\n    <tr>\n      <th>30</th>\n      <td>31</td>\n      <td>Marry Toeey</td>\n      <td>Four</td>\n      <td>88</td>\n      <td>male</td>\n    </tr>\n    <tr>\n      <th>31</th>\n      <td>32</td>\n      <td>Binn Rott</td>\n      <td>Seven</td>\n      <td>90</td>\n      <td>female</td>\n    </tr>\n    <tr>\n      <th>32</th>\n      <td>33</td>\n      <td>Kenn Rein</td>\n      <td>Six</td>\n      <td>96</td>\n      <td>female</td>\n    </tr>\n    <tr>\n      <th>33</th>\n      <td>34</td>\n      <td>Gain Toe</td>\n      <td>Seven</td>\n      <td>69</td>\n      <td>male</td>\n    </tr>\n    <tr>\n      <th>34</th>\n      <td>35</td>\n      <td>Rows Noump</td>\n      <td>Six</td>\n      <td>88</td>\n      <td>female</td>\n    </tr>\n  </tbody>\n</table>\n</div>"
          },
          "metadata": {}
        }
      ]
    },
    {
      "cell_type": "code",
      "source": "pd.read_csv(\"student_results.csv\")",
      "metadata": {
        "trusted": true
      },
      "execution_count": 4,
      "outputs": [
        {
          "execution_count": 4,
          "output_type": "execute_result",
          "data": {
            "text/plain": "   Student ID  Class  Study hrs  Sleeping hrs  Social Media usage hrs  \\\n0        1001     10          2             9                       3   \n1        1002     10          6             8                       2   \n2        1003     10          3             8                       2   \n3        1004     11          0            10                       1   \n4        1005     11          4             7                       2   \n5        1006     11         10             7                       0   \n6        1007     12          4             6                       0   \n7        1008     12         10             6                       2   \n8        1009     12          2             8                       2   \n9        1010     12          6             9                       1   \n\n   Mobile Games hrs  Percantege  \n0                 5          50  \n1                 0          80  \n2                 4          60  \n3                 5          45  \n4                 0          75  \n5                 0          96  \n6                 0          80  \n7                 0          90  \n8                 4          60  \n9                 0          85  ",
            "text/html": "<div>\n<style scoped>\n    .dataframe tbody tr th:only-of-type {\n        vertical-align: middle;\n    }\n\n    .dataframe tbody tr th {\n        vertical-align: top;\n    }\n\n    .dataframe thead th {\n        text-align: right;\n    }\n</style>\n<table border=\"1\" class=\"dataframe\">\n  <thead>\n    <tr style=\"text-align: right;\">\n      <th></th>\n      <th>Student ID</th>\n      <th>Class</th>\n      <th>Study hrs</th>\n      <th>Sleeping hrs</th>\n      <th>Social Media usage hrs</th>\n      <th>Mobile Games hrs</th>\n      <th>Percantege</th>\n    </tr>\n  </thead>\n  <tbody>\n    <tr>\n      <th>0</th>\n      <td>1001</td>\n      <td>10</td>\n      <td>2</td>\n      <td>9</td>\n      <td>3</td>\n      <td>5</td>\n      <td>50</td>\n    </tr>\n    <tr>\n      <th>1</th>\n      <td>1002</td>\n      <td>10</td>\n      <td>6</td>\n      <td>8</td>\n      <td>2</td>\n      <td>0</td>\n      <td>80</td>\n    </tr>\n    <tr>\n      <th>2</th>\n      <td>1003</td>\n      <td>10</td>\n      <td>3</td>\n      <td>8</td>\n      <td>2</td>\n      <td>4</td>\n      <td>60</td>\n    </tr>\n    <tr>\n      <th>3</th>\n      <td>1004</td>\n      <td>11</td>\n      <td>0</td>\n      <td>10</td>\n      <td>1</td>\n      <td>5</td>\n      <td>45</td>\n    </tr>\n    <tr>\n      <th>4</th>\n      <td>1005</td>\n      <td>11</td>\n      <td>4</td>\n      <td>7</td>\n      <td>2</td>\n      <td>0</td>\n      <td>75</td>\n    </tr>\n    <tr>\n      <th>5</th>\n      <td>1006</td>\n      <td>11</td>\n      <td>10</td>\n      <td>7</td>\n      <td>0</td>\n      <td>0</td>\n      <td>96</td>\n    </tr>\n    <tr>\n      <th>6</th>\n      <td>1007</td>\n      <td>12</td>\n      <td>4</td>\n      <td>6</td>\n      <td>0</td>\n      <td>0</td>\n      <td>80</td>\n    </tr>\n    <tr>\n      <th>7</th>\n      <td>1008</td>\n      <td>12</td>\n      <td>10</td>\n      <td>6</td>\n      <td>2</td>\n      <td>0</td>\n      <td>90</td>\n    </tr>\n    <tr>\n      <th>8</th>\n      <td>1009</td>\n      <td>12</td>\n      <td>2</td>\n      <td>8</td>\n      <td>2</td>\n      <td>4</td>\n      <td>60</td>\n    </tr>\n    <tr>\n      <th>9</th>\n      <td>1010</td>\n      <td>12</td>\n      <td>6</td>\n      <td>9</td>\n      <td>1</td>\n      <td>0</td>\n      <td>85</td>\n    </tr>\n  </tbody>\n</table>\n</div>"
          },
          "metadata": {}
        }
      ]
    },
    {
      "cell_type": "code",
      "source": "pd.read_csv(\"it com.csv\")",
      "metadata": {
        "trusted": true
      },
      "execution_count": 6,
      "outputs": [
        {
          "execution_count": 6,
          "output_type": "execute_result",
          "data": {
            "text/plain": "  Top 10 IT Companies in India\n0                          TCS\n1                      Infosys\n2                Tech Mahindra\n3                        Wipro\n4             HCL Technologies\n5                 L&T Infotech\n6                     Mindtree\n7                      Mphasis\n8    Oracle Financial Services\n9                  Rotla India",
            "text/html": "<div>\n<style scoped>\n    .dataframe tbody tr th:only-of-type {\n        vertical-align: middle;\n    }\n\n    .dataframe tbody tr th {\n        vertical-align: top;\n    }\n\n    .dataframe thead th {\n        text-align: right;\n    }\n</style>\n<table border=\"1\" class=\"dataframe\">\n  <thead>\n    <tr style=\"text-align: right;\">\n      <th></th>\n      <th>Top 10 IT Companies in India</th>\n    </tr>\n  </thead>\n  <tbody>\n    <tr>\n      <th>0</th>\n      <td>TCS</td>\n    </tr>\n    <tr>\n      <th>1</th>\n      <td>Infosys</td>\n    </tr>\n    <tr>\n      <th>2</th>\n      <td>Tech Mahindra</td>\n    </tr>\n    <tr>\n      <th>3</th>\n      <td>Wipro</td>\n    </tr>\n    <tr>\n      <th>4</th>\n      <td>HCL Technologies</td>\n    </tr>\n    <tr>\n      <th>5</th>\n      <td>L&amp;T Infotech</td>\n    </tr>\n    <tr>\n      <th>6</th>\n      <td>Mindtree</td>\n    </tr>\n    <tr>\n      <th>7</th>\n      <td>Mphasis</td>\n    </tr>\n    <tr>\n      <th>8</th>\n      <td>Oracle Financial Services</td>\n    </tr>\n    <tr>\n      <th>9</th>\n      <td>Rotla India</td>\n    </tr>\n  </tbody>\n</table>\n</div>"
          },
          "metadata": {}
        }
      ]
    },
    {
      "cell_type": "code",
      "source": "import os",
      "metadata": {
        "trusted": true
      },
      "execution_count": 7,
      "outputs": []
    },
    {
      "cell_type": "code",
      "source": "print(os.getcwd())",
      "metadata": {
        "trusted": true
      },
      "execution_count": 8,
      "outputs": [
        {
          "name": "stdout",
          "text": "/drive/pandas\n",
          "output_type": "stream"
        }
      ]
    },
    {
      "cell_type": "code",
      "source": "#****************PART 5*************",
      "metadata": {
        "trusted": true
      },
      "execution_count": 11,
      "outputs": []
    },
    {
      "cell_type": "code",
      "source": "#how to write csv file in pandas",
      "metadata": {
        "trusted": true
      },
      "execution_count": 9,
      "outputs": []
    },
    {
      "cell_type": "code",
      "source": "#pandas is use for data preprocessing  (to clean raw data and find useful insight)",
      "metadata": {
        "trusted": true
      },
      "execution_count": 10,
      "outputs": []
    },
    {
      "cell_type": "code",
      "source": "df=pd.read_csv(\"fortune.csv\")\ndf",
      "metadata": {
        "trusted": true
      },
      "execution_count": 13,
      "outputs": [
        {
          "execution_count": 13,
          "output_type": "execute_result",
          "data": {
            "text/plain": "   ID             Name             Industry  Inception       Revenue  \\\n0   1          Lamtone          IT Services       2009  $11,757,018    \n1   2        Stripfind   Financial Services       2010  $12,329,371    \n2   3  Canecorporation               Health       2012  $10,597,009    \n3   4         Mattouch          IT Services       2013  $14,026,934    \n4   5        Techdrill               Health       2009  $10,573,990    \n5   6         Techline               Health       2006  $13,898,119    \n6   7          Cityace               Health       2010   $9,254,614    \n7   8   Kayelectronics               Health       2009   $9,451,943    \n8   9          Ganzlax          IT Services       2011  $14,001,180    \n9  10      Trantraxlax  Government Services       2011  $11,088,336    \n\n            Expenses    Profit Growth  \n0  6,482,465 Dollars   5274553    30%  \n1    916,455 Dollars  11412916    20%  \n2  7,591,189 Dollars   3005820     7%  \n3  7,429,377 Dollars   6597557    26%  \n4  7,435,363 Dollars   3138627     8%  \n5  5,470,303 Dollars   8427816    23%  \n6  6,249,498 Dollars   3005116     6%  \n7  3,878,113 Dollars   5573830     4%  \n8                NaN  11901180    18%  \n9  5,635,276 Dollars   5453060     7%  ",
            "text/html": "<div>\n<style scoped>\n    .dataframe tbody tr th:only-of-type {\n        vertical-align: middle;\n    }\n\n    .dataframe tbody tr th {\n        vertical-align: top;\n    }\n\n    .dataframe thead th {\n        text-align: right;\n    }\n</style>\n<table border=\"1\" class=\"dataframe\">\n  <thead>\n    <tr style=\"text-align: right;\">\n      <th></th>\n      <th>ID</th>\n      <th>Name</th>\n      <th>Industry</th>\n      <th>Inception</th>\n      <th>Revenue</th>\n      <th>Expenses</th>\n      <th>Profit</th>\n      <th>Growth</th>\n    </tr>\n  </thead>\n  <tbody>\n    <tr>\n      <th>0</th>\n      <td>1</td>\n      <td>Lamtone</td>\n      <td>IT Services</td>\n      <td>2009</td>\n      <td>$11,757,018</td>\n      <td>6,482,465 Dollars</td>\n      <td>5274553</td>\n      <td>30%</td>\n    </tr>\n    <tr>\n      <th>1</th>\n      <td>2</td>\n      <td>Stripfind</td>\n      <td>Financial Services</td>\n      <td>2010</td>\n      <td>$12,329,371</td>\n      <td>916,455 Dollars</td>\n      <td>11412916</td>\n      <td>20%</td>\n    </tr>\n    <tr>\n      <th>2</th>\n      <td>3</td>\n      <td>Canecorporation</td>\n      <td>Health</td>\n      <td>2012</td>\n      <td>$10,597,009</td>\n      <td>7,591,189 Dollars</td>\n      <td>3005820</td>\n      <td>7%</td>\n    </tr>\n    <tr>\n      <th>3</th>\n      <td>4</td>\n      <td>Mattouch</td>\n      <td>IT Services</td>\n      <td>2013</td>\n      <td>$14,026,934</td>\n      <td>7,429,377 Dollars</td>\n      <td>6597557</td>\n      <td>26%</td>\n    </tr>\n    <tr>\n      <th>4</th>\n      <td>5</td>\n      <td>Techdrill</td>\n      <td>Health</td>\n      <td>2009</td>\n      <td>$10,573,990</td>\n      <td>7,435,363 Dollars</td>\n      <td>3138627</td>\n      <td>8%</td>\n    </tr>\n    <tr>\n      <th>5</th>\n      <td>6</td>\n      <td>Techline</td>\n      <td>Health</td>\n      <td>2006</td>\n      <td>$13,898,119</td>\n      <td>5,470,303 Dollars</td>\n      <td>8427816</td>\n      <td>23%</td>\n    </tr>\n    <tr>\n      <th>6</th>\n      <td>7</td>\n      <td>Cityace</td>\n      <td>Health</td>\n      <td>2010</td>\n      <td>$9,254,614</td>\n      <td>6,249,498 Dollars</td>\n      <td>3005116</td>\n      <td>6%</td>\n    </tr>\n    <tr>\n      <th>7</th>\n      <td>8</td>\n      <td>Kayelectronics</td>\n      <td>Health</td>\n      <td>2009</td>\n      <td>$9,451,943</td>\n      <td>3,878,113 Dollars</td>\n      <td>5573830</td>\n      <td>4%</td>\n    </tr>\n    <tr>\n      <th>8</th>\n      <td>9</td>\n      <td>Ganzlax</td>\n      <td>IT Services</td>\n      <td>2011</td>\n      <td>$14,001,180</td>\n      <td>NaN</td>\n      <td>11901180</td>\n      <td>18%</td>\n    </tr>\n    <tr>\n      <th>9</th>\n      <td>10</td>\n      <td>Trantraxlax</td>\n      <td>Government Services</td>\n      <td>2011</td>\n      <td>$11,088,336</td>\n      <td>5,635,276 Dollars</td>\n      <td>5453060</td>\n      <td>7%</td>\n    </tr>\n  </tbody>\n</table>\n</div>"
          },
          "metadata": {}
        }
      ]
    },
    {
      "cell_type": "code",
      "source": "type(df)",
      "metadata": {
        "trusted": true
      },
      "execution_count": 14,
      "outputs": [
        {
          "execution_count": 14,
          "output_type": "execute_result",
          "data": {
            "text/plain": "pandas.core.frame.DataFrame"
          },
          "metadata": {}
        }
      ]
    },
    {
      "cell_type": "code",
      "source": "#in millions of data u wanna know column names",
      "metadata": {
        "trusted": true
      },
      "execution_count": 17,
      "outputs": []
    },
    {
      "cell_type": "code",
      "source": "df.columns",
      "metadata": {
        "trusted": true
      },
      "execution_count": 16,
      "outputs": [
        {
          "execution_count": 16,
          "output_type": "execute_result",
          "data": {
            "text/plain": "Index(['ID', 'Name', 'Industry', 'Inception', 'Revenue', 'Expenses', 'Profit',\n       'Growth'],\n      dtype='object')"
          },
          "metadata": {}
        }
      ]
    },
    {
      "cell_type": "code",
      "source": "#wanna access specific rows use nrows parameter",
      "metadata": {
        "trusted": true
      },
      "execution_count": 18,
      "outputs": []
    },
    {
      "cell_type": "code",
      "source": "df=pd.read_csv(\"fortune.csv\",nrows=1)\ndf",
      "metadata": {
        "trusted": true
      },
      "execution_count": 20,
      "outputs": [
        {
          "execution_count": 20,
          "output_type": "execute_result",
          "data": {
            "text/plain": "   ID     Name     Industry  Inception       Revenue           Expenses  \\\n0   1  Lamtone  IT Services       2009  $11,757,018   6,482,465 Dollars   \n\n    Profit Growth  \n0  5274553    30%  ",
            "text/html": "<div>\n<style scoped>\n    .dataframe tbody tr th:only-of-type {\n        vertical-align: middle;\n    }\n\n    .dataframe tbody tr th {\n        vertical-align: top;\n    }\n\n    .dataframe thead th {\n        text-align: right;\n    }\n</style>\n<table border=\"1\" class=\"dataframe\">\n  <thead>\n    <tr style=\"text-align: right;\">\n      <th></th>\n      <th>ID</th>\n      <th>Name</th>\n      <th>Industry</th>\n      <th>Inception</th>\n      <th>Revenue</th>\n      <th>Expenses</th>\n      <th>Profit</th>\n      <th>Growth</th>\n    </tr>\n  </thead>\n  <tbody>\n    <tr>\n      <th>0</th>\n      <td>1</td>\n      <td>Lamtone</td>\n      <td>IT Services</td>\n      <td>2009</td>\n      <td>$11,757,018</td>\n      <td>6,482,465 Dollars</td>\n      <td>5274553</td>\n      <td>30%</td>\n    </tr>\n  </tbody>\n</table>\n</div>"
          },
          "metadata": {}
        }
      ]
    },
    {
      "cell_type": "code",
      "source": "df=pd.read_csv(\"fortune.csv\",nrows=5)\ndf",
      "metadata": {
        "trusted": true
      },
      "execution_count": 21,
      "outputs": [
        {
          "execution_count": 21,
          "output_type": "execute_result",
          "data": {
            "text/plain": "   ID             Name            Industry  Inception       Revenue  \\\n0   1          Lamtone         IT Services       2009  $11,757,018    \n1   2        Stripfind  Financial Services       2010  $12,329,371    \n2   3  Canecorporation              Health       2012  $10,597,009    \n3   4         Mattouch         IT Services       2013  $14,026,934    \n4   5        Techdrill              Health       2009  $10,573,990    \n\n            Expenses    Profit Growth  \n0  6,482,465 Dollars   5274553    30%  \n1    916,455 Dollars  11412916    20%  \n2  7,591,189 Dollars   3005820     7%  \n3  7,429,377 Dollars   6597557    26%  \n4  7,435,363 Dollars   3138627     8%  ",
            "text/html": "<div>\n<style scoped>\n    .dataframe tbody tr th:only-of-type {\n        vertical-align: middle;\n    }\n\n    .dataframe tbody tr th {\n        vertical-align: top;\n    }\n\n    .dataframe thead th {\n        text-align: right;\n    }\n</style>\n<table border=\"1\" class=\"dataframe\">\n  <thead>\n    <tr style=\"text-align: right;\">\n      <th></th>\n      <th>ID</th>\n      <th>Name</th>\n      <th>Industry</th>\n      <th>Inception</th>\n      <th>Revenue</th>\n      <th>Expenses</th>\n      <th>Profit</th>\n      <th>Growth</th>\n    </tr>\n  </thead>\n  <tbody>\n    <tr>\n      <th>0</th>\n      <td>1</td>\n      <td>Lamtone</td>\n      <td>IT Services</td>\n      <td>2009</td>\n      <td>$11,757,018</td>\n      <td>6,482,465 Dollars</td>\n      <td>5274553</td>\n      <td>30%</td>\n    </tr>\n    <tr>\n      <th>1</th>\n      <td>2</td>\n      <td>Stripfind</td>\n      <td>Financial Services</td>\n      <td>2010</td>\n      <td>$12,329,371</td>\n      <td>916,455 Dollars</td>\n      <td>11412916</td>\n      <td>20%</td>\n    </tr>\n    <tr>\n      <th>2</th>\n      <td>3</td>\n      <td>Canecorporation</td>\n      <td>Health</td>\n      <td>2012</td>\n      <td>$10,597,009</td>\n      <td>7,591,189 Dollars</td>\n      <td>3005820</td>\n      <td>7%</td>\n    </tr>\n    <tr>\n      <th>3</th>\n      <td>4</td>\n      <td>Mattouch</td>\n      <td>IT Services</td>\n      <td>2013</td>\n      <td>$14,026,934</td>\n      <td>7,429,377 Dollars</td>\n      <td>6597557</td>\n      <td>26%</td>\n    </tr>\n    <tr>\n      <th>4</th>\n      <td>5</td>\n      <td>Techdrill</td>\n      <td>Health</td>\n      <td>2009</td>\n      <td>$10,573,990</td>\n      <td>7,435,363 Dollars</td>\n      <td>3138627</td>\n      <td>8%</td>\n    </tr>\n  </tbody>\n</table>\n</div>"
          },
          "metadata": {}
        }
      ]
    },
    {
      "cell_type": "code",
      "source": "#we can fetch specific columns\n#u can give index of column in list",
      "metadata": {
        "trusted": true
      },
      "execution_count": 22,
      "outputs": []
    },
    {
      "cell_type": "code",
      "source": "df=pd.read_csv(\"fortune.csv\",usecols=[0])\ndf",
      "metadata": {
        "trusted": true
      },
      "execution_count": 23,
      "outputs": [
        {
          "execution_count": 23,
          "output_type": "execute_result",
          "data": {
            "text/plain": "   ID\n0   1\n1   2\n2   3\n3   4\n4   5\n5   6\n6   7\n7   8\n8   9\n9  10",
            "text/html": "<div>\n<style scoped>\n    .dataframe tbody tr th:only-of-type {\n        vertical-align: middle;\n    }\n\n    .dataframe tbody tr th {\n        vertical-align: top;\n    }\n\n    .dataframe thead th {\n        text-align: right;\n    }\n</style>\n<table border=\"1\" class=\"dataframe\">\n  <thead>\n    <tr style=\"text-align: right;\">\n      <th></th>\n      <th>ID</th>\n    </tr>\n  </thead>\n  <tbody>\n    <tr>\n      <th>0</th>\n      <td>1</td>\n    </tr>\n    <tr>\n      <th>1</th>\n      <td>2</td>\n    </tr>\n    <tr>\n      <th>2</th>\n      <td>3</td>\n    </tr>\n    <tr>\n      <th>3</th>\n      <td>4</td>\n    </tr>\n    <tr>\n      <th>4</th>\n      <td>5</td>\n    </tr>\n    <tr>\n      <th>5</th>\n      <td>6</td>\n    </tr>\n    <tr>\n      <th>6</th>\n      <td>7</td>\n    </tr>\n    <tr>\n      <th>7</th>\n      <td>8</td>\n    </tr>\n    <tr>\n      <th>8</th>\n      <td>9</td>\n    </tr>\n    <tr>\n      <th>9</th>\n      <td>10</td>\n    </tr>\n  </tbody>\n</table>\n</div>"
          },
          "metadata": {}
        }
      ]
    },
    {
      "cell_type": "code",
      "source": "df=pd.read_csv(\"fortune.csv\",usecols=[0,1])\ndf",
      "metadata": {
        "trusted": true
      },
      "execution_count": 24,
      "outputs": [
        {
          "execution_count": 24,
          "output_type": "execute_result",
          "data": {
            "text/plain": "   ID             Name\n0   1          Lamtone\n1   2        Stripfind\n2   3  Canecorporation\n3   4         Mattouch\n4   5        Techdrill\n5   6         Techline\n6   7          Cityace\n7   8   Kayelectronics\n8   9          Ganzlax\n9  10      Trantraxlax",
            "text/html": "<div>\n<style scoped>\n    .dataframe tbody tr th:only-of-type {\n        vertical-align: middle;\n    }\n\n    .dataframe tbody tr th {\n        vertical-align: top;\n    }\n\n    .dataframe thead th {\n        text-align: right;\n    }\n</style>\n<table border=\"1\" class=\"dataframe\">\n  <thead>\n    <tr style=\"text-align: right;\">\n      <th></th>\n      <th>ID</th>\n      <th>Name</th>\n    </tr>\n  </thead>\n  <tbody>\n    <tr>\n      <th>0</th>\n      <td>1</td>\n      <td>Lamtone</td>\n    </tr>\n    <tr>\n      <th>1</th>\n      <td>2</td>\n      <td>Stripfind</td>\n    </tr>\n    <tr>\n      <th>2</th>\n      <td>3</td>\n      <td>Canecorporation</td>\n    </tr>\n    <tr>\n      <th>3</th>\n      <td>4</td>\n      <td>Mattouch</td>\n    </tr>\n    <tr>\n      <th>4</th>\n      <td>5</td>\n      <td>Techdrill</td>\n    </tr>\n    <tr>\n      <th>5</th>\n      <td>6</td>\n      <td>Techline</td>\n    </tr>\n    <tr>\n      <th>6</th>\n      <td>7</td>\n      <td>Cityace</td>\n    </tr>\n    <tr>\n      <th>7</th>\n      <td>8</td>\n      <td>Kayelectronics</td>\n    </tr>\n    <tr>\n      <th>8</th>\n      <td>9</td>\n      <td>Ganzlax</td>\n    </tr>\n    <tr>\n      <th>9</th>\n      <td>10</td>\n      <td>Trantraxlax</td>\n    </tr>\n  </tbody>\n</table>\n</div>"
          },
          "metadata": {}
        }
      ]
    },
    {
      "cell_type": "code",
      "source": "#we are giving index not a column number",
      "metadata": {
        "trusted": true
      },
      "execution_count": 25,
      "outputs": []
    },
    {
      "cell_type": "code",
      "source": "df=pd.read_csv(\"fortune.csv\",usecols=[2,4,7])\ndf",
      "metadata": {
        "trusted": true
      },
      "execution_count": 26,
      "outputs": [
        {
          "execution_count": 26,
          "output_type": "execute_result",
          "data": {
            "text/plain": "              Industry       Revenue Growth\n0          IT Services  $11,757,018     30%\n1   Financial Services  $12,329,371     20%\n2               Health  $10,597,009      7%\n3          IT Services  $14,026,934     26%\n4               Health  $10,573,990      8%\n5               Health  $13,898,119     23%\n6               Health   $9,254,614      6%\n7               Health   $9,451,943      4%\n8          IT Services  $14,001,180     18%\n9  Government Services  $11,088,336      7%",
            "text/html": "<div>\n<style scoped>\n    .dataframe tbody tr th:only-of-type {\n        vertical-align: middle;\n    }\n\n    .dataframe tbody tr th {\n        vertical-align: top;\n    }\n\n    .dataframe thead th {\n        text-align: right;\n    }\n</style>\n<table border=\"1\" class=\"dataframe\">\n  <thead>\n    <tr style=\"text-align: right;\">\n      <th></th>\n      <th>Industry</th>\n      <th>Revenue</th>\n      <th>Growth</th>\n    </tr>\n  </thead>\n  <tbody>\n    <tr>\n      <th>0</th>\n      <td>IT Services</td>\n      <td>$11,757,018</td>\n      <td>30%</td>\n    </tr>\n    <tr>\n      <th>1</th>\n      <td>Financial Services</td>\n      <td>$12,329,371</td>\n      <td>20%</td>\n    </tr>\n    <tr>\n      <th>2</th>\n      <td>Health</td>\n      <td>$10,597,009</td>\n      <td>7%</td>\n    </tr>\n    <tr>\n      <th>3</th>\n      <td>IT Services</td>\n      <td>$14,026,934</td>\n      <td>26%</td>\n    </tr>\n    <tr>\n      <th>4</th>\n      <td>Health</td>\n      <td>$10,573,990</td>\n      <td>8%</td>\n    </tr>\n    <tr>\n      <th>5</th>\n      <td>Health</td>\n      <td>$13,898,119</td>\n      <td>23%</td>\n    </tr>\n    <tr>\n      <th>6</th>\n      <td>Health</td>\n      <td>$9,254,614</td>\n      <td>6%</td>\n    </tr>\n    <tr>\n      <th>7</th>\n      <td>Health</td>\n      <td>$9,451,943</td>\n      <td>4%</td>\n    </tr>\n    <tr>\n      <th>8</th>\n      <td>IT Services</td>\n      <td>$14,001,180</td>\n      <td>18%</td>\n    </tr>\n    <tr>\n      <th>9</th>\n      <td>Government Services</td>\n      <td>$11,088,336</td>\n      <td>7%</td>\n    </tr>\n  </tbody>\n</table>\n</div>"
          },
          "metadata": {}
        }
      ]
    },
    {
      "cell_type": "code",
      "source": "# we are chnaging the dataset and giving index to every column and doing further things",
      "metadata": {
        "trusted": true
      },
      "execution_count": 27,
      "outputs": []
    },
    {
      "cell_type": "code",
      "source": "df=pd.read_csv(\"Fortune_10.csv\")\ndf",
      "metadata": {
        "trusted": true
      },
      "execution_count": 29,
      "outputs": [
        {
          "execution_count": 29,
          "output_type": "execute_result",
          "data": {
            "text/plain": "     0                1                    2          3             4  \\\n0   ID             Name             Industry  Inception       Revenue   \n1    1          Lamtone          IT Services       2009  $11,757,018    \n2    2        Stripfind   Financial Services       2010  $12,329,371    \n3    3  Canecorporation               Health       2012  $10,597,009    \n4    4         Mattouch          IT Services       2013  $14,026,934    \n5    5        Techdrill               Health       2009  $10,573,990    \n6    6         Techline               Health       2006  $13,898,119    \n7    7          Cityace               Health       2010   $9,254,614    \n8    8   Kayelectronics               Health       2009   $9,451,943    \n9    9          Ganzlax          IT Services       2011  $14,001,180    \n10  10      Trantraxlax  Government Services       2011  $11,088,336    \n\n                    5         6       7  \n0            Expenses    Profit  Growth  \n1   6,482,465 Dollars   5274553     30%  \n2     916,455 Dollars  11412916     20%  \n3   7,591,189 Dollars   3005820      7%  \n4   7,429,377 Dollars   6597557     26%  \n5   7,435,363 Dollars   3138627      8%  \n6   5,470,303 Dollars   8427816     23%  \n7   6,249,498 Dollars   3005116      6%  \n8   3,878,113 Dollars   5573830      4%  \n9                 NaN  11901180     18%  \n10  5,635,276 Dollars   5453060      7%  ",
            "text/html": "<div>\n<style scoped>\n    .dataframe tbody tr th:only-of-type {\n        vertical-align: middle;\n    }\n\n    .dataframe tbody tr th {\n        vertical-align: top;\n    }\n\n    .dataframe thead th {\n        text-align: right;\n    }\n</style>\n<table border=\"1\" class=\"dataframe\">\n  <thead>\n    <tr style=\"text-align: right;\">\n      <th></th>\n      <th>0</th>\n      <th>1</th>\n      <th>2</th>\n      <th>3</th>\n      <th>4</th>\n      <th>5</th>\n      <th>6</th>\n      <th>7</th>\n    </tr>\n  </thead>\n  <tbody>\n    <tr>\n      <th>0</th>\n      <td>ID</td>\n      <td>Name</td>\n      <td>Industry</td>\n      <td>Inception</td>\n      <td>Revenue</td>\n      <td>Expenses</td>\n      <td>Profit</td>\n      <td>Growth</td>\n    </tr>\n    <tr>\n      <th>1</th>\n      <td>1</td>\n      <td>Lamtone</td>\n      <td>IT Services</td>\n      <td>2009</td>\n      <td>$11,757,018</td>\n      <td>6,482,465 Dollars</td>\n      <td>5274553</td>\n      <td>30%</td>\n    </tr>\n    <tr>\n      <th>2</th>\n      <td>2</td>\n      <td>Stripfind</td>\n      <td>Financial Services</td>\n      <td>2010</td>\n      <td>$12,329,371</td>\n      <td>916,455 Dollars</td>\n      <td>11412916</td>\n      <td>20%</td>\n    </tr>\n    <tr>\n      <th>3</th>\n      <td>3</td>\n      <td>Canecorporation</td>\n      <td>Health</td>\n      <td>2012</td>\n      <td>$10,597,009</td>\n      <td>7,591,189 Dollars</td>\n      <td>3005820</td>\n      <td>7%</td>\n    </tr>\n    <tr>\n      <th>4</th>\n      <td>4</td>\n      <td>Mattouch</td>\n      <td>IT Services</td>\n      <td>2013</td>\n      <td>$14,026,934</td>\n      <td>7,429,377 Dollars</td>\n      <td>6597557</td>\n      <td>26%</td>\n    </tr>\n    <tr>\n      <th>5</th>\n      <td>5</td>\n      <td>Techdrill</td>\n      <td>Health</td>\n      <td>2009</td>\n      <td>$10,573,990</td>\n      <td>7,435,363 Dollars</td>\n      <td>3138627</td>\n      <td>8%</td>\n    </tr>\n    <tr>\n      <th>6</th>\n      <td>6</td>\n      <td>Techline</td>\n      <td>Health</td>\n      <td>2006</td>\n      <td>$13,898,119</td>\n      <td>5,470,303 Dollars</td>\n      <td>8427816</td>\n      <td>23%</td>\n    </tr>\n    <tr>\n      <th>7</th>\n      <td>7</td>\n      <td>Cityace</td>\n      <td>Health</td>\n      <td>2010</td>\n      <td>$9,254,614</td>\n      <td>6,249,498 Dollars</td>\n      <td>3005116</td>\n      <td>6%</td>\n    </tr>\n    <tr>\n      <th>8</th>\n      <td>8</td>\n      <td>Kayelectronics</td>\n      <td>Health</td>\n      <td>2009</td>\n      <td>$9,451,943</td>\n      <td>3,878,113 Dollars</td>\n      <td>5573830</td>\n      <td>4%</td>\n    </tr>\n    <tr>\n      <th>9</th>\n      <td>9</td>\n      <td>Ganzlax</td>\n      <td>IT Services</td>\n      <td>2011</td>\n      <td>$14,001,180</td>\n      <td>NaN</td>\n      <td>11901180</td>\n      <td>18%</td>\n    </tr>\n    <tr>\n      <th>10</th>\n      <td>10</td>\n      <td>Trantraxlax</td>\n      <td>Government Services</td>\n      <td>2011</td>\n      <td>$11,088,336</td>\n      <td>5,635,276 Dollars</td>\n      <td>5453060</td>\n      <td>7%</td>\n    </tr>\n  </tbody>\n</table>\n</div>"
          },
          "metadata": {}
        }
      ]
    },
    {
      "cell_type": "code",
      "source": "#wanna make first row as heading\ndf=pd.read_csv(\"Fortune_10.csv\",skiprows=1)\ndf",
      "metadata": {
        "trusted": true
      },
      "execution_count": 30,
      "outputs": [
        {
          "execution_count": 30,
          "output_type": "execute_result",
          "data": {
            "text/plain": "   ID             Name             Industry  Inception       Revenue  \\\n0   1          Lamtone          IT Services       2009  $11,757,018    \n1   2        Stripfind   Financial Services       2010  $12,329,371    \n2   3  Canecorporation               Health       2012  $10,597,009    \n3   4         Mattouch          IT Services       2013  $14,026,934    \n4   5        Techdrill               Health       2009  $10,573,990    \n5   6         Techline               Health       2006  $13,898,119    \n6   7          Cityace               Health       2010   $9,254,614    \n7   8   Kayelectronics               Health       2009   $9,451,943    \n8   9          Ganzlax          IT Services       2011  $14,001,180    \n9  10      Trantraxlax  Government Services       2011  $11,088,336    \n\n            Expenses    Profit Growth  \n0  6,482,465 Dollars   5274553    30%  \n1    916,455 Dollars  11412916    20%  \n2  7,591,189 Dollars   3005820     7%  \n3  7,429,377 Dollars   6597557    26%  \n4  7,435,363 Dollars   3138627     8%  \n5  5,470,303 Dollars   8427816    23%  \n6  6,249,498 Dollars   3005116     6%  \n7  3,878,113 Dollars   5573830     4%  \n8                NaN  11901180    18%  \n9  5,635,276 Dollars   5453060     7%  ",
            "text/html": "<div>\n<style scoped>\n    .dataframe tbody tr th:only-of-type {\n        vertical-align: middle;\n    }\n\n    .dataframe tbody tr th {\n        vertical-align: top;\n    }\n\n    .dataframe thead th {\n        text-align: right;\n    }\n</style>\n<table border=\"1\" class=\"dataframe\">\n  <thead>\n    <tr style=\"text-align: right;\">\n      <th></th>\n      <th>ID</th>\n      <th>Name</th>\n      <th>Industry</th>\n      <th>Inception</th>\n      <th>Revenue</th>\n      <th>Expenses</th>\n      <th>Profit</th>\n      <th>Growth</th>\n    </tr>\n  </thead>\n  <tbody>\n    <tr>\n      <th>0</th>\n      <td>1</td>\n      <td>Lamtone</td>\n      <td>IT Services</td>\n      <td>2009</td>\n      <td>$11,757,018</td>\n      <td>6,482,465 Dollars</td>\n      <td>5274553</td>\n      <td>30%</td>\n    </tr>\n    <tr>\n      <th>1</th>\n      <td>2</td>\n      <td>Stripfind</td>\n      <td>Financial Services</td>\n      <td>2010</td>\n      <td>$12,329,371</td>\n      <td>916,455 Dollars</td>\n      <td>11412916</td>\n      <td>20%</td>\n    </tr>\n    <tr>\n      <th>2</th>\n      <td>3</td>\n      <td>Canecorporation</td>\n      <td>Health</td>\n      <td>2012</td>\n      <td>$10,597,009</td>\n      <td>7,591,189 Dollars</td>\n      <td>3005820</td>\n      <td>7%</td>\n    </tr>\n    <tr>\n      <th>3</th>\n      <td>4</td>\n      <td>Mattouch</td>\n      <td>IT Services</td>\n      <td>2013</td>\n      <td>$14,026,934</td>\n      <td>7,429,377 Dollars</td>\n      <td>6597557</td>\n      <td>26%</td>\n    </tr>\n    <tr>\n      <th>4</th>\n      <td>5</td>\n      <td>Techdrill</td>\n      <td>Health</td>\n      <td>2009</td>\n      <td>$10,573,990</td>\n      <td>7,435,363 Dollars</td>\n      <td>3138627</td>\n      <td>8%</td>\n    </tr>\n    <tr>\n      <th>5</th>\n      <td>6</td>\n      <td>Techline</td>\n      <td>Health</td>\n      <td>2006</td>\n      <td>$13,898,119</td>\n      <td>5,470,303 Dollars</td>\n      <td>8427816</td>\n      <td>23%</td>\n    </tr>\n    <tr>\n      <th>6</th>\n      <td>7</td>\n      <td>Cityace</td>\n      <td>Health</td>\n      <td>2010</td>\n      <td>$9,254,614</td>\n      <td>6,249,498 Dollars</td>\n      <td>3005116</td>\n      <td>6%</td>\n    </tr>\n    <tr>\n      <th>7</th>\n      <td>8</td>\n      <td>Kayelectronics</td>\n      <td>Health</td>\n      <td>2009</td>\n      <td>$9,451,943</td>\n      <td>3,878,113 Dollars</td>\n      <td>5573830</td>\n      <td>4%</td>\n    </tr>\n    <tr>\n      <th>8</th>\n      <td>9</td>\n      <td>Ganzlax</td>\n      <td>IT Services</td>\n      <td>2011</td>\n      <td>$14,001,180</td>\n      <td>NaN</td>\n      <td>11901180</td>\n      <td>18%</td>\n    </tr>\n    <tr>\n      <th>9</th>\n      <td>10</td>\n      <td>Trantraxlax</td>\n      <td>Government Services</td>\n      <td>2011</td>\n      <td>$11,088,336</td>\n      <td>5,635,276 Dollars</td>\n      <td>5453060</td>\n      <td>7%</td>\n    </tr>\n  </tbody>\n</table>\n</div>"
          },
          "metadata": {}
        }
      ]
    },
    {
      "cell_type": "code",
      "source": "df=pd.read_csv(\"Fortune_10.csv\",skiprows=2)#it is skiping that much rows\ndf",
      "metadata": {
        "trusted": true
      },
      "execution_count": 33,
      "outputs": [
        {
          "execution_count": 33,
          "output_type": "execute_result",
          "data": {
            "text/plain": "    1          Lamtone          IT Services  2009  $11,757,018   \\\n0   2        Stripfind   Financial Services  2010  $12,329,371    \n1   3  Canecorporation               Health  2012  $10,597,009    \n2   4         Mattouch          IT Services  2013  $14,026,934    \n3   5        Techdrill               Health  2009  $10,573,990    \n4   6         Techline               Health  2006  $13,898,119    \n5   7          Cityace               Health  2010   $9,254,614    \n6   8   Kayelectronics               Health  2009   $9,451,943    \n7   9          Ganzlax          IT Services  2011  $14,001,180    \n8  10      Trantraxlax  Government Services  2011  $11,088,336    \n\n   6,482,465 Dollars   5274553  30%  \n0    916,455 Dollars  11412916  20%  \n1  7,591,189 Dollars   3005820   7%  \n2  7,429,377 Dollars   6597557  26%  \n3  7,435,363 Dollars   3138627   8%  \n4  5,470,303 Dollars   8427816  23%  \n5  6,249,498 Dollars   3005116   6%  \n6  3,878,113 Dollars   5573830   4%  \n7                NaN  11901180  18%  \n8  5,635,276 Dollars   5453060   7%  ",
            "text/html": "<div>\n<style scoped>\n    .dataframe tbody tr th:only-of-type {\n        vertical-align: middle;\n    }\n\n    .dataframe tbody tr th {\n        vertical-align: top;\n    }\n\n    .dataframe thead th {\n        text-align: right;\n    }\n</style>\n<table border=\"1\" class=\"dataframe\">\n  <thead>\n    <tr style=\"text-align: right;\">\n      <th></th>\n      <th>1</th>\n      <th>Lamtone</th>\n      <th>IT Services</th>\n      <th>2009</th>\n      <th>$11,757,018</th>\n      <th>6,482,465 Dollars</th>\n      <th>5274553</th>\n      <th>30%</th>\n    </tr>\n  </thead>\n  <tbody>\n    <tr>\n      <th>0</th>\n      <td>2</td>\n      <td>Stripfind</td>\n      <td>Financial Services</td>\n      <td>2010</td>\n      <td>$12,329,371</td>\n      <td>916,455 Dollars</td>\n      <td>11412916</td>\n      <td>20%</td>\n    </tr>\n    <tr>\n      <th>1</th>\n      <td>3</td>\n      <td>Canecorporation</td>\n      <td>Health</td>\n      <td>2012</td>\n      <td>$10,597,009</td>\n      <td>7,591,189 Dollars</td>\n      <td>3005820</td>\n      <td>7%</td>\n    </tr>\n    <tr>\n      <th>2</th>\n      <td>4</td>\n      <td>Mattouch</td>\n      <td>IT Services</td>\n      <td>2013</td>\n      <td>$14,026,934</td>\n      <td>7,429,377 Dollars</td>\n      <td>6597557</td>\n      <td>26%</td>\n    </tr>\n    <tr>\n      <th>3</th>\n      <td>5</td>\n      <td>Techdrill</td>\n      <td>Health</td>\n      <td>2009</td>\n      <td>$10,573,990</td>\n      <td>7,435,363 Dollars</td>\n      <td>3138627</td>\n      <td>8%</td>\n    </tr>\n    <tr>\n      <th>4</th>\n      <td>6</td>\n      <td>Techline</td>\n      <td>Health</td>\n      <td>2006</td>\n      <td>$13,898,119</td>\n      <td>5,470,303 Dollars</td>\n      <td>8427816</td>\n      <td>23%</td>\n    </tr>\n    <tr>\n      <th>5</th>\n      <td>7</td>\n      <td>Cityace</td>\n      <td>Health</td>\n      <td>2010</td>\n      <td>$9,254,614</td>\n      <td>6,249,498 Dollars</td>\n      <td>3005116</td>\n      <td>6%</td>\n    </tr>\n    <tr>\n      <th>6</th>\n      <td>8</td>\n      <td>Kayelectronics</td>\n      <td>Health</td>\n      <td>2009</td>\n      <td>$9,451,943</td>\n      <td>3,878,113 Dollars</td>\n      <td>5573830</td>\n      <td>4%</td>\n    </tr>\n    <tr>\n      <th>7</th>\n      <td>9</td>\n      <td>Ganzlax</td>\n      <td>IT Services</td>\n      <td>2011</td>\n      <td>$14,001,180</td>\n      <td>NaN</td>\n      <td>11901180</td>\n      <td>18%</td>\n    </tr>\n    <tr>\n      <th>8</th>\n      <td>10</td>\n      <td>Trantraxlax</td>\n      <td>Government Services</td>\n      <td>2011</td>\n      <td>$11,088,336</td>\n      <td>5,635,276 Dollars</td>\n      <td>5453060</td>\n      <td>7%</td>\n    </tr>\n  </tbody>\n</table>\n</div>"
          },
          "metadata": {}
        }
      ]
    },
    {
      "cell_type": "code",
      "source": "#want to skip particular row so we did it  by giving index and it's given inside the list",
      "metadata": {
        "trusted": true
      },
      "execution_count": 34,
      "outputs": []
    },
    {
      "cell_type": "code",
      "source": "df=pd.read_csv(\"Fortune_10.csv\",skiprows=[0])\ndf",
      "metadata": {
        "trusted": true
      },
      "execution_count": 35,
      "outputs": [
        {
          "execution_count": 35,
          "output_type": "execute_result",
          "data": {
            "text/plain": "   ID             Name             Industry  Inception       Revenue  \\\n0   1          Lamtone          IT Services       2009  $11,757,018    \n1   2        Stripfind   Financial Services       2010  $12,329,371    \n2   3  Canecorporation               Health       2012  $10,597,009    \n3   4         Mattouch          IT Services       2013  $14,026,934    \n4   5        Techdrill               Health       2009  $10,573,990    \n5   6         Techline               Health       2006  $13,898,119    \n6   7          Cityace               Health       2010   $9,254,614    \n7   8   Kayelectronics               Health       2009   $9,451,943    \n8   9          Ganzlax          IT Services       2011  $14,001,180    \n9  10      Trantraxlax  Government Services       2011  $11,088,336    \n\n            Expenses    Profit Growth  \n0  6,482,465 Dollars   5274553    30%  \n1    916,455 Dollars  11412916    20%  \n2  7,591,189 Dollars   3005820     7%  \n3  7,429,377 Dollars   6597557    26%  \n4  7,435,363 Dollars   3138627     8%  \n5  5,470,303 Dollars   8427816    23%  \n6  6,249,498 Dollars   3005116     6%  \n7  3,878,113 Dollars   5573830     4%  \n8                NaN  11901180    18%  \n9  5,635,276 Dollars   5453060     7%  ",
            "text/html": "<div>\n<style scoped>\n    .dataframe tbody tr th:only-of-type {\n        vertical-align: middle;\n    }\n\n    .dataframe tbody tr th {\n        vertical-align: top;\n    }\n\n    .dataframe thead th {\n        text-align: right;\n    }\n</style>\n<table border=\"1\" class=\"dataframe\">\n  <thead>\n    <tr style=\"text-align: right;\">\n      <th></th>\n      <th>ID</th>\n      <th>Name</th>\n      <th>Industry</th>\n      <th>Inception</th>\n      <th>Revenue</th>\n      <th>Expenses</th>\n      <th>Profit</th>\n      <th>Growth</th>\n    </tr>\n  </thead>\n  <tbody>\n    <tr>\n      <th>0</th>\n      <td>1</td>\n      <td>Lamtone</td>\n      <td>IT Services</td>\n      <td>2009</td>\n      <td>$11,757,018</td>\n      <td>6,482,465 Dollars</td>\n      <td>5274553</td>\n      <td>30%</td>\n    </tr>\n    <tr>\n      <th>1</th>\n      <td>2</td>\n      <td>Stripfind</td>\n      <td>Financial Services</td>\n      <td>2010</td>\n      <td>$12,329,371</td>\n      <td>916,455 Dollars</td>\n      <td>11412916</td>\n      <td>20%</td>\n    </tr>\n    <tr>\n      <th>2</th>\n      <td>3</td>\n      <td>Canecorporation</td>\n      <td>Health</td>\n      <td>2012</td>\n      <td>$10,597,009</td>\n      <td>7,591,189 Dollars</td>\n      <td>3005820</td>\n      <td>7%</td>\n    </tr>\n    <tr>\n      <th>3</th>\n      <td>4</td>\n      <td>Mattouch</td>\n      <td>IT Services</td>\n      <td>2013</td>\n      <td>$14,026,934</td>\n      <td>7,429,377 Dollars</td>\n      <td>6597557</td>\n      <td>26%</td>\n    </tr>\n    <tr>\n      <th>4</th>\n      <td>5</td>\n      <td>Techdrill</td>\n      <td>Health</td>\n      <td>2009</td>\n      <td>$10,573,990</td>\n      <td>7,435,363 Dollars</td>\n      <td>3138627</td>\n      <td>8%</td>\n    </tr>\n    <tr>\n      <th>5</th>\n      <td>6</td>\n      <td>Techline</td>\n      <td>Health</td>\n      <td>2006</td>\n      <td>$13,898,119</td>\n      <td>5,470,303 Dollars</td>\n      <td>8427816</td>\n      <td>23%</td>\n    </tr>\n    <tr>\n      <th>6</th>\n      <td>7</td>\n      <td>Cityace</td>\n      <td>Health</td>\n      <td>2010</td>\n      <td>$9,254,614</td>\n      <td>6,249,498 Dollars</td>\n      <td>3005116</td>\n      <td>6%</td>\n    </tr>\n    <tr>\n      <th>7</th>\n      <td>8</td>\n      <td>Kayelectronics</td>\n      <td>Health</td>\n      <td>2009</td>\n      <td>$9,451,943</td>\n      <td>3,878,113 Dollars</td>\n      <td>5573830</td>\n      <td>4%</td>\n    </tr>\n    <tr>\n      <th>8</th>\n      <td>9</td>\n      <td>Ganzlax</td>\n      <td>IT Services</td>\n      <td>2011</td>\n      <td>$14,001,180</td>\n      <td>NaN</td>\n      <td>11901180</td>\n      <td>18%</td>\n    </tr>\n    <tr>\n      <th>9</th>\n      <td>10</td>\n      <td>Trantraxlax</td>\n      <td>Government Services</td>\n      <td>2011</td>\n      <td>$11,088,336</td>\n      <td>5,635,276 Dollars</td>\n      <td>5453060</td>\n      <td>7%</td>\n    </tr>\n  </tbody>\n</table>\n</div>"
          },
          "metadata": {}
        }
      ]
    },
    {
      "cell_type": "code",
      "source": "df=pd.read_csv(\"Fortune_10.csv\",skiprows=[2])\ndf",
      "metadata": {
        "trusted": true
      },
      "execution_count": 37,
      "outputs": [
        {
          "execution_count": 37,
          "output_type": "execute_result",
          "data": {
            "text/plain": "    0                1                    2          3             4  \\\n0  ID             Name             Industry  Inception       Revenue   \n1   2        Stripfind   Financial Services       2010  $12,329,371    \n2   3  Canecorporation               Health       2012  $10,597,009    \n3   4         Mattouch          IT Services       2013  $14,026,934    \n4   5        Techdrill               Health       2009  $10,573,990    \n5   6         Techline               Health       2006  $13,898,119    \n6   7          Cityace               Health       2010   $9,254,614    \n7   8   Kayelectronics               Health       2009   $9,451,943    \n8   9          Ganzlax          IT Services       2011  $14,001,180    \n9  10      Trantraxlax  Government Services       2011  $11,088,336    \n\n                   5         6       7  \n0           Expenses    Profit  Growth  \n1    916,455 Dollars  11412916     20%  \n2  7,591,189 Dollars   3005820      7%  \n3  7,429,377 Dollars   6597557     26%  \n4  7,435,363 Dollars   3138627      8%  \n5  5,470,303 Dollars   8427816     23%  \n6  6,249,498 Dollars   3005116      6%  \n7  3,878,113 Dollars   5573830      4%  \n8                NaN  11901180     18%  \n9  5,635,276 Dollars   5453060      7%  ",
            "text/html": "<div>\n<style scoped>\n    .dataframe tbody tr th:only-of-type {\n        vertical-align: middle;\n    }\n\n    .dataframe tbody tr th {\n        vertical-align: top;\n    }\n\n    .dataframe thead th {\n        text-align: right;\n    }\n</style>\n<table border=\"1\" class=\"dataframe\">\n  <thead>\n    <tr style=\"text-align: right;\">\n      <th></th>\n      <th>0</th>\n      <th>1</th>\n      <th>2</th>\n      <th>3</th>\n      <th>4</th>\n      <th>5</th>\n      <th>6</th>\n      <th>7</th>\n    </tr>\n  </thead>\n  <tbody>\n    <tr>\n      <th>0</th>\n      <td>ID</td>\n      <td>Name</td>\n      <td>Industry</td>\n      <td>Inception</td>\n      <td>Revenue</td>\n      <td>Expenses</td>\n      <td>Profit</td>\n      <td>Growth</td>\n    </tr>\n    <tr>\n      <th>1</th>\n      <td>2</td>\n      <td>Stripfind</td>\n      <td>Financial Services</td>\n      <td>2010</td>\n      <td>$12,329,371</td>\n      <td>916,455 Dollars</td>\n      <td>11412916</td>\n      <td>20%</td>\n    </tr>\n    <tr>\n      <th>2</th>\n      <td>3</td>\n      <td>Canecorporation</td>\n      <td>Health</td>\n      <td>2012</td>\n      <td>$10,597,009</td>\n      <td>7,591,189 Dollars</td>\n      <td>3005820</td>\n      <td>7%</td>\n    </tr>\n    <tr>\n      <th>3</th>\n      <td>4</td>\n      <td>Mattouch</td>\n      <td>IT Services</td>\n      <td>2013</td>\n      <td>$14,026,934</td>\n      <td>7,429,377 Dollars</td>\n      <td>6597557</td>\n      <td>26%</td>\n    </tr>\n    <tr>\n      <th>4</th>\n      <td>5</td>\n      <td>Techdrill</td>\n      <td>Health</td>\n      <td>2009</td>\n      <td>$10,573,990</td>\n      <td>7,435,363 Dollars</td>\n      <td>3138627</td>\n      <td>8%</td>\n    </tr>\n    <tr>\n      <th>5</th>\n      <td>6</td>\n      <td>Techline</td>\n      <td>Health</td>\n      <td>2006</td>\n      <td>$13,898,119</td>\n      <td>5,470,303 Dollars</td>\n      <td>8427816</td>\n      <td>23%</td>\n    </tr>\n    <tr>\n      <th>6</th>\n      <td>7</td>\n      <td>Cityace</td>\n      <td>Health</td>\n      <td>2010</td>\n      <td>$9,254,614</td>\n      <td>6,249,498 Dollars</td>\n      <td>3005116</td>\n      <td>6%</td>\n    </tr>\n    <tr>\n      <th>7</th>\n      <td>8</td>\n      <td>Kayelectronics</td>\n      <td>Health</td>\n      <td>2009</td>\n      <td>$9,451,943</td>\n      <td>3,878,113 Dollars</td>\n      <td>5573830</td>\n      <td>4%</td>\n    </tr>\n    <tr>\n      <th>8</th>\n      <td>9</td>\n      <td>Ganzlax</td>\n      <td>IT Services</td>\n      <td>2011</td>\n      <td>$14,001,180</td>\n      <td>NaN</td>\n      <td>11901180</td>\n      <td>18%</td>\n    </tr>\n    <tr>\n      <th>9</th>\n      <td>10</td>\n      <td>Trantraxlax</td>\n      <td>Government Services</td>\n      <td>2011</td>\n      <td>$11,088,336</td>\n      <td>5,635,276 Dollars</td>\n      <td>5453060</td>\n      <td>7%</td>\n    </tr>\n  </tbody>\n</table>\n</div>"
          },
          "metadata": {}
        }
      ]
    },
    {
      "cell_type": "code",
      "source": "#to skip multiple rows",
      "metadata": {
        "trusted": true
      },
      "execution_count": 38,
      "outputs": []
    },
    {
      "cell_type": "code",
      "source": "df=pd.read_csv(\"Fortune_10.csv\",skiprows=[1,2,3])\ndf",
      "metadata": {
        "trusted": true
      },
      "execution_count": 39,
      "outputs": [
        {
          "execution_count": 39,
          "output_type": "execute_result",
          "data": {
            "text/plain": "    0                1                    2     3             4  \\\n0   3  Canecorporation               Health  2012  $10,597,009    \n1   4         Mattouch          IT Services  2013  $14,026,934    \n2   5        Techdrill               Health  2009  $10,573,990    \n3   6         Techline               Health  2006  $13,898,119    \n4   7          Cityace               Health  2010   $9,254,614    \n5   8   Kayelectronics               Health  2009   $9,451,943    \n6   9          Ganzlax          IT Services  2011  $14,001,180    \n7  10      Trantraxlax  Government Services  2011  $11,088,336    \n\n                   5         6    7  \n0  7,591,189 Dollars   3005820   7%  \n1  7,429,377 Dollars   6597557  26%  \n2  7,435,363 Dollars   3138627   8%  \n3  5,470,303 Dollars   8427816  23%  \n4  6,249,498 Dollars   3005116   6%  \n5  3,878,113 Dollars   5573830   4%  \n6                NaN  11901180  18%  \n7  5,635,276 Dollars   5453060   7%  ",
            "text/html": "<div>\n<style scoped>\n    .dataframe tbody tr th:only-of-type {\n        vertical-align: middle;\n    }\n\n    .dataframe tbody tr th {\n        vertical-align: top;\n    }\n\n    .dataframe thead th {\n        text-align: right;\n    }\n</style>\n<table border=\"1\" class=\"dataframe\">\n  <thead>\n    <tr style=\"text-align: right;\">\n      <th></th>\n      <th>0</th>\n      <th>1</th>\n      <th>2</th>\n      <th>3</th>\n      <th>4</th>\n      <th>5</th>\n      <th>6</th>\n      <th>7</th>\n    </tr>\n  </thead>\n  <tbody>\n    <tr>\n      <th>0</th>\n      <td>3</td>\n      <td>Canecorporation</td>\n      <td>Health</td>\n      <td>2012</td>\n      <td>$10,597,009</td>\n      <td>7,591,189 Dollars</td>\n      <td>3005820</td>\n      <td>7%</td>\n    </tr>\n    <tr>\n      <th>1</th>\n      <td>4</td>\n      <td>Mattouch</td>\n      <td>IT Services</td>\n      <td>2013</td>\n      <td>$14,026,934</td>\n      <td>7,429,377 Dollars</td>\n      <td>6597557</td>\n      <td>26%</td>\n    </tr>\n    <tr>\n      <th>2</th>\n      <td>5</td>\n      <td>Techdrill</td>\n      <td>Health</td>\n      <td>2009</td>\n      <td>$10,573,990</td>\n      <td>7,435,363 Dollars</td>\n      <td>3138627</td>\n      <td>8%</td>\n    </tr>\n    <tr>\n      <th>3</th>\n      <td>6</td>\n      <td>Techline</td>\n      <td>Health</td>\n      <td>2006</td>\n      <td>$13,898,119</td>\n      <td>5,470,303 Dollars</td>\n      <td>8427816</td>\n      <td>23%</td>\n    </tr>\n    <tr>\n      <th>4</th>\n      <td>7</td>\n      <td>Cityace</td>\n      <td>Health</td>\n      <td>2010</td>\n      <td>$9,254,614</td>\n      <td>6,249,498 Dollars</td>\n      <td>3005116</td>\n      <td>6%</td>\n    </tr>\n    <tr>\n      <th>5</th>\n      <td>8</td>\n      <td>Kayelectronics</td>\n      <td>Health</td>\n      <td>2009</td>\n      <td>$9,451,943</td>\n      <td>3,878,113 Dollars</td>\n      <td>5573830</td>\n      <td>4%</td>\n    </tr>\n    <tr>\n      <th>6</th>\n      <td>9</td>\n      <td>Ganzlax</td>\n      <td>IT Services</td>\n      <td>2011</td>\n      <td>$14,001,180</td>\n      <td>NaN</td>\n      <td>11901180</td>\n      <td>18%</td>\n    </tr>\n    <tr>\n      <th>7</th>\n      <td>10</td>\n      <td>Trantraxlax</td>\n      <td>Government Services</td>\n      <td>2011</td>\n      <td>$11,088,336</td>\n      <td>5,635,276 Dollars</td>\n      <td>5453060</td>\n      <td>7%</td>\n    </tr>\n  </tbody>\n</table>\n</div>"
          },
          "metadata": {}
        }
      ]
    },
    {
      "cell_type": "code",
      "source": "#we wanna make any column as a index",
      "metadata": {
        "trusted": true
      },
      "execution_count": 40,
      "outputs": []
    },
    {
      "cell_type": "code",
      "source": "# so will some changes will use our old dataset first",
      "metadata": {
        "trusted": true
      },
      "execution_count": 41,
      "outputs": []
    },
    {
      "cell_type": "code",
      "source": "df=pd.read_csv(\"fortune.csv\")\ndf",
      "metadata": {
        "trusted": true
      },
      "execution_count": 42,
      "outputs": [
        {
          "execution_count": 42,
          "output_type": "execute_result",
          "data": {
            "text/plain": "   ID             Name             Industry  Inception       Revenue  \\\n0   1          Lamtone          IT Services       2009  $11,757,018    \n1   2        Stripfind   Financial Services       2010  $12,329,371    \n2   3  Canecorporation               Health       2012  $10,597,009    \n3   4         Mattouch          IT Services       2013  $14,026,934    \n4   5        Techdrill               Health       2009  $10,573,990    \n5   6         Techline               Health       2006  $13,898,119    \n6   7          Cityace               Health       2010   $9,254,614    \n7   8   Kayelectronics               Health       2009   $9,451,943    \n8   9          Ganzlax          IT Services       2011  $14,001,180    \n9  10      Trantraxlax  Government Services       2011  $11,088,336    \n\n            Expenses    Profit Growth  \n0  6,482,465 Dollars   5274553    30%  \n1    916,455 Dollars  11412916    20%  \n2  7,591,189 Dollars   3005820     7%  \n3  7,429,377 Dollars   6597557    26%  \n4  7,435,363 Dollars   3138627     8%  \n5  5,470,303 Dollars   8427816    23%  \n6  6,249,498 Dollars   3005116     6%  \n7  3,878,113 Dollars   5573830     4%  \n8                NaN  11901180    18%  \n9  5,635,276 Dollars   5453060     7%  ",
            "text/html": "<div>\n<style scoped>\n    .dataframe tbody tr th:only-of-type {\n        vertical-align: middle;\n    }\n\n    .dataframe tbody tr th {\n        vertical-align: top;\n    }\n\n    .dataframe thead th {\n        text-align: right;\n    }\n</style>\n<table border=\"1\" class=\"dataframe\">\n  <thead>\n    <tr style=\"text-align: right;\">\n      <th></th>\n      <th>ID</th>\n      <th>Name</th>\n      <th>Industry</th>\n      <th>Inception</th>\n      <th>Revenue</th>\n      <th>Expenses</th>\n      <th>Profit</th>\n      <th>Growth</th>\n    </tr>\n  </thead>\n  <tbody>\n    <tr>\n      <th>0</th>\n      <td>1</td>\n      <td>Lamtone</td>\n      <td>IT Services</td>\n      <td>2009</td>\n      <td>$11,757,018</td>\n      <td>6,482,465 Dollars</td>\n      <td>5274553</td>\n      <td>30%</td>\n    </tr>\n    <tr>\n      <th>1</th>\n      <td>2</td>\n      <td>Stripfind</td>\n      <td>Financial Services</td>\n      <td>2010</td>\n      <td>$12,329,371</td>\n      <td>916,455 Dollars</td>\n      <td>11412916</td>\n      <td>20%</td>\n    </tr>\n    <tr>\n      <th>2</th>\n      <td>3</td>\n      <td>Canecorporation</td>\n      <td>Health</td>\n      <td>2012</td>\n      <td>$10,597,009</td>\n      <td>7,591,189 Dollars</td>\n      <td>3005820</td>\n      <td>7%</td>\n    </tr>\n    <tr>\n      <th>3</th>\n      <td>4</td>\n      <td>Mattouch</td>\n      <td>IT Services</td>\n      <td>2013</td>\n      <td>$14,026,934</td>\n      <td>7,429,377 Dollars</td>\n      <td>6597557</td>\n      <td>26%</td>\n    </tr>\n    <tr>\n      <th>4</th>\n      <td>5</td>\n      <td>Techdrill</td>\n      <td>Health</td>\n      <td>2009</td>\n      <td>$10,573,990</td>\n      <td>7,435,363 Dollars</td>\n      <td>3138627</td>\n      <td>8%</td>\n    </tr>\n    <tr>\n      <th>5</th>\n      <td>6</td>\n      <td>Techline</td>\n      <td>Health</td>\n      <td>2006</td>\n      <td>$13,898,119</td>\n      <td>5,470,303 Dollars</td>\n      <td>8427816</td>\n      <td>23%</td>\n    </tr>\n    <tr>\n      <th>6</th>\n      <td>7</td>\n      <td>Cityace</td>\n      <td>Health</td>\n      <td>2010</td>\n      <td>$9,254,614</td>\n      <td>6,249,498 Dollars</td>\n      <td>3005116</td>\n      <td>6%</td>\n    </tr>\n    <tr>\n      <th>7</th>\n      <td>8</td>\n      <td>Kayelectronics</td>\n      <td>Health</td>\n      <td>2009</td>\n      <td>$9,451,943</td>\n      <td>3,878,113 Dollars</td>\n      <td>5573830</td>\n      <td>4%</td>\n    </tr>\n    <tr>\n      <th>8</th>\n      <td>9</td>\n      <td>Ganzlax</td>\n      <td>IT Services</td>\n      <td>2011</td>\n      <td>$14,001,180</td>\n      <td>NaN</td>\n      <td>11901180</td>\n      <td>18%</td>\n    </tr>\n    <tr>\n      <th>9</th>\n      <td>10</td>\n      <td>Trantraxlax</td>\n      <td>Government Services</td>\n      <td>2011</td>\n      <td>$11,088,336</td>\n      <td>5,635,276 Dollars</td>\n      <td>5453060</td>\n      <td>7%</td>\n    </tr>\n  </tbody>\n</table>\n</div>"
          },
          "metadata": {}
        }
      ]
    },
    {
      "cell_type": "code",
      "source": "#which index we want we have to give it's header\ndf=pd.read_csv(\"fortune.csv\",index_col='ID')\ndf",
      "metadata": {
        "trusted": true
      },
      "execution_count": 46,
      "outputs": [
        {
          "execution_count": 46,
          "output_type": "execute_result",
          "data": {
            "text/plain": "               Name             Industry  Inception       Revenue  \\\nID                                                                  \n1           Lamtone          IT Services       2009  $11,757,018    \n2         Stripfind   Financial Services       2010  $12,329,371    \n3   Canecorporation               Health       2012  $10,597,009    \n4          Mattouch          IT Services       2013  $14,026,934    \n5         Techdrill               Health       2009  $10,573,990    \n6          Techline               Health       2006  $13,898,119    \n7           Cityace               Health       2010   $9,254,614    \n8    Kayelectronics               Health       2009   $9,451,943    \n9           Ganzlax          IT Services       2011  $14,001,180    \n10      Trantraxlax  Government Services       2011  $11,088,336    \n\n             Expenses    Profit Growth  \nID                                      \n1   6,482,465 Dollars   5274553    30%  \n2     916,455 Dollars  11412916    20%  \n3   7,591,189 Dollars   3005820     7%  \n4   7,429,377 Dollars   6597557    26%  \n5   7,435,363 Dollars   3138627     8%  \n6   5,470,303 Dollars   8427816    23%  \n7   6,249,498 Dollars   3005116     6%  \n8   3,878,113 Dollars   5573830     4%  \n9                 NaN  11901180    18%  \n10  5,635,276 Dollars   5453060     7%  ",
            "text/html": "<div>\n<style scoped>\n    .dataframe tbody tr th:only-of-type {\n        vertical-align: middle;\n    }\n\n    .dataframe tbody tr th {\n        vertical-align: top;\n    }\n\n    .dataframe thead th {\n        text-align: right;\n    }\n</style>\n<table border=\"1\" class=\"dataframe\">\n  <thead>\n    <tr style=\"text-align: right;\">\n      <th></th>\n      <th>Name</th>\n      <th>Industry</th>\n      <th>Inception</th>\n      <th>Revenue</th>\n      <th>Expenses</th>\n      <th>Profit</th>\n      <th>Growth</th>\n    </tr>\n    <tr>\n      <th>ID</th>\n      <th></th>\n      <th></th>\n      <th></th>\n      <th></th>\n      <th></th>\n      <th></th>\n      <th></th>\n    </tr>\n  </thead>\n  <tbody>\n    <tr>\n      <th>1</th>\n      <td>Lamtone</td>\n      <td>IT Services</td>\n      <td>2009</td>\n      <td>$11,757,018</td>\n      <td>6,482,465 Dollars</td>\n      <td>5274553</td>\n      <td>30%</td>\n    </tr>\n    <tr>\n      <th>2</th>\n      <td>Stripfind</td>\n      <td>Financial Services</td>\n      <td>2010</td>\n      <td>$12,329,371</td>\n      <td>916,455 Dollars</td>\n      <td>11412916</td>\n      <td>20%</td>\n    </tr>\n    <tr>\n      <th>3</th>\n      <td>Canecorporation</td>\n      <td>Health</td>\n      <td>2012</td>\n      <td>$10,597,009</td>\n      <td>7,591,189 Dollars</td>\n      <td>3005820</td>\n      <td>7%</td>\n    </tr>\n    <tr>\n      <th>4</th>\n      <td>Mattouch</td>\n      <td>IT Services</td>\n      <td>2013</td>\n      <td>$14,026,934</td>\n      <td>7,429,377 Dollars</td>\n      <td>6597557</td>\n      <td>26%</td>\n    </tr>\n    <tr>\n      <th>5</th>\n      <td>Techdrill</td>\n      <td>Health</td>\n      <td>2009</td>\n      <td>$10,573,990</td>\n      <td>7,435,363 Dollars</td>\n      <td>3138627</td>\n      <td>8%</td>\n    </tr>\n    <tr>\n      <th>6</th>\n      <td>Techline</td>\n      <td>Health</td>\n      <td>2006</td>\n      <td>$13,898,119</td>\n      <td>5,470,303 Dollars</td>\n      <td>8427816</td>\n      <td>23%</td>\n    </tr>\n    <tr>\n      <th>7</th>\n      <td>Cityace</td>\n      <td>Health</td>\n      <td>2010</td>\n      <td>$9,254,614</td>\n      <td>6,249,498 Dollars</td>\n      <td>3005116</td>\n      <td>6%</td>\n    </tr>\n    <tr>\n      <th>8</th>\n      <td>Kayelectronics</td>\n      <td>Health</td>\n      <td>2009</td>\n      <td>$9,451,943</td>\n      <td>3,878,113 Dollars</td>\n      <td>5573830</td>\n      <td>4%</td>\n    </tr>\n    <tr>\n      <th>9</th>\n      <td>Ganzlax</td>\n      <td>IT Services</td>\n      <td>2011</td>\n      <td>$14,001,180</td>\n      <td>NaN</td>\n      <td>11901180</td>\n      <td>18%</td>\n    </tr>\n    <tr>\n      <th>10</th>\n      <td>Trantraxlax</td>\n      <td>Government Services</td>\n      <td>2011</td>\n      <td>$11,088,336</td>\n      <td>5,635,276 Dollars</td>\n      <td>5453060</td>\n      <td>7%</td>\n    </tr>\n  </tbody>\n</table>\n</div>"
          },
          "metadata": {}
        }
      ]
    },
    {
      "cell_type": "code",
      "source": "#without using column name just by using index u can do it ",
      "metadata": {
        "trusted": true
      },
      "execution_count": 47,
      "outputs": []
    },
    {
      "cell_type": "code",
      "source": "#will make industry col as index\ndf=pd.read_csv(\"fortune.csv\",index_col=2)\ndf",
      "metadata": {
        "trusted": true
      },
      "execution_count": 48,
      "outputs": [
        {
          "execution_count": 48,
          "output_type": "execute_result",
          "data": {
            "text/plain": "                     ID             Name  Inception       Revenue  \\\nIndustry                                                            \nIT Services           1          Lamtone       2009  $11,757,018    \nFinancial Services    2        Stripfind       2010  $12,329,371    \nHealth                3  Canecorporation       2012  $10,597,009    \nIT Services           4         Mattouch       2013  $14,026,934    \nHealth                5        Techdrill       2009  $10,573,990    \nHealth                6         Techline       2006  $13,898,119    \nHealth                7          Cityace       2010   $9,254,614    \nHealth                8   Kayelectronics       2009   $9,451,943    \nIT Services           9          Ganzlax       2011  $14,001,180    \nGovernment Services  10      Trantraxlax       2011  $11,088,336    \n\n                              Expenses    Profit Growth  \nIndustry                                                 \nIT Services          6,482,465 Dollars   5274553    30%  \nFinancial Services     916,455 Dollars  11412916    20%  \nHealth               7,591,189 Dollars   3005820     7%  \nIT Services          7,429,377 Dollars   6597557    26%  \nHealth               7,435,363 Dollars   3138627     8%  \nHealth               5,470,303 Dollars   8427816    23%  \nHealth               6,249,498 Dollars   3005116     6%  \nHealth               3,878,113 Dollars   5573830     4%  \nIT Services                        NaN  11901180    18%  \nGovernment Services  5,635,276 Dollars   5453060     7%  ",
            "text/html": "<div>\n<style scoped>\n    .dataframe tbody tr th:only-of-type {\n        vertical-align: middle;\n    }\n\n    .dataframe tbody tr th {\n        vertical-align: top;\n    }\n\n    .dataframe thead th {\n        text-align: right;\n    }\n</style>\n<table border=\"1\" class=\"dataframe\">\n  <thead>\n    <tr style=\"text-align: right;\">\n      <th></th>\n      <th>ID</th>\n      <th>Name</th>\n      <th>Inception</th>\n      <th>Revenue</th>\n      <th>Expenses</th>\n      <th>Profit</th>\n      <th>Growth</th>\n    </tr>\n    <tr>\n      <th>Industry</th>\n      <th></th>\n      <th></th>\n      <th></th>\n      <th></th>\n      <th></th>\n      <th></th>\n      <th></th>\n    </tr>\n  </thead>\n  <tbody>\n    <tr>\n      <th>IT Services</th>\n      <td>1</td>\n      <td>Lamtone</td>\n      <td>2009</td>\n      <td>$11,757,018</td>\n      <td>6,482,465 Dollars</td>\n      <td>5274553</td>\n      <td>30%</td>\n    </tr>\n    <tr>\n      <th>Financial Services</th>\n      <td>2</td>\n      <td>Stripfind</td>\n      <td>2010</td>\n      <td>$12,329,371</td>\n      <td>916,455 Dollars</td>\n      <td>11412916</td>\n      <td>20%</td>\n    </tr>\n    <tr>\n      <th>Health</th>\n      <td>3</td>\n      <td>Canecorporation</td>\n      <td>2012</td>\n      <td>$10,597,009</td>\n      <td>7,591,189 Dollars</td>\n      <td>3005820</td>\n      <td>7%</td>\n    </tr>\n    <tr>\n      <th>IT Services</th>\n      <td>4</td>\n      <td>Mattouch</td>\n      <td>2013</td>\n      <td>$14,026,934</td>\n      <td>7,429,377 Dollars</td>\n      <td>6597557</td>\n      <td>26%</td>\n    </tr>\n    <tr>\n      <th>Health</th>\n      <td>5</td>\n      <td>Techdrill</td>\n      <td>2009</td>\n      <td>$10,573,990</td>\n      <td>7,435,363 Dollars</td>\n      <td>3138627</td>\n      <td>8%</td>\n    </tr>\n    <tr>\n      <th>Health</th>\n      <td>6</td>\n      <td>Techline</td>\n      <td>2006</td>\n      <td>$13,898,119</td>\n      <td>5,470,303 Dollars</td>\n      <td>8427816</td>\n      <td>23%</td>\n    </tr>\n    <tr>\n      <th>Health</th>\n      <td>7</td>\n      <td>Cityace</td>\n      <td>2010</td>\n      <td>$9,254,614</td>\n      <td>6,249,498 Dollars</td>\n      <td>3005116</td>\n      <td>6%</td>\n    </tr>\n    <tr>\n      <th>Health</th>\n      <td>8</td>\n      <td>Kayelectronics</td>\n      <td>2009</td>\n      <td>$9,451,943</td>\n      <td>3,878,113 Dollars</td>\n      <td>5573830</td>\n      <td>4%</td>\n    </tr>\n    <tr>\n      <th>IT Services</th>\n      <td>9</td>\n      <td>Ganzlax</td>\n      <td>2011</td>\n      <td>$14,001,180</td>\n      <td>NaN</td>\n      <td>11901180</td>\n      <td>18%</td>\n    </tr>\n    <tr>\n      <th>Government Services</th>\n      <td>10</td>\n      <td>Trantraxlax</td>\n      <td>2011</td>\n      <td>$11,088,336</td>\n      <td>5,635,276 Dollars</td>\n      <td>5453060</td>\n      <td>7%</td>\n    </tr>\n  </tbody>\n</table>\n</div>"
          },
          "metadata": {}
        }
      ]
    },
    {
      "cell_type": "code",
      "source": "#******************PART 6***************\n#header\n#prefix\n#names",
      "metadata": {
        "trusted": true
      },
      "execution_count": 68,
      "outputs": []
    },
    {
      "cell_type": "code",
      "source": "df=pd.read_csv(\"fortune.csv\")\ndf",
      "metadata": {
        "trusted": true
      },
      "execution_count": 50,
      "outputs": [
        {
          "execution_count": 50,
          "output_type": "execute_result",
          "data": {
            "text/plain": "   ID             Name             Industry  Inception       Revenue  \\\n0   1          Lamtone          IT Services       2009  $11,757,018    \n1   2        Stripfind   Financial Services       2010  $12,329,371    \n2   3  Canecorporation               Health       2012  $10,597,009    \n3   4         Mattouch          IT Services       2013  $14,026,934    \n4   5        Techdrill               Health       2009  $10,573,990    \n5   6         Techline               Health       2006  $13,898,119    \n6   7          Cityace               Health       2010   $9,254,614    \n7   8   Kayelectronics               Health       2009   $9,451,943    \n8   9          Ganzlax          IT Services       2011  $14,001,180    \n9  10      Trantraxlax  Government Services       2011  $11,088,336    \n\n            Expenses    Profit Growth  \n0  6,482,465 Dollars   5274553    30%  \n1    916,455 Dollars  11412916    20%  \n2  7,591,189 Dollars   3005820     7%  \n3  7,429,377 Dollars   6597557    26%  \n4  7,435,363 Dollars   3138627     8%  \n5  5,470,303 Dollars   8427816    23%  \n6  6,249,498 Dollars   3005116     6%  \n7  3,878,113 Dollars   5573830     4%  \n8                NaN  11901180    18%  \n9  5,635,276 Dollars   5453060     7%  ",
            "text/html": "<div>\n<style scoped>\n    .dataframe tbody tr th:only-of-type {\n        vertical-align: middle;\n    }\n\n    .dataframe tbody tr th {\n        vertical-align: top;\n    }\n\n    .dataframe thead th {\n        text-align: right;\n    }\n</style>\n<table border=\"1\" class=\"dataframe\">\n  <thead>\n    <tr style=\"text-align: right;\">\n      <th></th>\n      <th>ID</th>\n      <th>Name</th>\n      <th>Industry</th>\n      <th>Inception</th>\n      <th>Revenue</th>\n      <th>Expenses</th>\n      <th>Profit</th>\n      <th>Growth</th>\n    </tr>\n  </thead>\n  <tbody>\n    <tr>\n      <th>0</th>\n      <td>1</td>\n      <td>Lamtone</td>\n      <td>IT Services</td>\n      <td>2009</td>\n      <td>$11,757,018</td>\n      <td>6,482,465 Dollars</td>\n      <td>5274553</td>\n      <td>30%</td>\n    </tr>\n    <tr>\n      <th>1</th>\n      <td>2</td>\n      <td>Stripfind</td>\n      <td>Financial Services</td>\n      <td>2010</td>\n      <td>$12,329,371</td>\n      <td>916,455 Dollars</td>\n      <td>11412916</td>\n      <td>20%</td>\n    </tr>\n    <tr>\n      <th>2</th>\n      <td>3</td>\n      <td>Canecorporation</td>\n      <td>Health</td>\n      <td>2012</td>\n      <td>$10,597,009</td>\n      <td>7,591,189 Dollars</td>\n      <td>3005820</td>\n      <td>7%</td>\n    </tr>\n    <tr>\n      <th>3</th>\n      <td>4</td>\n      <td>Mattouch</td>\n      <td>IT Services</td>\n      <td>2013</td>\n      <td>$14,026,934</td>\n      <td>7,429,377 Dollars</td>\n      <td>6597557</td>\n      <td>26%</td>\n    </tr>\n    <tr>\n      <th>4</th>\n      <td>5</td>\n      <td>Techdrill</td>\n      <td>Health</td>\n      <td>2009</td>\n      <td>$10,573,990</td>\n      <td>7,435,363 Dollars</td>\n      <td>3138627</td>\n      <td>8%</td>\n    </tr>\n    <tr>\n      <th>5</th>\n      <td>6</td>\n      <td>Techline</td>\n      <td>Health</td>\n      <td>2006</td>\n      <td>$13,898,119</td>\n      <td>5,470,303 Dollars</td>\n      <td>8427816</td>\n      <td>23%</td>\n    </tr>\n    <tr>\n      <th>6</th>\n      <td>7</td>\n      <td>Cityace</td>\n      <td>Health</td>\n      <td>2010</td>\n      <td>$9,254,614</td>\n      <td>6,249,498 Dollars</td>\n      <td>3005116</td>\n      <td>6%</td>\n    </tr>\n    <tr>\n      <th>7</th>\n      <td>8</td>\n      <td>Kayelectronics</td>\n      <td>Health</td>\n      <td>2009</td>\n      <td>$9,451,943</td>\n      <td>3,878,113 Dollars</td>\n      <td>5573830</td>\n      <td>4%</td>\n    </tr>\n    <tr>\n      <th>8</th>\n      <td>9</td>\n      <td>Ganzlax</td>\n      <td>IT Services</td>\n      <td>2011</td>\n      <td>$14,001,180</td>\n      <td>NaN</td>\n      <td>11901180</td>\n      <td>18%</td>\n    </tr>\n    <tr>\n      <th>9</th>\n      <td>10</td>\n      <td>Trantraxlax</td>\n      <td>Government Services</td>\n      <td>2011</td>\n      <td>$11,088,336</td>\n      <td>5,635,276 Dollars</td>\n      <td>5453060</td>\n      <td>7%</td>\n    </tr>\n  </tbody>\n</table>\n</div>"
          },
          "metadata": {}
        }
      ]
    },
    {
      "cell_type": "code",
      "source": "df=pd.read_csv(\"Fortune_10.csv\")\ndf",
      "metadata": {
        "trusted": true
      },
      "execution_count": 53,
      "outputs": [
        {
          "execution_count": 53,
          "output_type": "execute_result",
          "data": {
            "text/plain": "     0                1                    2          3             4  \\\n0   ID             Name             Industry  Inception       Revenue   \n1    1          Lamtone          IT Services       2009  $11,757,018    \n2    2        Stripfind   Financial Services       2010  $12,329,371    \n3    3  Canecorporation               Health       2012  $10,597,009    \n4    4         Mattouch          IT Services       2013  $14,026,934    \n5    5        Techdrill               Health       2009  $10,573,990    \n6    6         Techline               Health       2006  $13,898,119    \n7    7          Cityace               Health       2010   $9,254,614    \n8    8   Kayelectronics               Health       2009   $9,451,943    \n9    9          Ganzlax          IT Services       2011  $14,001,180    \n10  10      Trantraxlax  Government Services       2011  $11,088,336    \n\n                    5         6       7  \n0            Expenses    Profit  Growth  \n1   6,482,465 Dollars   5274553     30%  \n2     916,455 Dollars  11412916     20%  \n3   7,591,189 Dollars   3005820      7%  \n4   7,429,377 Dollars   6597557     26%  \n5   7,435,363 Dollars   3138627      8%  \n6   5,470,303 Dollars   8427816     23%  \n7   6,249,498 Dollars   3005116      6%  \n8   3,878,113 Dollars   5573830      4%  \n9                 NaN  11901180     18%  \n10  5,635,276 Dollars   5453060      7%  ",
            "text/html": "<div>\n<style scoped>\n    .dataframe tbody tr th:only-of-type {\n        vertical-align: middle;\n    }\n\n    .dataframe tbody tr th {\n        vertical-align: top;\n    }\n\n    .dataframe thead th {\n        text-align: right;\n    }\n</style>\n<table border=\"1\" class=\"dataframe\">\n  <thead>\n    <tr style=\"text-align: right;\">\n      <th></th>\n      <th>0</th>\n      <th>1</th>\n      <th>2</th>\n      <th>3</th>\n      <th>4</th>\n      <th>5</th>\n      <th>6</th>\n      <th>7</th>\n    </tr>\n  </thead>\n  <tbody>\n    <tr>\n      <th>0</th>\n      <td>ID</td>\n      <td>Name</td>\n      <td>Industry</td>\n      <td>Inception</td>\n      <td>Revenue</td>\n      <td>Expenses</td>\n      <td>Profit</td>\n      <td>Growth</td>\n    </tr>\n    <tr>\n      <th>1</th>\n      <td>1</td>\n      <td>Lamtone</td>\n      <td>IT Services</td>\n      <td>2009</td>\n      <td>$11,757,018</td>\n      <td>6,482,465 Dollars</td>\n      <td>5274553</td>\n      <td>30%</td>\n    </tr>\n    <tr>\n      <th>2</th>\n      <td>2</td>\n      <td>Stripfind</td>\n      <td>Financial Services</td>\n      <td>2010</td>\n      <td>$12,329,371</td>\n      <td>916,455 Dollars</td>\n      <td>11412916</td>\n      <td>20%</td>\n    </tr>\n    <tr>\n      <th>3</th>\n      <td>3</td>\n      <td>Canecorporation</td>\n      <td>Health</td>\n      <td>2012</td>\n      <td>$10,597,009</td>\n      <td>7,591,189 Dollars</td>\n      <td>3005820</td>\n      <td>7%</td>\n    </tr>\n    <tr>\n      <th>4</th>\n      <td>4</td>\n      <td>Mattouch</td>\n      <td>IT Services</td>\n      <td>2013</td>\n      <td>$14,026,934</td>\n      <td>7,429,377 Dollars</td>\n      <td>6597557</td>\n      <td>26%</td>\n    </tr>\n    <tr>\n      <th>5</th>\n      <td>5</td>\n      <td>Techdrill</td>\n      <td>Health</td>\n      <td>2009</td>\n      <td>$10,573,990</td>\n      <td>7,435,363 Dollars</td>\n      <td>3138627</td>\n      <td>8%</td>\n    </tr>\n    <tr>\n      <th>6</th>\n      <td>6</td>\n      <td>Techline</td>\n      <td>Health</td>\n      <td>2006</td>\n      <td>$13,898,119</td>\n      <td>5,470,303 Dollars</td>\n      <td>8427816</td>\n      <td>23%</td>\n    </tr>\n    <tr>\n      <th>7</th>\n      <td>7</td>\n      <td>Cityace</td>\n      <td>Health</td>\n      <td>2010</td>\n      <td>$9,254,614</td>\n      <td>6,249,498 Dollars</td>\n      <td>3005116</td>\n      <td>6%</td>\n    </tr>\n    <tr>\n      <th>8</th>\n      <td>8</td>\n      <td>Kayelectronics</td>\n      <td>Health</td>\n      <td>2009</td>\n      <td>$9,451,943</td>\n      <td>3,878,113 Dollars</td>\n      <td>5573830</td>\n      <td>4%</td>\n    </tr>\n    <tr>\n      <th>9</th>\n      <td>9</td>\n      <td>Ganzlax</td>\n      <td>IT Services</td>\n      <td>2011</td>\n      <td>$14,001,180</td>\n      <td>NaN</td>\n      <td>11901180</td>\n      <td>18%</td>\n    </tr>\n    <tr>\n      <th>10</th>\n      <td>10</td>\n      <td>Trantraxlax</td>\n      <td>Government Services</td>\n      <td>2011</td>\n      <td>$11,088,336</td>\n      <td>5,635,276 Dollars</td>\n      <td>5453060</td>\n      <td>7%</td>\n    </tr>\n  </tbody>\n</table>\n</div>"
          },
          "metadata": {}
        }
      ]
    },
    {
      "cell_type": "code",
      "source": "#in this we want id as a header so will use header function",
      "metadata": {
        "trusted": true
      },
      "execution_count": 52,
      "outputs": []
    },
    {
      "cell_type": "code",
      "source": "df=pd.read_csv(\"Fortune_10.csv\",header=1)\ndf",
      "metadata": {
        "trusted": true
      },
      "execution_count": 54,
      "outputs": [
        {
          "execution_count": 54,
          "output_type": "execute_result",
          "data": {
            "text/plain": "   ID             Name             Industry  Inception       Revenue  \\\n0   1          Lamtone          IT Services       2009  $11,757,018    \n1   2        Stripfind   Financial Services       2010  $12,329,371    \n2   3  Canecorporation               Health       2012  $10,597,009    \n3   4         Mattouch          IT Services       2013  $14,026,934    \n4   5        Techdrill               Health       2009  $10,573,990    \n5   6         Techline               Health       2006  $13,898,119    \n6   7          Cityace               Health       2010   $9,254,614    \n7   8   Kayelectronics               Health       2009   $9,451,943    \n8   9          Ganzlax          IT Services       2011  $14,001,180    \n9  10      Trantraxlax  Government Services       2011  $11,088,336    \n\n            Expenses    Profit Growth  \n0  6,482,465 Dollars   5274553    30%  \n1    916,455 Dollars  11412916    20%  \n2  7,591,189 Dollars   3005820     7%  \n3  7,429,377 Dollars   6597557    26%  \n4  7,435,363 Dollars   3138627     8%  \n5  5,470,303 Dollars   8427816    23%  \n6  6,249,498 Dollars   3005116     6%  \n7  3,878,113 Dollars   5573830     4%  \n8                NaN  11901180    18%  \n9  5,635,276 Dollars   5453060     7%  ",
            "text/html": "<div>\n<style scoped>\n    .dataframe tbody tr th:only-of-type {\n        vertical-align: middle;\n    }\n\n    .dataframe tbody tr th {\n        vertical-align: top;\n    }\n\n    .dataframe thead th {\n        text-align: right;\n    }\n</style>\n<table border=\"1\" class=\"dataframe\">\n  <thead>\n    <tr style=\"text-align: right;\">\n      <th></th>\n      <th>ID</th>\n      <th>Name</th>\n      <th>Industry</th>\n      <th>Inception</th>\n      <th>Revenue</th>\n      <th>Expenses</th>\n      <th>Profit</th>\n      <th>Growth</th>\n    </tr>\n  </thead>\n  <tbody>\n    <tr>\n      <th>0</th>\n      <td>1</td>\n      <td>Lamtone</td>\n      <td>IT Services</td>\n      <td>2009</td>\n      <td>$11,757,018</td>\n      <td>6,482,465 Dollars</td>\n      <td>5274553</td>\n      <td>30%</td>\n    </tr>\n    <tr>\n      <th>1</th>\n      <td>2</td>\n      <td>Stripfind</td>\n      <td>Financial Services</td>\n      <td>2010</td>\n      <td>$12,329,371</td>\n      <td>916,455 Dollars</td>\n      <td>11412916</td>\n      <td>20%</td>\n    </tr>\n    <tr>\n      <th>2</th>\n      <td>3</td>\n      <td>Canecorporation</td>\n      <td>Health</td>\n      <td>2012</td>\n      <td>$10,597,009</td>\n      <td>7,591,189 Dollars</td>\n      <td>3005820</td>\n      <td>7%</td>\n    </tr>\n    <tr>\n      <th>3</th>\n      <td>4</td>\n      <td>Mattouch</td>\n      <td>IT Services</td>\n      <td>2013</td>\n      <td>$14,026,934</td>\n      <td>7,429,377 Dollars</td>\n      <td>6597557</td>\n      <td>26%</td>\n    </tr>\n    <tr>\n      <th>4</th>\n      <td>5</td>\n      <td>Techdrill</td>\n      <td>Health</td>\n      <td>2009</td>\n      <td>$10,573,990</td>\n      <td>7,435,363 Dollars</td>\n      <td>3138627</td>\n      <td>8%</td>\n    </tr>\n    <tr>\n      <th>5</th>\n      <td>6</td>\n      <td>Techline</td>\n      <td>Health</td>\n      <td>2006</td>\n      <td>$13,898,119</td>\n      <td>5,470,303 Dollars</td>\n      <td>8427816</td>\n      <td>23%</td>\n    </tr>\n    <tr>\n      <th>6</th>\n      <td>7</td>\n      <td>Cityace</td>\n      <td>Health</td>\n      <td>2010</td>\n      <td>$9,254,614</td>\n      <td>6,249,498 Dollars</td>\n      <td>3005116</td>\n      <td>6%</td>\n    </tr>\n    <tr>\n      <th>7</th>\n      <td>8</td>\n      <td>Kayelectronics</td>\n      <td>Health</td>\n      <td>2009</td>\n      <td>$9,451,943</td>\n      <td>3,878,113 Dollars</td>\n      <td>5573830</td>\n      <td>4%</td>\n    </tr>\n    <tr>\n      <th>8</th>\n      <td>9</td>\n      <td>Ganzlax</td>\n      <td>IT Services</td>\n      <td>2011</td>\n      <td>$14,001,180</td>\n      <td>NaN</td>\n      <td>11901180</td>\n      <td>18%</td>\n    </tr>\n    <tr>\n      <th>9</th>\n      <td>10</td>\n      <td>Trantraxlax</td>\n      <td>Government Services</td>\n      <td>2011</td>\n      <td>$11,088,336</td>\n      <td>5,635,276 Dollars</td>\n      <td>5453060</td>\n      <td>7%</td>\n    </tr>\n  </tbody>\n</table>\n</div>"
          },
          "metadata": {}
        }
      ]
    },
    {
      "cell_type": "code",
      "source": "#it first skipping the rows and then make header\n#u can use it for deletion as well\ndf=pd.read_csv(\"Fortune_10.csv\",header=2)\ndf",
      "metadata": {
        "trusted": true
      },
      "execution_count": 57,
      "outputs": [
        {
          "execution_count": 57,
          "output_type": "execute_result",
          "data": {
            "text/plain": "    1          Lamtone          IT Services  2009  $11,757,018   \\\n0   2        Stripfind   Financial Services  2010  $12,329,371    \n1   3  Canecorporation               Health  2012  $10,597,009    \n2   4         Mattouch          IT Services  2013  $14,026,934    \n3   5        Techdrill               Health  2009  $10,573,990    \n4   6         Techline               Health  2006  $13,898,119    \n5   7          Cityace               Health  2010   $9,254,614    \n6   8   Kayelectronics               Health  2009   $9,451,943    \n7   9          Ganzlax          IT Services  2011  $14,001,180    \n8  10      Trantraxlax  Government Services  2011  $11,088,336    \n\n   6,482,465 Dollars   5274553  30%  \n0    916,455 Dollars  11412916  20%  \n1  7,591,189 Dollars   3005820   7%  \n2  7,429,377 Dollars   6597557  26%  \n3  7,435,363 Dollars   3138627   8%  \n4  5,470,303 Dollars   8427816  23%  \n5  6,249,498 Dollars   3005116   6%  \n6  3,878,113 Dollars   5573830   4%  \n7                NaN  11901180  18%  \n8  5,635,276 Dollars   5453060   7%  ",
            "text/html": "<div>\n<style scoped>\n    .dataframe tbody tr th:only-of-type {\n        vertical-align: middle;\n    }\n\n    .dataframe tbody tr th {\n        vertical-align: top;\n    }\n\n    .dataframe thead th {\n        text-align: right;\n    }\n</style>\n<table border=\"1\" class=\"dataframe\">\n  <thead>\n    <tr style=\"text-align: right;\">\n      <th></th>\n      <th>1</th>\n      <th>Lamtone</th>\n      <th>IT Services</th>\n      <th>2009</th>\n      <th>$11,757,018</th>\n      <th>6,482,465 Dollars</th>\n      <th>5274553</th>\n      <th>30%</th>\n    </tr>\n  </thead>\n  <tbody>\n    <tr>\n      <th>0</th>\n      <td>2</td>\n      <td>Stripfind</td>\n      <td>Financial Services</td>\n      <td>2010</td>\n      <td>$12,329,371</td>\n      <td>916,455 Dollars</td>\n      <td>11412916</td>\n      <td>20%</td>\n    </tr>\n    <tr>\n      <th>1</th>\n      <td>3</td>\n      <td>Canecorporation</td>\n      <td>Health</td>\n      <td>2012</td>\n      <td>$10,597,009</td>\n      <td>7,591,189 Dollars</td>\n      <td>3005820</td>\n      <td>7%</td>\n    </tr>\n    <tr>\n      <th>2</th>\n      <td>4</td>\n      <td>Mattouch</td>\n      <td>IT Services</td>\n      <td>2013</td>\n      <td>$14,026,934</td>\n      <td>7,429,377 Dollars</td>\n      <td>6597557</td>\n      <td>26%</td>\n    </tr>\n    <tr>\n      <th>3</th>\n      <td>5</td>\n      <td>Techdrill</td>\n      <td>Health</td>\n      <td>2009</td>\n      <td>$10,573,990</td>\n      <td>7,435,363 Dollars</td>\n      <td>3138627</td>\n      <td>8%</td>\n    </tr>\n    <tr>\n      <th>4</th>\n      <td>6</td>\n      <td>Techline</td>\n      <td>Health</td>\n      <td>2006</td>\n      <td>$13,898,119</td>\n      <td>5,470,303 Dollars</td>\n      <td>8427816</td>\n      <td>23%</td>\n    </tr>\n    <tr>\n      <th>5</th>\n      <td>7</td>\n      <td>Cityace</td>\n      <td>Health</td>\n      <td>2010</td>\n      <td>$9,254,614</td>\n      <td>6,249,498 Dollars</td>\n      <td>3005116</td>\n      <td>6%</td>\n    </tr>\n    <tr>\n      <th>6</th>\n      <td>8</td>\n      <td>Kayelectronics</td>\n      <td>Health</td>\n      <td>2009</td>\n      <td>$9,451,943</td>\n      <td>3,878,113 Dollars</td>\n      <td>5573830</td>\n      <td>4%</td>\n    </tr>\n    <tr>\n      <th>7</th>\n      <td>9</td>\n      <td>Ganzlax</td>\n      <td>IT Services</td>\n      <td>2011</td>\n      <td>$14,001,180</td>\n      <td>NaN</td>\n      <td>11901180</td>\n      <td>18%</td>\n    </tr>\n    <tr>\n      <th>8</th>\n      <td>10</td>\n      <td>Trantraxlax</td>\n      <td>Government Services</td>\n      <td>2011</td>\n      <td>$11,088,336</td>\n      <td>5,635,276 Dollars</td>\n      <td>5453060</td>\n      <td>7%</td>\n    </tr>\n  </tbody>\n</table>\n</div>"
          },
          "metadata": {}
        }
      ]
    },
    {
      "cell_type": "code",
      "source": "#want no header\ndf=pd.read_csv(\"Fortune_10.csv\",header=None)\n# in place of it ,it takes 0,1,2,3,4\ndf",
      "metadata": {
        "trusted": true
      },
      "execution_count": 59,
      "outputs": [
        {
          "execution_count": 59,
          "output_type": "execute_result",
          "data": {
            "text/plain": "     0                1                    2          3             4  \\\n0    0                1                    2          3             4   \n1   ID             Name             Industry  Inception       Revenue   \n2    1          Lamtone          IT Services       2009  $11,757,018    \n3    2        Stripfind   Financial Services       2010  $12,329,371    \n4    3  Canecorporation               Health       2012  $10,597,009    \n5    4         Mattouch          IT Services       2013  $14,026,934    \n6    5        Techdrill               Health       2009  $10,573,990    \n7    6         Techline               Health       2006  $13,898,119    \n8    7          Cityace               Health       2010   $9,254,614    \n9    8   Kayelectronics               Health       2009   $9,451,943    \n10   9          Ganzlax          IT Services       2011  $14,001,180    \n11  10      Trantraxlax  Government Services       2011  $11,088,336    \n\n                    5         6       7  \n0                   5         6       7  \n1            Expenses    Profit  Growth  \n2   6,482,465 Dollars   5274553     30%  \n3     916,455 Dollars  11412916     20%  \n4   7,591,189 Dollars   3005820      7%  \n5   7,429,377 Dollars   6597557     26%  \n6   7,435,363 Dollars   3138627      8%  \n7   5,470,303 Dollars   8427816     23%  \n8   6,249,498 Dollars   3005116      6%  \n9   3,878,113 Dollars   5573830      4%  \n10                NaN  11901180     18%  \n11  5,635,276 Dollars   5453060      7%  ",
            "text/html": "<div>\n<style scoped>\n    .dataframe tbody tr th:only-of-type {\n        vertical-align: middle;\n    }\n\n    .dataframe tbody tr th {\n        vertical-align: top;\n    }\n\n    .dataframe thead th {\n        text-align: right;\n    }\n</style>\n<table border=\"1\" class=\"dataframe\">\n  <thead>\n    <tr style=\"text-align: right;\">\n      <th></th>\n      <th>0</th>\n      <th>1</th>\n      <th>2</th>\n      <th>3</th>\n      <th>4</th>\n      <th>5</th>\n      <th>6</th>\n      <th>7</th>\n    </tr>\n  </thead>\n  <tbody>\n    <tr>\n      <th>0</th>\n      <td>0</td>\n      <td>1</td>\n      <td>2</td>\n      <td>3</td>\n      <td>4</td>\n      <td>5</td>\n      <td>6</td>\n      <td>7</td>\n    </tr>\n    <tr>\n      <th>1</th>\n      <td>ID</td>\n      <td>Name</td>\n      <td>Industry</td>\n      <td>Inception</td>\n      <td>Revenue</td>\n      <td>Expenses</td>\n      <td>Profit</td>\n      <td>Growth</td>\n    </tr>\n    <tr>\n      <th>2</th>\n      <td>1</td>\n      <td>Lamtone</td>\n      <td>IT Services</td>\n      <td>2009</td>\n      <td>$11,757,018</td>\n      <td>6,482,465 Dollars</td>\n      <td>5274553</td>\n      <td>30%</td>\n    </tr>\n    <tr>\n      <th>3</th>\n      <td>2</td>\n      <td>Stripfind</td>\n      <td>Financial Services</td>\n      <td>2010</td>\n      <td>$12,329,371</td>\n      <td>916,455 Dollars</td>\n      <td>11412916</td>\n      <td>20%</td>\n    </tr>\n    <tr>\n      <th>4</th>\n      <td>3</td>\n      <td>Canecorporation</td>\n      <td>Health</td>\n      <td>2012</td>\n      <td>$10,597,009</td>\n      <td>7,591,189 Dollars</td>\n      <td>3005820</td>\n      <td>7%</td>\n    </tr>\n    <tr>\n      <th>5</th>\n      <td>4</td>\n      <td>Mattouch</td>\n      <td>IT Services</td>\n      <td>2013</td>\n      <td>$14,026,934</td>\n      <td>7,429,377 Dollars</td>\n      <td>6597557</td>\n      <td>26%</td>\n    </tr>\n    <tr>\n      <th>6</th>\n      <td>5</td>\n      <td>Techdrill</td>\n      <td>Health</td>\n      <td>2009</td>\n      <td>$10,573,990</td>\n      <td>7,435,363 Dollars</td>\n      <td>3138627</td>\n      <td>8%</td>\n    </tr>\n    <tr>\n      <th>7</th>\n      <td>6</td>\n      <td>Techline</td>\n      <td>Health</td>\n      <td>2006</td>\n      <td>$13,898,119</td>\n      <td>5,470,303 Dollars</td>\n      <td>8427816</td>\n      <td>23%</td>\n    </tr>\n    <tr>\n      <th>8</th>\n      <td>7</td>\n      <td>Cityace</td>\n      <td>Health</td>\n      <td>2010</td>\n      <td>$9,254,614</td>\n      <td>6,249,498 Dollars</td>\n      <td>3005116</td>\n      <td>6%</td>\n    </tr>\n    <tr>\n      <th>9</th>\n      <td>8</td>\n      <td>Kayelectronics</td>\n      <td>Health</td>\n      <td>2009</td>\n      <td>$9,451,943</td>\n      <td>3,878,113 Dollars</td>\n      <td>5573830</td>\n      <td>4%</td>\n    </tr>\n    <tr>\n      <th>10</th>\n      <td>9</td>\n      <td>Ganzlax</td>\n      <td>IT Services</td>\n      <td>2011</td>\n      <td>$14,001,180</td>\n      <td>NaN</td>\n      <td>11901180</td>\n      <td>18%</td>\n    </tr>\n    <tr>\n      <th>11</th>\n      <td>10</td>\n      <td>Trantraxlax</td>\n      <td>Government Services</td>\n      <td>2011</td>\n      <td>$11,088,336</td>\n      <td>5,635,276 Dollars</td>\n      <td>5453060</td>\n      <td>7%</td>\n    </tr>\n  </tbody>\n</table>\n</div>"
          },
          "metadata": {}
        }
      ]
    },
    {
      "cell_type": "code",
      "source": "#if u have same type of data but no heading u want heading in terms of string\n#u have to use header with prefix then only it works\ndf=pd.read_csv(\"Fortune_10.csv\",header=None,prefix='columns')\ndf\n#it connects with string value to index as prefix",
      "metadata": {
        "trusted": true
      },
      "execution_count": 62,
      "outputs": [
        {
          "name": "stderr",
          "text": "<ipython-input-62-6ab4bb039ea9>:3: FutureWarning: The prefix argument has been deprecated and will be removed in a future version. Use a list comprehension on the column names in the future.\n\n\n  df=pd.read_csv(\"Fortune_10.csv\",header=None,prefix='columns')\n",
          "output_type": "stream"
        },
        {
          "execution_count": 62,
          "output_type": "execute_result",
          "data": {
            "text/plain": "   columns0         columns1             columns2   columns3      columns4  \\\n0         0                1                    2          3             4   \n1        ID             Name             Industry  Inception       Revenue   \n2         1          Lamtone          IT Services       2009  $11,757,018    \n3         2        Stripfind   Financial Services       2010  $12,329,371    \n4         3  Canecorporation               Health       2012  $10,597,009    \n5         4         Mattouch          IT Services       2013  $14,026,934    \n6         5        Techdrill               Health       2009  $10,573,990    \n7         6         Techline               Health       2006  $13,898,119    \n8         7          Cityace               Health       2010   $9,254,614    \n9         8   Kayelectronics               Health       2009   $9,451,943    \n10        9          Ganzlax          IT Services       2011  $14,001,180    \n11       10      Trantraxlax  Government Services       2011  $11,088,336    \n\n             columns5  columns6 columns7  \n0                   5         6        7  \n1            Expenses    Profit   Growth  \n2   6,482,465 Dollars   5274553      30%  \n3     916,455 Dollars  11412916      20%  \n4   7,591,189 Dollars   3005820       7%  \n5   7,429,377 Dollars   6597557      26%  \n6   7,435,363 Dollars   3138627       8%  \n7   5,470,303 Dollars   8427816      23%  \n8   6,249,498 Dollars   3005116       6%  \n9   3,878,113 Dollars   5573830       4%  \n10                NaN  11901180      18%  \n11  5,635,276 Dollars   5453060       7%  ",
            "text/html": "<div>\n<style scoped>\n    .dataframe tbody tr th:only-of-type {\n        vertical-align: middle;\n    }\n\n    .dataframe tbody tr th {\n        vertical-align: top;\n    }\n\n    .dataframe thead th {\n        text-align: right;\n    }\n</style>\n<table border=\"1\" class=\"dataframe\">\n  <thead>\n    <tr style=\"text-align: right;\">\n      <th></th>\n      <th>columns0</th>\n      <th>columns1</th>\n      <th>columns2</th>\n      <th>columns3</th>\n      <th>columns4</th>\n      <th>columns5</th>\n      <th>columns6</th>\n      <th>columns7</th>\n    </tr>\n  </thead>\n  <tbody>\n    <tr>\n      <th>0</th>\n      <td>0</td>\n      <td>1</td>\n      <td>2</td>\n      <td>3</td>\n      <td>4</td>\n      <td>5</td>\n      <td>6</td>\n      <td>7</td>\n    </tr>\n    <tr>\n      <th>1</th>\n      <td>ID</td>\n      <td>Name</td>\n      <td>Industry</td>\n      <td>Inception</td>\n      <td>Revenue</td>\n      <td>Expenses</td>\n      <td>Profit</td>\n      <td>Growth</td>\n    </tr>\n    <tr>\n      <th>2</th>\n      <td>1</td>\n      <td>Lamtone</td>\n      <td>IT Services</td>\n      <td>2009</td>\n      <td>$11,757,018</td>\n      <td>6,482,465 Dollars</td>\n      <td>5274553</td>\n      <td>30%</td>\n    </tr>\n    <tr>\n      <th>3</th>\n      <td>2</td>\n      <td>Stripfind</td>\n      <td>Financial Services</td>\n      <td>2010</td>\n      <td>$12,329,371</td>\n      <td>916,455 Dollars</td>\n      <td>11412916</td>\n      <td>20%</td>\n    </tr>\n    <tr>\n      <th>4</th>\n      <td>3</td>\n      <td>Canecorporation</td>\n      <td>Health</td>\n      <td>2012</td>\n      <td>$10,597,009</td>\n      <td>7,591,189 Dollars</td>\n      <td>3005820</td>\n      <td>7%</td>\n    </tr>\n    <tr>\n      <th>5</th>\n      <td>4</td>\n      <td>Mattouch</td>\n      <td>IT Services</td>\n      <td>2013</td>\n      <td>$14,026,934</td>\n      <td>7,429,377 Dollars</td>\n      <td>6597557</td>\n      <td>26%</td>\n    </tr>\n    <tr>\n      <th>6</th>\n      <td>5</td>\n      <td>Techdrill</td>\n      <td>Health</td>\n      <td>2009</td>\n      <td>$10,573,990</td>\n      <td>7,435,363 Dollars</td>\n      <td>3138627</td>\n      <td>8%</td>\n    </tr>\n    <tr>\n      <th>7</th>\n      <td>6</td>\n      <td>Techline</td>\n      <td>Health</td>\n      <td>2006</td>\n      <td>$13,898,119</td>\n      <td>5,470,303 Dollars</td>\n      <td>8427816</td>\n      <td>23%</td>\n    </tr>\n    <tr>\n      <th>8</th>\n      <td>7</td>\n      <td>Cityace</td>\n      <td>Health</td>\n      <td>2010</td>\n      <td>$9,254,614</td>\n      <td>6,249,498 Dollars</td>\n      <td>3005116</td>\n      <td>6%</td>\n    </tr>\n    <tr>\n      <th>9</th>\n      <td>8</td>\n      <td>Kayelectronics</td>\n      <td>Health</td>\n      <td>2009</td>\n      <td>$9,451,943</td>\n      <td>3,878,113 Dollars</td>\n      <td>5573830</td>\n      <td>4%</td>\n    </tr>\n    <tr>\n      <th>10</th>\n      <td>9</td>\n      <td>Ganzlax</td>\n      <td>IT Services</td>\n      <td>2011</td>\n      <td>$14,001,180</td>\n      <td>NaN</td>\n      <td>11901180</td>\n      <td>18%</td>\n    </tr>\n    <tr>\n      <th>11</th>\n      <td>10</td>\n      <td>Trantraxlax</td>\n      <td>Government Services</td>\n      <td>2011</td>\n      <td>$11,088,336</td>\n      <td>5,635,276 Dollars</td>\n      <td>5453060</td>\n      <td>7%</td>\n    </tr>\n  </tbody>\n</table>\n</div>"
          },
          "metadata": {}
        }
      ]
    },
    {
      "cell_type": "code",
      "source": "#If we want every columns separate name",
      "metadata": {
        "trusted": true
      },
      "execution_count": 63,
      "outputs": []
    },
    {
      "cell_type": "code",
      "source": "#so will use names parameter",
      "metadata": {
        "trusted": true
      },
      "execution_count": 64,
      "outputs": []
    },
    {
      "cell_type": "code",
      "source": "df=pd.read_csv(\"Fortune_10.csv\",names=['ID','Name','Industry','Inception','Revenue','Expenses','Profit','Growth'],skiprows=[0,1])\ndf",
      "metadata": {
        "trusted": true
      },
      "execution_count": 67,
      "outputs": [
        {
          "execution_count": 67,
          "output_type": "execute_result",
          "data": {
            "text/plain": "   ID             Name             Industry  Inception       Revenue  \\\n0   1          Lamtone          IT Services       2009  $11,757,018    \n1   2        Stripfind   Financial Services       2010  $12,329,371    \n2   3  Canecorporation               Health       2012  $10,597,009    \n3   4         Mattouch          IT Services       2013  $14,026,934    \n4   5        Techdrill               Health       2009  $10,573,990    \n5   6         Techline               Health       2006  $13,898,119    \n6   7          Cityace               Health       2010   $9,254,614    \n7   8   Kayelectronics               Health       2009   $9,451,943    \n8   9          Ganzlax          IT Services       2011  $14,001,180    \n9  10      Trantraxlax  Government Services       2011  $11,088,336    \n\n            Expenses    Profit Growth  \n0  6,482,465 Dollars   5274553    30%  \n1    916,455 Dollars  11412916    20%  \n2  7,591,189 Dollars   3005820     7%  \n3  7,429,377 Dollars   6597557    26%  \n4  7,435,363 Dollars   3138627     8%  \n5  5,470,303 Dollars   8427816    23%  \n6  6,249,498 Dollars   3005116     6%  \n7  3,878,113 Dollars   5573830     4%  \n8                NaN  11901180    18%  \n9  5,635,276 Dollars   5453060     7%  ",
            "text/html": "<div>\n<style scoped>\n    .dataframe tbody tr th:only-of-type {\n        vertical-align: middle;\n    }\n\n    .dataframe tbody tr th {\n        vertical-align: top;\n    }\n\n    .dataframe thead th {\n        text-align: right;\n    }\n</style>\n<table border=\"1\" class=\"dataframe\">\n  <thead>\n    <tr style=\"text-align: right;\">\n      <th></th>\n      <th>ID</th>\n      <th>Name</th>\n      <th>Industry</th>\n      <th>Inception</th>\n      <th>Revenue</th>\n      <th>Expenses</th>\n      <th>Profit</th>\n      <th>Growth</th>\n    </tr>\n  </thead>\n  <tbody>\n    <tr>\n      <th>0</th>\n      <td>1</td>\n      <td>Lamtone</td>\n      <td>IT Services</td>\n      <td>2009</td>\n      <td>$11,757,018</td>\n      <td>6,482,465 Dollars</td>\n      <td>5274553</td>\n      <td>30%</td>\n    </tr>\n    <tr>\n      <th>1</th>\n      <td>2</td>\n      <td>Stripfind</td>\n      <td>Financial Services</td>\n      <td>2010</td>\n      <td>$12,329,371</td>\n      <td>916,455 Dollars</td>\n      <td>11412916</td>\n      <td>20%</td>\n    </tr>\n    <tr>\n      <th>2</th>\n      <td>3</td>\n      <td>Canecorporation</td>\n      <td>Health</td>\n      <td>2012</td>\n      <td>$10,597,009</td>\n      <td>7,591,189 Dollars</td>\n      <td>3005820</td>\n      <td>7%</td>\n    </tr>\n    <tr>\n      <th>3</th>\n      <td>4</td>\n      <td>Mattouch</td>\n      <td>IT Services</td>\n      <td>2013</td>\n      <td>$14,026,934</td>\n      <td>7,429,377 Dollars</td>\n      <td>6597557</td>\n      <td>26%</td>\n    </tr>\n    <tr>\n      <th>4</th>\n      <td>5</td>\n      <td>Techdrill</td>\n      <td>Health</td>\n      <td>2009</td>\n      <td>$10,573,990</td>\n      <td>7,435,363 Dollars</td>\n      <td>3138627</td>\n      <td>8%</td>\n    </tr>\n    <tr>\n      <th>5</th>\n      <td>6</td>\n      <td>Techline</td>\n      <td>Health</td>\n      <td>2006</td>\n      <td>$13,898,119</td>\n      <td>5,470,303 Dollars</td>\n      <td>8427816</td>\n      <td>23%</td>\n    </tr>\n    <tr>\n      <th>6</th>\n      <td>7</td>\n      <td>Cityace</td>\n      <td>Health</td>\n      <td>2010</td>\n      <td>$9,254,614</td>\n      <td>6,249,498 Dollars</td>\n      <td>3005116</td>\n      <td>6%</td>\n    </tr>\n    <tr>\n      <th>7</th>\n      <td>8</td>\n      <td>Kayelectronics</td>\n      <td>Health</td>\n      <td>2009</td>\n      <td>$9,451,943</td>\n      <td>3,878,113 Dollars</td>\n      <td>5573830</td>\n      <td>4%</td>\n    </tr>\n    <tr>\n      <th>8</th>\n      <td>9</td>\n      <td>Ganzlax</td>\n      <td>IT Services</td>\n      <td>2011</td>\n      <td>$14,001,180</td>\n      <td>NaN</td>\n      <td>11901180</td>\n      <td>18%</td>\n    </tr>\n    <tr>\n      <th>9</th>\n      <td>10</td>\n      <td>Trantraxlax</td>\n      <td>Government Services</td>\n      <td>2011</td>\n      <td>$11,088,336</td>\n      <td>5,635,276 Dollars</td>\n      <td>5453060</td>\n      <td>7%</td>\n    </tr>\n  </tbody>\n</table>\n</div>"
          },
          "metadata": {}
        }
      ]
    },
    {
      "cell_type": "code",
      "source": "",
      "metadata": {},
      "execution_count": null,
      "outputs": []
    }
  ]
}