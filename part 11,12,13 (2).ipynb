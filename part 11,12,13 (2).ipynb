{
  "metadata": {
    "language_info": {
      "codemirror_mode": {
        "name": "python",
        "version": 3
      },
      "file_extension": ".py",
      "mimetype": "text/x-python",
      "name": "python",
      "nbconvert_exporter": "python",
      "pygments_lexer": "ipython3",
      "version": "3.8"
    },
    "kernelspec": {
      "name": "python",
      "display_name": "Python (Pyodide)",
      "language": "python"
    }
  },
  "nbformat_minor": 4,
  "nbformat": 4,
  "cells": [
    {
      "cell_type": "code",
      "source": "#*********************PART 11*******************",
      "metadata": {
        "trusted": true
      },
      "execution_count": 40,
      "outputs": []
    },
    {
      "cell_type": "code",
      "source": "import pandas as pd",
      "metadata": {
        "trusted": true
      },
      "execution_count": 1,
      "outputs": []
    },
    {
      "cell_type": "code",
      "source": "df=pd.read_csv(\"Fortune_5.csv\")\ndf",
      "metadata": {
        "trusted": true
      },
      "execution_count": 2,
      "outputs": [
        {
          "execution_count": 2,
          "output_type": "execute_result",
          "data": {
            "text/plain": "   ID             Name           Companies  Profit Growth\n0   1          Lamtone         IT Services     NaN    30%\n1   2        Stripfind  Financial Services     NaN    NaN\n2   3  Canecorporation                 NaN     NaN     7%\n3   4              NaN         IT Services     NaN     7%",
            "text/html": "<div>\n<style scoped>\n    .dataframe tbody tr th:only-of-type {\n        vertical-align: middle;\n    }\n\n    .dataframe tbody tr th {\n        vertical-align: top;\n    }\n\n    .dataframe thead th {\n        text-align: right;\n    }\n</style>\n<table border=\"1\" class=\"dataframe\">\n  <thead>\n    <tr style=\"text-align: right;\">\n      <th></th>\n      <th>ID</th>\n      <th>Name</th>\n      <th>Companies</th>\n      <th>Profit</th>\n      <th>Growth</th>\n    </tr>\n  </thead>\n  <tbody>\n    <tr>\n      <th>0</th>\n      <td>1</td>\n      <td>Lamtone</td>\n      <td>IT Services</td>\n      <td>NaN</td>\n      <td>30%</td>\n    </tr>\n    <tr>\n      <th>1</th>\n      <td>2</td>\n      <td>Stripfind</td>\n      <td>Financial Services</td>\n      <td>NaN</td>\n      <td>NaN</td>\n    </tr>\n    <tr>\n      <th>2</th>\n      <td>3</td>\n      <td>Canecorporation</td>\n      <td>NaN</td>\n      <td>NaN</td>\n      <td>7%</td>\n    </tr>\n    <tr>\n      <th>3</th>\n      <td>4</td>\n      <td>NaN</td>\n      <td>IT Services</td>\n      <td>NaN</td>\n      <td>7%</td>\n    </tr>\n  </tbody>\n</table>\n</div>"
          },
          "metadata": {}
        }
      ]
    },
    {
      "cell_type": "code",
      "source": "df.fillna(0)",
      "metadata": {
        "trusted": true
      },
      "execution_count": 3,
      "outputs": [
        {
          "execution_count": 3,
          "output_type": "execute_result",
          "data": {
            "text/plain": "   ID             Name           Companies  Profit Growth\n0   1          Lamtone         IT Services     0.0    30%\n1   2        Stripfind  Financial Services     0.0    20%\n2   3  Canecorporation              Health     0.0     7%\n3   4                0         IT Services     0.0     7%",
            "text/html": "<div>\n<style scoped>\n    .dataframe tbody tr th:only-of-type {\n        vertical-align: middle;\n    }\n\n    .dataframe tbody tr th {\n        vertical-align: top;\n    }\n\n    .dataframe thead th {\n        text-align: right;\n    }\n</style>\n<table border=\"1\" class=\"dataframe\">\n  <thead>\n    <tr style=\"text-align: right;\">\n      <th></th>\n      <th>ID</th>\n      <th>Name</th>\n      <th>Companies</th>\n      <th>Profit</th>\n      <th>Growth</th>\n    </tr>\n  </thead>\n  <tbody>\n    <tr>\n      <th>0</th>\n      <td>1</td>\n      <td>Lamtone</td>\n      <td>IT Services</td>\n      <td>0.0</td>\n      <td>30%</td>\n    </tr>\n    <tr>\n      <th>1</th>\n      <td>2</td>\n      <td>Stripfind</td>\n      <td>Financial Services</td>\n      <td>0.0</td>\n      <td>20%</td>\n    </tr>\n    <tr>\n      <th>2</th>\n      <td>3</td>\n      <td>Canecorporation</td>\n      <td>Health</td>\n      <td>0.0</td>\n      <td>7%</td>\n    </tr>\n    <tr>\n      <th>3</th>\n      <td>4</td>\n      <td>0</td>\n      <td>IT Services</td>\n      <td>0.0</td>\n      <td>7%</td>\n    </tr>\n  </tbody>\n</table>\n</div>"
          },
          "metadata": {}
        }
      ]
    },
    {
      "cell_type": "code",
      "source": "#nan is fill with 0 now",
      "metadata": {
        "trusted": true
      },
      "execution_count": 4,
      "outputs": []
    },
    {
      "cell_type": "code",
      "source": "df.fillna(2)",
      "metadata": {
        "trusted": true
      },
      "execution_count": 5,
      "outputs": [
        {
          "execution_count": 5,
          "output_type": "execute_result",
          "data": {
            "text/plain": "   ID             Name           Companies  Profit Growth\n0   1          Lamtone         IT Services     2.0    30%\n1   2        Stripfind  Financial Services     2.0    20%\n2   3  Canecorporation              Health     2.0     7%\n3   4                2         IT Services     2.0     7%",
            "text/html": "<div>\n<style scoped>\n    .dataframe tbody tr th:only-of-type {\n        vertical-align: middle;\n    }\n\n    .dataframe tbody tr th {\n        vertical-align: top;\n    }\n\n    .dataframe thead th {\n        text-align: right;\n    }\n</style>\n<table border=\"1\" class=\"dataframe\">\n  <thead>\n    <tr style=\"text-align: right;\">\n      <th></th>\n      <th>ID</th>\n      <th>Name</th>\n      <th>Companies</th>\n      <th>Profit</th>\n      <th>Growth</th>\n    </tr>\n  </thead>\n  <tbody>\n    <tr>\n      <th>0</th>\n      <td>1</td>\n      <td>Lamtone</td>\n      <td>IT Services</td>\n      <td>2.0</td>\n      <td>30%</td>\n    </tr>\n    <tr>\n      <th>1</th>\n      <td>2</td>\n      <td>Stripfind</td>\n      <td>Financial Services</td>\n      <td>2.0</td>\n      <td>20%</td>\n    </tr>\n    <tr>\n      <th>2</th>\n      <td>3</td>\n      <td>Canecorporation</td>\n      <td>Health</td>\n      <td>2.0</td>\n      <td>7%</td>\n    </tr>\n    <tr>\n      <th>3</th>\n      <td>4</td>\n      <td>2</td>\n      <td>IT Services</td>\n      <td>2.0</td>\n      <td>7%</td>\n    </tr>\n  </tbody>\n</table>\n</div>"
          },
          "metadata": {}
        }
      ]
    },
    {
      "cell_type": "code",
      "source": "#u wanna fill specific column with different values then will use dictionary",
      "metadata": {
        "trusted": true
      },
      "execution_count": 6,
      "outputs": []
    },
    {
      "cell_type": "code",
      "source": "df.fillna({'Name':'none','Profit':0,'Growth':0})",
      "metadata": {
        "trusted": true
      },
      "execution_count": 7,
      "outputs": [
        {
          "execution_count": 7,
          "output_type": "execute_result",
          "data": {
            "text/plain": "   ID             Name           Companies  Profit Growth\n0   1          Lamtone         IT Services     0.0    30%\n1   2        Stripfind  Financial Services     0.0    20%\n2   3  Canecorporation              Health     0.0     7%\n3   4             none         IT Services     0.0     7%",
            "text/html": "<div>\n<style scoped>\n    .dataframe tbody tr th:only-of-type {\n        vertical-align: middle;\n    }\n\n    .dataframe tbody tr th {\n        vertical-align: top;\n    }\n\n    .dataframe thead th {\n        text-align: right;\n    }\n</style>\n<table border=\"1\" class=\"dataframe\">\n  <thead>\n    <tr style=\"text-align: right;\">\n      <th></th>\n      <th>ID</th>\n      <th>Name</th>\n      <th>Companies</th>\n      <th>Profit</th>\n      <th>Growth</th>\n    </tr>\n  </thead>\n  <tbody>\n    <tr>\n      <th>0</th>\n      <td>1</td>\n      <td>Lamtone</td>\n      <td>IT Services</td>\n      <td>0.0</td>\n      <td>30%</td>\n    </tr>\n    <tr>\n      <th>1</th>\n      <td>2</td>\n      <td>Stripfind</td>\n      <td>Financial Services</td>\n      <td>0.0</td>\n      <td>20%</td>\n    </tr>\n    <tr>\n      <th>2</th>\n      <td>3</td>\n      <td>Canecorporation</td>\n      <td>Health</td>\n      <td>0.0</td>\n      <td>7%</td>\n    </tr>\n    <tr>\n      <th>3</th>\n      <td>4</td>\n      <td>none</td>\n      <td>IT Services</td>\n      <td>0.0</td>\n      <td>7%</td>\n    </tr>\n  </tbody>\n</table>\n</div>"
          },
          "metadata": {}
        }
      ]
    },
    {
      "cell_type": "code",
      "source": "#df.fillna(\n#   value: 'object | ArrayLike | None' = None,\n#  method: 'FillnaOptions | None' = None,\n# axis: 'Axis | None' = None,\n#    inplace: 'bool' = False,\n#    limit=None,\n#   downcast=None,) ",
      "metadata": {
        "trusted": true
      },
      "execution_count": 8,
      "outputs": []
    },
    {
      "cell_type": "code",
      "source": "#Let's use different parameters of fillna ",
      "metadata": {
        "trusted": true
      },
      "execution_count": 9,
      "outputs": []
    },
    {
      "cell_type": "code",
      "source": "#next is method we are done with values",
      "metadata": {
        "trusted": true
      },
      "execution_count": 10,
      "outputs": []
    },
    {
      "cell_type": "code",
      "source": "df.fillna(method='ffill')#it is forward fill (fill previous value in it)",
      "metadata": {
        "trusted": true
      },
      "execution_count": 11,
      "outputs": [
        {
          "execution_count": 11,
          "output_type": "execute_result",
          "data": {
            "text/plain": "   ID             Name           Companies  Profit Growth\n0   1          Lamtone         IT Services     NaN    30%\n1   2        Stripfind  Financial Services     NaN    20%\n2   3  Canecorporation              Health     NaN     7%\n3   4  Canecorporation         IT Services     NaN     7%",
            "text/html": "<div>\n<style scoped>\n    .dataframe tbody tr th:only-of-type {\n        vertical-align: middle;\n    }\n\n    .dataframe tbody tr th {\n        vertical-align: top;\n    }\n\n    .dataframe thead th {\n        text-align: right;\n    }\n</style>\n<table border=\"1\" class=\"dataframe\">\n  <thead>\n    <tr style=\"text-align: right;\">\n      <th></th>\n      <th>ID</th>\n      <th>Name</th>\n      <th>Companies</th>\n      <th>Profit</th>\n      <th>Growth</th>\n    </tr>\n  </thead>\n  <tbody>\n    <tr>\n      <th>0</th>\n      <td>1</td>\n      <td>Lamtone</td>\n      <td>IT Services</td>\n      <td>NaN</td>\n      <td>30%</td>\n    </tr>\n    <tr>\n      <th>1</th>\n      <td>2</td>\n      <td>Stripfind</td>\n      <td>Financial Services</td>\n      <td>NaN</td>\n      <td>20%</td>\n    </tr>\n    <tr>\n      <th>2</th>\n      <td>3</td>\n      <td>Canecorporation</td>\n      <td>Health</td>\n      <td>NaN</td>\n      <td>7%</td>\n    </tr>\n    <tr>\n      <th>3</th>\n      <td>4</td>\n      <td>Canecorporation</td>\n      <td>IT Services</td>\n      <td>NaN</td>\n      <td>7%</td>\n    </tr>\n  </tbody>\n</table>\n</div>"
          },
          "metadata": {}
        }
      ]
    },
    {
      "cell_type": "code",
      "source": "# u can use pad in place of ffill as well ",
      "metadata": {
        "trusted": true
      },
      "execution_count": 12,
      "outputs": []
    },
    {
      "cell_type": "code",
      "source": "df.fillna(method='pad')#giving same output as ffill",
      "metadata": {
        "trusted": true
      },
      "execution_count": 14,
      "outputs": [
        {
          "execution_count": 14,
          "output_type": "execute_result",
          "data": {
            "text/plain": "   ID             Name           Companies  Profit Growth\n0   1          Lamtone         IT Services     NaN    30%\n1   2        Stripfind  Financial Services     NaN    20%\n2   3  Canecorporation              Health     NaN     7%\n3   4  Canecorporation         IT Services     NaN     7%",
            "text/html": "<div>\n<style scoped>\n    .dataframe tbody tr th:only-of-type {\n        vertical-align: middle;\n    }\n\n    .dataframe tbody tr th {\n        vertical-align: top;\n    }\n\n    .dataframe thead th {\n        text-align: right;\n    }\n</style>\n<table border=\"1\" class=\"dataframe\">\n  <thead>\n    <tr style=\"text-align: right;\">\n      <th></th>\n      <th>ID</th>\n      <th>Name</th>\n      <th>Companies</th>\n      <th>Profit</th>\n      <th>Growth</th>\n    </tr>\n  </thead>\n  <tbody>\n    <tr>\n      <th>0</th>\n      <td>1</td>\n      <td>Lamtone</td>\n      <td>IT Services</td>\n      <td>NaN</td>\n      <td>30%</td>\n    </tr>\n    <tr>\n      <th>1</th>\n      <td>2</td>\n      <td>Stripfind</td>\n      <td>Financial Services</td>\n      <td>NaN</td>\n      <td>20%</td>\n    </tr>\n    <tr>\n      <th>2</th>\n      <td>3</td>\n      <td>Canecorporation</td>\n      <td>Health</td>\n      <td>NaN</td>\n      <td>7%</td>\n    </tr>\n    <tr>\n      <th>3</th>\n      <td>4</td>\n      <td>Canecorporation</td>\n      <td>IT Services</td>\n      <td>NaN</td>\n      <td>7%</td>\n    </tr>\n  </tbody>\n</table>\n</div>"
          },
          "metadata": {}
        }
      ]
    },
    {
      "cell_type": "code",
      "source": "#bfill filling forward value to that particular value",
      "metadata": {
        "trusted": true
      },
      "execution_count": 15,
      "outputs": []
    },
    {
      "cell_type": "code",
      "source": "df.fillna(method='bfill')\ndf",
      "metadata": {
        "trusted": true
      },
      "execution_count": 16,
      "outputs": [
        {
          "execution_count": 16,
          "output_type": "execute_result",
          "data": {
            "text/plain": "   ID             Name           Companies  Profit Growth\n0   1          Lamtone         IT Services     NaN    30%\n1   2        Stripfind  Financial Services     NaN    20%\n2   3  Canecorporation              Health     NaN     7%\n3   4              NaN         IT Services     NaN     7%",
            "text/html": "<div>\n<style scoped>\n    .dataframe tbody tr th:only-of-type {\n        vertical-align: middle;\n    }\n\n    .dataframe tbody tr th {\n        vertical-align: top;\n    }\n\n    .dataframe thead th {\n        text-align: right;\n    }\n</style>\n<table border=\"1\" class=\"dataframe\">\n  <thead>\n    <tr style=\"text-align: right;\">\n      <th></th>\n      <th>ID</th>\n      <th>Name</th>\n      <th>Companies</th>\n      <th>Profit</th>\n      <th>Growth</th>\n    </tr>\n  </thead>\n  <tbody>\n    <tr>\n      <th>0</th>\n      <td>1</td>\n      <td>Lamtone</td>\n      <td>IT Services</td>\n      <td>NaN</td>\n      <td>30%</td>\n    </tr>\n    <tr>\n      <th>1</th>\n      <td>2</td>\n      <td>Stripfind</td>\n      <td>Financial Services</td>\n      <td>NaN</td>\n      <td>20%</td>\n    </tr>\n    <tr>\n      <th>2</th>\n      <td>3</td>\n      <td>Canecorporation</td>\n      <td>Health</td>\n      <td>NaN</td>\n      <td>7%</td>\n    </tr>\n    <tr>\n      <th>3</th>\n      <td>4</td>\n      <td>NaN</td>\n      <td>IT Services</td>\n      <td>NaN</td>\n      <td>7%</td>\n    </tr>\n  </tbody>\n</table>\n</div>"
          },
          "metadata": {}
        }
      ]
    },
    {
      "cell_type": "code",
      "source": "df=pd.read_csv(\"Fortune_5.csv\")\ndf",
      "metadata": {
        "trusted": true
      },
      "execution_count": 17,
      "outputs": [
        {
          "execution_count": 17,
          "output_type": "execute_result",
          "data": {
            "text/plain": "   ID             Name           Companies  Profit Growth\n0   1          Lamtone         IT Services     NaN    30%\n1   2        Stripfind  Financial Services     NaN    NaN\n2   3  Canecorporation                 NaN     NaN     7%\n3   4              NaN         IT Services     NaN     7%",
            "text/html": "<div>\n<style scoped>\n    .dataframe tbody tr th:only-of-type {\n        vertical-align: middle;\n    }\n\n    .dataframe tbody tr th {\n        vertical-align: top;\n    }\n\n    .dataframe thead th {\n        text-align: right;\n    }\n</style>\n<table border=\"1\" class=\"dataframe\">\n  <thead>\n    <tr style=\"text-align: right;\">\n      <th></th>\n      <th>ID</th>\n      <th>Name</th>\n      <th>Companies</th>\n      <th>Profit</th>\n      <th>Growth</th>\n    </tr>\n  </thead>\n  <tbody>\n    <tr>\n      <th>0</th>\n      <td>1</td>\n      <td>Lamtone</td>\n      <td>IT Services</td>\n      <td>NaN</td>\n      <td>30%</td>\n    </tr>\n    <tr>\n      <th>1</th>\n      <td>2</td>\n      <td>Stripfind</td>\n      <td>Financial Services</td>\n      <td>NaN</td>\n      <td>NaN</td>\n    </tr>\n    <tr>\n      <th>2</th>\n      <td>3</td>\n      <td>Canecorporation</td>\n      <td>NaN</td>\n      <td>NaN</td>\n      <td>7%</td>\n    </tr>\n    <tr>\n      <th>3</th>\n      <td>4</td>\n      <td>NaN</td>\n      <td>IT Services</td>\n      <td>NaN</td>\n      <td>7%</td>\n    </tr>\n  </tbody>\n</table>\n</div>"
          },
          "metadata": {}
        }
      ]
    },
    {
      "cell_type": "code",
      "source": "df.fillna(method='ffill')\n",
      "metadata": {
        "trusted": true
      },
      "execution_count": 21,
      "outputs": [
        {
          "execution_count": 21,
          "output_type": "execute_result",
          "data": {
            "text/plain": "   ID             Name           Companies  Profit Growth\n0   1          Lamtone         IT Services     NaN    30%\n1   2        Stripfind  Financial Services     NaN    30%\n2   3  Canecorporation  Financial Services     NaN     7%\n3   4  Canecorporation         IT Services     NaN     7%",
            "text/html": "<div>\n<style scoped>\n    .dataframe tbody tr th:only-of-type {\n        vertical-align: middle;\n    }\n\n    .dataframe tbody tr th {\n        vertical-align: top;\n    }\n\n    .dataframe thead th {\n        text-align: right;\n    }\n</style>\n<table border=\"1\" class=\"dataframe\">\n  <thead>\n    <tr style=\"text-align: right;\">\n      <th></th>\n      <th>ID</th>\n      <th>Name</th>\n      <th>Companies</th>\n      <th>Profit</th>\n      <th>Growth</th>\n    </tr>\n  </thead>\n  <tbody>\n    <tr>\n      <th>0</th>\n      <td>1</td>\n      <td>Lamtone</td>\n      <td>IT Services</td>\n      <td>NaN</td>\n      <td>30%</td>\n    </tr>\n    <tr>\n      <th>1</th>\n      <td>2</td>\n      <td>Stripfind</td>\n      <td>Financial Services</td>\n      <td>NaN</td>\n      <td>30%</td>\n    </tr>\n    <tr>\n      <th>2</th>\n      <td>3</td>\n      <td>Canecorporation</td>\n      <td>Financial Services</td>\n      <td>NaN</td>\n      <td>7%</td>\n    </tr>\n    <tr>\n      <th>3</th>\n      <td>4</td>\n      <td>Canecorporation</td>\n      <td>IT Services</td>\n      <td>NaN</td>\n      <td>7%</td>\n    </tr>\n  </tbody>\n</table>\n</div>"
          },
          "metadata": {}
        }
      ]
    },
    {
      "cell_type": "code",
      "source": "df.fillna(method='bfill')",
      "metadata": {
        "trusted": true
      },
      "execution_count": 23,
      "outputs": [
        {
          "execution_count": 23,
          "output_type": "execute_result",
          "data": {
            "text/plain": "   ID             Name           Companies  Profit Growth\n0   1          Lamtone         IT Services     NaN    30%\n1   2        Stripfind  Financial Services     NaN     7%\n2   3  Canecorporation         IT Services     NaN     7%\n3   4              NaN         IT Services     NaN     7%",
            "text/html": "<div>\n<style scoped>\n    .dataframe tbody tr th:only-of-type {\n        vertical-align: middle;\n    }\n\n    .dataframe tbody tr th {\n        vertical-align: top;\n    }\n\n    .dataframe thead th {\n        text-align: right;\n    }\n</style>\n<table border=\"1\" class=\"dataframe\">\n  <thead>\n    <tr style=\"text-align: right;\">\n      <th></th>\n      <th>ID</th>\n      <th>Name</th>\n      <th>Companies</th>\n      <th>Profit</th>\n      <th>Growth</th>\n    </tr>\n  </thead>\n  <tbody>\n    <tr>\n      <th>0</th>\n      <td>1</td>\n      <td>Lamtone</td>\n      <td>IT Services</td>\n      <td>NaN</td>\n      <td>30%</td>\n    </tr>\n    <tr>\n      <th>1</th>\n      <td>2</td>\n      <td>Stripfind</td>\n      <td>Financial Services</td>\n      <td>NaN</td>\n      <td>7%</td>\n    </tr>\n    <tr>\n      <th>2</th>\n      <td>3</td>\n      <td>Canecorporation</td>\n      <td>IT Services</td>\n      <td>NaN</td>\n      <td>7%</td>\n    </tr>\n    <tr>\n      <th>3</th>\n      <td>4</td>\n      <td>NaN</td>\n      <td>IT Services</td>\n      <td>NaN</td>\n      <td>7%</td>\n    </tr>\n  </tbody>\n</table>\n</div>"
          },
          "metadata": {}
        }
      ]
    },
    {
      "cell_type": "code",
      "source": "#u can now see the difference between ffill and bfill",
      "metadata": {
        "trusted": true
      },
      "execution_count": 24,
      "outputs": []
    },
    {
      "cell_type": "code",
      "source": "df.fillna(axis=0)\n#Must specify a fill 'value' or 'method' u have to use it with value / method otherwise it gives error",
      "metadata": {
        "trusted": true
      },
      "execution_count": 27,
      "outputs": [
        {
          "ename": "<class 'ValueError'>",
          "evalue": "Must specify a fill 'value' or 'method'.",
          "traceback": [
            "\u001b[0;31m---------------------------------------------------------------------------\u001b[0m",
            "\u001b[0;31mValueError\u001b[0m                                Traceback (most recent call last)",
            "Cell \u001b[0;32mIn [27], line 1\u001b[0m\n\u001b[0;32m----> 1\u001b[0m \u001b[43mdf\u001b[49m\u001b[38;5;241;43m.\u001b[39;49m\u001b[43mfillna\u001b[49m\u001b[43m(\u001b[49m\u001b[43maxis\u001b[49m\u001b[38;5;241;43m=\u001b[39;49m\u001b[38;5;241;43m0\u001b[39;49m\u001b[43m)\u001b[49m\n",
            "File \u001b[0;32m/lib/python3.10/site-packages/pandas/util/_decorators.py:311\u001b[0m, in \u001b[0;36mdeprecate_nonkeyword_arguments.<locals>.decorate.<locals>.wrapper\u001b[0;34m(*args, **kwargs)\u001b[0m\n\u001b[1;32m    305\u001b[0m \u001b[38;5;28;01mif\u001b[39;00m \u001b[38;5;28mlen\u001b[39m(args) \u001b[38;5;241m>\u001b[39m num_allow_args:\n\u001b[1;32m    306\u001b[0m     warnings\u001b[38;5;241m.\u001b[39mwarn(\n\u001b[1;32m    307\u001b[0m         msg\u001b[38;5;241m.\u001b[39mformat(arguments\u001b[38;5;241m=\u001b[39marguments),\n\u001b[1;32m    308\u001b[0m         \u001b[38;5;167;01mFutureWarning\u001b[39;00m,\n\u001b[1;32m    309\u001b[0m         stacklevel\u001b[38;5;241m=\u001b[39mstacklevel,\n\u001b[1;32m    310\u001b[0m     )\n\u001b[0;32m--> 311\u001b[0m \u001b[38;5;28;01mreturn\u001b[39;00m func(\u001b[38;5;241m*\u001b[39margs, \u001b[38;5;241m*\u001b[39m\u001b[38;5;241m*\u001b[39mkwargs)\n",
            "File \u001b[0;32m/lib/python3.10/site-packages/pandas/core/frame.py:5220\u001b[0m, in \u001b[0;36mDataFrame.fillna\u001b[0;34m(self, value, method, axis, inplace, limit, downcast)\u001b[0m\n\u001b[1;32m   5209\u001b[0m \u001b[38;5;129m@deprecate_nonkeyword_arguments\u001b[39m(version\u001b[38;5;241m=\u001b[39m\u001b[38;5;28;01mNone\u001b[39;00m, allowed_args\u001b[38;5;241m=\u001b[39m[\u001b[38;5;124m\"\u001b[39m\u001b[38;5;124mself\u001b[39m\u001b[38;5;124m\"\u001b[39m, \u001b[38;5;124m\"\u001b[39m\u001b[38;5;124mvalue\u001b[39m\u001b[38;5;124m\"\u001b[39m])\n\u001b[1;32m   5210\u001b[0m \u001b[38;5;129m@doc\u001b[39m(NDFrame\u001b[38;5;241m.\u001b[39mfillna, \u001b[38;5;241m*\u001b[39m\u001b[38;5;241m*\u001b[39m_shared_doc_kwargs)\n\u001b[1;32m   5211\u001b[0m \u001b[38;5;28;01mdef\u001b[39;00m \u001b[38;5;21mfillna\u001b[39m(\n\u001b[0;32m   (...)\u001b[0m\n\u001b[1;32m   5218\u001b[0m     downcast\u001b[38;5;241m=\u001b[39m\u001b[38;5;28;01mNone\u001b[39;00m,\n\u001b[1;32m   5219\u001b[0m ) \u001b[38;5;241m-\u001b[39m\u001b[38;5;241m>\u001b[39m DataFrame \u001b[38;5;241m|\u001b[39m \u001b[38;5;28;01mNone\u001b[39;00m:\n\u001b[0;32m-> 5220\u001b[0m     \u001b[38;5;28;01mreturn\u001b[39;00m \u001b[38;5;28;43msuper\u001b[39;49m\u001b[43m(\u001b[49m\u001b[43m)\u001b[49m\u001b[38;5;241;43m.\u001b[39;49m\u001b[43mfillna\u001b[49m\u001b[43m(\u001b[49m\n\u001b[1;32m   5221\u001b[0m \u001b[43m        \u001b[49m\u001b[43mvalue\u001b[49m\u001b[38;5;241;43m=\u001b[39;49m\u001b[43mvalue\u001b[49m\u001b[43m,\u001b[49m\n\u001b[1;32m   5222\u001b[0m \u001b[43m        \u001b[49m\u001b[43mmethod\u001b[49m\u001b[38;5;241;43m=\u001b[39;49m\u001b[43mmethod\u001b[49m\u001b[43m,\u001b[49m\n\u001b[1;32m   5223\u001b[0m \u001b[43m        \u001b[49m\u001b[43maxis\u001b[49m\u001b[38;5;241;43m=\u001b[39;49m\u001b[43maxis\u001b[49m\u001b[43m,\u001b[49m\n\u001b[1;32m   5224\u001b[0m \u001b[43m        \u001b[49m\u001b[43minplace\u001b[49m\u001b[38;5;241;43m=\u001b[39;49m\u001b[43minplace\u001b[49m\u001b[43m,\u001b[49m\n\u001b[1;32m   5225\u001b[0m \u001b[43m        \u001b[49m\u001b[43mlimit\u001b[49m\u001b[38;5;241;43m=\u001b[39;49m\u001b[43mlimit\u001b[49m\u001b[43m,\u001b[49m\n\u001b[1;32m   5226\u001b[0m \u001b[43m        \u001b[49m\u001b[43mdowncast\u001b[49m\u001b[38;5;241;43m=\u001b[39;49m\u001b[43mdowncast\u001b[49m\u001b[43m,\u001b[49m\n\u001b[1;32m   5227\u001b[0m \u001b[43m    \u001b[49m\u001b[43m)\u001b[49m\n",
            "File \u001b[0;32m/lib/python3.10/site-packages/pandas/core/generic.py:6419\u001b[0m, in \u001b[0;36mNDFrame.fillna\u001b[0;34m(self, value, method, axis, inplace, limit, downcast)\u001b[0m\n\u001b[1;32m   6309\u001b[0m \u001b[38;5;124;03m\"\"\"\u001b[39;00m\n\u001b[1;32m   6310\u001b[0m \u001b[38;5;124;03mFill NA/NaN values using the specified method.\u001b[39;00m\n\u001b[1;32m   6311\u001b[0m \n\u001b[0;32m   (...)\u001b[0m\n\u001b[1;32m   6416\u001b[0m \u001b[38;5;124;03mNote that column D is not affected since it is not present in df2.\u001b[39;00m\n\u001b[1;32m   6417\u001b[0m \u001b[38;5;124;03m\"\"\"\u001b[39;00m\n\u001b[1;32m   6418\u001b[0m inplace \u001b[38;5;241m=\u001b[39m validate_bool_kwarg(inplace, \u001b[38;5;124m\"\u001b[39m\u001b[38;5;124minplace\u001b[39m\u001b[38;5;124m\"\u001b[39m)\n\u001b[0;32m-> 6419\u001b[0m value, method \u001b[38;5;241m=\u001b[39m \u001b[43mvalidate_fillna_kwargs\u001b[49m\u001b[43m(\u001b[49m\u001b[43mvalue\u001b[49m\u001b[43m,\u001b[49m\u001b[43m \u001b[49m\u001b[43mmethod\u001b[49m\u001b[43m)\u001b[49m\n\u001b[1;32m   6421\u001b[0m \u001b[38;5;28mself\u001b[39m\u001b[38;5;241m.\u001b[39m_consolidate_inplace()\n\u001b[1;32m   6423\u001b[0m \u001b[38;5;66;03m# set the default here, so functions examining the signaure\u001b[39;00m\n\u001b[1;32m   6424\u001b[0m \u001b[38;5;66;03m# can detect if something was set (e.g. in groupby) (GH9221)\u001b[39;00m\n",
            "File \u001b[0;32m/lib/python3.10/site-packages/pandas/util/_validators.py:376\u001b[0m, in \u001b[0;36mvalidate_fillna_kwargs\u001b[0;34m(value, method, validate_scalar_dict_value)\u001b[0m\n\u001b[1;32m    373\u001b[0m \u001b[38;5;28;01mfrom\u001b[39;00m \u001b[38;5;21;01mpandas\u001b[39;00m\u001b[38;5;21;01m.\u001b[39;00m\u001b[38;5;21;01mcore\u001b[39;00m\u001b[38;5;21;01m.\u001b[39;00m\u001b[38;5;21;01mmissing\u001b[39;00m \u001b[38;5;28;01mimport\u001b[39;00m clean_fill_method\n\u001b[1;32m    375\u001b[0m \u001b[38;5;28;01mif\u001b[39;00m value \u001b[38;5;129;01mis\u001b[39;00m \u001b[38;5;28;01mNone\u001b[39;00m \u001b[38;5;129;01mand\u001b[39;00m method \u001b[38;5;129;01mis\u001b[39;00m \u001b[38;5;28;01mNone\u001b[39;00m:\n\u001b[0;32m--> 376\u001b[0m     \u001b[38;5;28;01mraise\u001b[39;00m \u001b[38;5;167;01mValueError\u001b[39;00m(\u001b[38;5;124m\"\u001b[39m\u001b[38;5;124mMust specify a fill \u001b[39m\u001b[38;5;124m'\u001b[39m\u001b[38;5;124mvalue\u001b[39m\u001b[38;5;124m'\u001b[39m\u001b[38;5;124m or \u001b[39m\u001b[38;5;124m'\u001b[39m\u001b[38;5;124mmethod\u001b[39m\u001b[38;5;124m'\u001b[39m\u001b[38;5;124m.\u001b[39m\u001b[38;5;124m\"\u001b[39m)\n\u001b[1;32m    377\u001b[0m \u001b[38;5;28;01melif\u001b[39;00m value \u001b[38;5;129;01mis\u001b[39;00m \u001b[38;5;28;01mNone\u001b[39;00m \u001b[38;5;129;01mand\u001b[39;00m method \u001b[38;5;129;01mis\u001b[39;00m \u001b[38;5;129;01mnot\u001b[39;00m \u001b[38;5;28;01mNone\u001b[39;00m:\n\u001b[1;32m    378\u001b[0m     method \u001b[38;5;241m=\u001b[39m clean_fill_method(method)\n",
            "\u001b[0;31mValueError\u001b[0m: Must specify a fill 'value' or 'method'."
          ],
          "output_type": "error"
        }
      ]
    },
    {
      "cell_type": "code",
      "source": "df.fillna(method='ffill',axis=1)#previous column value should be fill to next column value",
      "metadata": {
        "trusted": true
      },
      "execution_count": 29,
      "outputs": [
        {
          "execution_count": 29,
          "output_type": "execute_result",
          "data": {
            "text/plain": "  ID             Name           Companies              Profit  \\\n0  1          Lamtone         IT Services         IT Services   \n1  2        Stripfind  Financial Services  Financial Services   \n2  3  Canecorporation     Canecorporation     Canecorporation   \n3  4                4         IT Services         IT Services   \n\n               Growth  \n0                 30%  \n1  Financial Services  \n2                  7%  \n3                  7%  ",
            "text/html": "<div>\n<style scoped>\n    .dataframe tbody tr th:only-of-type {\n        vertical-align: middle;\n    }\n\n    .dataframe tbody tr th {\n        vertical-align: top;\n    }\n\n    .dataframe thead th {\n        text-align: right;\n    }\n</style>\n<table border=\"1\" class=\"dataframe\">\n  <thead>\n    <tr style=\"text-align: right;\">\n      <th></th>\n      <th>ID</th>\n      <th>Name</th>\n      <th>Companies</th>\n      <th>Profit</th>\n      <th>Growth</th>\n    </tr>\n  </thead>\n  <tbody>\n    <tr>\n      <th>0</th>\n      <td>1</td>\n      <td>Lamtone</td>\n      <td>IT Services</td>\n      <td>IT Services</td>\n      <td>30%</td>\n    </tr>\n    <tr>\n      <th>1</th>\n      <td>2</td>\n      <td>Stripfind</td>\n      <td>Financial Services</td>\n      <td>Financial Services</td>\n      <td>Financial Services</td>\n    </tr>\n    <tr>\n      <th>2</th>\n      <td>3</td>\n      <td>Canecorporation</td>\n      <td>Canecorporation</td>\n      <td>Canecorporation</td>\n      <td>7%</td>\n    </tr>\n    <tr>\n      <th>3</th>\n      <td>4</td>\n      <td>4</td>\n      <td>IT Services</td>\n      <td>IT Services</td>\n      <td>7%</td>\n    </tr>\n  </tbody>\n</table>\n</div>"
          },
          "metadata": {}
        }
      ]
    },
    {
      "cell_type": "code",
      "source": "df.fillna(method='ffill',axis=0)",
      "metadata": {
        "trusted": true
      },
      "execution_count": 30,
      "outputs": [
        {
          "execution_count": 30,
          "output_type": "execute_result",
          "data": {
            "text/plain": "   ID             Name           Companies  Profit Growth\n0   1          Lamtone         IT Services     NaN    30%\n1   2        Stripfind  Financial Services     NaN    30%\n2   3  Canecorporation  Financial Services     NaN     7%\n3   4  Canecorporation         IT Services     NaN     7%",
            "text/html": "<div>\n<style scoped>\n    .dataframe tbody tr th:only-of-type {\n        vertical-align: middle;\n    }\n\n    .dataframe tbody tr th {\n        vertical-align: top;\n    }\n\n    .dataframe thead th {\n        text-align: right;\n    }\n</style>\n<table border=\"1\" class=\"dataframe\">\n  <thead>\n    <tr style=\"text-align: right;\">\n      <th></th>\n      <th>ID</th>\n      <th>Name</th>\n      <th>Companies</th>\n      <th>Profit</th>\n      <th>Growth</th>\n    </tr>\n  </thead>\n  <tbody>\n    <tr>\n      <th>0</th>\n      <td>1</td>\n      <td>Lamtone</td>\n      <td>IT Services</td>\n      <td>NaN</td>\n      <td>30%</td>\n    </tr>\n    <tr>\n      <th>1</th>\n      <td>2</td>\n      <td>Stripfind</td>\n      <td>Financial Services</td>\n      <td>NaN</td>\n      <td>30%</td>\n    </tr>\n    <tr>\n      <th>2</th>\n      <td>3</td>\n      <td>Canecorporation</td>\n      <td>Financial Services</td>\n      <td>NaN</td>\n      <td>7%</td>\n    </tr>\n    <tr>\n      <th>3</th>\n      <td>4</td>\n      <td>Canecorporation</td>\n      <td>IT Services</td>\n      <td>NaN</td>\n      <td>7%</td>\n    </tr>\n  </tbody>\n</table>\n</div>"
          },
          "metadata": {}
        }
      ]
    },
    {
      "cell_type": "code",
      "source": "df.fillna(method='bfill',axis=1)",
      "metadata": {
        "trusted": true
      },
      "execution_count": 31,
      "outputs": [
        {
          "execution_count": 31,
          "output_type": "execute_result",
          "data": {
            "text/plain": "  ID             Name           Companies Profit Growth\n0  1          Lamtone         IT Services    30%    30%\n1  2        Stripfind  Financial Services    NaN    NaN\n2  3  Canecorporation                  7%     7%     7%\n3  4      IT Services         IT Services     7%     7%",
            "text/html": "<div>\n<style scoped>\n    .dataframe tbody tr th:only-of-type {\n        vertical-align: middle;\n    }\n\n    .dataframe tbody tr th {\n        vertical-align: top;\n    }\n\n    .dataframe thead th {\n        text-align: right;\n    }\n</style>\n<table border=\"1\" class=\"dataframe\">\n  <thead>\n    <tr style=\"text-align: right;\">\n      <th></th>\n      <th>ID</th>\n      <th>Name</th>\n      <th>Companies</th>\n      <th>Profit</th>\n      <th>Growth</th>\n    </tr>\n  </thead>\n  <tbody>\n    <tr>\n      <th>0</th>\n      <td>1</td>\n      <td>Lamtone</td>\n      <td>IT Services</td>\n      <td>30%</td>\n      <td>30%</td>\n    </tr>\n    <tr>\n      <th>1</th>\n      <td>2</td>\n      <td>Stripfind</td>\n      <td>Financial Services</td>\n      <td>NaN</td>\n      <td>NaN</td>\n    </tr>\n    <tr>\n      <th>2</th>\n      <td>3</td>\n      <td>Canecorporation</td>\n      <td>7%</td>\n      <td>7%</td>\n      <td>7%</td>\n    </tr>\n    <tr>\n      <th>3</th>\n      <td>4</td>\n      <td>IT Services</td>\n      <td>IT Services</td>\n      <td>7%</td>\n      <td>7%</td>\n    </tr>\n  </tbody>\n</table>\n</div>"
          },
          "metadata": {}
        }
      ]
    },
    {
      "cell_type": "code",
      "source": "#next parameter is limit (how many value should fill)",
      "metadata": {
        "trusted": true
      },
      "execution_count": 33,
      "outputs": []
    },
    {
      "cell_type": "code",
      "source": "df.fillna(0,limit=1)#u can see in profit column only one value filled with 0",
      "metadata": {
        "trusted": true
      },
      "execution_count": 35,
      "outputs": [
        {
          "execution_count": 35,
          "output_type": "execute_result",
          "data": {
            "text/plain": "   ID             Name           Companies  Profit Growth\n0   1          Lamtone         IT Services     0.0    30%\n1   2        Stripfind  Financial Services     NaN      0\n2   3  Canecorporation                   0     NaN     7%\n3   4                0         IT Services     NaN     7%",
            "text/html": "<div>\n<style scoped>\n    .dataframe tbody tr th:only-of-type {\n        vertical-align: middle;\n    }\n\n    .dataframe tbody tr th {\n        vertical-align: top;\n    }\n\n    .dataframe thead th {\n        text-align: right;\n    }\n</style>\n<table border=\"1\" class=\"dataframe\">\n  <thead>\n    <tr style=\"text-align: right;\">\n      <th></th>\n      <th>ID</th>\n      <th>Name</th>\n      <th>Companies</th>\n      <th>Profit</th>\n      <th>Growth</th>\n    </tr>\n  </thead>\n  <tbody>\n    <tr>\n      <th>0</th>\n      <td>1</td>\n      <td>Lamtone</td>\n      <td>IT Services</td>\n      <td>0.0</td>\n      <td>30%</td>\n    </tr>\n    <tr>\n      <th>1</th>\n      <td>2</td>\n      <td>Stripfind</td>\n      <td>Financial Services</td>\n      <td>NaN</td>\n      <td>0</td>\n    </tr>\n    <tr>\n      <th>2</th>\n      <td>3</td>\n      <td>Canecorporation</td>\n      <td>0</td>\n      <td>NaN</td>\n      <td>7%</td>\n    </tr>\n    <tr>\n      <th>3</th>\n      <td>4</td>\n      <td>0</td>\n      <td>IT Services</td>\n      <td>NaN</td>\n      <td>7%</td>\n    </tr>\n  </tbody>\n</table>\n</div>"
          },
          "metadata": {}
        }
      ]
    },
    {
      "cell_type": "code",
      "source": "#let's increase limit",
      "metadata": {
        "trusted": true
      },
      "execution_count": 36,
      "outputs": []
    },
    {
      "cell_type": "code",
      "source": "df.fillna(method='ffill',limit=1)",
      "metadata": {
        "trusted": true
      },
      "execution_count": 37,
      "outputs": [
        {
          "execution_count": 37,
          "output_type": "execute_result",
          "data": {
            "text/plain": "   ID             Name           Companies  Profit Growth\n0   1          Lamtone         IT Services     NaN    30%\n1   2        Stripfind  Financial Services     NaN    30%\n2   3  Canecorporation  Financial Services     NaN     7%\n3   4  Canecorporation         IT Services     NaN     7%",
            "text/html": "<div>\n<style scoped>\n    .dataframe tbody tr th:only-of-type {\n        vertical-align: middle;\n    }\n\n    .dataframe tbody tr th {\n        vertical-align: top;\n    }\n\n    .dataframe thead th {\n        text-align: right;\n    }\n</style>\n<table border=\"1\" class=\"dataframe\">\n  <thead>\n    <tr style=\"text-align: right;\">\n      <th></th>\n      <th>ID</th>\n      <th>Name</th>\n      <th>Companies</th>\n      <th>Profit</th>\n      <th>Growth</th>\n    </tr>\n  </thead>\n  <tbody>\n    <tr>\n      <th>0</th>\n      <td>1</td>\n      <td>Lamtone</td>\n      <td>IT Services</td>\n      <td>NaN</td>\n      <td>30%</td>\n    </tr>\n    <tr>\n      <th>1</th>\n      <td>2</td>\n      <td>Stripfind</td>\n      <td>Financial Services</td>\n      <td>NaN</td>\n      <td>30%</td>\n    </tr>\n    <tr>\n      <th>2</th>\n      <td>3</td>\n      <td>Canecorporation</td>\n      <td>Financial Services</td>\n      <td>NaN</td>\n      <td>7%</td>\n    </tr>\n    <tr>\n      <th>3</th>\n      <td>4</td>\n      <td>Canecorporation</td>\n      <td>IT Services</td>\n      <td>NaN</td>\n      <td>7%</td>\n    </tr>\n  </tbody>\n</table>\n</div>"
          },
          "metadata": {}
        }
      ]
    },
    {
      "cell_type": "code",
      "source": "#next parameter inplace \ndf.fillna(5,inplace=True)\ndf",
      "metadata": {
        "trusted": true
      },
      "execution_count": 39,
      "outputs": [
        {
          "execution_count": 39,
          "output_type": "execute_result",
          "data": {
            "text/plain": "   ID             Name           Companies  Profit Growth\n0   1          Lamtone         IT Services     5.0    30%\n1   2        Stripfind  Financial Services     5.0      5\n2   3  Canecorporation                   5     5.0     7%\n3   4                5         IT Services     5.0     7%",
            "text/html": "<div>\n<style scoped>\n    .dataframe tbody tr th:only-of-type {\n        vertical-align: middle;\n    }\n\n    .dataframe tbody tr th {\n        vertical-align: top;\n    }\n\n    .dataframe thead th {\n        text-align: right;\n    }\n</style>\n<table border=\"1\" class=\"dataframe\">\n  <thead>\n    <tr style=\"text-align: right;\">\n      <th></th>\n      <th>ID</th>\n      <th>Name</th>\n      <th>Companies</th>\n      <th>Profit</th>\n      <th>Growth</th>\n    </tr>\n  </thead>\n  <tbody>\n    <tr>\n      <th>0</th>\n      <td>1</td>\n      <td>Lamtone</td>\n      <td>IT Services</td>\n      <td>5.0</td>\n      <td>30%</td>\n    </tr>\n    <tr>\n      <th>1</th>\n      <td>2</td>\n      <td>Stripfind</td>\n      <td>Financial Services</td>\n      <td>5.0</td>\n      <td>5</td>\n    </tr>\n    <tr>\n      <th>2</th>\n      <td>3</td>\n      <td>Canecorporation</td>\n      <td>5</td>\n      <td>5.0</td>\n      <td>7%</td>\n    </tr>\n    <tr>\n      <th>3</th>\n      <td>4</td>\n      <td>5</td>\n      <td>IT Services</td>\n      <td>5.0</td>\n      <td>7%</td>\n    </tr>\n  </tbody>\n</table>\n</div>"
          },
          "metadata": {}
        }
      ]
    },
    {
      "cell_type": "code",
      "source": "#********************PART 12***************",
      "metadata": {
        "trusted": true
      },
      "execution_count": 41,
      "outputs": []
    },
    {
      "cell_type": "code",
      "source": "#Values to dataframe are replaced with other values dynamically by using ''''replace '''' function",
      "metadata": {
        "trusted": true
      },
      "execution_count": 43,
      "outputs": []
    },
    {
      "cell_type": "code",
      "source": "import pandas as pd\ndf=pd.read_csv(\"Fortune_10.csv\")\ndf",
      "metadata": {
        "trusted": true
      },
      "execution_count": 2,
      "outputs": [
        {
          "execution_count": 2,
          "output_type": "execute_result",
          "data": {
            "text/plain": "   ID Date             Name             Industry  Inception       Revenue  \\\n0   1  Yes          Lamtone          IT Services       2009  $11,757,018    \n1   2  Yes        Stripfind   Financial Services       2010  $12,329,371    \n2   3   No  Canecorporation               Health       2012  $10,597,009    \n3   4  Yes         Mattouch          IT Services       2013  $14,026,934    \n4   5   No        Techdrill                  NaN       2009  $10,573,990    \n5   6  Yes         Techline                  NaN       2006  $13,898,119    \n6   7  Yes          Cityace                  NaN       2010   $9,254,614    \n7   8   No   Kayelectronics          IT Services       2009   $9,451,943    \n8   9  Yes          Ganzlax          IT Services       2011  $14,001,180    \n9  10   No      Trantraxlax  Government Services       2011  $11,088,336    \n\n            Expenses    Profit Growth  \n0  6,482,465 Dollars   5274553    30%  \n1    916,455 Dollars  11412916    20%  \n2  7,591,189 Dollars   3005820     7%  \n3  7,429,377 Dollars   6597557     7%  \n4  7,435,363 Dollars   3138627    NaN  \n5  5,470,303 Dollars   8427816    NaN  \n6  6,249,498 Dollars   3005116    NaN  \n7  3,878,113 Dollars   5573830     4%  \n8                NaN  11901180    18%  \n9  5,635,276 Dollars   5453060     7%  ",
            "text/html": "<div>\n<style scoped>\n    .dataframe tbody tr th:only-of-type {\n        vertical-align: middle;\n    }\n\n    .dataframe tbody tr th {\n        vertical-align: top;\n    }\n\n    .dataframe thead th {\n        text-align: right;\n    }\n</style>\n<table border=\"1\" class=\"dataframe\">\n  <thead>\n    <tr style=\"text-align: right;\">\n      <th></th>\n      <th>ID</th>\n      <th>Date</th>\n      <th>Name</th>\n      <th>Industry</th>\n      <th>Inception</th>\n      <th>Revenue</th>\n      <th>Expenses</th>\n      <th>Profit</th>\n      <th>Growth</th>\n    </tr>\n  </thead>\n  <tbody>\n    <tr>\n      <th>0</th>\n      <td>1</td>\n      <td>Yes</td>\n      <td>Lamtone</td>\n      <td>IT Services</td>\n      <td>2009</td>\n      <td>$11,757,018</td>\n      <td>6,482,465 Dollars</td>\n      <td>5274553</td>\n      <td>30%</td>\n    </tr>\n    <tr>\n      <th>1</th>\n      <td>2</td>\n      <td>Yes</td>\n      <td>Stripfind</td>\n      <td>Financial Services</td>\n      <td>2010</td>\n      <td>$12,329,371</td>\n      <td>916,455 Dollars</td>\n      <td>11412916</td>\n      <td>20%</td>\n    </tr>\n    <tr>\n      <th>2</th>\n      <td>3</td>\n      <td>No</td>\n      <td>Canecorporation</td>\n      <td>Health</td>\n      <td>2012</td>\n      <td>$10,597,009</td>\n      <td>7,591,189 Dollars</td>\n      <td>3005820</td>\n      <td>7%</td>\n    </tr>\n    <tr>\n      <th>3</th>\n      <td>4</td>\n      <td>Yes</td>\n      <td>Mattouch</td>\n      <td>IT Services</td>\n      <td>2013</td>\n      <td>$14,026,934</td>\n      <td>7,429,377 Dollars</td>\n      <td>6597557</td>\n      <td>7%</td>\n    </tr>\n    <tr>\n      <th>4</th>\n      <td>5</td>\n      <td>No</td>\n      <td>Techdrill</td>\n      <td>NaN</td>\n      <td>2009</td>\n      <td>$10,573,990</td>\n      <td>7,435,363 Dollars</td>\n      <td>3138627</td>\n      <td>NaN</td>\n    </tr>\n    <tr>\n      <th>5</th>\n      <td>6</td>\n      <td>Yes</td>\n      <td>Techline</td>\n      <td>NaN</td>\n      <td>2006</td>\n      <td>$13,898,119</td>\n      <td>5,470,303 Dollars</td>\n      <td>8427816</td>\n      <td>NaN</td>\n    </tr>\n    <tr>\n      <th>6</th>\n      <td>7</td>\n      <td>Yes</td>\n      <td>Cityace</td>\n      <td>NaN</td>\n      <td>2010</td>\n      <td>$9,254,614</td>\n      <td>6,249,498 Dollars</td>\n      <td>3005116</td>\n      <td>NaN</td>\n    </tr>\n    <tr>\n      <th>7</th>\n      <td>8</td>\n      <td>No</td>\n      <td>Kayelectronics</td>\n      <td>IT Services</td>\n      <td>2009</td>\n      <td>$9,451,943</td>\n      <td>3,878,113 Dollars</td>\n      <td>5573830</td>\n      <td>4%</td>\n    </tr>\n    <tr>\n      <th>8</th>\n      <td>9</td>\n      <td>Yes</td>\n      <td>Ganzlax</td>\n      <td>IT Services</td>\n      <td>2011</td>\n      <td>$14,001,180</td>\n      <td>NaN</td>\n      <td>11901180</td>\n      <td>18%</td>\n    </tr>\n    <tr>\n      <th>9</th>\n      <td>10</td>\n      <td>No</td>\n      <td>Trantraxlax</td>\n      <td>Government Services</td>\n      <td>2011</td>\n      <td>$11,088,336</td>\n      <td>5,635,276 Dollars</td>\n      <td>5453060</td>\n      <td>7%</td>\n    </tr>\n  </tbody>\n</table>\n</div>"
          },
          "metadata": {}
        }
      ]
    },
    {
      "cell_type": "code",
      "source": "df.replace()",
      "metadata": {
        "trusted": true
      },
      "execution_count": 5,
      "outputs": [
        {
          "execution_count": 5,
          "output_type": "execute_result",
          "data": {
            "text/plain": "   ID Date             Name             Industry  Inception       Revenue  \\\n0   1  Yes          Lamtone          IT Services       2009  $11,757,018    \n1   2  Yes        Stripfind   Financial Services       2010  $12,329,371    \n2   3   No  Canecorporation               Health       2012  $10,597,009    \n3   4  Yes         Mattouch          IT Services       2013  $14,026,934    \n4   5   No        Techdrill          IT Services       2009  $10,573,990    \n5   6  Yes         Techline          IT Services       2006  $13,898,119    \n6   7  Yes          Cityace          IT Services       2010   $9,254,614    \n7   8   No   Kayelectronics          IT Services       2009   $9,451,943    \n8   9  Yes          Ganzlax          IT Services       2011  $14,001,180    \n9  10   No      Trantraxlax  Government Services       2011  $11,088,336    \n\n            Expenses    Profit Growth  \n0  6,482,465 Dollars   5274553    30%  \n1    916,455 Dollars  11412916    20%  \n2  7,591,189 Dollars   3005820     7%  \n3  7,429,377 Dollars   6597557     7%  \n4  7,435,363 Dollars   3138627     7%  \n5  5,470,303 Dollars   8427816     7%  \n6  6,249,498 Dollars   3005116     7%  \n7  3,878,113 Dollars   5573830     4%  \n8  3,878,113 Dollars  11901180    18%  \n9  5,635,276 Dollars   5453060     7%  ",
            "text/html": "<div>\n<style scoped>\n    .dataframe tbody tr th:only-of-type {\n        vertical-align: middle;\n    }\n\n    .dataframe tbody tr th {\n        vertical-align: top;\n    }\n\n    .dataframe thead th {\n        text-align: right;\n    }\n</style>\n<table border=\"1\" class=\"dataframe\">\n  <thead>\n    <tr style=\"text-align: right;\">\n      <th></th>\n      <th>ID</th>\n      <th>Date</th>\n      <th>Name</th>\n      <th>Industry</th>\n      <th>Inception</th>\n      <th>Revenue</th>\n      <th>Expenses</th>\n      <th>Profit</th>\n      <th>Growth</th>\n    </tr>\n  </thead>\n  <tbody>\n    <tr>\n      <th>0</th>\n      <td>1</td>\n      <td>Yes</td>\n      <td>Lamtone</td>\n      <td>IT Services</td>\n      <td>2009</td>\n      <td>$11,757,018</td>\n      <td>6,482,465 Dollars</td>\n      <td>5274553</td>\n      <td>30%</td>\n    </tr>\n    <tr>\n      <th>1</th>\n      <td>2</td>\n      <td>Yes</td>\n      <td>Stripfind</td>\n      <td>Financial Services</td>\n      <td>2010</td>\n      <td>$12,329,371</td>\n      <td>916,455 Dollars</td>\n      <td>11412916</td>\n      <td>20%</td>\n    </tr>\n    <tr>\n      <th>2</th>\n      <td>3</td>\n      <td>No</td>\n      <td>Canecorporation</td>\n      <td>Health</td>\n      <td>2012</td>\n      <td>$10,597,009</td>\n      <td>7,591,189 Dollars</td>\n      <td>3005820</td>\n      <td>7%</td>\n    </tr>\n    <tr>\n      <th>3</th>\n      <td>4</td>\n      <td>Yes</td>\n      <td>Mattouch</td>\n      <td>IT Services</td>\n      <td>2013</td>\n      <td>$14,026,934</td>\n      <td>7,429,377 Dollars</td>\n      <td>6597557</td>\n      <td>7%</td>\n    </tr>\n    <tr>\n      <th>4</th>\n      <td>5</td>\n      <td>No</td>\n      <td>Techdrill</td>\n      <td>IT Services</td>\n      <td>2009</td>\n      <td>$10,573,990</td>\n      <td>7,435,363 Dollars</td>\n      <td>3138627</td>\n      <td>7%</td>\n    </tr>\n    <tr>\n      <th>5</th>\n      <td>6</td>\n      <td>Yes</td>\n      <td>Techline</td>\n      <td>IT Services</td>\n      <td>2006</td>\n      <td>$13,898,119</td>\n      <td>5,470,303 Dollars</td>\n      <td>8427816</td>\n      <td>7%</td>\n    </tr>\n    <tr>\n      <th>6</th>\n      <td>7</td>\n      <td>Yes</td>\n      <td>Cityace</td>\n      <td>IT Services</td>\n      <td>2010</td>\n      <td>$9,254,614</td>\n      <td>6,249,498 Dollars</td>\n      <td>3005116</td>\n      <td>7%</td>\n    </tr>\n    <tr>\n      <th>7</th>\n      <td>8</td>\n      <td>No</td>\n      <td>Kayelectronics</td>\n      <td>IT Services</td>\n      <td>2009</td>\n      <td>$9,451,943</td>\n      <td>3,878,113 Dollars</td>\n      <td>5573830</td>\n      <td>4%</td>\n    </tr>\n    <tr>\n      <th>8</th>\n      <td>9</td>\n      <td>Yes</td>\n      <td>Ganzlax</td>\n      <td>IT Services</td>\n      <td>2011</td>\n      <td>$14,001,180</td>\n      <td>3,878,113 Dollars</td>\n      <td>11901180</td>\n      <td>18%</td>\n    </tr>\n    <tr>\n      <th>9</th>\n      <td>10</td>\n      <td>No</td>\n      <td>Trantraxlax</td>\n      <td>Government Services</td>\n      <td>2011</td>\n      <td>$11,088,336</td>\n      <td>5,635,276 Dollars</td>\n      <td>5453060</td>\n      <td>7%</td>\n    </tr>\n  </tbody>\n</table>\n</div>"
          },
          "metadata": {}
        }
      ]
    },
    {
      "cell_type": "code",
      "source": "#df.replace(\n#   to_replace=None,\n#  value=<no_default>,\n# inplace: 'bool' = False,\n#limit=None,\n#regex: 'bool' = False,\n#method: 'str | lib.NoDefault' = <no_default>,)",
      "metadata": {
        "trusted": true
      },
      "execution_count": 6,
      "outputs": []
    },
    {
      "cell_type": "code",
      "source": "#to replace with the value",
      "metadata": {
        "trusted": true
      },
      "execution_count": 7,
      "outputs": []
    },
    {
      "cell_type": "code",
      "source": "df.replace(to_replace='Health',value='Finance')",
      "metadata": {
        "trusted": true
      },
      "execution_count": 8,
      "outputs": [
        {
          "execution_count": 8,
          "output_type": "execute_result",
          "data": {
            "text/plain": "   ID Date             Name             Industry  Inception       Revenue  \\\n0   1  Yes          Lamtone          IT Services       2009  $11,757,018    \n1   2  Yes        Stripfind   Financial Services       2010  $12,329,371    \n2   3   No  Canecorporation              Finance       2012  $10,597,009    \n3   4  Yes         Mattouch          IT Services       2013  $14,026,934    \n4   5   No        Techdrill                  NaN       2009  $10,573,990    \n5   6  Yes         Techline                  NaN       2006  $13,898,119    \n6   7  Yes          Cityace                  NaN       2010   $9,254,614    \n7   8   No   Kayelectronics          IT Services       2009   $9,451,943    \n8   9  Yes          Ganzlax          IT Services       2011  $14,001,180    \n9  10   No      Trantraxlax  Government Services       2011  $11,088,336    \n\n            Expenses    Profit Growth  \n0  6,482,465 Dollars   5274553    30%  \n1    916,455 Dollars  11412916    20%  \n2  7,591,189 Dollars   3005820     7%  \n3  7,429,377 Dollars   6597557     7%  \n4  7,435,363 Dollars   3138627    NaN  \n5  5,470,303 Dollars   8427816    NaN  \n6  6,249,498 Dollars   3005116    NaN  \n7  3,878,113 Dollars   5573830     4%  \n8                NaN  11901180    18%  \n9  5,635,276 Dollars   5453060     7%  ",
            "text/html": "<div>\n<style scoped>\n    .dataframe tbody tr th:only-of-type {\n        vertical-align: middle;\n    }\n\n    .dataframe tbody tr th {\n        vertical-align: top;\n    }\n\n    .dataframe thead th {\n        text-align: right;\n    }\n</style>\n<table border=\"1\" class=\"dataframe\">\n  <thead>\n    <tr style=\"text-align: right;\">\n      <th></th>\n      <th>ID</th>\n      <th>Date</th>\n      <th>Name</th>\n      <th>Industry</th>\n      <th>Inception</th>\n      <th>Revenue</th>\n      <th>Expenses</th>\n      <th>Profit</th>\n      <th>Growth</th>\n    </tr>\n  </thead>\n  <tbody>\n    <tr>\n      <th>0</th>\n      <td>1</td>\n      <td>Yes</td>\n      <td>Lamtone</td>\n      <td>IT Services</td>\n      <td>2009</td>\n      <td>$11,757,018</td>\n      <td>6,482,465 Dollars</td>\n      <td>5274553</td>\n      <td>30%</td>\n    </tr>\n    <tr>\n      <th>1</th>\n      <td>2</td>\n      <td>Yes</td>\n      <td>Stripfind</td>\n      <td>Financial Services</td>\n      <td>2010</td>\n      <td>$12,329,371</td>\n      <td>916,455 Dollars</td>\n      <td>11412916</td>\n      <td>20%</td>\n    </tr>\n    <tr>\n      <th>2</th>\n      <td>3</td>\n      <td>No</td>\n      <td>Canecorporation</td>\n      <td>Finance</td>\n      <td>2012</td>\n      <td>$10,597,009</td>\n      <td>7,591,189 Dollars</td>\n      <td>3005820</td>\n      <td>7%</td>\n    </tr>\n    <tr>\n      <th>3</th>\n      <td>4</td>\n      <td>Yes</td>\n      <td>Mattouch</td>\n      <td>IT Services</td>\n      <td>2013</td>\n      <td>$14,026,934</td>\n      <td>7,429,377 Dollars</td>\n      <td>6597557</td>\n      <td>7%</td>\n    </tr>\n    <tr>\n      <th>4</th>\n      <td>5</td>\n      <td>No</td>\n      <td>Techdrill</td>\n      <td>NaN</td>\n      <td>2009</td>\n      <td>$10,573,990</td>\n      <td>7,435,363 Dollars</td>\n      <td>3138627</td>\n      <td>NaN</td>\n    </tr>\n    <tr>\n      <th>5</th>\n      <td>6</td>\n      <td>Yes</td>\n      <td>Techline</td>\n      <td>NaN</td>\n      <td>2006</td>\n      <td>$13,898,119</td>\n      <td>5,470,303 Dollars</td>\n      <td>8427816</td>\n      <td>NaN</td>\n    </tr>\n    <tr>\n      <th>6</th>\n      <td>7</td>\n      <td>Yes</td>\n      <td>Cityace</td>\n      <td>NaN</td>\n      <td>2010</td>\n      <td>$9,254,614</td>\n      <td>6,249,498 Dollars</td>\n      <td>3005116</td>\n      <td>NaN</td>\n    </tr>\n    <tr>\n      <th>7</th>\n      <td>8</td>\n      <td>No</td>\n      <td>Kayelectronics</td>\n      <td>IT Services</td>\n      <td>2009</td>\n      <td>$9,451,943</td>\n      <td>3,878,113 Dollars</td>\n      <td>5573830</td>\n      <td>4%</td>\n    </tr>\n    <tr>\n      <th>8</th>\n      <td>9</td>\n      <td>Yes</td>\n      <td>Ganzlax</td>\n      <td>IT Services</td>\n      <td>2011</td>\n      <td>$14,001,180</td>\n      <td>NaN</td>\n      <td>11901180</td>\n      <td>18%</td>\n    </tr>\n    <tr>\n      <th>9</th>\n      <td>10</td>\n      <td>No</td>\n      <td>Trantraxlax</td>\n      <td>Government Services</td>\n      <td>2011</td>\n      <td>$11,088,336</td>\n      <td>5,635,276 Dollars</td>\n      <td>5453060</td>\n      <td>7%</td>\n    </tr>\n  </tbody>\n</table>\n</div>"
          },
          "metadata": {}
        }
      ]
    },
    {
      "cell_type": "code",
      "source": "#this are 1st and 2 nd parameter so u can give it's value directly",
      "metadata": {
        "trusted": true
      },
      "execution_count": 9,
      "outputs": []
    },
    {
      "cell_type": "code",
      "source": "df.replace('Health','Finance')",
      "metadata": {
        "trusted": true
      },
      "execution_count": 10,
      "outputs": [
        {
          "execution_count": 10,
          "output_type": "execute_result",
          "data": {
            "text/plain": "   ID Date             Name             Industry  Inception       Revenue  \\\n0   1  Yes          Lamtone          IT Services       2009  $11,757,018    \n1   2  Yes        Stripfind   Financial Services       2010  $12,329,371    \n2   3   No  Canecorporation              Finance       2012  $10,597,009    \n3   4  Yes         Mattouch          IT Services       2013  $14,026,934    \n4   5   No        Techdrill                  NaN       2009  $10,573,990    \n5   6  Yes         Techline                  NaN       2006  $13,898,119    \n6   7  Yes          Cityace                  NaN       2010   $9,254,614    \n7   8   No   Kayelectronics          IT Services       2009   $9,451,943    \n8   9  Yes          Ganzlax          IT Services       2011  $14,001,180    \n9  10   No      Trantraxlax  Government Services       2011  $11,088,336    \n\n            Expenses    Profit Growth  \n0  6,482,465 Dollars   5274553    30%  \n1    916,455 Dollars  11412916    20%  \n2  7,591,189 Dollars   3005820     7%  \n3  7,429,377 Dollars   6597557     7%  \n4  7,435,363 Dollars   3138627    NaN  \n5  5,470,303 Dollars   8427816    NaN  \n6  6,249,498 Dollars   3005116    NaN  \n7  3,878,113 Dollars   5573830     4%  \n8                NaN  11901180    18%  \n9  5,635,276 Dollars   5453060     7%  ",
            "text/html": "<div>\n<style scoped>\n    .dataframe tbody tr th:only-of-type {\n        vertical-align: middle;\n    }\n\n    .dataframe tbody tr th {\n        vertical-align: top;\n    }\n\n    .dataframe thead th {\n        text-align: right;\n    }\n</style>\n<table border=\"1\" class=\"dataframe\">\n  <thead>\n    <tr style=\"text-align: right;\">\n      <th></th>\n      <th>ID</th>\n      <th>Date</th>\n      <th>Name</th>\n      <th>Industry</th>\n      <th>Inception</th>\n      <th>Revenue</th>\n      <th>Expenses</th>\n      <th>Profit</th>\n      <th>Growth</th>\n    </tr>\n  </thead>\n  <tbody>\n    <tr>\n      <th>0</th>\n      <td>1</td>\n      <td>Yes</td>\n      <td>Lamtone</td>\n      <td>IT Services</td>\n      <td>2009</td>\n      <td>$11,757,018</td>\n      <td>6,482,465 Dollars</td>\n      <td>5274553</td>\n      <td>30%</td>\n    </tr>\n    <tr>\n      <th>1</th>\n      <td>2</td>\n      <td>Yes</td>\n      <td>Stripfind</td>\n      <td>Financial Services</td>\n      <td>2010</td>\n      <td>$12,329,371</td>\n      <td>916,455 Dollars</td>\n      <td>11412916</td>\n      <td>20%</td>\n    </tr>\n    <tr>\n      <th>2</th>\n      <td>3</td>\n      <td>No</td>\n      <td>Canecorporation</td>\n      <td>Finance</td>\n      <td>2012</td>\n      <td>$10,597,009</td>\n      <td>7,591,189 Dollars</td>\n      <td>3005820</td>\n      <td>7%</td>\n    </tr>\n    <tr>\n      <th>3</th>\n      <td>4</td>\n      <td>Yes</td>\n      <td>Mattouch</td>\n      <td>IT Services</td>\n      <td>2013</td>\n      <td>$14,026,934</td>\n      <td>7,429,377 Dollars</td>\n      <td>6597557</td>\n      <td>7%</td>\n    </tr>\n    <tr>\n      <th>4</th>\n      <td>5</td>\n      <td>No</td>\n      <td>Techdrill</td>\n      <td>NaN</td>\n      <td>2009</td>\n      <td>$10,573,990</td>\n      <td>7,435,363 Dollars</td>\n      <td>3138627</td>\n      <td>NaN</td>\n    </tr>\n    <tr>\n      <th>5</th>\n      <td>6</td>\n      <td>Yes</td>\n      <td>Techline</td>\n      <td>NaN</td>\n      <td>2006</td>\n      <td>$13,898,119</td>\n      <td>5,470,303 Dollars</td>\n      <td>8427816</td>\n      <td>NaN</td>\n    </tr>\n    <tr>\n      <th>6</th>\n      <td>7</td>\n      <td>Yes</td>\n      <td>Cityace</td>\n      <td>NaN</td>\n      <td>2010</td>\n      <td>$9,254,614</td>\n      <td>6,249,498 Dollars</td>\n      <td>3005116</td>\n      <td>NaN</td>\n    </tr>\n    <tr>\n      <th>7</th>\n      <td>8</td>\n      <td>No</td>\n      <td>Kayelectronics</td>\n      <td>IT Services</td>\n      <td>2009</td>\n      <td>$9,451,943</td>\n      <td>3,878,113 Dollars</td>\n      <td>5573830</td>\n      <td>4%</td>\n    </tr>\n    <tr>\n      <th>8</th>\n      <td>9</td>\n      <td>Yes</td>\n      <td>Ganzlax</td>\n      <td>IT Services</td>\n      <td>2011</td>\n      <td>$14,001,180</td>\n      <td>NaN</td>\n      <td>11901180</td>\n      <td>18%</td>\n    </tr>\n    <tr>\n      <th>9</th>\n      <td>10</td>\n      <td>No</td>\n      <td>Trantraxlax</td>\n      <td>Government Services</td>\n      <td>2011</td>\n      <td>$11,088,336</td>\n      <td>5,635,276 Dollars</td>\n      <td>5453060</td>\n      <td>7%</td>\n    </tr>\n  </tbody>\n</table>\n</div>"
          },
          "metadata": {}
        }
      ]
    },
    {
      "cell_type": "code",
      "source": "#u can see both dataset are same",
      "metadata": {
        "trusted": true
      },
      "execution_count": 11,
      "outputs": []
    },
    {
      "cell_type": "code",
      "source": "df.replace(10,15)",
      "metadata": {
        "trusted": true
      },
      "execution_count": 12,
      "outputs": [
        {
          "execution_count": 12,
          "output_type": "execute_result",
          "data": {
            "text/plain": "   ID Date             Name             Industry  Inception       Revenue  \\\n0   1  Yes          Lamtone          IT Services       2009  $11,757,018    \n1   2  Yes        Stripfind   Financial Services       2010  $12,329,371    \n2   3   No  Canecorporation               Health       2012  $10,597,009    \n3   4  Yes         Mattouch          IT Services       2013  $14,026,934    \n4   5   No        Techdrill                  NaN       2009  $10,573,990    \n5   6  Yes         Techline                  NaN       2006  $13,898,119    \n6   7  Yes          Cityace                  NaN       2010   $9,254,614    \n7   8   No   Kayelectronics          IT Services       2009   $9,451,943    \n8   9  Yes          Ganzlax          IT Services       2011  $14,001,180    \n9  15   No      Trantraxlax  Government Services       2011  $11,088,336    \n\n            Expenses    Profit Growth  \n0  6,482,465 Dollars   5274553    30%  \n1    916,455 Dollars  11412916    20%  \n2  7,591,189 Dollars   3005820     7%  \n3  7,429,377 Dollars   6597557     7%  \n4  7,435,363 Dollars   3138627    NaN  \n5  5,470,303 Dollars   8427816    NaN  \n6  6,249,498 Dollars   3005116    NaN  \n7  3,878,113 Dollars   5573830     4%  \n8                NaN  11901180    18%  \n9  5,635,276 Dollars   5453060     7%  ",
            "text/html": "<div>\n<style scoped>\n    .dataframe tbody tr th:only-of-type {\n        vertical-align: middle;\n    }\n\n    .dataframe tbody tr th {\n        vertical-align: top;\n    }\n\n    .dataframe thead th {\n        text-align: right;\n    }\n</style>\n<table border=\"1\" class=\"dataframe\">\n  <thead>\n    <tr style=\"text-align: right;\">\n      <th></th>\n      <th>ID</th>\n      <th>Date</th>\n      <th>Name</th>\n      <th>Industry</th>\n      <th>Inception</th>\n      <th>Revenue</th>\n      <th>Expenses</th>\n      <th>Profit</th>\n      <th>Growth</th>\n    </tr>\n  </thead>\n  <tbody>\n    <tr>\n      <th>0</th>\n      <td>1</td>\n      <td>Yes</td>\n      <td>Lamtone</td>\n      <td>IT Services</td>\n      <td>2009</td>\n      <td>$11,757,018</td>\n      <td>6,482,465 Dollars</td>\n      <td>5274553</td>\n      <td>30%</td>\n    </tr>\n    <tr>\n      <th>1</th>\n      <td>2</td>\n      <td>Yes</td>\n      <td>Stripfind</td>\n      <td>Financial Services</td>\n      <td>2010</td>\n      <td>$12,329,371</td>\n      <td>916,455 Dollars</td>\n      <td>11412916</td>\n      <td>20%</td>\n    </tr>\n    <tr>\n      <th>2</th>\n      <td>3</td>\n      <td>No</td>\n      <td>Canecorporation</td>\n      <td>Health</td>\n      <td>2012</td>\n      <td>$10,597,009</td>\n      <td>7,591,189 Dollars</td>\n      <td>3005820</td>\n      <td>7%</td>\n    </tr>\n    <tr>\n      <th>3</th>\n      <td>4</td>\n      <td>Yes</td>\n      <td>Mattouch</td>\n      <td>IT Services</td>\n      <td>2013</td>\n      <td>$14,026,934</td>\n      <td>7,429,377 Dollars</td>\n      <td>6597557</td>\n      <td>7%</td>\n    </tr>\n    <tr>\n      <th>4</th>\n      <td>5</td>\n      <td>No</td>\n      <td>Techdrill</td>\n      <td>NaN</td>\n      <td>2009</td>\n      <td>$10,573,990</td>\n      <td>7,435,363 Dollars</td>\n      <td>3138627</td>\n      <td>NaN</td>\n    </tr>\n    <tr>\n      <th>5</th>\n      <td>6</td>\n      <td>Yes</td>\n      <td>Techline</td>\n      <td>NaN</td>\n      <td>2006</td>\n      <td>$13,898,119</td>\n      <td>5,470,303 Dollars</td>\n      <td>8427816</td>\n      <td>NaN</td>\n    </tr>\n    <tr>\n      <th>6</th>\n      <td>7</td>\n      <td>Yes</td>\n      <td>Cityace</td>\n      <td>NaN</td>\n      <td>2010</td>\n      <td>$9,254,614</td>\n      <td>6,249,498 Dollars</td>\n      <td>3005116</td>\n      <td>NaN</td>\n    </tr>\n    <tr>\n      <th>7</th>\n      <td>8</td>\n      <td>No</td>\n      <td>Kayelectronics</td>\n      <td>IT Services</td>\n      <td>2009</td>\n      <td>$9,451,943</td>\n      <td>3,878,113 Dollars</td>\n      <td>5573830</td>\n      <td>4%</td>\n    </tr>\n    <tr>\n      <th>8</th>\n      <td>9</td>\n      <td>Yes</td>\n      <td>Ganzlax</td>\n      <td>IT Services</td>\n      <td>2011</td>\n      <td>$14,001,180</td>\n      <td>NaN</td>\n      <td>11901180</td>\n      <td>18%</td>\n    </tr>\n    <tr>\n      <th>9</th>\n      <td>15</td>\n      <td>No</td>\n      <td>Trantraxlax</td>\n      <td>Government Services</td>\n      <td>2011</td>\n      <td>$11,088,336</td>\n      <td>5,635,276 Dollars</td>\n      <td>5453060</td>\n      <td>7%</td>\n    </tr>\n  </tbody>\n</table>\n</div>"
          },
          "metadata": {}
        }
      ]
    },
    {
      "cell_type": "code",
      "source": "#u can replace multiple  values of single column into one value",
      "metadata": {
        "trusted": true
      },
      "execution_count": 13,
      "outputs": []
    },
    {
      "cell_type": "code",
      "source": "df.replace([1,2,3,4,5,6,7,8,9,10],0)",
      "metadata": {
        "trusted": true
      },
      "execution_count": 14,
      "outputs": [
        {
          "execution_count": 14,
          "output_type": "execute_result",
          "data": {
            "text/plain": "   ID Date             Name             Industry  Inception       Revenue  \\\n0   0  Yes          Lamtone          IT Services       2009  $11,757,018    \n1   0  Yes        Stripfind   Financial Services       2010  $12,329,371    \n2   0   No  Canecorporation               Health       2012  $10,597,009    \n3   0  Yes         Mattouch          IT Services       2013  $14,026,934    \n4   0   No        Techdrill                  NaN       2009  $10,573,990    \n5   0  Yes         Techline                  NaN       2006  $13,898,119    \n6   0  Yes          Cityace                  NaN       2010   $9,254,614    \n7   0   No   Kayelectronics          IT Services       2009   $9,451,943    \n8   0  Yes          Ganzlax          IT Services       2011  $14,001,180    \n9   0   No      Trantraxlax  Government Services       2011  $11,088,336    \n\n            Expenses    Profit Growth  \n0  6,482,465 Dollars   5274553    30%  \n1    916,455 Dollars  11412916    20%  \n2  7,591,189 Dollars   3005820     7%  \n3  7,429,377 Dollars   6597557     7%  \n4  7,435,363 Dollars   3138627    NaN  \n5  5,470,303 Dollars   8427816    NaN  \n6  6,249,498 Dollars   3005116    NaN  \n7  3,878,113 Dollars   5573830     4%  \n8                NaN  11901180    18%  \n9  5,635,276 Dollars   5453060     7%  ",
            "text/html": "<div>\n<style scoped>\n    .dataframe tbody tr th:only-of-type {\n        vertical-align: middle;\n    }\n\n    .dataframe tbody tr th {\n        vertical-align: top;\n    }\n\n    .dataframe thead th {\n        text-align: right;\n    }\n</style>\n<table border=\"1\" class=\"dataframe\">\n  <thead>\n    <tr style=\"text-align: right;\">\n      <th></th>\n      <th>ID</th>\n      <th>Date</th>\n      <th>Name</th>\n      <th>Industry</th>\n      <th>Inception</th>\n      <th>Revenue</th>\n      <th>Expenses</th>\n      <th>Profit</th>\n      <th>Growth</th>\n    </tr>\n  </thead>\n  <tbody>\n    <tr>\n      <th>0</th>\n      <td>0</td>\n      <td>Yes</td>\n      <td>Lamtone</td>\n      <td>IT Services</td>\n      <td>2009</td>\n      <td>$11,757,018</td>\n      <td>6,482,465 Dollars</td>\n      <td>5274553</td>\n      <td>30%</td>\n    </tr>\n    <tr>\n      <th>1</th>\n      <td>0</td>\n      <td>Yes</td>\n      <td>Stripfind</td>\n      <td>Financial Services</td>\n      <td>2010</td>\n      <td>$12,329,371</td>\n      <td>916,455 Dollars</td>\n      <td>11412916</td>\n      <td>20%</td>\n    </tr>\n    <tr>\n      <th>2</th>\n      <td>0</td>\n      <td>No</td>\n      <td>Canecorporation</td>\n      <td>Health</td>\n      <td>2012</td>\n      <td>$10,597,009</td>\n      <td>7,591,189 Dollars</td>\n      <td>3005820</td>\n      <td>7%</td>\n    </tr>\n    <tr>\n      <th>3</th>\n      <td>0</td>\n      <td>Yes</td>\n      <td>Mattouch</td>\n      <td>IT Services</td>\n      <td>2013</td>\n      <td>$14,026,934</td>\n      <td>7,429,377 Dollars</td>\n      <td>6597557</td>\n      <td>7%</td>\n    </tr>\n    <tr>\n      <th>4</th>\n      <td>0</td>\n      <td>No</td>\n      <td>Techdrill</td>\n      <td>NaN</td>\n      <td>2009</td>\n      <td>$10,573,990</td>\n      <td>7,435,363 Dollars</td>\n      <td>3138627</td>\n      <td>NaN</td>\n    </tr>\n    <tr>\n      <th>5</th>\n      <td>0</td>\n      <td>Yes</td>\n      <td>Techline</td>\n      <td>NaN</td>\n      <td>2006</td>\n      <td>$13,898,119</td>\n      <td>5,470,303 Dollars</td>\n      <td>8427816</td>\n      <td>NaN</td>\n    </tr>\n    <tr>\n      <th>6</th>\n      <td>0</td>\n      <td>Yes</td>\n      <td>Cityace</td>\n      <td>NaN</td>\n      <td>2010</td>\n      <td>$9,254,614</td>\n      <td>6,249,498 Dollars</td>\n      <td>3005116</td>\n      <td>NaN</td>\n    </tr>\n    <tr>\n      <th>7</th>\n      <td>0</td>\n      <td>No</td>\n      <td>Kayelectronics</td>\n      <td>IT Services</td>\n      <td>2009</td>\n      <td>$9,451,943</td>\n      <td>3,878,113 Dollars</td>\n      <td>5573830</td>\n      <td>4%</td>\n    </tr>\n    <tr>\n      <th>8</th>\n      <td>0</td>\n      <td>Yes</td>\n      <td>Ganzlax</td>\n      <td>IT Services</td>\n      <td>2011</td>\n      <td>$14,001,180</td>\n      <td>NaN</td>\n      <td>11901180</td>\n      <td>18%</td>\n    </tr>\n    <tr>\n      <th>9</th>\n      <td>0</td>\n      <td>No</td>\n      <td>Trantraxlax</td>\n      <td>Government Services</td>\n      <td>2011</td>\n      <td>$11,088,336</td>\n      <td>5,635,276 Dollars</td>\n      <td>5453060</td>\n      <td>7%</td>\n    </tr>\n  </tbody>\n</table>\n</div>"
          },
          "metadata": {}
        }
      ]
    },
    {
      "cell_type": "code",
      "source": "#u can replace that multiple value into other multiple value",
      "metadata": {
        "trusted": true
      },
      "execution_count": 15,
      "outputs": []
    },
    {
      "cell_type": "code",
      "source": "df.replace([1,2,3,4,5,6,7,8,9,10],[11,12,13,14,15,16,17,18,19,20])",
      "metadata": {
        "trusted": true
      },
      "execution_count": 16,
      "outputs": [
        {
          "execution_count": 16,
          "output_type": "execute_result",
          "data": {
            "text/plain": "   ID Date             Name             Industry  Inception       Revenue  \\\n0  11  Yes          Lamtone          IT Services       2009  $11,757,018    \n1  12  Yes        Stripfind   Financial Services       2010  $12,329,371    \n2  13   No  Canecorporation               Health       2012  $10,597,009    \n3  14  Yes         Mattouch          IT Services       2013  $14,026,934    \n4  15   No        Techdrill                  NaN       2009  $10,573,990    \n5  16  Yes         Techline                  NaN       2006  $13,898,119    \n6  17  Yes          Cityace                  NaN       2010   $9,254,614    \n7  18   No   Kayelectronics          IT Services       2009   $9,451,943    \n8  19  Yes          Ganzlax          IT Services       2011  $14,001,180    \n9  20   No      Trantraxlax  Government Services       2011  $11,088,336    \n\n            Expenses    Profit Growth  \n0  6,482,465 Dollars   5274553    30%  \n1    916,455 Dollars  11412916    20%  \n2  7,591,189 Dollars   3005820     7%  \n3  7,429,377 Dollars   6597557     7%  \n4  7,435,363 Dollars   3138627    NaN  \n5  5,470,303 Dollars   8427816    NaN  \n6  6,249,498 Dollars   3005116    NaN  \n7  3,878,113 Dollars   5573830     4%  \n8                NaN  11901180    18%  \n9  5,635,276 Dollars   5453060     7%  ",
            "text/html": "<div>\n<style scoped>\n    .dataframe tbody tr th:only-of-type {\n        vertical-align: middle;\n    }\n\n    .dataframe tbody tr th {\n        vertical-align: top;\n    }\n\n    .dataframe thead th {\n        text-align: right;\n    }\n</style>\n<table border=\"1\" class=\"dataframe\">\n  <thead>\n    <tr style=\"text-align: right;\">\n      <th></th>\n      <th>ID</th>\n      <th>Date</th>\n      <th>Name</th>\n      <th>Industry</th>\n      <th>Inception</th>\n      <th>Revenue</th>\n      <th>Expenses</th>\n      <th>Profit</th>\n      <th>Growth</th>\n    </tr>\n  </thead>\n  <tbody>\n    <tr>\n      <th>0</th>\n      <td>11</td>\n      <td>Yes</td>\n      <td>Lamtone</td>\n      <td>IT Services</td>\n      <td>2009</td>\n      <td>$11,757,018</td>\n      <td>6,482,465 Dollars</td>\n      <td>5274553</td>\n      <td>30%</td>\n    </tr>\n    <tr>\n      <th>1</th>\n      <td>12</td>\n      <td>Yes</td>\n      <td>Stripfind</td>\n      <td>Financial Services</td>\n      <td>2010</td>\n      <td>$12,329,371</td>\n      <td>916,455 Dollars</td>\n      <td>11412916</td>\n      <td>20%</td>\n    </tr>\n    <tr>\n      <th>2</th>\n      <td>13</td>\n      <td>No</td>\n      <td>Canecorporation</td>\n      <td>Health</td>\n      <td>2012</td>\n      <td>$10,597,009</td>\n      <td>7,591,189 Dollars</td>\n      <td>3005820</td>\n      <td>7%</td>\n    </tr>\n    <tr>\n      <th>3</th>\n      <td>14</td>\n      <td>Yes</td>\n      <td>Mattouch</td>\n      <td>IT Services</td>\n      <td>2013</td>\n      <td>$14,026,934</td>\n      <td>7,429,377 Dollars</td>\n      <td>6597557</td>\n      <td>7%</td>\n    </tr>\n    <tr>\n      <th>4</th>\n      <td>15</td>\n      <td>No</td>\n      <td>Techdrill</td>\n      <td>NaN</td>\n      <td>2009</td>\n      <td>$10,573,990</td>\n      <td>7,435,363 Dollars</td>\n      <td>3138627</td>\n      <td>NaN</td>\n    </tr>\n    <tr>\n      <th>5</th>\n      <td>16</td>\n      <td>Yes</td>\n      <td>Techline</td>\n      <td>NaN</td>\n      <td>2006</td>\n      <td>$13,898,119</td>\n      <td>5,470,303 Dollars</td>\n      <td>8427816</td>\n      <td>NaN</td>\n    </tr>\n    <tr>\n      <th>6</th>\n      <td>17</td>\n      <td>Yes</td>\n      <td>Cityace</td>\n      <td>NaN</td>\n      <td>2010</td>\n      <td>$9,254,614</td>\n      <td>6,249,498 Dollars</td>\n      <td>3005116</td>\n      <td>NaN</td>\n    </tr>\n    <tr>\n      <th>7</th>\n      <td>18</td>\n      <td>No</td>\n      <td>Kayelectronics</td>\n      <td>IT Services</td>\n      <td>2009</td>\n      <td>$9,451,943</td>\n      <td>3,878,113 Dollars</td>\n      <td>5573830</td>\n      <td>4%</td>\n    </tr>\n    <tr>\n      <th>8</th>\n      <td>19</td>\n      <td>Yes</td>\n      <td>Ganzlax</td>\n      <td>IT Services</td>\n      <td>2011</td>\n      <td>$14,001,180</td>\n      <td>NaN</td>\n      <td>11901180</td>\n      <td>18%</td>\n    </tr>\n    <tr>\n      <th>9</th>\n      <td>20</td>\n      <td>No</td>\n      <td>Trantraxlax</td>\n      <td>Government Services</td>\n      <td>2011</td>\n      <td>$11,088,336</td>\n      <td>5,635,276 Dollars</td>\n      <td>5453060</td>\n      <td>7%</td>\n    </tr>\n  </tbody>\n</table>\n</div>"
          },
          "metadata": {}
        }
      ]
    },
    {
      "cell_type": "code",
      "source": "#if u wanna replace one col particular value",
      "metadata": {
        "trusted": true
      },
      "execution_count": 17,
      "outputs": []
    },
    {
      "cell_type": "code",
      "source": "df.replace({'Industry':'IT Services'},'infor indus')",
      "metadata": {
        "trusted": true
      },
      "execution_count": 18,
      "outputs": [
        {
          "execution_count": 18,
          "output_type": "execute_result",
          "data": {
            "text/plain": "   ID Date             Name             Industry  Inception       Revenue  \\\n0   1  Yes          Lamtone          infor indus       2009  $11,757,018    \n1   2  Yes        Stripfind   Financial Services       2010  $12,329,371    \n2   3   No  Canecorporation               Health       2012  $10,597,009    \n3   4  Yes         Mattouch          infor indus       2013  $14,026,934    \n4   5   No        Techdrill                  NaN       2009  $10,573,990    \n5   6  Yes         Techline                  NaN       2006  $13,898,119    \n6   7  Yes          Cityace                  NaN       2010   $9,254,614    \n7   8   No   Kayelectronics          infor indus       2009   $9,451,943    \n8   9  Yes          Ganzlax          infor indus       2011  $14,001,180    \n9  10   No      Trantraxlax  Government Services       2011  $11,088,336    \n\n            Expenses    Profit Growth  \n0  6,482,465 Dollars   5274553    30%  \n1    916,455 Dollars  11412916    20%  \n2  7,591,189 Dollars   3005820     7%  \n3  7,429,377 Dollars   6597557     7%  \n4  7,435,363 Dollars   3138627    NaN  \n5  5,470,303 Dollars   8427816    NaN  \n6  6,249,498 Dollars   3005116    NaN  \n7  3,878,113 Dollars   5573830     4%  \n8                NaN  11901180    18%  \n9  5,635,276 Dollars   5453060     7%  ",
            "text/html": "<div>\n<style scoped>\n    .dataframe tbody tr th:only-of-type {\n        vertical-align: middle;\n    }\n\n    .dataframe tbody tr th {\n        vertical-align: top;\n    }\n\n    .dataframe thead th {\n        text-align: right;\n    }\n</style>\n<table border=\"1\" class=\"dataframe\">\n  <thead>\n    <tr style=\"text-align: right;\">\n      <th></th>\n      <th>ID</th>\n      <th>Date</th>\n      <th>Name</th>\n      <th>Industry</th>\n      <th>Inception</th>\n      <th>Revenue</th>\n      <th>Expenses</th>\n      <th>Profit</th>\n      <th>Growth</th>\n    </tr>\n  </thead>\n  <tbody>\n    <tr>\n      <th>0</th>\n      <td>1</td>\n      <td>Yes</td>\n      <td>Lamtone</td>\n      <td>infor indus</td>\n      <td>2009</td>\n      <td>$11,757,018</td>\n      <td>6,482,465 Dollars</td>\n      <td>5274553</td>\n      <td>30%</td>\n    </tr>\n    <tr>\n      <th>1</th>\n      <td>2</td>\n      <td>Yes</td>\n      <td>Stripfind</td>\n      <td>Financial Services</td>\n      <td>2010</td>\n      <td>$12,329,371</td>\n      <td>916,455 Dollars</td>\n      <td>11412916</td>\n      <td>20%</td>\n    </tr>\n    <tr>\n      <th>2</th>\n      <td>3</td>\n      <td>No</td>\n      <td>Canecorporation</td>\n      <td>Health</td>\n      <td>2012</td>\n      <td>$10,597,009</td>\n      <td>7,591,189 Dollars</td>\n      <td>3005820</td>\n      <td>7%</td>\n    </tr>\n    <tr>\n      <th>3</th>\n      <td>4</td>\n      <td>Yes</td>\n      <td>Mattouch</td>\n      <td>infor indus</td>\n      <td>2013</td>\n      <td>$14,026,934</td>\n      <td>7,429,377 Dollars</td>\n      <td>6597557</td>\n      <td>7%</td>\n    </tr>\n    <tr>\n      <th>4</th>\n      <td>5</td>\n      <td>No</td>\n      <td>Techdrill</td>\n      <td>NaN</td>\n      <td>2009</td>\n      <td>$10,573,990</td>\n      <td>7,435,363 Dollars</td>\n      <td>3138627</td>\n      <td>NaN</td>\n    </tr>\n    <tr>\n      <th>5</th>\n      <td>6</td>\n      <td>Yes</td>\n      <td>Techline</td>\n      <td>NaN</td>\n      <td>2006</td>\n      <td>$13,898,119</td>\n      <td>5,470,303 Dollars</td>\n      <td>8427816</td>\n      <td>NaN</td>\n    </tr>\n    <tr>\n      <th>6</th>\n      <td>7</td>\n      <td>Yes</td>\n      <td>Cityace</td>\n      <td>NaN</td>\n      <td>2010</td>\n      <td>$9,254,614</td>\n      <td>6,249,498 Dollars</td>\n      <td>3005116</td>\n      <td>NaN</td>\n    </tr>\n    <tr>\n      <th>7</th>\n      <td>8</td>\n      <td>No</td>\n      <td>Kayelectronics</td>\n      <td>infor indus</td>\n      <td>2009</td>\n      <td>$9,451,943</td>\n      <td>3,878,113 Dollars</td>\n      <td>5573830</td>\n      <td>4%</td>\n    </tr>\n    <tr>\n      <th>8</th>\n      <td>9</td>\n      <td>Yes</td>\n      <td>Ganzlax</td>\n      <td>infor indus</td>\n      <td>2011</td>\n      <td>$14,001,180</td>\n      <td>NaN</td>\n      <td>11901180</td>\n      <td>18%</td>\n    </tr>\n    <tr>\n      <th>9</th>\n      <td>10</td>\n      <td>No</td>\n      <td>Trantraxlax</td>\n      <td>Government Services</td>\n      <td>2011</td>\n      <td>$11,088,336</td>\n      <td>5,635,276 Dollars</td>\n      <td>5453060</td>\n      <td>7%</td>\n    </tr>\n  </tbody>\n</table>\n</div>"
          },
          "metadata": {}
        }
      ]
    },
    {
      "cell_type": "code",
      "source": "#u can give multiple columns",
      "metadata": {
        "trusted": true
      },
      "execution_count": 19,
      "outputs": []
    },
    {
      "cell_type": "code",
      "source": "df.replace({'Industry':'IT Services','Name':'Techdrill'},'infor indus')",
      "metadata": {
        "trusted": true
      },
      "execution_count": 20,
      "outputs": [
        {
          "execution_count": 20,
          "output_type": "execute_result",
          "data": {
            "text/plain": "   ID Date             Name             Industry  Inception       Revenue  \\\n0   1  Yes          Lamtone          infor indus       2009  $11,757,018    \n1   2  Yes        Stripfind   Financial Services       2010  $12,329,371    \n2   3   No  Canecorporation               Health       2012  $10,597,009    \n3   4  Yes         Mattouch          infor indus       2013  $14,026,934    \n4   5   No      infor indus                  NaN       2009  $10,573,990    \n5   6  Yes         Techline                  NaN       2006  $13,898,119    \n6   7  Yes          Cityace                  NaN       2010   $9,254,614    \n7   8   No   Kayelectronics          infor indus       2009   $9,451,943    \n8   9  Yes          Ganzlax          infor indus       2011  $14,001,180    \n9  10   No      Trantraxlax  Government Services       2011  $11,088,336    \n\n            Expenses    Profit Growth  \n0  6,482,465 Dollars   5274553    30%  \n1    916,455 Dollars  11412916    20%  \n2  7,591,189 Dollars   3005820     7%  \n3  7,429,377 Dollars   6597557     7%  \n4  7,435,363 Dollars   3138627    NaN  \n5  5,470,303 Dollars   8427816    NaN  \n6  6,249,498 Dollars   3005116    NaN  \n7  3,878,113 Dollars   5573830     4%  \n8                NaN  11901180    18%  \n9  5,635,276 Dollars   5453060     7%  ",
            "text/html": "<div>\n<style scoped>\n    .dataframe tbody tr th:only-of-type {\n        vertical-align: middle;\n    }\n\n    .dataframe tbody tr th {\n        vertical-align: top;\n    }\n\n    .dataframe thead th {\n        text-align: right;\n    }\n</style>\n<table border=\"1\" class=\"dataframe\">\n  <thead>\n    <tr style=\"text-align: right;\">\n      <th></th>\n      <th>ID</th>\n      <th>Date</th>\n      <th>Name</th>\n      <th>Industry</th>\n      <th>Inception</th>\n      <th>Revenue</th>\n      <th>Expenses</th>\n      <th>Profit</th>\n      <th>Growth</th>\n    </tr>\n  </thead>\n  <tbody>\n    <tr>\n      <th>0</th>\n      <td>1</td>\n      <td>Yes</td>\n      <td>Lamtone</td>\n      <td>infor indus</td>\n      <td>2009</td>\n      <td>$11,757,018</td>\n      <td>6,482,465 Dollars</td>\n      <td>5274553</td>\n      <td>30%</td>\n    </tr>\n    <tr>\n      <th>1</th>\n      <td>2</td>\n      <td>Yes</td>\n      <td>Stripfind</td>\n      <td>Financial Services</td>\n      <td>2010</td>\n      <td>$12,329,371</td>\n      <td>916,455 Dollars</td>\n      <td>11412916</td>\n      <td>20%</td>\n    </tr>\n    <tr>\n      <th>2</th>\n      <td>3</td>\n      <td>No</td>\n      <td>Canecorporation</td>\n      <td>Health</td>\n      <td>2012</td>\n      <td>$10,597,009</td>\n      <td>7,591,189 Dollars</td>\n      <td>3005820</td>\n      <td>7%</td>\n    </tr>\n    <tr>\n      <th>3</th>\n      <td>4</td>\n      <td>Yes</td>\n      <td>Mattouch</td>\n      <td>infor indus</td>\n      <td>2013</td>\n      <td>$14,026,934</td>\n      <td>7,429,377 Dollars</td>\n      <td>6597557</td>\n      <td>7%</td>\n    </tr>\n    <tr>\n      <th>4</th>\n      <td>5</td>\n      <td>No</td>\n      <td>infor indus</td>\n      <td>NaN</td>\n      <td>2009</td>\n      <td>$10,573,990</td>\n      <td>7,435,363 Dollars</td>\n      <td>3138627</td>\n      <td>NaN</td>\n    </tr>\n    <tr>\n      <th>5</th>\n      <td>6</td>\n      <td>Yes</td>\n      <td>Techline</td>\n      <td>NaN</td>\n      <td>2006</td>\n      <td>$13,898,119</td>\n      <td>5,470,303 Dollars</td>\n      <td>8427816</td>\n      <td>NaN</td>\n    </tr>\n    <tr>\n      <th>6</th>\n      <td>7</td>\n      <td>Yes</td>\n      <td>Cityace</td>\n      <td>NaN</td>\n      <td>2010</td>\n      <td>$9,254,614</td>\n      <td>6,249,498 Dollars</td>\n      <td>3005116</td>\n      <td>NaN</td>\n    </tr>\n    <tr>\n      <th>7</th>\n      <td>8</td>\n      <td>No</td>\n      <td>Kayelectronics</td>\n      <td>infor indus</td>\n      <td>2009</td>\n      <td>$9,451,943</td>\n      <td>3,878,113 Dollars</td>\n      <td>5573830</td>\n      <td>4%</td>\n    </tr>\n    <tr>\n      <th>8</th>\n      <td>9</td>\n      <td>Yes</td>\n      <td>Ganzlax</td>\n      <td>infor indus</td>\n      <td>2011</td>\n      <td>$14,001,180</td>\n      <td>NaN</td>\n      <td>11901180</td>\n      <td>18%</td>\n    </tr>\n    <tr>\n      <th>9</th>\n      <td>10</td>\n      <td>No</td>\n      <td>Trantraxlax</td>\n      <td>Government Services</td>\n      <td>2011</td>\n      <td>$11,088,336</td>\n      <td>5,635,276 Dollars</td>\n      <td>5453060</td>\n      <td>7%</td>\n    </tr>\n  </tbody>\n</table>\n</div>"
          },
          "metadata": {}
        }
      ]
    },
    {
      "cell_type": "code",
      "source": "#regex(regular expression) is used to convert all strings into integer here i.e.zero\ndf.replace('[A-Za-z]',0,regex=True)",
      "metadata": {
        "trusted": true
      },
      "execution_count": 24,
      "outputs": [
        {
          "execution_count": 24,
          "output_type": "execute_result",
          "data": {
            "text/plain": "   ID  Date  Name  Industry  Inception       Revenue  Expenses    Profit  \\\n0   1     0     0       0.0       2009  $11,757,018        0.0   5274553   \n1   2     0     0       0.0       2010  $12,329,371        0.0  11412916   \n2   3     0     0       0.0       2012  $10,597,009        0.0   3005820   \n3   4     0     0       0.0       2013  $14,026,934        0.0   6597557   \n4   5     0     0       NaN       2009  $10,573,990        0.0   3138627   \n5   6     0     0       NaN       2006  $13,898,119        0.0   8427816   \n6   7     0     0       NaN       2010   $9,254,614        0.0   3005116   \n7   8     0     0       0.0       2009   $9,451,943        0.0   5573830   \n8   9     0     0       0.0       2011  $14,001,180        NaN  11901180   \n9  10     0     0       0.0       2011  $11,088,336        0.0   5453060   \n\n  Growth  \n0    30%  \n1    20%  \n2     7%  \n3     7%  \n4    NaN  \n5    NaN  \n6    NaN  \n7     4%  \n8    18%  \n9     7%  ",
            "text/html": "<div>\n<style scoped>\n    .dataframe tbody tr th:only-of-type {\n        vertical-align: middle;\n    }\n\n    .dataframe tbody tr th {\n        vertical-align: top;\n    }\n\n    .dataframe thead th {\n        text-align: right;\n    }\n</style>\n<table border=\"1\" class=\"dataframe\">\n  <thead>\n    <tr style=\"text-align: right;\">\n      <th></th>\n      <th>ID</th>\n      <th>Date</th>\n      <th>Name</th>\n      <th>Industry</th>\n      <th>Inception</th>\n      <th>Revenue</th>\n      <th>Expenses</th>\n      <th>Profit</th>\n      <th>Growth</th>\n    </tr>\n  </thead>\n  <tbody>\n    <tr>\n      <th>0</th>\n      <td>1</td>\n      <td>0</td>\n      <td>0</td>\n      <td>0.0</td>\n      <td>2009</td>\n      <td>$11,757,018</td>\n      <td>0.0</td>\n      <td>5274553</td>\n      <td>30%</td>\n    </tr>\n    <tr>\n      <th>1</th>\n      <td>2</td>\n      <td>0</td>\n      <td>0</td>\n      <td>0.0</td>\n      <td>2010</td>\n      <td>$12,329,371</td>\n      <td>0.0</td>\n      <td>11412916</td>\n      <td>20%</td>\n    </tr>\n    <tr>\n      <th>2</th>\n      <td>3</td>\n      <td>0</td>\n      <td>0</td>\n      <td>0.0</td>\n      <td>2012</td>\n      <td>$10,597,009</td>\n      <td>0.0</td>\n      <td>3005820</td>\n      <td>7%</td>\n    </tr>\n    <tr>\n      <th>3</th>\n      <td>4</td>\n      <td>0</td>\n      <td>0</td>\n      <td>0.0</td>\n      <td>2013</td>\n      <td>$14,026,934</td>\n      <td>0.0</td>\n      <td>6597557</td>\n      <td>7%</td>\n    </tr>\n    <tr>\n      <th>4</th>\n      <td>5</td>\n      <td>0</td>\n      <td>0</td>\n      <td>NaN</td>\n      <td>2009</td>\n      <td>$10,573,990</td>\n      <td>0.0</td>\n      <td>3138627</td>\n      <td>NaN</td>\n    </tr>\n    <tr>\n      <th>5</th>\n      <td>6</td>\n      <td>0</td>\n      <td>0</td>\n      <td>NaN</td>\n      <td>2006</td>\n      <td>$13,898,119</td>\n      <td>0.0</td>\n      <td>8427816</td>\n      <td>NaN</td>\n    </tr>\n    <tr>\n      <th>6</th>\n      <td>7</td>\n      <td>0</td>\n      <td>0</td>\n      <td>NaN</td>\n      <td>2010</td>\n      <td>$9,254,614</td>\n      <td>0.0</td>\n      <td>3005116</td>\n      <td>NaN</td>\n    </tr>\n    <tr>\n      <th>7</th>\n      <td>8</td>\n      <td>0</td>\n      <td>0</td>\n      <td>0.0</td>\n      <td>2009</td>\n      <td>$9,451,943</td>\n      <td>0.0</td>\n      <td>5573830</td>\n      <td>4%</td>\n    </tr>\n    <tr>\n      <th>8</th>\n      <td>9</td>\n      <td>0</td>\n      <td>0</td>\n      <td>0.0</td>\n      <td>2011</td>\n      <td>$14,001,180</td>\n      <td>NaN</td>\n      <td>11901180</td>\n      <td>18%</td>\n    </tr>\n    <tr>\n      <th>9</th>\n      <td>10</td>\n      <td>0</td>\n      <td>0</td>\n      <td>0.0</td>\n      <td>2011</td>\n      <td>$11,088,336</td>\n      <td>0.0</td>\n      <td>5453060</td>\n      <td>7%</td>\n    </tr>\n  </tbody>\n</table>\n</div>"
          },
          "metadata": {}
        }
      ]
    },
    {
      "cell_type": "code",
      "source": "#if u wanna replace in one column\ndf.replace({'Industry':'[A-Za-z]'},0,regex=True)",
      "metadata": {
        "trusted": true
      },
      "execution_count": 23,
      "outputs": [
        {
          "execution_count": 23,
          "output_type": "execute_result",
          "data": {
            "text/plain": "   ID Date             Name  Industry  Inception       Revenue  \\\n0   1  Yes          Lamtone       0.0       2009  $11,757,018    \n1   2  Yes        Stripfind       0.0       2010  $12,329,371    \n2   3   No  Canecorporation       0.0       2012  $10,597,009    \n3   4  Yes         Mattouch       0.0       2013  $14,026,934    \n4   5   No        Techdrill       NaN       2009  $10,573,990    \n5   6  Yes         Techline       NaN       2006  $13,898,119    \n6   7  Yes          Cityace       NaN       2010   $9,254,614    \n7   8   No   Kayelectronics       0.0       2009   $9,451,943    \n8   9  Yes          Ganzlax       0.0       2011  $14,001,180    \n9  10   No      Trantraxlax       0.0       2011  $11,088,336    \n\n            Expenses    Profit Growth  \n0  6,482,465 Dollars   5274553    30%  \n1    916,455 Dollars  11412916    20%  \n2  7,591,189 Dollars   3005820     7%  \n3  7,429,377 Dollars   6597557     7%  \n4  7,435,363 Dollars   3138627    NaN  \n5  5,470,303 Dollars   8427816    NaN  \n6  6,249,498 Dollars   3005116    NaN  \n7  3,878,113 Dollars   5573830     4%  \n8                NaN  11901180    18%  \n9  5,635,276 Dollars   5453060     7%  ",
            "text/html": "<div>\n<style scoped>\n    .dataframe tbody tr th:only-of-type {\n        vertical-align: middle;\n    }\n\n    .dataframe tbody tr th {\n        vertical-align: top;\n    }\n\n    .dataframe thead th {\n        text-align: right;\n    }\n</style>\n<table border=\"1\" class=\"dataframe\">\n  <thead>\n    <tr style=\"text-align: right;\">\n      <th></th>\n      <th>ID</th>\n      <th>Date</th>\n      <th>Name</th>\n      <th>Industry</th>\n      <th>Inception</th>\n      <th>Revenue</th>\n      <th>Expenses</th>\n      <th>Profit</th>\n      <th>Growth</th>\n    </tr>\n  </thead>\n  <tbody>\n    <tr>\n      <th>0</th>\n      <td>1</td>\n      <td>Yes</td>\n      <td>Lamtone</td>\n      <td>0.0</td>\n      <td>2009</td>\n      <td>$11,757,018</td>\n      <td>6,482,465 Dollars</td>\n      <td>5274553</td>\n      <td>30%</td>\n    </tr>\n    <tr>\n      <th>1</th>\n      <td>2</td>\n      <td>Yes</td>\n      <td>Stripfind</td>\n      <td>0.0</td>\n      <td>2010</td>\n      <td>$12,329,371</td>\n      <td>916,455 Dollars</td>\n      <td>11412916</td>\n      <td>20%</td>\n    </tr>\n    <tr>\n      <th>2</th>\n      <td>3</td>\n      <td>No</td>\n      <td>Canecorporation</td>\n      <td>0.0</td>\n      <td>2012</td>\n      <td>$10,597,009</td>\n      <td>7,591,189 Dollars</td>\n      <td>3005820</td>\n      <td>7%</td>\n    </tr>\n    <tr>\n      <th>3</th>\n      <td>4</td>\n      <td>Yes</td>\n      <td>Mattouch</td>\n      <td>0.0</td>\n      <td>2013</td>\n      <td>$14,026,934</td>\n      <td>7,429,377 Dollars</td>\n      <td>6597557</td>\n      <td>7%</td>\n    </tr>\n    <tr>\n      <th>4</th>\n      <td>5</td>\n      <td>No</td>\n      <td>Techdrill</td>\n      <td>NaN</td>\n      <td>2009</td>\n      <td>$10,573,990</td>\n      <td>7,435,363 Dollars</td>\n      <td>3138627</td>\n      <td>NaN</td>\n    </tr>\n    <tr>\n      <th>5</th>\n      <td>6</td>\n      <td>Yes</td>\n      <td>Techline</td>\n      <td>NaN</td>\n      <td>2006</td>\n      <td>$13,898,119</td>\n      <td>5,470,303 Dollars</td>\n      <td>8427816</td>\n      <td>NaN</td>\n    </tr>\n    <tr>\n      <th>6</th>\n      <td>7</td>\n      <td>Yes</td>\n      <td>Cityace</td>\n      <td>NaN</td>\n      <td>2010</td>\n      <td>$9,254,614</td>\n      <td>6,249,498 Dollars</td>\n      <td>3005116</td>\n      <td>NaN</td>\n    </tr>\n    <tr>\n      <th>7</th>\n      <td>8</td>\n      <td>No</td>\n      <td>Kayelectronics</td>\n      <td>0.0</td>\n      <td>2009</td>\n      <td>$9,451,943</td>\n      <td>3,878,113 Dollars</td>\n      <td>5573830</td>\n      <td>4%</td>\n    </tr>\n    <tr>\n      <th>8</th>\n      <td>9</td>\n      <td>Yes</td>\n      <td>Ganzlax</td>\n      <td>0.0</td>\n      <td>2011</td>\n      <td>$14,001,180</td>\n      <td>NaN</td>\n      <td>11901180</td>\n      <td>18%</td>\n    </tr>\n    <tr>\n      <th>9</th>\n      <td>10</td>\n      <td>No</td>\n      <td>Trantraxlax</td>\n      <td>0.0</td>\n      <td>2011</td>\n      <td>$11,088,336</td>\n      <td>5,635,276 Dollars</td>\n      <td>5453060</td>\n      <td>7%</td>\n    </tr>\n  </tbody>\n</table>\n</div>"
          },
          "metadata": {}
        }
      ]
    },
    {
      "cell_type": "code",
      "source": "#method parameter i.e pad,ffill,bfill\n#with method u should give to_replace value\ndf.replace('Health',method='ffill')",
      "metadata": {
        "trusted": true
      },
      "execution_count": 25,
      "outputs": [
        {
          "execution_count": 25,
          "output_type": "execute_result",
          "data": {
            "text/plain": "   ID Date             Name             Industry  Inception       Revenue  \\\n0   1  Yes          Lamtone          IT Services       2009  $11,757,018    \n1   2  Yes        Stripfind   Financial Services       2010  $12,329,371    \n2   3   No  Canecorporation   Financial Services       2012  $10,597,009    \n3   4  Yes         Mattouch          IT Services       2013  $14,026,934    \n4   5   No        Techdrill                  NaN       2009  $10,573,990    \n5   6  Yes         Techline                  NaN       2006  $13,898,119    \n6   7  Yes          Cityace                  NaN       2010   $9,254,614    \n7   8   No   Kayelectronics          IT Services       2009   $9,451,943    \n8   9  Yes          Ganzlax          IT Services       2011  $14,001,180    \n9  10   No      Trantraxlax  Government Services       2011  $11,088,336    \n\n            Expenses    Profit Growth  \n0  6,482,465 Dollars   5274553    30%  \n1    916,455 Dollars  11412916    20%  \n2  7,591,189 Dollars   3005820     7%  \n3  7,429,377 Dollars   6597557     7%  \n4  7,435,363 Dollars   3138627    NaN  \n5  5,470,303 Dollars   8427816    NaN  \n6  6,249,498 Dollars   3005116    NaN  \n7  3,878,113 Dollars   5573830     4%  \n8                NaN  11901180    18%  \n9  5,635,276 Dollars   5453060     7%  ",
            "text/html": "<div>\n<style scoped>\n    .dataframe tbody tr th:only-of-type {\n        vertical-align: middle;\n    }\n\n    .dataframe tbody tr th {\n        vertical-align: top;\n    }\n\n    .dataframe thead th {\n        text-align: right;\n    }\n</style>\n<table border=\"1\" class=\"dataframe\">\n  <thead>\n    <tr style=\"text-align: right;\">\n      <th></th>\n      <th>ID</th>\n      <th>Date</th>\n      <th>Name</th>\n      <th>Industry</th>\n      <th>Inception</th>\n      <th>Revenue</th>\n      <th>Expenses</th>\n      <th>Profit</th>\n      <th>Growth</th>\n    </tr>\n  </thead>\n  <tbody>\n    <tr>\n      <th>0</th>\n      <td>1</td>\n      <td>Yes</td>\n      <td>Lamtone</td>\n      <td>IT Services</td>\n      <td>2009</td>\n      <td>$11,757,018</td>\n      <td>6,482,465 Dollars</td>\n      <td>5274553</td>\n      <td>30%</td>\n    </tr>\n    <tr>\n      <th>1</th>\n      <td>2</td>\n      <td>Yes</td>\n      <td>Stripfind</td>\n      <td>Financial Services</td>\n      <td>2010</td>\n      <td>$12,329,371</td>\n      <td>916,455 Dollars</td>\n      <td>11412916</td>\n      <td>20%</td>\n    </tr>\n    <tr>\n      <th>2</th>\n      <td>3</td>\n      <td>No</td>\n      <td>Canecorporation</td>\n      <td>Financial Services</td>\n      <td>2012</td>\n      <td>$10,597,009</td>\n      <td>7,591,189 Dollars</td>\n      <td>3005820</td>\n      <td>7%</td>\n    </tr>\n    <tr>\n      <th>3</th>\n      <td>4</td>\n      <td>Yes</td>\n      <td>Mattouch</td>\n      <td>IT Services</td>\n      <td>2013</td>\n      <td>$14,026,934</td>\n      <td>7,429,377 Dollars</td>\n      <td>6597557</td>\n      <td>7%</td>\n    </tr>\n    <tr>\n      <th>4</th>\n      <td>5</td>\n      <td>No</td>\n      <td>Techdrill</td>\n      <td>NaN</td>\n      <td>2009</td>\n      <td>$10,573,990</td>\n      <td>7,435,363 Dollars</td>\n      <td>3138627</td>\n      <td>NaN</td>\n    </tr>\n    <tr>\n      <th>5</th>\n      <td>6</td>\n      <td>Yes</td>\n      <td>Techline</td>\n      <td>NaN</td>\n      <td>2006</td>\n      <td>$13,898,119</td>\n      <td>5,470,303 Dollars</td>\n      <td>8427816</td>\n      <td>NaN</td>\n    </tr>\n    <tr>\n      <th>6</th>\n      <td>7</td>\n      <td>Yes</td>\n      <td>Cityace</td>\n      <td>NaN</td>\n      <td>2010</td>\n      <td>$9,254,614</td>\n      <td>6,249,498 Dollars</td>\n      <td>3005116</td>\n      <td>NaN</td>\n    </tr>\n    <tr>\n      <th>7</th>\n      <td>8</td>\n      <td>No</td>\n      <td>Kayelectronics</td>\n      <td>IT Services</td>\n      <td>2009</td>\n      <td>$9,451,943</td>\n      <td>3,878,113 Dollars</td>\n      <td>5573830</td>\n      <td>4%</td>\n    </tr>\n    <tr>\n      <th>8</th>\n      <td>9</td>\n      <td>Yes</td>\n      <td>Ganzlax</td>\n      <td>IT Services</td>\n      <td>2011</td>\n      <td>$14,001,180</td>\n      <td>NaN</td>\n      <td>11901180</td>\n      <td>18%</td>\n    </tr>\n    <tr>\n      <th>9</th>\n      <td>10</td>\n      <td>No</td>\n      <td>Trantraxlax</td>\n      <td>Government Services</td>\n      <td>2011</td>\n      <td>$11,088,336</td>\n      <td>5,635,276 Dollars</td>\n      <td>5453060</td>\n      <td>7%</td>\n    </tr>\n  </tbody>\n</table>\n</div>"
          },
          "metadata": {}
        }
      ]
    },
    {
      "cell_type": "code",
      "source": "df.replace('Health',method='bfill')",
      "metadata": {
        "trusted": true
      },
      "execution_count": 26,
      "outputs": [
        {
          "execution_count": 26,
          "output_type": "execute_result",
          "data": {
            "text/plain": "   ID Date             Name             Industry  Inception       Revenue  \\\n0   1  Yes          Lamtone          IT Services       2009  $11,757,018    \n1   2  Yes        Stripfind   Financial Services       2010  $12,329,371    \n2   3   No  Canecorporation          IT Services       2012  $10,597,009    \n3   4  Yes         Mattouch          IT Services       2013  $14,026,934    \n4   5   No        Techdrill                  NaN       2009  $10,573,990    \n5   6  Yes         Techline                  NaN       2006  $13,898,119    \n6   7  Yes          Cityace                  NaN       2010   $9,254,614    \n7   8   No   Kayelectronics          IT Services       2009   $9,451,943    \n8   9  Yes          Ganzlax          IT Services       2011  $14,001,180    \n9  10   No      Trantraxlax  Government Services       2011  $11,088,336    \n\n            Expenses    Profit Growth  \n0  6,482,465 Dollars   5274553    30%  \n1    916,455 Dollars  11412916    20%  \n2  7,591,189 Dollars   3005820     7%  \n3  7,429,377 Dollars   6597557     7%  \n4  7,435,363 Dollars   3138627    NaN  \n5  5,470,303 Dollars   8427816    NaN  \n6  6,249,498 Dollars   3005116    NaN  \n7  3,878,113 Dollars   5573830     4%  \n8                NaN  11901180    18%  \n9  5,635,276 Dollars   5453060     7%  ",
            "text/html": "<div>\n<style scoped>\n    .dataframe tbody tr th:only-of-type {\n        vertical-align: middle;\n    }\n\n    .dataframe tbody tr th {\n        vertical-align: top;\n    }\n\n    .dataframe thead th {\n        text-align: right;\n    }\n</style>\n<table border=\"1\" class=\"dataframe\">\n  <thead>\n    <tr style=\"text-align: right;\">\n      <th></th>\n      <th>ID</th>\n      <th>Date</th>\n      <th>Name</th>\n      <th>Industry</th>\n      <th>Inception</th>\n      <th>Revenue</th>\n      <th>Expenses</th>\n      <th>Profit</th>\n      <th>Growth</th>\n    </tr>\n  </thead>\n  <tbody>\n    <tr>\n      <th>0</th>\n      <td>1</td>\n      <td>Yes</td>\n      <td>Lamtone</td>\n      <td>IT Services</td>\n      <td>2009</td>\n      <td>$11,757,018</td>\n      <td>6,482,465 Dollars</td>\n      <td>5274553</td>\n      <td>30%</td>\n    </tr>\n    <tr>\n      <th>1</th>\n      <td>2</td>\n      <td>Yes</td>\n      <td>Stripfind</td>\n      <td>Financial Services</td>\n      <td>2010</td>\n      <td>$12,329,371</td>\n      <td>916,455 Dollars</td>\n      <td>11412916</td>\n      <td>20%</td>\n    </tr>\n    <tr>\n      <th>2</th>\n      <td>3</td>\n      <td>No</td>\n      <td>Canecorporation</td>\n      <td>IT Services</td>\n      <td>2012</td>\n      <td>$10,597,009</td>\n      <td>7,591,189 Dollars</td>\n      <td>3005820</td>\n      <td>7%</td>\n    </tr>\n    <tr>\n      <th>3</th>\n      <td>4</td>\n      <td>Yes</td>\n      <td>Mattouch</td>\n      <td>IT Services</td>\n      <td>2013</td>\n      <td>$14,026,934</td>\n      <td>7,429,377 Dollars</td>\n      <td>6597557</td>\n      <td>7%</td>\n    </tr>\n    <tr>\n      <th>4</th>\n      <td>5</td>\n      <td>No</td>\n      <td>Techdrill</td>\n      <td>NaN</td>\n      <td>2009</td>\n      <td>$10,573,990</td>\n      <td>7,435,363 Dollars</td>\n      <td>3138627</td>\n      <td>NaN</td>\n    </tr>\n    <tr>\n      <th>5</th>\n      <td>6</td>\n      <td>Yes</td>\n      <td>Techline</td>\n      <td>NaN</td>\n      <td>2006</td>\n      <td>$13,898,119</td>\n      <td>5,470,303 Dollars</td>\n      <td>8427816</td>\n      <td>NaN</td>\n    </tr>\n    <tr>\n      <th>6</th>\n      <td>7</td>\n      <td>Yes</td>\n      <td>Cityace</td>\n      <td>NaN</td>\n      <td>2010</td>\n      <td>$9,254,614</td>\n      <td>6,249,498 Dollars</td>\n      <td>3005116</td>\n      <td>NaN</td>\n    </tr>\n    <tr>\n      <th>7</th>\n      <td>8</td>\n      <td>No</td>\n      <td>Kayelectronics</td>\n      <td>IT Services</td>\n      <td>2009</td>\n      <td>$9,451,943</td>\n      <td>3,878,113 Dollars</td>\n      <td>5573830</td>\n      <td>4%</td>\n    </tr>\n    <tr>\n      <th>8</th>\n      <td>9</td>\n      <td>Yes</td>\n      <td>Ganzlax</td>\n      <td>IT Services</td>\n      <td>2011</td>\n      <td>$14,001,180</td>\n      <td>NaN</td>\n      <td>11901180</td>\n      <td>18%</td>\n    </tr>\n    <tr>\n      <th>9</th>\n      <td>10</td>\n      <td>No</td>\n      <td>Trantraxlax</td>\n      <td>Government Services</td>\n      <td>2011</td>\n      <td>$11,088,336</td>\n      <td>5,635,276 Dollars</td>\n      <td>5453060</td>\n      <td>7%</td>\n    </tr>\n  </tbody>\n</table>\n</div>"
          },
          "metadata": {}
        }
      ]
    },
    {
      "cell_type": "code",
      "source": "#limit how many values replace\ndf.replace('IT Services',method='bfill',limit=1)",
      "metadata": {
        "trusted": true
      },
      "execution_count": 28,
      "outputs": [
        {
          "execution_count": 28,
          "output_type": "execute_result",
          "data": {
            "text/plain": "   ID Date             Name             Industry  Inception       Revenue  \\\n0   1  Yes          Lamtone   Financial Services       2009  $11,757,018    \n1   2  Yes        Stripfind   Financial Services       2010  $12,329,371    \n2   3   No  Canecorporation               Health       2012  $10,597,009    \n3   4  Yes         Mattouch                  NaN       2013  $14,026,934    \n4   5   No        Techdrill                  NaN       2009  $10,573,990    \n5   6  Yes         Techline                  NaN       2006  $13,898,119    \n6   7  Yes          Cityace                  NaN       2010   $9,254,614    \n7   8   No   Kayelectronics          IT Services       2009   $9,451,943    \n8   9  Yes          Ganzlax  Government Services       2011  $14,001,180    \n9  10   No      Trantraxlax  Government Services       2011  $11,088,336    \n\n            Expenses    Profit Growth  \n0  6,482,465 Dollars   5274553    30%  \n1    916,455 Dollars  11412916    20%  \n2  7,591,189 Dollars   3005820     7%  \n3  7,429,377 Dollars   6597557     7%  \n4  7,435,363 Dollars   3138627    NaN  \n5  5,470,303 Dollars   8427816    NaN  \n6  6,249,498 Dollars   3005116    NaN  \n7  3,878,113 Dollars   5573830     4%  \n8                NaN  11901180    18%  \n9  5,635,276 Dollars   5453060     7%  ",
            "text/html": "<div>\n<style scoped>\n    .dataframe tbody tr th:only-of-type {\n        vertical-align: middle;\n    }\n\n    .dataframe tbody tr th {\n        vertical-align: top;\n    }\n\n    .dataframe thead th {\n        text-align: right;\n    }\n</style>\n<table border=\"1\" class=\"dataframe\">\n  <thead>\n    <tr style=\"text-align: right;\">\n      <th></th>\n      <th>ID</th>\n      <th>Date</th>\n      <th>Name</th>\n      <th>Industry</th>\n      <th>Inception</th>\n      <th>Revenue</th>\n      <th>Expenses</th>\n      <th>Profit</th>\n      <th>Growth</th>\n    </tr>\n  </thead>\n  <tbody>\n    <tr>\n      <th>0</th>\n      <td>1</td>\n      <td>Yes</td>\n      <td>Lamtone</td>\n      <td>Financial Services</td>\n      <td>2009</td>\n      <td>$11,757,018</td>\n      <td>6,482,465 Dollars</td>\n      <td>5274553</td>\n      <td>30%</td>\n    </tr>\n    <tr>\n      <th>1</th>\n      <td>2</td>\n      <td>Yes</td>\n      <td>Stripfind</td>\n      <td>Financial Services</td>\n      <td>2010</td>\n      <td>$12,329,371</td>\n      <td>916,455 Dollars</td>\n      <td>11412916</td>\n      <td>20%</td>\n    </tr>\n    <tr>\n      <th>2</th>\n      <td>3</td>\n      <td>No</td>\n      <td>Canecorporation</td>\n      <td>Health</td>\n      <td>2012</td>\n      <td>$10,597,009</td>\n      <td>7,591,189 Dollars</td>\n      <td>3005820</td>\n      <td>7%</td>\n    </tr>\n    <tr>\n      <th>3</th>\n      <td>4</td>\n      <td>Yes</td>\n      <td>Mattouch</td>\n      <td>NaN</td>\n      <td>2013</td>\n      <td>$14,026,934</td>\n      <td>7,429,377 Dollars</td>\n      <td>6597557</td>\n      <td>7%</td>\n    </tr>\n    <tr>\n      <th>4</th>\n      <td>5</td>\n      <td>No</td>\n      <td>Techdrill</td>\n      <td>NaN</td>\n      <td>2009</td>\n      <td>$10,573,990</td>\n      <td>7,435,363 Dollars</td>\n      <td>3138627</td>\n      <td>NaN</td>\n    </tr>\n    <tr>\n      <th>5</th>\n      <td>6</td>\n      <td>Yes</td>\n      <td>Techline</td>\n      <td>NaN</td>\n      <td>2006</td>\n      <td>$13,898,119</td>\n      <td>5,470,303 Dollars</td>\n      <td>8427816</td>\n      <td>NaN</td>\n    </tr>\n    <tr>\n      <th>6</th>\n      <td>7</td>\n      <td>Yes</td>\n      <td>Cityace</td>\n      <td>NaN</td>\n      <td>2010</td>\n      <td>$9,254,614</td>\n      <td>6,249,498 Dollars</td>\n      <td>3005116</td>\n      <td>NaN</td>\n    </tr>\n    <tr>\n      <th>7</th>\n      <td>8</td>\n      <td>No</td>\n      <td>Kayelectronics</td>\n      <td>IT Services</td>\n      <td>2009</td>\n      <td>$9,451,943</td>\n      <td>3,878,113 Dollars</td>\n      <td>5573830</td>\n      <td>4%</td>\n    </tr>\n    <tr>\n      <th>8</th>\n      <td>9</td>\n      <td>Yes</td>\n      <td>Ganzlax</td>\n      <td>Government Services</td>\n      <td>2011</td>\n      <td>$14,001,180</td>\n      <td>NaN</td>\n      <td>11901180</td>\n      <td>18%</td>\n    </tr>\n    <tr>\n      <th>9</th>\n      <td>10</td>\n      <td>No</td>\n      <td>Trantraxlax</td>\n      <td>Government Services</td>\n      <td>2011</td>\n      <td>$11,088,336</td>\n      <td>5,635,276 Dollars</td>\n      <td>5453060</td>\n      <td>7%</td>\n    </tr>\n  </tbody>\n</table>\n</div>"
          },
          "metadata": {}
        }
      ]
    },
    {
      "cell_type": "code",
      "source": "df.replace('IT Services',method='bfill',limit=2)",
      "metadata": {
        "trusted": true
      },
      "execution_count": 29,
      "outputs": [
        {
          "execution_count": 29,
          "output_type": "execute_result",
          "data": {
            "text/plain": "   ID Date             Name             Industry  Inception       Revenue  \\\n0   1  Yes          Lamtone   Financial Services       2009  $11,757,018    \n1   2  Yes        Stripfind   Financial Services       2010  $12,329,371    \n2   3   No  Canecorporation               Health       2012  $10,597,009    \n3   4  Yes         Mattouch                  NaN       2013  $14,026,934    \n4   5   No        Techdrill                  NaN       2009  $10,573,990    \n5   6  Yes         Techline                  NaN       2006  $13,898,119    \n6   7  Yes          Cityace                  NaN       2010   $9,254,614    \n7   8   No   Kayelectronics  Government Services       2009   $9,451,943    \n8   9  Yes          Ganzlax  Government Services       2011  $14,001,180    \n9  10   No      Trantraxlax  Government Services       2011  $11,088,336    \n\n            Expenses    Profit Growth  \n0  6,482,465 Dollars   5274553    30%  \n1    916,455 Dollars  11412916    20%  \n2  7,591,189 Dollars   3005820     7%  \n3  7,429,377 Dollars   6597557     7%  \n4  7,435,363 Dollars   3138627    NaN  \n5  5,470,303 Dollars   8427816    NaN  \n6  6,249,498 Dollars   3005116    NaN  \n7  3,878,113 Dollars   5573830     4%  \n8                NaN  11901180    18%  \n9  5,635,276 Dollars   5453060     7%  ",
            "text/html": "<div>\n<style scoped>\n    .dataframe tbody tr th:only-of-type {\n        vertical-align: middle;\n    }\n\n    .dataframe tbody tr th {\n        vertical-align: top;\n    }\n\n    .dataframe thead th {\n        text-align: right;\n    }\n</style>\n<table border=\"1\" class=\"dataframe\">\n  <thead>\n    <tr style=\"text-align: right;\">\n      <th></th>\n      <th>ID</th>\n      <th>Date</th>\n      <th>Name</th>\n      <th>Industry</th>\n      <th>Inception</th>\n      <th>Revenue</th>\n      <th>Expenses</th>\n      <th>Profit</th>\n      <th>Growth</th>\n    </tr>\n  </thead>\n  <tbody>\n    <tr>\n      <th>0</th>\n      <td>1</td>\n      <td>Yes</td>\n      <td>Lamtone</td>\n      <td>Financial Services</td>\n      <td>2009</td>\n      <td>$11,757,018</td>\n      <td>6,482,465 Dollars</td>\n      <td>5274553</td>\n      <td>30%</td>\n    </tr>\n    <tr>\n      <th>1</th>\n      <td>2</td>\n      <td>Yes</td>\n      <td>Stripfind</td>\n      <td>Financial Services</td>\n      <td>2010</td>\n      <td>$12,329,371</td>\n      <td>916,455 Dollars</td>\n      <td>11412916</td>\n      <td>20%</td>\n    </tr>\n    <tr>\n      <th>2</th>\n      <td>3</td>\n      <td>No</td>\n      <td>Canecorporation</td>\n      <td>Health</td>\n      <td>2012</td>\n      <td>$10,597,009</td>\n      <td>7,591,189 Dollars</td>\n      <td>3005820</td>\n      <td>7%</td>\n    </tr>\n    <tr>\n      <th>3</th>\n      <td>4</td>\n      <td>Yes</td>\n      <td>Mattouch</td>\n      <td>NaN</td>\n      <td>2013</td>\n      <td>$14,026,934</td>\n      <td>7,429,377 Dollars</td>\n      <td>6597557</td>\n      <td>7%</td>\n    </tr>\n    <tr>\n      <th>4</th>\n      <td>5</td>\n      <td>No</td>\n      <td>Techdrill</td>\n      <td>NaN</td>\n      <td>2009</td>\n      <td>$10,573,990</td>\n      <td>7,435,363 Dollars</td>\n      <td>3138627</td>\n      <td>NaN</td>\n    </tr>\n    <tr>\n      <th>5</th>\n      <td>6</td>\n      <td>Yes</td>\n      <td>Techline</td>\n      <td>NaN</td>\n      <td>2006</td>\n      <td>$13,898,119</td>\n      <td>5,470,303 Dollars</td>\n      <td>8427816</td>\n      <td>NaN</td>\n    </tr>\n    <tr>\n      <th>6</th>\n      <td>7</td>\n      <td>Yes</td>\n      <td>Cityace</td>\n      <td>NaN</td>\n      <td>2010</td>\n      <td>$9,254,614</td>\n      <td>6,249,498 Dollars</td>\n      <td>3005116</td>\n      <td>NaN</td>\n    </tr>\n    <tr>\n      <th>7</th>\n      <td>8</td>\n      <td>No</td>\n      <td>Kayelectronics</td>\n      <td>Government Services</td>\n      <td>2009</td>\n      <td>$9,451,943</td>\n      <td>3,878,113 Dollars</td>\n      <td>5573830</td>\n      <td>4%</td>\n    </tr>\n    <tr>\n      <th>8</th>\n      <td>9</td>\n      <td>Yes</td>\n      <td>Ganzlax</td>\n      <td>Government Services</td>\n      <td>2011</td>\n      <td>$14,001,180</td>\n      <td>NaN</td>\n      <td>11901180</td>\n      <td>18%</td>\n    </tr>\n    <tr>\n      <th>9</th>\n      <td>10</td>\n      <td>No</td>\n      <td>Trantraxlax</td>\n      <td>Government Services</td>\n      <td>2011</td>\n      <td>$11,088,336</td>\n      <td>5,635,276 Dollars</td>\n      <td>5453060</td>\n      <td>7%</td>\n    </tr>\n  </tbody>\n</table>\n</div>"
          },
          "metadata": {}
        }
      ]
    },
    {
      "cell_type": "code",
      "source": "#For above 2 u can see the difference in industry col",
      "metadata": {
        "trusted": true
      },
      "execution_count": 30,
      "outputs": []
    },
    {
      "cell_type": "code",
      "source": "df",
      "metadata": {
        "trusted": true
      },
      "execution_count": 31,
      "outputs": [
        {
          "execution_count": 31,
          "output_type": "execute_result",
          "data": {
            "text/plain": "   ID Date             Name             Industry  Inception       Revenue  \\\n0   1  Yes          Lamtone          IT Services       2009  $11,757,018    \n1   2  Yes        Stripfind   Financial Services       2010  $12,329,371    \n2   3   No  Canecorporation               Health       2012  $10,597,009    \n3   4  Yes         Mattouch          IT Services       2013  $14,026,934    \n4   5   No        Techdrill                  NaN       2009  $10,573,990    \n5   6  Yes         Techline                  NaN       2006  $13,898,119    \n6   7  Yes          Cityace                  NaN       2010   $9,254,614    \n7   8   No   Kayelectronics          IT Services       2009   $9,451,943    \n8   9  Yes          Ganzlax          IT Services       2011  $14,001,180    \n9  10   No      Trantraxlax  Government Services       2011  $11,088,336    \n\n            Expenses    Profit Growth  \n0  6,482,465 Dollars   5274553    30%  \n1    916,455 Dollars  11412916    20%  \n2  7,591,189 Dollars   3005820     7%  \n3  7,429,377 Dollars   6597557     7%  \n4  7,435,363 Dollars   3138627    NaN  \n5  5,470,303 Dollars   8427816    NaN  \n6  6,249,498 Dollars   3005116    NaN  \n7  3,878,113 Dollars   5573830     4%  \n8                NaN  11901180    18%  \n9  5,635,276 Dollars   5453060     7%  ",
            "text/html": "<div>\n<style scoped>\n    .dataframe tbody tr th:only-of-type {\n        vertical-align: middle;\n    }\n\n    .dataframe tbody tr th {\n        vertical-align: top;\n    }\n\n    .dataframe thead th {\n        text-align: right;\n    }\n</style>\n<table border=\"1\" class=\"dataframe\">\n  <thead>\n    <tr style=\"text-align: right;\">\n      <th></th>\n      <th>ID</th>\n      <th>Date</th>\n      <th>Name</th>\n      <th>Industry</th>\n      <th>Inception</th>\n      <th>Revenue</th>\n      <th>Expenses</th>\n      <th>Profit</th>\n      <th>Growth</th>\n    </tr>\n  </thead>\n  <tbody>\n    <tr>\n      <th>0</th>\n      <td>1</td>\n      <td>Yes</td>\n      <td>Lamtone</td>\n      <td>IT Services</td>\n      <td>2009</td>\n      <td>$11,757,018</td>\n      <td>6,482,465 Dollars</td>\n      <td>5274553</td>\n      <td>30%</td>\n    </tr>\n    <tr>\n      <th>1</th>\n      <td>2</td>\n      <td>Yes</td>\n      <td>Stripfind</td>\n      <td>Financial Services</td>\n      <td>2010</td>\n      <td>$12,329,371</td>\n      <td>916,455 Dollars</td>\n      <td>11412916</td>\n      <td>20%</td>\n    </tr>\n    <tr>\n      <th>2</th>\n      <td>3</td>\n      <td>No</td>\n      <td>Canecorporation</td>\n      <td>Health</td>\n      <td>2012</td>\n      <td>$10,597,009</td>\n      <td>7,591,189 Dollars</td>\n      <td>3005820</td>\n      <td>7%</td>\n    </tr>\n    <tr>\n      <th>3</th>\n      <td>4</td>\n      <td>Yes</td>\n      <td>Mattouch</td>\n      <td>IT Services</td>\n      <td>2013</td>\n      <td>$14,026,934</td>\n      <td>7,429,377 Dollars</td>\n      <td>6597557</td>\n      <td>7%</td>\n    </tr>\n    <tr>\n      <th>4</th>\n      <td>5</td>\n      <td>No</td>\n      <td>Techdrill</td>\n      <td>NaN</td>\n      <td>2009</td>\n      <td>$10,573,990</td>\n      <td>7,435,363 Dollars</td>\n      <td>3138627</td>\n      <td>NaN</td>\n    </tr>\n    <tr>\n      <th>5</th>\n      <td>6</td>\n      <td>Yes</td>\n      <td>Techline</td>\n      <td>NaN</td>\n      <td>2006</td>\n      <td>$13,898,119</td>\n      <td>5,470,303 Dollars</td>\n      <td>8427816</td>\n      <td>NaN</td>\n    </tr>\n    <tr>\n      <th>6</th>\n      <td>7</td>\n      <td>Yes</td>\n      <td>Cityace</td>\n      <td>NaN</td>\n      <td>2010</td>\n      <td>$9,254,614</td>\n      <td>6,249,498 Dollars</td>\n      <td>3005116</td>\n      <td>NaN</td>\n    </tr>\n    <tr>\n      <th>7</th>\n      <td>8</td>\n      <td>No</td>\n      <td>Kayelectronics</td>\n      <td>IT Services</td>\n      <td>2009</td>\n      <td>$9,451,943</td>\n      <td>3,878,113 Dollars</td>\n      <td>5573830</td>\n      <td>4%</td>\n    </tr>\n    <tr>\n      <th>8</th>\n      <td>9</td>\n      <td>Yes</td>\n      <td>Ganzlax</td>\n      <td>IT Services</td>\n      <td>2011</td>\n      <td>$14,001,180</td>\n      <td>NaN</td>\n      <td>11901180</td>\n      <td>18%</td>\n    </tr>\n    <tr>\n      <th>9</th>\n      <td>10</td>\n      <td>No</td>\n      <td>Trantraxlax</td>\n      <td>Government Services</td>\n      <td>2011</td>\n      <td>$11,088,336</td>\n      <td>5,635,276 Dollars</td>\n      <td>5453060</td>\n      <td>7%</td>\n    </tr>\n  </tbody>\n</table>\n</div>"
          },
          "metadata": {}
        }
      ]
    },
    {
      "cell_type": "code",
      "source": "#when u are using functions it's creating copy of dataframe and when u call it prints original dataframe",
      "metadata": {
        "trusted": true
      },
      "execution_count": 32,
      "outputs": []
    },
    {
      "cell_type": "code",
      "source": "#if u wanna modify it we are using inlace=True",
      "metadata": {
        "trusted": true
      },
      "execution_count": 33,
      "outputs": []
    },
    {
      "cell_type": "code",
      "source": "df.replace(1,100,inplace=True)\ndf",
      "metadata": {
        "trusted": true
      },
      "execution_count": 3,
      "outputs": [
        {
          "execution_count": 3,
          "output_type": "execute_result",
          "data": {
            "text/plain": "    ID Date             Name             Industry  Inception       Revenue  \\\n0  100  Yes          Lamtone          IT Services       2009  $11,757,018    \n1    2  Yes        Stripfind   Financial Services       2010  $12,329,371    \n2    3   No  Canecorporation               Health       2012  $10,597,009    \n3    4  Yes         Mattouch          IT Services       2013  $14,026,934    \n4    5   No        Techdrill                  NaN       2009  $10,573,990    \n5    6  Yes         Techline                  NaN       2006  $13,898,119    \n6    7  Yes          Cityace                  NaN       2010   $9,254,614    \n7    8   No   Kayelectronics          IT Services       2009   $9,451,943    \n8    9  Yes          Ganzlax          IT Services       2011  $14,001,180    \n9   10   No      Trantraxlax  Government Services       2011  $11,088,336    \n\n            Expenses    Profit Growth  \n0  6,482,465 Dollars   5274553    30%  \n1    916,455 Dollars  11412916    20%  \n2  7,591,189 Dollars   3005820     7%  \n3  7,429,377 Dollars   6597557     7%  \n4  7,435,363 Dollars   3138627    NaN  \n5  5,470,303 Dollars   8427816    NaN  \n6  6,249,498 Dollars   3005116    NaN  \n7  3,878,113 Dollars   5573830     4%  \n8                NaN  11901180    18%  \n9  5,635,276 Dollars   5453060     7%  ",
            "text/html": "<div>\n<style scoped>\n    .dataframe tbody tr th:only-of-type {\n        vertical-align: middle;\n    }\n\n    .dataframe tbody tr th {\n        vertical-align: top;\n    }\n\n    .dataframe thead th {\n        text-align: right;\n    }\n</style>\n<table border=\"1\" class=\"dataframe\">\n  <thead>\n    <tr style=\"text-align: right;\">\n      <th></th>\n      <th>ID</th>\n      <th>Date</th>\n      <th>Name</th>\n      <th>Industry</th>\n      <th>Inception</th>\n      <th>Revenue</th>\n      <th>Expenses</th>\n      <th>Profit</th>\n      <th>Growth</th>\n    </tr>\n  </thead>\n  <tbody>\n    <tr>\n      <th>0</th>\n      <td>100</td>\n      <td>Yes</td>\n      <td>Lamtone</td>\n      <td>IT Services</td>\n      <td>2009</td>\n      <td>$11,757,018</td>\n      <td>6,482,465 Dollars</td>\n      <td>5274553</td>\n      <td>30%</td>\n    </tr>\n    <tr>\n      <th>1</th>\n      <td>2</td>\n      <td>Yes</td>\n      <td>Stripfind</td>\n      <td>Financial Services</td>\n      <td>2010</td>\n      <td>$12,329,371</td>\n      <td>916,455 Dollars</td>\n      <td>11412916</td>\n      <td>20%</td>\n    </tr>\n    <tr>\n      <th>2</th>\n      <td>3</td>\n      <td>No</td>\n      <td>Canecorporation</td>\n      <td>Health</td>\n      <td>2012</td>\n      <td>$10,597,009</td>\n      <td>7,591,189 Dollars</td>\n      <td>3005820</td>\n      <td>7%</td>\n    </tr>\n    <tr>\n      <th>3</th>\n      <td>4</td>\n      <td>Yes</td>\n      <td>Mattouch</td>\n      <td>IT Services</td>\n      <td>2013</td>\n      <td>$14,026,934</td>\n      <td>7,429,377 Dollars</td>\n      <td>6597557</td>\n      <td>7%</td>\n    </tr>\n    <tr>\n      <th>4</th>\n      <td>5</td>\n      <td>No</td>\n      <td>Techdrill</td>\n      <td>NaN</td>\n      <td>2009</td>\n      <td>$10,573,990</td>\n      <td>7,435,363 Dollars</td>\n      <td>3138627</td>\n      <td>NaN</td>\n    </tr>\n    <tr>\n      <th>5</th>\n      <td>6</td>\n      <td>Yes</td>\n      <td>Techline</td>\n      <td>NaN</td>\n      <td>2006</td>\n      <td>$13,898,119</td>\n      <td>5,470,303 Dollars</td>\n      <td>8427816</td>\n      <td>NaN</td>\n    </tr>\n    <tr>\n      <th>6</th>\n      <td>7</td>\n      <td>Yes</td>\n      <td>Cityace</td>\n      <td>NaN</td>\n      <td>2010</td>\n      <td>$9,254,614</td>\n      <td>6,249,498 Dollars</td>\n      <td>3005116</td>\n      <td>NaN</td>\n    </tr>\n    <tr>\n      <th>7</th>\n      <td>8</td>\n      <td>No</td>\n      <td>Kayelectronics</td>\n      <td>IT Services</td>\n      <td>2009</td>\n      <td>$9,451,943</td>\n      <td>3,878,113 Dollars</td>\n      <td>5573830</td>\n      <td>4%</td>\n    </tr>\n    <tr>\n      <th>8</th>\n      <td>9</td>\n      <td>Yes</td>\n      <td>Ganzlax</td>\n      <td>IT Services</td>\n      <td>2011</td>\n      <td>$14,001,180</td>\n      <td>NaN</td>\n      <td>11901180</td>\n      <td>18%</td>\n    </tr>\n    <tr>\n      <th>9</th>\n      <td>10</td>\n      <td>No</td>\n      <td>Trantraxlax</td>\n      <td>Government Services</td>\n      <td>2011</td>\n      <td>$11,088,336</td>\n      <td>5,635,276 Dollars</td>\n      <td>5453060</td>\n      <td>7%</td>\n    </tr>\n  </tbody>\n</table>\n</div>"
          },
          "metadata": {}
        }
      ]
    },
    {
      "cell_type": "code",
      "source": "#*******************PART 13************************",
      "metadata": {
        "trusted": true
      },
      "execution_count": 4,
      "outputs": []
    },
    {
      "cell_type": "code",
      "source": "#interpolate ****Pandas Interpolate function is basically used to fill NaN values in dataframe or series***",
      "metadata": {
        "trusted": true
      },
      "execution_count": 6,
      "outputs": []
    },
    {
      "cell_type": "code",
      "source": "#before this we used fillna function to fill Nan values",
      "metadata": {
        "trusted": true
      },
      "execution_count": 7,
      "outputs": []
    },
    {
      "cell_type": "code",
      "source": "#but this function is very powerful than fillna",
      "metadata": {
        "trusted": true
      },
      "execution_count": 8,
      "outputs": []
    },
    {
      "cell_type": "code",
      "source": "import pandas as pd",
      "metadata": {
        "trusted": true
      },
      "execution_count": 2,
      "outputs": []
    },
    {
      "cell_type": "code",
      "source": "df=pd.read_csv('student_10.csv')\ndf",
      "metadata": {
        "trusted": true
      },
      "execution_count": 3,
      "outputs": [
        {
          "execution_count": 3,
          "output_type": "execute_result",
          "data": {
            "text/plain": "         Date  Student ID  Class Section  Study hrs  Percentage\n0  01-07-2019      1001.0     10       A        2.0        50.0\n1  02-07-2019      1002.0     10     NaN        NaN        80.0\n2  03-07-2019         NaN     10     NaN        3.0        60.0\n3  06-07-2019         NaN     11     NaN        0.0         NaN\n4  07-07-2019      1005.0     11       A        4.0         NaN\n5  08-07-2019         NaN     11       D       10.0         NaN\n6  09-07-2019      1007.0     12       B        4.0        80.0\n7  10-07-2019      1008.0     12       C        NaN        90.0\n8  11-07-2019      1009.0     12       A        NaN        60.0\n9  12-07-2019      1010.0     12       D        6.0        85.0",
            "text/html": "<div>\n<style scoped>\n    .dataframe tbody tr th:only-of-type {\n        vertical-align: middle;\n    }\n\n    .dataframe tbody tr th {\n        vertical-align: top;\n    }\n\n    .dataframe thead th {\n        text-align: right;\n    }\n</style>\n<table border=\"1\" class=\"dataframe\">\n  <thead>\n    <tr style=\"text-align: right;\">\n      <th></th>\n      <th>Date</th>\n      <th>Student ID</th>\n      <th>Class</th>\n      <th>Section</th>\n      <th>Study hrs</th>\n      <th>Percentage</th>\n    </tr>\n  </thead>\n  <tbody>\n    <tr>\n      <th>0</th>\n      <td>01-07-2019</td>\n      <td>1001.0</td>\n      <td>10</td>\n      <td>A</td>\n      <td>2.0</td>\n      <td>50.0</td>\n    </tr>\n    <tr>\n      <th>1</th>\n      <td>02-07-2019</td>\n      <td>1002.0</td>\n      <td>10</td>\n      <td>NaN</td>\n      <td>NaN</td>\n      <td>80.0</td>\n    </tr>\n    <tr>\n      <th>2</th>\n      <td>03-07-2019</td>\n      <td>NaN</td>\n      <td>10</td>\n      <td>NaN</td>\n      <td>3.0</td>\n      <td>60.0</td>\n    </tr>\n    <tr>\n      <th>3</th>\n      <td>06-07-2019</td>\n      <td>NaN</td>\n      <td>11</td>\n      <td>NaN</td>\n      <td>0.0</td>\n      <td>NaN</td>\n    </tr>\n    <tr>\n      <th>4</th>\n      <td>07-07-2019</td>\n      <td>1005.0</td>\n      <td>11</td>\n      <td>A</td>\n      <td>4.0</td>\n      <td>NaN</td>\n    </tr>\n    <tr>\n      <th>5</th>\n      <td>08-07-2019</td>\n      <td>NaN</td>\n      <td>11</td>\n      <td>D</td>\n      <td>10.0</td>\n      <td>NaN</td>\n    </tr>\n    <tr>\n      <th>6</th>\n      <td>09-07-2019</td>\n      <td>1007.0</td>\n      <td>12</td>\n      <td>B</td>\n      <td>4.0</td>\n      <td>80.0</td>\n    </tr>\n    <tr>\n      <th>7</th>\n      <td>10-07-2019</td>\n      <td>1008.0</td>\n      <td>12</td>\n      <td>C</td>\n      <td>NaN</td>\n      <td>90.0</td>\n    </tr>\n    <tr>\n      <th>8</th>\n      <td>11-07-2019</td>\n      <td>1009.0</td>\n      <td>12</td>\n      <td>A</td>\n      <td>NaN</td>\n      <td>60.0</td>\n    </tr>\n    <tr>\n      <th>9</th>\n      <td>12-07-2019</td>\n      <td>1010.0</td>\n      <td>12</td>\n      <td>D</td>\n      <td>6.0</td>\n      <td>85.0</td>\n    </tr>\n  </tbody>\n</table>\n</div>"
          },
          "metadata": {}
        }
      ]
    },
    {
      "cell_type": "code",
      "source": "df.interpolate()",
      "metadata": {
        "trusted": true
      },
      "execution_count": 13,
      "outputs": [
        {
          "execution_count": 13,
          "output_type": "execute_result",
          "data": {
            "text/plain": "         Date  Student ID  Class Section  Study hrs  Percentage\n0  01-07-2019      1001.0     10       A   2.000000        50.0\n1  02-07-2019      1002.0     10     NaN   2.500000        80.0\n2  03-07-2019      1003.0     10     NaN   3.000000        60.0\n3  06-07-2019      1004.0     11     NaN   0.000000        65.0\n4  07-07-2019      1005.0     11       A   4.000000        70.0\n5  08-07-2019      1006.0     11       D  10.000000        75.0\n6  09-07-2019      1007.0     12       B   4.000000        80.0\n7  10-07-2019      1008.0     12       C   4.666667        90.0\n8  11-07-2019      1009.0     12       A   5.333333        60.0\n9  12-07-2019      1010.0     12       D   6.000000        85.0",
            "text/html": "<div>\n<style scoped>\n    .dataframe tbody tr th:only-of-type {\n        vertical-align: middle;\n    }\n\n    .dataframe tbody tr th {\n        vertical-align: top;\n    }\n\n    .dataframe thead th {\n        text-align: right;\n    }\n</style>\n<table border=\"1\" class=\"dataframe\">\n  <thead>\n    <tr style=\"text-align: right;\">\n      <th></th>\n      <th>Date</th>\n      <th>Student ID</th>\n      <th>Class</th>\n      <th>Section</th>\n      <th>Study hrs</th>\n      <th>Percentage</th>\n    </tr>\n  </thead>\n  <tbody>\n    <tr>\n      <th>0</th>\n      <td>01-07-2019</td>\n      <td>1001.0</td>\n      <td>10</td>\n      <td>A</td>\n      <td>2.000000</td>\n      <td>50.0</td>\n    </tr>\n    <tr>\n      <th>1</th>\n      <td>02-07-2019</td>\n      <td>1002.0</td>\n      <td>10</td>\n      <td>NaN</td>\n      <td>2.500000</td>\n      <td>80.0</td>\n    </tr>\n    <tr>\n      <th>2</th>\n      <td>03-07-2019</td>\n      <td>1003.0</td>\n      <td>10</td>\n      <td>NaN</td>\n      <td>3.000000</td>\n      <td>60.0</td>\n    </tr>\n    <tr>\n      <th>3</th>\n      <td>06-07-2019</td>\n      <td>1004.0</td>\n      <td>11</td>\n      <td>NaN</td>\n      <td>0.000000</td>\n      <td>65.0</td>\n    </tr>\n    <tr>\n      <th>4</th>\n      <td>07-07-2019</td>\n      <td>1005.0</td>\n      <td>11</td>\n      <td>A</td>\n      <td>4.000000</td>\n      <td>70.0</td>\n    </tr>\n    <tr>\n      <th>5</th>\n      <td>08-07-2019</td>\n      <td>1006.0</td>\n      <td>11</td>\n      <td>D</td>\n      <td>10.000000</td>\n      <td>75.0</td>\n    </tr>\n    <tr>\n      <th>6</th>\n      <td>09-07-2019</td>\n      <td>1007.0</td>\n      <td>12</td>\n      <td>B</td>\n      <td>4.000000</td>\n      <td>80.0</td>\n    </tr>\n    <tr>\n      <th>7</th>\n      <td>10-07-2019</td>\n      <td>1008.0</td>\n      <td>12</td>\n      <td>C</td>\n      <td>4.666667</td>\n      <td>90.0</td>\n    </tr>\n    <tr>\n      <th>8</th>\n      <td>11-07-2019</td>\n      <td>1009.0</td>\n      <td>12</td>\n      <td>A</td>\n      <td>5.333333</td>\n      <td>60.0</td>\n    </tr>\n    <tr>\n      <th>9</th>\n      <td>12-07-2019</td>\n      <td>1010.0</td>\n      <td>12</td>\n      <td>D</td>\n      <td>6.000000</td>\n      <td>85.0</td>\n    </tr>\n  </tbody>\n</table>\n</div>"
          },
          "metadata": {}
        }
      ]
    },
    {
      "cell_type": "code",
      "source": "#by data visulazing it is guessing the values u can see above in student id and percentage",
      "metadata": {
        "trusted": true
      },
      "execution_count": 14,
      "outputs": []
    },
    {
      "cell_type": "code",
      "source": "#it's only guessing numeric value not string",
      "metadata": {
        "trusted": true
      },
      "execution_count": 15,
      "outputs": []
    },
    {
      "cell_type": "code",
      "source": "#Let's understand it's parameter",
      "metadata": {
        "trusted": true
      },
      "execution_count": 16,
      "outputs": []
    },
    {
      "cell_type": "code",
      "source": "df.interpolate(method='linear')#giving same result",
      "metadata": {
        "trusted": true
      },
      "execution_count": 18,
      "outputs": [
        {
          "execution_count": 18,
          "output_type": "execute_result",
          "data": {
            "text/plain": "         Date  Student ID  Class Section  Study hrs  Percentage\n0  01-07-2019      1001.0     10       A   2.000000        50.0\n1  02-07-2019      1002.0     10     NaN   2.500000        80.0\n2  03-07-2019      1003.0     10     NaN   3.000000        60.0\n3  06-07-2019      1004.0     11     NaN   0.000000        65.0\n4  07-07-2019      1005.0     11       A   4.000000        70.0\n5  08-07-2019      1006.0     11       D  10.000000        75.0\n6  09-07-2019      1007.0     12       B   4.000000        80.0\n7  10-07-2019      1008.0     12       C   4.666667        90.0\n8  11-07-2019      1009.0     12       A   5.333333        60.0\n9  12-07-2019      1010.0     12       D   6.000000        85.0",
            "text/html": "<div>\n<style scoped>\n    .dataframe tbody tr th:only-of-type {\n        vertical-align: middle;\n    }\n\n    .dataframe tbody tr th {\n        vertical-align: top;\n    }\n\n    .dataframe thead th {\n        text-align: right;\n    }\n</style>\n<table border=\"1\" class=\"dataframe\">\n  <thead>\n    <tr style=\"text-align: right;\">\n      <th></th>\n      <th>Date</th>\n      <th>Student ID</th>\n      <th>Class</th>\n      <th>Section</th>\n      <th>Study hrs</th>\n      <th>Percentage</th>\n    </tr>\n  </thead>\n  <tbody>\n    <tr>\n      <th>0</th>\n      <td>01-07-2019</td>\n      <td>1001.0</td>\n      <td>10</td>\n      <td>A</td>\n      <td>2.000000</td>\n      <td>50.0</td>\n    </tr>\n    <tr>\n      <th>1</th>\n      <td>02-07-2019</td>\n      <td>1002.0</td>\n      <td>10</td>\n      <td>NaN</td>\n      <td>2.500000</td>\n      <td>80.0</td>\n    </tr>\n    <tr>\n      <th>2</th>\n      <td>03-07-2019</td>\n      <td>1003.0</td>\n      <td>10</td>\n      <td>NaN</td>\n      <td>3.000000</td>\n      <td>60.0</td>\n    </tr>\n    <tr>\n      <th>3</th>\n      <td>06-07-2019</td>\n      <td>1004.0</td>\n      <td>11</td>\n      <td>NaN</td>\n      <td>0.000000</td>\n      <td>65.0</td>\n    </tr>\n    <tr>\n      <th>4</th>\n      <td>07-07-2019</td>\n      <td>1005.0</td>\n      <td>11</td>\n      <td>A</td>\n      <td>4.000000</td>\n      <td>70.0</td>\n    </tr>\n    <tr>\n      <th>5</th>\n      <td>08-07-2019</td>\n      <td>1006.0</td>\n      <td>11</td>\n      <td>D</td>\n      <td>10.000000</td>\n      <td>75.0</td>\n    </tr>\n    <tr>\n      <th>6</th>\n      <td>09-07-2019</td>\n      <td>1007.0</td>\n      <td>12</td>\n      <td>B</td>\n      <td>4.000000</td>\n      <td>80.0</td>\n    </tr>\n    <tr>\n      <th>7</th>\n      <td>10-07-2019</td>\n      <td>1008.0</td>\n      <td>12</td>\n      <td>C</td>\n      <td>4.666667</td>\n      <td>90.0</td>\n    </tr>\n    <tr>\n      <th>8</th>\n      <td>11-07-2019</td>\n      <td>1009.0</td>\n      <td>12</td>\n      <td>A</td>\n      <td>5.333333</td>\n      <td>60.0</td>\n    </tr>\n    <tr>\n      <th>9</th>\n      <td>12-07-2019</td>\n      <td>1010.0</td>\n      <td>12</td>\n      <td>D</td>\n      <td>6.000000</td>\n      <td>85.0</td>\n    </tr>\n  </tbody>\n</table>\n</div>"
          },
          "metadata": {}
        }
      ]
    },
    {
      "cell_type": "code",
      "source": "df.interpolate(method='time')\n#time-weighted interpolation only works on Series or DataFrames with a DatetimeIndex",
      "metadata": {
        "trusted": true
      },
      "execution_count": 4,
      "outputs": [
        {
          "ename": "<class 'ValueError'>",
          "evalue": "time-weighted interpolation only works on Series or DataFrames with a DatetimeIndex",
          "traceback": [
            "\u001b[0;31m---------------------------------------------------------------------------\u001b[0m",
            "\u001b[0;31mValueError\u001b[0m                                Traceback (most recent call last)",
            "Cell \u001b[0;32mIn [4], line 1\u001b[0m\n\u001b[0;32m----> 1\u001b[0m \u001b[43mdf\u001b[49m\u001b[38;5;241;43m.\u001b[39;49m\u001b[43minterpolate\u001b[49m\u001b[43m(\u001b[49m\u001b[43mmethod\u001b[49m\u001b[38;5;241;43m=\u001b[39;49m\u001b[38;5;124;43m'\u001b[39;49m\u001b[38;5;124;43mtime\u001b[39;49m\u001b[38;5;124;43m'\u001b[39;49m\u001b[43m)\u001b[49m\n",
            "File \u001b[0;32m/lib/python3.10/site-packages/pandas/util/_decorators.py:311\u001b[0m, in \u001b[0;36mdeprecate_nonkeyword_arguments.<locals>.decorate.<locals>.wrapper\u001b[0;34m(*args, **kwargs)\u001b[0m\n\u001b[1;32m    305\u001b[0m \u001b[38;5;28;01mif\u001b[39;00m \u001b[38;5;28mlen\u001b[39m(args) \u001b[38;5;241m>\u001b[39m num_allow_args:\n\u001b[1;32m    306\u001b[0m     warnings\u001b[38;5;241m.\u001b[39mwarn(\n\u001b[1;32m    307\u001b[0m         msg\u001b[38;5;241m.\u001b[39mformat(arguments\u001b[38;5;241m=\u001b[39marguments),\n\u001b[1;32m    308\u001b[0m         \u001b[38;5;167;01mFutureWarning\u001b[39;00m,\n\u001b[1;32m    309\u001b[0m         stacklevel\u001b[38;5;241m=\u001b[39mstacklevel,\n\u001b[1;32m    310\u001b[0m     )\n\u001b[0;32m--> 311\u001b[0m \u001b[38;5;28;01mreturn\u001b[39;00m func(\u001b[38;5;241m*\u001b[39margs, \u001b[38;5;241m*\u001b[39m\u001b[38;5;241m*\u001b[39mkwargs)\n",
            "File \u001b[0;32m/lib/python3.10/site-packages/pandas/core/frame.py:10931\u001b[0m, in \u001b[0;36mDataFrame.interpolate\u001b[0;34m(self, method, axis, limit, inplace, limit_direction, limit_area, downcast, **kwargs)\u001b[0m\n\u001b[1;32m  10919\u001b[0m \u001b[38;5;129m@deprecate_nonkeyword_arguments\u001b[39m(version\u001b[38;5;241m=\u001b[39m\u001b[38;5;28;01mNone\u001b[39;00m, allowed_args\u001b[38;5;241m=\u001b[39m[\u001b[38;5;124m\"\u001b[39m\u001b[38;5;124mself\u001b[39m\u001b[38;5;124m\"\u001b[39m, \u001b[38;5;124m\"\u001b[39m\u001b[38;5;124mmethod\u001b[39m\u001b[38;5;124m\"\u001b[39m])\n\u001b[1;32m  10920\u001b[0m \u001b[38;5;28;01mdef\u001b[39;00m \u001b[38;5;21minterpolate\u001b[39m(\n\u001b[1;32m  10921\u001b[0m     \u001b[38;5;28mself\u001b[39m: DataFrame,\n\u001b[0;32m   (...)\u001b[0m\n\u001b[1;32m  10929\u001b[0m     \u001b[38;5;241m*\u001b[39m\u001b[38;5;241m*\u001b[39mkwargs,\n\u001b[1;32m  10930\u001b[0m ) \u001b[38;5;241m-\u001b[39m\u001b[38;5;241m>\u001b[39m DataFrame \u001b[38;5;241m|\u001b[39m \u001b[38;5;28;01mNone\u001b[39;00m:\n\u001b[0;32m> 10931\u001b[0m     \u001b[38;5;28;01mreturn\u001b[39;00m \u001b[38;5;28msuper\u001b[39m()\u001b[38;5;241m.\u001b[39minterpolate(\n\u001b[1;32m  10932\u001b[0m         method,\n\u001b[1;32m  10933\u001b[0m         axis,\n\u001b[1;32m  10934\u001b[0m         limit,\n\u001b[1;32m  10935\u001b[0m         inplace,\n\u001b[1;32m  10936\u001b[0m         limit_direction,\n\u001b[1;32m  10937\u001b[0m         limit_area,\n\u001b[1;32m  10938\u001b[0m         downcast,\n\u001b[1;32m  10939\u001b[0m         \u001b[38;5;241m*\u001b[39m\u001b[38;5;241m*\u001b[39mkwargs,\n\u001b[1;32m  10940\u001b[0m     )\n",
            "File \u001b[0;32m/lib/python3.10/site-packages/pandas/core/generic.py:7034\u001b[0m, in \u001b[0;36mNDFrame.interpolate\u001b[0;34m(self, method, axis, limit, inplace, limit_direction, limit_area, downcast, **kwargs)\u001b[0m\n\u001b[1;32m   7028\u001b[0m \u001b[38;5;28;01mif\u001b[39;00m isna(index)\u001b[38;5;241m.\u001b[39many():\n\u001b[1;32m   7029\u001b[0m     \u001b[38;5;28;01mraise\u001b[39;00m \u001b[38;5;167;01mNotImplementedError\u001b[39;00m(\n\u001b[1;32m   7030\u001b[0m         \u001b[38;5;124m\"\u001b[39m\u001b[38;5;124mInterpolation with NaNs in the index \u001b[39m\u001b[38;5;124m\"\u001b[39m\n\u001b[1;32m   7031\u001b[0m         \u001b[38;5;124m\"\u001b[39m\u001b[38;5;124mhas not been implemented. Try filling \u001b[39m\u001b[38;5;124m\"\u001b[39m\n\u001b[1;32m   7032\u001b[0m         \u001b[38;5;124m\"\u001b[39m\u001b[38;5;124mthose NaNs before interpolating.\u001b[39m\u001b[38;5;124m\"\u001b[39m\n\u001b[1;32m   7033\u001b[0m     )\n\u001b[0;32m-> 7034\u001b[0m new_data \u001b[38;5;241m=\u001b[39m obj\u001b[38;5;241m.\u001b[39m_mgr\u001b[38;5;241m.\u001b[39minterpolate(\n\u001b[1;32m   7035\u001b[0m     method\u001b[38;5;241m=\u001b[39mmethod,\n\u001b[1;32m   7036\u001b[0m     axis\u001b[38;5;241m=\u001b[39maxis,\n\u001b[1;32m   7037\u001b[0m     index\u001b[38;5;241m=\u001b[39mindex,\n\u001b[1;32m   7038\u001b[0m     limit\u001b[38;5;241m=\u001b[39mlimit,\n\u001b[1;32m   7039\u001b[0m     limit_direction\u001b[38;5;241m=\u001b[39mlimit_direction,\n\u001b[1;32m   7040\u001b[0m     limit_area\u001b[38;5;241m=\u001b[39mlimit_area,\n\u001b[1;32m   7041\u001b[0m     inplace\u001b[38;5;241m=\u001b[39minplace,\n\u001b[1;32m   7042\u001b[0m     downcast\u001b[38;5;241m=\u001b[39mdowncast,\n\u001b[1;32m   7043\u001b[0m     \u001b[38;5;241m*\u001b[39m\u001b[38;5;241m*\u001b[39mkwargs,\n\u001b[1;32m   7044\u001b[0m )\n\u001b[1;32m   7046\u001b[0m result \u001b[38;5;241m=\u001b[39m \u001b[38;5;28mself\u001b[39m\u001b[38;5;241m.\u001b[39m_constructor(new_data)\n\u001b[1;32m   7047\u001b[0m \u001b[38;5;28;01mif\u001b[39;00m should_transpose:\n",
            "File \u001b[0;32m/lib/python3.10/site-packages/pandas/core/internals/managers.py:359\u001b[0m, in \u001b[0;36mBaseBlockManager.interpolate\u001b[0;34m(self, **kwargs)\u001b[0m\n\u001b[1;32m    358\u001b[0m \u001b[38;5;28;01mdef\u001b[39;00m \u001b[38;5;21minterpolate\u001b[39m(\u001b[38;5;28mself\u001b[39m: T, \u001b[38;5;241m*\u001b[39m\u001b[38;5;241m*\u001b[39mkwargs) \u001b[38;5;241m-\u001b[39m\u001b[38;5;241m>\u001b[39m T:\n\u001b[0;32m--> 359\u001b[0m     \u001b[38;5;28;01mreturn\u001b[39;00m \u001b[38;5;28mself\u001b[39m\u001b[38;5;241m.\u001b[39mapply(\u001b[38;5;124m\"\u001b[39m\u001b[38;5;124minterpolate\u001b[39m\u001b[38;5;124m\"\u001b[39m, \u001b[38;5;241m*\u001b[39m\u001b[38;5;241m*\u001b[39mkwargs)\n",
            "File \u001b[0;32m/lib/python3.10/site-packages/pandas/core/internals/managers.py:304\u001b[0m, in \u001b[0;36mBaseBlockManager.apply\u001b[0;34m(self, f, align_keys, ignore_failures, **kwargs)\u001b[0m\n\u001b[1;32m    302\u001b[0m         applied \u001b[38;5;241m=\u001b[39m b\u001b[38;5;241m.\u001b[39mapply(f, \u001b[38;5;241m*\u001b[39m\u001b[38;5;241m*\u001b[39mkwargs)\n\u001b[1;32m    303\u001b[0m     \u001b[38;5;28;01melse\u001b[39;00m:\n\u001b[0;32m--> 304\u001b[0m         applied \u001b[38;5;241m=\u001b[39m \u001b[38;5;28mgetattr\u001b[39m(b, f)(\u001b[38;5;241m*\u001b[39m\u001b[38;5;241m*\u001b[39mkwargs)\n\u001b[1;32m    305\u001b[0m \u001b[38;5;28;01mexcept\u001b[39;00m (\u001b[38;5;167;01mTypeError\u001b[39;00m, \u001b[38;5;167;01mNotImplementedError\u001b[39;00m):\n\u001b[1;32m    306\u001b[0m     \u001b[38;5;28;01mif\u001b[39;00m \u001b[38;5;129;01mnot\u001b[39;00m ignore_failures:\n",
            "File \u001b[0;32m/lib/python3.10/site-packages/pandas/core/internals/blocks.py:1099\u001b[0m, in \u001b[0;36mBlock.interpolate\u001b[0;34m(self, method, axis, index, inplace, limit, limit_direction, limit_area, fill_value, coerce, downcast, **kwargs)\u001b[0m\n\u001b[1;32m   1096\u001b[0m data \u001b[38;5;241m=\u001b[39m \u001b[38;5;28mself\u001b[39m\u001b[38;5;241m.\u001b[39mvalues \u001b[38;5;28;01mif\u001b[39;00m inplace \u001b[38;5;28;01melse\u001b[39;00m \u001b[38;5;28mself\u001b[39m\u001b[38;5;241m.\u001b[39mvalues\u001b[38;5;241m.\u001b[39mcopy()\n\u001b[1;32m   1097\u001b[0m data \u001b[38;5;241m=\u001b[39m cast(np\u001b[38;5;241m.\u001b[39mndarray, data)  \u001b[38;5;66;03m# bc overridden by ExtensionBlock\u001b[39;00m\n\u001b[0;32m-> 1099\u001b[0m missing\u001b[38;5;241m.\u001b[39minterpolate_array_2d(\n\u001b[1;32m   1100\u001b[0m     data,\n\u001b[1;32m   1101\u001b[0m     method\u001b[38;5;241m=\u001b[39mmethod,\n\u001b[1;32m   1102\u001b[0m     axis\u001b[38;5;241m=\u001b[39maxis,\n\u001b[1;32m   1103\u001b[0m     index\u001b[38;5;241m=\u001b[39mindex,\n\u001b[1;32m   1104\u001b[0m     limit\u001b[38;5;241m=\u001b[39mlimit,\n\u001b[1;32m   1105\u001b[0m     limit_direction\u001b[38;5;241m=\u001b[39mlimit_direction,\n\u001b[1;32m   1106\u001b[0m     limit_area\u001b[38;5;241m=\u001b[39mlimit_area,\n\u001b[1;32m   1107\u001b[0m     fill_value\u001b[38;5;241m=\u001b[39mfill_value,\n\u001b[1;32m   1108\u001b[0m     \u001b[38;5;241m*\u001b[39m\u001b[38;5;241m*\u001b[39mkwargs,\n\u001b[1;32m   1109\u001b[0m )\n\u001b[1;32m   1111\u001b[0m nb \u001b[38;5;241m=\u001b[39m \u001b[38;5;28mself\u001b[39m\u001b[38;5;241m.\u001b[39mmake_block_same_class(data)\n\u001b[1;32m   1112\u001b[0m \u001b[38;5;28;01mreturn\u001b[39;00m nb\u001b[38;5;241m.\u001b[39m_maybe_downcast([nb], downcast)\n",
            "File \u001b[0;32m/lib/python3.10/site-packages/pandas/core/missing.py:249\u001b[0m, in \u001b[0;36minterpolate_array_2d\u001b[0;34m(data, method, axis, index, limit, limit_direction, limit_area, fill_value, coerce, downcast, **kwargs)\u001b[0m\n\u001b[1;32m    246\u001b[0m \u001b[38;5;28;01melse\u001b[39;00m:\n\u001b[1;32m    247\u001b[0m     \u001b[38;5;28;01massert\u001b[39;00m index \u001b[38;5;129;01mis\u001b[39;00m \u001b[38;5;129;01mnot\u001b[39;00m \u001b[38;5;28;01mNone\u001b[39;00m  \u001b[38;5;66;03m# for mypy\u001b[39;00m\n\u001b[0;32m--> 249\u001b[0m     _interpolate_2d_with_fill(\n\u001b[1;32m    250\u001b[0m         data\u001b[38;5;241m=\u001b[39mdata,\n\u001b[1;32m    251\u001b[0m         index\u001b[38;5;241m=\u001b[39mindex,\n\u001b[1;32m    252\u001b[0m         axis\u001b[38;5;241m=\u001b[39maxis,\n\u001b[1;32m    253\u001b[0m         method\u001b[38;5;241m=\u001b[39mmethod,\n\u001b[1;32m    254\u001b[0m         limit\u001b[38;5;241m=\u001b[39mlimit,\n\u001b[1;32m    255\u001b[0m         limit_direction\u001b[38;5;241m=\u001b[39mlimit_direction,\n\u001b[1;32m    256\u001b[0m         limit_area\u001b[38;5;241m=\u001b[39mlimit_area,\n\u001b[1;32m    257\u001b[0m         fill_value\u001b[38;5;241m=\u001b[39mfill_value,\n\u001b[1;32m    258\u001b[0m         \u001b[38;5;241m*\u001b[39m\u001b[38;5;241m*\u001b[39mkwargs,\n\u001b[1;32m    259\u001b[0m     )\n\u001b[1;32m    260\u001b[0m \u001b[38;5;28;01mreturn\u001b[39;00m\n",
            "File \u001b[0;32m/lib/python3.10/site-packages/pandas/core/missing.py:292\u001b[0m, in \u001b[0;36m_interpolate_2d_with_fill\u001b[0;34m(data, index, axis, method, limit, limit_direction, limit_area, fill_value, **kwargs)\u001b[0m\n\u001b[1;32m    290\u001b[0m \u001b[38;5;28;01mif\u001b[39;00m method \u001b[38;5;241m==\u001b[39m \u001b[38;5;124m\"\u001b[39m\u001b[38;5;124mtime\u001b[39m\u001b[38;5;124m\"\u001b[39m:\n\u001b[1;32m    291\u001b[0m     \u001b[38;5;28;01mif\u001b[39;00m \u001b[38;5;129;01mnot\u001b[39;00m needs_i8_conversion(index\u001b[38;5;241m.\u001b[39mdtype):\n\u001b[0;32m--> 292\u001b[0m         \u001b[38;5;28;01mraise\u001b[39;00m \u001b[38;5;167;01mValueError\u001b[39;00m(\n\u001b[1;32m    293\u001b[0m             \u001b[38;5;124m\"\u001b[39m\u001b[38;5;124mtime-weighted interpolation only works \u001b[39m\u001b[38;5;124m\"\u001b[39m\n\u001b[1;32m    294\u001b[0m             \u001b[38;5;124m\"\u001b[39m\u001b[38;5;124mon Series or DataFrames with a \u001b[39m\u001b[38;5;124m\"\u001b[39m\n\u001b[1;32m    295\u001b[0m             \u001b[38;5;124m\"\u001b[39m\u001b[38;5;124mDatetimeIndex\u001b[39m\u001b[38;5;124m\"\u001b[39m\n\u001b[1;32m    296\u001b[0m         )\n\u001b[1;32m    297\u001b[0m     method \u001b[38;5;241m=\u001b[39m \u001b[38;5;124m\"\u001b[39m\u001b[38;5;124mvalues\u001b[39m\u001b[38;5;124m\"\u001b[39m\n\u001b[1;32m    299\u001b[0m valid_limit_directions \u001b[38;5;241m=\u001b[39m [\u001b[38;5;124m\"\u001b[39m\u001b[38;5;124mforward\u001b[39m\u001b[38;5;124m\"\u001b[39m, \u001b[38;5;124m\"\u001b[39m\u001b[38;5;124mbackward\u001b[39m\u001b[38;5;124m\"\u001b[39m, \u001b[38;5;124m\"\u001b[39m\u001b[38;5;124mboth\u001b[39m\u001b[38;5;124m\"\u001b[39m]\n",
            "\u001b[0;31mValueError\u001b[0m: time-weighted interpolation only works on Series or DataFrames with a DatetimeIndex"
          ],
          "output_type": "error"
        }
      ]
    },
    {
      "cell_type": "code",
      "source": "type(df.Date[0])",
      "metadata": {
        "trusted": true
      },
      "execution_count": 21,
      "outputs": [
        {
          "execution_count": 21,
          "output_type": "execute_result",
          "data": {
            "text/plain": "str"
          },
          "metadata": {}
        }
      ]
    },
    {
      "cell_type": "code",
      "source": "#we need to convert it into date-time datatype",
      "metadata": {
        "trusted": true
      },
      "execution_count": 23,
      "outputs": []
    },
    {
      "cell_type": "code",
      "source": "df=pd.read_csv('student_10.csv',parse_dates=['Date'])\ndf",
      "metadata": {
        "trusted": true
      },
      "execution_count": 24,
      "outputs": [
        {
          "execution_count": 24,
          "output_type": "execute_result",
          "data": {
            "text/plain": "        Date  Student ID  Class Section  Study hrs  Percentage\n0 2019-01-07      1001.0     10       A        2.0        50.0\n1 2019-02-07      1002.0     10     NaN        NaN        80.0\n2 2019-03-07         NaN     10     NaN        3.0        60.0\n3 2019-06-07         NaN     11     NaN        0.0         NaN\n4 2019-07-07      1005.0     11       A        4.0         NaN\n5 2019-08-07         NaN     11       D       10.0         NaN\n6 2019-09-07      1007.0     12       B        4.0        80.0\n7 2019-10-07      1008.0     12       C        NaN        90.0\n8 2019-11-07      1009.0     12       A        NaN        60.0\n9 2019-12-07      1010.0     12       D        6.0        85.0",
            "text/html": "<div>\n<style scoped>\n    .dataframe tbody tr th:only-of-type {\n        vertical-align: middle;\n    }\n\n    .dataframe tbody tr th {\n        vertical-align: top;\n    }\n\n    .dataframe thead th {\n        text-align: right;\n    }\n</style>\n<table border=\"1\" class=\"dataframe\">\n  <thead>\n    <tr style=\"text-align: right;\">\n      <th></th>\n      <th>Date</th>\n      <th>Student ID</th>\n      <th>Class</th>\n      <th>Section</th>\n      <th>Study hrs</th>\n      <th>Percentage</th>\n    </tr>\n  </thead>\n  <tbody>\n    <tr>\n      <th>0</th>\n      <td>2019-01-07</td>\n      <td>1001.0</td>\n      <td>10</td>\n      <td>A</td>\n      <td>2.0</td>\n      <td>50.0</td>\n    </tr>\n    <tr>\n      <th>1</th>\n      <td>2019-02-07</td>\n      <td>1002.0</td>\n      <td>10</td>\n      <td>NaN</td>\n      <td>NaN</td>\n      <td>80.0</td>\n    </tr>\n    <tr>\n      <th>2</th>\n      <td>2019-03-07</td>\n      <td>NaN</td>\n      <td>10</td>\n      <td>NaN</td>\n      <td>3.0</td>\n      <td>60.0</td>\n    </tr>\n    <tr>\n      <th>3</th>\n      <td>2019-06-07</td>\n      <td>NaN</td>\n      <td>11</td>\n      <td>NaN</td>\n      <td>0.0</td>\n      <td>NaN</td>\n    </tr>\n    <tr>\n      <th>4</th>\n      <td>2019-07-07</td>\n      <td>1005.0</td>\n      <td>11</td>\n      <td>A</td>\n      <td>4.0</td>\n      <td>NaN</td>\n    </tr>\n    <tr>\n      <th>5</th>\n      <td>2019-08-07</td>\n      <td>NaN</td>\n      <td>11</td>\n      <td>D</td>\n      <td>10.0</td>\n      <td>NaN</td>\n    </tr>\n    <tr>\n      <th>6</th>\n      <td>2019-09-07</td>\n      <td>1007.0</td>\n      <td>12</td>\n      <td>B</td>\n      <td>4.0</td>\n      <td>80.0</td>\n    </tr>\n    <tr>\n      <th>7</th>\n      <td>2019-10-07</td>\n      <td>1008.0</td>\n      <td>12</td>\n      <td>C</td>\n      <td>NaN</td>\n      <td>90.0</td>\n    </tr>\n    <tr>\n      <th>8</th>\n      <td>2019-11-07</td>\n      <td>1009.0</td>\n      <td>12</td>\n      <td>A</td>\n      <td>NaN</td>\n      <td>60.0</td>\n    </tr>\n    <tr>\n      <th>9</th>\n      <td>2019-12-07</td>\n      <td>1010.0</td>\n      <td>12</td>\n      <td>D</td>\n      <td>6.0</td>\n      <td>85.0</td>\n    </tr>\n  </tbody>\n</table>\n</div>"
          },
          "metadata": {}
        }
      ]
    },
    {
      "cell_type": "code",
      "source": "type(df.Date[0])#it's now change to date time datatype",
      "metadata": {
        "trusted": true
      },
      "execution_count": 26,
      "outputs": [
        {
          "execution_count": 26,
          "output_type": "execute_result",
          "data": {
            "text/plain": "pandas._libs.tslibs.timestamps.Timestamp"
          },
          "metadata": {}
        }
      ]
    },
    {
      "cell_type": "code",
      "source": "#Let's change default index with date column",
      "metadata": {
        "trusted": true
      },
      "execution_count": 27,
      "outputs": []
    },
    {
      "cell_type": "code",
      "source": "df=pd.read_csv('student_10.csv',parse_dates=['Date'],index_col='Date')\ndf",
      "metadata": {
        "trusted": true
      },
      "execution_count": 28,
      "outputs": [
        {
          "execution_count": 28,
          "output_type": "execute_result",
          "data": {
            "text/plain": "            Student ID  Class Section  Study hrs  Percentage\nDate                                                        \n2019-01-07      1001.0     10       A        2.0        50.0\n2019-02-07      1002.0     10     NaN        NaN        80.0\n2019-03-07         NaN     10     NaN        3.0        60.0\n2019-06-07         NaN     11     NaN        0.0         NaN\n2019-07-07      1005.0     11       A        4.0         NaN\n2019-08-07         NaN     11       D       10.0         NaN\n2019-09-07      1007.0     12       B        4.0        80.0\n2019-10-07      1008.0     12       C        NaN        90.0\n2019-11-07      1009.0     12       A        NaN        60.0\n2019-12-07      1010.0     12       D        6.0        85.0",
            "text/html": "<div>\n<style scoped>\n    .dataframe tbody tr th:only-of-type {\n        vertical-align: middle;\n    }\n\n    .dataframe tbody tr th {\n        vertical-align: top;\n    }\n\n    .dataframe thead th {\n        text-align: right;\n    }\n</style>\n<table border=\"1\" class=\"dataframe\">\n  <thead>\n    <tr style=\"text-align: right;\">\n      <th></th>\n      <th>Student ID</th>\n      <th>Class</th>\n      <th>Section</th>\n      <th>Study hrs</th>\n      <th>Percentage</th>\n    </tr>\n    <tr>\n      <th>Date</th>\n      <th></th>\n      <th></th>\n      <th></th>\n      <th></th>\n      <th></th>\n    </tr>\n  </thead>\n  <tbody>\n    <tr>\n      <th>2019-01-07</th>\n      <td>1001.0</td>\n      <td>10</td>\n      <td>A</td>\n      <td>2.0</td>\n      <td>50.0</td>\n    </tr>\n    <tr>\n      <th>2019-02-07</th>\n      <td>1002.0</td>\n      <td>10</td>\n      <td>NaN</td>\n      <td>NaN</td>\n      <td>80.0</td>\n    </tr>\n    <tr>\n      <th>2019-03-07</th>\n      <td>NaN</td>\n      <td>10</td>\n      <td>NaN</td>\n      <td>3.0</td>\n      <td>60.0</td>\n    </tr>\n    <tr>\n      <th>2019-06-07</th>\n      <td>NaN</td>\n      <td>11</td>\n      <td>NaN</td>\n      <td>0.0</td>\n      <td>NaN</td>\n    </tr>\n    <tr>\n      <th>2019-07-07</th>\n      <td>1005.0</td>\n      <td>11</td>\n      <td>A</td>\n      <td>4.0</td>\n      <td>NaN</td>\n    </tr>\n    <tr>\n      <th>2019-08-07</th>\n      <td>NaN</td>\n      <td>11</td>\n      <td>D</td>\n      <td>10.0</td>\n      <td>NaN</td>\n    </tr>\n    <tr>\n      <th>2019-09-07</th>\n      <td>1007.0</td>\n      <td>12</td>\n      <td>B</td>\n      <td>4.0</td>\n      <td>80.0</td>\n    </tr>\n    <tr>\n      <th>2019-10-07</th>\n      <td>1008.0</td>\n      <td>12</td>\n      <td>C</td>\n      <td>NaN</td>\n      <td>90.0</td>\n    </tr>\n    <tr>\n      <th>2019-11-07</th>\n      <td>1009.0</td>\n      <td>12</td>\n      <td>A</td>\n      <td>NaN</td>\n      <td>60.0</td>\n    </tr>\n    <tr>\n      <th>2019-12-07</th>\n      <td>1010.0</td>\n      <td>12</td>\n      <td>D</td>\n      <td>6.0</td>\n      <td>85.0</td>\n    </tr>\n  </tbody>\n</table>\n</div>"
          },
          "metadata": {}
        }
      ]
    },
    {
      "cell_type": "code",
      "source": "df.interpolate(method='time')#student ID values filled according to date and time",
      "metadata": {
        "trusted": true
      },
      "execution_count": 5,
      "outputs": [
        {
          "ename": "<class 'ValueError'>",
          "evalue": "time-weighted interpolation only works on Series or DataFrames with a DatetimeIndex",
          "traceback": [
            "\u001b[0;31m---------------------------------------------------------------------------\u001b[0m",
            "\u001b[0;31mValueError\u001b[0m                                Traceback (most recent call last)",
            "Cell \u001b[0;32mIn [5], line 1\u001b[0m\n\u001b[0;32m----> 1\u001b[0m \u001b[43mdf\u001b[49m\u001b[38;5;241;43m.\u001b[39;49m\u001b[43minterpolate\u001b[49m\u001b[43m(\u001b[49m\u001b[43mmethod\u001b[49m\u001b[38;5;241;43m=\u001b[39;49m\u001b[38;5;124;43m'\u001b[39;49m\u001b[38;5;124;43mtime\u001b[39;49m\u001b[38;5;124;43m'\u001b[39;49m\u001b[43m)\u001b[49m\n",
            "File \u001b[0;32m/lib/python3.10/site-packages/pandas/util/_decorators.py:311\u001b[0m, in \u001b[0;36mdeprecate_nonkeyword_arguments.<locals>.decorate.<locals>.wrapper\u001b[0;34m(*args, **kwargs)\u001b[0m\n\u001b[1;32m    305\u001b[0m \u001b[38;5;28;01mif\u001b[39;00m \u001b[38;5;28mlen\u001b[39m(args) \u001b[38;5;241m>\u001b[39m num_allow_args:\n\u001b[1;32m    306\u001b[0m     warnings\u001b[38;5;241m.\u001b[39mwarn(\n\u001b[1;32m    307\u001b[0m         msg\u001b[38;5;241m.\u001b[39mformat(arguments\u001b[38;5;241m=\u001b[39marguments),\n\u001b[1;32m    308\u001b[0m         \u001b[38;5;167;01mFutureWarning\u001b[39;00m,\n\u001b[1;32m    309\u001b[0m         stacklevel\u001b[38;5;241m=\u001b[39mstacklevel,\n\u001b[1;32m    310\u001b[0m     )\n\u001b[0;32m--> 311\u001b[0m \u001b[38;5;28;01mreturn\u001b[39;00m func(\u001b[38;5;241m*\u001b[39margs, \u001b[38;5;241m*\u001b[39m\u001b[38;5;241m*\u001b[39mkwargs)\n",
            "File \u001b[0;32m/lib/python3.10/site-packages/pandas/core/frame.py:10931\u001b[0m, in \u001b[0;36mDataFrame.interpolate\u001b[0;34m(self, method, axis, limit, inplace, limit_direction, limit_area, downcast, **kwargs)\u001b[0m\n\u001b[1;32m  10919\u001b[0m \u001b[38;5;129m@deprecate_nonkeyword_arguments\u001b[39m(version\u001b[38;5;241m=\u001b[39m\u001b[38;5;28;01mNone\u001b[39;00m, allowed_args\u001b[38;5;241m=\u001b[39m[\u001b[38;5;124m\"\u001b[39m\u001b[38;5;124mself\u001b[39m\u001b[38;5;124m\"\u001b[39m, \u001b[38;5;124m\"\u001b[39m\u001b[38;5;124mmethod\u001b[39m\u001b[38;5;124m\"\u001b[39m])\n\u001b[1;32m  10920\u001b[0m \u001b[38;5;28;01mdef\u001b[39;00m \u001b[38;5;21minterpolate\u001b[39m(\n\u001b[1;32m  10921\u001b[0m     \u001b[38;5;28mself\u001b[39m: DataFrame,\n\u001b[0;32m   (...)\u001b[0m\n\u001b[1;32m  10929\u001b[0m     \u001b[38;5;241m*\u001b[39m\u001b[38;5;241m*\u001b[39mkwargs,\n\u001b[1;32m  10930\u001b[0m ) \u001b[38;5;241m-\u001b[39m\u001b[38;5;241m>\u001b[39m DataFrame \u001b[38;5;241m|\u001b[39m \u001b[38;5;28;01mNone\u001b[39;00m:\n\u001b[0;32m> 10931\u001b[0m     \u001b[38;5;28;01mreturn\u001b[39;00m \u001b[38;5;28msuper\u001b[39m()\u001b[38;5;241m.\u001b[39minterpolate(\n\u001b[1;32m  10932\u001b[0m         method,\n\u001b[1;32m  10933\u001b[0m         axis,\n\u001b[1;32m  10934\u001b[0m         limit,\n\u001b[1;32m  10935\u001b[0m         inplace,\n\u001b[1;32m  10936\u001b[0m         limit_direction,\n\u001b[1;32m  10937\u001b[0m         limit_area,\n\u001b[1;32m  10938\u001b[0m         downcast,\n\u001b[1;32m  10939\u001b[0m         \u001b[38;5;241m*\u001b[39m\u001b[38;5;241m*\u001b[39mkwargs,\n\u001b[1;32m  10940\u001b[0m     )\n",
            "File \u001b[0;32m/lib/python3.10/site-packages/pandas/core/generic.py:7034\u001b[0m, in \u001b[0;36mNDFrame.interpolate\u001b[0;34m(self, method, axis, limit, inplace, limit_direction, limit_area, downcast, **kwargs)\u001b[0m\n\u001b[1;32m   7028\u001b[0m \u001b[38;5;28;01mif\u001b[39;00m isna(index)\u001b[38;5;241m.\u001b[39many():\n\u001b[1;32m   7029\u001b[0m     \u001b[38;5;28;01mraise\u001b[39;00m \u001b[38;5;167;01mNotImplementedError\u001b[39;00m(\n\u001b[1;32m   7030\u001b[0m         \u001b[38;5;124m\"\u001b[39m\u001b[38;5;124mInterpolation with NaNs in the index \u001b[39m\u001b[38;5;124m\"\u001b[39m\n\u001b[1;32m   7031\u001b[0m         \u001b[38;5;124m\"\u001b[39m\u001b[38;5;124mhas not been implemented. Try filling \u001b[39m\u001b[38;5;124m\"\u001b[39m\n\u001b[1;32m   7032\u001b[0m         \u001b[38;5;124m\"\u001b[39m\u001b[38;5;124mthose NaNs before interpolating.\u001b[39m\u001b[38;5;124m\"\u001b[39m\n\u001b[1;32m   7033\u001b[0m     )\n\u001b[0;32m-> 7034\u001b[0m new_data \u001b[38;5;241m=\u001b[39m obj\u001b[38;5;241m.\u001b[39m_mgr\u001b[38;5;241m.\u001b[39minterpolate(\n\u001b[1;32m   7035\u001b[0m     method\u001b[38;5;241m=\u001b[39mmethod,\n\u001b[1;32m   7036\u001b[0m     axis\u001b[38;5;241m=\u001b[39maxis,\n\u001b[1;32m   7037\u001b[0m     index\u001b[38;5;241m=\u001b[39mindex,\n\u001b[1;32m   7038\u001b[0m     limit\u001b[38;5;241m=\u001b[39mlimit,\n\u001b[1;32m   7039\u001b[0m     limit_direction\u001b[38;5;241m=\u001b[39mlimit_direction,\n\u001b[1;32m   7040\u001b[0m     limit_area\u001b[38;5;241m=\u001b[39mlimit_area,\n\u001b[1;32m   7041\u001b[0m     inplace\u001b[38;5;241m=\u001b[39minplace,\n\u001b[1;32m   7042\u001b[0m     downcast\u001b[38;5;241m=\u001b[39mdowncast,\n\u001b[1;32m   7043\u001b[0m     \u001b[38;5;241m*\u001b[39m\u001b[38;5;241m*\u001b[39mkwargs,\n\u001b[1;32m   7044\u001b[0m )\n\u001b[1;32m   7046\u001b[0m result \u001b[38;5;241m=\u001b[39m \u001b[38;5;28mself\u001b[39m\u001b[38;5;241m.\u001b[39m_constructor(new_data)\n\u001b[1;32m   7047\u001b[0m \u001b[38;5;28;01mif\u001b[39;00m should_transpose:\n",
            "File \u001b[0;32m/lib/python3.10/site-packages/pandas/core/internals/managers.py:359\u001b[0m, in \u001b[0;36mBaseBlockManager.interpolate\u001b[0;34m(self, **kwargs)\u001b[0m\n\u001b[1;32m    358\u001b[0m \u001b[38;5;28;01mdef\u001b[39;00m \u001b[38;5;21minterpolate\u001b[39m(\u001b[38;5;28mself\u001b[39m: T, \u001b[38;5;241m*\u001b[39m\u001b[38;5;241m*\u001b[39mkwargs) \u001b[38;5;241m-\u001b[39m\u001b[38;5;241m>\u001b[39m T:\n\u001b[0;32m--> 359\u001b[0m     \u001b[38;5;28;01mreturn\u001b[39;00m \u001b[38;5;28mself\u001b[39m\u001b[38;5;241m.\u001b[39mapply(\u001b[38;5;124m\"\u001b[39m\u001b[38;5;124minterpolate\u001b[39m\u001b[38;5;124m\"\u001b[39m, \u001b[38;5;241m*\u001b[39m\u001b[38;5;241m*\u001b[39mkwargs)\n",
            "File \u001b[0;32m/lib/python3.10/site-packages/pandas/core/internals/managers.py:304\u001b[0m, in \u001b[0;36mBaseBlockManager.apply\u001b[0;34m(self, f, align_keys, ignore_failures, **kwargs)\u001b[0m\n\u001b[1;32m    302\u001b[0m         applied \u001b[38;5;241m=\u001b[39m b\u001b[38;5;241m.\u001b[39mapply(f, \u001b[38;5;241m*\u001b[39m\u001b[38;5;241m*\u001b[39mkwargs)\n\u001b[1;32m    303\u001b[0m     \u001b[38;5;28;01melse\u001b[39;00m:\n\u001b[0;32m--> 304\u001b[0m         applied \u001b[38;5;241m=\u001b[39m \u001b[38;5;28mgetattr\u001b[39m(b, f)(\u001b[38;5;241m*\u001b[39m\u001b[38;5;241m*\u001b[39mkwargs)\n\u001b[1;32m    305\u001b[0m \u001b[38;5;28;01mexcept\u001b[39;00m (\u001b[38;5;167;01mTypeError\u001b[39;00m, \u001b[38;5;167;01mNotImplementedError\u001b[39;00m):\n\u001b[1;32m    306\u001b[0m     \u001b[38;5;28;01mif\u001b[39;00m \u001b[38;5;129;01mnot\u001b[39;00m ignore_failures:\n",
            "File \u001b[0;32m/lib/python3.10/site-packages/pandas/core/internals/blocks.py:1099\u001b[0m, in \u001b[0;36mBlock.interpolate\u001b[0;34m(self, method, axis, index, inplace, limit, limit_direction, limit_area, fill_value, coerce, downcast, **kwargs)\u001b[0m\n\u001b[1;32m   1096\u001b[0m data \u001b[38;5;241m=\u001b[39m \u001b[38;5;28mself\u001b[39m\u001b[38;5;241m.\u001b[39mvalues \u001b[38;5;28;01mif\u001b[39;00m inplace \u001b[38;5;28;01melse\u001b[39;00m \u001b[38;5;28mself\u001b[39m\u001b[38;5;241m.\u001b[39mvalues\u001b[38;5;241m.\u001b[39mcopy()\n\u001b[1;32m   1097\u001b[0m data \u001b[38;5;241m=\u001b[39m cast(np\u001b[38;5;241m.\u001b[39mndarray, data)  \u001b[38;5;66;03m# bc overridden by ExtensionBlock\u001b[39;00m\n\u001b[0;32m-> 1099\u001b[0m missing\u001b[38;5;241m.\u001b[39minterpolate_array_2d(\n\u001b[1;32m   1100\u001b[0m     data,\n\u001b[1;32m   1101\u001b[0m     method\u001b[38;5;241m=\u001b[39mmethod,\n\u001b[1;32m   1102\u001b[0m     axis\u001b[38;5;241m=\u001b[39maxis,\n\u001b[1;32m   1103\u001b[0m     index\u001b[38;5;241m=\u001b[39mindex,\n\u001b[1;32m   1104\u001b[0m     limit\u001b[38;5;241m=\u001b[39mlimit,\n\u001b[1;32m   1105\u001b[0m     limit_direction\u001b[38;5;241m=\u001b[39mlimit_direction,\n\u001b[1;32m   1106\u001b[0m     limit_area\u001b[38;5;241m=\u001b[39mlimit_area,\n\u001b[1;32m   1107\u001b[0m     fill_value\u001b[38;5;241m=\u001b[39mfill_value,\n\u001b[1;32m   1108\u001b[0m     \u001b[38;5;241m*\u001b[39m\u001b[38;5;241m*\u001b[39mkwargs,\n\u001b[1;32m   1109\u001b[0m )\n\u001b[1;32m   1111\u001b[0m nb \u001b[38;5;241m=\u001b[39m \u001b[38;5;28mself\u001b[39m\u001b[38;5;241m.\u001b[39mmake_block_same_class(data)\n\u001b[1;32m   1112\u001b[0m \u001b[38;5;28;01mreturn\u001b[39;00m nb\u001b[38;5;241m.\u001b[39m_maybe_downcast([nb], downcast)\n",
            "File \u001b[0;32m/lib/python3.10/site-packages/pandas/core/missing.py:249\u001b[0m, in \u001b[0;36minterpolate_array_2d\u001b[0;34m(data, method, axis, index, limit, limit_direction, limit_area, fill_value, coerce, downcast, **kwargs)\u001b[0m\n\u001b[1;32m    246\u001b[0m \u001b[38;5;28;01melse\u001b[39;00m:\n\u001b[1;32m    247\u001b[0m     \u001b[38;5;28;01massert\u001b[39;00m index \u001b[38;5;129;01mis\u001b[39;00m \u001b[38;5;129;01mnot\u001b[39;00m \u001b[38;5;28;01mNone\u001b[39;00m  \u001b[38;5;66;03m# for mypy\u001b[39;00m\n\u001b[0;32m--> 249\u001b[0m     _interpolate_2d_with_fill(\n\u001b[1;32m    250\u001b[0m         data\u001b[38;5;241m=\u001b[39mdata,\n\u001b[1;32m    251\u001b[0m         index\u001b[38;5;241m=\u001b[39mindex,\n\u001b[1;32m    252\u001b[0m         axis\u001b[38;5;241m=\u001b[39maxis,\n\u001b[1;32m    253\u001b[0m         method\u001b[38;5;241m=\u001b[39mmethod,\n\u001b[1;32m    254\u001b[0m         limit\u001b[38;5;241m=\u001b[39mlimit,\n\u001b[1;32m    255\u001b[0m         limit_direction\u001b[38;5;241m=\u001b[39mlimit_direction,\n\u001b[1;32m    256\u001b[0m         limit_area\u001b[38;5;241m=\u001b[39mlimit_area,\n\u001b[1;32m    257\u001b[0m         fill_value\u001b[38;5;241m=\u001b[39mfill_value,\n\u001b[1;32m    258\u001b[0m         \u001b[38;5;241m*\u001b[39m\u001b[38;5;241m*\u001b[39mkwargs,\n\u001b[1;32m    259\u001b[0m     )\n\u001b[1;32m    260\u001b[0m \u001b[38;5;28;01mreturn\u001b[39;00m\n",
            "File \u001b[0;32m/lib/python3.10/site-packages/pandas/core/missing.py:292\u001b[0m, in \u001b[0;36m_interpolate_2d_with_fill\u001b[0;34m(data, index, axis, method, limit, limit_direction, limit_area, fill_value, **kwargs)\u001b[0m\n\u001b[1;32m    290\u001b[0m \u001b[38;5;28;01mif\u001b[39;00m method \u001b[38;5;241m==\u001b[39m \u001b[38;5;124m\"\u001b[39m\u001b[38;5;124mtime\u001b[39m\u001b[38;5;124m\"\u001b[39m:\n\u001b[1;32m    291\u001b[0m     \u001b[38;5;28;01mif\u001b[39;00m \u001b[38;5;129;01mnot\u001b[39;00m needs_i8_conversion(index\u001b[38;5;241m.\u001b[39mdtype):\n\u001b[0;32m--> 292\u001b[0m         \u001b[38;5;28;01mraise\u001b[39;00m \u001b[38;5;167;01mValueError\u001b[39;00m(\n\u001b[1;32m    293\u001b[0m             \u001b[38;5;124m\"\u001b[39m\u001b[38;5;124mtime-weighted interpolation only works \u001b[39m\u001b[38;5;124m\"\u001b[39m\n\u001b[1;32m    294\u001b[0m             \u001b[38;5;124m\"\u001b[39m\u001b[38;5;124mon Series or DataFrames with a \u001b[39m\u001b[38;5;124m\"\u001b[39m\n\u001b[1;32m    295\u001b[0m             \u001b[38;5;124m\"\u001b[39m\u001b[38;5;124mDatetimeIndex\u001b[39m\u001b[38;5;124m\"\u001b[39m\n\u001b[1;32m    296\u001b[0m         )\n\u001b[1;32m    297\u001b[0m     method \u001b[38;5;241m=\u001b[39m \u001b[38;5;124m\"\u001b[39m\u001b[38;5;124mvalues\u001b[39m\u001b[38;5;124m\"\u001b[39m\n\u001b[1;32m    299\u001b[0m valid_limit_directions \u001b[38;5;241m=\u001b[39m [\u001b[38;5;124m\"\u001b[39m\u001b[38;5;124mforward\u001b[39m\u001b[38;5;124m\"\u001b[39m, \u001b[38;5;124m\"\u001b[39m\u001b[38;5;124mbackward\u001b[39m\u001b[38;5;124m\"\u001b[39m, \u001b[38;5;124m\"\u001b[39m\u001b[38;5;124mboth\u001b[39m\u001b[38;5;124m\"\u001b[39m]\n",
            "\u001b[0;31mValueError\u001b[0m: time-weighted interpolation only works on Series or DataFrames with a DatetimeIndex"
          ],
          "output_type": "error"
        }
      ]
    },
    {
      "cell_type": "code",
      "source": "#by using index method it is filling the value according to index value\ndf.interpolate(method='index')#its fill according to date value",
      "metadata": {
        "trusted": true
      },
      "execution_count": 6,
      "outputs": [
        {
          "execution_count": 6,
          "output_type": "execute_result",
          "data": {
            "text/plain": "         Date  Student ID  Class Section  Study hrs  Percentage\n0  01-07-2019      1001.0     10       A   2.000000        50.0\n1  02-07-2019      1002.0     10     NaN   2.500000        80.0\n2  03-07-2019      1003.0     10     NaN   3.000000        60.0\n3  06-07-2019      1004.0     11     NaN   0.000000        65.0\n4  07-07-2019      1005.0     11       A   4.000000        70.0\n5  08-07-2019      1006.0     11       D  10.000000        75.0\n6  09-07-2019      1007.0     12       B   4.000000        80.0\n7  10-07-2019      1008.0     12       C   4.666667        90.0\n8  11-07-2019      1009.0     12       A   5.333333        60.0\n9  12-07-2019      1010.0     12       D   6.000000        85.0",
            "text/html": "<div>\n<style scoped>\n    .dataframe tbody tr th:only-of-type {\n        vertical-align: middle;\n    }\n\n    .dataframe tbody tr th {\n        vertical-align: top;\n    }\n\n    .dataframe thead th {\n        text-align: right;\n    }\n</style>\n<table border=\"1\" class=\"dataframe\">\n  <thead>\n    <tr style=\"text-align: right;\">\n      <th></th>\n      <th>Date</th>\n      <th>Student ID</th>\n      <th>Class</th>\n      <th>Section</th>\n      <th>Study hrs</th>\n      <th>Percentage</th>\n    </tr>\n  </thead>\n  <tbody>\n    <tr>\n      <th>0</th>\n      <td>01-07-2019</td>\n      <td>1001.0</td>\n      <td>10</td>\n      <td>A</td>\n      <td>2.000000</td>\n      <td>50.0</td>\n    </tr>\n    <tr>\n      <th>1</th>\n      <td>02-07-2019</td>\n      <td>1002.0</td>\n      <td>10</td>\n      <td>NaN</td>\n      <td>2.500000</td>\n      <td>80.0</td>\n    </tr>\n    <tr>\n      <th>2</th>\n      <td>03-07-2019</td>\n      <td>1003.0</td>\n      <td>10</td>\n      <td>NaN</td>\n      <td>3.000000</td>\n      <td>60.0</td>\n    </tr>\n    <tr>\n      <th>3</th>\n      <td>06-07-2019</td>\n      <td>1004.0</td>\n      <td>11</td>\n      <td>NaN</td>\n      <td>0.000000</td>\n      <td>65.0</td>\n    </tr>\n    <tr>\n      <th>4</th>\n      <td>07-07-2019</td>\n      <td>1005.0</td>\n      <td>11</td>\n      <td>A</td>\n      <td>4.000000</td>\n      <td>70.0</td>\n    </tr>\n    <tr>\n      <th>5</th>\n      <td>08-07-2019</td>\n      <td>1006.0</td>\n      <td>11</td>\n      <td>D</td>\n      <td>10.000000</td>\n      <td>75.0</td>\n    </tr>\n    <tr>\n      <th>6</th>\n      <td>09-07-2019</td>\n      <td>1007.0</td>\n      <td>12</td>\n      <td>B</td>\n      <td>4.000000</td>\n      <td>80.0</td>\n    </tr>\n    <tr>\n      <th>7</th>\n      <td>10-07-2019</td>\n      <td>1008.0</td>\n      <td>12</td>\n      <td>C</td>\n      <td>4.666667</td>\n      <td>90.0</td>\n    </tr>\n    <tr>\n      <th>8</th>\n      <td>11-07-2019</td>\n      <td>1009.0</td>\n      <td>12</td>\n      <td>A</td>\n      <td>5.333333</td>\n      <td>60.0</td>\n    </tr>\n    <tr>\n      <th>9</th>\n      <td>12-07-2019</td>\n      <td>1010.0</td>\n      <td>12</td>\n      <td>D</td>\n      <td>6.000000</td>\n      <td>85.0</td>\n    </tr>\n  </tbody>\n</table>\n</div>"
          },
          "metadata": {}
        }
      ]
    },
    {
      "cell_type": "code",
      "source": "#Let's change the index first then check by using method function",
      "metadata": {
        "trusted": true
      },
      "execution_count": 33,
      "outputs": []
    },
    {
      "cell_type": "code",
      "source": "df=pd.read_csv('student_10.csv',parse_dates=['Date'],index_col='Class')\ndf",
      "metadata": {
        "trusted": true
      },
      "execution_count": 46,
      "outputs": [
        {
          "execution_count": 46,
          "output_type": "execute_result",
          "data": {
            "text/plain": "            Date  Student ID Section  Study hrs  Percentage\nClass                                                      \n10    2019-01-07      1001.0       A        2.0        50.0\n10    2019-02-07      1002.0     NaN        NaN        80.0\n10    2019-03-07         NaN     NaN        3.0        60.0\n11    2019-06-07         NaN     NaN        0.0         NaN\n11    2019-07-07      1005.0       A        4.0         NaN\n11    2019-08-07         NaN       D       10.0         NaN\n12    2019-09-07      1007.0       B        4.0        80.0\n12    2019-10-07      1008.0       C        NaN        90.0\n12    2019-11-07      1009.0       A        NaN        60.0\n12    2019-12-07      1010.0       D        6.0        85.0",
            "text/html": "<div>\n<style scoped>\n    .dataframe tbody tr th:only-of-type {\n        vertical-align: middle;\n    }\n\n    .dataframe tbody tr th {\n        vertical-align: top;\n    }\n\n    .dataframe thead th {\n        text-align: right;\n    }\n</style>\n<table border=\"1\" class=\"dataframe\">\n  <thead>\n    <tr style=\"text-align: right;\">\n      <th></th>\n      <th>Date</th>\n      <th>Student ID</th>\n      <th>Section</th>\n      <th>Study hrs</th>\n      <th>Percentage</th>\n    </tr>\n    <tr>\n      <th>Class</th>\n      <th></th>\n      <th></th>\n      <th></th>\n      <th></th>\n      <th></th>\n    </tr>\n  </thead>\n  <tbody>\n    <tr>\n      <th>10</th>\n      <td>2019-01-07</td>\n      <td>1001.0</td>\n      <td>A</td>\n      <td>2.0</td>\n      <td>50.0</td>\n    </tr>\n    <tr>\n      <th>10</th>\n      <td>2019-02-07</td>\n      <td>1002.0</td>\n      <td>NaN</td>\n      <td>NaN</td>\n      <td>80.0</td>\n    </tr>\n    <tr>\n      <th>10</th>\n      <td>2019-03-07</td>\n      <td>NaN</td>\n      <td>NaN</td>\n      <td>3.0</td>\n      <td>60.0</td>\n    </tr>\n    <tr>\n      <th>11</th>\n      <td>2019-06-07</td>\n      <td>NaN</td>\n      <td>NaN</td>\n      <td>0.0</td>\n      <td>NaN</td>\n    </tr>\n    <tr>\n      <th>11</th>\n      <td>2019-07-07</td>\n      <td>1005.0</td>\n      <td>A</td>\n      <td>4.0</td>\n      <td>NaN</td>\n    </tr>\n    <tr>\n      <th>11</th>\n      <td>2019-08-07</td>\n      <td>NaN</td>\n      <td>D</td>\n      <td>10.0</td>\n      <td>NaN</td>\n    </tr>\n    <tr>\n      <th>12</th>\n      <td>2019-09-07</td>\n      <td>1007.0</td>\n      <td>B</td>\n      <td>4.0</td>\n      <td>80.0</td>\n    </tr>\n    <tr>\n      <th>12</th>\n      <td>2019-10-07</td>\n      <td>1008.0</td>\n      <td>C</td>\n      <td>NaN</td>\n      <td>90.0</td>\n    </tr>\n    <tr>\n      <th>12</th>\n      <td>2019-11-07</td>\n      <td>1009.0</td>\n      <td>A</td>\n      <td>NaN</td>\n      <td>60.0</td>\n    </tr>\n    <tr>\n      <th>12</th>\n      <td>2019-12-07</td>\n      <td>1010.0</td>\n      <td>D</td>\n      <td>6.0</td>\n      <td>85.0</td>\n    </tr>\n  </tbody>\n</table>\n</div>"
          },
          "metadata": {}
        }
      ]
    },
    {
      "cell_type": "code",
      "source": "df.interpolate(method= \"index\")",
      "metadata": {
        "trusted": true
      },
      "execution_count": 7,
      "outputs": [
        {
          "execution_count": 7,
          "output_type": "execute_result",
          "data": {
            "text/plain": "         Date  Student ID  Class Section  Study hrs  Percentage\n0  01-07-2019      1001.0     10       A   2.000000        50.0\n1  02-07-2019      1002.0     10     NaN   2.500000        80.0\n2  03-07-2019      1003.0     10     NaN   3.000000        60.0\n3  06-07-2019      1004.0     11     NaN   0.000000        65.0\n4  07-07-2019      1005.0     11       A   4.000000        70.0\n5  08-07-2019      1006.0     11       D  10.000000        75.0\n6  09-07-2019      1007.0     12       B   4.000000        80.0\n7  10-07-2019      1008.0     12       C   4.666667        90.0\n8  11-07-2019      1009.0     12       A   5.333333        60.0\n9  12-07-2019      1010.0     12       D   6.000000        85.0",
            "text/html": "<div>\n<style scoped>\n    .dataframe tbody tr th:only-of-type {\n        vertical-align: middle;\n    }\n\n    .dataframe tbody tr th {\n        vertical-align: top;\n    }\n\n    .dataframe thead th {\n        text-align: right;\n    }\n</style>\n<table border=\"1\" class=\"dataframe\">\n  <thead>\n    <tr style=\"text-align: right;\">\n      <th></th>\n      <th>Date</th>\n      <th>Student ID</th>\n      <th>Class</th>\n      <th>Section</th>\n      <th>Study hrs</th>\n      <th>Percentage</th>\n    </tr>\n  </thead>\n  <tbody>\n    <tr>\n      <th>0</th>\n      <td>01-07-2019</td>\n      <td>1001.0</td>\n      <td>10</td>\n      <td>A</td>\n      <td>2.000000</td>\n      <td>50.0</td>\n    </tr>\n    <tr>\n      <th>1</th>\n      <td>02-07-2019</td>\n      <td>1002.0</td>\n      <td>10</td>\n      <td>NaN</td>\n      <td>2.500000</td>\n      <td>80.0</td>\n    </tr>\n    <tr>\n      <th>2</th>\n      <td>03-07-2019</td>\n      <td>1003.0</td>\n      <td>10</td>\n      <td>NaN</td>\n      <td>3.000000</td>\n      <td>60.0</td>\n    </tr>\n    <tr>\n      <th>3</th>\n      <td>06-07-2019</td>\n      <td>1004.0</td>\n      <td>11</td>\n      <td>NaN</td>\n      <td>0.000000</td>\n      <td>65.0</td>\n    </tr>\n    <tr>\n      <th>4</th>\n      <td>07-07-2019</td>\n      <td>1005.0</td>\n      <td>11</td>\n      <td>A</td>\n      <td>4.000000</td>\n      <td>70.0</td>\n    </tr>\n    <tr>\n      <th>5</th>\n      <td>08-07-2019</td>\n      <td>1006.0</td>\n      <td>11</td>\n      <td>D</td>\n      <td>10.000000</td>\n      <td>75.0</td>\n    </tr>\n    <tr>\n      <th>6</th>\n      <td>09-07-2019</td>\n      <td>1007.0</td>\n      <td>12</td>\n      <td>B</td>\n      <td>4.000000</td>\n      <td>80.0</td>\n    </tr>\n    <tr>\n      <th>7</th>\n      <td>10-07-2019</td>\n      <td>1008.0</td>\n      <td>12</td>\n      <td>C</td>\n      <td>4.666667</td>\n      <td>90.0</td>\n    </tr>\n    <tr>\n      <th>8</th>\n      <td>11-07-2019</td>\n      <td>1009.0</td>\n      <td>12</td>\n      <td>A</td>\n      <td>5.333333</td>\n      <td>60.0</td>\n    </tr>\n    <tr>\n      <th>9</th>\n      <td>12-07-2019</td>\n      <td>1010.0</td>\n      <td>12</td>\n      <td>D</td>\n      <td>6.000000</td>\n      <td>85.0</td>\n    </tr>\n  </tbody>\n</table>\n</div>"
          },
          "metadata": {}
        }
      ]
    },
    {
      "cell_type": "code",
      "source": "#so according to index u can guess missing value",
      "metadata": {
        "trusted": true
      },
      "execution_count": 41,
      "outputs": []
    },
    {
      "cell_type": "code",
      "source": "#nearest parameter",
      "metadata": {
        "trusted": true
      },
      "execution_count": 42,
      "outputs": []
    },
    {
      "cell_type": "code",
      "source": "#filling the nan values with nearest value",
      "metadata": {
        "trusted": true
      },
      "execution_count": 43,
      "outputs": []
    },
    {
      "cell_type": "code",
      "source": "df.interpolate(method='nearest')#we need to import module for this",
      "metadata": {
        "trusted": true
      },
      "execution_count": 10,
      "outputs": [
        {
          "ename": "<class 'ImportError'>",
          "evalue": "Missing optional dependency 'scipy'. nearest interpolation requires SciPy. Use pip or conda to install scipy.",
          "traceback": [
            "\u001b[0;31m---------------------------------------------------------------------------\u001b[0m",
            "\u001b[0;31mModuleNotFoundError\u001b[0m                       Traceback (most recent call last)",
            "File \u001b[0;32m/lib/python3.10/site-packages/pandas/compat/_optional.py:138\u001b[0m, in \u001b[0;36mimport_optional_dependency\u001b[0;34m(name, extra, errors, min_version)\u001b[0m\n\u001b[1;32m    137\u001b[0m \u001b[38;5;28;01mtry\u001b[39;00m:\n\u001b[0;32m--> 138\u001b[0m     module \u001b[38;5;241m=\u001b[39m \u001b[43mimportlib\u001b[49m\u001b[38;5;241;43m.\u001b[39;49m\u001b[43mimport_module\u001b[49m\u001b[43m(\u001b[49m\u001b[43mname\u001b[49m\u001b[43m)\u001b[49m\n\u001b[1;32m    139\u001b[0m \u001b[38;5;28;01mexcept\u001b[39;00m \u001b[38;5;167;01mImportError\u001b[39;00m:\n",
            "File \u001b[0;32m/lib/python3.10/importlib/__init__.py:126\u001b[0m, in \u001b[0;36mimport_module\u001b[0;34m(name, package)\u001b[0m\n\u001b[1;32m    125\u001b[0m         level \u001b[38;5;241m+\u001b[39m\u001b[38;5;241m=\u001b[39m \u001b[38;5;241m1\u001b[39m\n\u001b[0;32m--> 126\u001b[0m \u001b[38;5;28;01mreturn\u001b[39;00m \u001b[43m_bootstrap\u001b[49m\u001b[38;5;241;43m.\u001b[39;49m\u001b[43m_gcd_import\u001b[49m\u001b[43m(\u001b[49m\u001b[43mname\u001b[49m\u001b[43m[\u001b[49m\u001b[43mlevel\u001b[49m\u001b[43m:\u001b[49m\u001b[43m]\u001b[49m\u001b[43m,\u001b[49m\u001b[43m \u001b[49m\u001b[43mpackage\u001b[49m\u001b[43m,\u001b[49m\u001b[43m \u001b[49m\u001b[43mlevel\u001b[49m\u001b[43m)\u001b[49m\n",
            "File \u001b[0;32m<frozen importlib._bootstrap>:1050\u001b[0m, in \u001b[0;36m_gcd_import\u001b[0;34m(name, package, level)\u001b[0m\n",
            "File \u001b[0;32m<frozen importlib._bootstrap>:1027\u001b[0m, in \u001b[0;36m_find_and_load\u001b[0;34m(name, import_)\u001b[0m\n",
            "File \u001b[0;32m<frozen importlib._bootstrap>:1004\u001b[0m, in \u001b[0;36m_find_and_load_unlocked\u001b[0;34m(name, import_)\u001b[0m\n",
            "\u001b[0;31mModuleNotFoundError\u001b[0m: No module named 'scipy'",
            "\nDuring handling of the above exception, another exception occurred:\n",
            "\u001b[0;31mImportError\u001b[0m                               Traceback (most recent call last)",
            "Cell \u001b[0;32mIn [10], line 1\u001b[0m\n\u001b[0;32m----> 1\u001b[0m \u001b[43mdf\u001b[49m\u001b[38;5;241;43m.\u001b[39;49m\u001b[43minterpolate\u001b[49m\u001b[43m(\u001b[49m\u001b[43mmethod\u001b[49m\u001b[38;5;241;43m=\u001b[39;49m\u001b[38;5;124;43m'\u001b[39;49m\u001b[38;5;124;43mnearest\u001b[39;49m\u001b[38;5;124;43m'\u001b[39;49m\u001b[43m)\u001b[49m\n",
            "File \u001b[0;32m/lib/python3.10/site-packages/pandas/util/_decorators.py:311\u001b[0m, in \u001b[0;36mdeprecate_nonkeyword_arguments.<locals>.decorate.<locals>.wrapper\u001b[0;34m(*args, **kwargs)\u001b[0m\n\u001b[1;32m    305\u001b[0m \u001b[38;5;28;01mif\u001b[39;00m \u001b[38;5;28mlen\u001b[39m(args) \u001b[38;5;241m>\u001b[39m num_allow_args:\n\u001b[1;32m    306\u001b[0m     warnings\u001b[38;5;241m.\u001b[39mwarn(\n\u001b[1;32m    307\u001b[0m         msg\u001b[38;5;241m.\u001b[39mformat(arguments\u001b[38;5;241m=\u001b[39marguments),\n\u001b[1;32m    308\u001b[0m         \u001b[38;5;167;01mFutureWarning\u001b[39;00m,\n\u001b[1;32m    309\u001b[0m         stacklevel\u001b[38;5;241m=\u001b[39mstacklevel,\n\u001b[1;32m    310\u001b[0m     )\n\u001b[0;32m--> 311\u001b[0m \u001b[38;5;28;01mreturn\u001b[39;00m func(\u001b[38;5;241m*\u001b[39margs, \u001b[38;5;241m*\u001b[39m\u001b[38;5;241m*\u001b[39mkwargs)\n",
            "File \u001b[0;32m/lib/python3.10/site-packages/pandas/core/frame.py:10931\u001b[0m, in \u001b[0;36mDataFrame.interpolate\u001b[0;34m(self, method, axis, limit, inplace, limit_direction, limit_area, downcast, **kwargs)\u001b[0m\n\u001b[1;32m  10919\u001b[0m \u001b[38;5;129m@deprecate_nonkeyword_arguments\u001b[39m(version\u001b[38;5;241m=\u001b[39m\u001b[38;5;28;01mNone\u001b[39;00m, allowed_args\u001b[38;5;241m=\u001b[39m[\u001b[38;5;124m\"\u001b[39m\u001b[38;5;124mself\u001b[39m\u001b[38;5;124m\"\u001b[39m, \u001b[38;5;124m\"\u001b[39m\u001b[38;5;124mmethod\u001b[39m\u001b[38;5;124m\"\u001b[39m])\n\u001b[1;32m  10920\u001b[0m \u001b[38;5;28;01mdef\u001b[39;00m \u001b[38;5;21minterpolate\u001b[39m(\n\u001b[1;32m  10921\u001b[0m     \u001b[38;5;28mself\u001b[39m: DataFrame,\n\u001b[0;32m   (...)\u001b[0m\n\u001b[1;32m  10929\u001b[0m     \u001b[38;5;241m*\u001b[39m\u001b[38;5;241m*\u001b[39mkwargs,\n\u001b[1;32m  10930\u001b[0m ) \u001b[38;5;241m-\u001b[39m\u001b[38;5;241m>\u001b[39m DataFrame \u001b[38;5;241m|\u001b[39m \u001b[38;5;28;01mNone\u001b[39;00m:\n\u001b[0;32m> 10931\u001b[0m     \u001b[38;5;28;01mreturn\u001b[39;00m \u001b[38;5;28msuper\u001b[39m()\u001b[38;5;241m.\u001b[39minterpolate(\n\u001b[1;32m  10932\u001b[0m         method,\n\u001b[1;32m  10933\u001b[0m         axis,\n\u001b[1;32m  10934\u001b[0m         limit,\n\u001b[1;32m  10935\u001b[0m         inplace,\n\u001b[1;32m  10936\u001b[0m         limit_direction,\n\u001b[1;32m  10937\u001b[0m         limit_area,\n\u001b[1;32m  10938\u001b[0m         downcast,\n\u001b[1;32m  10939\u001b[0m         \u001b[38;5;241m*\u001b[39m\u001b[38;5;241m*\u001b[39mkwargs,\n\u001b[1;32m  10940\u001b[0m     )\n",
            "File \u001b[0;32m/lib/python3.10/site-packages/pandas/core/generic.py:7034\u001b[0m, in \u001b[0;36mNDFrame.interpolate\u001b[0;34m(self, method, axis, limit, inplace, limit_direction, limit_area, downcast, **kwargs)\u001b[0m\n\u001b[1;32m   7028\u001b[0m \u001b[38;5;28;01mif\u001b[39;00m isna(index)\u001b[38;5;241m.\u001b[39many():\n\u001b[1;32m   7029\u001b[0m     \u001b[38;5;28;01mraise\u001b[39;00m \u001b[38;5;167;01mNotImplementedError\u001b[39;00m(\n\u001b[1;32m   7030\u001b[0m         \u001b[38;5;124m\"\u001b[39m\u001b[38;5;124mInterpolation with NaNs in the index \u001b[39m\u001b[38;5;124m\"\u001b[39m\n\u001b[1;32m   7031\u001b[0m         \u001b[38;5;124m\"\u001b[39m\u001b[38;5;124mhas not been implemented. Try filling \u001b[39m\u001b[38;5;124m\"\u001b[39m\n\u001b[1;32m   7032\u001b[0m         \u001b[38;5;124m\"\u001b[39m\u001b[38;5;124mthose NaNs before interpolating.\u001b[39m\u001b[38;5;124m\"\u001b[39m\n\u001b[1;32m   7033\u001b[0m     )\n\u001b[0;32m-> 7034\u001b[0m new_data \u001b[38;5;241m=\u001b[39m obj\u001b[38;5;241m.\u001b[39m_mgr\u001b[38;5;241m.\u001b[39minterpolate(\n\u001b[1;32m   7035\u001b[0m     method\u001b[38;5;241m=\u001b[39mmethod,\n\u001b[1;32m   7036\u001b[0m     axis\u001b[38;5;241m=\u001b[39maxis,\n\u001b[1;32m   7037\u001b[0m     index\u001b[38;5;241m=\u001b[39mindex,\n\u001b[1;32m   7038\u001b[0m     limit\u001b[38;5;241m=\u001b[39mlimit,\n\u001b[1;32m   7039\u001b[0m     limit_direction\u001b[38;5;241m=\u001b[39mlimit_direction,\n\u001b[1;32m   7040\u001b[0m     limit_area\u001b[38;5;241m=\u001b[39mlimit_area,\n\u001b[1;32m   7041\u001b[0m     inplace\u001b[38;5;241m=\u001b[39minplace,\n\u001b[1;32m   7042\u001b[0m     downcast\u001b[38;5;241m=\u001b[39mdowncast,\n\u001b[1;32m   7043\u001b[0m     \u001b[38;5;241m*\u001b[39m\u001b[38;5;241m*\u001b[39mkwargs,\n\u001b[1;32m   7044\u001b[0m )\n\u001b[1;32m   7046\u001b[0m result \u001b[38;5;241m=\u001b[39m \u001b[38;5;28mself\u001b[39m\u001b[38;5;241m.\u001b[39m_constructor(new_data)\n\u001b[1;32m   7047\u001b[0m \u001b[38;5;28;01mif\u001b[39;00m should_transpose:\n",
            "File \u001b[0;32m/lib/python3.10/site-packages/pandas/core/internals/managers.py:359\u001b[0m, in \u001b[0;36mBaseBlockManager.interpolate\u001b[0;34m(self, **kwargs)\u001b[0m\n\u001b[1;32m    358\u001b[0m \u001b[38;5;28;01mdef\u001b[39;00m \u001b[38;5;21minterpolate\u001b[39m(\u001b[38;5;28mself\u001b[39m: T, \u001b[38;5;241m*\u001b[39m\u001b[38;5;241m*\u001b[39mkwargs) \u001b[38;5;241m-\u001b[39m\u001b[38;5;241m>\u001b[39m T:\n\u001b[0;32m--> 359\u001b[0m     \u001b[38;5;28;01mreturn\u001b[39;00m \u001b[38;5;28mself\u001b[39m\u001b[38;5;241m.\u001b[39mapply(\u001b[38;5;124m\"\u001b[39m\u001b[38;5;124minterpolate\u001b[39m\u001b[38;5;124m\"\u001b[39m, \u001b[38;5;241m*\u001b[39m\u001b[38;5;241m*\u001b[39mkwargs)\n",
            "File \u001b[0;32m/lib/python3.10/site-packages/pandas/core/internals/managers.py:304\u001b[0m, in \u001b[0;36mBaseBlockManager.apply\u001b[0;34m(self, f, align_keys, ignore_failures, **kwargs)\u001b[0m\n\u001b[1;32m    302\u001b[0m         applied \u001b[38;5;241m=\u001b[39m b\u001b[38;5;241m.\u001b[39mapply(f, \u001b[38;5;241m*\u001b[39m\u001b[38;5;241m*\u001b[39mkwargs)\n\u001b[1;32m    303\u001b[0m     \u001b[38;5;28;01melse\u001b[39;00m:\n\u001b[0;32m--> 304\u001b[0m         applied \u001b[38;5;241m=\u001b[39m \u001b[38;5;28mgetattr\u001b[39m(b, f)(\u001b[38;5;241m*\u001b[39m\u001b[38;5;241m*\u001b[39mkwargs)\n\u001b[1;32m    305\u001b[0m \u001b[38;5;28;01mexcept\u001b[39;00m (\u001b[38;5;167;01mTypeError\u001b[39;00m, \u001b[38;5;167;01mNotImplementedError\u001b[39;00m):\n\u001b[1;32m    306\u001b[0m     \u001b[38;5;28;01mif\u001b[39;00m \u001b[38;5;129;01mnot\u001b[39;00m ignore_failures:\n",
            "File \u001b[0;32m/lib/python3.10/site-packages/pandas/core/internals/blocks.py:1099\u001b[0m, in \u001b[0;36mBlock.interpolate\u001b[0;34m(self, method, axis, index, inplace, limit, limit_direction, limit_area, fill_value, coerce, downcast, **kwargs)\u001b[0m\n\u001b[1;32m   1096\u001b[0m data \u001b[38;5;241m=\u001b[39m \u001b[38;5;28mself\u001b[39m\u001b[38;5;241m.\u001b[39mvalues \u001b[38;5;28;01mif\u001b[39;00m inplace \u001b[38;5;28;01melse\u001b[39;00m \u001b[38;5;28mself\u001b[39m\u001b[38;5;241m.\u001b[39mvalues\u001b[38;5;241m.\u001b[39mcopy()\n\u001b[1;32m   1097\u001b[0m data \u001b[38;5;241m=\u001b[39m cast(np\u001b[38;5;241m.\u001b[39mndarray, data)  \u001b[38;5;66;03m# bc overridden by ExtensionBlock\u001b[39;00m\n\u001b[0;32m-> 1099\u001b[0m missing\u001b[38;5;241m.\u001b[39minterpolate_array_2d(\n\u001b[1;32m   1100\u001b[0m     data,\n\u001b[1;32m   1101\u001b[0m     method\u001b[38;5;241m=\u001b[39mmethod,\n\u001b[1;32m   1102\u001b[0m     axis\u001b[38;5;241m=\u001b[39maxis,\n\u001b[1;32m   1103\u001b[0m     index\u001b[38;5;241m=\u001b[39mindex,\n\u001b[1;32m   1104\u001b[0m     limit\u001b[38;5;241m=\u001b[39mlimit,\n\u001b[1;32m   1105\u001b[0m     limit_direction\u001b[38;5;241m=\u001b[39mlimit_direction,\n\u001b[1;32m   1106\u001b[0m     limit_area\u001b[38;5;241m=\u001b[39mlimit_area,\n\u001b[1;32m   1107\u001b[0m     fill_value\u001b[38;5;241m=\u001b[39mfill_value,\n\u001b[1;32m   1108\u001b[0m     \u001b[38;5;241m*\u001b[39m\u001b[38;5;241m*\u001b[39mkwargs,\n\u001b[1;32m   1109\u001b[0m )\n\u001b[1;32m   1111\u001b[0m nb \u001b[38;5;241m=\u001b[39m \u001b[38;5;28mself\u001b[39m\u001b[38;5;241m.\u001b[39mmake_block_same_class(data)\n\u001b[1;32m   1112\u001b[0m \u001b[38;5;28;01mreturn\u001b[39;00m nb\u001b[38;5;241m.\u001b[39m_maybe_downcast([nb], downcast)\n",
            "File \u001b[0;32m/lib/python3.10/site-packages/pandas/core/missing.py:249\u001b[0m, in \u001b[0;36minterpolate_array_2d\u001b[0;34m(data, method, axis, index, limit, limit_direction, limit_area, fill_value, coerce, downcast, **kwargs)\u001b[0m\n\u001b[1;32m    246\u001b[0m \u001b[38;5;28;01melse\u001b[39;00m:\n\u001b[1;32m    247\u001b[0m     \u001b[38;5;28;01massert\u001b[39;00m index \u001b[38;5;129;01mis\u001b[39;00m \u001b[38;5;129;01mnot\u001b[39;00m \u001b[38;5;28;01mNone\u001b[39;00m  \u001b[38;5;66;03m# for mypy\u001b[39;00m\n\u001b[0;32m--> 249\u001b[0m     _interpolate_2d_with_fill(\n\u001b[1;32m    250\u001b[0m         data\u001b[38;5;241m=\u001b[39mdata,\n\u001b[1;32m    251\u001b[0m         index\u001b[38;5;241m=\u001b[39mindex,\n\u001b[1;32m    252\u001b[0m         axis\u001b[38;5;241m=\u001b[39maxis,\n\u001b[1;32m    253\u001b[0m         method\u001b[38;5;241m=\u001b[39mmethod,\n\u001b[1;32m    254\u001b[0m         limit\u001b[38;5;241m=\u001b[39mlimit,\n\u001b[1;32m    255\u001b[0m         limit_direction\u001b[38;5;241m=\u001b[39mlimit_direction,\n\u001b[1;32m    256\u001b[0m         limit_area\u001b[38;5;241m=\u001b[39mlimit_area,\n\u001b[1;32m    257\u001b[0m         fill_value\u001b[38;5;241m=\u001b[39mfill_value,\n\u001b[1;32m    258\u001b[0m         \u001b[38;5;241m*\u001b[39m\u001b[38;5;241m*\u001b[39mkwargs,\n\u001b[1;32m    259\u001b[0m     )\n\u001b[1;32m    260\u001b[0m \u001b[38;5;28;01mreturn\u001b[39;00m\n",
            "File \u001b[0;32m/lib/python3.10/site-packages/pandas/core/missing.py:344\u001b[0m, in \u001b[0;36m_interpolate_2d_with_fill\u001b[0;34m(data, index, axis, method, limit, limit_direction, limit_area, fill_value, **kwargs)\u001b[0m\n\u001b[1;32m    324\u001b[0m     _interpolate_1d(\n\u001b[1;32m    325\u001b[0m         indices\u001b[38;5;241m=\u001b[39mindices,\n\u001b[1;32m    326\u001b[0m         yvalues\u001b[38;5;241m=\u001b[39myvalues,\n\u001b[0;32m   (...)\u001b[0m\n\u001b[1;32m    333\u001b[0m         \u001b[38;5;241m*\u001b[39m\u001b[38;5;241m*\u001b[39mkwargs,\n\u001b[1;32m    334\u001b[0m     )\n\u001b[1;32m    336\u001b[0m \u001b[38;5;66;03m# Argument 1 to \"apply_along_axis\" has incompatible type\u001b[39;00m\n\u001b[1;32m    337\u001b[0m \u001b[38;5;66;03m# \"Callable[[ndarray[Any, Any]], None]\"; expected\u001b[39;00m\n\u001b[1;32m    338\u001b[0m \u001b[38;5;66;03m# \"Callable[..., Union[_SupportsArray[dtype[<nothing>]],\u001b[39;00m\n\u001b[0;32m   (...)\u001b[0m\n\u001b[1;32m    342\u001b[0m \u001b[38;5;66;03m# Sequence[Sequence[Sequence[Sequence[_SupportsArray[dtype[<nothing>]]]]]]]]\"\u001b[39;00m\n\u001b[1;32m    343\u001b[0m \u001b[38;5;66;03m# interp each column independently\u001b[39;00m\n\u001b[0;32m--> 344\u001b[0m \u001b[43mnp\u001b[49m\u001b[38;5;241;43m.\u001b[39;49m\u001b[43mapply_along_axis\u001b[49m\u001b[43m(\u001b[49m\u001b[43mfunc\u001b[49m\u001b[43m,\u001b[49m\u001b[43m \u001b[49m\u001b[43maxis\u001b[49m\u001b[43m,\u001b[49m\u001b[43m \u001b[49m\u001b[43mdata\u001b[49m\u001b[43m)\u001b[49m  \u001b[38;5;66;03m# type: ignore[arg-type]\u001b[39;00m\n\u001b[1;32m    345\u001b[0m \u001b[38;5;28;01mreturn\u001b[39;00m\n",
            "File \u001b[0;32m<__array_function__ internals>:180\u001b[0m, in \u001b[0;36mapply_along_axis\u001b[0;34m(*args, **kwargs)\u001b[0m\n",
            "File \u001b[0;32m/lib/python3.10/site-packages/numpy/lib/shape_base.py:379\u001b[0m, in \u001b[0;36mapply_along_axis\u001b[0;34m(func1d, axis, arr, *args, **kwargs)\u001b[0m\n\u001b[1;32m    375\u001b[0m \u001b[38;5;28;01mexcept\u001b[39;00m \u001b[38;5;167;01mStopIteration\u001b[39;00m \u001b[38;5;28;01mas\u001b[39;00m e:\n\u001b[1;32m    376\u001b[0m     \u001b[38;5;28;01mraise\u001b[39;00m \u001b[38;5;167;01mValueError\u001b[39;00m(\n\u001b[1;32m    377\u001b[0m         \u001b[38;5;124m'\u001b[39m\u001b[38;5;124mCannot apply_along_axis when any iteration dimensions are 0\u001b[39m\u001b[38;5;124m'\u001b[39m\n\u001b[1;32m    378\u001b[0m     ) \u001b[38;5;28;01mfrom\u001b[39;00m \u001b[38;5;28mNone\u001b[39m\n\u001b[0;32m--> 379\u001b[0m res \u001b[38;5;241m=\u001b[39m asanyarray(func1d(inarr_view[ind0], \u001b[38;5;241m*\u001b[39margs, \u001b[38;5;241m*\u001b[39m\u001b[38;5;241m*\u001b[39mkwargs))\n\u001b[1;32m    381\u001b[0m \u001b[38;5;66;03m# build a buffer for storing evaluations of func1d.\u001b[39;00m\n\u001b[1;32m    382\u001b[0m \u001b[38;5;66;03m# remove the requested axis, and add the new ones on the end.\u001b[39;00m\n\u001b[1;32m    383\u001b[0m \u001b[38;5;66;03m# laid out so that each write is contiguous.\u001b[39;00m\n\u001b[1;32m    384\u001b[0m \u001b[38;5;66;03m# for a tuple index inds, buff[inds] = func1d(inarr_view[inds])\u001b[39;00m\n\u001b[1;32m    385\u001b[0m buff \u001b[38;5;241m=\u001b[39m zeros(inarr_view\u001b[38;5;241m.\u001b[39mshape[:\u001b[38;5;241m-\u001b[39m\u001b[38;5;241m1\u001b[39m] \u001b[38;5;241m+\u001b[39m res\u001b[38;5;241m.\u001b[39mshape, res\u001b[38;5;241m.\u001b[39mdtype)\n",
            "File \u001b[0;32m/lib/python3.10/site-packages/pandas/core/missing.py:324\u001b[0m, in \u001b[0;36m_interpolate_2d_with_fill.<locals>.func\u001b[0;34m(yvalues)\u001b[0m\n\u001b[1;32m    321\u001b[0m \u001b[38;5;28;01mdef\u001b[39;00m \u001b[38;5;21mfunc\u001b[39m(yvalues: np\u001b[38;5;241m.\u001b[39mndarray) \u001b[38;5;241m-\u001b[39m\u001b[38;5;241m>\u001b[39m \u001b[38;5;28;01mNone\u001b[39;00m:\n\u001b[1;32m    322\u001b[0m     \u001b[38;5;66;03m# process 1-d slices in the axis direction\u001b[39;00m\n\u001b[0;32m--> 324\u001b[0m     _interpolate_1d(\n\u001b[1;32m    325\u001b[0m         indices\u001b[38;5;241m=\u001b[39mindices,\n\u001b[1;32m    326\u001b[0m         yvalues\u001b[38;5;241m=\u001b[39myvalues,\n\u001b[1;32m    327\u001b[0m         method\u001b[38;5;241m=\u001b[39mmethod,\n\u001b[1;32m    328\u001b[0m         limit\u001b[38;5;241m=\u001b[39mlimit,\n\u001b[1;32m    329\u001b[0m         limit_direction\u001b[38;5;241m=\u001b[39mlimit_direction,\n\u001b[1;32m    330\u001b[0m         limit_area\u001b[38;5;241m=\u001b[39mlimit_area,\n\u001b[1;32m    331\u001b[0m         fill_value\u001b[38;5;241m=\u001b[39mfill_value,\n\u001b[1;32m    332\u001b[0m         bounds_error\u001b[38;5;241m=\u001b[39m\u001b[38;5;28;01mFalse\u001b[39;00m,\n\u001b[1;32m    333\u001b[0m         \u001b[38;5;241m*\u001b[39m\u001b[38;5;241m*\u001b[39mkwargs,\n\u001b[1;32m    334\u001b[0m     )\n",
            "File \u001b[0;32m/lib/python3.10/site-packages/pandas/core/missing.py:455\u001b[0m, in \u001b[0;36m_interpolate_1d\u001b[0;34m(indices, yvalues, method, limit, limit_direction, limit_area, fill_value, bounds_error, order, **kwargs)\u001b[0m\n\u001b[1;32m    451\u001b[0m     yvalues[invalid] \u001b[38;5;241m=\u001b[39m np\u001b[38;5;241m.\u001b[39minterp(\n\u001b[1;32m    452\u001b[0m         indices[invalid], indices[valid][indexer], yvalues[valid][indexer]\n\u001b[1;32m    453\u001b[0m     )\n\u001b[1;32m    454\u001b[0m \u001b[38;5;28;01melse\u001b[39;00m:\n\u001b[0;32m--> 455\u001b[0m     yvalues[invalid] \u001b[38;5;241m=\u001b[39m _interpolate_scipy_wrapper(\n\u001b[1;32m    456\u001b[0m         indices[valid],\n\u001b[1;32m    457\u001b[0m         yvalues[valid],\n\u001b[1;32m    458\u001b[0m         indices[invalid],\n\u001b[1;32m    459\u001b[0m         method\u001b[38;5;241m=\u001b[39mmethod,\n\u001b[1;32m    460\u001b[0m         fill_value\u001b[38;5;241m=\u001b[39mfill_value,\n\u001b[1;32m    461\u001b[0m         bounds_error\u001b[38;5;241m=\u001b[39mbounds_error,\n\u001b[1;32m    462\u001b[0m         order\u001b[38;5;241m=\u001b[39morder,\n\u001b[1;32m    463\u001b[0m         \u001b[38;5;241m*\u001b[39m\u001b[38;5;241m*\u001b[39mkwargs,\n\u001b[1;32m    464\u001b[0m     )\n\u001b[1;32m    466\u001b[0m yvalues[preserve_nans] \u001b[38;5;241m=\u001b[39m np\u001b[38;5;241m.\u001b[39mnan\n\u001b[1;32m    467\u001b[0m \u001b[38;5;28;01mreturn\u001b[39;00m\n",
            "File \u001b[0;32m/lib/python3.10/site-packages/pandas/core/missing.py:479\u001b[0m, in \u001b[0;36m_interpolate_scipy_wrapper\u001b[0;34m(x, y, new_x, method, fill_value, bounds_error, order, **kwargs)\u001b[0m\n\u001b[1;32m    473\u001b[0m \u001b[38;5;124;03m\"\"\"\u001b[39;00m\n\u001b[1;32m    474\u001b[0m \u001b[38;5;124;03mPassed off to scipy.interpolate.interp1d. method is scipy's kind.\u001b[39;00m\n\u001b[1;32m    475\u001b[0m \u001b[38;5;124;03mReturns an array interpolated at new_x.  Add any new methods to\u001b[39;00m\n\u001b[1;32m    476\u001b[0m \u001b[38;5;124;03mthe list in _clean_interp_method.\u001b[39;00m\n\u001b[1;32m    477\u001b[0m \u001b[38;5;124;03m\"\"\"\u001b[39;00m\n\u001b[1;32m    478\u001b[0m extra \u001b[38;5;241m=\u001b[39m \u001b[38;5;124mf\u001b[39m\u001b[38;5;124m\"\u001b[39m\u001b[38;5;132;01m{\u001b[39;00mmethod\u001b[38;5;132;01m}\u001b[39;00m\u001b[38;5;124m interpolation requires SciPy.\u001b[39m\u001b[38;5;124m\"\u001b[39m\n\u001b[0;32m--> 479\u001b[0m \u001b[43mimport_optional_dependency\u001b[49m\u001b[43m(\u001b[49m\u001b[38;5;124;43m\"\u001b[39;49m\u001b[38;5;124;43mscipy\u001b[39;49m\u001b[38;5;124;43m\"\u001b[39;49m\u001b[43m,\u001b[49m\u001b[43m \u001b[49m\u001b[43mextra\u001b[49m\u001b[38;5;241;43m=\u001b[39;49m\u001b[43mextra\u001b[49m\u001b[43m)\u001b[49m\n\u001b[1;32m    480\u001b[0m \u001b[38;5;28;01mfrom\u001b[39;00m \u001b[38;5;21;01mscipy\u001b[39;00m \u001b[38;5;28;01mimport\u001b[39;00m interpolate\n\u001b[1;32m    482\u001b[0m new_x \u001b[38;5;241m=\u001b[39m np\u001b[38;5;241m.\u001b[39masarray(new_x)\n",
            "File \u001b[0;32m/lib/python3.10/site-packages/pandas/compat/_optional.py:141\u001b[0m, in \u001b[0;36mimport_optional_dependency\u001b[0;34m(name, extra, errors, min_version)\u001b[0m\n\u001b[1;32m    139\u001b[0m \u001b[38;5;28;01mexcept\u001b[39;00m \u001b[38;5;167;01mImportError\u001b[39;00m:\n\u001b[1;32m    140\u001b[0m     \u001b[38;5;28;01mif\u001b[39;00m errors \u001b[38;5;241m==\u001b[39m \u001b[38;5;124m\"\u001b[39m\u001b[38;5;124mraise\u001b[39m\u001b[38;5;124m\"\u001b[39m:\n\u001b[0;32m--> 141\u001b[0m         \u001b[38;5;28;01mraise\u001b[39;00m \u001b[38;5;167;01mImportError\u001b[39;00m(msg)\n\u001b[1;32m    142\u001b[0m     \u001b[38;5;28;01melse\u001b[39;00m:\n\u001b[1;32m    143\u001b[0m         \u001b[38;5;28;01mreturn\u001b[39;00m \u001b[38;5;28;01mNone\u001b[39;00m\n",
            "\u001b[0;31mImportError\u001b[0m: Missing optional dependency 'scipy'. nearest interpolation requires SciPy. Use pip or conda to install scipy."
          ],
          "output_type": "error"
        }
      ]
    },
    {
      "cell_type": "code",
      "source": "df=pd.read_csv('student_10.csv',parse_dates=['Date'],index_col='Date')\ndf",
      "metadata": {
        "trusted": true
      },
      "execution_count": 11,
      "outputs": [
        {
          "execution_count": 11,
          "output_type": "execute_result",
          "data": {
            "text/plain": "            Student ID  Class Section  Study hrs  Percentage\nDate                                                        \n2019-01-07      1001.0     10       A        2.0        50.0\n2019-02-07      1002.0     10     NaN        NaN        80.0\n2019-03-07         NaN     10     NaN        3.0        60.0\n2019-06-07         NaN     11     NaN        0.0         NaN\n2019-07-07      1005.0     11       A        4.0         NaN\n2019-08-07         NaN     11       D       10.0         NaN\n2019-09-07      1007.0     12       B        4.0        80.0\n2019-10-07      1008.0     12       C        NaN        90.0\n2019-11-07      1009.0     12       A        NaN        60.0\n2019-12-07      1010.0     12       D        6.0        85.0",
            "text/html": "<div>\n<style scoped>\n    .dataframe tbody tr th:only-of-type {\n        vertical-align: middle;\n    }\n\n    .dataframe tbody tr th {\n        vertical-align: top;\n    }\n\n    .dataframe thead th {\n        text-align: right;\n    }\n</style>\n<table border=\"1\" class=\"dataframe\">\n  <thead>\n    <tr style=\"text-align: right;\">\n      <th></th>\n      <th>Student ID</th>\n      <th>Class</th>\n      <th>Section</th>\n      <th>Study hrs</th>\n      <th>Percentage</th>\n    </tr>\n    <tr>\n      <th>Date</th>\n      <th></th>\n      <th></th>\n      <th></th>\n      <th></th>\n      <th></th>\n    </tr>\n  </thead>\n  <tbody>\n    <tr>\n      <th>2019-01-07</th>\n      <td>1001.0</td>\n      <td>10</td>\n      <td>A</td>\n      <td>2.0</td>\n      <td>50.0</td>\n    </tr>\n    <tr>\n      <th>2019-02-07</th>\n      <td>1002.0</td>\n      <td>10</td>\n      <td>NaN</td>\n      <td>NaN</td>\n      <td>80.0</td>\n    </tr>\n    <tr>\n      <th>2019-03-07</th>\n      <td>NaN</td>\n      <td>10</td>\n      <td>NaN</td>\n      <td>3.0</td>\n      <td>60.0</td>\n    </tr>\n    <tr>\n      <th>2019-06-07</th>\n      <td>NaN</td>\n      <td>11</td>\n      <td>NaN</td>\n      <td>0.0</td>\n      <td>NaN</td>\n    </tr>\n    <tr>\n      <th>2019-07-07</th>\n      <td>1005.0</td>\n      <td>11</td>\n      <td>A</td>\n      <td>4.0</td>\n      <td>NaN</td>\n    </tr>\n    <tr>\n      <th>2019-08-07</th>\n      <td>NaN</td>\n      <td>11</td>\n      <td>D</td>\n      <td>10.0</td>\n      <td>NaN</td>\n    </tr>\n    <tr>\n      <th>2019-09-07</th>\n      <td>1007.0</td>\n      <td>12</td>\n      <td>B</td>\n      <td>4.0</td>\n      <td>80.0</td>\n    </tr>\n    <tr>\n      <th>2019-10-07</th>\n      <td>1008.0</td>\n      <td>12</td>\n      <td>C</td>\n      <td>NaN</td>\n      <td>90.0</td>\n    </tr>\n    <tr>\n      <th>2019-11-07</th>\n      <td>1009.0</td>\n      <td>12</td>\n      <td>A</td>\n      <td>NaN</td>\n      <td>60.0</td>\n    </tr>\n    <tr>\n      <th>2019-12-07</th>\n      <td>1010.0</td>\n      <td>12</td>\n      <td>D</td>\n      <td>6.0</td>\n      <td>85.0</td>\n    </tr>\n  </tbody>\n</table>\n</div>"
          },
          "metadata": {}
        }
      ]
    },
    {
      "cell_type": "code",
      "source": "df.interpolate(method='polynomial',order=1)",
      "metadata": {
        "trusted": true
      },
      "execution_count": 14,
      "outputs": [
        {
          "ename": "<class 'ImportError'>",
          "evalue": "Missing optional dependency 'scipy'. polynomial interpolation requires SciPy. Use pip or conda to install scipy.",
          "traceback": [
            "\u001b[0;31m---------------------------------------------------------------------------\u001b[0m",
            "\u001b[0;31mModuleNotFoundError\u001b[0m                       Traceback (most recent call last)",
            "File \u001b[0;32m/lib/python3.10/site-packages/pandas/compat/_optional.py:138\u001b[0m, in \u001b[0;36mimport_optional_dependency\u001b[0;34m(name, extra, errors, min_version)\u001b[0m\n\u001b[1;32m    137\u001b[0m \u001b[38;5;28;01mtry\u001b[39;00m:\n\u001b[0;32m--> 138\u001b[0m     module \u001b[38;5;241m=\u001b[39m \u001b[43mimportlib\u001b[49m\u001b[38;5;241;43m.\u001b[39;49m\u001b[43mimport_module\u001b[49m\u001b[43m(\u001b[49m\u001b[43mname\u001b[49m\u001b[43m)\u001b[49m\n\u001b[1;32m    139\u001b[0m \u001b[38;5;28;01mexcept\u001b[39;00m \u001b[38;5;167;01mImportError\u001b[39;00m:\n",
            "File \u001b[0;32m/lib/python3.10/importlib/__init__.py:126\u001b[0m, in \u001b[0;36mimport_module\u001b[0;34m(name, package)\u001b[0m\n\u001b[1;32m    125\u001b[0m         level \u001b[38;5;241m+\u001b[39m\u001b[38;5;241m=\u001b[39m \u001b[38;5;241m1\u001b[39m\n\u001b[0;32m--> 126\u001b[0m \u001b[38;5;28;01mreturn\u001b[39;00m \u001b[43m_bootstrap\u001b[49m\u001b[38;5;241;43m.\u001b[39;49m\u001b[43m_gcd_import\u001b[49m\u001b[43m(\u001b[49m\u001b[43mname\u001b[49m\u001b[43m[\u001b[49m\u001b[43mlevel\u001b[49m\u001b[43m:\u001b[49m\u001b[43m]\u001b[49m\u001b[43m,\u001b[49m\u001b[43m \u001b[49m\u001b[43mpackage\u001b[49m\u001b[43m,\u001b[49m\u001b[43m \u001b[49m\u001b[43mlevel\u001b[49m\u001b[43m)\u001b[49m\n",
            "File \u001b[0;32m<frozen importlib._bootstrap>:1050\u001b[0m, in \u001b[0;36m_gcd_import\u001b[0;34m(name, package, level)\u001b[0m\n",
            "File \u001b[0;32m<frozen importlib._bootstrap>:1027\u001b[0m, in \u001b[0;36m_find_and_load\u001b[0;34m(name, import_)\u001b[0m\n",
            "File \u001b[0;32m<frozen importlib._bootstrap>:1004\u001b[0m, in \u001b[0;36m_find_and_load_unlocked\u001b[0;34m(name, import_)\u001b[0m\n",
            "\u001b[0;31mModuleNotFoundError\u001b[0m: No module named 'scipy'",
            "\nDuring handling of the above exception, another exception occurred:\n",
            "\u001b[0;31mImportError\u001b[0m                               Traceback (most recent call last)",
            "Cell \u001b[0;32mIn [14], line 1\u001b[0m\n\u001b[0;32m----> 1\u001b[0m \u001b[43mdf\u001b[49m\u001b[38;5;241;43m.\u001b[39;49m\u001b[43minterpolate\u001b[49m\u001b[43m(\u001b[49m\u001b[43mmethod\u001b[49m\u001b[38;5;241;43m=\u001b[39;49m\u001b[38;5;124;43m'\u001b[39;49m\u001b[38;5;124;43mpolynomial\u001b[39;49m\u001b[38;5;124;43m'\u001b[39;49m\u001b[43m,\u001b[49m\u001b[43morder\u001b[49m\u001b[38;5;241;43m=\u001b[39;49m\u001b[38;5;241;43m1\u001b[39;49m\u001b[43m)\u001b[49m\n",
            "File \u001b[0;32m/lib/python3.10/site-packages/pandas/util/_decorators.py:311\u001b[0m, in \u001b[0;36mdeprecate_nonkeyword_arguments.<locals>.decorate.<locals>.wrapper\u001b[0;34m(*args, **kwargs)\u001b[0m\n\u001b[1;32m    305\u001b[0m \u001b[38;5;28;01mif\u001b[39;00m \u001b[38;5;28mlen\u001b[39m(args) \u001b[38;5;241m>\u001b[39m num_allow_args:\n\u001b[1;32m    306\u001b[0m     warnings\u001b[38;5;241m.\u001b[39mwarn(\n\u001b[1;32m    307\u001b[0m         msg\u001b[38;5;241m.\u001b[39mformat(arguments\u001b[38;5;241m=\u001b[39marguments),\n\u001b[1;32m    308\u001b[0m         \u001b[38;5;167;01mFutureWarning\u001b[39;00m,\n\u001b[1;32m    309\u001b[0m         stacklevel\u001b[38;5;241m=\u001b[39mstacklevel,\n\u001b[1;32m    310\u001b[0m     )\n\u001b[0;32m--> 311\u001b[0m \u001b[38;5;28;01mreturn\u001b[39;00m func(\u001b[38;5;241m*\u001b[39margs, \u001b[38;5;241m*\u001b[39m\u001b[38;5;241m*\u001b[39mkwargs)\n",
            "File \u001b[0;32m/lib/python3.10/site-packages/pandas/core/frame.py:10931\u001b[0m, in \u001b[0;36mDataFrame.interpolate\u001b[0;34m(self, method, axis, limit, inplace, limit_direction, limit_area, downcast, **kwargs)\u001b[0m\n\u001b[1;32m  10919\u001b[0m \u001b[38;5;129m@deprecate_nonkeyword_arguments\u001b[39m(version\u001b[38;5;241m=\u001b[39m\u001b[38;5;28;01mNone\u001b[39;00m, allowed_args\u001b[38;5;241m=\u001b[39m[\u001b[38;5;124m\"\u001b[39m\u001b[38;5;124mself\u001b[39m\u001b[38;5;124m\"\u001b[39m, \u001b[38;5;124m\"\u001b[39m\u001b[38;5;124mmethod\u001b[39m\u001b[38;5;124m\"\u001b[39m])\n\u001b[1;32m  10920\u001b[0m \u001b[38;5;28;01mdef\u001b[39;00m \u001b[38;5;21minterpolate\u001b[39m(\n\u001b[1;32m  10921\u001b[0m     \u001b[38;5;28mself\u001b[39m: DataFrame,\n\u001b[0;32m   (...)\u001b[0m\n\u001b[1;32m  10929\u001b[0m     \u001b[38;5;241m*\u001b[39m\u001b[38;5;241m*\u001b[39mkwargs,\n\u001b[1;32m  10930\u001b[0m ) \u001b[38;5;241m-\u001b[39m\u001b[38;5;241m>\u001b[39m DataFrame \u001b[38;5;241m|\u001b[39m \u001b[38;5;28;01mNone\u001b[39;00m:\n\u001b[0;32m> 10931\u001b[0m     \u001b[38;5;28;01mreturn\u001b[39;00m \u001b[38;5;28msuper\u001b[39m()\u001b[38;5;241m.\u001b[39minterpolate(\n\u001b[1;32m  10932\u001b[0m         method,\n\u001b[1;32m  10933\u001b[0m         axis,\n\u001b[1;32m  10934\u001b[0m         limit,\n\u001b[1;32m  10935\u001b[0m         inplace,\n\u001b[1;32m  10936\u001b[0m         limit_direction,\n\u001b[1;32m  10937\u001b[0m         limit_area,\n\u001b[1;32m  10938\u001b[0m         downcast,\n\u001b[1;32m  10939\u001b[0m         \u001b[38;5;241m*\u001b[39m\u001b[38;5;241m*\u001b[39mkwargs,\n\u001b[1;32m  10940\u001b[0m     )\n",
            "File \u001b[0;32m/lib/python3.10/site-packages/pandas/core/generic.py:7034\u001b[0m, in \u001b[0;36mNDFrame.interpolate\u001b[0;34m(self, method, axis, limit, inplace, limit_direction, limit_area, downcast, **kwargs)\u001b[0m\n\u001b[1;32m   7028\u001b[0m \u001b[38;5;28;01mif\u001b[39;00m isna(index)\u001b[38;5;241m.\u001b[39many():\n\u001b[1;32m   7029\u001b[0m     \u001b[38;5;28;01mraise\u001b[39;00m \u001b[38;5;167;01mNotImplementedError\u001b[39;00m(\n\u001b[1;32m   7030\u001b[0m         \u001b[38;5;124m\"\u001b[39m\u001b[38;5;124mInterpolation with NaNs in the index \u001b[39m\u001b[38;5;124m\"\u001b[39m\n\u001b[1;32m   7031\u001b[0m         \u001b[38;5;124m\"\u001b[39m\u001b[38;5;124mhas not been implemented. Try filling \u001b[39m\u001b[38;5;124m\"\u001b[39m\n\u001b[1;32m   7032\u001b[0m         \u001b[38;5;124m\"\u001b[39m\u001b[38;5;124mthose NaNs before interpolating.\u001b[39m\u001b[38;5;124m\"\u001b[39m\n\u001b[1;32m   7033\u001b[0m     )\n\u001b[0;32m-> 7034\u001b[0m new_data \u001b[38;5;241m=\u001b[39m obj\u001b[38;5;241m.\u001b[39m_mgr\u001b[38;5;241m.\u001b[39minterpolate(\n\u001b[1;32m   7035\u001b[0m     method\u001b[38;5;241m=\u001b[39mmethod,\n\u001b[1;32m   7036\u001b[0m     axis\u001b[38;5;241m=\u001b[39maxis,\n\u001b[1;32m   7037\u001b[0m     index\u001b[38;5;241m=\u001b[39mindex,\n\u001b[1;32m   7038\u001b[0m     limit\u001b[38;5;241m=\u001b[39mlimit,\n\u001b[1;32m   7039\u001b[0m     limit_direction\u001b[38;5;241m=\u001b[39mlimit_direction,\n\u001b[1;32m   7040\u001b[0m     limit_area\u001b[38;5;241m=\u001b[39mlimit_area,\n\u001b[1;32m   7041\u001b[0m     inplace\u001b[38;5;241m=\u001b[39minplace,\n\u001b[1;32m   7042\u001b[0m     downcast\u001b[38;5;241m=\u001b[39mdowncast,\n\u001b[1;32m   7043\u001b[0m     \u001b[38;5;241m*\u001b[39m\u001b[38;5;241m*\u001b[39mkwargs,\n\u001b[1;32m   7044\u001b[0m )\n\u001b[1;32m   7046\u001b[0m result \u001b[38;5;241m=\u001b[39m \u001b[38;5;28mself\u001b[39m\u001b[38;5;241m.\u001b[39m_constructor(new_data)\n\u001b[1;32m   7047\u001b[0m \u001b[38;5;28;01mif\u001b[39;00m should_transpose:\n",
            "File \u001b[0;32m/lib/python3.10/site-packages/pandas/core/internals/managers.py:359\u001b[0m, in \u001b[0;36mBaseBlockManager.interpolate\u001b[0;34m(self, **kwargs)\u001b[0m\n\u001b[1;32m    358\u001b[0m \u001b[38;5;28;01mdef\u001b[39;00m \u001b[38;5;21minterpolate\u001b[39m(\u001b[38;5;28mself\u001b[39m: T, \u001b[38;5;241m*\u001b[39m\u001b[38;5;241m*\u001b[39mkwargs) \u001b[38;5;241m-\u001b[39m\u001b[38;5;241m>\u001b[39m T:\n\u001b[0;32m--> 359\u001b[0m     \u001b[38;5;28;01mreturn\u001b[39;00m \u001b[38;5;28mself\u001b[39m\u001b[38;5;241m.\u001b[39mapply(\u001b[38;5;124m\"\u001b[39m\u001b[38;5;124minterpolate\u001b[39m\u001b[38;5;124m\"\u001b[39m, \u001b[38;5;241m*\u001b[39m\u001b[38;5;241m*\u001b[39mkwargs)\n",
            "File \u001b[0;32m/lib/python3.10/site-packages/pandas/core/internals/managers.py:304\u001b[0m, in \u001b[0;36mBaseBlockManager.apply\u001b[0;34m(self, f, align_keys, ignore_failures, **kwargs)\u001b[0m\n\u001b[1;32m    302\u001b[0m         applied \u001b[38;5;241m=\u001b[39m b\u001b[38;5;241m.\u001b[39mapply(f, \u001b[38;5;241m*\u001b[39m\u001b[38;5;241m*\u001b[39mkwargs)\n\u001b[1;32m    303\u001b[0m     \u001b[38;5;28;01melse\u001b[39;00m:\n\u001b[0;32m--> 304\u001b[0m         applied \u001b[38;5;241m=\u001b[39m \u001b[38;5;28mgetattr\u001b[39m(b, f)(\u001b[38;5;241m*\u001b[39m\u001b[38;5;241m*\u001b[39mkwargs)\n\u001b[1;32m    305\u001b[0m \u001b[38;5;28;01mexcept\u001b[39;00m (\u001b[38;5;167;01mTypeError\u001b[39;00m, \u001b[38;5;167;01mNotImplementedError\u001b[39;00m):\n\u001b[1;32m    306\u001b[0m     \u001b[38;5;28;01mif\u001b[39;00m \u001b[38;5;129;01mnot\u001b[39;00m ignore_failures:\n",
            "File \u001b[0;32m/lib/python3.10/site-packages/pandas/core/internals/blocks.py:1099\u001b[0m, in \u001b[0;36mBlock.interpolate\u001b[0;34m(self, method, axis, index, inplace, limit, limit_direction, limit_area, fill_value, coerce, downcast, **kwargs)\u001b[0m\n\u001b[1;32m   1096\u001b[0m data \u001b[38;5;241m=\u001b[39m \u001b[38;5;28mself\u001b[39m\u001b[38;5;241m.\u001b[39mvalues \u001b[38;5;28;01mif\u001b[39;00m inplace \u001b[38;5;28;01melse\u001b[39;00m \u001b[38;5;28mself\u001b[39m\u001b[38;5;241m.\u001b[39mvalues\u001b[38;5;241m.\u001b[39mcopy()\n\u001b[1;32m   1097\u001b[0m data \u001b[38;5;241m=\u001b[39m cast(np\u001b[38;5;241m.\u001b[39mndarray, data)  \u001b[38;5;66;03m# bc overridden by ExtensionBlock\u001b[39;00m\n\u001b[0;32m-> 1099\u001b[0m missing\u001b[38;5;241m.\u001b[39minterpolate_array_2d(\n\u001b[1;32m   1100\u001b[0m     data,\n\u001b[1;32m   1101\u001b[0m     method\u001b[38;5;241m=\u001b[39mmethod,\n\u001b[1;32m   1102\u001b[0m     axis\u001b[38;5;241m=\u001b[39maxis,\n\u001b[1;32m   1103\u001b[0m     index\u001b[38;5;241m=\u001b[39mindex,\n\u001b[1;32m   1104\u001b[0m     limit\u001b[38;5;241m=\u001b[39mlimit,\n\u001b[1;32m   1105\u001b[0m     limit_direction\u001b[38;5;241m=\u001b[39mlimit_direction,\n\u001b[1;32m   1106\u001b[0m     limit_area\u001b[38;5;241m=\u001b[39mlimit_area,\n\u001b[1;32m   1107\u001b[0m     fill_value\u001b[38;5;241m=\u001b[39mfill_value,\n\u001b[1;32m   1108\u001b[0m     \u001b[38;5;241m*\u001b[39m\u001b[38;5;241m*\u001b[39mkwargs,\n\u001b[1;32m   1109\u001b[0m )\n\u001b[1;32m   1111\u001b[0m nb \u001b[38;5;241m=\u001b[39m \u001b[38;5;28mself\u001b[39m\u001b[38;5;241m.\u001b[39mmake_block_same_class(data)\n\u001b[1;32m   1112\u001b[0m \u001b[38;5;28;01mreturn\u001b[39;00m nb\u001b[38;5;241m.\u001b[39m_maybe_downcast([nb], downcast)\n",
            "File \u001b[0;32m/lib/python3.10/site-packages/pandas/core/missing.py:249\u001b[0m, in \u001b[0;36minterpolate_array_2d\u001b[0;34m(data, method, axis, index, limit, limit_direction, limit_area, fill_value, coerce, downcast, **kwargs)\u001b[0m\n\u001b[1;32m    246\u001b[0m \u001b[38;5;28;01melse\u001b[39;00m:\n\u001b[1;32m    247\u001b[0m     \u001b[38;5;28;01massert\u001b[39;00m index \u001b[38;5;129;01mis\u001b[39;00m \u001b[38;5;129;01mnot\u001b[39;00m \u001b[38;5;28;01mNone\u001b[39;00m  \u001b[38;5;66;03m# for mypy\u001b[39;00m\n\u001b[0;32m--> 249\u001b[0m     _interpolate_2d_with_fill(\n\u001b[1;32m    250\u001b[0m         data\u001b[38;5;241m=\u001b[39mdata,\n\u001b[1;32m    251\u001b[0m         index\u001b[38;5;241m=\u001b[39mindex,\n\u001b[1;32m    252\u001b[0m         axis\u001b[38;5;241m=\u001b[39maxis,\n\u001b[1;32m    253\u001b[0m         method\u001b[38;5;241m=\u001b[39mmethod,\n\u001b[1;32m    254\u001b[0m         limit\u001b[38;5;241m=\u001b[39mlimit,\n\u001b[1;32m    255\u001b[0m         limit_direction\u001b[38;5;241m=\u001b[39mlimit_direction,\n\u001b[1;32m    256\u001b[0m         limit_area\u001b[38;5;241m=\u001b[39mlimit_area,\n\u001b[1;32m    257\u001b[0m         fill_value\u001b[38;5;241m=\u001b[39mfill_value,\n\u001b[1;32m    258\u001b[0m         \u001b[38;5;241m*\u001b[39m\u001b[38;5;241m*\u001b[39mkwargs,\n\u001b[1;32m    259\u001b[0m     )\n\u001b[1;32m    260\u001b[0m \u001b[38;5;28;01mreturn\u001b[39;00m\n",
            "File \u001b[0;32m/lib/python3.10/site-packages/pandas/core/missing.py:344\u001b[0m, in \u001b[0;36m_interpolate_2d_with_fill\u001b[0;34m(data, index, axis, method, limit, limit_direction, limit_area, fill_value, **kwargs)\u001b[0m\n\u001b[1;32m    324\u001b[0m     _interpolate_1d(\n\u001b[1;32m    325\u001b[0m         indices\u001b[38;5;241m=\u001b[39mindices,\n\u001b[1;32m    326\u001b[0m         yvalues\u001b[38;5;241m=\u001b[39myvalues,\n\u001b[0;32m   (...)\u001b[0m\n\u001b[1;32m    333\u001b[0m         \u001b[38;5;241m*\u001b[39m\u001b[38;5;241m*\u001b[39mkwargs,\n\u001b[1;32m    334\u001b[0m     )\n\u001b[1;32m    336\u001b[0m \u001b[38;5;66;03m# Argument 1 to \"apply_along_axis\" has incompatible type\u001b[39;00m\n\u001b[1;32m    337\u001b[0m \u001b[38;5;66;03m# \"Callable[[ndarray[Any, Any]], None]\"; expected\u001b[39;00m\n\u001b[1;32m    338\u001b[0m \u001b[38;5;66;03m# \"Callable[..., Union[_SupportsArray[dtype[<nothing>]],\u001b[39;00m\n\u001b[0;32m   (...)\u001b[0m\n\u001b[1;32m    342\u001b[0m \u001b[38;5;66;03m# Sequence[Sequence[Sequence[Sequence[_SupportsArray[dtype[<nothing>]]]]]]]]\"\u001b[39;00m\n\u001b[1;32m    343\u001b[0m \u001b[38;5;66;03m# interp each column independently\u001b[39;00m\n\u001b[0;32m--> 344\u001b[0m \u001b[43mnp\u001b[49m\u001b[38;5;241;43m.\u001b[39;49m\u001b[43mapply_along_axis\u001b[49m\u001b[43m(\u001b[49m\u001b[43mfunc\u001b[49m\u001b[43m,\u001b[49m\u001b[43m \u001b[49m\u001b[43maxis\u001b[49m\u001b[43m,\u001b[49m\u001b[43m \u001b[49m\u001b[43mdata\u001b[49m\u001b[43m)\u001b[49m  \u001b[38;5;66;03m# type: ignore[arg-type]\u001b[39;00m\n\u001b[1;32m    345\u001b[0m \u001b[38;5;28;01mreturn\u001b[39;00m\n",
            "File \u001b[0;32m<__array_function__ internals>:180\u001b[0m, in \u001b[0;36mapply_along_axis\u001b[0;34m(*args, **kwargs)\u001b[0m\n",
            "File \u001b[0;32m/lib/python3.10/site-packages/numpy/lib/shape_base.py:379\u001b[0m, in \u001b[0;36mapply_along_axis\u001b[0;34m(func1d, axis, arr, *args, **kwargs)\u001b[0m\n\u001b[1;32m    375\u001b[0m \u001b[38;5;28;01mexcept\u001b[39;00m \u001b[38;5;167;01mStopIteration\u001b[39;00m \u001b[38;5;28;01mas\u001b[39;00m e:\n\u001b[1;32m    376\u001b[0m     \u001b[38;5;28;01mraise\u001b[39;00m \u001b[38;5;167;01mValueError\u001b[39;00m(\n\u001b[1;32m    377\u001b[0m         \u001b[38;5;124m'\u001b[39m\u001b[38;5;124mCannot apply_along_axis when any iteration dimensions are 0\u001b[39m\u001b[38;5;124m'\u001b[39m\n\u001b[1;32m    378\u001b[0m     ) \u001b[38;5;28;01mfrom\u001b[39;00m \u001b[38;5;28mNone\u001b[39m\n\u001b[0;32m--> 379\u001b[0m res \u001b[38;5;241m=\u001b[39m asanyarray(func1d(inarr_view[ind0], \u001b[38;5;241m*\u001b[39margs, \u001b[38;5;241m*\u001b[39m\u001b[38;5;241m*\u001b[39mkwargs))\n\u001b[1;32m    381\u001b[0m \u001b[38;5;66;03m# build a buffer for storing evaluations of func1d.\u001b[39;00m\n\u001b[1;32m    382\u001b[0m \u001b[38;5;66;03m# remove the requested axis, and add the new ones on the end.\u001b[39;00m\n\u001b[1;32m    383\u001b[0m \u001b[38;5;66;03m# laid out so that each write is contiguous.\u001b[39;00m\n\u001b[1;32m    384\u001b[0m \u001b[38;5;66;03m# for a tuple index inds, buff[inds] = func1d(inarr_view[inds])\u001b[39;00m\n\u001b[1;32m    385\u001b[0m buff \u001b[38;5;241m=\u001b[39m zeros(inarr_view\u001b[38;5;241m.\u001b[39mshape[:\u001b[38;5;241m-\u001b[39m\u001b[38;5;241m1\u001b[39m] \u001b[38;5;241m+\u001b[39m res\u001b[38;5;241m.\u001b[39mshape, res\u001b[38;5;241m.\u001b[39mdtype)\n",
            "File \u001b[0;32m/lib/python3.10/site-packages/pandas/core/missing.py:324\u001b[0m, in \u001b[0;36m_interpolate_2d_with_fill.<locals>.func\u001b[0;34m(yvalues)\u001b[0m\n\u001b[1;32m    321\u001b[0m \u001b[38;5;28;01mdef\u001b[39;00m \u001b[38;5;21mfunc\u001b[39m(yvalues: np\u001b[38;5;241m.\u001b[39mndarray) \u001b[38;5;241m-\u001b[39m\u001b[38;5;241m>\u001b[39m \u001b[38;5;28;01mNone\u001b[39;00m:\n\u001b[1;32m    322\u001b[0m     \u001b[38;5;66;03m# process 1-d slices in the axis direction\u001b[39;00m\n\u001b[0;32m--> 324\u001b[0m     _interpolate_1d(\n\u001b[1;32m    325\u001b[0m         indices\u001b[38;5;241m=\u001b[39mindices,\n\u001b[1;32m    326\u001b[0m         yvalues\u001b[38;5;241m=\u001b[39myvalues,\n\u001b[1;32m    327\u001b[0m         method\u001b[38;5;241m=\u001b[39mmethod,\n\u001b[1;32m    328\u001b[0m         limit\u001b[38;5;241m=\u001b[39mlimit,\n\u001b[1;32m    329\u001b[0m         limit_direction\u001b[38;5;241m=\u001b[39mlimit_direction,\n\u001b[1;32m    330\u001b[0m         limit_area\u001b[38;5;241m=\u001b[39mlimit_area,\n\u001b[1;32m    331\u001b[0m         fill_value\u001b[38;5;241m=\u001b[39mfill_value,\n\u001b[1;32m    332\u001b[0m         bounds_error\u001b[38;5;241m=\u001b[39m\u001b[38;5;28;01mFalse\u001b[39;00m,\n\u001b[1;32m    333\u001b[0m         \u001b[38;5;241m*\u001b[39m\u001b[38;5;241m*\u001b[39mkwargs,\n\u001b[1;32m    334\u001b[0m     )\n",
            "File \u001b[0;32m/lib/python3.10/site-packages/pandas/core/missing.py:455\u001b[0m, in \u001b[0;36m_interpolate_1d\u001b[0;34m(indices, yvalues, method, limit, limit_direction, limit_area, fill_value, bounds_error, order, **kwargs)\u001b[0m\n\u001b[1;32m    451\u001b[0m     yvalues[invalid] \u001b[38;5;241m=\u001b[39m np\u001b[38;5;241m.\u001b[39minterp(\n\u001b[1;32m    452\u001b[0m         indices[invalid], indices[valid][indexer], yvalues[valid][indexer]\n\u001b[1;32m    453\u001b[0m     )\n\u001b[1;32m    454\u001b[0m \u001b[38;5;28;01melse\u001b[39;00m:\n\u001b[0;32m--> 455\u001b[0m     yvalues[invalid] \u001b[38;5;241m=\u001b[39m _interpolate_scipy_wrapper(\n\u001b[1;32m    456\u001b[0m         indices[valid],\n\u001b[1;32m    457\u001b[0m         yvalues[valid],\n\u001b[1;32m    458\u001b[0m         indices[invalid],\n\u001b[1;32m    459\u001b[0m         method\u001b[38;5;241m=\u001b[39mmethod,\n\u001b[1;32m    460\u001b[0m         fill_value\u001b[38;5;241m=\u001b[39mfill_value,\n\u001b[1;32m    461\u001b[0m         bounds_error\u001b[38;5;241m=\u001b[39mbounds_error,\n\u001b[1;32m    462\u001b[0m         order\u001b[38;5;241m=\u001b[39morder,\n\u001b[1;32m    463\u001b[0m         \u001b[38;5;241m*\u001b[39m\u001b[38;5;241m*\u001b[39mkwargs,\n\u001b[1;32m    464\u001b[0m     )\n\u001b[1;32m    466\u001b[0m yvalues[preserve_nans] \u001b[38;5;241m=\u001b[39m np\u001b[38;5;241m.\u001b[39mnan\n\u001b[1;32m    467\u001b[0m \u001b[38;5;28;01mreturn\u001b[39;00m\n",
            "File \u001b[0;32m/lib/python3.10/site-packages/pandas/core/missing.py:479\u001b[0m, in \u001b[0;36m_interpolate_scipy_wrapper\u001b[0;34m(x, y, new_x, method, fill_value, bounds_error, order, **kwargs)\u001b[0m\n\u001b[1;32m    473\u001b[0m \u001b[38;5;124;03m\"\"\"\u001b[39;00m\n\u001b[1;32m    474\u001b[0m \u001b[38;5;124;03mPassed off to scipy.interpolate.interp1d. method is scipy's kind.\u001b[39;00m\n\u001b[1;32m    475\u001b[0m \u001b[38;5;124;03mReturns an array interpolated at new_x.  Add any new methods to\u001b[39;00m\n\u001b[1;32m    476\u001b[0m \u001b[38;5;124;03mthe list in _clean_interp_method.\u001b[39;00m\n\u001b[1;32m    477\u001b[0m \u001b[38;5;124;03m\"\"\"\u001b[39;00m\n\u001b[1;32m    478\u001b[0m extra \u001b[38;5;241m=\u001b[39m \u001b[38;5;124mf\u001b[39m\u001b[38;5;124m\"\u001b[39m\u001b[38;5;132;01m{\u001b[39;00mmethod\u001b[38;5;132;01m}\u001b[39;00m\u001b[38;5;124m interpolation requires SciPy.\u001b[39m\u001b[38;5;124m\"\u001b[39m\n\u001b[0;32m--> 479\u001b[0m \u001b[43mimport_optional_dependency\u001b[49m\u001b[43m(\u001b[49m\u001b[38;5;124;43m\"\u001b[39;49m\u001b[38;5;124;43mscipy\u001b[39;49m\u001b[38;5;124;43m\"\u001b[39;49m\u001b[43m,\u001b[49m\u001b[43m \u001b[49m\u001b[43mextra\u001b[49m\u001b[38;5;241;43m=\u001b[39;49m\u001b[43mextra\u001b[49m\u001b[43m)\u001b[49m\n\u001b[1;32m    480\u001b[0m \u001b[38;5;28;01mfrom\u001b[39;00m \u001b[38;5;21;01mscipy\u001b[39;00m \u001b[38;5;28;01mimport\u001b[39;00m interpolate\n\u001b[1;32m    482\u001b[0m new_x \u001b[38;5;241m=\u001b[39m np\u001b[38;5;241m.\u001b[39masarray(new_x)\n",
            "File \u001b[0;32m/lib/python3.10/site-packages/pandas/compat/_optional.py:141\u001b[0m, in \u001b[0;36mimport_optional_dependency\u001b[0;34m(name, extra, errors, min_version)\u001b[0m\n\u001b[1;32m    139\u001b[0m \u001b[38;5;28;01mexcept\u001b[39;00m \u001b[38;5;167;01mImportError\u001b[39;00m:\n\u001b[1;32m    140\u001b[0m     \u001b[38;5;28;01mif\u001b[39;00m errors \u001b[38;5;241m==\u001b[39m \u001b[38;5;124m\"\u001b[39m\u001b[38;5;124mraise\u001b[39m\u001b[38;5;124m\"\u001b[39m:\n\u001b[0;32m--> 141\u001b[0m         \u001b[38;5;28;01mraise\u001b[39;00m \u001b[38;5;167;01mImportError\u001b[39;00m(msg)\n\u001b[1;32m    142\u001b[0m     \u001b[38;5;28;01melse\u001b[39;00m:\n\u001b[1;32m    143\u001b[0m         \u001b[38;5;28;01mreturn\u001b[39;00m \u001b[38;5;28;01mNone\u001b[39;00m\n",
            "\u001b[0;31mImportError\u001b[0m: Missing optional dependency 'scipy'. polynomial interpolation requires SciPy. Use pip or conda to install scipy."
          ],
          "output_type": "error"
        }
      ]
    },
    {
      "cell_type": "code",
      "source": "df.interpolate(method='spline',order=1)",
      "metadata": {
        "trusted": true
      },
      "execution_count": 15,
      "outputs": [
        {
          "ename": "<class 'ImportError'>",
          "evalue": "Missing optional dependency 'scipy'. spline interpolation requires SciPy. Use pip or conda to install scipy.",
          "traceback": [
            "\u001b[0;31m---------------------------------------------------------------------------\u001b[0m",
            "\u001b[0;31mModuleNotFoundError\u001b[0m                       Traceback (most recent call last)",
            "File \u001b[0;32m/lib/python3.10/site-packages/pandas/compat/_optional.py:138\u001b[0m, in \u001b[0;36mimport_optional_dependency\u001b[0;34m(name, extra, errors, min_version)\u001b[0m\n\u001b[1;32m    137\u001b[0m \u001b[38;5;28;01mtry\u001b[39;00m:\n\u001b[0;32m--> 138\u001b[0m     module \u001b[38;5;241m=\u001b[39m \u001b[43mimportlib\u001b[49m\u001b[38;5;241;43m.\u001b[39;49m\u001b[43mimport_module\u001b[49m\u001b[43m(\u001b[49m\u001b[43mname\u001b[49m\u001b[43m)\u001b[49m\n\u001b[1;32m    139\u001b[0m \u001b[38;5;28;01mexcept\u001b[39;00m \u001b[38;5;167;01mImportError\u001b[39;00m:\n",
            "File \u001b[0;32m/lib/python3.10/importlib/__init__.py:126\u001b[0m, in \u001b[0;36mimport_module\u001b[0;34m(name, package)\u001b[0m\n\u001b[1;32m    125\u001b[0m         level \u001b[38;5;241m+\u001b[39m\u001b[38;5;241m=\u001b[39m \u001b[38;5;241m1\u001b[39m\n\u001b[0;32m--> 126\u001b[0m \u001b[38;5;28;01mreturn\u001b[39;00m \u001b[43m_bootstrap\u001b[49m\u001b[38;5;241;43m.\u001b[39;49m\u001b[43m_gcd_import\u001b[49m\u001b[43m(\u001b[49m\u001b[43mname\u001b[49m\u001b[43m[\u001b[49m\u001b[43mlevel\u001b[49m\u001b[43m:\u001b[49m\u001b[43m]\u001b[49m\u001b[43m,\u001b[49m\u001b[43m \u001b[49m\u001b[43mpackage\u001b[49m\u001b[43m,\u001b[49m\u001b[43m \u001b[49m\u001b[43mlevel\u001b[49m\u001b[43m)\u001b[49m\n",
            "File \u001b[0;32m<frozen importlib._bootstrap>:1050\u001b[0m, in \u001b[0;36m_gcd_import\u001b[0;34m(name, package, level)\u001b[0m\n",
            "File \u001b[0;32m<frozen importlib._bootstrap>:1027\u001b[0m, in \u001b[0;36m_find_and_load\u001b[0;34m(name, import_)\u001b[0m\n",
            "File \u001b[0;32m<frozen importlib._bootstrap>:1004\u001b[0m, in \u001b[0;36m_find_and_load_unlocked\u001b[0;34m(name, import_)\u001b[0m\n",
            "\u001b[0;31mModuleNotFoundError\u001b[0m: No module named 'scipy'",
            "\nDuring handling of the above exception, another exception occurred:\n",
            "\u001b[0;31mImportError\u001b[0m                               Traceback (most recent call last)",
            "Cell \u001b[0;32mIn [15], line 1\u001b[0m\n\u001b[0;32m----> 1\u001b[0m \u001b[43mdf\u001b[49m\u001b[38;5;241;43m.\u001b[39;49m\u001b[43minterpolate\u001b[49m\u001b[43m(\u001b[49m\u001b[43mmethod\u001b[49m\u001b[38;5;241;43m=\u001b[39;49m\u001b[38;5;124;43m'\u001b[39;49m\u001b[38;5;124;43mspline\u001b[39;49m\u001b[38;5;124;43m'\u001b[39;49m\u001b[43m,\u001b[49m\u001b[43morder\u001b[49m\u001b[38;5;241;43m=\u001b[39;49m\u001b[38;5;241;43m1\u001b[39;49m\u001b[43m)\u001b[49m\n",
            "File \u001b[0;32m/lib/python3.10/site-packages/pandas/util/_decorators.py:311\u001b[0m, in \u001b[0;36mdeprecate_nonkeyword_arguments.<locals>.decorate.<locals>.wrapper\u001b[0;34m(*args, **kwargs)\u001b[0m\n\u001b[1;32m    305\u001b[0m \u001b[38;5;28;01mif\u001b[39;00m \u001b[38;5;28mlen\u001b[39m(args) \u001b[38;5;241m>\u001b[39m num_allow_args:\n\u001b[1;32m    306\u001b[0m     warnings\u001b[38;5;241m.\u001b[39mwarn(\n\u001b[1;32m    307\u001b[0m         msg\u001b[38;5;241m.\u001b[39mformat(arguments\u001b[38;5;241m=\u001b[39marguments),\n\u001b[1;32m    308\u001b[0m         \u001b[38;5;167;01mFutureWarning\u001b[39;00m,\n\u001b[1;32m    309\u001b[0m         stacklevel\u001b[38;5;241m=\u001b[39mstacklevel,\n\u001b[1;32m    310\u001b[0m     )\n\u001b[0;32m--> 311\u001b[0m \u001b[38;5;28;01mreturn\u001b[39;00m func(\u001b[38;5;241m*\u001b[39margs, \u001b[38;5;241m*\u001b[39m\u001b[38;5;241m*\u001b[39mkwargs)\n",
            "File \u001b[0;32m/lib/python3.10/site-packages/pandas/core/frame.py:10931\u001b[0m, in \u001b[0;36mDataFrame.interpolate\u001b[0;34m(self, method, axis, limit, inplace, limit_direction, limit_area, downcast, **kwargs)\u001b[0m\n\u001b[1;32m  10919\u001b[0m \u001b[38;5;129m@deprecate_nonkeyword_arguments\u001b[39m(version\u001b[38;5;241m=\u001b[39m\u001b[38;5;28;01mNone\u001b[39;00m, allowed_args\u001b[38;5;241m=\u001b[39m[\u001b[38;5;124m\"\u001b[39m\u001b[38;5;124mself\u001b[39m\u001b[38;5;124m\"\u001b[39m, \u001b[38;5;124m\"\u001b[39m\u001b[38;5;124mmethod\u001b[39m\u001b[38;5;124m\"\u001b[39m])\n\u001b[1;32m  10920\u001b[0m \u001b[38;5;28;01mdef\u001b[39;00m \u001b[38;5;21minterpolate\u001b[39m(\n\u001b[1;32m  10921\u001b[0m     \u001b[38;5;28mself\u001b[39m: DataFrame,\n\u001b[0;32m   (...)\u001b[0m\n\u001b[1;32m  10929\u001b[0m     \u001b[38;5;241m*\u001b[39m\u001b[38;5;241m*\u001b[39mkwargs,\n\u001b[1;32m  10930\u001b[0m ) \u001b[38;5;241m-\u001b[39m\u001b[38;5;241m>\u001b[39m DataFrame \u001b[38;5;241m|\u001b[39m \u001b[38;5;28;01mNone\u001b[39;00m:\n\u001b[0;32m> 10931\u001b[0m     \u001b[38;5;28;01mreturn\u001b[39;00m \u001b[38;5;28msuper\u001b[39m()\u001b[38;5;241m.\u001b[39minterpolate(\n\u001b[1;32m  10932\u001b[0m         method,\n\u001b[1;32m  10933\u001b[0m         axis,\n\u001b[1;32m  10934\u001b[0m         limit,\n\u001b[1;32m  10935\u001b[0m         inplace,\n\u001b[1;32m  10936\u001b[0m         limit_direction,\n\u001b[1;32m  10937\u001b[0m         limit_area,\n\u001b[1;32m  10938\u001b[0m         downcast,\n\u001b[1;32m  10939\u001b[0m         \u001b[38;5;241m*\u001b[39m\u001b[38;5;241m*\u001b[39mkwargs,\n\u001b[1;32m  10940\u001b[0m     )\n",
            "File \u001b[0;32m/lib/python3.10/site-packages/pandas/core/generic.py:7034\u001b[0m, in \u001b[0;36mNDFrame.interpolate\u001b[0;34m(self, method, axis, limit, inplace, limit_direction, limit_area, downcast, **kwargs)\u001b[0m\n\u001b[1;32m   7028\u001b[0m \u001b[38;5;28;01mif\u001b[39;00m isna(index)\u001b[38;5;241m.\u001b[39many():\n\u001b[1;32m   7029\u001b[0m     \u001b[38;5;28;01mraise\u001b[39;00m \u001b[38;5;167;01mNotImplementedError\u001b[39;00m(\n\u001b[1;32m   7030\u001b[0m         \u001b[38;5;124m\"\u001b[39m\u001b[38;5;124mInterpolation with NaNs in the index \u001b[39m\u001b[38;5;124m\"\u001b[39m\n\u001b[1;32m   7031\u001b[0m         \u001b[38;5;124m\"\u001b[39m\u001b[38;5;124mhas not been implemented. Try filling \u001b[39m\u001b[38;5;124m\"\u001b[39m\n\u001b[1;32m   7032\u001b[0m         \u001b[38;5;124m\"\u001b[39m\u001b[38;5;124mthose NaNs before interpolating.\u001b[39m\u001b[38;5;124m\"\u001b[39m\n\u001b[1;32m   7033\u001b[0m     )\n\u001b[0;32m-> 7034\u001b[0m new_data \u001b[38;5;241m=\u001b[39m obj\u001b[38;5;241m.\u001b[39m_mgr\u001b[38;5;241m.\u001b[39minterpolate(\n\u001b[1;32m   7035\u001b[0m     method\u001b[38;5;241m=\u001b[39mmethod,\n\u001b[1;32m   7036\u001b[0m     axis\u001b[38;5;241m=\u001b[39maxis,\n\u001b[1;32m   7037\u001b[0m     index\u001b[38;5;241m=\u001b[39mindex,\n\u001b[1;32m   7038\u001b[0m     limit\u001b[38;5;241m=\u001b[39mlimit,\n\u001b[1;32m   7039\u001b[0m     limit_direction\u001b[38;5;241m=\u001b[39mlimit_direction,\n\u001b[1;32m   7040\u001b[0m     limit_area\u001b[38;5;241m=\u001b[39mlimit_area,\n\u001b[1;32m   7041\u001b[0m     inplace\u001b[38;5;241m=\u001b[39minplace,\n\u001b[1;32m   7042\u001b[0m     downcast\u001b[38;5;241m=\u001b[39mdowncast,\n\u001b[1;32m   7043\u001b[0m     \u001b[38;5;241m*\u001b[39m\u001b[38;5;241m*\u001b[39mkwargs,\n\u001b[1;32m   7044\u001b[0m )\n\u001b[1;32m   7046\u001b[0m result \u001b[38;5;241m=\u001b[39m \u001b[38;5;28mself\u001b[39m\u001b[38;5;241m.\u001b[39m_constructor(new_data)\n\u001b[1;32m   7047\u001b[0m \u001b[38;5;28;01mif\u001b[39;00m should_transpose:\n",
            "File \u001b[0;32m/lib/python3.10/site-packages/pandas/core/internals/managers.py:359\u001b[0m, in \u001b[0;36mBaseBlockManager.interpolate\u001b[0;34m(self, **kwargs)\u001b[0m\n\u001b[1;32m    358\u001b[0m \u001b[38;5;28;01mdef\u001b[39;00m \u001b[38;5;21minterpolate\u001b[39m(\u001b[38;5;28mself\u001b[39m: T, \u001b[38;5;241m*\u001b[39m\u001b[38;5;241m*\u001b[39mkwargs) \u001b[38;5;241m-\u001b[39m\u001b[38;5;241m>\u001b[39m T:\n\u001b[0;32m--> 359\u001b[0m     \u001b[38;5;28;01mreturn\u001b[39;00m \u001b[38;5;28mself\u001b[39m\u001b[38;5;241m.\u001b[39mapply(\u001b[38;5;124m\"\u001b[39m\u001b[38;5;124minterpolate\u001b[39m\u001b[38;5;124m\"\u001b[39m, \u001b[38;5;241m*\u001b[39m\u001b[38;5;241m*\u001b[39mkwargs)\n",
            "File \u001b[0;32m/lib/python3.10/site-packages/pandas/core/internals/managers.py:304\u001b[0m, in \u001b[0;36mBaseBlockManager.apply\u001b[0;34m(self, f, align_keys, ignore_failures, **kwargs)\u001b[0m\n\u001b[1;32m    302\u001b[0m         applied \u001b[38;5;241m=\u001b[39m b\u001b[38;5;241m.\u001b[39mapply(f, \u001b[38;5;241m*\u001b[39m\u001b[38;5;241m*\u001b[39mkwargs)\n\u001b[1;32m    303\u001b[0m     \u001b[38;5;28;01melse\u001b[39;00m:\n\u001b[0;32m--> 304\u001b[0m         applied \u001b[38;5;241m=\u001b[39m \u001b[38;5;28mgetattr\u001b[39m(b, f)(\u001b[38;5;241m*\u001b[39m\u001b[38;5;241m*\u001b[39mkwargs)\n\u001b[1;32m    305\u001b[0m \u001b[38;5;28;01mexcept\u001b[39;00m (\u001b[38;5;167;01mTypeError\u001b[39;00m, \u001b[38;5;167;01mNotImplementedError\u001b[39;00m):\n\u001b[1;32m    306\u001b[0m     \u001b[38;5;28;01mif\u001b[39;00m \u001b[38;5;129;01mnot\u001b[39;00m ignore_failures:\n",
            "File \u001b[0;32m/lib/python3.10/site-packages/pandas/core/internals/blocks.py:1099\u001b[0m, in \u001b[0;36mBlock.interpolate\u001b[0;34m(self, method, axis, index, inplace, limit, limit_direction, limit_area, fill_value, coerce, downcast, **kwargs)\u001b[0m\n\u001b[1;32m   1096\u001b[0m data \u001b[38;5;241m=\u001b[39m \u001b[38;5;28mself\u001b[39m\u001b[38;5;241m.\u001b[39mvalues \u001b[38;5;28;01mif\u001b[39;00m inplace \u001b[38;5;28;01melse\u001b[39;00m \u001b[38;5;28mself\u001b[39m\u001b[38;5;241m.\u001b[39mvalues\u001b[38;5;241m.\u001b[39mcopy()\n\u001b[1;32m   1097\u001b[0m data \u001b[38;5;241m=\u001b[39m cast(np\u001b[38;5;241m.\u001b[39mndarray, data)  \u001b[38;5;66;03m# bc overridden by ExtensionBlock\u001b[39;00m\n\u001b[0;32m-> 1099\u001b[0m missing\u001b[38;5;241m.\u001b[39minterpolate_array_2d(\n\u001b[1;32m   1100\u001b[0m     data,\n\u001b[1;32m   1101\u001b[0m     method\u001b[38;5;241m=\u001b[39mmethod,\n\u001b[1;32m   1102\u001b[0m     axis\u001b[38;5;241m=\u001b[39maxis,\n\u001b[1;32m   1103\u001b[0m     index\u001b[38;5;241m=\u001b[39mindex,\n\u001b[1;32m   1104\u001b[0m     limit\u001b[38;5;241m=\u001b[39mlimit,\n\u001b[1;32m   1105\u001b[0m     limit_direction\u001b[38;5;241m=\u001b[39mlimit_direction,\n\u001b[1;32m   1106\u001b[0m     limit_area\u001b[38;5;241m=\u001b[39mlimit_area,\n\u001b[1;32m   1107\u001b[0m     fill_value\u001b[38;5;241m=\u001b[39mfill_value,\n\u001b[1;32m   1108\u001b[0m     \u001b[38;5;241m*\u001b[39m\u001b[38;5;241m*\u001b[39mkwargs,\n\u001b[1;32m   1109\u001b[0m )\n\u001b[1;32m   1111\u001b[0m nb \u001b[38;5;241m=\u001b[39m \u001b[38;5;28mself\u001b[39m\u001b[38;5;241m.\u001b[39mmake_block_same_class(data)\n\u001b[1;32m   1112\u001b[0m \u001b[38;5;28;01mreturn\u001b[39;00m nb\u001b[38;5;241m.\u001b[39m_maybe_downcast([nb], downcast)\n",
            "File \u001b[0;32m/lib/python3.10/site-packages/pandas/core/missing.py:249\u001b[0m, in \u001b[0;36minterpolate_array_2d\u001b[0;34m(data, method, axis, index, limit, limit_direction, limit_area, fill_value, coerce, downcast, **kwargs)\u001b[0m\n\u001b[1;32m    246\u001b[0m \u001b[38;5;28;01melse\u001b[39;00m:\n\u001b[1;32m    247\u001b[0m     \u001b[38;5;28;01massert\u001b[39;00m index \u001b[38;5;129;01mis\u001b[39;00m \u001b[38;5;129;01mnot\u001b[39;00m \u001b[38;5;28;01mNone\u001b[39;00m  \u001b[38;5;66;03m# for mypy\u001b[39;00m\n\u001b[0;32m--> 249\u001b[0m     _interpolate_2d_with_fill(\n\u001b[1;32m    250\u001b[0m         data\u001b[38;5;241m=\u001b[39mdata,\n\u001b[1;32m    251\u001b[0m         index\u001b[38;5;241m=\u001b[39mindex,\n\u001b[1;32m    252\u001b[0m         axis\u001b[38;5;241m=\u001b[39maxis,\n\u001b[1;32m    253\u001b[0m         method\u001b[38;5;241m=\u001b[39mmethod,\n\u001b[1;32m    254\u001b[0m         limit\u001b[38;5;241m=\u001b[39mlimit,\n\u001b[1;32m    255\u001b[0m         limit_direction\u001b[38;5;241m=\u001b[39mlimit_direction,\n\u001b[1;32m    256\u001b[0m         limit_area\u001b[38;5;241m=\u001b[39mlimit_area,\n\u001b[1;32m    257\u001b[0m         fill_value\u001b[38;5;241m=\u001b[39mfill_value,\n\u001b[1;32m    258\u001b[0m         \u001b[38;5;241m*\u001b[39m\u001b[38;5;241m*\u001b[39mkwargs,\n\u001b[1;32m    259\u001b[0m     )\n\u001b[1;32m    260\u001b[0m \u001b[38;5;28;01mreturn\u001b[39;00m\n",
            "File \u001b[0;32m/lib/python3.10/site-packages/pandas/core/missing.py:344\u001b[0m, in \u001b[0;36m_interpolate_2d_with_fill\u001b[0;34m(data, index, axis, method, limit, limit_direction, limit_area, fill_value, **kwargs)\u001b[0m\n\u001b[1;32m    324\u001b[0m     _interpolate_1d(\n\u001b[1;32m    325\u001b[0m         indices\u001b[38;5;241m=\u001b[39mindices,\n\u001b[1;32m    326\u001b[0m         yvalues\u001b[38;5;241m=\u001b[39myvalues,\n\u001b[0;32m   (...)\u001b[0m\n\u001b[1;32m    333\u001b[0m         \u001b[38;5;241m*\u001b[39m\u001b[38;5;241m*\u001b[39mkwargs,\n\u001b[1;32m    334\u001b[0m     )\n\u001b[1;32m    336\u001b[0m \u001b[38;5;66;03m# Argument 1 to \"apply_along_axis\" has incompatible type\u001b[39;00m\n\u001b[1;32m    337\u001b[0m \u001b[38;5;66;03m# \"Callable[[ndarray[Any, Any]], None]\"; expected\u001b[39;00m\n\u001b[1;32m    338\u001b[0m \u001b[38;5;66;03m# \"Callable[..., Union[_SupportsArray[dtype[<nothing>]],\u001b[39;00m\n\u001b[0;32m   (...)\u001b[0m\n\u001b[1;32m    342\u001b[0m \u001b[38;5;66;03m# Sequence[Sequence[Sequence[Sequence[_SupportsArray[dtype[<nothing>]]]]]]]]\"\u001b[39;00m\n\u001b[1;32m    343\u001b[0m \u001b[38;5;66;03m# interp each column independently\u001b[39;00m\n\u001b[0;32m--> 344\u001b[0m \u001b[43mnp\u001b[49m\u001b[38;5;241;43m.\u001b[39;49m\u001b[43mapply_along_axis\u001b[49m\u001b[43m(\u001b[49m\u001b[43mfunc\u001b[49m\u001b[43m,\u001b[49m\u001b[43m \u001b[49m\u001b[43maxis\u001b[49m\u001b[43m,\u001b[49m\u001b[43m \u001b[49m\u001b[43mdata\u001b[49m\u001b[43m)\u001b[49m  \u001b[38;5;66;03m# type: ignore[arg-type]\u001b[39;00m\n\u001b[1;32m    345\u001b[0m \u001b[38;5;28;01mreturn\u001b[39;00m\n",
            "File \u001b[0;32m<__array_function__ internals>:180\u001b[0m, in \u001b[0;36mapply_along_axis\u001b[0;34m(*args, **kwargs)\u001b[0m\n",
            "File \u001b[0;32m/lib/python3.10/site-packages/numpy/lib/shape_base.py:379\u001b[0m, in \u001b[0;36mapply_along_axis\u001b[0;34m(func1d, axis, arr, *args, **kwargs)\u001b[0m\n\u001b[1;32m    375\u001b[0m \u001b[38;5;28;01mexcept\u001b[39;00m \u001b[38;5;167;01mStopIteration\u001b[39;00m \u001b[38;5;28;01mas\u001b[39;00m e:\n\u001b[1;32m    376\u001b[0m     \u001b[38;5;28;01mraise\u001b[39;00m \u001b[38;5;167;01mValueError\u001b[39;00m(\n\u001b[1;32m    377\u001b[0m         \u001b[38;5;124m'\u001b[39m\u001b[38;5;124mCannot apply_along_axis when any iteration dimensions are 0\u001b[39m\u001b[38;5;124m'\u001b[39m\n\u001b[1;32m    378\u001b[0m     ) \u001b[38;5;28;01mfrom\u001b[39;00m \u001b[38;5;28mNone\u001b[39m\n\u001b[0;32m--> 379\u001b[0m res \u001b[38;5;241m=\u001b[39m asanyarray(func1d(inarr_view[ind0], \u001b[38;5;241m*\u001b[39margs, \u001b[38;5;241m*\u001b[39m\u001b[38;5;241m*\u001b[39mkwargs))\n\u001b[1;32m    381\u001b[0m \u001b[38;5;66;03m# build a buffer for storing evaluations of func1d.\u001b[39;00m\n\u001b[1;32m    382\u001b[0m \u001b[38;5;66;03m# remove the requested axis, and add the new ones on the end.\u001b[39;00m\n\u001b[1;32m    383\u001b[0m \u001b[38;5;66;03m# laid out so that each write is contiguous.\u001b[39;00m\n\u001b[1;32m    384\u001b[0m \u001b[38;5;66;03m# for a tuple index inds, buff[inds] = func1d(inarr_view[inds])\u001b[39;00m\n\u001b[1;32m    385\u001b[0m buff \u001b[38;5;241m=\u001b[39m zeros(inarr_view\u001b[38;5;241m.\u001b[39mshape[:\u001b[38;5;241m-\u001b[39m\u001b[38;5;241m1\u001b[39m] \u001b[38;5;241m+\u001b[39m res\u001b[38;5;241m.\u001b[39mshape, res\u001b[38;5;241m.\u001b[39mdtype)\n",
            "File \u001b[0;32m/lib/python3.10/site-packages/pandas/core/missing.py:324\u001b[0m, in \u001b[0;36m_interpolate_2d_with_fill.<locals>.func\u001b[0;34m(yvalues)\u001b[0m\n\u001b[1;32m    321\u001b[0m \u001b[38;5;28;01mdef\u001b[39;00m \u001b[38;5;21mfunc\u001b[39m(yvalues: np\u001b[38;5;241m.\u001b[39mndarray) \u001b[38;5;241m-\u001b[39m\u001b[38;5;241m>\u001b[39m \u001b[38;5;28;01mNone\u001b[39;00m:\n\u001b[1;32m    322\u001b[0m     \u001b[38;5;66;03m# process 1-d slices in the axis direction\u001b[39;00m\n\u001b[0;32m--> 324\u001b[0m     _interpolate_1d(\n\u001b[1;32m    325\u001b[0m         indices\u001b[38;5;241m=\u001b[39mindices,\n\u001b[1;32m    326\u001b[0m         yvalues\u001b[38;5;241m=\u001b[39myvalues,\n\u001b[1;32m    327\u001b[0m         method\u001b[38;5;241m=\u001b[39mmethod,\n\u001b[1;32m    328\u001b[0m         limit\u001b[38;5;241m=\u001b[39mlimit,\n\u001b[1;32m    329\u001b[0m         limit_direction\u001b[38;5;241m=\u001b[39mlimit_direction,\n\u001b[1;32m    330\u001b[0m         limit_area\u001b[38;5;241m=\u001b[39mlimit_area,\n\u001b[1;32m    331\u001b[0m         fill_value\u001b[38;5;241m=\u001b[39mfill_value,\n\u001b[1;32m    332\u001b[0m         bounds_error\u001b[38;5;241m=\u001b[39m\u001b[38;5;28;01mFalse\u001b[39;00m,\n\u001b[1;32m    333\u001b[0m         \u001b[38;5;241m*\u001b[39m\u001b[38;5;241m*\u001b[39mkwargs,\n\u001b[1;32m    334\u001b[0m     )\n",
            "File \u001b[0;32m/lib/python3.10/site-packages/pandas/core/missing.py:455\u001b[0m, in \u001b[0;36m_interpolate_1d\u001b[0;34m(indices, yvalues, method, limit, limit_direction, limit_area, fill_value, bounds_error, order, **kwargs)\u001b[0m\n\u001b[1;32m    451\u001b[0m     yvalues[invalid] \u001b[38;5;241m=\u001b[39m np\u001b[38;5;241m.\u001b[39minterp(\n\u001b[1;32m    452\u001b[0m         indices[invalid], indices[valid][indexer], yvalues[valid][indexer]\n\u001b[1;32m    453\u001b[0m     )\n\u001b[1;32m    454\u001b[0m \u001b[38;5;28;01melse\u001b[39;00m:\n\u001b[0;32m--> 455\u001b[0m     yvalues[invalid] \u001b[38;5;241m=\u001b[39m _interpolate_scipy_wrapper(\n\u001b[1;32m    456\u001b[0m         indices[valid],\n\u001b[1;32m    457\u001b[0m         yvalues[valid],\n\u001b[1;32m    458\u001b[0m         indices[invalid],\n\u001b[1;32m    459\u001b[0m         method\u001b[38;5;241m=\u001b[39mmethod,\n\u001b[1;32m    460\u001b[0m         fill_value\u001b[38;5;241m=\u001b[39mfill_value,\n\u001b[1;32m    461\u001b[0m         bounds_error\u001b[38;5;241m=\u001b[39mbounds_error,\n\u001b[1;32m    462\u001b[0m         order\u001b[38;5;241m=\u001b[39morder,\n\u001b[1;32m    463\u001b[0m         \u001b[38;5;241m*\u001b[39m\u001b[38;5;241m*\u001b[39mkwargs,\n\u001b[1;32m    464\u001b[0m     )\n\u001b[1;32m    466\u001b[0m yvalues[preserve_nans] \u001b[38;5;241m=\u001b[39m np\u001b[38;5;241m.\u001b[39mnan\n\u001b[1;32m    467\u001b[0m \u001b[38;5;28;01mreturn\u001b[39;00m\n",
            "File \u001b[0;32m/lib/python3.10/site-packages/pandas/core/missing.py:479\u001b[0m, in \u001b[0;36m_interpolate_scipy_wrapper\u001b[0;34m(x, y, new_x, method, fill_value, bounds_error, order, **kwargs)\u001b[0m\n\u001b[1;32m    473\u001b[0m \u001b[38;5;124;03m\"\"\"\u001b[39;00m\n\u001b[1;32m    474\u001b[0m \u001b[38;5;124;03mPassed off to scipy.interpolate.interp1d. method is scipy's kind.\u001b[39;00m\n\u001b[1;32m    475\u001b[0m \u001b[38;5;124;03mReturns an array interpolated at new_x.  Add any new methods to\u001b[39;00m\n\u001b[1;32m    476\u001b[0m \u001b[38;5;124;03mthe list in _clean_interp_method.\u001b[39;00m\n\u001b[1;32m    477\u001b[0m \u001b[38;5;124;03m\"\"\"\u001b[39;00m\n\u001b[1;32m    478\u001b[0m extra \u001b[38;5;241m=\u001b[39m \u001b[38;5;124mf\u001b[39m\u001b[38;5;124m\"\u001b[39m\u001b[38;5;132;01m{\u001b[39;00mmethod\u001b[38;5;132;01m}\u001b[39;00m\u001b[38;5;124m interpolation requires SciPy.\u001b[39m\u001b[38;5;124m\"\u001b[39m\n\u001b[0;32m--> 479\u001b[0m \u001b[43mimport_optional_dependency\u001b[49m\u001b[43m(\u001b[49m\u001b[38;5;124;43m\"\u001b[39;49m\u001b[38;5;124;43mscipy\u001b[39;49m\u001b[38;5;124;43m\"\u001b[39;49m\u001b[43m,\u001b[49m\u001b[43m \u001b[49m\u001b[43mextra\u001b[49m\u001b[38;5;241;43m=\u001b[39;49m\u001b[43mextra\u001b[49m\u001b[43m)\u001b[49m\n\u001b[1;32m    480\u001b[0m \u001b[38;5;28;01mfrom\u001b[39;00m \u001b[38;5;21;01mscipy\u001b[39;00m \u001b[38;5;28;01mimport\u001b[39;00m interpolate\n\u001b[1;32m    482\u001b[0m new_x \u001b[38;5;241m=\u001b[39m np\u001b[38;5;241m.\u001b[39masarray(new_x)\n",
            "File \u001b[0;32m/lib/python3.10/site-packages/pandas/compat/_optional.py:141\u001b[0m, in \u001b[0;36mimport_optional_dependency\u001b[0;34m(name, extra, errors, min_version)\u001b[0m\n\u001b[1;32m    139\u001b[0m \u001b[38;5;28;01mexcept\u001b[39;00m \u001b[38;5;167;01mImportError\u001b[39;00m:\n\u001b[1;32m    140\u001b[0m     \u001b[38;5;28;01mif\u001b[39;00m errors \u001b[38;5;241m==\u001b[39m \u001b[38;5;124m\"\u001b[39m\u001b[38;5;124mraise\u001b[39m\u001b[38;5;124m\"\u001b[39m:\n\u001b[0;32m--> 141\u001b[0m         \u001b[38;5;28;01mraise\u001b[39;00m \u001b[38;5;167;01mImportError\u001b[39;00m(msg)\n\u001b[1;32m    142\u001b[0m     \u001b[38;5;28;01melse\u001b[39;00m:\n\u001b[1;32m    143\u001b[0m         \u001b[38;5;28;01mreturn\u001b[39;00m \u001b[38;5;28;01mNone\u001b[39;00m\n",
            "\u001b[0;31mImportError\u001b[0m: Missing optional dependency 'scipy'. spline interpolation requires SciPy. Use pip or conda to install scipy."
          ],
          "output_type": "error"
        }
      ]
    },
    {
      "cell_type": "code",
      "source": "#u can do all this in google colab later",
      "metadata": {
        "trusted": true
      },
      "execution_count": 16,
      "outputs": []
    },
    {
      "cell_type": "code",
      "source": "",
      "metadata": {},
      "execution_count": null,
      "outputs": []
    },
    {
      "cell_type": "code",
      "source": "",
      "metadata": {},
      "execution_count": null,
      "outputs": []
    }
  ]
}