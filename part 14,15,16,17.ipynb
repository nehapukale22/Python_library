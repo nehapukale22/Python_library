{
  "metadata": {
    "language_info": {
      "codemirror_mode": {
        "name": "python",
        "version": 3
      },
      "file_extension": ".py",
      "mimetype": "text/x-python",
      "name": "python",
      "nbconvert_exporter": "python",
      "pygments_lexer": "ipython3",
      "version": "3.8"
    },
    "kernelspec": {
      "name": "python",
      "display_name": "Python (Pyodide)",
      "language": "python"
    }
  },
  "nbformat_minor": 4,
  "nbformat": 4,
  "cells": [
    {
      "cell_type": "code",
      "source": "#*************PART 14******************",
      "metadata": {
        "trusted": true
      },
      "execution_count": 1,
      "outputs": []
    },
    {
      "cell_type": "code",
      "source": "import pandas as pd",
      "metadata": {
        "trusted": true
      },
      "execution_count": 2,
      "outputs": []
    },
    {
      "cell_type": "code",
      "source": "df=pd.read_csv('student_10.csv')\ndf",
      "metadata": {
        "trusted": true
      },
      "execution_count": 3,
      "outputs": [
        {
          "execution_count": 3,
          "output_type": "execute_result",
          "data": {
            "text/plain": "         Date  Student ID  Class Section  Study hrs  Percentage\n0  01-07-2019      1001.0     10       A        2.0        50.0\n1  02-07-2019      1002.0     10     NaN        NaN        80.0\n2  03-07-2019         NaN     10     NaN        3.0        60.0\n3  06-07-2019         NaN     11     NaN        0.0         NaN\n4  07-07-2019      1005.0     11       A        4.0         NaN\n5  08-07-2019         NaN     11       D       10.0         NaN\n6  09-07-2019      1007.0     12       B        4.0        80.0\n7  10-07-2019      1008.0     12       C        NaN        90.0\n8  11-07-2019      1009.0     12       A        NaN        60.0\n9  12-07-2019      1010.0     12       D        6.0        85.0",
            "text/html": "<div>\n<style scoped>\n    .dataframe tbody tr th:only-of-type {\n        vertical-align: middle;\n    }\n\n    .dataframe tbody tr th {\n        vertical-align: top;\n    }\n\n    .dataframe thead th {\n        text-align: right;\n    }\n</style>\n<table border=\"1\" class=\"dataframe\">\n  <thead>\n    <tr style=\"text-align: right;\">\n      <th></th>\n      <th>Date</th>\n      <th>Student ID</th>\n      <th>Class</th>\n      <th>Section</th>\n      <th>Study hrs</th>\n      <th>Percentage</th>\n    </tr>\n  </thead>\n  <tbody>\n    <tr>\n      <th>0</th>\n      <td>01-07-2019</td>\n      <td>1001.0</td>\n      <td>10</td>\n      <td>A</td>\n      <td>2.0</td>\n      <td>50.0</td>\n    </tr>\n    <tr>\n      <th>1</th>\n      <td>02-07-2019</td>\n      <td>1002.0</td>\n      <td>10</td>\n      <td>NaN</td>\n      <td>NaN</td>\n      <td>80.0</td>\n    </tr>\n    <tr>\n      <th>2</th>\n      <td>03-07-2019</td>\n      <td>NaN</td>\n      <td>10</td>\n      <td>NaN</td>\n      <td>3.0</td>\n      <td>60.0</td>\n    </tr>\n    <tr>\n      <th>3</th>\n      <td>06-07-2019</td>\n      <td>NaN</td>\n      <td>11</td>\n      <td>NaN</td>\n      <td>0.0</td>\n      <td>NaN</td>\n    </tr>\n    <tr>\n      <th>4</th>\n      <td>07-07-2019</td>\n      <td>1005.0</td>\n      <td>11</td>\n      <td>A</td>\n      <td>4.0</td>\n      <td>NaN</td>\n    </tr>\n    <tr>\n      <th>5</th>\n      <td>08-07-2019</td>\n      <td>NaN</td>\n      <td>11</td>\n      <td>D</td>\n      <td>10.0</td>\n      <td>NaN</td>\n    </tr>\n    <tr>\n      <th>6</th>\n      <td>09-07-2019</td>\n      <td>1007.0</td>\n      <td>12</td>\n      <td>B</td>\n      <td>4.0</td>\n      <td>80.0</td>\n    </tr>\n    <tr>\n      <th>7</th>\n      <td>10-07-2019</td>\n      <td>1008.0</td>\n      <td>12</td>\n      <td>C</td>\n      <td>NaN</td>\n      <td>90.0</td>\n    </tr>\n    <tr>\n      <th>8</th>\n      <td>11-07-2019</td>\n      <td>1009.0</td>\n      <td>12</td>\n      <td>A</td>\n      <td>NaN</td>\n      <td>60.0</td>\n    </tr>\n    <tr>\n      <th>9</th>\n      <td>12-07-2019</td>\n      <td>1010.0</td>\n      <td>12</td>\n      <td>D</td>\n      <td>6.0</td>\n      <td>85.0</td>\n    </tr>\n  </tbody>\n</table>\n</div>"
          },
          "metadata": {}
        }
      ]
    },
    {
      "cell_type": "code",
      "source": "df.interpolate()",
      "metadata": {
        "trusted": true
      },
      "execution_count": 4,
      "outputs": [
        {
          "execution_count": 4,
          "output_type": "execute_result",
          "data": {
            "text/plain": "         Date  Student ID  Class Section  Study hrs  Percentage\n0  01-07-2019      1001.0     10       A   2.000000        50.0\n1  02-07-2019      1002.0     10     NaN   2.500000        80.0\n2  03-07-2019      1003.0     10     NaN   3.000000        60.0\n3  06-07-2019      1004.0     11     NaN   0.000000        65.0\n4  07-07-2019      1005.0     11       A   4.000000        70.0\n5  08-07-2019      1006.0     11       D  10.000000        75.0\n6  09-07-2019      1007.0     12       B   4.000000        80.0\n7  10-07-2019      1008.0     12       C   4.666667        90.0\n8  11-07-2019      1009.0     12       A   5.333333        60.0\n9  12-07-2019      1010.0     12       D   6.000000        85.0",
            "text/html": "<div>\n<style scoped>\n    .dataframe tbody tr th:only-of-type {\n        vertical-align: middle;\n    }\n\n    .dataframe tbody tr th {\n        vertical-align: top;\n    }\n\n    .dataframe thead th {\n        text-align: right;\n    }\n</style>\n<table border=\"1\" class=\"dataframe\">\n  <thead>\n    <tr style=\"text-align: right;\">\n      <th></th>\n      <th>Date</th>\n      <th>Student ID</th>\n      <th>Class</th>\n      <th>Section</th>\n      <th>Study hrs</th>\n      <th>Percentage</th>\n    </tr>\n  </thead>\n  <tbody>\n    <tr>\n      <th>0</th>\n      <td>01-07-2019</td>\n      <td>1001.0</td>\n      <td>10</td>\n      <td>A</td>\n      <td>2.000000</td>\n      <td>50.0</td>\n    </tr>\n    <tr>\n      <th>1</th>\n      <td>02-07-2019</td>\n      <td>1002.0</td>\n      <td>10</td>\n      <td>NaN</td>\n      <td>2.500000</td>\n      <td>80.0</td>\n    </tr>\n    <tr>\n      <th>2</th>\n      <td>03-07-2019</td>\n      <td>1003.0</td>\n      <td>10</td>\n      <td>NaN</td>\n      <td>3.000000</td>\n      <td>60.0</td>\n    </tr>\n    <tr>\n      <th>3</th>\n      <td>06-07-2019</td>\n      <td>1004.0</td>\n      <td>11</td>\n      <td>NaN</td>\n      <td>0.000000</td>\n      <td>65.0</td>\n    </tr>\n    <tr>\n      <th>4</th>\n      <td>07-07-2019</td>\n      <td>1005.0</td>\n      <td>11</td>\n      <td>A</td>\n      <td>4.000000</td>\n      <td>70.0</td>\n    </tr>\n    <tr>\n      <th>5</th>\n      <td>08-07-2019</td>\n      <td>1006.0</td>\n      <td>11</td>\n      <td>D</td>\n      <td>10.000000</td>\n      <td>75.0</td>\n    </tr>\n    <tr>\n      <th>6</th>\n      <td>09-07-2019</td>\n      <td>1007.0</td>\n      <td>12</td>\n      <td>B</td>\n      <td>4.000000</td>\n      <td>80.0</td>\n    </tr>\n    <tr>\n      <th>7</th>\n      <td>10-07-2019</td>\n      <td>1008.0</td>\n      <td>12</td>\n      <td>C</td>\n      <td>4.666667</td>\n      <td>90.0</td>\n    </tr>\n    <tr>\n      <th>8</th>\n      <td>11-07-2019</td>\n      <td>1009.0</td>\n      <td>12</td>\n      <td>A</td>\n      <td>5.333333</td>\n      <td>60.0</td>\n    </tr>\n    <tr>\n      <th>9</th>\n      <td>12-07-2019</td>\n      <td>1010.0</td>\n      <td>12</td>\n      <td>D</td>\n      <td>6.000000</td>\n      <td>85.0</td>\n    </tr>\n  </tbody>\n</table>\n</div>"
          },
          "metadata": {}
        }
      ]
    },
    {
      "cell_type": "code",
      "source": "#if u wanna fill row by row missing value u have to take axis=0\n#and not a single column of dataframe is of object type",
      "metadata": {
        "trusted": true
      },
      "execution_count": 5,
      "outputs": []
    },
    {
      "cell_type": "code",
      "source": "df.dtypes",
      "metadata": {
        "trusted": true
      },
      "execution_count": 6,
      "outputs": [
        {
          "execution_count": 6,
          "output_type": "execute_result",
          "data": {
            "text/plain": "Date           object\nStudent ID    float64\nClass           int64\nSection        object\nStudy hrs     float64\nPercentage    float64\ndtype: object"
          },
          "metadata": {}
        }
      ]
    },
    {
      "cell_type": "code",
      "source": "#date col have datatype object\n#for filling values row by row all should have same dtype",
      "metadata": {
        "trusted": true
      },
      "execution_count": 7,
      "outputs": []
    },
    {
      "cell_type": "code",
      "source": "df.interpolate(limit=1)#in first col there are 2 nan values but only one filled \n#by default it is taking method as linear",
      "metadata": {
        "trusted": true
      },
      "execution_count": 9,
      "outputs": [
        {
          "execution_count": 9,
          "output_type": "execute_result",
          "data": {
            "text/plain": "         Date  Student ID  Class Section  Study hrs  Percentage\n0  01-07-2019      1001.0     10       A   2.000000        50.0\n1  02-07-2019      1002.0     10     NaN   2.500000        80.0\n2  03-07-2019      1003.0     10     NaN   3.000000        60.0\n3  06-07-2019         NaN     11     NaN   0.000000        65.0\n4  07-07-2019      1005.0     11       A   4.000000         NaN\n5  08-07-2019      1006.0     11       D  10.000000         NaN\n6  09-07-2019      1007.0     12       B   4.000000        80.0\n7  10-07-2019      1008.0     12       C   4.666667        90.0\n8  11-07-2019      1009.0     12       A        NaN        60.0\n9  12-07-2019      1010.0     12       D   6.000000        85.0",
            "text/html": "<div>\n<style scoped>\n    .dataframe tbody tr th:only-of-type {\n        vertical-align: middle;\n    }\n\n    .dataframe tbody tr th {\n        vertical-align: top;\n    }\n\n    .dataframe thead th {\n        text-align: right;\n    }\n</style>\n<table border=\"1\" class=\"dataframe\">\n  <thead>\n    <tr style=\"text-align: right;\">\n      <th></th>\n      <th>Date</th>\n      <th>Student ID</th>\n      <th>Class</th>\n      <th>Section</th>\n      <th>Study hrs</th>\n      <th>Percentage</th>\n    </tr>\n  </thead>\n  <tbody>\n    <tr>\n      <th>0</th>\n      <td>01-07-2019</td>\n      <td>1001.0</td>\n      <td>10</td>\n      <td>A</td>\n      <td>2.000000</td>\n      <td>50.0</td>\n    </tr>\n    <tr>\n      <th>1</th>\n      <td>02-07-2019</td>\n      <td>1002.0</td>\n      <td>10</td>\n      <td>NaN</td>\n      <td>2.500000</td>\n      <td>80.0</td>\n    </tr>\n    <tr>\n      <th>2</th>\n      <td>03-07-2019</td>\n      <td>1003.0</td>\n      <td>10</td>\n      <td>NaN</td>\n      <td>3.000000</td>\n      <td>60.0</td>\n    </tr>\n    <tr>\n      <th>3</th>\n      <td>06-07-2019</td>\n      <td>NaN</td>\n      <td>11</td>\n      <td>NaN</td>\n      <td>0.000000</td>\n      <td>65.0</td>\n    </tr>\n    <tr>\n      <th>4</th>\n      <td>07-07-2019</td>\n      <td>1005.0</td>\n      <td>11</td>\n      <td>A</td>\n      <td>4.000000</td>\n      <td>NaN</td>\n    </tr>\n    <tr>\n      <th>5</th>\n      <td>08-07-2019</td>\n      <td>1006.0</td>\n      <td>11</td>\n      <td>D</td>\n      <td>10.000000</td>\n      <td>NaN</td>\n    </tr>\n    <tr>\n      <th>6</th>\n      <td>09-07-2019</td>\n      <td>1007.0</td>\n      <td>12</td>\n      <td>B</td>\n      <td>4.000000</td>\n      <td>80.0</td>\n    </tr>\n    <tr>\n      <th>7</th>\n      <td>10-07-2019</td>\n      <td>1008.0</td>\n      <td>12</td>\n      <td>C</td>\n      <td>4.666667</td>\n      <td>90.0</td>\n    </tr>\n    <tr>\n      <th>8</th>\n      <td>11-07-2019</td>\n      <td>1009.0</td>\n      <td>12</td>\n      <td>A</td>\n      <td>NaN</td>\n      <td>60.0</td>\n    </tr>\n    <tr>\n      <th>9</th>\n      <td>12-07-2019</td>\n      <td>1010.0</td>\n      <td>12</td>\n      <td>D</td>\n      <td>6.000000</td>\n      <td>85.0</td>\n    </tr>\n  </tbody>\n</table>\n</div>"
          },
          "metadata": {}
        }
      ]
    },
    {
      "cell_type": "code",
      "source": "df.interpolate(limit=2)",
      "metadata": {
        "trusted": true
      },
      "execution_count": 10,
      "outputs": [
        {
          "execution_count": 10,
          "output_type": "execute_result",
          "data": {
            "text/plain": "         Date  Student ID  Class Section  Study hrs  Percentage\n0  01-07-2019      1001.0     10       A   2.000000        50.0\n1  02-07-2019      1002.0     10     NaN   2.500000        80.0\n2  03-07-2019      1003.0     10     NaN   3.000000        60.0\n3  06-07-2019      1004.0     11     NaN   0.000000        65.0\n4  07-07-2019      1005.0     11       A   4.000000        70.0\n5  08-07-2019      1006.0     11       D  10.000000         NaN\n6  09-07-2019      1007.0     12       B   4.000000        80.0\n7  10-07-2019      1008.0     12       C   4.666667        90.0\n8  11-07-2019      1009.0     12       A   5.333333        60.0\n9  12-07-2019      1010.0     12       D   6.000000        85.0",
            "text/html": "<div>\n<style scoped>\n    .dataframe tbody tr th:only-of-type {\n        vertical-align: middle;\n    }\n\n    .dataframe tbody tr th {\n        vertical-align: top;\n    }\n\n    .dataframe thead th {\n        text-align: right;\n    }\n</style>\n<table border=\"1\" class=\"dataframe\">\n  <thead>\n    <tr style=\"text-align: right;\">\n      <th></th>\n      <th>Date</th>\n      <th>Student ID</th>\n      <th>Class</th>\n      <th>Section</th>\n      <th>Study hrs</th>\n      <th>Percentage</th>\n    </tr>\n  </thead>\n  <tbody>\n    <tr>\n      <th>0</th>\n      <td>01-07-2019</td>\n      <td>1001.0</td>\n      <td>10</td>\n      <td>A</td>\n      <td>2.000000</td>\n      <td>50.0</td>\n    </tr>\n    <tr>\n      <th>1</th>\n      <td>02-07-2019</td>\n      <td>1002.0</td>\n      <td>10</td>\n      <td>NaN</td>\n      <td>2.500000</td>\n      <td>80.0</td>\n    </tr>\n    <tr>\n      <th>2</th>\n      <td>03-07-2019</td>\n      <td>1003.0</td>\n      <td>10</td>\n      <td>NaN</td>\n      <td>3.000000</td>\n      <td>60.0</td>\n    </tr>\n    <tr>\n      <th>3</th>\n      <td>06-07-2019</td>\n      <td>1004.0</td>\n      <td>11</td>\n      <td>NaN</td>\n      <td>0.000000</td>\n      <td>65.0</td>\n    </tr>\n    <tr>\n      <th>4</th>\n      <td>07-07-2019</td>\n      <td>1005.0</td>\n      <td>11</td>\n      <td>A</td>\n      <td>4.000000</td>\n      <td>70.0</td>\n    </tr>\n    <tr>\n      <th>5</th>\n      <td>08-07-2019</td>\n      <td>1006.0</td>\n      <td>11</td>\n      <td>D</td>\n      <td>10.000000</td>\n      <td>NaN</td>\n    </tr>\n    <tr>\n      <th>6</th>\n      <td>09-07-2019</td>\n      <td>1007.0</td>\n      <td>12</td>\n      <td>B</td>\n      <td>4.000000</td>\n      <td>80.0</td>\n    </tr>\n    <tr>\n      <th>7</th>\n      <td>10-07-2019</td>\n      <td>1008.0</td>\n      <td>12</td>\n      <td>C</td>\n      <td>4.666667</td>\n      <td>90.0</td>\n    </tr>\n    <tr>\n      <th>8</th>\n      <td>11-07-2019</td>\n      <td>1009.0</td>\n      <td>12</td>\n      <td>A</td>\n      <td>5.333333</td>\n      <td>60.0</td>\n    </tr>\n    <tr>\n      <th>9</th>\n      <td>12-07-2019</td>\n      <td>1010.0</td>\n      <td>12</td>\n      <td>D</td>\n      <td>6.000000</td>\n      <td>85.0</td>\n    </tr>\n  </tbody>\n</table>\n</div>"
          },
          "metadata": {}
        }
      ]
    },
    {
      "cell_type": "code",
      "source": "#limit_direction = forward,backward,both  ***default it is forward",
      "metadata": {
        "trusted": true
      },
      "execution_count": 12,
      "outputs": []
    },
    {
      "cell_type": "code",
      "source": "df.interpolate(limit=1,limit_direction='backward')#in 1st col 2 values are missing but below value is filled only ",
      "metadata": {
        "trusted": true
      },
      "execution_count": 14,
      "outputs": [
        {
          "execution_count": 14,
          "output_type": "execute_result",
          "data": {
            "text/plain": "         Date  Student ID  Class Section  Study hrs  Percentage\n0  01-07-2019      1001.0     10       A   2.000000        50.0\n1  02-07-2019      1002.0     10     NaN   2.500000        80.0\n2  03-07-2019         NaN     10     NaN   3.000000        60.0\n3  06-07-2019      1004.0     11     NaN   0.000000         NaN\n4  07-07-2019      1005.0     11       A   4.000000         NaN\n5  08-07-2019      1006.0     11       D  10.000000        75.0\n6  09-07-2019      1007.0     12       B   4.000000        80.0\n7  10-07-2019      1008.0     12       C        NaN        90.0\n8  11-07-2019      1009.0     12       A   5.333333        60.0\n9  12-07-2019      1010.0     12       D   6.000000        85.0",
            "text/html": "<div>\n<style scoped>\n    .dataframe tbody tr th:only-of-type {\n        vertical-align: middle;\n    }\n\n    .dataframe tbody tr th {\n        vertical-align: top;\n    }\n\n    .dataframe thead th {\n        text-align: right;\n    }\n</style>\n<table border=\"1\" class=\"dataframe\">\n  <thead>\n    <tr style=\"text-align: right;\">\n      <th></th>\n      <th>Date</th>\n      <th>Student ID</th>\n      <th>Class</th>\n      <th>Section</th>\n      <th>Study hrs</th>\n      <th>Percentage</th>\n    </tr>\n  </thead>\n  <tbody>\n    <tr>\n      <th>0</th>\n      <td>01-07-2019</td>\n      <td>1001.0</td>\n      <td>10</td>\n      <td>A</td>\n      <td>2.000000</td>\n      <td>50.0</td>\n    </tr>\n    <tr>\n      <th>1</th>\n      <td>02-07-2019</td>\n      <td>1002.0</td>\n      <td>10</td>\n      <td>NaN</td>\n      <td>2.500000</td>\n      <td>80.0</td>\n    </tr>\n    <tr>\n      <th>2</th>\n      <td>03-07-2019</td>\n      <td>NaN</td>\n      <td>10</td>\n      <td>NaN</td>\n      <td>3.000000</td>\n      <td>60.0</td>\n    </tr>\n    <tr>\n      <th>3</th>\n      <td>06-07-2019</td>\n      <td>1004.0</td>\n      <td>11</td>\n      <td>NaN</td>\n      <td>0.000000</td>\n      <td>NaN</td>\n    </tr>\n    <tr>\n      <th>4</th>\n      <td>07-07-2019</td>\n      <td>1005.0</td>\n      <td>11</td>\n      <td>A</td>\n      <td>4.000000</td>\n      <td>NaN</td>\n    </tr>\n    <tr>\n      <th>5</th>\n      <td>08-07-2019</td>\n      <td>1006.0</td>\n      <td>11</td>\n      <td>D</td>\n      <td>10.000000</td>\n      <td>75.0</td>\n    </tr>\n    <tr>\n      <th>6</th>\n      <td>09-07-2019</td>\n      <td>1007.0</td>\n      <td>12</td>\n      <td>B</td>\n      <td>4.000000</td>\n      <td>80.0</td>\n    </tr>\n    <tr>\n      <th>7</th>\n      <td>10-07-2019</td>\n      <td>1008.0</td>\n      <td>12</td>\n      <td>C</td>\n      <td>NaN</td>\n      <td>90.0</td>\n    </tr>\n    <tr>\n      <th>8</th>\n      <td>11-07-2019</td>\n      <td>1009.0</td>\n      <td>12</td>\n      <td>A</td>\n      <td>5.333333</td>\n      <td>60.0</td>\n    </tr>\n    <tr>\n      <th>9</th>\n      <td>12-07-2019</td>\n      <td>1010.0</td>\n      <td>12</td>\n      <td>D</td>\n      <td>6.000000</td>\n      <td>85.0</td>\n    </tr>\n  </tbody>\n</table>\n</div>"
          },
          "metadata": {}
        }
      ]
    },
    {
      "cell_type": "code",
      "source": "df.interpolate(limit=2,limit_direction='backward')",
      "metadata": {
        "trusted": true
      },
      "execution_count": 15,
      "outputs": [
        {
          "execution_count": 15,
          "output_type": "execute_result",
          "data": {
            "text/plain": "         Date  Student ID  Class Section  Study hrs  Percentage\n0  01-07-2019      1001.0     10       A   2.000000        50.0\n1  02-07-2019      1002.0     10     NaN   2.500000        80.0\n2  03-07-2019      1003.0     10     NaN   3.000000        60.0\n3  06-07-2019      1004.0     11     NaN   0.000000         NaN\n4  07-07-2019      1005.0     11       A   4.000000        70.0\n5  08-07-2019      1006.0     11       D  10.000000        75.0\n6  09-07-2019      1007.0     12       B   4.000000        80.0\n7  10-07-2019      1008.0     12       C   4.666667        90.0\n8  11-07-2019      1009.0     12       A   5.333333        60.0\n9  12-07-2019      1010.0     12       D   6.000000        85.0",
            "text/html": "<div>\n<style scoped>\n    .dataframe tbody tr th:only-of-type {\n        vertical-align: middle;\n    }\n\n    .dataframe tbody tr th {\n        vertical-align: top;\n    }\n\n    .dataframe thead th {\n        text-align: right;\n    }\n</style>\n<table border=\"1\" class=\"dataframe\">\n  <thead>\n    <tr style=\"text-align: right;\">\n      <th></th>\n      <th>Date</th>\n      <th>Student ID</th>\n      <th>Class</th>\n      <th>Section</th>\n      <th>Study hrs</th>\n      <th>Percentage</th>\n    </tr>\n  </thead>\n  <tbody>\n    <tr>\n      <th>0</th>\n      <td>01-07-2019</td>\n      <td>1001.0</td>\n      <td>10</td>\n      <td>A</td>\n      <td>2.000000</td>\n      <td>50.0</td>\n    </tr>\n    <tr>\n      <th>1</th>\n      <td>02-07-2019</td>\n      <td>1002.0</td>\n      <td>10</td>\n      <td>NaN</td>\n      <td>2.500000</td>\n      <td>80.0</td>\n    </tr>\n    <tr>\n      <th>2</th>\n      <td>03-07-2019</td>\n      <td>1003.0</td>\n      <td>10</td>\n      <td>NaN</td>\n      <td>3.000000</td>\n      <td>60.0</td>\n    </tr>\n    <tr>\n      <th>3</th>\n      <td>06-07-2019</td>\n      <td>1004.0</td>\n      <td>11</td>\n      <td>NaN</td>\n      <td>0.000000</td>\n      <td>NaN</td>\n    </tr>\n    <tr>\n      <th>4</th>\n      <td>07-07-2019</td>\n      <td>1005.0</td>\n      <td>11</td>\n      <td>A</td>\n      <td>4.000000</td>\n      <td>70.0</td>\n    </tr>\n    <tr>\n      <th>5</th>\n      <td>08-07-2019</td>\n      <td>1006.0</td>\n      <td>11</td>\n      <td>D</td>\n      <td>10.000000</td>\n      <td>75.0</td>\n    </tr>\n    <tr>\n      <th>6</th>\n      <td>09-07-2019</td>\n      <td>1007.0</td>\n      <td>12</td>\n      <td>B</td>\n      <td>4.000000</td>\n      <td>80.0</td>\n    </tr>\n    <tr>\n      <th>7</th>\n      <td>10-07-2019</td>\n      <td>1008.0</td>\n      <td>12</td>\n      <td>C</td>\n      <td>4.666667</td>\n      <td>90.0</td>\n    </tr>\n    <tr>\n      <th>8</th>\n      <td>11-07-2019</td>\n      <td>1009.0</td>\n      <td>12</td>\n      <td>A</td>\n      <td>5.333333</td>\n      <td>60.0</td>\n    </tr>\n    <tr>\n      <th>9</th>\n      <td>12-07-2019</td>\n      <td>1010.0</td>\n      <td>12</td>\n      <td>D</td>\n      <td>6.000000</td>\n      <td>85.0</td>\n    </tr>\n  </tbody>\n</table>\n</div>"
          },
          "metadata": {}
        }
      ]
    },
    {
      "cell_type": "code",
      "source": "df.interpolate(limit=2,limit_direction='both')#both upper and lower value filled ",
      "metadata": {
        "trusted": true
      },
      "execution_count": 18,
      "outputs": [
        {
          "execution_count": 18,
          "output_type": "execute_result",
          "data": {
            "text/plain": "         Date  Student ID  Class Section  Study hrs  Percentage\n0  01-07-2019      1001.0     10       A   2.000000        50.0\n1  02-07-2019      1002.0     10     NaN   2.500000        80.0\n2  03-07-2019      1003.0     10     NaN   3.000000        60.0\n3  06-07-2019      1004.0     11     NaN   0.000000        65.0\n4  07-07-2019      1005.0     11       A   4.000000        70.0\n5  08-07-2019      1006.0     11       D  10.000000        75.0\n6  09-07-2019      1007.0     12       B   4.000000        80.0\n7  10-07-2019      1008.0     12       C   4.666667        90.0\n8  11-07-2019      1009.0     12       A   5.333333        60.0\n9  12-07-2019      1010.0     12       D   6.000000        85.0",
            "text/html": "<div>\n<style scoped>\n    .dataframe tbody tr th:only-of-type {\n        vertical-align: middle;\n    }\n\n    .dataframe tbody tr th {\n        vertical-align: top;\n    }\n\n    .dataframe thead th {\n        text-align: right;\n    }\n</style>\n<table border=\"1\" class=\"dataframe\">\n  <thead>\n    <tr style=\"text-align: right;\">\n      <th></th>\n      <th>Date</th>\n      <th>Student ID</th>\n      <th>Class</th>\n      <th>Section</th>\n      <th>Study hrs</th>\n      <th>Percentage</th>\n    </tr>\n  </thead>\n  <tbody>\n    <tr>\n      <th>0</th>\n      <td>01-07-2019</td>\n      <td>1001.0</td>\n      <td>10</td>\n      <td>A</td>\n      <td>2.000000</td>\n      <td>50.0</td>\n    </tr>\n    <tr>\n      <th>1</th>\n      <td>02-07-2019</td>\n      <td>1002.0</td>\n      <td>10</td>\n      <td>NaN</td>\n      <td>2.500000</td>\n      <td>80.0</td>\n    </tr>\n    <tr>\n      <th>2</th>\n      <td>03-07-2019</td>\n      <td>1003.0</td>\n      <td>10</td>\n      <td>NaN</td>\n      <td>3.000000</td>\n      <td>60.0</td>\n    </tr>\n    <tr>\n      <th>3</th>\n      <td>06-07-2019</td>\n      <td>1004.0</td>\n      <td>11</td>\n      <td>NaN</td>\n      <td>0.000000</td>\n      <td>65.0</td>\n    </tr>\n    <tr>\n      <th>4</th>\n      <td>07-07-2019</td>\n      <td>1005.0</td>\n      <td>11</td>\n      <td>A</td>\n      <td>4.000000</td>\n      <td>70.0</td>\n    </tr>\n    <tr>\n      <th>5</th>\n      <td>08-07-2019</td>\n      <td>1006.0</td>\n      <td>11</td>\n      <td>D</td>\n      <td>10.000000</td>\n      <td>75.0</td>\n    </tr>\n    <tr>\n      <th>6</th>\n      <td>09-07-2019</td>\n      <td>1007.0</td>\n      <td>12</td>\n      <td>B</td>\n      <td>4.000000</td>\n      <td>80.0</td>\n    </tr>\n    <tr>\n      <th>7</th>\n      <td>10-07-2019</td>\n      <td>1008.0</td>\n      <td>12</td>\n      <td>C</td>\n      <td>4.666667</td>\n      <td>90.0</td>\n    </tr>\n    <tr>\n      <th>8</th>\n      <td>11-07-2019</td>\n      <td>1009.0</td>\n      <td>12</td>\n      <td>A</td>\n      <td>5.333333</td>\n      <td>60.0</td>\n    </tr>\n    <tr>\n      <th>9</th>\n      <td>12-07-2019</td>\n      <td>1010.0</td>\n      <td>12</td>\n      <td>D</td>\n      <td>6.000000</td>\n      <td>85.0</td>\n    </tr>\n  </tbody>\n</table>\n</div>"
          },
          "metadata": {}
        }
      ]
    },
    {
      "cell_type": "code",
      "source": "df.interpolate(limit_area='inside')#all nan values filled",
      "metadata": {
        "trusted": true
      },
      "execution_count": 20,
      "outputs": [
        {
          "execution_count": 20,
          "output_type": "execute_result",
          "data": {
            "text/plain": "         Date  Student ID  Class Section  Study hrs  Percentage\n0  01-07-2019      1001.0     10       A   2.000000        50.0\n1  02-07-2019      1002.0     10     NaN   2.500000        80.0\n2  03-07-2019      1003.0     10     NaN   3.000000        60.0\n3  06-07-2019      1004.0     11     NaN   0.000000        65.0\n4  07-07-2019      1005.0     11       A   4.000000        70.0\n5  08-07-2019      1006.0     11       D  10.000000        75.0\n6  09-07-2019      1007.0     12       B   4.000000        80.0\n7  10-07-2019      1008.0     12       C   4.666667        90.0\n8  11-07-2019      1009.0     12       A   5.333333        60.0\n9  12-07-2019      1010.0     12       D   6.000000        85.0",
            "text/html": "<div>\n<style scoped>\n    .dataframe tbody tr th:only-of-type {\n        vertical-align: middle;\n    }\n\n    .dataframe tbody tr th {\n        vertical-align: top;\n    }\n\n    .dataframe thead th {\n        text-align: right;\n    }\n</style>\n<table border=\"1\" class=\"dataframe\">\n  <thead>\n    <tr style=\"text-align: right;\">\n      <th></th>\n      <th>Date</th>\n      <th>Student ID</th>\n      <th>Class</th>\n      <th>Section</th>\n      <th>Study hrs</th>\n      <th>Percentage</th>\n    </tr>\n  </thead>\n  <tbody>\n    <tr>\n      <th>0</th>\n      <td>01-07-2019</td>\n      <td>1001.0</td>\n      <td>10</td>\n      <td>A</td>\n      <td>2.000000</td>\n      <td>50.0</td>\n    </tr>\n    <tr>\n      <th>1</th>\n      <td>02-07-2019</td>\n      <td>1002.0</td>\n      <td>10</td>\n      <td>NaN</td>\n      <td>2.500000</td>\n      <td>80.0</td>\n    </tr>\n    <tr>\n      <th>2</th>\n      <td>03-07-2019</td>\n      <td>1003.0</td>\n      <td>10</td>\n      <td>NaN</td>\n      <td>3.000000</td>\n      <td>60.0</td>\n    </tr>\n    <tr>\n      <th>3</th>\n      <td>06-07-2019</td>\n      <td>1004.0</td>\n      <td>11</td>\n      <td>NaN</td>\n      <td>0.000000</td>\n      <td>65.0</td>\n    </tr>\n    <tr>\n      <th>4</th>\n      <td>07-07-2019</td>\n      <td>1005.0</td>\n      <td>11</td>\n      <td>A</td>\n      <td>4.000000</td>\n      <td>70.0</td>\n    </tr>\n    <tr>\n      <th>5</th>\n      <td>08-07-2019</td>\n      <td>1006.0</td>\n      <td>11</td>\n      <td>D</td>\n      <td>10.000000</td>\n      <td>75.0</td>\n    </tr>\n    <tr>\n      <th>6</th>\n      <td>09-07-2019</td>\n      <td>1007.0</td>\n      <td>12</td>\n      <td>B</td>\n      <td>4.000000</td>\n      <td>80.0</td>\n    </tr>\n    <tr>\n      <th>7</th>\n      <td>10-07-2019</td>\n      <td>1008.0</td>\n      <td>12</td>\n      <td>C</td>\n      <td>4.666667</td>\n      <td>90.0</td>\n    </tr>\n    <tr>\n      <th>8</th>\n      <td>11-07-2019</td>\n      <td>1009.0</td>\n      <td>12</td>\n      <td>A</td>\n      <td>5.333333</td>\n      <td>60.0</td>\n    </tr>\n    <tr>\n      <th>9</th>\n      <td>12-07-2019</td>\n      <td>1010.0</td>\n      <td>12</td>\n      <td>D</td>\n      <td>6.000000</td>\n      <td>85.0</td>\n    </tr>\n  </tbody>\n</table>\n</div>"
          },
          "metadata": {}
        }
      ]
    },
    {
      "cell_type": "code",
      "source": "df.interpolate(limit_area='outside')#no values filled",
      "metadata": {
        "trusted": true
      },
      "execution_count": 23,
      "outputs": [
        {
          "execution_count": 23,
          "output_type": "execute_result",
          "data": {
            "text/plain": "         Date  Student ID  Class Section  Study hrs  Percentage\n0  01-07-2019      1001.0     10       A        2.0        50.0\n1  02-07-2019      1002.0     10     NaN        NaN        80.0\n2  03-07-2019         NaN     10     NaN        3.0        60.0\n3  06-07-2019         NaN     11     NaN        0.0         NaN\n4  07-07-2019      1005.0     11       A        4.0         NaN\n5  08-07-2019         NaN     11       D       10.0         NaN\n6  09-07-2019      1007.0     12       B        4.0        80.0\n7  10-07-2019      1008.0     12       C        NaN        90.0\n8  11-07-2019      1009.0     12       A        NaN        60.0\n9  12-07-2019      1010.0     12       D        6.0        85.0",
            "text/html": "<div>\n<style scoped>\n    .dataframe tbody tr th:only-of-type {\n        vertical-align: middle;\n    }\n\n    .dataframe tbody tr th {\n        vertical-align: top;\n    }\n\n    .dataframe thead th {\n        text-align: right;\n    }\n</style>\n<table border=\"1\" class=\"dataframe\">\n  <thead>\n    <tr style=\"text-align: right;\">\n      <th></th>\n      <th>Date</th>\n      <th>Student ID</th>\n      <th>Class</th>\n      <th>Section</th>\n      <th>Study hrs</th>\n      <th>Percentage</th>\n    </tr>\n  </thead>\n  <tbody>\n    <tr>\n      <th>0</th>\n      <td>01-07-2019</td>\n      <td>1001.0</td>\n      <td>10</td>\n      <td>A</td>\n      <td>2.0</td>\n      <td>50.0</td>\n    </tr>\n    <tr>\n      <th>1</th>\n      <td>02-07-2019</td>\n      <td>1002.0</td>\n      <td>10</td>\n      <td>NaN</td>\n      <td>NaN</td>\n      <td>80.0</td>\n    </tr>\n    <tr>\n      <th>2</th>\n      <td>03-07-2019</td>\n      <td>NaN</td>\n      <td>10</td>\n      <td>NaN</td>\n      <td>3.0</td>\n      <td>60.0</td>\n    </tr>\n    <tr>\n      <th>3</th>\n      <td>06-07-2019</td>\n      <td>NaN</td>\n      <td>11</td>\n      <td>NaN</td>\n      <td>0.0</td>\n      <td>NaN</td>\n    </tr>\n    <tr>\n      <th>4</th>\n      <td>07-07-2019</td>\n      <td>1005.0</td>\n      <td>11</td>\n      <td>A</td>\n      <td>4.0</td>\n      <td>NaN</td>\n    </tr>\n    <tr>\n      <th>5</th>\n      <td>08-07-2019</td>\n      <td>NaN</td>\n      <td>11</td>\n      <td>D</td>\n      <td>10.0</td>\n      <td>NaN</td>\n    </tr>\n    <tr>\n      <th>6</th>\n      <td>09-07-2019</td>\n      <td>1007.0</td>\n      <td>12</td>\n      <td>B</td>\n      <td>4.0</td>\n      <td>80.0</td>\n    </tr>\n    <tr>\n      <th>7</th>\n      <td>10-07-2019</td>\n      <td>1008.0</td>\n      <td>12</td>\n      <td>C</td>\n      <td>NaN</td>\n      <td>90.0</td>\n    </tr>\n    <tr>\n      <th>8</th>\n      <td>11-07-2019</td>\n      <td>1009.0</td>\n      <td>12</td>\n      <td>A</td>\n      <td>NaN</td>\n      <td>60.0</td>\n    </tr>\n    <tr>\n      <th>9</th>\n      <td>12-07-2019</td>\n      <td>1010.0</td>\n      <td>12</td>\n      <td>D</td>\n      <td>6.0</td>\n      <td>85.0</td>\n    </tr>\n  </tbody>\n</table>\n</div>"
          },
          "metadata": {}
        }
      ]
    },
    {
      "cell_type": "code",
      "source": "#'inside': Only fill NaNs surrounded by valid values (interpolate).\n#'outside': Only fill NaNs outside valid values (extrapolate)",
      "metadata": {
        "trusted": true
      },
      "execution_count": 24,
      "outputs": []
    },
    {
      "cell_type": "code",
      "source": "#''''''''Inplace'''''''''''",
      "metadata": {
        "trusted": true
      },
      "execution_count": 25,
      "outputs": []
    },
    {
      "cell_type": "code",
      "source": "df.interpolate(inplace=True)#by default it takes here method=linear and filling the value\ndf",
      "metadata": {
        "trusted": true
      },
      "execution_count": 29,
      "outputs": [
        {
          "execution_count": 29,
          "output_type": "execute_result",
          "data": {
            "text/plain": "         Date  Student ID  Class Section  Study hrs  Percentage\n0  01-07-2019      1001.0     10       A   2.000000        50.0\n1  02-07-2019      1002.0     10     NaN   2.500000        80.0\n2  03-07-2019      1003.0     10     NaN   3.000000        60.0\n3  06-07-2019      1004.0     11     NaN   0.000000        65.0\n4  07-07-2019      1005.0     11       A   4.000000        70.0\n5  08-07-2019      1006.0     11       D  10.000000        75.0\n6  09-07-2019      1007.0     12       B   4.000000        80.0\n7  10-07-2019      1008.0     12       C   4.666667        90.0\n8  11-07-2019      1009.0     12       A   5.333333        60.0\n9  12-07-2019      1010.0     12       D   6.000000        85.0",
            "text/html": "<div>\n<style scoped>\n    .dataframe tbody tr th:only-of-type {\n        vertical-align: middle;\n    }\n\n    .dataframe tbody tr th {\n        vertical-align: top;\n    }\n\n    .dataframe thead th {\n        text-align: right;\n    }\n</style>\n<table border=\"1\" class=\"dataframe\">\n  <thead>\n    <tr style=\"text-align: right;\">\n      <th></th>\n      <th>Date</th>\n      <th>Student ID</th>\n      <th>Class</th>\n      <th>Section</th>\n      <th>Study hrs</th>\n      <th>Percentage</th>\n    </tr>\n  </thead>\n  <tbody>\n    <tr>\n      <th>0</th>\n      <td>01-07-2019</td>\n      <td>1001.0</td>\n      <td>10</td>\n      <td>A</td>\n      <td>2.000000</td>\n      <td>50.0</td>\n    </tr>\n    <tr>\n      <th>1</th>\n      <td>02-07-2019</td>\n      <td>1002.0</td>\n      <td>10</td>\n      <td>NaN</td>\n      <td>2.500000</td>\n      <td>80.0</td>\n    </tr>\n    <tr>\n      <th>2</th>\n      <td>03-07-2019</td>\n      <td>1003.0</td>\n      <td>10</td>\n      <td>NaN</td>\n      <td>3.000000</td>\n      <td>60.0</td>\n    </tr>\n    <tr>\n      <th>3</th>\n      <td>06-07-2019</td>\n      <td>1004.0</td>\n      <td>11</td>\n      <td>NaN</td>\n      <td>0.000000</td>\n      <td>65.0</td>\n    </tr>\n    <tr>\n      <th>4</th>\n      <td>07-07-2019</td>\n      <td>1005.0</td>\n      <td>11</td>\n      <td>A</td>\n      <td>4.000000</td>\n      <td>70.0</td>\n    </tr>\n    <tr>\n      <th>5</th>\n      <td>08-07-2019</td>\n      <td>1006.0</td>\n      <td>11</td>\n      <td>D</td>\n      <td>10.000000</td>\n      <td>75.0</td>\n    </tr>\n    <tr>\n      <th>6</th>\n      <td>09-07-2019</td>\n      <td>1007.0</td>\n      <td>12</td>\n      <td>B</td>\n      <td>4.000000</td>\n      <td>80.0</td>\n    </tr>\n    <tr>\n      <th>7</th>\n      <td>10-07-2019</td>\n      <td>1008.0</td>\n      <td>12</td>\n      <td>C</td>\n      <td>4.666667</td>\n      <td>90.0</td>\n    </tr>\n    <tr>\n      <th>8</th>\n      <td>11-07-2019</td>\n      <td>1009.0</td>\n      <td>12</td>\n      <td>A</td>\n      <td>5.333333</td>\n      <td>60.0</td>\n    </tr>\n    <tr>\n      <th>9</th>\n      <td>12-07-2019</td>\n      <td>1010.0</td>\n      <td>12</td>\n      <td>D</td>\n      <td>6.000000</td>\n      <td>85.0</td>\n    </tr>\n  </tbody>\n</table>\n</div>"
          },
          "metadata": {}
        }
      ]
    },
    {
      "cell_type": "code",
      "source": "#***************************PART 15******************************",
      "metadata": {
        "trusted": true
      },
      "execution_count": 30,
      "outputs": []
    },
    {
      "cell_type": "code",
      "source": "#loc and iloc",
      "metadata": {
        "trusted": true
      },
      "execution_count": 31,
      "outputs": []
    },
    {
      "cell_type": "code",
      "source": "#loc = Access a group of rows and columns by label(s) or a boolean array",
      "metadata": {
        "trusted": true
      },
      "execution_count": 32,
      "outputs": []
    },
    {
      "cell_type": "code",
      "source": "import pandas as pd\ndf=pd.read_csv(\"student_results.csv\")\ndf",
      "metadata": {
        "trusted": true
      },
      "execution_count": 1,
      "outputs": [
        {
          "execution_count": 1,
          "output_type": "execute_result",
          "data": {
            "text/plain": "   Student ID  Class  Study hrs  Sleeping hrs  Social Media usage hrs  \\\n0        1001     10          2             9                       3   \n1        1002     10          6             8                       2   \n2        1003     10          3             8                       2   \n3        1004     11          0            10                       1   \n4        1005     11          4             7                       2   \n5        1006     11         10             7                       0   \n6        1007     12          4             6                       0   \n7        1008     12         10             6                       2   \n8        1009     12          2             8                       2   \n9        1010     12          6             9                       1   \n\n   Mobile Games hrs  Percantege  \n0                 5          50  \n1                 0          80  \n2                 4          60  \n3                 5          45  \n4                 0          75  \n5                 0          96  \n6                 0          80  \n7                 0          90  \n8                 4          60  \n9                 0          85  ",
            "text/html": "<div>\n<style scoped>\n    .dataframe tbody tr th:only-of-type {\n        vertical-align: middle;\n    }\n\n    .dataframe tbody tr th {\n        vertical-align: top;\n    }\n\n    .dataframe thead th {\n        text-align: right;\n    }\n</style>\n<table border=\"1\" class=\"dataframe\">\n  <thead>\n    <tr style=\"text-align: right;\">\n      <th></th>\n      <th>Student ID</th>\n      <th>Class</th>\n      <th>Study hrs</th>\n      <th>Sleeping hrs</th>\n      <th>Social Media usage hrs</th>\n      <th>Mobile Games hrs</th>\n      <th>Percantege</th>\n    </tr>\n  </thead>\n  <tbody>\n    <tr>\n      <th>0</th>\n      <td>1001</td>\n      <td>10</td>\n      <td>2</td>\n      <td>9</td>\n      <td>3</td>\n      <td>5</td>\n      <td>50</td>\n    </tr>\n    <tr>\n      <th>1</th>\n      <td>1002</td>\n      <td>10</td>\n      <td>6</td>\n      <td>8</td>\n      <td>2</td>\n      <td>0</td>\n      <td>80</td>\n    </tr>\n    <tr>\n      <th>2</th>\n      <td>1003</td>\n      <td>10</td>\n      <td>3</td>\n      <td>8</td>\n      <td>2</td>\n      <td>4</td>\n      <td>60</td>\n    </tr>\n    <tr>\n      <th>3</th>\n      <td>1004</td>\n      <td>11</td>\n      <td>0</td>\n      <td>10</td>\n      <td>1</td>\n      <td>5</td>\n      <td>45</td>\n    </tr>\n    <tr>\n      <th>4</th>\n      <td>1005</td>\n      <td>11</td>\n      <td>4</td>\n      <td>7</td>\n      <td>2</td>\n      <td>0</td>\n      <td>75</td>\n    </tr>\n    <tr>\n      <th>5</th>\n      <td>1006</td>\n      <td>11</td>\n      <td>10</td>\n      <td>7</td>\n      <td>0</td>\n      <td>0</td>\n      <td>96</td>\n    </tr>\n    <tr>\n      <th>6</th>\n      <td>1007</td>\n      <td>12</td>\n      <td>4</td>\n      <td>6</td>\n      <td>0</td>\n      <td>0</td>\n      <td>80</td>\n    </tr>\n    <tr>\n      <th>7</th>\n      <td>1008</td>\n      <td>12</td>\n      <td>10</td>\n      <td>6</td>\n      <td>2</td>\n      <td>0</td>\n      <td>90</td>\n    </tr>\n    <tr>\n      <th>8</th>\n      <td>1009</td>\n      <td>12</td>\n      <td>2</td>\n      <td>8</td>\n      <td>2</td>\n      <td>4</td>\n      <td>60</td>\n    </tr>\n    <tr>\n      <th>9</th>\n      <td>1010</td>\n      <td>12</td>\n      <td>6</td>\n      <td>9</td>\n      <td>1</td>\n      <td>0</td>\n      <td>85</td>\n    </tr>\n  </tbody>\n</table>\n</div>"
          },
          "metadata": {}
        }
      ]
    },
    {
      "cell_type": "code",
      "source": "df.loc[0]#in 0th row the number of values with their corresoponding col name is printed",
      "metadata": {
        "trusted": true
      },
      "execution_count": 37,
      "outputs": [
        {
          "execution_count": 37,
          "output_type": "execute_result",
          "data": {
            "text/plain": "Student ID                1001\nClass                       10\nStudy hrs                    2\nSleeping hrs                 9\nSocial Media usage hrs       3\nMobile Games hrs             5\nPercantege                  50\nName: 0, dtype: int64"
          },
          "metadata": {}
        }
      ]
    },
    {
      "cell_type": "code",
      "source": "#want any value of row",
      "metadata": {
        "trusted": true
      },
      "execution_count": 40,
      "outputs": []
    },
    {
      "cell_type": "code",
      "source": "df.loc[4]",
      "metadata": {
        "trusted": true
      },
      "execution_count": 39,
      "outputs": [
        {
          "execution_count": 39,
          "output_type": "execute_result",
          "data": {
            "text/plain": "Student ID                1005\nClass                       11\nStudy hrs                    4\nSleeping hrs                 7\nSocial Media usage hrs       2\nMobile Games hrs             0\nPercantege                  75\nName: 4, dtype: int64"
          },
          "metadata": {}
        }
      ]
    },
    {
      "cell_type": "code",
      "source": "#u can give multiple index\ndf.loc[[0,1]]",
      "metadata": {
        "trusted": true
      },
      "execution_count": 42,
      "outputs": [
        {
          "execution_count": 42,
          "output_type": "execute_result",
          "data": {
            "text/plain": "   Student ID  Class  Study hrs  Sleeping hrs  Social Media usage hrs  \\\n0        1001     10          2             9                       3   \n1        1002     10          6             8                       2   \n\n   Mobile Games hrs  Percantege  \n0                 5          50  \n1                 0          80  ",
            "text/html": "<div>\n<style scoped>\n    .dataframe tbody tr th:only-of-type {\n        vertical-align: middle;\n    }\n\n    .dataframe tbody tr th {\n        vertical-align: top;\n    }\n\n    .dataframe thead th {\n        text-align: right;\n    }\n</style>\n<table border=\"1\" class=\"dataframe\">\n  <thead>\n    <tr style=\"text-align: right;\">\n      <th></th>\n      <th>Student ID</th>\n      <th>Class</th>\n      <th>Study hrs</th>\n      <th>Sleeping hrs</th>\n      <th>Social Media usage hrs</th>\n      <th>Mobile Games hrs</th>\n      <th>Percantege</th>\n    </tr>\n  </thead>\n  <tbody>\n    <tr>\n      <th>0</th>\n      <td>1001</td>\n      <td>10</td>\n      <td>2</td>\n      <td>9</td>\n      <td>3</td>\n      <td>5</td>\n      <td>50</td>\n    </tr>\n    <tr>\n      <th>1</th>\n      <td>1002</td>\n      <td>10</td>\n      <td>6</td>\n      <td>8</td>\n      <td>2</td>\n      <td>0</td>\n      <td>80</td>\n    </tr>\n  </tbody>\n</table>\n</div>"
          },
          "metadata": {}
        }
      ]
    },
    {
      "cell_type": "code",
      "source": "df.loc[[2,4]]",
      "metadata": {
        "trusted": true
      },
      "execution_count": 2,
      "outputs": [
        {
          "execution_count": 2,
          "output_type": "execute_result",
          "data": {
            "text/plain": "   Student ID  Class  Study hrs  Sleeping hrs  Social Media usage hrs  \\\n2        1003     10          3             8                       2   \n4        1005     11          4             7                       2   \n\n   Mobile Games hrs  Percantege  \n2                 4          60  \n4                 0          75  ",
            "text/html": "<div>\n<style scoped>\n    .dataframe tbody tr th:only-of-type {\n        vertical-align: middle;\n    }\n\n    .dataframe tbody tr th {\n        vertical-align: top;\n    }\n\n    .dataframe thead th {\n        text-align: right;\n    }\n</style>\n<table border=\"1\" class=\"dataframe\">\n  <thead>\n    <tr style=\"text-align: right;\">\n      <th></th>\n      <th>Student ID</th>\n      <th>Class</th>\n      <th>Study hrs</th>\n      <th>Sleeping hrs</th>\n      <th>Social Media usage hrs</th>\n      <th>Mobile Games hrs</th>\n      <th>Percantege</th>\n    </tr>\n  </thead>\n  <tbody>\n    <tr>\n      <th>2</th>\n      <td>1003</td>\n      <td>10</td>\n      <td>3</td>\n      <td>8</td>\n      <td>2</td>\n      <td>4</td>\n      <td>60</td>\n    </tr>\n    <tr>\n      <th>4</th>\n      <td>1005</td>\n      <td>11</td>\n      <td>4</td>\n      <td>7</td>\n      <td>2</td>\n      <td>0</td>\n      <td>75</td>\n    </tr>\n  </tbody>\n</table>\n</div>"
          },
          "metadata": {}
        }
      ]
    },
    {
      "cell_type": "code",
      "source": "#we want particular element of df",
      "metadata": {
        "trusted": true
      },
      "execution_count": null,
      "outputs": []
    },
    {
      "cell_type": "code",
      "source": "df.loc[4,'Class']",
      "metadata": {
        "trusted": true
      },
      "execution_count": 3,
      "outputs": [
        {
          "execution_count": 3,
          "output_type": "execute_result",
          "data": {
            "text/plain": "11"
          },
          "metadata": {}
        }
      ]
    },
    {
      "cell_type": "code",
      "source": "df.loc[0:3,'Class']",
      "metadata": {
        "trusted": true
      },
      "execution_count": 4,
      "outputs": [
        {
          "execution_count": 4,
          "output_type": "execute_result",
          "data": {
            "text/plain": "0    10\n1    10\n2    10\n3    11\nName: Class, dtype: int64"
          },
          "metadata": {}
        }
      ]
    },
    {
      "cell_type": "code",
      "source": "df.loc[0:3,'Percantege']",
      "metadata": {
        "trusted": true
      },
      "execution_count": 7,
      "outputs": [
        {
          "execution_count": 7,
          "output_type": "execute_result",
          "data": {
            "text/plain": "0    50\n1    80\n2    60\n3    45\nName: Percantege, dtype: int64"
          },
          "metadata": {}
        }
      ]
    },
    {
      "cell_type": "code",
      "source": "df.loc[[False,False,True]]#returns boolean list as a same index and same row",
      "metadata": {
        "trusted": true
      },
      "execution_count": 9,
      "outputs": [
        {
          "ename": "<class 'IndexError'>",
          "evalue": "Boolean index has wrong length: 3 instead of 10",
          "traceback": [
            "\u001b[0;31m---------------------------------------------------------------------------\u001b[0m",
            "\u001b[0;31mIndexError\u001b[0m                                Traceback (most recent call last)",
            "Cell \u001b[0;32mIn [9], line 1\u001b[0m\n\u001b[0;32m----> 1\u001b[0m \u001b[43mdf\u001b[49m\u001b[38;5;241;43m.\u001b[39;49m\u001b[43mloc\u001b[49m\u001b[43m[\u001b[49m\u001b[43m[\u001b[49m\u001b[38;5;28;43;01mFalse\u001b[39;49;00m\u001b[43m,\u001b[49m\u001b[38;5;28;43;01mFalse\u001b[39;49;00m\u001b[43m,\u001b[49m\u001b[38;5;28;43;01mTrue\u001b[39;49;00m\u001b[43m]\u001b[49m\u001b[43m]\u001b[49m\n",
            "File \u001b[0;32m/lib/python3.10/site-packages/pandas/core/indexing.py:967\u001b[0m, in \u001b[0;36m_LocationIndexer.__getitem__\u001b[0;34m(self, key)\u001b[0m\n\u001b[1;32m    964\u001b[0m axis \u001b[38;5;241m=\u001b[39m \u001b[38;5;28mself\u001b[39m\u001b[38;5;241m.\u001b[39maxis \u001b[38;5;129;01mor\u001b[39;00m \u001b[38;5;241m0\u001b[39m\n\u001b[1;32m    966\u001b[0m maybe_callable \u001b[38;5;241m=\u001b[39m com\u001b[38;5;241m.\u001b[39mapply_if_callable(key, \u001b[38;5;28mself\u001b[39m\u001b[38;5;241m.\u001b[39mobj)\n\u001b[0;32m--> 967\u001b[0m \u001b[38;5;28;01mreturn\u001b[39;00m \u001b[38;5;28;43mself\u001b[39;49m\u001b[38;5;241;43m.\u001b[39;49m\u001b[43m_getitem_axis\u001b[49m\u001b[43m(\u001b[49m\u001b[43mmaybe_callable\u001b[49m\u001b[43m,\u001b[49m\u001b[43m \u001b[49m\u001b[43maxis\u001b[49m\u001b[38;5;241;43m=\u001b[39;49m\u001b[43maxis\u001b[49m\u001b[43m)\u001b[49m\n",
            "File \u001b[0;32m/lib/python3.10/site-packages/pandas/core/indexing.py:1182\u001b[0m, in \u001b[0;36m_LocIndexer._getitem_axis\u001b[0;34m(self, key, axis)\u001b[0m\n\u001b[1;32m   1180\u001b[0m     \u001b[38;5;28;01mreturn\u001b[39;00m \u001b[38;5;28mself\u001b[39m\u001b[38;5;241m.\u001b[39m_get_slice_axis(key, axis\u001b[38;5;241m=\u001b[39maxis)\n\u001b[1;32m   1181\u001b[0m \u001b[38;5;28;01melif\u001b[39;00m com\u001b[38;5;241m.\u001b[39mis_bool_indexer(key):\n\u001b[0;32m-> 1182\u001b[0m     \u001b[38;5;28;01mreturn\u001b[39;00m \u001b[38;5;28;43mself\u001b[39;49m\u001b[38;5;241;43m.\u001b[39;49m\u001b[43m_getbool_axis\u001b[49m\u001b[43m(\u001b[49m\u001b[43mkey\u001b[49m\u001b[43m,\u001b[49m\u001b[43m \u001b[49m\u001b[43maxis\u001b[49m\u001b[38;5;241;43m=\u001b[39;49m\u001b[43maxis\u001b[49m\u001b[43m)\u001b[49m\n\u001b[1;32m   1183\u001b[0m \u001b[38;5;28;01melif\u001b[39;00m is_list_like_indexer(key):\n\u001b[1;32m   1184\u001b[0m \n\u001b[1;32m   1185\u001b[0m     \u001b[38;5;66;03m# an iterable multi-selection\u001b[39;00m\n\u001b[1;32m   1186\u001b[0m     \u001b[38;5;28;01mif\u001b[39;00m \u001b[38;5;129;01mnot\u001b[39;00m (\u001b[38;5;28misinstance\u001b[39m(key, \u001b[38;5;28mtuple\u001b[39m) \u001b[38;5;129;01mand\u001b[39;00m \u001b[38;5;28misinstance\u001b[39m(labels, MultiIndex)):\n",
            "File \u001b[0;32m/lib/python3.10/site-packages/pandas/core/indexing.py:984\u001b[0m, in \u001b[0;36m_LocationIndexer._getbool_axis\u001b[0;34m(self, key, axis)\u001b[0m\n\u001b[1;32m    981\u001b[0m \u001b[38;5;28;01mdef\u001b[39;00m \u001b[38;5;21m_getbool_axis\u001b[39m(\u001b[38;5;28mself\u001b[39m, key, axis: \u001b[38;5;28mint\u001b[39m):\n\u001b[1;32m    982\u001b[0m     \u001b[38;5;66;03m# caller is responsible for ensuring non-None axis\u001b[39;00m\n\u001b[1;32m    983\u001b[0m     labels \u001b[38;5;241m=\u001b[39m \u001b[38;5;28mself\u001b[39m\u001b[38;5;241m.\u001b[39mobj\u001b[38;5;241m.\u001b[39m_get_axis(axis)\n\u001b[0;32m--> 984\u001b[0m     key \u001b[38;5;241m=\u001b[39m \u001b[43mcheck_bool_indexer\u001b[49m\u001b[43m(\u001b[49m\u001b[43mlabels\u001b[49m\u001b[43m,\u001b[49m\u001b[43m \u001b[49m\u001b[43mkey\u001b[49m\u001b[43m)\u001b[49m\n\u001b[1;32m    985\u001b[0m     inds \u001b[38;5;241m=\u001b[39m key\u001b[38;5;241m.\u001b[39mnonzero()[\u001b[38;5;241m0\u001b[39m]\n\u001b[1;32m    986\u001b[0m     \u001b[38;5;28;01mreturn\u001b[39;00m \u001b[38;5;28mself\u001b[39m\u001b[38;5;241m.\u001b[39mobj\u001b[38;5;241m.\u001b[39m_take_with_is_copy(inds, axis\u001b[38;5;241m=\u001b[39maxis)\n",
            "File \u001b[0;32m/lib/python3.10/site-packages/pandas/core/indexing.py:2396\u001b[0m, in \u001b[0;36mcheck_bool_indexer\u001b[0;34m(index, key)\u001b[0m\n\u001b[1;32m   2392\u001b[0m \u001b[38;5;28;01melif\u001b[39;00m \u001b[38;5;129;01mnot\u001b[39;00m is_array_like(result):\n\u001b[1;32m   2393\u001b[0m     \u001b[38;5;66;03m# GH 33924\u001b[39;00m\n\u001b[1;32m   2394\u001b[0m     \u001b[38;5;66;03m# key may contain nan elements, check_array_indexer needs bool array\u001b[39;00m\n\u001b[1;32m   2395\u001b[0m     result \u001b[38;5;241m=\u001b[39m pd_array(result, dtype\u001b[38;5;241m=\u001b[39m\u001b[38;5;28mbool\u001b[39m)\n\u001b[0;32m-> 2396\u001b[0m \u001b[38;5;28;01mreturn\u001b[39;00m \u001b[43mcheck_array_indexer\u001b[49m\u001b[43m(\u001b[49m\u001b[43mindex\u001b[49m\u001b[43m,\u001b[49m\u001b[43m \u001b[49m\u001b[43mresult\u001b[49m\u001b[43m)\u001b[49m\n",
            "File \u001b[0;32m/lib/python3.10/site-packages/pandas/core/indexers/utils.py:579\u001b[0m, in \u001b[0;36mcheck_array_indexer\u001b[0;34m(array, indexer)\u001b[0m\n\u001b[1;32m    577\u001b[0m     \u001b[38;5;66;03m# GH26658\u001b[39;00m\n\u001b[1;32m    578\u001b[0m     \u001b[38;5;28;01mif\u001b[39;00m \u001b[38;5;28mlen\u001b[39m(indexer) \u001b[38;5;241m!=\u001b[39m \u001b[38;5;28mlen\u001b[39m(array):\n\u001b[0;32m--> 579\u001b[0m         \u001b[38;5;28;01mraise\u001b[39;00m \u001b[38;5;167;01mIndexError\u001b[39;00m(\n\u001b[1;32m    580\u001b[0m             \u001b[38;5;124mf\u001b[39m\u001b[38;5;124m\"\u001b[39m\u001b[38;5;124mBoolean index has wrong length: \u001b[39m\u001b[38;5;124m\"\u001b[39m\n\u001b[1;32m    581\u001b[0m             \u001b[38;5;124mf\u001b[39m\u001b[38;5;124m\"\u001b[39m\u001b[38;5;132;01m{\u001b[39;00m\u001b[38;5;28mlen\u001b[39m(indexer)\u001b[38;5;132;01m}\u001b[39;00m\u001b[38;5;124m instead of \u001b[39m\u001b[38;5;132;01m{\u001b[39;00m\u001b[38;5;28mlen\u001b[39m(array)\u001b[38;5;132;01m}\u001b[39;00m\u001b[38;5;124m\"\u001b[39m\n\u001b[1;32m    582\u001b[0m         )\n\u001b[1;32m    583\u001b[0m \u001b[38;5;28;01melif\u001b[39;00m is_integer_dtype(dtype):\n\u001b[1;32m    584\u001b[0m     \u001b[38;5;28;01mtry\u001b[39;00m:\n",
            "\u001b[0;31mIndexError\u001b[0m: Boolean index has wrong length: 3 instead of 10"
          ],
          "output_type": "error"
        }
      ]
    },
    {
      "cell_type": "code",
      "source": "#we can use conditional operators",
      "metadata": {
        "trusted": true
      },
      "execution_count": 8,
      "outputs": []
    },
    {
      "cell_type": "code",
      "source": "df.loc[df['Class']<11]#In class less than 11 row printed",
      "metadata": {
        "trusted": true
      },
      "execution_count": 12,
      "outputs": [
        {
          "execution_count": 12,
          "output_type": "execute_result",
          "data": {
            "text/plain": "   Student ID  Class  Study hrs  Sleeping hrs  Social Media usage hrs  \\\n0        1001     10          2             9                       3   \n1        1002     10          6             8                       2   \n2        1003     10          3             8                       2   \n\n   Mobile Games hrs  Percantege  \n0                 5          50  \n1                 0          80  \n2                 4          60  ",
            "text/html": "<div>\n<style scoped>\n    .dataframe tbody tr th:only-of-type {\n        vertical-align: middle;\n    }\n\n    .dataframe tbody tr th {\n        vertical-align: top;\n    }\n\n    .dataframe thead th {\n        text-align: right;\n    }\n</style>\n<table border=\"1\" class=\"dataframe\">\n  <thead>\n    <tr style=\"text-align: right;\">\n      <th></th>\n      <th>Student ID</th>\n      <th>Class</th>\n      <th>Study hrs</th>\n      <th>Sleeping hrs</th>\n      <th>Social Media usage hrs</th>\n      <th>Mobile Games hrs</th>\n      <th>Percantege</th>\n    </tr>\n  </thead>\n  <tbody>\n    <tr>\n      <th>0</th>\n      <td>1001</td>\n      <td>10</td>\n      <td>2</td>\n      <td>9</td>\n      <td>3</td>\n      <td>5</td>\n      <td>50</td>\n    </tr>\n    <tr>\n      <th>1</th>\n      <td>1002</td>\n      <td>10</td>\n      <td>6</td>\n      <td>8</td>\n      <td>2</td>\n      <td>0</td>\n      <td>80</td>\n    </tr>\n    <tr>\n      <th>2</th>\n      <td>1003</td>\n      <td>10</td>\n      <td>3</td>\n      <td>8</td>\n      <td>2</td>\n      <td>4</td>\n      <td>60</td>\n    </tr>\n  </tbody>\n</table>\n</div>"
          },
          "metadata": {}
        }
      ]
    },
    {
      "cell_type": "code",
      "source": "#now I want less than 11 percentage value\ndf.loc[df['Class']<11,['Percantege']]",
      "metadata": {
        "trusted": true
      },
      "execution_count": 13,
      "outputs": [
        {
          "execution_count": 13,
          "output_type": "execute_result",
          "data": {
            "text/plain": "   Percantege\n0          50\n1          80\n2          60",
            "text/html": "<div>\n<style scoped>\n    .dataframe tbody tr th:only-of-type {\n        vertical-align: middle;\n    }\n\n    .dataframe tbody tr th {\n        vertical-align: top;\n    }\n\n    .dataframe thead th {\n        text-align: right;\n    }\n</style>\n<table border=\"1\" class=\"dataframe\">\n  <thead>\n    <tr style=\"text-align: right;\">\n      <th></th>\n      <th>Percantege</th>\n    </tr>\n  </thead>\n  <tbody>\n    <tr>\n      <th>0</th>\n      <td>50</td>\n    </tr>\n    <tr>\n      <th>1</th>\n      <td>80</td>\n    </tr>\n    <tr>\n      <th>2</th>\n      <td>60</td>\n    </tr>\n  </tbody>\n</table>\n</div>"
          },
          "metadata": {}
        }
      ]
    },
    {
      "cell_type": "code",
      "source": "#pandas '''''''''''''''ILOC''''''''''''\n#Integer location-based indexing",
      "metadata": {
        "trusted": true
      },
      "execution_count": 14,
      "outputs": []
    },
    {
      "cell_type": "code",
      "source": "#in loc we are accessing row and column using labels in iloc we are accessing row and col using indexing",
      "metadata": {
        "trusted": true
      },
      "execution_count": 15,
      "outputs": []
    },
    {
      "cell_type": "code",
      "source": "df.iloc[0]",
      "metadata": {
        "trusted": true
      },
      "execution_count": 16,
      "outputs": [
        {
          "execution_count": 16,
          "output_type": "execute_result",
          "data": {
            "text/plain": "Student ID                1001\nClass                       10\nStudy hrs                    2\nSleeping hrs                 9\nSocial Media usage hrs       3\nMobile Games hrs             5\nPercantege                  50\nName: 0, dtype: int64"
          },
          "metadata": {}
        }
      ]
    },
    {
      "cell_type": "code",
      "source": "df.iloc[[0]]",
      "metadata": {
        "trusted": true
      },
      "execution_count": 17,
      "outputs": [
        {
          "execution_count": 17,
          "output_type": "execute_result",
          "data": {
            "text/plain": "   Student ID  Class  Study hrs  Sleeping hrs  Social Media usage hrs  \\\n0        1001     10          2             9                       3   \n\n   Mobile Games hrs  Percantege  \n0                 5          50  ",
            "text/html": "<div>\n<style scoped>\n    .dataframe tbody tr th:only-of-type {\n        vertical-align: middle;\n    }\n\n    .dataframe tbody tr th {\n        vertical-align: top;\n    }\n\n    .dataframe thead th {\n        text-align: right;\n    }\n</style>\n<table border=\"1\" class=\"dataframe\">\n  <thead>\n    <tr style=\"text-align: right;\">\n      <th></th>\n      <th>Student ID</th>\n      <th>Class</th>\n      <th>Study hrs</th>\n      <th>Sleeping hrs</th>\n      <th>Social Media usage hrs</th>\n      <th>Mobile Games hrs</th>\n      <th>Percantege</th>\n    </tr>\n  </thead>\n  <tbody>\n    <tr>\n      <th>0</th>\n      <td>1001</td>\n      <td>10</td>\n      <td>2</td>\n      <td>9</td>\n      <td>3</td>\n      <td>5</td>\n      <td>50</td>\n    </tr>\n  </tbody>\n</table>\n</div>"
          },
          "metadata": {}
        }
      ]
    },
    {
      "cell_type": "code",
      "source": "df.iloc[:,0]#all row first col #we can't use loc here",
      "metadata": {
        "trusted": true
      },
      "execution_count": 21,
      "outputs": [
        {
          "execution_count": 21,
          "output_type": "execute_result",
          "data": {
            "text/plain": "0    1001\n1    1002\n2    1003\n3    1004\n4    1005\n5    1006\n6    1007\n7    1008\n8    1009\n9    1010\nName: Student ID, dtype: int64"
          },
          "metadata": {}
        }
      ]
    },
    {
      "cell_type": "code",
      "source": "df.iloc[[0,1]]#returns 0 and 1st index value",
      "metadata": {
        "trusted": true
      },
      "execution_count": 23,
      "outputs": [
        {
          "execution_count": 23,
          "output_type": "execute_result",
          "data": {
            "text/plain": "   Student ID  Class  Study hrs  Sleeping hrs  Social Media usage hrs  \\\n0        1001     10          2             9                       3   \n1        1002     10          6             8                       2   \n\n   Mobile Games hrs  Percantege  \n0                 5          50  \n1                 0          80  ",
            "text/html": "<div>\n<style scoped>\n    .dataframe tbody tr th:only-of-type {\n        vertical-align: middle;\n    }\n\n    .dataframe tbody tr th {\n        vertical-align: top;\n    }\n\n    .dataframe thead th {\n        text-align: right;\n    }\n</style>\n<table border=\"1\" class=\"dataframe\">\n  <thead>\n    <tr style=\"text-align: right;\">\n      <th></th>\n      <th>Student ID</th>\n      <th>Class</th>\n      <th>Study hrs</th>\n      <th>Sleeping hrs</th>\n      <th>Social Media usage hrs</th>\n      <th>Mobile Games hrs</th>\n      <th>Percantege</th>\n    </tr>\n  </thead>\n  <tbody>\n    <tr>\n      <th>0</th>\n      <td>1001</td>\n      <td>10</td>\n      <td>2</td>\n      <td>9</td>\n      <td>3</td>\n      <td>5</td>\n      <td>50</td>\n    </tr>\n    <tr>\n      <th>1</th>\n      <td>1002</td>\n      <td>10</td>\n      <td>6</td>\n      <td>8</td>\n      <td>2</td>\n      <td>0</td>\n      <td>80</td>\n    </tr>\n  </tbody>\n</table>\n</div>"
          },
          "metadata": {}
        }
      ]
    },
    {
      "cell_type": "code",
      "source": "df.iloc[[True,False,True,False,True,False,True,False,True,False]]",
      "metadata": {
        "trusted": true
      },
      "execution_count": 25,
      "outputs": [
        {
          "execution_count": 25,
          "output_type": "execute_result",
          "data": {
            "text/plain": "   Student ID  Class  Study hrs  Sleeping hrs  Social Media usage hrs  \\\n0        1001     10          2             9                       3   \n2        1003     10          3             8                       2   \n4        1005     11          4             7                       2   \n6        1007     12          4             6                       0   \n8        1009     12          2             8                       2   \n\n   Mobile Games hrs  Percantege  \n0                 5          50  \n2                 4          60  \n4                 0          75  \n6                 0          80  \n8                 4          60  ",
            "text/html": "<div>\n<style scoped>\n    .dataframe tbody tr th:only-of-type {\n        vertical-align: middle;\n    }\n\n    .dataframe tbody tr th {\n        vertical-align: top;\n    }\n\n    .dataframe thead th {\n        text-align: right;\n    }\n</style>\n<table border=\"1\" class=\"dataframe\">\n  <thead>\n    <tr style=\"text-align: right;\">\n      <th></th>\n      <th>Student ID</th>\n      <th>Class</th>\n      <th>Study hrs</th>\n      <th>Sleeping hrs</th>\n      <th>Social Media usage hrs</th>\n      <th>Mobile Games hrs</th>\n      <th>Percantege</th>\n    </tr>\n  </thead>\n  <tbody>\n    <tr>\n      <th>0</th>\n      <td>1001</td>\n      <td>10</td>\n      <td>2</td>\n      <td>9</td>\n      <td>3</td>\n      <td>5</td>\n      <td>50</td>\n    </tr>\n    <tr>\n      <th>2</th>\n      <td>1003</td>\n      <td>10</td>\n      <td>3</td>\n      <td>8</td>\n      <td>2</td>\n      <td>4</td>\n      <td>60</td>\n    </tr>\n    <tr>\n      <th>4</th>\n      <td>1005</td>\n      <td>11</td>\n      <td>4</td>\n      <td>7</td>\n      <td>2</td>\n      <td>0</td>\n      <td>75</td>\n    </tr>\n    <tr>\n      <th>6</th>\n      <td>1007</td>\n      <td>12</td>\n      <td>4</td>\n      <td>6</td>\n      <td>0</td>\n      <td>0</td>\n      <td>80</td>\n    </tr>\n    <tr>\n      <th>8</th>\n      <td>1009</td>\n      <td>12</td>\n      <td>2</td>\n      <td>8</td>\n      <td>2</td>\n      <td>4</td>\n      <td>60</td>\n    </tr>\n  </tbody>\n</table>\n</div>"
          },
          "metadata": {}
        }
      ]
    },
    {
      "cell_type": "code",
      "source": "#****************PART 16***********************",
      "metadata": {
        "trusted": true
      },
      "execution_count": 26,
      "outputs": []
    },
    {
      "cell_type": "markdown",
      "source": "GROUPBY fUNCTION =used to split the data into group based on some criteria",
      "metadata": {}
    },
    {
      "cell_type": "code",
      "source": "#Applying GROUPBY function involves following operations",
      "metadata": {
        "trusted": true
      },
      "execution_count": 27,
      "outputs": []
    },
    {
      "cell_type": "code",
      "source": "#--Splitting the object , --Applying a function , --Combining the result",
      "metadata": {
        "trusted": true
      },
      "execution_count": 28,
      "outputs": []
    },
    {
      "cell_type": "code",
      "source": "df=pd.read_csv('student_5.csv')\ndf",
      "metadata": {
        "trusted": true
      },
      "execution_count": 30,
      "outputs": [
        {
          "execution_count": 30,
          "output_type": "execute_result",
          "data": {
            "text/plain": "   Student ID  Class Section  Study hrs  Percentage\n0        1001     10       A          2          50\n1        1002     10       B          6          80\n2        1003     10       A          3          60\n3        1004     11       C          0          45\n4        1005     11       C          5          75",
            "text/html": "<div>\n<style scoped>\n    .dataframe tbody tr th:only-of-type {\n        vertical-align: middle;\n    }\n\n    .dataframe tbody tr th {\n        vertical-align: top;\n    }\n\n    .dataframe thead th {\n        text-align: right;\n    }\n</style>\n<table border=\"1\" class=\"dataframe\">\n  <thead>\n    <tr style=\"text-align: right;\">\n      <th></th>\n      <th>Student ID</th>\n      <th>Class</th>\n      <th>Section</th>\n      <th>Study hrs</th>\n      <th>Percentage</th>\n    </tr>\n  </thead>\n  <tbody>\n    <tr>\n      <th>0</th>\n      <td>1001</td>\n      <td>10</td>\n      <td>A</td>\n      <td>2</td>\n      <td>50</td>\n    </tr>\n    <tr>\n      <th>1</th>\n      <td>1002</td>\n      <td>10</td>\n      <td>B</td>\n      <td>6</td>\n      <td>80</td>\n    </tr>\n    <tr>\n      <th>2</th>\n      <td>1003</td>\n      <td>10</td>\n      <td>A</td>\n      <td>3</td>\n      <td>60</td>\n    </tr>\n    <tr>\n      <th>3</th>\n      <td>1004</td>\n      <td>11</td>\n      <td>C</td>\n      <td>0</td>\n      <td>45</td>\n    </tr>\n    <tr>\n      <th>4</th>\n      <td>1005</td>\n      <td>11</td>\n      <td>C</td>\n      <td>5</td>\n      <td>75</td>\n    </tr>\n  </tbody>\n</table>\n</div>"
          },
          "metadata": {}
        }
      ]
    },
    {
      "cell_type": "code",
      "source": "gr1=df.groupby(by='Section')\ngr1",
      "metadata": {
        "trusted": true
      },
      "execution_count": 31,
      "outputs": [
        {
          "execution_count": 31,
          "output_type": "execute_result",
          "data": {
            "text/plain": "<pandas.core.groupby.generic.DataFrameGroupBy object at 0x791dd08>"
          },
          "metadata": {}
        }
      ]
    },
    {
      "cell_type": "markdown",
      "source": "# when we call groupby function it returns group by object",
      "metadata": {}
    },
    {
      "cell_type": "code",
      "source": "gr1.groups #it shows group of section",
      "metadata": {
        "trusted": true
      },
      "execution_count": 34,
      "outputs": [
        {
          "execution_count": 34,
          "output_type": "execute_result",
          "data": {
            "text/plain": "{'A': [0, 2], 'B': [1], 'C': [3, 4]}"
          },
          "metadata": {}
        }
      ]
    },
    {
      "cell_type": "code",
      "source": "df.groupby(['Section','Class']).groups",
      "metadata": {
        "trusted": true
      },
      "execution_count": 35,
      "outputs": [
        {
          "execution_count": 35,
          "output_type": "execute_result",
          "data": {
            "text/plain": "{('A', 10): [0, 2], ('B', 10): [1], ('C', 11): [3, 4]}"
          },
          "metadata": {}
        }
      ]
    },
    {
      "cell_type": "code",
      "source": "#access the group by using for loop \n",
      "metadata": {
        "trusted": true
      },
      "execution_count": 36,
      "outputs": []
    },
    {
      "cell_type": "code",
      "source": "for Section,df_1 in gr1:\n    print(Section)\n    print(df_1)",
      "metadata": {
        "trusted": true
      },
      "execution_count": 38,
      "outputs": [
        {
          "name": "stdout",
          "text": "A\n   Student ID  Class Section  Study hrs  Percentage\n0        1001     10       A          2          50\n2        1003     10       A          3          60\nB\n   Student ID  Class Section  Study hrs  Percentage\n1        1002     10       B          6          80\nC\n   Student ID  Class Section  Study hrs  Percentage\n3        1004     11       C          0          45\n4        1005     11       C          5          75\n",
          "output_type": "stream"
        }
      ]
    },
    {
      "cell_type": "code",
      "source": "list(gr1)#It's converted into list",
      "metadata": {
        "trusted": true
      },
      "execution_count": 40,
      "outputs": [
        {
          "execution_count": 40,
          "output_type": "execute_result",
          "data": {
            "text/plain": "[('A',\n     Student ID  Class Section  Study hrs  Percentage\n  0        1001     10       A          2          50\n  2        1003     10       A          3          60),\n ('B',\n     Student ID  Class Section  Study hrs  Percentage\n  1        1002     10       B          6          80),\n ('C',\n     Student ID  Class Section  Study hrs  Percentage\n  3        1004     11       C          0          45\n  4        1005     11       C          5          75)]"
          },
          "metadata": {}
        }
      ]
    },
    {
      "cell_type": "code",
      "source": "#we can convert it into dictionary as well",
      "metadata": {
        "trusted": true
      },
      "execution_count": 41,
      "outputs": []
    },
    {
      "cell_type": "code",
      "source": "dict(list(gr1))",
      "metadata": {
        "trusted": true
      },
      "execution_count": 42,
      "outputs": [
        {
          "execution_count": 42,
          "output_type": "execute_result",
          "data": {
            "text/plain": "{'A':    Student ID  Class Section  Study hrs  Percentage\n 0        1001     10       A          2          50\n 2        1003     10       A          3          60,\n 'B':    Student ID  Class Section  Study hrs  Percentage\n 1        1002     10       B          6          80,\n 'C':    Student ID  Class Section  Study hrs  Percentage\n 3        1004     11       C          0          45\n 4        1005     11       C          5          75}"
          },
          "metadata": {}
        }
      ]
    },
    {
      "cell_type": "code",
      "source": "gr3=df.groupby('Class').get_group(10)#according to class value 10 it returns the group\ngr3",
      "metadata": {
        "trusted": true
      },
      "execution_count": 44,
      "outputs": [
        {
          "execution_count": 44,
          "output_type": "execute_result",
          "data": {
            "text/plain": "   Student ID  Class Section  Study hrs  Percentage\n0        1001     10       A          2          50\n1        1002     10       B          6          80\n2        1003     10       A          3          60",
            "text/html": "<div>\n<style scoped>\n    .dataframe tbody tr th:only-of-type {\n        vertical-align: middle;\n    }\n\n    .dataframe tbody tr th {\n        vertical-align: top;\n    }\n\n    .dataframe thead th {\n        text-align: right;\n    }\n</style>\n<table border=\"1\" class=\"dataframe\">\n  <thead>\n    <tr style=\"text-align: right;\">\n      <th></th>\n      <th>Student ID</th>\n      <th>Class</th>\n      <th>Section</th>\n      <th>Study hrs</th>\n      <th>Percentage</th>\n    </tr>\n  </thead>\n  <tbody>\n    <tr>\n      <th>0</th>\n      <td>1001</td>\n      <td>10</td>\n      <td>A</td>\n      <td>2</td>\n      <td>50</td>\n    </tr>\n    <tr>\n      <th>1</th>\n      <td>1002</td>\n      <td>10</td>\n      <td>B</td>\n      <td>6</td>\n      <td>80</td>\n    </tr>\n    <tr>\n      <th>2</th>\n      <td>1003</td>\n      <td>10</td>\n      <td>A</td>\n      <td>3</td>\n      <td>60</td>\n    </tr>\n  </tbody>\n</table>\n</div>"
          },
          "metadata": {}
        }
      ]
    },
    {
      "cell_type": "code",
      "source": "gr3=df.groupby('Section').get_group('A')\ngr3",
      "metadata": {
        "trusted": true
      },
      "execution_count": 45,
      "outputs": [
        {
          "execution_count": 45,
          "output_type": "execute_result",
          "data": {
            "text/plain": "   Student ID  Class Section  Study hrs  Percentage\n0        1001     10       A          2          50\n2        1003     10       A          3          60",
            "text/html": "<div>\n<style scoped>\n    .dataframe tbody tr th:only-of-type {\n        vertical-align: middle;\n    }\n\n    .dataframe tbody tr th {\n        vertical-align: top;\n    }\n\n    .dataframe thead th {\n        text-align: right;\n    }\n</style>\n<table border=\"1\" class=\"dataframe\">\n  <thead>\n    <tr style=\"text-align: right;\">\n      <th></th>\n      <th>Student ID</th>\n      <th>Class</th>\n      <th>Section</th>\n      <th>Study hrs</th>\n      <th>Percentage</th>\n    </tr>\n  </thead>\n  <tbody>\n    <tr>\n      <th>0</th>\n      <td>1001</td>\n      <td>10</td>\n      <td>A</td>\n      <td>2</td>\n      <td>50</td>\n    </tr>\n    <tr>\n      <th>2</th>\n      <td>1003</td>\n      <td>10</td>\n      <td>A</td>\n      <td>3</td>\n      <td>60</td>\n    </tr>\n  </tbody>\n</table>\n</div>"
          },
          "metadata": {}
        }
      ]
    },
    {
      "cell_type": "code",
      "source": "#applying a functions into group objects",
      "metadata": {
        "trusted": true
      },
      "execution_count": 46,
      "outputs": []
    },
    {
      "cell_type": "code",
      "source": "gr1.sum()#according to section sum",
      "metadata": {
        "trusted": true
      },
      "execution_count": 48,
      "outputs": [
        {
          "execution_count": 48,
          "output_type": "execute_result",
          "data": {
            "text/plain": "         Student ID  Class  Study hrs  Percentage\nSection                                          \nA              2004     20          5         110\nB              1002     10          6          80\nC              2009     22          5         120",
            "text/html": "<div>\n<style scoped>\n    .dataframe tbody tr th:only-of-type {\n        vertical-align: middle;\n    }\n\n    .dataframe tbody tr th {\n        vertical-align: top;\n    }\n\n    .dataframe thead th {\n        text-align: right;\n    }\n</style>\n<table border=\"1\" class=\"dataframe\">\n  <thead>\n    <tr style=\"text-align: right;\">\n      <th></th>\n      <th>Student ID</th>\n      <th>Class</th>\n      <th>Study hrs</th>\n      <th>Percentage</th>\n    </tr>\n    <tr>\n      <th>Section</th>\n      <th></th>\n      <th></th>\n      <th></th>\n      <th></th>\n    </tr>\n  </thead>\n  <tbody>\n    <tr>\n      <th>A</th>\n      <td>2004</td>\n      <td>20</td>\n      <td>5</td>\n      <td>110</td>\n    </tr>\n    <tr>\n      <th>B</th>\n      <td>1002</td>\n      <td>10</td>\n      <td>6</td>\n      <td>80</td>\n    </tr>\n    <tr>\n      <th>C</th>\n      <td>2009</td>\n      <td>22</td>\n      <td>5</td>\n      <td>120</td>\n    </tr>\n  </tbody>\n</table>\n</div>"
          },
          "metadata": {}
        }
      ]
    },
    {
      "cell_type": "code",
      "source": "gr1.mean()#according to section mean",
      "metadata": {
        "trusted": true
      },
      "execution_count": 49,
      "outputs": [
        {
          "execution_count": 49,
          "output_type": "execute_result",
          "data": {
            "text/plain": "         Student ID  Class  Study hrs  Percentage\nSection                                          \nA            1002.0   10.0        2.5        55.0\nB            1002.0   10.0        6.0        80.0\nC            1004.5   11.0        2.5        60.0",
            "text/html": "<div>\n<style scoped>\n    .dataframe tbody tr th:only-of-type {\n        vertical-align: middle;\n    }\n\n    .dataframe tbody tr th {\n        vertical-align: top;\n    }\n\n    .dataframe thead th {\n        text-align: right;\n    }\n</style>\n<table border=\"1\" class=\"dataframe\">\n  <thead>\n    <tr style=\"text-align: right;\">\n      <th></th>\n      <th>Student ID</th>\n      <th>Class</th>\n      <th>Study hrs</th>\n      <th>Percentage</th>\n    </tr>\n    <tr>\n      <th>Section</th>\n      <th></th>\n      <th></th>\n      <th></th>\n      <th></th>\n    </tr>\n  </thead>\n  <tbody>\n    <tr>\n      <th>A</th>\n      <td>1002.0</td>\n      <td>10.0</td>\n      <td>2.5</td>\n      <td>55.0</td>\n    </tr>\n    <tr>\n      <th>B</th>\n      <td>1002.0</td>\n      <td>10.0</td>\n      <td>6.0</td>\n      <td>80.0</td>\n    </tr>\n    <tr>\n      <th>C</th>\n      <td>1004.5</td>\n      <td>11.0</td>\n      <td>2.5</td>\n      <td>60.0</td>\n    </tr>\n  </tbody>\n</table>\n</div>"
          },
          "metadata": {}
        }
      ]
    },
    {
      "cell_type": "code",
      "source": "gr1.describe()",
      "metadata": {
        "trusted": true
      },
      "execution_count": 50,
      "outputs": [
        {
          "execution_count": 50,
          "output_type": "execute_result",
          "data": {
            "text/plain": "        Student ID                                                      \\\n             count    mean       std     min      25%     50%      75%   \nSection                                                                  \nA              2.0  1002.0  1.414214  1001.0  1001.50  1002.0  1002.50   \nB              1.0  1002.0       NaN  1002.0  1002.00  1002.0  1002.00   \nC              2.0  1004.5  0.707107  1004.0  1004.25  1004.5  1004.75   \n\n                Class        ... Study hrs      Percentage                   \\\n            max count  mean  ...       75%  max      count  mean        std   \nSection                      ...                                              \nA        1003.0   2.0  10.0  ...      2.75  3.0        2.0  55.0   7.071068   \nB        1002.0   1.0  10.0  ...      6.00  6.0        1.0  80.0        NaN   \nC        1005.0   2.0  11.0  ...      3.75  5.0        2.0  60.0  21.213203   \n\n                                       \n          min   25%   50%   75%   max  \nSection                                \nA        50.0  52.5  55.0  57.5  60.0  \nB        80.0  80.0  80.0  80.0  80.0  \nC        45.0  52.5  60.0  67.5  75.0  \n\n[3 rows x 32 columns]",
            "text/html": "<div>\n<style scoped>\n    .dataframe tbody tr th:only-of-type {\n        vertical-align: middle;\n    }\n\n    .dataframe tbody tr th {\n        vertical-align: top;\n    }\n\n    .dataframe thead tr th {\n        text-align: left;\n    }\n\n    .dataframe thead tr:last-of-type th {\n        text-align: right;\n    }\n</style>\n<table border=\"1\" class=\"dataframe\">\n  <thead>\n    <tr>\n      <th></th>\n      <th colspan=\"8\" halign=\"left\">Student ID</th>\n      <th colspan=\"2\" halign=\"left\">Class</th>\n      <th>...</th>\n      <th colspan=\"2\" halign=\"left\">Study hrs</th>\n      <th colspan=\"8\" halign=\"left\">Percentage</th>\n    </tr>\n    <tr>\n      <th></th>\n      <th>count</th>\n      <th>mean</th>\n      <th>std</th>\n      <th>min</th>\n      <th>25%</th>\n      <th>50%</th>\n      <th>75%</th>\n      <th>max</th>\n      <th>count</th>\n      <th>mean</th>\n      <th>...</th>\n      <th>75%</th>\n      <th>max</th>\n      <th>count</th>\n      <th>mean</th>\n      <th>std</th>\n      <th>min</th>\n      <th>25%</th>\n      <th>50%</th>\n      <th>75%</th>\n      <th>max</th>\n    </tr>\n    <tr>\n      <th>Section</th>\n      <th></th>\n      <th></th>\n      <th></th>\n      <th></th>\n      <th></th>\n      <th></th>\n      <th></th>\n      <th></th>\n      <th></th>\n      <th></th>\n      <th></th>\n      <th></th>\n      <th></th>\n      <th></th>\n      <th></th>\n      <th></th>\n      <th></th>\n      <th></th>\n      <th></th>\n      <th></th>\n      <th></th>\n    </tr>\n  </thead>\n  <tbody>\n    <tr>\n      <th>A</th>\n      <td>2.0</td>\n      <td>1002.0</td>\n      <td>1.414214</td>\n      <td>1001.0</td>\n      <td>1001.50</td>\n      <td>1002.0</td>\n      <td>1002.50</td>\n      <td>1003.0</td>\n      <td>2.0</td>\n      <td>10.0</td>\n      <td>...</td>\n      <td>2.75</td>\n      <td>3.0</td>\n      <td>2.0</td>\n      <td>55.0</td>\n      <td>7.071068</td>\n      <td>50.0</td>\n      <td>52.5</td>\n      <td>55.0</td>\n      <td>57.5</td>\n      <td>60.0</td>\n    </tr>\n    <tr>\n      <th>B</th>\n      <td>1.0</td>\n      <td>1002.0</td>\n      <td>NaN</td>\n      <td>1002.0</td>\n      <td>1002.00</td>\n      <td>1002.0</td>\n      <td>1002.00</td>\n      <td>1002.0</td>\n      <td>1.0</td>\n      <td>10.0</td>\n      <td>...</td>\n      <td>6.00</td>\n      <td>6.0</td>\n      <td>1.0</td>\n      <td>80.0</td>\n      <td>NaN</td>\n      <td>80.0</td>\n      <td>80.0</td>\n      <td>80.0</td>\n      <td>80.0</td>\n      <td>80.0</td>\n    </tr>\n    <tr>\n      <th>C</th>\n      <td>2.0</td>\n      <td>1004.5</td>\n      <td>0.707107</td>\n      <td>1004.0</td>\n      <td>1004.25</td>\n      <td>1004.5</td>\n      <td>1004.75</td>\n      <td>1005.0</td>\n      <td>2.0</td>\n      <td>11.0</td>\n      <td>...</td>\n      <td>3.75</td>\n      <td>5.0</td>\n      <td>2.0</td>\n      <td>60.0</td>\n      <td>21.213203</td>\n      <td>45.0</td>\n      <td>52.5</td>\n      <td>60.0</td>\n      <td>67.5</td>\n      <td>75.0</td>\n    </tr>\n  </tbody>\n</table>\n<p>3 rows × 32 columns</p>\n</div>"
          },
          "metadata": {}
        }
      ]
    },
    {
      "cell_type": "code",
      "source": "gr1.agg(['sum','max','mean'])#we can use multiple functions",
      "metadata": {
        "trusted": true
      },
      "execution_count": 52,
      "outputs": [
        {
          "execution_count": 52,
          "output_type": "execute_result",
          "data": {
            "text/plain": "        Student ID               Class           Study hrs           \\\n               sum   max    mean   sum max  mean       sum max mean   \nSection                                                               \nA             2004  1003  1002.0    20  10  10.0         5   3  2.5   \nB             1002  1002  1002.0    10  10  10.0         6   6  6.0   \nC             2009  1005  1004.5    22  11  11.0         5   5  2.5   \n\n        Percentage            \n               sum max  mean  \nSection                       \nA              110  60  55.0  \nB               80  80  80.0  \nC              120  75  60.0  ",
            "text/html": "<div>\n<style scoped>\n    .dataframe tbody tr th:only-of-type {\n        vertical-align: middle;\n    }\n\n    .dataframe tbody tr th {\n        vertical-align: top;\n    }\n\n    .dataframe thead tr th {\n        text-align: left;\n    }\n\n    .dataframe thead tr:last-of-type th {\n        text-align: right;\n    }\n</style>\n<table border=\"1\" class=\"dataframe\">\n  <thead>\n    <tr>\n      <th></th>\n      <th colspan=\"3\" halign=\"left\">Student ID</th>\n      <th colspan=\"3\" halign=\"left\">Class</th>\n      <th colspan=\"3\" halign=\"left\">Study hrs</th>\n      <th colspan=\"3\" halign=\"left\">Percentage</th>\n    </tr>\n    <tr>\n      <th></th>\n      <th>sum</th>\n      <th>max</th>\n      <th>mean</th>\n      <th>sum</th>\n      <th>max</th>\n      <th>mean</th>\n      <th>sum</th>\n      <th>max</th>\n      <th>mean</th>\n      <th>sum</th>\n      <th>max</th>\n      <th>mean</th>\n    </tr>\n    <tr>\n      <th>Section</th>\n      <th></th>\n      <th></th>\n      <th></th>\n      <th></th>\n      <th></th>\n      <th></th>\n      <th></th>\n      <th></th>\n      <th></th>\n      <th></th>\n      <th></th>\n      <th></th>\n    </tr>\n  </thead>\n  <tbody>\n    <tr>\n      <th>A</th>\n      <td>2004</td>\n      <td>1003</td>\n      <td>1002.0</td>\n      <td>20</td>\n      <td>10</td>\n      <td>10.0</td>\n      <td>5</td>\n      <td>3</td>\n      <td>2.5</td>\n      <td>110</td>\n      <td>60</td>\n      <td>55.0</td>\n    </tr>\n    <tr>\n      <th>B</th>\n      <td>1002</td>\n      <td>1002</td>\n      <td>1002.0</td>\n      <td>10</td>\n      <td>10</td>\n      <td>10.0</td>\n      <td>6</td>\n      <td>6</td>\n      <td>6.0</td>\n      <td>80</td>\n      <td>80</td>\n      <td>80.0</td>\n    </tr>\n    <tr>\n      <th>C</th>\n      <td>2009</td>\n      <td>1005</td>\n      <td>1004.5</td>\n      <td>22</td>\n      <td>11</td>\n      <td>11.0</td>\n      <td>5</td>\n      <td>5</td>\n      <td>2.5</td>\n      <td>120</td>\n      <td>75</td>\n      <td>60.0</td>\n    </tr>\n  </tbody>\n</table>\n</div>"
          },
          "metadata": {}
        }
      ]
    },
    {
      "cell_type": "markdown",
      "source": "#******************PART 17************************\n",
      "metadata": {}
    },
    {
      "cell_type": "code",
      "source": "#MERGE = connects multiple columns or index in DataFrame based on one or more keys",
      "metadata": {
        "trusted": true
      },
      "execution_count": 53,
      "outputs": []
    },
    {
      "cell_type": "code",
      "source": "df1=pd.DataFrame({'ID':[1,2,3,5],'Class':[9,10,11,12]})\ndf1",
      "metadata": {
        "trusted": true
      },
      "execution_count": 78,
      "outputs": [
        {
          "execution_count": 78,
          "output_type": "execute_result",
          "data": {
            "text/plain": "   ID  Class\n0   1      9\n1   2     10\n2   3     11\n3   5     12",
            "text/html": "<div>\n<style scoped>\n    .dataframe tbody tr th:only-of-type {\n        vertical-align: middle;\n    }\n\n    .dataframe tbody tr th {\n        vertical-align: top;\n    }\n\n    .dataframe thead th {\n        text-align: right;\n    }\n</style>\n<table border=\"1\" class=\"dataframe\">\n  <thead>\n    <tr style=\"text-align: right;\">\n      <th></th>\n      <th>ID</th>\n      <th>Class</th>\n    </tr>\n  </thead>\n  <tbody>\n    <tr>\n      <th>0</th>\n      <td>1</td>\n      <td>9</td>\n    </tr>\n    <tr>\n      <th>1</th>\n      <td>2</td>\n      <td>10</td>\n    </tr>\n    <tr>\n      <th>2</th>\n      <td>3</td>\n      <td>11</td>\n    </tr>\n    <tr>\n      <th>3</th>\n      <td>5</td>\n      <td>12</td>\n    </tr>\n  </tbody>\n</table>\n</div>"
          },
          "metadata": {}
        }
      ]
    },
    {
      "cell_type": "code",
      "source": "df2=pd.DataFrame({'ID':[1,2,3,4],'Name':['A','B','C','D']})\ndf2",
      "metadata": {
        "trusted": true
      },
      "execution_count": 68,
      "outputs": [
        {
          "execution_count": 68,
          "output_type": "execute_result",
          "data": {
            "text/plain": "   ID Name\n0   1    A\n1   2    B\n2   3    C\n3   4    D",
            "text/html": "<div>\n<style scoped>\n    .dataframe tbody tr th:only-of-type {\n        vertical-align: middle;\n    }\n\n    .dataframe tbody tr th {\n        vertical-align: top;\n    }\n\n    .dataframe thead th {\n        text-align: right;\n    }\n</style>\n<table border=\"1\" class=\"dataframe\">\n  <thead>\n    <tr style=\"text-align: right;\">\n      <th></th>\n      <th>ID</th>\n      <th>Name</th>\n    </tr>\n  </thead>\n  <tbody>\n    <tr>\n      <th>0</th>\n      <td>1</td>\n      <td>A</td>\n    </tr>\n    <tr>\n      <th>1</th>\n      <td>2</td>\n      <td>B</td>\n    </tr>\n    <tr>\n      <th>2</th>\n      <td>3</td>\n      <td>C</td>\n    </tr>\n    <tr>\n      <th>3</th>\n      <td>4</td>\n      <td>D</td>\n    </tr>\n  </tbody>\n</table>\n</div>"
          },
          "metadata": {}
        }
      ]
    },
    {
      "cell_type": "code",
      "source": "pd.merge(df1,df2,on='ID')# we want id same but class and name different",
      "metadata": {
        "trusted": true
      },
      "execution_count": 72,
      "outputs": [
        {
          "execution_count": 72,
          "output_type": "execute_result",
          "data": {
            "text/plain": "   ID  Class Name\n0   1      9    A\n1   2     10    B\n2   3     11    C\n3   4     12    D",
            "text/html": "<div>\n<style scoped>\n    .dataframe tbody tr th:only-of-type {\n        vertical-align: middle;\n    }\n\n    .dataframe tbody tr th {\n        vertical-align: top;\n    }\n\n    .dataframe thead th {\n        text-align: right;\n    }\n</style>\n<table border=\"1\" class=\"dataframe\">\n  <thead>\n    <tr style=\"text-align: right;\">\n      <th></th>\n      <th>ID</th>\n      <th>Class</th>\n      <th>Name</th>\n    </tr>\n  </thead>\n  <tbody>\n    <tr>\n      <th>0</th>\n      <td>1</td>\n      <td>9</td>\n      <td>A</td>\n    </tr>\n    <tr>\n      <th>1</th>\n      <td>2</td>\n      <td>10</td>\n      <td>B</td>\n    </tr>\n    <tr>\n      <th>2</th>\n      <td>3</td>\n      <td>11</td>\n      <td>C</td>\n    </tr>\n    <tr>\n      <th>3</th>\n      <td>4</td>\n      <td>12</td>\n      <td>D</td>\n    </tr>\n  </tbody>\n</table>\n</div>"
          },
          "metadata": {}
        }
      ]
    },
    {
      "cell_type": "code",
      "source": "#parameter left,right (in new dataframe first col(df1) is left and (df2) is right",
      "metadata": {
        "trusted": true
      },
      "execution_count": 65,
      "outputs": []
    },
    {
      "cell_type": "code",
      "source": "#thus , id from 1st df and name from 2 nd df is merge",
      "metadata": {
        "trusted": true
      },
      "execution_count": 74,
      "outputs": []
    },
    {
      "cell_type": "code",
      "source": "# we want id same but class and name different\n",
      "metadata": {
        "trusted": true
      },
      "execution_count": 71,
      "outputs": []
    },
    {
      "cell_type": "code",
      "source": "pd.merge(df2,df1,on='ID')",
      "metadata": {
        "trusted": true
      },
      "execution_count": 75,
      "outputs": [
        {
          "execution_count": 75,
          "output_type": "execute_result",
          "data": {
            "text/plain": "   ID Name  Class\n0   1    A      9\n1   2    B     10\n2   3    C     11\n3   4    D     12",
            "text/html": "<div>\n<style scoped>\n    .dataframe tbody tr th:only-of-type {\n        vertical-align: middle;\n    }\n\n    .dataframe tbody tr th {\n        vertical-align: top;\n    }\n\n    .dataframe thead th {\n        text-align: right;\n    }\n</style>\n<table border=\"1\" class=\"dataframe\">\n  <thead>\n    <tr style=\"text-align: right;\">\n      <th></th>\n      <th>ID</th>\n      <th>Name</th>\n      <th>Class</th>\n    </tr>\n  </thead>\n  <tbody>\n    <tr>\n      <th>0</th>\n      <td>1</td>\n      <td>A</td>\n      <td>9</td>\n    </tr>\n    <tr>\n      <th>1</th>\n      <td>2</td>\n      <td>B</td>\n      <td>10</td>\n    </tr>\n    <tr>\n      <th>2</th>\n      <td>3</td>\n      <td>C</td>\n      <td>11</td>\n    </tr>\n    <tr>\n      <th>3</th>\n      <td>4</td>\n      <td>D</td>\n      <td>12</td>\n    </tr>\n  </tbody>\n</table>\n</div>"
          },
          "metadata": {}
        }
      ]
    },
    {
      "cell_type": "code",
      "source": "#IF dataframe having different items of id",
      "metadata": {
        "trusted": true
      },
      "execution_count": 77,
      "outputs": []
    },
    {
      "cell_type": "code",
      "source": "pd.merge(df2,df1,on='ID')#as the items are not similar it is not printing anything",
      "metadata": {
        "trusted": true
      },
      "execution_count": 80,
      "outputs": [
        {
          "execution_count": 80,
          "output_type": "execute_result",
          "data": {
            "text/plain": "   ID Name  Class\n0   1    A      9\n1   2    B     10\n2   3    C     11",
            "text/html": "<div>\n<style scoped>\n    .dataframe tbody tr th:only-of-type {\n        vertical-align: middle;\n    }\n\n    .dataframe tbody tr th {\n        vertical-align: top;\n    }\n\n    .dataframe thead th {\n        text-align: right;\n    }\n</style>\n<table border=\"1\" class=\"dataframe\">\n  <thead>\n    <tr style=\"text-align: right;\">\n      <th></th>\n      <th>ID</th>\n      <th>Name</th>\n      <th>Class</th>\n    </tr>\n  </thead>\n  <tbody>\n    <tr>\n      <th>0</th>\n      <td>1</td>\n      <td>A</td>\n      <td>9</td>\n    </tr>\n    <tr>\n      <th>1</th>\n      <td>2</td>\n      <td>B</td>\n      <td>10</td>\n    </tr>\n    <tr>\n      <th>2</th>\n      <td>3</td>\n      <td>C</td>\n      <td>11</td>\n    </tr>\n  </tbody>\n</table>\n</div>"
          },
          "metadata": {}
        }
      ]
    },
    {
      "cell_type": "code",
      "source": "#next will see ''how''' parameter(it's default parameter is inner)",
      "metadata": {
        "trusted": true
      },
      "execution_count": 83,
      "outputs": []
    },
    {
      "cell_type": "code",
      "source": "#inner is intersection",
      "metadata": {
        "trusted": true
      },
      "execution_count": 84,
      "outputs": []
    },
    {
      "cell_type": "code",
      "source": "pd.merge(df1,df2,on='ID',how='inner')",
      "metadata": {
        "trusted": true
      },
      "execution_count": 88,
      "outputs": [
        {
          "execution_count": 88,
          "output_type": "execute_result",
          "data": {
            "text/plain": "   ID  Class Name\n0   1      9    A\n1   2     10    B\n2   3     11    C",
            "text/html": "<div>\n<style scoped>\n    .dataframe tbody tr th:only-of-type {\n        vertical-align: middle;\n    }\n\n    .dataframe tbody tr th {\n        vertical-align: top;\n    }\n\n    .dataframe thead th {\n        text-align: right;\n    }\n</style>\n<table border=\"1\" class=\"dataframe\">\n  <thead>\n    <tr style=\"text-align: right;\">\n      <th></th>\n      <th>ID</th>\n      <th>Class</th>\n      <th>Name</th>\n    </tr>\n  </thead>\n  <tbody>\n    <tr>\n      <th>0</th>\n      <td>1</td>\n      <td>9</td>\n      <td>A</td>\n    </tr>\n    <tr>\n      <th>1</th>\n      <td>2</td>\n      <td>10</td>\n      <td>B</td>\n    </tr>\n    <tr>\n      <th>2</th>\n      <td>3</td>\n      <td>11</td>\n      <td>C</td>\n    </tr>\n  </tbody>\n</table>\n</div>"
          },
          "metadata": {}
        }
      ]
    },
    {
      "cell_type": "code",
      "source": "pd.merge(df1,df2,on='ID',how='left')",
      "metadata": {
        "trusted": true
      },
      "execution_count": 89,
      "outputs": [
        {
          "execution_count": 89,
          "output_type": "execute_result",
          "data": {
            "text/plain": "   ID  Class Name\n0   1      9    A\n1   2     10    B\n2   3     11    C\n3   5     12  NaN",
            "text/html": "<div>\n<style scoped>\n    .dataframe tbody tr th:only-of-type {\n        vertical-align: middle;\n    }\n\n    .dataframe tbody tr th {\n        vertical-align: top;\n    }\n\n    .dataframe thead th {\n        text-align: right;\n    }\n</style>\n<table border=\"1\" class=\"dataframe\">\n  <thead>\n    <tr style=\"text-align: right;\">\n      <th></th>\n      <th>ID</th>\n      <th>Class</th>\n      <th>Name</th>\n    </tr>\n  </thead>\n  <tbody>\n    <tr>\n      <th>0</th>\n      <td>1</td>\n      <td>9</td>\n      <td>A</td>\n    </tr>\n    <tr>\n      <th>1</th>\n      <td>2</td>\n      <td>10</td>\n      <td>B</td>\n    </tr>\n    <tr>\n      <th>2</th>\n      <td>3</td>\n      <td>11</td>\n      <td>C</td>\n    </tr>\n    <tr>\n      <th>3</th>\n      <td>5</td>\n      <td>12</td>\n      <td>NaN</td>\n    </tr>\n  </tbody>\n</table>\n</div>"
          },
          "metadata": {}
        }
      ]
    },
    {
      "cell_type": "code",
      "source": "pd.merge(df1,df2,on='ID',how='right')",
      "metadata": {
        "trusted": true
      },
      "execution_count": 90,
      "outputs": [
        {
          "execution_count": 90,
          "output_type": "execute_result",
          "data": {
            "text/plain": "   ID  Class Name\n0   1    9.0    A\n1   2   10.0    B\n2   3   11.0    C\n3   4    NaN    D",
            "text/html": "<div>\n<style scoped>\n    .dataframe tbody tr th:only-of-type {\n        vertical-align: middle;\n    }\n\n    .dataframe tbody tr th {\n        vertical-align: top;\n    }\n\n    .dataframe thead th {\n        text-align: right;\n    }\n</style>\n<table border=\"1\" class=\"dataframe\">\n  <thead>\n    <tr style=\"text-align: right;\">\n      <th></th>\n      <th>ID</th>\n      <th>Class</th>\n      <th>Name</th>\n    </tr>\n  </thead>\n  <tbody>\n    <tr>\n      <th>0</th>\n      <td>1</td>\n      <td>9.0</td>\n      <td>A</td>\n    </tr>\n    <tr>\n      <th>1</th>\n      <td>2</td>\n      <td>10.0</td>\n      <td>B</td>\n    </tr>\n    <tr>\n      <th>2</th>\n      <td>3</td>\n      <td>11.0</td>\n      <td>C</td>\n    </tr>\n    <tr>\n      <th>3</th>\n      <td>4</td>\n      <td>NaN</td>\n      <td>D</td>\n    </tr>\n  </tbody>\n</table>\n</div>"
          },
          "metadata": {}
        }
      ]
    },
    {
      "cell_type": "code",
      "source": "#I want all diff values",
      "metadata": {
        "trusted": true
      },
      "execution_count": 93,
      "outputs": []
    },
    {
      "cell_type": "code",
      "source": "pd.merge(df1,df2,on='ID',how='outer')",
      "metadata": {
        "trusted": true
      },
      "execution_count": 92,
      "outputs": [
        {
          "execution_count": 92,
          "output_type": "execute_result",
          "data": {
            "text/plain": "   ID  Class Name\n0   1    9.0    A\n1   2   10.0    B\n2   3   11.0    C\n3   5   12.0  NaN\n4   4    NaN    D",
            "text/html": "<div>\n<style scoped>\n    .dataframe tbody tr th:only-of-type {\n        vertical-align: middle;\n    }\n\n    .dataframe tbody tr th {\n        vertical-align: top;\n    }\n\n    .dataframe thead th {\n        text-align: right;\n    }\n</style>\n<table border=\"1\" class=\"dataframe\">\n  <thead>\n    <tr style=\"text-align: right;\">\n      <th></th>\n      <th>ID</th>\n      <th>Class</th>\n      <th>Name</th>\n    </tr>\n  </thead>\n  <tbody>\n    <tr>\n      <th>0</th>\n      <td>1</td>\n      <td>9.0</td>\n      <td>A</td>\n    </tr>\n    <tr>\n      <th>1</th>\n      <td>2</td>\n      <td>10.0</td>\n      <td>B</td>\n    </tr>\n    <tr>\n      <th>2</th>\n      <td>3</td>\n      <td>11.0</td>\n      <td>C</td>\n    </tr>\n    <tr>\n      <th>3</th>\n      <td>5</td>\n      <td>12.0</td>\n      <td>NaN</td>\n    </tr>\n    <tr>\n      <th>4</th>\n      <td>4</td>\n      <td>NaN</td>\n      <td>D</td>\n    </tr>\n  </tbody>\n</table>\n</div>"
          },
          "metadata": {}
        }
      ]
    },
    {
      "cell_type": "code",
      "source": "pd.merge(df1,df2,on='ID',how='outer',indicator=True)",
      "metadata": {
        "trusted": true
      },
      "execution_count": 94,
      "outputs": [
        {
          "execution_count": 94,
          "output_type": "execute_result",
          "data": {
            "text/plain": "   ID  Class Name      _merge\n0   1    9.0    A        both\n1   2   10.0    B        both\n2   3   11.0    C        both\n3   5   12.0  NaN   left_only\n4   4    NaN    D  right_only",
            "text/html": "<div>\n<style scoped>\n    .dataframe tbody tr th:only-of-type {\n        vertical-align: middle;\n    }\n\n    .dataframe tbody tr th {\n        vertical-align: top;\n    }\n\n    .dataframe thead th {\n        text-align: right;\n    }\n</style>\n<table border=\"1\" class=\"dataframe\">\n  <thead>\n    <tr style=\"text-align: right;\">\n      <th></th>\n      <th>ID</th>\n      <th>Class</th>\n      <th>Name</th>\n      <th>_merge</th>\n    </tr>\n  </thead>\n  <tbody>\n    <tr>\n      <th>0</th>\n      <td>1</td>\n      <td>9.0</td>\n      <td>A</td>\n      <td>both</td>\n    </tr>\n    <tr>\n      <th>1</th>\n      <td>2</td>\n      <td>10.0</td>\n      <td>B</td>\n      <td>both</td>\n    </tr>\n    <tr>\n      <th>2</th>\n      <td>3</td>\n      <td>11.0</td>\n      <td>C</td>\n      <td>both</td>\n    </tr>\n    <tr>\n      <th>3</th>\n      <td>5</td>\n      <td>12.0</td>\n      <td>NaN</td>\n      <td>left_only</td>\n    </tr>\n    <tr>\n      <th>4</th>\n      <td>4</td>\n      <td>NaN</td>\n      <td>D</td>\n      <td>right_only</td>\n    </tr>\n  </tbody>\n</table>\n</div>"
          },
          "metadata": {}
        }
      ]
    },
    {
      "cell_type": "code",
      "source": "#which value belongs to which column known by indicator",
      "metadata": {
        "trusted": true
      },
      "execution_count": 96,
      "outputs": []
    },
    {
      "cell_type": "code",
      "source": "df1",
      "metadata": {
        "trusted": true
      },
      "execution_count": 97,
      "outputs": [
        {
          "execution_count": 97,
          "output_type": "execute_result",
          "data": {
            "text/plain": "   ID  Class\n0   1      9\n1   2     10\n2   3     11\n3   5     12",
            "text/html": "<div>\n<style scoped>\n    .dataframe tbody tr th:only-of-type {\n        vertical-align: middle;\n    }\n\n    .dataframe tbody tr th {\n        vertical-align: top;\n    }\n\n    .dataframe thead th {\n        text-align: right;\n    }\n</style>\n<table border=\"1\" class=\"dataframe\">\n  <thead>\n    <tr style=\"text-align: right;\">\n      <th></th>\n      <th>ID</th>\n      <th>Class</th>\n    </tr>\n  </thead>\n  <tbody>\n    <tr>\n      <th>0</th>\n      <td>1</td>\n      <td>9</td>\n    </tr>\n    <tr>\n      <th>1</th>\n      <td>2</td>\n      <td>10</td>\n    </tr>\n    <tr>\n      <th>2</th>\n      <td>3</td>\n      <td>11</td>\n    </tr>\n    <tr>\n      <th>3</th>\n      <td>5</td>\n      <td>12</td>\n    </tr>\n  </tbody>\n</table>\n</div>"
          },
          "metadata": {}
        }
      ]
    },
    {
      "cell_type": "code",
      "source": "df2",
      "metadata": {
        "trusted": true
      },
      "execution_count": 98,
      "outputs": [
        {
          "execution_count": 98,
          "output_type": "execute_result",
          "data": {
            "text/plain": "   ID Name\n0   1    A\n1   2    B\n2   3    C\n3   4    D",
            "text/html": "<div>\n<style scoped>\n    .dataframe tbody tr th:only-of-type {\n        vertical-align: middle;\n    }\n\n    .dataframe tbody tr th {\n        vertical-align: top;\n    }\n\n    .dataframe thead th {\n        text-align: right;\n    }\n</style>\n<table border=\"1\" class=\"dataframe\">\n  <thead>\n    <tr style=\"text-align: right;\">\n      <th></th>\n      <th>ID</th>\n      <th>Name</th>\n    </tr>\n  </thead>\n  <tbody>\n    <tr>\n      <th>0</th>\n      <td>1</td>\n      <td>A</td>\n    </tr>\n    <tr>\n      <th>1</th>\n      <td>2</td>\n      <td>B</td>\n    </tr>\n    <tr>\n      <th>2</th>\n      <td>3</td>\n      <td>C</td>\n    </tr>\n    <tr>\n      <th>3</th>\n      <td>4</td>\n      <td>D</td>\n    </tr>\n  </tbody>\n</table>\n</div>"
          },
          "metadata": {}
        }
      ]
    },
    {
      "cell_type": "code",
      "source": "#here some values are same in id column but all values are different then so will change 2 nd dataframe",
      "metadata": {
        "trusted": true
      },
      "execution_count": 99,
      "outputs": []
    },
    {
      "cell_type": "code",
      "source": "df2=pd.DataFrame({'ID':[5,6,7,8],'Name':['A','B','C','D']})\ndf2",
      "metadata": {
        "trusted": true
      },
      "execution_count": 100,
      "outputs": [
        {
          "execution_count": 100,
          "output_type": "execute_result",
          "data": {
            "text/plain": "   ID Name\n0   5    A\n1   6    B\n2   7    C\n3   8    D",
            "text/html": "<div>\n<style scoped>\n    .dataframe tbody tr th:only-of-type {\n        vertical-align: middle;\n    }\n\n    .dataframe tbody tr th {\n        vertical-align: top;\n    }\n\n    .dataframe thead th {\n        text-align: right;\n    }\n</style>\n<table border=\"1\" class=\"dataframe\">\n  <thead>\n    <tr style=\"text-align: right;\">\n      <th></th>\n      <th>ID</th>\n      <th>Name</th>\n    </tr>\n  </thead>\n  <tbody>\n    <tr>\n      <th>0</th>\n      <td>5</td>\n      <td>A</td>\n    </tr>\n    <tr>\n      <th>1</th>\n      <td>6</td>\n      <td>B</td>\n    </tr>\n    <tr>\n      <th>2</th>\n      <td>7</td>\n      <td>C</td>\n    </tr>\n    <tr>\n      <th>3</th>\n      <td>8</td>\n      <td>D</td>\n    </tr>\n  </tbody>\n</table>\n</div>"
          },
          "metadata": {}
        }
      ]
    },
    {
      "cell_type": "code",
      "source": "df1=pd.DataFrame({'ID':[1,2,3,4],'Class':[9,10,11,12]})\ndf1",
      "metadata": {
        "trusted": true
      },
      "execution_count": 101,
      "outputs": [
        {
          "execution_count": 101,
          "output_type": "execute_result",
          "data": {
            "text/plain": "   ID  Class\n0   1      9\n1   2     10\n2   3     11\n3   4     12",
            "text/html": "<div>\n<style scoped>\n    .dataframe tbody tr th:only-of-type {\n        vertical-align: middle;\n    }\n\n    .dataframe tbody tr th {\n        vertical-align: top;\n    }\n\n    .dataframe thead th {\n        text-align: right;\n    }\n</style>\n<table border=\"1\" class=\"dataframe\">\n  <thead>\n    <tr style=\"text-align: right;\">\n      <th></th>\n      <th>ID</th>\n      <th>Class</th>\n    </tr>\n  </thead>\n  <tbody>\n    <tr>\n      <th>0</th>\n      <td>1</td>\n      <td>9</td>\n    </tr>\n    <tr>\n      <th>1</th>\n      <td>2</td>\n      <td>10</td>\n    </tr>\n    <tr>\n      <th>2</th>\n      <td>3</td>\n      <td>11</td>\n    </tr>\n    <tr>\n      <th>3</th>\n      <td>4</td>\n      <td>12</td>\n    </tr>\n  </tbody>\n</table>\n</div>"
          },
          "metadata": {}
        }
      ]
    },
    {
      "cell_type": "code",
      "source": "#both dataframe id values are different\npd.merge(df1,df2,left_index=True,right_index=True)",
      "metadata": {
        "trusted": true
      },
      "execution_count": 103,
      "outputs": [
        {
          "execution_count": 103,
          "output_type": "execute_result",
          "data": {
            "text/plain": "   ID_x  Class  ID_y Name\n0     1      9     5    A\n1     2     10     6    B\n2     3     11     7    C\n3     4     12     8    D",
            "text/html": "<div>\n<style scoped>\n    .dataframe tbody tr th:only-of-type {\n        vertical-align: middle;\n    }\n\n    .dataframe tbody tr th {\n        vertical-align: top;\n    }\n\n    .dataframe thead th {\n        text-align: right;\n    }\n</style>\n<table border=\"1\" class=\"dataframe\">\n  <thead>\n    <tr style=\"text-align: right;\">\n      <th></th>\n      <th>ID_x</th>\n      <th>Class</th>\n      <th>ID_y</th>\n      <th>Name</th>\n    </tr>\n  </thead>\n  <tbody>\n    <tr>\n      <th>0</th>\n      <td>1</td>\n      <td>9</td>\n      <td>5</td>\n      <td>A</td>\n    </tr>\n    <tr>\n      <th>1</th>\n      <td>2</td>\n      <td>10</td>\n      <td>6</td>\n      <td>B</td>\n    </tr>\n    <tr>\n      <th>2</th>\n      <td>3</td>\n      <td>11</td>\n      <td>7</td>\n      <td>C</td>\n    </tr>\n    <tr>\n      <th>3</th>\n      <td>4</td>\n      <td>12</td>\n      <td>8</td>\n      <td>D</td>\n    </tr>\n  </tbody>\n</table>\n</div>"
          },
          "metadata": {}
        }
      ]
    },
    {
      "cell_type": "code",
      "source": "pd.merge(df1,df2)#if we not use any of that parameter then it returns nothing\n#but we have to use both left_index and right_index at same time",
      "metadata": {
        "trusted": true
      },
      "execution_count": 106,
      "outputs": [
        {
          "execution_count": 106,
          "output_type": "execute_result",
          "data": {
            "text/plain": "Empty DataFrame\nColumns: [ID, Class, Name]\nIndex: []",
            "text/html": "<div>\n<style scoped>\n    .dataframe tbody tr th:only-of-type {\n        vertical-align: middle;\n    }\n\n    .dataframe tbody tr th {\n        vertical-align: top;\n    }\n\n    .dataframe thead th {\n        text-align: right;\n    }\n</style>\n<table border=\"1\" class=\"dataframe\">\n  <thead>\n    <tr style=\"text-align: right;\">\n      <th></th>\n      <th>ID</th>\n      <th>Class</th>\n      <th>Name</th>\n    </tr>\n  </thead>\n  <tbody>\n  </tbody>\n</table>\n</div>"
          },
          "metadata": {}
        }
      ]
    },
    {
      "cell_type": "code",
      "source": "#if both dataframe are same",
      "metadata": {
        "trusted": true
      },
      "execution_count": 107,
      "outputs": []
    },
    {
      "cell_type": "code",
      "source": "df2=pd.DataFrame({'ID':[1,2,3,4],'Class':[9,10,11,12]})\ndf2",
      "metadata": {
        "trusted": true
      },
      "execution_count": 108,
      "outputs": [
        {
          "execution_count": 108,
          "output_type": "execute_result",
          "data": {
            "text/plain": "   ID  Class\n0   1      9\n1   2     10\n2   3     11\n3   4     12",
            "text/html": "<div>\n<style scoped>\n    .dataframe tbody tr th:only-of-type {\n        vertical-align: middle;\n    }\n\n    .dataframe tbody tr th {\n        vertical-align: top;\n    }\n\n    .dataframe thead th {\n        text-align: right;\n    }\n</style>\n<table border=\"1\" class=\"dataframe\">\n  <thead>\n    <tr style=\"text-align: right;\">\n      <th></th>\n      <th>ID</th>\n      <th>Class</th>\n    </tr>\n  </thead>\n  <tbody>\n    <tr>\n      <th>0</th>\n      <td>1</td>\n      <td>9</td>\n    </tr>\n    <tr>\n      <th>1</th>\n      <td>2</td>\n      <td>10</td>\n    </tr>\n    <tr>\n      <th>2</th>\n      <td>3</td>\n      <td>11</td>\n    </tr>\n    <tr>\n      <th>3</th>\n      <td>4</td>\n      <td>12</td>\n    </tr>\n  </tbody>\n</table>\n</div>"
          },
          "metadata": {}
        }
      ]
    },
    {
      "cell_type": "code",
      "source": "df1",
      "metadata": {
        "trusted": true
      },
      "execution_count": 109,
      "outputs": [
        {
          "execution_count": 109,
          "output_type": "execute_result",
          "data": {
            "text/plain": "   ID  Class\n0   1      9\n1   2     10\n2   3     11\n3   4     12",
            "text/html": "<div>\n<style scoped>\n    .dataframe tbody tr th:only-of-type {\n        vertical-align: middle;\n    }\n\n    .dataframe tbody tr th {\n        vertical-align: top;\n    }\n\n    .dataframe thead th {\n        text-align: right;\n    }\n</style>\n<table border=\"1\" class=\"dataframe\">\n  <thead>\n    <tr style=\"text-align: right;\">\n      <th></th>\n      <th>ID</th>\n      <th>Class</th>\n    </tr>\n  </thead>\n  <tbody>\n    <tr>\n      <th>0</th>\n      <td>1</td>\n      <td>9</td>\n    </tr>\n    <tr>\n      <th>1</th>\n      <td>2</td>\n      <td>10</td>\n    </tr>\n    <tr>\n      <th>2</th>\n      <td>3</td>\n      <td>11</td>\n    </tr>\n    <tr>\n      <th>3</th>\n      <td>4</td>\n      <td>12</td>\n    </tr>\n  </tbody>\n</table>\n</div>"
          },
          "metadata": {}
        }
      ]
    },
    {
      "cell_type": "code",
      "source": "pd.merge(df1,df2,on='ID')#here our suffixes parameter works",
      "metadata": {
        "trusted": true
      },
      "execution_count": 111,
      "outputs": [
        {
          "execution_count": 111,
          "output_type": "execute_result",
          "data": {
            "text/plain": "   ID  Class_x  Class_y\n0   1        9        9\n1   2       10       10\n2   3       11       11\n3   4       12       12",
            "text/html": "<div>\n<style scoped>\n    .dataframe tbody tr th:only-of-type {\n        vertical-align: middle;\n    }\n\n    .dataframe tbody tr th {\n        vertical-align: top;\n    }\n\n    .dataframe thead th {\n        text-align: right;\n    }\n</style>\n<table border=\"1\" class=\"dataframe\">\n  <thead>\n    <tr style=\"text-align: right;\">\n      <th></th>\n      <th>ID</th>\n      <th>Class_x</th>\n      <th>Class_y</th>\n    </tr>\n  </thead>\n  <tbody>\n    <tr>\n      <th>0</th>\n      <td>1</td>\n      <td>9</td>\n      <td>9</td>\n    </tr>\n    <tr>\n      <th>1</th>\n      <td>2</td>\n      <td>10</td>\n      <td>10</td>\n    </tr>\n    <tr>\n      <th>2</th>\n      <td>3</td>\n      <td>11</td>\n      <td>11</td>\n    </tr>\n    <tr>\n      <th>3</th>\n      <td>4</td>\n      <td>12</td>\n      <td>12</td>\n    </tr>\n  </tbody>\n</table>\n</div>"
          },
          "metadata": {}
        }
      ]
    },
    {
      "cell_type": "code",
      "source": "pd.merge(df1,df2,on='ID',suffixes=('_Higher','_Middle'))",
      "metadata": {
        "trusted": true
      },
      "execution_count": 112,
      "outputs": [
        {
          "execution_count": 112,
          "output_type": "execute_result",
          "data": {
            "text/plain": "   ID  Class_Higher  Class_Middle\n0   1             9             9\n1   2            10            10\n2   3            11            11\n3   4            12            12",
            "text/html": "<div>\n<style scoped>\n    .dataframe tbody tr th:only-of-type {\n        vertical-align: middle;\n    }\n\n    .dataframe tbody tr th {\n        vertical-align: top;\n    }\n\n    .dataframe thead th {\n        text-align: right;\n    }\n</style>\n<table border=\"1\" class=\"dataframe\">\n  <thead>\n    <tr style=\"text-align: right;\">\n      <th></th>\n      <th>ID</th>\n      <th>Class_Higher</th>\n      <th>Class_Middle</th>\n    </tr>\n  </thead>\n  <tbody>\n    <tr>\n      <th>0</th>\n      <td>1</td>\n      <td>9</td>\n      <td>9</td>\n    </tr>\n    <tr>\n      <th>1</th>\n      <td>2</td>\n      <td>10</td>\n      <td>10</td>\n    </tr>\n    <tr>\n      <th>2</th>\n      <td>3</td>\n      <td>11</td>\n      <td>11</td>\n    </tr>\n    <tr>\n      <th>3</th>\n      <td>4</td>\n      <td>12</td>\n      <td>12</td>\n    </tr>\n  </tbody>\n</table>\n</div>"
          },
          "metadata": {}
        }
      ]
    },
    {
      "cell_type": "code",
      "source": "",
      "metadata": {},
      "execution_count": null,
      "outputs": []
    }
  ]
}