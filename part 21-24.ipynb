{
  "metadata": {
    "language_info": {
      "codemirror_mode": {
        "name": "python",
        "version": 3
      },
      "file_extension": ".py",
      "mimetype": "text/x-python",
      "name": "python",
      "nbconvert_exporter": "python",
      "pygments_lexer": "ipython3",
      "version": "3.8"
    },
    "kernelspec": {
      "name": "python",
      "display_name": "Python (Pyodide)",
      "language": "python"
    }
  },
  "nbformat_minor": 4,
  "nbformat": 4,
  "cells": [
    {
      "cell_type": "markdown",
      "source": "# PART 21",
      "metadata": {}
    },
    {
      "cell_type": "code",
      "source": "#Append Function=used to append rows of other dataframe to the end of the given df",
      "metadata": {
        "trusted": true
      },
      "execution_count": 1,
      "outputs": []
    },
    {
      "cell_type": "code",
      "source": "import pandas as pd",
      "metadata": {
        "trusted": true
      },
      "execution_count": 2,
      "outputs": []
    },
    {
      "cell_type": "code",
      "source": "df1=pd.DataFrame({'A':[1,2,3],'B':[10,20,30]})",
      "metadata": {
        "trusted": true
      },
      "execution_count": 3,
      "outputs": []
    },
    {
      "cell_type": "code",
      "source": "df2=pd.DataFrame({'A':[4,5,6],'B':[40,50,60]})",
      "metadata": {
        "trusted": true
      },
      "execution_count": 4,
      "outputs": []
    },
    {
      "cell_type": "code",
      "source": "display(df1,df2)",
      "metadata": {
        "trusted": true
      },
      "execution_count": 5,
      "outputs": [
        {
          "output_type": "display_data",
          "data": {
            "text/plain": "   A   B\n0  1  10\n1  2  20\n2  3  30",
            "text/html": "<div>\n<style scoped>\n    .dataframe tbody tr th:only-of-type {\n        vertical-align: middle;\n    }\n\n    .dataframe tbody tr th {\n        vertical-align: top;\n    }\n\n    .dataframe thead th {\n        text-align: right;\n    }\n</style>\n<table border=\"1\" class=\"dataframe\">\n  <thead>\n    <tr style=\"text-align: right;\">\n      <th></th>\n      <th>A</th>\n      <th>B</th>\n    </tr>\n  </thead>\n  <tbody>\n    <tr>\n      <th>0</th>\n      <td>1</td>\n      <td>10</td>\n    </tr>\n    <tr>\n      <th>1</th>\n      <td>2</td>\n      <td>20</td>\n    </tr>\n    <tr>\n      <th>2</th>\n      <td>3</td>\n      <td>30</td>\n    </tr>\n  </tbody>\n</table>\n</div>"
          },
          "metadata": {}
        },
        {
          "output_type": "display_data",
          "data": {
            "text/plain": "   A   B\n0  4  40\n1  5  50\n2  6  60",
            "text/html": "<div>\n<style scoped>\n    .dataframe tbody tr th:only-of-type {\n        vertical-align: middle;\n    }\n\n    .dataframe tbody tr th {\n        vertical-align: top;\n    }\n\n    .dataframe thead th {\n        text-align: right;\n    }\n</style>\n<table border=\"1\" class=\"dataframe\">\n  <thead>\n    <tr style=\"text-align: right;\">\n      <th></th>\n      <th>A</th>\n      <th>B</th>\n    </tr>\n  </thead>\n  <tbody>\n    <tr>\n      <th>0</th>\n      <td>4</td>\n      <td>40</td>\n    </tr>\n    <tr>\n      <th>1</th>\n      <td>5</td>\n      <td>50</td>\n    </tr>\n    <tr>\n      <th>2</th>\n      <td>6</td>\n      <td>60</td>\n    </tr>\n  </tbody>\n</table>\n</div>"
          },
          "metadata": {}
        }
      ]
    },
    {
      "cell_type": "code",
      "source": "#Let's append them",
      "metadata": {
        "trusted": true
      },
      "execution_count": 6,
      "outputs": []
    },
    {
      "cell_type": "code",
      "source": "df1.append(df2)",
      "metadata": {
        "trusted": true
      },
      "execution_count": 7,
      "outputs": [
        {
          "name": "stderr",
          "text": "<ipython-input-7-8ab0723181fb>:1: FutureWarning: The frame.append method is deprecated and will be removed from pandas in a future version. Use pandas.concat instead.\n  df1.append(df2)\n",
          "output_type": "stream"
        },
        {
          "execution_count": 7,
          "output_type": "execute_result",
          "data": {
            "text/plain": "   A   B\n0  1  10\n1  2  20\n2  3  30\n0  4  40\n1  5  50\n2  6  60",
            "text/html": "<div>\n<style scoped>\n    .dataframe tbody tr th:only-of-type {\n        vertical-align: middle;\n    }\n\n    .dataframe tbody tr th {\n        vertical-align: top;\n    }\n\n    .dataframe thead th {\n        text-align: right;\n    }\n</style>\n<table border=\"1\" class=\"dataframe\">\n  <thead>\n    <tr style=\"text-align: right;\">\n      <th></th>\n      <th>A</th>\n      <th>B</th>\n    </tr>\n  </thead>\n  <tbody>\n    <tr>\n      <th>0</th>\n      <td>1</td>\n      <td>10</td>\n    </tr>\n    <tr>\n      <th>1</th>\n      <td>2</td>\n      <td>20</td>\n    </tr>\n    <tr>\n      <th>2</th>\n      <td>3</td>\n      <td>30</td>\n    </tr>\n    <tr>\n      <th>0</th>\n      <td>4</td>\n      <td>40</td>\n    </tr>\n    <tr>\n      <th>1</th>\n      <td>5</td>\n      <td>50</td>\n    </tr>\n    <tr>\n      <th>2</th>\n      <td>6</td>\n      <td>60</td>\n    </tr>\n  </tbody>\n</table>\n</div>"
          },
          "metadata": {}
        }
      ]
    },
    {
      "cell_type": "code",
      "source": "#ignore index for proper new dataframe",
      "metadata": {
        "trusted": true
      },
      "execution_count": 8,
      "outputs": []
    },
    {
      "cell_type": "code",
      "source": "df1.append(df2,ignore_index=True)",
      "metadata": {
        "trusted": true
      },
      "execution_count": 9,
      "outputs": [
        {
          "name": "stderr",
          "text": "<ipython-input-9-f66c09b25164>:1: FutureWarning: The frame.append method is deprecated and will be removed from pandas in a future version. Use pandas.concat instead.\n  df1.append(df2,ignore_index=True)\n",
          "output_type": "stream"
        },
        {
          "execution_count": 9,
          "output_type": "execute_result",
          "data": {
            "text/plain": "   A   B\n0  1  10\n1  2  20\n2  3  30\n3  4  40\n4  5  50\n5  6  60",
            "text/html": "<div>\n<style scoped>\n    .dataframe tbody tr th:only-of-type {\n        vertical-align: middle;\n    }\n\n    .dataframe tbody tr th {\n        vertical-align: top;\n    }\n\n    .dataframe thead th {\n        text-align: right;\n    }\n</style>\n<table border=\"1\" class=\"dataframe\">\n  <thead>\n    <tr style=\"text-align: right;\">\n      <th></th>\n      <th>A</th>\n      <th>B</th>\n    </tr>\n  </thead>\n  <tbody>\n    <tr>\n      <th>0</th>\n      <td>1</td>\n      <td>10</td>\n    </tr>\n    <tr>\n      <th>1</th>\n      <td>2</td>\n      <td>20</td>\n    </tr>\n    <tr>\n      <th>2</th>\n      <td>3</td>\n      <td>30</td>\n    </tr>\n    <tr>\n      <th>3</th>\n      <td>4</td>\n      <td>40</td>\n    </tr>\n    <tr>\n      <th>4</th>\n      <td>5</td>\n      <td>50</td>\n    </tr>\n    <tr>\n      <th>5</th>\n      <td>6</td>\n      <td>60</td>\n    </tr>\n  </tbody>\n</table>\n</div>"
          },
          "metadata": {}
        }
      ]
    },
    {
      "cell_type": "code",
      "source": "df1=pd.DataFrame({'A':[1,2,3],'B':[10,20,30]})\ndf1=pd.DataFrame({'C':[1,2,3],'B':[10,20,30]})",
      "metadata": {
        "trusted": true
      },
      "execution_count": 10,
      "outputs": []
    },
    {
      "cell_type": "code",
      "source": "df1.append(df2,ignore_index=True)",
      "metadata": {
        "trusted": true
      },
      "execution_count": 11,
      "outputs": [
        {
          "name": "stderr",
          "text": "<ipython-input-11-f66c09b25164>:1: FutureWarning: The frame.append method is deprecated and will be removed from pandas in a future version. Use pandas.concat instead.\n  df1.append(df2,ignore_index=True)\n",
          "output_type": "stream"
        },
        {
          "execution_count": 11,
          "output_type": "execute_result",
          "data": {
            "text/plain": "     C   B    A\n0  1.0  10  NaN\n1  2.0  20  NaN\n2  3.0  30  NaN\n3  NaN  40  4.0\n4  NaN  50  5.0\n5  NaN  60  6.0",
            "text/html": "<div>\n<style scoped>\n    .dataframe tbody tr th:only-of-type {\n        vertical-align: middle;\n    }\n\n    .dataframe tbody tr th {\n        vertical-align: top;\n    }\n\n    .dataframe thead th {\n        text-align: right;\n    }\n</style>\n<table border=\"1\" class=\"dataframe\">\n  <thead>\n    <tr style=\"text-align: right;\">\n      <th></th>\n      <th>C</th>\n      <th>B</th>\n      <th>A</th>\n    </tr>\n  </thead>\n  <tbody>\n    <tr>\n      <th>0</th>\n      <td>1.0</td>\n      <td>10</td>\n      <td>NaN</td>\n    </tr>\n    <tr>\n      <th>1</th>\n      <td>2.0</td>\n      <td>20</td>\n      <td>NaN</td>\n    </tr>\n    <tr>\n      <th>2</th>\n      <td>3.0</td>\n      <td>30</td>\n      <td>NaN</td>\n    </tr>\n    <tr>\n      <th>3</th>\n      <td>NaN</td>\n      <td>40</td>\n      <td>4.0</td>\n    </tr>\n    <tr>\n      <th>4</th>\n      <td>NaN</td>\n      <td>50</td>\n      <td>5.0</td>\n    </tr>\n    <tr>\n      <th>5</th>\n      <td>NaN</td>\n      <td>60</td>\n      <td>6.0</td>\n    </tr>\n  </tbody>\n</table>\n</div>"
          },
          "metadata": {}
        }
      ]
    },
    {
      "cell_type": "markdown",
      "source": "# PART 22",
      "metadata": {}
    },
    {
      "cell_type": "code",
      "source": "#pandas pivot table",
      "metadata": {
        "trusted": true
      },
      "execution_count": 14,
      "outputs": []
    },
    {
      "cell_type": "code",
      "source": "df=pd.read_csv('Movie_rating.csv')\ndf",
      "metadata": {
        "trusted": true
      },
      "execution_count": 16,
      "outputs": [
        {
          "execution_count": 16,
          "output_type": "execute_result",
          "data": {
            "text/plain": "       Genre  Year  Budget(M$)  Ratings%\n0     Action  2008          28        48\n1     Action  2009         200        63\n2     Action  2008          32        57\n3     Action  2010          20        52\n4  Adventure  2009          18        84\n5  Adventure  2010         105        44\n6     Comedy  2010          20        70\n7     Comedy  2008           8        81\n8     Comedy  2009          30        71",
            "text/html": "<div>\n<style scoped>\n    .dataframe tbody tr th:only-of-type {\n        vertical-align: middle;\n    }\n\n    .dataframe tbody tr th {\n        vertical-align: top;\n    }\n\n    .dataframe thead th {\n        text-align: right;\n    }\n</style>\n<table border=\"1\" class=\"dataframe\">\n  <thead>\n    <tr style=\"text-align: right;\">\n      <th></th>\n      <th>Genre</th>\n      <th>Year</th>\n      <th>Budget(M$)</th>\n      <th>Ratings%</th>\n    </tr>\n  </thead>\n  <tbody>\n    <tr>\n      <th>0</th>\n      <td>Action</td>\n      <td>2008</td>\n      <td>28</td>\n      <td>48</td>\n    </tr>\n    <tr>\n      <th>1</th>\n      <td>Action</td>\n      <td>2009</td>\n      <td>200</td>\n      <td>63</td>\n    </tr>\n    <tr>\n      <th>2</th>\n      <td>Action</td>\n      <td>2008</td>\n      <td>32</td>\n      <td>57</td>\n    </tr>\n    <tr>\n      <th>3</th>\n      <td>Action</td>\n      <td>2010</td>\n      <td>20</td>\n      <td>52</td>\n    </tr>\n    <tr>\n      <th>4</th>\n      <td>Adventure</td>\n      <td>2009</td>\n      <td>18</td>\n      <td>84</td>\n    </tr>\n    <tr>\n      <th>5</th>\n      <td>Adventure</td>\n      <td>2010</td>\n      <td>105</td>\n      <td>44</td>\n    </tr>\n    <tr>\n      <th>6</th>\n      <td>Comedy</td>\n      <td>2010</td>\n      <td>20</td>\n      <td>70</td>\n    </tr>\n    <tr>\n      <th>7</th>\n      <td>Comedy</td>\n      <td>2008</td>\n      <td>8</td>\n      <td>81</td>\n    </tr>\n    <tr>\n      <th>8</th>\n      <td>Comedy</td>\n      <td>2009</td>\n      <td>30</td>\n      <td>71</td>\n    </tr>\n  </tbody>\n</table>\n</div>"
          },
          "metadata": {}
        }
      ]
    },
    {
      "cell_type": "code",
      "source": "df.pivot_table(index='Genre')",
      "metadata": {
        "trusted": true
      },
      "execution_count": 17,
      "outputs": [
        {
          "execution_count": 17,
          "output_type": "execute_result",
          "data": {
            "text/plain": "           Budget(M$)  Ratings%     Year\nGenre                                   \nAction      70.000000        55  2008.75\nAdventure   61.500000        64  2009.50\nComedy      19.333333        74  2009.00",
            "text/html": "<div>\n<style scoped>\n    .dataframe tbody tr th:only-of-type {\n        vertical-align: middle;\n    }\n\n    .dataframe tbody tr th {\n        vertical-align: top;\n    }\n\n    .dataframe thead th {\n        text-align: right;\n    }\n</style>\n<table border=\"1\" class=\"dataframe\">\n  <thead>\n    <tr style=\"text-align: right;\">\n      <th></th>\n      <th>Budget(M$)</th>\n      <th>Ratings%</th>\n      <th>Year</th>\n    </tr>\n    <tr>\n      <th>Genre</th>\n      <th></th>\n      <th></th>\n      <th></th>\n    </tr>\n  </thead>\n  <tbody>\n    <tr>\n      <th>Action</th>\n      <td>70.000000</td>\n      <td>55</td>\n      <td>2008.75</td>\n    </tr>\n    <tr>\n      <th>Adventure</th>\n      <td>61.500000</td>\n      <td>64</td>\n      <td>2009.50</td>\n    </tr>\n    <tr>\n      <th>Comedy</th>\n      <td>19.333333</td>\n      <td>74</td>\n      <td>2009.00</td>\n    </tr>\n  </tbody>\n</table>\n</div>"
          },
          "metadata": {}
        }
      ]
    },
    {
      "cell_type": "code",
      "source": "#it's aggregated according to 'Genre' and made it as a index",
      "metadata": {
        "trusted": true
      },
      "execution_count": 18,
      "outputs": []
    },
    {
      "cell_type": "code",
      "source": "df.pivot_table(index='Genre',columns='Year')#now according to 'year'==mean values shows and 'Genre' giving value",
      "metadata": {
        "trusted": true
      },
      "execution_count": 21,
      "outputs": [
        {
          "execution_count": 21,
          "output_type": "execute_result",
          "data": {
            "text/plain": "          Budget(M$)               Ratings%            \nYear            2008   2009   2010     2008  2009  2010\nGenre                                                  \nAction          30.0  200.0   20.0     52.5  63.0  52.0\nAdventure        NaN   18.0  105.0      NaN  84.0  44.0\nComedy           8.0   30.0   20.0     81.0  71.0  70.0",
            "text/html": "<div>\n<style scoped>\n    .dataframe tbody tr th:only-of-type {\n        vertical-align: middle;\n    }\n\n    .dataframe tbody tr th {\n        vertical-align: top;\n    }\n\n    .dataframe thead tr th {\n        text-align: left;\n    }\n\n    .dataframe thead tr:last-of-type th {\n        text-align: right;\n    }\n</style>\n<table border=\"1\" class=\"dataframe\">\n  <thead>\n    <tr>\n      <th></th>\n      <th colspan=\"3\" halign=\"left\">Budget(M$)</th>\n      <th colspan=\"3\" halign=\"left\">Ratings%</th>\n    </tr>\n    <tr>\n      <th>Year</th>\n      <th>2008</th>\n      <th>2009</th>\n      <th>2010</th>\n      <th>2008</th>\n      <th>2009</th>\n      <th>2010</th>\n    </tr>\n    <tr>\n      <th>Genre</th>\n      <th></th>\n      <th></th>\n      <th></th>\n      <th></th>\n      <th></th>\n      <th></th>\n    </tr>\n  </thead>\n  <tbody>\n    <tr>\n      <th>Action</th>\n      <td>30.0</td>\n      <td>200.0</td>\n      <td>20.0</td>\n      <td>52.5</td>\n      <td>63.0</td>\n      <td>52.0</td>\n    </tr>\n    <tr>\n      <th>Adventure</th>\n      <td>NaN</td>\n      <td>18.0</td>\n      <td>105.0</td>\n      <td>NaN</td>\n      <td>84.0</td>\n      <td>44.0</td>\n    </tr>\n    <tr>\n      <th>Comedy</th>\n      <td>8.0</td>\n      <td>30.0</td>\n      <td>20.0</td>\n      <td>81.0</td>\n      <td>71.0</td>\n      <td>70.0</td>\n    </tr>\n  </tbody>\n</table>\n</div>"
          },
          "metadata": {}
        }
      ]
    },
    {
      "cell_type": "code",
      "source": "#BY default it is taking aggregate function= mean will use different functions",
      "metadata": {
        "trusted": true
      },
      "execution_count": 22,
      "outputs": []
    },
    {
      "cell_type": "code",
      "source": "df.pivot_table(index='Genre',columns='Year',aggfunc='count')\n#how many times the function came that much value we are getting",
      "metadata": {
        "trusted": true
      },
      "execution_count": 24,
      "outputs": [
        {
          "execution_count": 24,
          "output_type": "execute_result",
          "data": {
            "text/plain": "          Budget(M$)           Ratings%          \nYear            2008 2009 2010     2008 2009 2010\nGenre                                            \nAction           2.0  1.0  1.0      2.0  1.0  1.0\nAdventure        NaN  1.0  1.0      NaN  1.0  1.0\nComedy           1.0  1.0  1.0      1.0  1.0  1.0",
            "text/html": "<div>\n<style scoped>\n    .dataframe tbody tr th:only-of-type {\n        vertical-align: middle;\n    }\n\n    .dataframe tbody tr th {\n        vertical-align: top;\n    }\n\n    .dataframe thead tr th {\n        text-align: left;\n    }\n\n    .dataframe thead tr:last-of-type th {\n        text-align: right;\n    }\n</style>\n<table border=\"1\" class=\"dataframe\">\n  <thead>\n    <tr>\n      <th></th>\n      <th colspan=\"3\" halign=\"left\">Budget(M$)</th>\n      <th colspan=\"3\" halign=\"left\">Ratings%</th>\n    </tr>\n    <tr>\n      <th>Year</th>\n      <th>2008</th>\n      <th>2009</th>\n      <th>2010</th>\n      <th>2008</th>\n      <th>2009</th>\n      <th>2010</th>\n    </tr>\n    <tr>\n      <th>Genre</th>\n      <th></th>\n      <th></th>\n      <th></th>\n      <th></th>\n      <th></th>\n      <th></th>\n    </tr>\n  </thead>\n  <tbody>\n    <tr>\n      <th>Action</th>\n      <td>2.0</td>\n      <td>1.0</td>\n      <td>1.0</td>\n      <td>2.0</td>\n      <td>1.0</td>\n      <td>1.0</td>\n    </tr>\n    <tr>\n      <th>Adventure</th>\n      <td>NaN</td>\n      <td>1.0</td>\n      <td>1.0</td>\n      <td>NaN</td>\n      <td>1.0</td>\n      <td>1.0</td>\n    </tr>\n    <tr>\n      <th>Comedy</th>\n      <td>1.0</td>\n      <td>1.0</td>\n      <td>1.0</td>\n      <td>1.0</td>\n      <td>1.0</td>\n      <td>1.0</td>\n    </tr>\n  </tbody>\n</table>\n</div>"
          },
          "metadata": {}
        }
      ]
    },
    {
      "cell_type": "code",
      "source": "df.pivot_table(index='Genre',columns='Year',aggfunc='max')",
      "metadata": {
        "trusted": true
      },
      "execution_count": 26,
      "outputs": [
        {
          "execution_count": 26,
          "output_type": "execute_result",
          "data": {
            "text/plain": "          Budget(M$)               Ratings%            \nYear            2008   2009   2010     2008  2009  2010\nGenre                                                  \nAction          32.0  200.0   20.0     57.0  63.0  52.0\nAdventure        NaN   18.0  105.0      NaN  84.0  44.0\nComedy           8.0   30.0   20.0     81.0  71.0  70.0",
            "text/html": "<div>\n<style scoped>\n    .dataframe tbody tr th:only-of-type {\n        vertical-align: middle;\n    }\n\n    .dataframe tbody tr th {\n        vertical-align: top;\n    }\n\n    .dataframe thead tr th {\n        text-align: left;\n    }\n\n    .dataframe thead tr:last-of-type th {\n        text-align: right;\n    }\n</style>\n<table border=\"1\" class=\"dataframe\">\n  <thead>\n    <tr>\n      <th></th>\n      <th colspan=\"3\" halign=\"left\">Budget(M$)</th>\n      <th colspan=\"3\" halign=\"left\">Ratings%</th>\n    </tr>\n    <tr>\n      <th>Year</th>\n      <th>2008</th>\n      <th>2009</th>\n      <th>2010</th>\n      <th>2008</th>\n      <th>2009</th>\n      <th>2010</th>\n    </tr>\n    <tr>\n      <th>Genre</th>\n      <th></th>\n      <th></th>\n      <th></th>\n      <th></th>\n      <th></th>\n      <th></th>\n    </tr>\n  </thead>\n  <tbody>\n    <tr>\n      <th>Action</th>\n      <td>32.0</td>\n      <td>200.0</td>\n      <td>20.0</td>\n      <td>57.0</td>\n      <td>63.0</td>\n      <td>52.0</td>\n    </tr>\n    <tr>\n      <th>Adventure</th>\n      <td>NaN</td>\n      <td>18.0</td>\n      <td>105.0</td>\n      <td>NaN</td>\n      <td>84.0</td>\n      <td>44.0</td>\n    </tr>\n    <tr>\n      <th>Comedy</th>\n      <td>8.0</td>\n      <td>30.0</td>\n      <td>20.0</td>\n      <td>81.0</td>\n      <td>71.0</td>\n      <td>70.0</td>\n    </tr>\n  </tbody>\n</table>\n</div>"
          },
          "metadata": {}
        }
      ]
    },
    {
      "cell_type": "code",
      "source": "df.pivot_table(index='Genre',columns='Year',aggfunc='sum')",
      "metadata": {
        "trusted": true
      },
      "execution_count": 27,
      "outputs": [
        {
          "execution_count": 27,
          "output_type": "execute_result",
          "data": {
            "text/plain": "          Budget(M$)               Ratings%            \nYear            2008   2009   2010     2008  2009  2010\nGenre                                                  \nAction          60.0  200.0   20.0    105.0  63.0  52.0\nAdventure        NaN   18.0  105.0      NaN  84.0  44.0\nComedy           8.0   30.0   20.0     81.0  71.0  70.0",
            "text/html": "<div>\n<style scoped>\n    .dataframe tbody tr th:only-of-type {\n        vertical-align: middle;\n    }\n\n    .dataframe tbody tr th {\n        vertical-align: top;\n    }\n\n    .dataframe thead tr th {\n        text-align: left;\n    }\n\n    .dataframe thead tr:last-of-type th {\n        text-align: right;\n    }\n</style>\n<table border=\"1\" class=\"dataframe\">\n  <thead>\n    <tr>\n      <th></th>\n      <th colspan=\"3\" halign=\"left\">Budget(M$)</th>\n      <th colspan=\"3\" halign=\"left\">Ratings%</th>\n    </tr>\n    <tr>\n      <th>Year</th>\n      <th>2008</th>\n      <th>2009</th>\n      <th>2010</th>\n      <th>2008</th>\n      <th>2009</th>\n      <th>2010</th>\n    </tr>\n    <tr>\n      <th>Genre</th>\n      <th></th>\n      <th></th>\n      <th></th>\n      <th></th>\n      <th></th>\n      <th></th>\n    </tr>\n  </thead>\n  <tbody>\n    <tr>\n      <th>Action</th>\n      <td>60.0</td>\n      <td>200.0</td>\n      <td>20.0</td>\n      <td>105.0</td>\n      <td>63.0</td>\n      <td>52.0</td>\n    </tr>\n    <tr>\n      <th>Adventure</th>\n      <td>NaN</td>\n      <td>18.0</td>\n      <td>105.0</td>\n      <td>NaN</td>\n      <td>84.0</td>\n      <td>44.0</td>\n    </tr>\n    <tr>\n      <th>Comedy</th>\n      <td>8.0</td>\n      <td>30.0</td>\n      <td>20.0</td>\n      <td>81.0</td>\n      <td>71.0</td>\n      <td>70.0</td>\n    </tr>\n  </tbody>\n</table>\n</div>"
          },
          "metadata": {}
        }
      ]
    },
    {
      "cell_type": "code",
      "source": "#value to replace missing value",
      "metadata": {
        "trusted": true
      },
      "execution_count": 28,
      "outputs": []
    },
    {
      "cell_type": "code",
      "source": "df.pivot_table(index='Genre',columns='Year',fill_value='none')",
      "metadata": {
        "trusted": true
      },
      "execution_count": 30,
      "outputs": [
        {
          "execution_count": 30,
          "output_type": "execute_result",
          "data": {
            "text/plain": "          Budget(M$)               Ratings%            \nYear            2008   2009   2010     2008  2009  2010\nGenre                                                  \nAction          30.0  200.0   20.0     52.5  63.0  52.0\nAdventure       none   18.0  105.0     none  84.0  44.0\nComedy           8.0   30.0   20.0     81.0  71.0  70.0",
            "text/html": "<div>\n<style scoped>\n    .dataframe tbody tr th:only-of-type {\n        vertical-align: middle;\n    }\n\n    .dataframe tbody tr th {\n        vertical-align: top;\n    }\n\n    .dataframe thead tr th {\n        text-align: left;\n    }\n\n    .dataframe thead tr:last-of-type th {\n        text-align: right;\n    }\n</style>\n<table border=\"1\" class=\"dataframe\">\n  <thead>\n    <tr>\n      <th></th>\n      <th colspan=\"3\" halign=\"left\">Budget(M$)</th>\n      <th colspan=\"3\" halign=\"left\">Ratings%</th>\n    </tr>\n    <tr>\n      <th>Year</th>\n      <th>2008</th>\n      <th>2009</th>\n      <th>2010</th>\n      <th>2008</th>\n      <th>2009</th>\n      <th>2010</th>\n    </tr>\n    <tr>\n      <th>Genre</th>\n      <th></th>\n      <th></th>\n      <th></th>\n      <th></th>\n      <th></th>\n      <th></th>\n    </tr>\n  </thead>\n  <tbody>\n    <tr>\n      <th>Action</th>\n      <td>30.0</td>\n      <td>200.0</td>\n      <td>20.0</td>\n      <td>52.5</td>\n      <td>63.0</td>\n      <td>52.0</td>\n    </tr>\n    <tr>\n      <th>Adventure</th>\n      <td>none</td>\n      <td>18.0</td>\n      <td>105.0</td>\n      <td>none</td>\n      <td>84.0</td>\n      <td>44.0</td>\n    </tr>\n    <tr>\n      <th>Comedy</th>\n      <td>8.0</td>\n      <td>30.0</td>\n      <td>20.0</td>\n      <td>81.0</td>\n      <td>71.0</td>\n      <td>70.0</td>\n    </tr>\n  </tbody>\n</table>\n</div>"
          },
          "metadata": {}
        }
      ]
    },
    {
      "cell_type": "code",
      "source": "#if any col having all nan value it is by default removed becz(dropna=True)by default",
      "metadata": {
        "trusted": true
      },
      "execution_count": 33,
      "outputs": []
    },
    {
      "cell_type": "code",
      "source": "df.pivot_table(index='Genre',columns='Year',fill_value='none',margins=True)",
      "metadata": {
        "trusted": true
      },
      "execution_count": 34,
      "outputs": [
        {
          "execution_count": 34,
          "output_type": "execute_result",
          "data": {
            "text/plain": "          Budget(M$)                                  Ratings%             \\\nYear            2008       2009       2010        All     2008       2009   \nGenre                                                                       \nAction          30.0      200.0       20.0       70.0     52.5       63.0   \nAdventure       none       18.0      105.0       61.5     none       84.0   \nComedy           8.0       30.0       20.0  19.333333     81.0       71.0   \nAll        22.666667  82.666667  48.333333  51.222222     62.0  72.666667   \n\n                                 \nYear            2010        All  \nGenre                            \nAction          52.0       55.0  \nAdventure       44.0       64.0  \nComedy          70.0       74.0  \nAll        55.333333  63.333333  ",
            "text/html": "<div>\n<style scoped>\n    .dataframe tbody tr th:only-of-type {\n        vertical-align: middle;\n    }\n\n    .dataframe tbody tr th {\n        vertical-align: top;\n    }\n\n    .dataframe thead tr th {\n        text-align: left;\n    }\n\n    .dataframe thead tr:last-of-type th {\n        text-align: right;\n    }\n</style>\n<table border=\"1\" class=\"dataframe\">\n  <thead>\n    <tr>\n      <th></th>\n      <th colspan=\"4\" halign=\"left\">Budget(M$)</th>\n      <th colspan=\"4\" halign=\"left\">Ratings%</th>\n    </tr>\n    <tr>\n      <th>Year</th>\n      <th>2008</th>\n      <th>2009</th>\n      <th>2010</th>\n      <th>All</th>\n      <th>2008</th>\n      <th>2009</th>\n      <th>2010</th>\n      <th>All</th>\n    </tr>\n    <tr>\n      <th>Genre</th>\n      <th></th>\n      <th></th>\n      <th></th>\n      <th></th>\n      <th></th>\n      <th></th>\n      <th></th>\n      <th></th>\n    </tr>\n  </thead>\n  <tbody>\n    <tr>\n      <th>Action</th>\n      <td>30.0</td>\n      <td>200.0</td>\n      <td>20.0</td>\n      <td>70.0</td>\n      <td>52.5</td>\n      <td>63.0</td>\n      <td>52.0</td>\n      <td>55.0</td>\n    </tr>\n    <tr>\n      <th>Adventure</th>\n      <td>none</td>\n      <td>18.0</td>\n      <td>105.0</td>\n      <td>61.5</td>\n      <td>none</td>\n      <td>84.0</td>\n      <td>44.0</td>\n      <td>64.0</td>\n    </tr>\n    <tr>\n      <th>Comedy</th>\n      <td>8.0</td>\n      <td>30.0</td>\n      <td>20.0</td>\n      <td>19.333333</td>\n      <td>81.0</td>\n      <td>71.0</td>\n      <td>70.0</td>\n      <td>74.0</td>\n    </tr>\n    <tr>\n      <th>All</th>\n      <td>22.666667</td>\n      <td>82.666667</td>\n      <td>48.333333</td>\n      <td>51.222222</td>\n      <td>62.0</td>\n      <td>72.666667</td>\n      <td>55.333333</td>\n      <td>63.333333</td>\n    </tr>\n  </tbody>\n</table>\n</div>"
          },
          "metadata": {}
        }
      ]
    },
    {
      "cell_type": "code",
      "source": "#margins returns mean of all rows and column values",
      "metadata": {
        "trusted": true
      },
      "execution_count": 35,
      "outputs": []
    },
    {
      "cell_type": "code",
      "source": "df.pivot_table(index='Genre',columns='Year',aggfunc='sum',margins=True)#Grand Total",
      "metadata": {
        "trusted": true
      },
      "execution_count": 37,
      "outputs": [
        {
          "execution_count": 37,
          "output_type": "execute_result",
          "data": {
            "text/plain": "          Budget(M$)                    Ratings%                   \nYear            2008   2009   2010  All     2008   2009   2010  All\nGenre                                                              \nAction          60.0  200.0   20.0  280    105.0   63.0   52.0  220\nAdventure        NaN   18.0  105.0  123      NaN   84.0   44.0  128\nComedy           8.0   30.0   20.0   58     81.0   71.0   70.0  222\nAll             68.0  248.0  145.0  461    186.0  218.0  166.0  570",
            "text/html": "<div>\n<style scoped>\n    .dataframe tbody tr th:only-of-type {\n        vertical-align: middle;\n    }\n\n    .dataframe tbody tr th {\n        vertical-align: top;\n    }\n\n    .dataframe thead tr th {\n        text-align: left;\n    }\n\n    .dataframe thead tr:last-of-type th {\n        text-align: right;\n    }\n</style>\n<table border=\"1\" class=\"dataframe\">\n  <thead>\n    <tr>\n      <th></th>\n      <th colspan=\"4\" halign=\"left\">Budget(M$)</th>\n      <th colspan=\"4\" halign=\"left\">Ratings%</th>\n    </tr>\n    <tr>\n      <th>Year</th>\n      <th>2008</th>\n      <th>2009</th>\n      <th>2010</th>\n      <th>All</th>\n      <th>2008</th>\n      <th>2009</th>\n      <th>2010</th>\n      <th>All</th>\n    </tr>\n    <tr>\n      <th>Genre</th>\n      <th></th>\n      <th></th>\n      <th></th>\n      <th></th>\n      <th></th>\n      <th></th>\n      <th></th>\n      <th></th>\n    </tr>\n  </thead>\n  <tbody>\n    <tr>\n      <th>Action</th>\n      <td>60.0</td>\n      <td>200.0</td>\n      <td>20.0</td>\n      <td>280</td>\n      <td>105.0</td>\n      <td>63.0</td>\n      <td>52.0</td>\n      <td>220</td>\n    </tr>\n    <tr>\n      <th>Adventure</th>\n      <td>NaN</td>\n      <td>18.0</td>\n      <td>105.0</td>\n      <td>123</td>\n      <td>NaN</td>\n      <td>84.0</td>\n      <td>44.0</td>\n      <td>128</td>\n    </tr>\n    <tr>\n      <th>Comedy</th>\n      <td>8.0</td>\n      <td>30.0</td>\n      <td>20.0</td>\n      <td>58</td>\n      <td>81.0</td>\n      <td>71.0</td>\n      <td>70.0</td>\n      <td>222</td>\n    </tr>\n    <tr>\n      <th>All</th>\n      <td>68.0</td>\n      <td>248.0</td>\n      <td>145.0</td>\n      <td>461</td>\n      <td>186.0</td>\n      <td>218.0</td>\n      <td>166.0</td>\n      <td>570</td>\n    </tr>\n  </tbody>\n</table>\n</div>"
          },
          "metadata": {}
        }
      ]
    },
    {
      "cell_type": "markdown",
      "source": "# Part 23",
      "metadata": {}
    },
    {
      "cell_type": "code",
      "source": "# MELT() == USED  TO TRANSFORM OR RESHAPE DATA",
      "metadata": {
        "trusted": true
      },
      "execution_count": 39,
      "outputs": []
    },
    {
      "cell_type": "code",
      "source": "pd.melt(df)",
      "metadata": {
        "trusted": true
      },
      "execution_count": 40,
      "outputs": [
        {
          "execution_count": 40,
          "output_type": "execute_result",
          "data": {
            "text/plain": "      variable      value\n0        Genre     Action\n1        Genre     Action\n2        Genre     Action\n3        Genre     Action\n4        Genre  Adventure\n5        Genre  Adventure\n6        Genre     Comedy\n7        Genre     Comedy\n8        Genre     Comedy\n9         Year       2008\n10        Year       2009\n11        Year       2008\n12        Year       2010\n13        Year       2009\n14        Year       2010\n15        Year       2010\n16        Year       2008\n17        Year       2009\n18  Budget(M$)         28\n19  Budget(M$)        200\n20  Budget(M$)         32\n21  Budget(M$)         20\n22  Budget(M$)         18\n23  Budget(M$)        105\n24  Budget(M$)         20\n25  Budget(M$)          8\n26  Budget(M$)         30\n27    Ratings%         48\n28    Ratings%         63\n29    Ratings%         57\n30    Ratings%         52\n31    Ratings%         84\n32    Ratings%         44\n33    Ratings%         70\n34    Ratings%         81\n35    Ratings%         71",
            "text/html": "<div>\n<style scoped>\n    .dataframe tbody tr th:only-of-type {\n        vertical-align: middle;\n    }\n\n    .dataframe tbody tr th {\n        vertical-align: top;\n    }\n\n    .dataframe thead th {\n        text-align: right;\n    }\n</style>\n<table border=\"1\" class=\"dataframe\">\n  <thead>\n    <tr style=\"text-align: right;\">\n      <th></th>\n      <th>variable</th>\n      <th>value</th>\n    </tr>\n  </thead>\n  <tbody>\n    <tr>\n      <th>0</th>\n      <td>Genre</td>\n      <td>Action</td>\n    </tr>\n    <tr>\n      <th>1</th>\n      <td>Genre</td>\n      <td>Action</td>\n    </tr>\n    <tr>\n      <th>2</th>\n      <td>Genre</td>\n      <td>Action</td>\n    </tr>\n    <tr>\n      <th>3</th>\n      <td>Genre</td>\n      <td>Action</td>\n    </tr>\n    <tr>\n      <th>4</th>\n      <td>Genre</td>\n      <td>Adventure</td>\n    </tr>\n    <tr>\n      <th>5</th>\n      <td>Genre</td>\n      <td>Adventure</td>\n    </tr>\n    <tr>\n      <th>6</th>\n      <td>Genre</td>\n      <td>Comedy</td>\n    </tr>\n    <tr>\n      <th>7</th>\n      <td>Genre</td>\n      <td>Comedy</td>\n    </tr>\n    <tr>\n      <th>8</th>\n      <td>Genre</td>\n      <td>Comedy</td>\n    </tr>\n    <tr>\n      <th>9</th>\n      <td>Year</td>\n      <td>2008</td>\n    </tr>\n    <tr>\n      <th>10</th>\n      <td>Year</td>\n      <td>2009</td>\n    </tr>\n    <tr>\n      <th>11</th>\n      <td>Year</td>\n      <td>2008</td>\n    </tr>\n    <tr>\n      <th>12</th>\n      <td>Year</td>\n      <td>2010</td>\n    </tr>\n    <tr>\n      <th>13</th>\n      <td>Year</td>\n      <td>2009</td>\n    </tr>\n    <tr>\n      <th>14</th>\n      <td>Year</td>\n      <td>2010</td>\n    </tr>\n    <tr>\n      <th>15</th>\n      <td>Year</td>\n      <td>2010</td>\n    </tr>\n    <tr>\n      <th>16</th>\n      <td>Year</td>\n      <td>2008</td>\n    </tr>\n    <tr>\n      <th>17</th>\n      <td>Year</td>\n      <td>2009</td>\n    </tr>\n    <tr>\n      <th>18</th>\n      <td>Budget(M$)</td>\n      <td>28</td>\n    </tr>\n    <tr>\n      <th>19</th>\n      <td>Budget(M$)</td>\n      <td>200</td>\n    </tr>\n    <tr>\n      <th>20</th>\n      <td>Budget(M$)</td>\n      <td>32</td>\n    </tr>\n    <tr>\n      <th>21</th>\n      <td>Budget(M$)</td>\n      <td>20</td>\n    </tr>\n    <tr>\n      <th>22</th>\n      <td>Budget(M$)</td>\n      <td>18</td>\n    </tr>\n    <tr>\n      <th>23</th>\n      <td>Budget(M$)</td>\n      <td>105</td>\n    </tr>\n    <tr>\n      <th>24</th>\n      <td>Budget(M$)</td>\n      <td>20</td>\n    </tr>\n    <tr>\n      <th>25</th>\n      <td>Budget(M$)</td>\n      <td>8</td>\n    </tr>\n    <tr>\n      <th>26</th>\n      <td>Budget(M$)</td>\n      <td>30</td>\n    </tr>\n    <tr>\n      <th>27</th>\n      <td>Ratings%</td>\n      <td>48</td>\n    </tr>\n    <tr>\n      <th>28</th>\n      <td>Ratings%</td>\n      <td>63</td>\n    </tr>\n    <tr>\n      <th>29</th>\n      <td>Ratings%</td>\n      <td>57</td>\n    </tr>\n    <tr>\n      <th>30</th>\n      <td>Ratings%</td>\n      <td>52</td>\n    </tr>\n    <tr>\n      <th>31</th>\n      <td>Ratings%</td>\n      <td>84</td>\n    </tr>\n    <tr>\n      <th>32</th>\n      <td>Ratings%</td>\n      <td>44</td>\n    </tr>\n    <tr>\n      <th>33</th>\n      <td>Ratings%</td>\n      <td>70</td>\n    </tr>\n    <tr>\n      <th>34</th>\n      <td>Ratings%</td>\n      <td>81</td>\n    </tr>\n    <tr>\n      <th>35</th>\n      <td>Ratings%</td>\n      <td>71</td>\n    </tr>\n  </tbody>\n</table>\n</div>"
          },
          "metadata": {}
        }
      ]
    },
    {
      "cell_type": "code",
      "source": "#Variable = all columns name and value= all values in df",
      "metadata": {
        "trusted": true
      },
      "execution_count": 41,
      "outputs": []
    },
    {
      "cell_type": "code",
      "source": "pd.melt(df,id_vars=['Genre'])#u can specify any col name as a identifier variable",
      "metadata": {
        "trusted": true
      },
      "execution_count": 43,
      "outputs": [
        {
          "execution_count": 43,
          "output_type": "execute_result",
          "data": {
            "text/plain": "        Genre    variable  value\n0      Action        Year   2008\n1      Action        Year   2009\n2      Action        Year   2008\n3      Action        Year   2010\n4   Adventure        Year   2009\n5   Adventure        Year   2010\n6      Comedy        Year   2010\n7      Comedy        Year   2008\n8      Comedy        Year   2009\n9      Action  Budget(M$)     28\n10     Action  Budget(M$)    200\n11     Action  Budget(M$)     32\n12     Action  Budget(M$)     20\n13  Adventure  Budget(M$)     18\n14  Adventure  Budget(M$)    105\n15     Comedy  Budget(M$)     20\n16     Comedy  Budget(M$)      8\n17     Comedy  Budget(M$)     30\n18     Action    Ratings%     48\n19     Action    Ratings%     63\n20     Action    Ratings%     57\n21     Action    Ratings%     52\n22  Adventure    Ratings%     84\n23  Adventure    Ratings%     44\n24     Comedy    Ratings%     70\n25     Comedy    Ratings%     81\n26     Comedy    Ratings%     71",
            "text/html": "<div>\n<style scoped>\n    .dataframe tbody tr th:only-of-type {\n        vertical-align: middle;\n    }\n\n    .dataframe tbody tr th {\n        vertical-align: top;\n    }\n\n    .dataframe thead th {\n        text-align: right;\n    }\n</style>\n<table border=\"1\" class=\"dataframe\">\n  <thead>\n    <tr style=\"text-align: right;\">\n      <th></th>\n      <th>Genre</th>\n      <th>variable</th>\n      <th>value</th>\n    </tr>\n  </thead>\n  <tbody>\n    <tr>\n      <th>0</th>\n      <td>Action</td>\n      <td>Year</td>\n      <td>2008</td>\n    </tr>\n    <tr>\n      <th>1</th>\n      <td>Action</td>\n      <td>Year</td>\n      <td>2009</td>\n    </tr>\n    <tr>\n      <th>2</th>\n      <td>Action</td>\n      <td>Year</td>\n      <td>2008</td>\n    </tr>\n    <tr>\n      <th>3</th>\n      <td>Action</td>\n      <td>Year</td>\n      <td>2010</td>\n    </tr>\n    <tr>\n      <th>4</th>\n      <td>Adventure</td>\n      <td>Year</td>\n      <td>2009</td>\n    </tr>\n    <tr>\n      <th>5</th>\n      <td>Adventure</td>\n      <td>Year</td>\n      <td>2010</td>\n    </tr>\n    <tr>\n      <th>6</th>\n      <td>Comedy</td>\n      <td>Year</td>\n      <td>2010</td>\n    </tr>\n    <tr>\n      <th>7</th>\n      <td>Comedy</td>\n      <td>Year</td>\n      <td>2008</td>\n    </tr>\n    <tr>\n      <th>8</th>\n      <td>Comedy</td>\n      <td>Year</td>\n      <td>2009</td>\n    </tr>\n    <tr>\n      <th>9</th>\n      <td>Action</td>\n      <td>Budget(M$)</td>\n      <td>28</td>\n    </tr>\n    <tr>\n      <th>10</th>\n      <td>Action</td>\n      <td>Budget(M$)</td>\n      <td>200</td>\n    </tr>\n    <tr>\n      <th>11</th>\n      <td>Action</td>\n      <td>Budget(M$)</td>\n      <td>32</td>\n    </tr>\n    <tr>\n      <th>12</th>\n      <td>Action</td>\n      <td>Budget(M$)</td>\n      <td>20</td>\n    </tr>\n    <tr>\n      <th>13</th>\n      <td>Adventure</td>\n      <td>Budget(M$)</td>\n      <td>18</td>\n    </tr>\n    <tr>\n      <th>14</th>\n      <td>Adventure</td>\n      <td>Budget(M$)</td>\n      <td>105</td>\n    </tr>\n    <tr>\n      <th>15</th>\n      <td>Comedy</td>\n      <td>Budget(M$)</td>\n      <td>20</td>\n    </tr>\n    <tr>\n      <th>16</th>\n      <td>Comedy</td>\n      <td>Budget(M$)</td>\n      <td>8</td>\n    </tr>\n    <tr>\n      <th>17</th>\n      <td>Comedy</td>\n      <td>Budget(M$)</td>\n      <td>30</td>\n    </tr>\n    <tr>\n      <th>18</th>\n      <td>Action</td>\n      <td>Ratings%</td>\n      <td>48</td>\n    </tr>\n    <tr>\n      <th>19</th>\n      <td>Action</td>\n      <td>Ratings%</td>\n      <td>63</td>\n    </tr>\n    <tr>\n      <th>20</th>\n      <td>Action</td>\n      <td>Ratings%</td>\n      <td>57</td>\n    </tr>\n    <tr>\n      <th>21</th>\n      <td>Action</td>\n      <td>Ratings%</td>\n      <td>52</td>\n    </tr>\n    <tr>\n      <th>22</th>\n      <td>Adventure</td>\n      <td>Ratings%</td>\n      <td>84</td>\n    </tr>\n    <tr>\n      <th>23</th>\n      <td>Adventure</td>\n      <td>Ratings%</td>\n      <td>44</td>\n    </tr>\n    <tr>\n      <th>24</th>\n      <td>Comedy</td>\n      <td>Ratings%</td>\n      <td>70</td>\n    </tr>\n    <tr>\n      <th>25</th>\n      <td>Comedy</td>\n      <td>Ratings%</td>\n      <td>81</td>\n    </tr>\n    <tr>\n      <th>26</th>\n      <td>Comedy</td>\n      <td>Ratings%</td>\n      <td>71</td>\n    </tr>\n  </tbody>\n</table>\n</div>"
          },
          "metadata": {}
        }
      ]
    },
    {
      "cell_type": "code",
      "source": "pd.melt(df,id_vars=['Year'])#identifier = year",
      "metadata": {
        "trusted": true
      },
      "execution_count": 46,
      "outputs": [
        {
          "execution_count": 46,
          "output_type": "execute_result",
          "data": {
            "text/plain": "    Year    variable      value\n0   2008       Genre     Action\n1   2009       Genre     Action\n2   2008       Genre     Action\n3   2010       Genre     Action\n4   2009       Genre  Adventure\n5   2010       Genre  Adventure\n6   2010       Genre     Comedy\n7   2008       Genre     Comedy\n8   2009       Genre     Comedy\n9   2008  Budget(M$)         28\n10  2009  Budget(M$)        200\n11  2008  Budget(M$)         32\n12  2010  Budget(M$)         20\n13  2009  Budget(M$)         18\n14  2010  Budget(M$)        105\n15  2010  Budget(M$)         20\n16  2008  Budget(M$)          8\n17  2009  Budget(M$)         30\n18  2008    Ratings%         48\n19  2009    Ratings%         63\n20  2008    Ratings%         57\n21  2010    Ratings%         52\n22  2009    Ratings%         84\n23  2010    Ratings%         44\n24  2010    Ratings%         70\n25  2008    Ratings%         81\n26  2009    Ratings%         71",
            "text/html": "<div>\n<style scoped>\n    .dataframe tbody tr th:only-of-type {\n        vertical-align: middle;\n    }\n\n    .dataframe tbody tr th {\n        vertical-align: top;\n    }\n\n    .dataframe thead th {\n        text-align: right;\n    }\n</style>\n<table border=\"1\" class=\"dataframe\">\n  <thead>\n    <tr style=\"text-align: right;\">\n      <th></th>\n      <th>Year</th>\n      <th>variable</th>\n      <th>value</th>\n    </tr>\n  </thead>\n  <tbody>\n    <tr>\n      <th>0</th>\n      <td>2008</td>\n      <td>Genre</td>\n      <td>Action</td>\n    </tr>\n    <tr>\n      <th>1</th>\n      <td>2009</td>\n      <td>Genre</td>\n      <td>Action</td>\n    </tr>\n    <tr>\n      <th>2</th>\n      <td>2008</td>\n      <td>Genre</td>\n      <td>Action</td>\n    </tr>\n    <tr>\n      <th>3</th>\n      <td>2010</td>\n      <td>Genre</td>\n      <td>Action</td>\n    </tr>\n    <tr>\n      <th>4</th>\n      <td>2009</td>\n      <td>Genre</td>\n      <td>Adventure</td>\n    </tr>\n    <tr>\n      <th>5</th>\n      <td>2010</td>\n      <td>Genre</td>\n      <td>Adventure</td>\n    </tr>\n    <tr>\n      <th>6</th>\n      <td>2010</td>\n      <td>Genre</td>\n      <td>Comedy</td>\n    </tr>\n    <tr>\n      <th>7</th>\n      <td>2008</td>\n      <td>Genre</td>\n      <td>Comedy</td>\n    </tr>\n    <tr>\n      <th>8</th>\n      <td>2009</td>\n      <td>Genre</td>\n      <td>Comedy</td>\n    </tr>\n    <tr>\n      <th>9</th>\n      <td>2008</td>\n      <td>Budget(M$)</td>\n      <td>28</td>\n    </tr>\n    <tr>\n      <th>10</th>\n      <td>2009</td>\n      <td>Budget(M$)</td>\n      <td>200</td>\n    </tr>\n    <tr>\n      <th>11</th>\n      <td>2008</td>\n      <td>Budget(M$)</td>\n      <td>32</td>\n    </tr>\n    <tr>\n      <th>12</th>\n      <td>2010</td>\n      <td>Budget(M$)</td>\n      <td>20</td>\n    </tr>\n    <tr>\n      <th>13</th>\n      <td>2009</td>\n      <td>Budget(M$)</td>\n      <td>18</td>\n    </tr>\n    <tr>\n      <th>14</th>\n      <td>2010</td>\n      <td>Budget(M$)</td>\n      <td>105</td>\n    </tr>\n    <tr>\n      <th>15</th>\n      <td>2010</td>\n      <td>Budget(M$)</td>\n      <td>20</td>\n    </tr>\n    <tr>\n      <th>16</th>\n      <td>2008</td>\n      <td>Budget(M$)</td>\n      <td>8</td>\n    </tr>\n    <tr>\n      <th>17</th>\n      <td>2009</td>\n      <td>Budget(M$)</td>\n      <td>30</td>\n    </tr>\n    <tr>\n      <th>18</th>\n      <td>2008</td>\n      <td>Ratings%</td>\n      <td>48</td>\n    </tr>\n    <tr>\n      <th>19</th>\n      <td>2009</td>\n      <td>Ratings%</td>\n      <td>63</td>\n    </tr>\n    <tr>\n      <th>20</th>\n      <td>2008</td>\n      <td>Ratings%</td>\n      <td>57</td>\n    </tr>\n    <tr>\n      <th>21</th>\n      <td>2010</td>\n      <td>Ratings%</td>\n      <td>52</td>\n    </tr>\n    <tr>\n      <th>22</th>\n      <td>2009</td>\n      <td>Ratings%</td>\n      <td>84</td>\n    </tr>\n    <tr>\n      <th>23</th>\n      <td>2010</td>\n      <td>Ratings%</td>\n      <td>44</td>\n    </tr>\n    <tr>\n      <th>24</th>\n      <td>2010</td>\n      <td>Ratings%</td>\n      <td>70</td>\n    </tr>\n    <tr>\n      <th>25</th>\n      <td>2008</td>\n      <td>Ratings%</td>\n      <td>81</td>\n    </tr>\n    <tr>\n      <th>26</th>\n      <td>2009</td>\n      <td>Ratings%</td>\n      <td>71</td>\n    </tr>\n  </tbody>\n</table>\n</div>"
          },
          "metadata": {}
        }
      ]
    },
    {
      "cell_type": "code",
      "source": "#Unpivot = a df turn from a wide format(many columns) to a long format(few columns but many rows).",
      "metadata": {
        "trusted": true
      },
      "execution_count": 45,
      "outputs": []
    },
    {
      "cell_type": "code",
      "source": "pd.melt(df,id_vars=['Year'],value_vars=['Genre'])#only showing genre value",
      "metadata": {
        "trusted": true
      },
      "execution_count": 48,
      "outputs": [
        {
          "execution_count": 48,
          "output_type": "execute_result",
          "data": {
            "text/plain": "   Year variable      value\n0  2008    Genre     Action\n1  2009    Genre     Action\n2  2008    Genre     Action\n3  2010    Genre     Action\n4  2009    Genre  Adventure\n5  2010    Genre  Adventure\n6  2010    Genre     Comedy\n7  2008    Genre     Comedy\n8  2009    Genre     Comedy",
            "text/html": "<div>\n<style scoped>\n    .dataframe tbody tr th:only-of-type {\n        vertical-align: middle;\n    }\n\n    .dataframe tbody tr th {\n        vertical-align: top;\n    }\n\n    .dataframe thead th {\n        text-align: right;\n    }\n</style>\n<table border=\"1\" class=\"dataframe\">\n  <thead>\n    <tr style=\"text-align: right;\">\n      <th></th>\n      <th>Year</th>\n      <th>variable</th>\n      <th>value</th>\n    </tr>\n  </thead>\n  <tbody>\n    <tr>\n      <th>0</th>\n      <td>2008</td>\n      <td>Genre</td>\n      <td>Action</td>\n    </tr>\n    <tr>\n      <th>1</th>\n      <td>2009</td>\n      <td>Genre</td>\n      <td>Action</td>\n    </tr>\n    <tr>\n      <th>2</th>\n      <td>2008</td>\n      <td>Genre</td>\n      <td>Action</td>\n    </tr>\n    <tr>\n      <th>3</th>\n      <td>2010</td>\n      <td>Genre</td>\n      <td>Action</td>\n    </tr>\n    <tr>\n      <th>4</th>\n      <td>2009</td>\n      <td>Genre</td>\n      <td>Adventure</td>\n    </tr>\n    <tr>\n      <th>5</th>\n      <td>2010</td>\n      <td>Genre</td>\n      <td>Adventure</td>\n    </tr>\n    <tr>\n      <th>6</th>\n      <td>2010</td>\n      <td>Genre</td>\n      <td>Comedy</td>\n    </tr>\n    <tr>\n      <th>7</th>\n      <td>2008</td>\n      <td>Genre</td>\n      <td>Comedy</td>\n    </tr>\n    <tr>\n      <th>8</th>\n      <td>2009</td>\n      <td>Genre</td>\n      <td>Comedy</td>\n    </tr>\n  </tbody>\n</table>\n</div>"
          },
          "metadata": {}
        }
      ]
    },
    {
      "cell_type": "code",
      "source": "pd.melt(df,id_vars=['Year'],value_vars=['Ratings%'])",
      "metadata": {
        "trusted": true
      },
      "execution_count": 49,
      "outputs": [
        {
          "execution_count": 49,
          "output_type": "execute_result",
          "data": {
            "text/plain": "   Year  variable  value\n0  2008  Ratings%     48\n1  2009  Ratings%     63\n2  2008  Ratings%     57\n3  2010  Ratings%     52\n4  2009  Ratings%     84\n5  2010  Ratings%     44\n6  2010  Ratings%     70\n7  2008  Ratings%     81\n8  2009  Ratings%     71",
            "text/html": "<div>\n<style scoped>\n    .dataframe tbody tr th:only-of-type {\n        vertical-align: middle;\n    }\n\n    .dataframe tbody tr th {\n        vertical-align: top;\n    }\n\n    .dataframe thead th {\n        text-align: right;\n    }\n</style>\n<table border=\"1\" class=\"dataframe\">\n  <thead>\n    <tr style=\"text-align: right;\">\n      <th></th>\n      <th>Year</th>\n      <th>variable</th>\n      <th>value</th>\n    </tr>\n  </thead>\n  <tbody>\n    <tr>\n      <th>0</th>\n      <td>2008</td>\n      <td>Ratings%</td>\n      <td>48</td>\n    </tr>\n    <tr>\n      <th>1</th>\n      <td>2009</td>\n      <td>Ratings%</td>\n      <td>63</td>\n    </tr>\n    <tr>\n      <th>2</th>\n      <td>2008</td>\n      <td>Ratings%</td>\n      <td>57</td>\n    </tr>\n    <tr>\n      <th>3</th>\n      <td>2010</td>\n      <td>Ratings%</td>\n      <td>52</td>\n    </tr>\n    <tr>\n      <th>4</th>\n      <td>2009</td>\n      <td>Ratings%</td>\n      <td>84</td>\n    </tr>\n    <tr>\n      <th>5</th>\n      <td>2010</td>\n      <td>Ratings%</td>\n      <td>44</td>\n    </tr>\n    <tr>\n      <th>6</th>\n      <td>2010</td>\n      <td>Ratings%</td>\n      <td>70</td>\n    </tr>\n    <tr>\n      <th>7</th>\n      <td>2008</td>\n      <td>Ratings%</td>\n      <td>81</td>\n    </tr>\n    <tr>\n      <th>8</th>\n      <td>2009</td>\n      <td>Ratings%</td>\n      <td>71</td>\n    </tr>\n  </tbody>\n</table>\n</div>"
          },
          "metadata": {}
        }
      ]
    },
    {
      "cell_type": "code",
      "source": "#variable we are getting by default we wanna change that name ",
      "metadata": {
        "trusted": true
      },
      "execution_count": 50,
      "outputs": []
    },
    {
      "cell_type": "code",
      "source": "pd.melt(df,id_vars=['Year'],value_vars=['Ratings%'],var_name='Category')",
      "metadata": {
        "trusted": true
      },
      "execution_count": 51,
      "outputs": [
        {
          "execution_count": 51,
          "output_type": "execute_result",
          "data": {
            "text/plain": "   Year  Category  value\n0  2008  Ratings%     48\n1  2009  Ratings%     63\n2  2008  Ratings%     57\n3  2010  Ratings%     52\n4  2009  Ratings%     84\n5  2010  Ratings%     44\n6  2010  Ratings%     70\n7  2008  Ratings%     81\n8  2009  Ratings%     71",
            "text/html": "<div>\n<style scoped>\n    .dataframe tbody tr th:only-of-type {\n        vertical-align: middle;\n    }\n\n    .dataframe tbody tr th {\n        vertical-align: top;\n    }\n\n    .dataframe thead th {\n        text-align: right;\n    }\n</style>\n<table border=\"1\" class=\"dataframe\">\n  <thead>\n    <tr style=\"text-align: right;\">\n      <th></th>\n      <th>Year</th>\n      <th>Category</th>\n      <th>value</th>\n    </tr>\n  </thead>\n  <tbody>\n    <tr>\n      <th>0</th>\n      <td>2008</td>\n      <td>Ratings%</td>\n      <td>48</td>\n    </tr>\n    <tr>\n      <th>1</th>\n      <td>2009</td>\n      <td>Ratings%</td>\n      <td>63</td>\n    </tr>\n    <tr>\n      <th>2</th>\n      <td>2008</td>\n      <td>Ratings%</td>\n      <td>57</td>\n    </tr>\n    <tr>\n      <th>3</th>\n      <td>2010</td>\n      <td>Ratings%</td>\n      <td>52</td>\n    </tr>\n    <tr>\n      <th>4</th>\n      <td>2009</td>\n      <td>Ratings%</td>\n      <td>84</td>\n    </tr>\n    <tr>\n      <th>5</th>\n      <td>2010</td>\n      <td>Ratings%</td>\n      <td>44</td>\n    </tr>\n    <tr>\n      <th>6</th>\n      <td>2010</td>\n      <td>Ratings%</td>\n      <td>70</td>\n    </tr>\n    <tr>\n      <th>7</th>\n      <td>2008</td>\n      <td>Ratings%</td>\n      <td>81</td>\n    </tr>\n    <tr>\n      <th>8</th>\n      <td>2009</td>\n      <td>Ratings%</td>\n      <td>71</td>\n    </tr>\n  </tbody>\n</table>\n</div>"
          },
          "metadata": {}
        }
      ]
    },
    {
      "cell_type": "code",
      "source": "#value we are getting by default we wanna change that name ",
      "metadata": {
        "trusted": true
      },
      "execution_count": 52,
      "outputs": []
    },
    {
      "cell_type": "code",
      "source": "pd.melt(df,id_vars=['Year'],value_vars=['Ratings%'],value_name='Data')",
      "metadata": {
        "trusted": true
      },
      "execution_count": 53,
      "outputs": [
        {
          "execution_count": 53,
          "output_type": "execute_result",
          "data": {
            "text/plain": "   Year  variable  Data\n0  2008  Ratings%    48\n1  2009  Ratings%    63\n2  2008  Ratings%    57\n3  2010  Ratings%    52\n4  2009  Ratings%    84\n5  2010  Ratings%    44\n6  2010  Ratings%    70\n7  2008  Ratings%    81\n8  2009  Ratings%    71",
            "text/html": "<div>\n<style scoped>\n    .dataframe tbody tr th:only-of-type {\n        vertical-align: middle;\n    }\n\n    .dataframe tbody tr th {\n        vertical-align: top;\n    }\n\n    .dataframe thead th {\n        text-align: right;\n    }\n</style>\n<table border=\"1\" class=\"dataframe\">\n  <thead>\n    <tr style=\"text-align: right;\">\n      <th></th>\n      <th>Year</th>\n      <th>variable</th>\n      <th>Data</th>\n    </tr>\n  </thead>\n  <tbody>\n    <tr>\n      <th>0</th>\n      <td>2008</td>\n      <td>Ratings%</td>\n      <td>48</td>\n    </tr>\n    <tr>\n      <th>1</th>\n      <td>2009</td>\n      <td>Ratings%</td>\n      <td>63</td>\n    </tr>\n    <tr>\n      <th>2</th>\n      <td>2008</td>\n      <td>Ratings%</td>\n      <td>57</td>\n    </tr>\n    <tr>\n      <th>3</th>\n      <td>2010</td>\n      <td>Ratings%</td>\n      <td>52</td>\n    </tr>\n    <tr>\n      <th>4</th>\n      <td>2009</td>\n      <td>Ratings%</td>\n      <td>84</td>\n    </tr>\n    <tr>\n      <th>5</th>\n      <td>2010</td>\n      <td>Ratings%</td>\n      <td>44</td>\n    </tr>\n    <tr>\n      <th>6</th>\n      <td>2010</td>\n      <td>Ratings%</td>\n      <td>70</td>\n    </tr>\n    <tr>\n      <th>7</th>\n      <td>2008</td>\n      <td>Ratings%</td>\n      <td>81</td>\n    </tr>\n    <tr>\n      <th>8</th>\n      <td>2009</td>\n      <td>Ratings%</td>\n      <td>71</td>\n    </tr>\n  </tbody>\n</table>\n</div>"
          },
          "metadata": {}
        }
      ]
    },
    {
      "cell_type": "markdown",
      "source": "# PART 24",
      "metadata": {}
    },
    {
      "cell_type": "code",
      "source": "#date time index functionality",
      "metadata": {
        "trusted": true
      },
      "execution_count": 54,
      "outputs": []
    },
    {
      "cell_type": "code",
      "source": "df=pd.read_csv('student_10.csv')\ndf",
      "metadata": {
        "trusted": true
      },
      "execution_count": 56,
      "outputs": [
        {
          "execution_count": 56,
          "output_type": "execute_result",
          "data": {
            "text/plain": "         Date  Student ID  Class Section  Study hrs  Percentage\n0  01-07-2019      1001.0     10       A        2.0        50.0\n1  02-07-2019      1002.0     10     NaN        NaN        80.0\n2  03-07-2019         NaN     10     NaN        3.0        60.0\n3  06-07-2019         NaN     11     NaN        0.0         NaN\n4  07-07-2019      1005.0     11       A        4.0         NaN\n5  08-07-2019         NaN     11       D       10.0         NaN\n6  09-07-2019      1007.0     12       B        4.0        80.0\n7  10-07-2019      1008.0     12       C        NaN        90.0\n8  11-07-2019      1009.0     12       A        NaN        60.0\n9  12-07-2019      1010.0     12       D        6.0        85.0",
            "text/html": "<div>\n<style scoped>\n    .dataframe tbody tr th:only-of-type {\n        vertical-align: middle;\n    }\n\n    .dataframe tbody tr th {\n        vertical-align: top;\n    }\n\n    .dataframe thead th {\n        text-align: right;\n    }\n</style>\n<table border=\"1\" class=\"dataframe\">\n  <thead>\n    <tr style=\"text-align: right;\">\n      <th></th>\n      <th>Date</th>\n      <th>Student ID</th>\n      <th>Class</th>\n      <th>Section</th>\n      <th>Study hrs</th>\n      <th>Percentage</th>\n    </tr>\n  </thead>\n  <tbody>\n    <tr>\n      <th>0</th>\n      <td>01-07-2019</td>\n      <td>1001.0</td>\n      <td>10</td>\n      <td>A</td>\n      <td>2.0</td>\n      <td>50.0</td>\n    </tr>\n    <tr>\n      <th>1</th>\n      <td>02-07-2019</td>\n      <td>1002.0</td>\n      <td>10</td>\n      <td>NaN</td>\n      <td>NaN</td>\n      <td>80.0</td>\n    </tr>\n    <tr>\n      <th>2</th>\n      <td>03-07-2019</td>\n      <td>NaN</td>\n      <td>10</td>\n      <td>NaN</td>\n      <td>3.0</td>\n      <td>60.0</td>\n    </tr>\n    <tr>\n      <th>3</th>\n      <td>06-07-2019</td>\n      <td>NaN</td>\n      <td>11</td>\n      <td>NaN</td>\n      <td>0.0</td>\n      <td>NaN</td>\n    </tr>\n    <tr>\n      <th>4</th>\n      <td>07-07-2019</td>\n      <td>1005.0</td>\n      <td>11</td>\n      <td>A</td>\n      <td>4.0</td>\n      <td>NaN</td>\n    </tr>\n    <tr>\n      <th>5</th>\n      <td>08-07-2019</td>\n      <td>NaN</td>\n      <td>11</td>\n      <td>D</td>\n      <td>10.0</td>\n      <td>NaN</td>\n    </tr>\n    <tr>\n      <th>6</th>\n      <td>09-07-2019</td>\n      <td>1007.0</td>\n      <td>12</td>\n      <td>B</td>\n      <td>4.0</td>\n      <td>80.0</td>\n    </tr>\n    <tr>\n      <th>7</th>\n      <td>10-07-2019</td>\n      <td>1008.0</td>\n      <td>12</td>\n      <td>C</td>\n      <td>NaN</td>\n      <td>90.0</td>\n    </tr>\n    <tr>\n      <th>8</th>\n      <td>11-07-2019</td>\n      <td>1009.0</td>\n      <td>12</td>\n      <td>A</td>\n      <td>NaN</td>\n      <td>60.0</td>\n    </tr>\n    <tr>\n      <th>9</th>\n      <td>12-07-2019</td>\n      <td>1010.0</td>\n      <td>12</td>\n      <td>D</td>\n      <td>6.0</td>\n      <td>85.0</td>\n    </tr>\n  </tbody>\n</table>\n</div>"
          },
          "metadata": {}
        }
      ]
    },
    {
      "cell_type": "code",
      "source": "df.dtypes",
      "metadata": {
        "trusted": true
      },
      "execution_count": 57,
      "outputs": [
        {
          "execution_count": 57,
          "output_type": "execute_result",
          "data": {
            "text/plain": "Date           object\nStudent ID    float64\nClass           int64\nSection        object\nStudy hrs     float64\nPercentage    float64\ndtype: object"
          },
          "metadata": {}
        }
      ]
    },
    {
      "cell_type": "markdown",
      "source": "# date is of type object",
      "metadata": {}
    },
    {
      "cell_type": "code",
      "source": "type(df.Date[0])#type is string",
      "metadata": {
        "trusted": true
      },
      "execution_count": 60,
      "outputs": [
        {
          "execution_count": 60,
          "output_type": "execute_result",
          "data": {
            "text/plain": "str"
          },
          "metadata": {}
        }
      ]
    },
    {
      "cell_type": "code",
      "source": "df=pd.read_csv('student_10.csv',parse_dates=['Date'])\ndf",
      "metadata": {
        "trusted": true
      },
      "execution_count": 61,
      "outputs": [
        {
          "execution_count": 61,
          "output_type": "execute_result",
          "data": {
            "text/plain": "        Date  Student ID  Class Section  Study hrs  Percentage\n0 2019-01-07      1001.0     10       A        2.0        50.0\n1 2019-02-07      1002.0     10     NaN        NaN        80.0\n2 2019-03-07         NaN     10     NaN        3.0        60.0\n3 2019-06-07         NaN     11     NaN        0.0         NaN\n4 2019-07-07      1005.0     11       A        4.0         NaN\n5 2019-08-07         NaN     11       D       10.0         NaN\n6 2019-09-07      1007.0     12       B        4.0        80.0\n7 2019-10-07      1008.0     12       C        NaN        90.0\n8 2019-11-07      1009.0     12       A        NaN        60.0\n9 2019-12-07      1010.0     12       D        6.0        85.0",
            "text/html": "<div>\n<style scoped>\n    .dataframe tbody tr th:only-of-type {\n        vertical-align: middle;\n    }\n\n    .dataframe tbody tr th {\n        vertical-align: top;\n    }\n\n    .dataframe thead th {\n        text-align: right;\n    }\n</style>\n<table border=\"1\" class=\"dataframe\">\n  <thead>\n    <tr style=\"text-align: right;\">\n      <th></th>\n      <th>Date</th>\n      <th>Student ID</th>\n      <th>Class</th>\n      <th>Section</th>\n      <th>Study hrs</th>\n      <th>Percentage</th>\n    </tr>\n  </thead>\n  <tbody>\n    <tr>\n      <th>0</th>\n      <td>2019-01-07</td>\n      <td>1001.0</td>\n      <td>10</td>\n      <td>A</td>\n      <td>2.0</td>\n      <td>50.0</td>\n    </tr>\n    <tr>\n      <th>1</th>\n      <td>2019-02-07</td>\n      <td>1002.0</td>\n      <td>10</td>\n      <td>NaN</td>\n      <td>NaN</td>\n      <td>80.0</td>\n    </tr>\n    <tr>\n      <th>2</th>\n      <td>2019-03-07</td>\n      <td>NaN</td>\n      <td>10</td>\n      <td>NaN</td>\n      <td>3.0</td>\n      <td>60.0</td>\n    </tr>\n    <tr>\n      <th>3</th>\n      <td>2019-06-07</td>\n      <td>NaN</td>\n      <td>11</td>\n      <td>NaN</td>\n      <td>0.0</td>\n      <td>NaN</td>\n    </tr>\n    <tr>\n      <th>4</th>\n      <td>2019-07-07</td>\n      <td>1005.0</td>\n      <td>11</td>\n      <td>A</td>\n      <td>4.0</td>\n      <td>NaN</td>\n    </tr>\n    <tr>\n      <th>5</th>\n      <td>2019-08-07</td>\n      <td>NaN</td>\n      <td>11</td>\n      <td>D</td>\n      <td>10.0</td>\n      <td>NaN</td>\n    </tr>\n    <tr>\n      <th>6</th>\n      <td>2019-09-07</td>\n      <td>1007.0</td>\n      <td>12</td>\n      <td>B</td>\n      <td>4.0</td>\n      <td>80.0</td>\n    </tr>\n    <tr>\n      <th>7</th>\n      <td>2019-10-07</td>\n      <td>1008.0</td>\n      <td>12</td>\n      <td>C</td>\n      <td>NaN</td>\n      <td>90.0</td>\n    </tr>\n    <tr>\n      <th>8</th>\n      <td>2019-11-07</td>\n      <td>1009.0</td>\n      <td>12</td>\n      <td>A</td>\n      <td>NaN</td>\n      <td>60.0</td>\n    </tr>\n    <tr>\n      <th>9</th>\n      <td>2019-12-07</td>\n      <td>1010.0</td>\n      <td>12</td>\n      <td>D</td>\n      <td>6.0</td>\n      <td>85.0</td>\n    </tr>\n  </tbody>\n</table>\n</div>"
          },
          "metadata": {}
        }
      ]
    },
    {
      "cell_type": "code",
      "source": "df.dtypes",
      "metadata": {
        "trusted": true
      },
      "execution_count": 62,
      "outputs": [
        {
          "execution_count": 62,
          "output_type": "execute_result",
          "data": {
            "text/plain": "Date          datetime64[ns]\nStudent ID           float64\nClass                  int64\nSection               object\nStudy hrs            float64\nPercentage           float64\ndtype: object"
          },
          "metadata": {}
        }
      ]
    },
    {
      "cell_type": "code",
      "source": "type(df.Date[0])",
      "metadata": {
        "trusted": true
      },
      "execution_count": 63,
      "outputs": [
        {
          "execution_count": 63,
          "output_type": "execute_result",
          "data": {
            "text/plain": "pandas._libs.tslibs.timestamps.Timestamp"
          },
          "metadata": {}
        }
      ]
    },
    {
      "cell_type": "code",
      "source": "",
      "metadata": {},
      "execution_count": null,
      "outputs": []
    }
  ]
}